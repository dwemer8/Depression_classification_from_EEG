{
 "cells": [
  {
   "cell_type": "code",
   "execution_count": 1,
   "id": "b5d31ffc",
   "metadata": {
    "papermill": {
     "duration": 0.244935,
     "end_time": "2023-12-09T21:36:15.924752",
     "exception": false,
     "start_time": "2023-12-09T21:36:15.679817",
     "status": "completed"
    },
    "tags": []
   },
   "outputs": [],
   "source": [
    "# !pip uninstall torch torchvision torchaudio -y"
   ]
  },
  {
   "cell_type": "code",
   "execution_count": 2,
   "id": "576640c3",
   "metadata": {
    "papermill": {
     "duration": 0.243794,
     "end_time": "2023-12-09T21:36:16.408446",
     "exception": false,
     "start_time": "2023-12-09T21:36:16.164652",
     "status": "completed"
    },
    "scrolled": true,
    "tags": []
   },
   "outputs": [],
   "source": [
    "# !pip3 install torch torchvision torchaudio --index-url https://download.pytorch.org/whl/cu117"
   ]
  },
  {
   "cell_type": "code",
   "execution_count": 3,
   "id": "157da851",
   "metadata": {
    "editable": true,
    "id": "qADYGk7ZpvHb",
    "outputId": "b376d164-1a61-4cc3-f008-17f63ae82bcd",
    "papermill": {
     "duration": 0.242633,
     "end_time": "2023-12-09T21:36:16.886705",
     "exception": false,
     "start_time": "2023-12-09T21:36:16.644072",
     "status": "completed"
    },
    "slideshow": {
     "slide_type": ""
    },
    "tags": []
   },
   "outputs": [],
   "source": [
    "# !pip install mne -q\n",
    "# !pip install wandb -q\n",
    "# !pip install tensorboard -q"
   ]
  },
  {
   "cell_type": "code",
   "execution_count": 4,
   "id": "d00c147e",
   "metadata": {
    "editable": true,
    "id": "hb3mJBNspFLN",
    "outputId": "2cd74029-55f6-416b-eca4-b2f1dcc0010d",
    "papermill": {
     "duration": 0.251024,
     "end_time": "2023-12-09T21:36:17.375951",
     "exception": false,
     "start_time": "2023-12-09T21:36:17.124927",
     "status": "completed"
    },
    "slideshow": {
     "slide_type": ""
    },
    "tags": []
   },
   "outputs": [
    {
     "name": "stdout",
     "output_type": "stream",
     "text": [
      "Linux\n"
     ]
    }
   ],
   "source": [
    "import platform\n",
    "\n",
    "# choose system according your current machine\n",
    "# SYSTEM_NAME = \"Windows\"\n",
    "# SYSTEM_NAME = \"Colab\"\n",
    "# SYSTEM_NAME = \"Kaggle\"\n",
    "SYSTEM_NAME = \"Linux\"\n",
    "\n",
    "if SYSTEM_NAME == \"Colab\":\n",
    "    from google.colab import drive\n",
    "    drive.mount('/content/drive/')\n",
    "    \n",
    "print(SYSTEM_NAME)"
   ]
  },
  {
   "cell_type": "markdown",
   "id": "1e4af5ed",
   "metadata": {
    "id": "u9hcW97IpFLP",
    "papermill": {
     "duration": 0.23434,
     "end_time": "2023-12-09T21:36:17.845916",
     "exception": false,
     "start_time": "2023-12-09T21:36:17.611576",
     "status": "completed"
    },
    "tags": []
   },
   "source": [
    "# Constants and libraries"
   ]
  },
  {
   "cell_type": "code",
   "execution_count": 5,
   "id": "419cb76b",
   "metadata": {
    "id": "PiYjVrHyrhyA",
    "papermill": {
     "duration": 0.25604,
     "end_time": "2023-12-09T21:36:18.338652",
     "exception": false,
     "start_time": "2023-12-09T21:36:18.082612",
     "status": "completed"
    },
    "tags": []
   },
   "outputs": [
    {
     "name": "stdout",
     "output_type": "stream",
     "text": [
      "PROJECT_FOLDER = ''\n",
      "SRC_FOLDER = ''\n",
      "OUTPUT_FOLDER = ''\n",
      "\n",
      "TUAB_DIRECTORY = 'Data/TUAB/'\n",
      "TUAB_TRAIN = 'Data/TUAB/train/normal/01_tcp_ar/'\n",
      "TUAB_EVAL = 'Data/TUAB/eval/normal/01_tcp_ar/'\n",
      "\n",
      "DEPR_ANON_DIRECTORY = 'Data/depression_anonymized/'\n",
      "\n",
      "INHOUSE_DIRECTORY = 'Data/inhouse_dataset/EEG_baseline_with_markers_cleaned/preprocessed_data/EEG_baseline/'\n",
      "\n"
     ]
    }
   ],
   "source": [
    "# Project folder\n",
    "if SYSTEM_NAME == \"Windows\": PROJECT_FOLDER = \"\"\n",
    "elif SYSTEM_NAME == \"Colab\": PROJECT_FOLDER = \"drive/MyDrive/Colab Notebooks/Neuroimaging and ML Group/Autoencoders/\"  \n",
    "elif SYSTEM_NAME == \"Kaggle\": PROJECT_FOLDER = \"/kaggle/\"  \n",
    "elif SYSTEM_NAME == \"Linux\": PROJECT_FOLDER = \"\"\n",
    "else: raise ValueError(\"Unknown system name\")\n",
    "    \n",
    "if SYSTEM_NAME in [\"Windows\", \"Colab\", \"Linux\"]: SRC_FOLDER = PROJECT_FOLDER\n",
    "elif SYSTEM_NAME == \"Kaggle\": SRC_FOLDER = PROJECT_FOLDER + \"input/eeg-age-prediction-utils/\"\n",
    "else: raise ValueError(\"Unknown system name\")\n",
    "    \n",
    "if SYSTEM_NAME in [\"Windows\", \"Colab\", \"Linux\"]: OUTPUT_FOLDER = PROJECT_FOLDER\n",
    "elif SYSTEM_NAME == \"Kaggle\": OUTPUT_FOLDER = PROJECT_FOLDER + \"working/\"\n",
    "else: raise ValueError(\"Unknown system name\")\n",
    "\n",
    "print(f\"{PROJECT_FOLDER = }\")\n",
    "print(f\"{SRC_FOLDER = }\")\n",
    "print(f\"{OUTPUT_FOLDER = }\")\n",
    "print()\n",
    "\n",
    "# TUAB\n",
    "if SYSTEM_NAME in [\"Windows\", \"Colab\", \"Linux\"]: TUAB_DIRECTORY = PROJECT_FOLDER + \"Data/TUAB/\"\n",
    "elif SYSTEM_NAME == \"Kaggle\": TUAB_DIRECTORY = PROJECT_FOLDER + \"input/tuab-age-prediction-60-s-all-records/TUAB/\"\n",
    "else: raise ValueError(\"Unknown system name\")\n",
    "\n",
    "if SYSTEM_NAME in [\"Windows\", \"Linux\", \"Colab\"]: TUAB_TRAIN = TUAB_DIRECTORY + \"train/normal/01_tcp_ar/\"\n",
    "elif SYSTEM_NAME in [\"Kaggle\"]: TUAB_TRAIN = TUAB_DIRECTORY + \"train/\"\n",
    "else: raise ValueError(\"Unknown system name\")\n",
    "\n",
    "if SYSTEM_NAME in [\"Windows\", \"Linux\", \"Colab\"]: TUAB_EVAL = TUAB_DIRECTORY + \"eval/normal/01_tcp_ar/\"\n",
    "elif SYSTEM_NAME in [\"Kaggle\"]: TUAB_EVAL = TUAB_DIRECTORY + \"eval/\"\n",
    "else: raise ValueError(\"Unknown system name\")\n",
    "\n",
    "print(f\"{TUAB_DIRECTORY = }\")\n",
    "print(f\"{TUAB_TRAIN = }\")\n",
    "print(f\"{TUAB_EVAL = }\")\n",
    "print()\n",
    "\n",
    "# Depression anonymized\n",
    "if SYSTEM_NAME in [\"Windows\", \"Linux\", \"Colab\"]: DEPR_ANON_DIRECTORY = PROJECT_FOLDER + \"Data/depression_anonymized/\" #in microvolts\n",
    "elif SYSTEM_NAME == \"Kaggle\": DEPR_ANON_DIRECTORY = PROJECT_FOLDER + \"input/depression-anonymized/\"\n",
    "else: raise NotImplementedError \n",
    "print(f\"{DEPR_ANON_DIRECTORY = }\")\n",
    "print()\n",
    "\n",
    "#Inhouse dataset\n",
    "if SYSTEM_NAME in [\"Windows\", \"Linux\", \"Colab\"]: INHOUSE_DIRECTORY = PROJECT_FOLDER + \"Data/inhouse_dataset/EEG_baseline_with_markers_cleaned/preprocessed_data/EEG_baseline/\"\n",
    "elif SYSTEM_NAME == \"Kaggle\": INHOUSE_DIRECTORY = PROJECT_FOLDER + \"input/inhouse-dataset/\"\n",
    "else: raise NotImplementedError\n",
    "print(f\"{INHOUSE_DIRECTORY = }\")\n",
    "print()\n",
    "\n",
    "# Constants\n",
    "SAMPLING_FREQUENCY = 250 #Hz\n",
    "L_FREQ = 0.1 #Hz\n",
    "H_FREQ = 30 #Hz\n",
    "AMPLITUDE_THRESHOLD = 0.005 #V\n",
    "STD_THRESHOLD = 5\n",
    "TRANSIENT_STD_THRESHOLD = 3\n",
    "SEED = 42"
   ]
  },
  {
   "cell_type": "code",
   "execution_count": 6,
   "id": "e727de23",
   "metadata": {
    "id": "xhokb8oipFLR",
    "outputId": "b86fecdb-1101-40ee-df27-23de85372207",
    "papermill": {
     "duration": 22.337897,
     "end_time": "2023-12-09T21:36:40.911773",
     "exception": false,
     "start_time": "2023-12-09T21:36:18.573876",
     "status": "completed"
    },
    "tags": []
   },
   "outputs": [
    {
     "name": "stdout",
     "output_type": "stream",
     "text": [
      "\u001b[34m\u001b[1mwandb\u001b[0m: Appending key for api.wandb.ai to your netrc file: /root/.netrc\n",
      "cuda\n"
     ]
    }
   ],
   "source": [
    "import warnings\n",
    "warnings.simplefilter(\"ignore\")\n",
    "\n",
    "import os\n",
    "import pickle\n",
    "from tqdm.auto import tqdm as tqdm_auto\n",
    "import sys\n",
    "sys.path.append(SRC_FOLDER)\n",
    "from utils import *\n",
    "\n",
    "import numpy as np\n",
    "import pandas as pd\n",
    "import matplotlib.pyplot as plt\n",
    "from matplotlib import rc\n",
    "rc('animation', html='jshtml')\n",
    "\n",
    "from sklearn.preprocessing import StandardScaler\n",
    "from sklearn.pipeline import Pipeline\n",
    "from sklearn.linear_model import LinearRegression, Lasso, Ridge\n",
    "import torch\n",
    "import torch.nn as nn\n",
    "\n",
    "from torch.utils.tensorboard import SummaryWriter\n",
    "%load_ext tensorboard\n",
    "\n",
    "import wandb\n",
    "!wandb login 1b8e8dc9dcf1a34397a04197c4826d3fe7441dae\n",
    "\n",
    "import mne\n",
    "\n",
    "%load_ext autoreload\n",
    "%autoreload 1\n",
    "%aimport utils\n",
    "\n",
    "device = \"cuda\" if torch.cuda.is_available() else \"cpu\"\n",
    "print(device)"
   ]
  },
  {
   "cell_type": "markdown",
   "id": "59817433",
   "metadata": {
    "id": "1s3ANvBMpFLR",
    "papermill": {
     "duration": 0.236639,
     "end_time": "2023-12-09T21:36:41.387444",
     "exception": false,
     "start_time": "2023-12-09T21:36:41.150805",
     "status": "completed"
    },
    "tags": []
   },
   "source": [
    "# Data preview"
   ]
  },
  {
   "cell_type": "code",
   "execution_count": 7,
   "id": "fe7a1c4e",
   "metadata": {
    "papermill": {
     "duration": 0.243439,
     "end_time": "2023-12-09T21:36:41.866334",
     "exception": false,
     "start_time": "2023-12-09T21:36:41.622895",
     "status": "completed"
    },
    "tags": []
   },
   "outputs": [],
   "source": [
    "def tree(data_dir, n_files=2):\n",
    "    for dir, _, filenames in os.walk(data_dir):\n",
    "        print(dir)\n",
    "        for filename in filenames[:n_files]:\n",
    "            print(os.path.join(dir, filename))"
   ]
  },
  {
   "cell_type": "markdown",
   "id": "ac63b6ae",
   "metadata": {
    "papermill": {
     "duration": 0.2331,
     "end_time": "2023-12-09T21:36:42.336781",
     "exception": false,
     "start_time": "2023-12-09T21:36:42.103681",
     "status": "completed"
    },
    "tags": []
   },
   "source": [
    "### TUAB"
   ]
  },
  {
   "cell_type": "code",
   "execution_count": 8,
   "id": "85d9bea6",
   "metadata": {
    "id": "gGkAptQMpFLS",
    "outputId": "8a12c030-43f8-4dd8-f45f-37664b51ac46",
    "papermill": {
     "duration": 0.252439,
     "end_time": "2023-12-09T21:36:42.825112",
     "exception": false,
     "start_time": "2023-12-09T21:36:42.572673",
     "status": "completed"
    },
    "tags": []
   },
   "outputs": [
    {
     "name": "stdout",
     "output_type": "stream",
     "text": [
      "Data/TUAB/\n",
      "Data/TUAB/AAREADME.txt\n",
      "Data/TUAB/train\n",
      "Data/TUAB/train/normal\n",
      "Data/TUAB/train/normal/01_tcp_ar\n",
      "Data/TUAB/train/normal/01_tcp_ar/aaaaajab_s002_t000_targets.npy\n",
      "Data/TUAB/train/normal/01_tcp_ar/aaaaaebo_s003_t001_targets.npy\n",
      "Data/TUAB/eval\n",
      "Data/TUAB/eval/normal\n",
      "Data/TUAB/eval/normal/01_tcp_ar\n",
      "Data/TUAB/eval/normal/01_tcp_ar/aaaaajnu_s001_t000_chunks_fz_cz_pz_3x124.npy\n",
      "Data/TUAB/eval/normal/01_tcp_ar/aaaaamfu_s001_t000_chunks_fz_cz_pz_3x124.npy\n"
     ]
    }
   ],
   "source": [
    "tree(TUAB_DIRECTORY)"
   ]
  },
  {
   "cell_type": "code",
   "execution_count": 9,
   "id": "f22d188d",
   "metadata": {
    "id": "lPK6UfAypFLS",
    "outputId": "6e586124-e5da-40ee-fde0-995cc8fe9623",
    "papermill": {
     "duration": 0.242955,
     "end_time": "2023-12-09T21:36:43.305398",
     "exception": false,
     "start_time": "2023-12-09T21:36:43.062443",
     "status": "completed"
    },
    "tags": []
   },
   "outputs": [],
   "source": [
    "# raw = mne.io.read_raw_edf(TUAB_TRAIN + \"/aaaaaaff_s002_t000.edf\", preload=False)\n",
    "# print(raw.ch_names, \"\\nDuration:\", raw.times[-1]/60, \"m\")\n",
    "# display(raw.info)\n",
    "# raw.plot(n_channels=21, duration=100, scalings=100e-6, start=20);#.set_size_inches(5, 5, forward=True)"
   ]
  },
  {
   "cell_type": "markdown",
   "id": "ce5f1ec1",
   "metadata": {
    "papermill": {
     "duration": 0.233832,
     "end_time": "2023-12-09T21:36:43.819742",
     "exception": false,
     "start_time": "2023-12-09T21:36:43.585910",
     "status": "completed"
    },
    "tags": []
   },
   "source": [
    "### Depression anonymized"
   ]
  },
  {
   "cell_type": "code",
   "execution_count": 10,
   "id": "ced1faa6",
   "metadata": {
    "papermill": {
     "duration": 0.291434,
     "end_time": "2023-12-09T21:36:44.349003",
     "exception": false,
     "start_time": "2023-12-09T21:36:44.057569",
     "status": "completed"
    },
    "tags": []
   },
   "outputs": [
    {
     "name": "stdout",
     "output_type": "stream",
     "text": [
      "Data/depression_anonymized/\n",
      "Data/depression_anonymized/chunks_fz_cz_pz_3x124_healthy.npy\n",
      "Data/depression_anonymized/targets.npy\n",
      "Data/depression_anonymized/epoch_3\n",
      "Data/depression_anonymized/epoch_3/17503e670d10b4eb.csv\n",
      "Data/depression_anonymized/epoch_3/78357506dc397116.csv\n",
      "Data/depression_anonymized/epoch_1\n",
      "Data/depression_anonymized/epoch_1/3bde43ff334f2463.csv\n",
      "Data/depression_anonymized/epoch_1/7bf558baa390813a.csv\n",
      "Data/depression_anonymized/epoch_1/.ipynb_checkpoints\n",
      "Data/depression_anonymized/epoch_1/.ipynb_checkpoints/0046a00e1f0406c0-checkpoint.csv\n",
      "Data/depression_anonymized/epoch_1/.ipynb_checkpoints/path_file-checkpoint.csv\n"
     ]
    }
   ],
   "source": [
    "tree(DEPR_ANON_DIRECTORY)"
   ]
  },
  {
   "cell_type": "markdown",
   "id": "f8f460d0",
   "metadata": {
    "papermill": {
     "duration": 0.233972,
     "end_time": "2023-12-09T21:36:44.818312",
     "exception": false,
     "start_time": "2023-12-09T21:36:44.584340",
     "status": "completed"
    },
    "tags": []
   },
   "source": [
    "### Inhouse dataset"
   ]
  },
  {
   "cell_type": "code",
   "execution_count": 11,
   "id": "2cd83ad6",
   "metadata": {
    "papermill": {
     "duration": 0.247239,
     "end_time": "2023-12-09T21:36:45.301178",
     "exception": false,
     "start_time": "2023-12-09T21:36:45.053939",
     "status": "completed"
    },
    "tags": []
   },
   "outputs": [
    {
     "name": "stdout",
     "output_type": "stream",
     "text": [
      "Data/inhouse_dataset/EEG_baseline_with_markers_cleaned/preprocessed_data/EEG_baseline/\n",
      "Data/inhouse_dataset/EEG_baseline_with_markers_cleaned/preprocessed_data/EEG_baseline/path_file.csv\n",
      "Data/inhouse_dataset/EEG_baseline_with_markers_cleaned/preprocessed_data/EEG_baseline/._.DS_Store\n",
      "Data/inhouse_dataset/EEG_baseline_with_markers_cleaned/preprocessed_data/EEG_baseline/MDD\n",
      "Data/inhouse_dataset/EEG_baseline_with_markers_cleaned/preprocessed_data/EEG_baseline/MDD/clean_S1421.csv\n",
      "Data/inhouse_dataset/EEG_baseline_with_markers_cleaned/preprocessed_data/EEG_baseline/MDD/clean_S1082.csv\n",
      "Data/inhouse_dataset/EEG_baseline_with_markers_cleaned/preprocessed_data/EEG_baseline/Health\n",
      "Data/inhouse_dataset/EEG_baseline_with_markers_cleaned/preprocessed_data/EEG_baseline/Health/clean_S1211.csv\n",
      "Data/inhouse_dataset/EEG_baseline_with_markers_cleaned/preprocessed_data/EEG_baseline/Health/clean_S271.csv\n"
     ]
    }
   ],
   "source": [
    "tree(INHOUSE_DIRECTORY)"
   ]
  },
  {
   "cell_type": "markdown",
   "id": "3b4d04ba",
   "metadata": {
    "id": "sIavQ0ClpFLS",
    "papermill": {
     "duration": 0.23423,
     "end_time": "2023-12-09T21:36:45.770298",
     "exception": false,
     "start_time": "2023-12-09T21:36:45.536068",
     "status": "completed"
    },
    "tags": []
   },
   "source": [
    "# Data preprocessing and saving"
   ]
  },
  {
   "cell_type": "markdown",
   "id": "206487e9",
   "metadata": {
    "jp-MarkdownHeadingCollapsed": true,
    "papermill": {
     "duration": 0.237226,
     "end_time": "2023-12-09T21:36:46.242824",
     "exception": false,
     "start_time": "2023-12-09T21:36:46.005598",
     "status": "completed"
    },
    "tags": []
   },
   "source": [
    "### TUAB"
   ]
  },
  {
   "cell_type": "code",
   "execution_count": 12,
   "id": "5596f1a4",
   "metadata": {
    "id": "CbpWbWddpFLT",
    "outputId": "5330dcd7-ba7c-47b2-b4d8-941d4b19a133",
    "papermill": {
     "duration": 0.242559,
     "end_time": "2023-12-09T21:36:46.724429",
     "exception": false,
     "start_time": "2023-12-09T21:36:46.481870",
     "status": "completed"
    },
    "tags": []
   },
   "outputs": [],
   "source": [
    "# for directory, _, file_names in os.walk(TUAB_DIRECTORY):\n",
    "#     print(directory)\n",
    "#     for file_name in file_names:\n",
    "#         if \".csv_chunks_fz_cz_pz_3x124.npy\" in file_name or \".csv_targets.npy\" in file_name:\n",
    "#             os.remove(os.path.join(directory, file_name))"
   ]
  },
  {
   "cell_type": "code",
   "execution_count": 13,
   "id": "3146c343",
   "metadata": {
    "id": "Vm0PAEBYpFLT",
    "papermill": {
     "duration": 0.254858,
     "end_time": "2023-12-09T21:36:47.217880",
     "exception": false,
     "start_time": "2023-12-09T21:36:46.963022",
     "status": "completed"
    },
    "tags": []
   },
   "outputs": [],
   "source": [
    "# def readCsv(file_name):\n",
    "#     file_obj = open(file_name, \"r\")\n",
    "#     age = int(file_obj.readline()[8:-1])\n",
    "#     data = file_obj.readlines()\n",
    "#     file_obj.close()\n",
    "#     data[0] = data[0].replace(\"# \", \"\")\n",
    "#     processed_file_name = str(age) + \".csv\"\n",
    "#     processed_file_obj = open(processed_file_name, \"w\")\n",
    "#     processed_file_obj.writelines(data)\n",
    "#     df = pd.read_csv(processed_file_name)\n",
    "#     processed_file_obj.close()\n",
    "#     os.remove(processed_file_name)\n",
    "#     return df, age\n",
    "\n",
    "# def df2edf(df, sfreq=SAMPLING_FREQUENCY):\n",
    "#     ch_names = df.columns.to_list()\n",
    "#     ch_types = ['eeg'] * len(ch_names)\n",
    "#     info = mne.create_info(ch_names, ch_types=ch_types, sfreq=sfreq)\n",
    "#     return mne.io.RawArray(df[ch_names].to_numpy(copy=True).T / 1e6, info, verbose=False) #data in microvolts\n",
    "\n",
    "# def selectChunks(df, ch_names, chunk_duration=124, n_chunks_max=None):\n",
    "#     chunks = []\n",
    "#     start_idx = 0\n",
    "#     end_idx = start_idx + chunk_duration\n",
    "\n",
    "#     while end_idx <= df.shape[0]:\n",
    "#         if n_chunks_max != None and len(chunks) >= n_chunks_max:\n",
    "#             break\n",
    "\n",
    "#         chunk = df.iloc[start_idx:end_idx]\n",
    "#         if len(chunk) != chunk_duration:\n",
    "#             print(f\"WARNING: chunk shape = {chunk.shape}\")\n",
    "#             start_idx = end_idx\n",
    "#             end_idx += chunk_duration\n",
    "#             continue\n",
    "\n",
    "#         #std = 5 threshold\n",
    "#         if chunk[ch_names].to_numpy().std() >= 5:\n",
    "#             start_idx = end_idx\n",
    "#             end_idx += chunk_duration\n",
    "#             continue\n",
    "\n",
    "#         # std t, t+1 threshold\n",
    "#         # drop = False\n",
    "#         # for col in chunk[ch_names]:\n",
    "#         #     timeseries = chunk[col].to_numpy()\n",
    "#         #     for i in range(len(timeseries) - 1):\n",
    "#         #         if np.std([timeseries[i], timeseries[i + 1]]) >= 3:\n",
    "#         #             drop = True\n",
    "#         #             break\n",
    "#         #     if drop:\n",
    "#         #         break\n",
    "#         # if drop:\n",
    "#         #     continue\n",
    "\n",
    "#         chunks.append(chunk)\n",
    "#         start_idx = end_idx\n",
    "#         end_idx += chunk_duration\n",
    "\n",
    "#     return chunks\n",
    "\n",
    "# def getAge(file_name):\n",
    "#     f = open(file_name, \"r\", encoding=\"utf-8\")\n",
    "#     try:\n",
    "#         buffer = \"1234\"\n",
    "#         while buffer != \"Age:\":\n",
    "#             buffer = buffer[1:] + f.read(1)\n",
    "\n",
    "#         age = f.read(2)\n",
    "#         f.close()\n",
    "#         return int(age)\n",
    "\n",
    "#     except (UnicodeDecodeError, KeyboardInterrupt, ValueError) as error:\n",
    "#         f.close()\n",
    "#         return \"error\"\n",
    "\n",
    "# def preprocessRecord(\n",
    "#         file_name,\n",
    "#         verbose=False,\n",
    "#         channels_to_drop=['EEG ROC-REF', 'EEG LOC-REF', 'EEG EKG1-REF', 'PHOTIC-REF', 'IBI', 'BURSTS', 'SUPPR'],\n",
    "#         sfreq=125,\n",
    "#         l_freq=L_FREQ,\n",
    "#         h_freq=H_FREQ,\n",
    "#         ampl_thresh=AMPLITUDE_THRESHOLD\n",
    "#     ):\n",
    "#     #average reference, filtration\n",
    "#     raw = mne.io.read_raw_edf(file_name, preload=False, verbose=verbose) #data in microvolts\n",
    "#     raw = raw.drop_channels(channels_to_drop, on_missing=\"warn\")\n",
    "#     raw = raw.resample(sfreq, npad='auto')\n",
    "#     raw, _ = mne.set_eeg_reference(raw, ref_channels='average', verbose=verbose) #average reference\n",
    "#     raw.filter(l_freq=l_freq, h_freq=h_freq, method='iir', verbose=verbose) #filtration\n",
    "#     df = raw.to_data_frame() #in microvolts\n",
    "#     ch_names = raw.ch_names\n",
    "\n",
    "#     #clipping\n",
    "#     df.loc[:, ch_names].clip(-ampl_thresh, ampl_thresh, inplace=True)\n",
    "\n",
    "#     #normalization\n",
    "#     df.loc[:, ch_names] = (df[ch_names] - df[ch_names].mean())/df[ch_names].std()\n",
    "\n",
    "#     return df, ch_names #time is also among columns\n",
    "\n",
    "# def processDirectoryData(\n",
    "#         directory,\n",
    "#         picked_channels,\n",
    "#         n_files=None,\n",
    "#         file_type = \"edf\",\n",
    "#         chunks_file_suffix = \"_chunks_fz_cz_pz_3x124\",\n",
    "#         targets_file_suffix = \"_targets\",\n",
    "#         is_save = True,\n",
    "#         is_return = True,\n",
    "#         force_recompute = False,\n",
    "#         **kwargs):\n",
    "#     n_files_read = 0\n",
    "#     n_files_passed = 0\n",
    "\n",
    "#     if n_files is not None:\n",
    "#         file_names = os.listdir(directory)[:n_files]\n",
    "#     else:\n",
    "#         file_names = os.listdir(directory)\n",
    "\n",
    "#     if is_return:\n",
    "#         bunch_of_chunks_list = []\n",
    "#         bunch_of_targets_list = []\n",
    "\n",
    "#     for file_name in tqdm_auto(file_names):\n",
    "#         if fileExtension(file_name) == file_type and \\\n",
    "#             (force_recompute or \\\n",
    "#              not (os.path.exists(directory + fileName(file_name) + chunks_file_suffix + \".npy\") and \\\n",
    "#                   os.path.exists(directory + fileName(file_name) + targets_file_suffix + \".npy\")\\\n",
    "#                  )\\\n",
    "#             ):\n",
    "#             chunks_list = []\n",
    "#             targets_list = []\n",
    "\n",
    "#             age = getAge(directory + file_name)\n",
    "#             if age == \"error\":\n",
    "#                 n_files_passed += 1\n",
    "#                 print(f\"File {file_name} was passed, passed files: {n_files_passed}, read files: {n_files_read}\")\n",
    "#                 continue\n",
    "#             n_files_read += 1\n",
    "\n",
    "#             df, ch_names = preprocessRecord(directory + file_name)\n",
    "#             chunks_from_record = selectChunks(df, ch_names, **kwargs)\n",
    "#             for chunk in chunks_from_record:\n",
    "#                 image = chunk[picked_channels].to_numpy().T\n",
    "#                 chunks_list.append(image)\n",
    "#                 targets_list.append(age)\n",
    "\n",
    "#             chunks = np.array(chunks_list)\n",
    "#             targets = np.array(targets_list)\n",
    "\n",
    "#             if is_return:\n",
    "#                 bunch_of_chunks_list.append(chunks)\n",
    "#                 bunch_of_targets_list.append(targets)\n",
    "\n",
    "#             if is_save:\n",
    "#                 np.save(directory + fileName(file_name) + chunks_file_suffix, chunks)\n",
    "#                 np.save(directory + fileName(file_name) + targets_file_suffix, targets)\n",
    "\n",
    "#     print(f\"Read files: {n_files_read}, passed files: {n_files_passed}\")\n",
    "#     if is_return:\n",
    "#         return np.concatenate(bunch_of_chunks_list), np.concatenate(bunch_of_targets_list)\n"
   ]
  },
  {
   "cell_type": "code",
   "execution_count": 14,
   "id": "4e8e4cd7",
   "metadata": {
    "id": "NVIjlVM_pFLU",
    "outputId": "fc968780-dbc0-4182-cf59-0a320d8868ff",
    "papermill": {
     "duration": 0.246098,
     "end_time": "2023-12-09T21:36:47.702682",
     "exception": false,
     "start_time": "2023-12-09T21:36:47.456584",
     "status": "completed"
    },
    "tags": []
   },
   "outputs": [],
   "source": [
    "# picked_channels = ['EEG FZ-REF', 'EEG CZ-REF', 'EEG PZ-REF']\n",
    "# chunks_file_name = \"chunks_fz_cz_pz_3x124\"\n",
    "# targets_file_name = \"targets\"\n",
    "# for directory in [TUAB_TRAIN, TUAB_EVAL]:\n",
    "#     chunks, targets = processDirectoryData(\n",
    "#         directory,\n",
    "#         picked_channels,\n",
    "#         n_chunks_max=60,\n",
    "#         force_recompute=True,\n",
    "#         chunks_file_suffix=\"_\"+chunks_file_name,\n",
    "#         targets_file_suffix=\"_\"+targets_file_name\n",
    "#     )\n",
    "#     np.save(directory + chunks_file_name, chunks)\n",
    "#     np.save(directory + targets_file_name, targets)"
   ]
  },
  {
   "cell_type": "code",
   "execution_count": 15,
   "id": "6aeaca69",
   "metadata": {
    "id": "kNuaGvB5pFLU",
    "outputId": "cec94a2b-aaf4-49d1-ee12-8af4462c20b7",
    "papermill": {
     "duration": 0.249724,
     "end_time": "2023-12-09T21:36:48.188399",
     "exception": false,
     "start_time": "2023-12-09T21:36:47.938675",
     "status": "completed"
    },
    "tags": []
   },
   "outputs": [],
   "source": [
    "#concatenate .npy files together\n",
    "# for directory in [TUAB_TRAIN, TUAB_EVAL]:\n",
    "#     print(directory)\n",
    "#     chunks_list = []\n",
    "#     targets_list = []\n",
    "#     for file_name in [directory + chunks_file_name + \".npy\", directory + targets_file_name + \".npy\"]: #delete only files with all chunks\n",
    "#         if os.path.exists(file_name):\n",
    "#             os.remove(file_name)\n",
    "\n",
    "#     for i, file_name in enumerate(tqdm_auto(os.listdir(directory))): #iterate through files from every csv file\n",
    "#         if chunks_file_name in file_name or targets_file_name in file_name:\n",
    "#             data = np.load(directory + file_name)\n",
    "#             if targets_file_name in file_name:\n",
    "#                 targets_list.append(data)\n",
    "#             else:\n",
    "#                 chunks_list.append(data)\n",
    "\n",
    "#     chunks = np.array(chunks_list).reshape(-1, 1, 3, 124)\n",
    "#     targets = np.array(targets_list).reshape(-1)\n",
    "#     print(\"Chunks:\", chunks.shape, \"targets:\", targets.shape)\n",
    "#     prefix = \"train_\" if directory == TUAB_TRAIN else \"eval_\"\n",
    "#     np.save(directory + \"../\" + prefix + chunks_file_name, chunks)\n",
    "#     np.save(directory + \"../\" + prefix + targets_file_name, targets)"
   ]
  },
  {
   "cell_type": "markdown",
   "id": "6f3d4190",
   "metadata": {
    "jp-MarkdownHeadingCollapsed": true,
    "papermill": {
     "duration": 0.233809,
     "end_time": "2023-12-09T21:36:48.658001",
     "exception": false,
     "start_time": "2023-12-09T21:36:48.424192",
     "status": "completed"
    },
    "tags": []
   },
   "source": [
    "### Depression anonymized"
   ]
  },
  {
   "cell_type": "code",
   "execution_count": 16,
   "id": "aa56fe96",
   "metadata": {
    "papermill": {
     "duration": 0.268487,
     "end_time": "2023-12-09T21:36:49.160836",
     "exception": false,
     "start_time": "2023-12-09T21:36:48.892349",
     "status": "completed"
    },
    "tags": []
   },
   "outputs": [],
   "source": [
    "# def pickChunks(df, ch_names):\n",
    "#     chunks = []\n",
    "#     start_idx = 0\n",
    "#     chunk_duration = 124\n",
    "#     end_idx = start_idx + chunk_duration\n",
    "\n",
    "#     while end_idx <= df.shape[0]:\n",
    "#         chunk = df.iloc[start_idx:end_idx]\n",
    "#         if len(chunk) != chunk_duration:\n",
    "#             print(f\"WARNING: chunk shape = {chunk.shape}\")\n",
    "#             start_idx = end_idx\n",
    "#             end_idx += chunk_duration\n",
    "#             continue\n",
    "\n",
    "#         #std = 5 threshold\n",
    "#         if chunk[ch_names].to_numpy().std() >= 5:\n",
    "#             start_idx = end_idx\n",
    "#             end_idx += chunk_duration\n",
    "#             continue\n",
    "\n",
    "#         # std t, t+1 threshold\n",
    "#         # drop = False\n",
    "#         # for col in chunk[ch_names]:\n",
    "#         #     timeseries = chunk[col].to_numpy()\n",
    "#         #     for i in range(len(timeseries) - 1):\n",
    "#         #         if np.std([timeseries[i], timeseries[i + 1]]) >= 3:\n",
    "#         #             drop = True\n",
    "#         #             break\n",
    "#         #     if drop:\n",
    "#         #         break\n",
    "#         # if drop:\n",
    "#         #     continue\n",
    "\n",
    "#         chunks.append(chunk)\n",
    "#         start_idx = end_idx\n",
    "#         end_idx += chunk_duration\n",
    "\n",
    "#     return chunks\n",
    "\n",
    "\n",
    "# def processPatientData(df):\n",
    "#     #average reference, filtration\n",
    "#     ch_names = df.columns.to_list()[1:] #delete 'time' #['t6', 't4', 'o1', 'f8', 'p4', 'c4', 't3', 'f7', 'f3', 'o2', 'f4', 'c3', 'p3', 't5', 'cz', 'fp1', 'fp2', 'pz', 'fz']\n",
    "#     ch_types = ['eeg'] * 19\n",
    "#     info = mne.create_info(ch_names, ch_types=ch_types, sfreq=125)\n",
    "#     raw = mne.io.RawArray(df[ch_names].to_numpy(copy=True).T / 1e6, info, verbose=False) #data in microvolts\n",
    "#     raw, _ = mne.set_eeg_reference(raw, ref_channels='average', verbose=False) #average reference\n",
    "#     raw.filter(l_freq=L_FREQ, h_freq=H_FREQ, method='iir', verbose=False) #filtration\n",
    "#     df = raw.to_data_frame() #in microvolts\n",
    "\n",
    "#     #clipping\n",
    "#     df.loc[:, ch_names].clip(-AMPLITUDE_THRESHOLD, AMPLITUDE_THRESHOLD, inplace=True)\n",
    "\n",
    "#     #normalization\n",
    "#     df.loc[:, ch_names] = (df[ch_names] - df[ch_names].mean())/df[ch_names].std()\n",
    "\n",
    "#     return pickChunks(df, ch_names)"
   ]
  },
  {
   "cell_type": "code",
   "execution_count": 17,
   "id": "3a636e8c",
   "metadata": {
    "papermill": {
     "duration": 0.243968,
     "end_time": "2023-12-09T21:36:49.644411",
     "exception": false,
     "start_time": "2023-12-09T21:36:49.400443",
     "status": "completed"
    },
    "tags": []
   },
   "outputs": [],
   "source": [
    "# epoch_folders = [\"epoch_1/\", \"epoch_3/\"]\n",
    "# picked_channels = [\"fz\", \"cz\", \"pz\"]\n",
    "# chunks_list = []\n",
    "\n",
    "# for epoch_folder in epoch_folders:\n",
    "#     print(epoch_folder)\n",
    "#     data_epoch_descr = pd.read_csv(DEPR_ANON_DIRECTORY + epoch_folder + \"path_file.csv\")\n",
    "#     data_epoch_list = readDataExt_one(DEPR_ANON_DIRECTORY + epoch_folder, exclude={\"path_file.csv\"}, is_list=True)\n",
    "\n",
    "#     for df in tqdm(data_epoch_list):\n",
    "#         # if data_epoch_descr[data_epoch_descr[\"fn\"] == df['file_name'].iloc[0]].iloc[0]['target'] == 1: #take only healthy\n",
    "#         #     continue\n",
    "\n",
    "#         # print(df['file_name'][0])\n",
    "#         chunks_from_patient = processPatientData(df.drop(['file_name'], axis=1))\n",
    "#         file_mask = data_epoch_descr[\"fn\"] == df['file_name'].iloc[0]\n",
    "#         target = data_epoch_descr[file_mask].iloc[0]['target']\n",
    "\n",
    "#         for chunk in chunks_from_patient:\n",
    "#             image = chunk[picked_channels].to_numpy().T\n",
    "#             chunks_list.append({\n",
    "#                 \"chunk\": image,\n",
    "#                 \"target\": target,\n",
    "#                 \"patient\": df['file_name'].iloc[0]\n",
    "#             })\n",
    "\n",
    "# print(\"\\nChunks shape:\", chunks_list[0][\"chunk\"].shape, \"length:\", len(chunks_list))"
   ]
  },
  {
   "cell_type": "code",
   "execution_count": 18,
   "id": "f69cee9d",
   "metadata": {
    "papermill": {
     "duration": 0.247029,
     "end_time": "2023-12-09T21:36:50.125536",
     "exception": false,
     "start_time": "2023-12-09T21:36:49.878507",
     "status": "completed"
    },
    "tags": []
   },
   "outputs": [],
   "source": [
    "# with open(DEPR_ANON_DIRECTORY + \"dataset.pkl\", \"wb\") as f:\n",
    "#     pickle.dump(chunks_list, f)"
   ]
  },
  {
   "cell_type": "markdown",
   "id": "580aaeaa",
   "metadata": {
    "jp-MarkdownHeadingCollapsed": true,
    "papermill": {
     "duration": 0.234752,
     "end_time": "2023-12-09T21:36:50.595065",
     "exception": false,
     "start_time": "2023-12-09T21:36:50.360313",
     "status": "completed"
    },
    "tags": []
   },
   "source": [
    "### Inhouse dataset"
   ]
  },
  {
   "cell_type": "code",
   "execution_count": 19,
   "id": "056f3c48",
   "metadata": {
    "papermill": {
     "duration": 0.249712,
     "end_time": "2023-12-09T21:36:51.079292",
     "exception": false,
     "start_time": "2023-12-09T21:36:50.829580",
     "status": "completed"
    },
    "tags": []
   },
   "outputs": [],
   "source": [
    "# def pickChunks(df, ch_names, n_samples_per_chunk=124):\n",
    "#     chunks = []\n",
    "#     start_idx = 0\n",
    "#     chunk_duration = n_samples_per_chunk\n",
    "#     end_idx = start_idx + chunk_duration\n",
    "\n",
    "#     while end_idx <= df.shape[0]:\n",
    "#         chunk = df.iloc[start_idx:end_idx]\n",
    "#         if len(chunk) != chunk_duration:\n",
    "#             print(f\"WARNING: chunk shape = {chunk.shape}\")\n",
    "#             start_idx = end_idx\n",
    "#             end_idx += chunk_duration\n",
    "#             continue\n",
    "\n",
    "#         #std = 5 threshold\n",
    "#         if chunk[ch_names].to_numpy().std() >= 5:\n",
    "#             start_idx = end_idx\n",
    "#             end_idx += chunk_duration\n",
    "#             continue\n",
    "\n",
    "#         # std t, t+1 threshold\n",
    "#         # drop = False\n",
    "#         # for col in chunk[ch_names]:\n",
    "#         #     timeseries = chunk[col].to_numpy()\n",
    "#         #     for i in range(len(timeseries) - 1):\n",
    "#         #         if np.std([timeseries[i], timeseries[i + 1]]) >= 3:\n",
    "#         #             drop = True\n",
    "#         #             break\n",
    "#         #     if drop:\n",
    "#         #         break\n",
    "#         # if drop:\n",
    "#         #     continue\n",
    "\n",
    "#         chunks.append(chunk)\n",
    "#         start_idx = end_idx\n",
    "#         end_idx += chunk_duration\n",
    "\n",
    "#     return chunks\n",
    "\n",
    "\n",
    "# def processPatientData(df, sfreq=125, sfreq_source=500):\n",
    "#     #average reference, filtration\n",
    "#     ch_names = df.columns.to_list()[1:] #delete 'time' #['Fp1', 'Fp2', 'F3', 'F4', 'Fz', 'C3', 'C4', 'Cz', 'P3', 'P4', 'Pz', 'O1', 'O2', 'F7', 'F8']\n",
    "#     ch_types = ['eeg'] * len(ch_names)\n",
    "#     info = mne.create_info(ch_names, ch_types=ch_types, sfreq=sfreq_source)\n",
    "#     raw = mne.io.RawArray(df[ch_names].to_numpy(copy=True).T / 1e6, info, verbose=False) #data in microvolts\n",
    "#     raw, _ = mne.set_eeg_reference(raw, ref_channels='average', verbose=False) #average reference\n",
    "#     raw.filter(l_freq=L_FREQ, h_freq=H_FREQ, method='iir', verbose=False) #filtration\n",
    "#     raw = raw.resample(sfreq, npad='auto')\n",
    "#     df = raw.to_data_frame() #in microvolts\n",
    "\n",
    "#     #clipping\n",
    "#     df.loc[:, ch_names].clip(-AMPLITUDE_THRESHOLD, AMPLITUDE_THRESHOLD, inplace=True)\n",
    "\n",
    "#     #normalization\n",
    "#     df.loc[:, ch_names] = (df[ch_names] - df[ch_names].mean())/df[ch_names].std()\n",
    "\n",
    "#     return pickChunks(df, ch_names, 124)"
   ]
  },
  {
   "cell_type": "code",
   "execution_count": 20,
   "id": "96075d8d",
   "metadata": {
    "papermill": {
     "duration": 0.249019,
     "end_time": "2023-12-09T21:36:51.564406",
     "exception": false,
     "start_time": "2023-12-09T21:36:51.315387",
     "status": "completed"
    },
    "tags": []
   },
   "outputs": [],
   "source": [
    "# data_folders = [\"MDD\", \"Health\"]\n",
    "# picked_channels = [\"Fz\", \"Cz\", \"Pz\"]\n",
    "# chunks_list = []\n",
    "\n",
    "# data_epoch_descr = pd.read_csv(os.path.join(INHOUSE_DIRECTORY, \"path_file.csv\")).drop([\"Unnamed: 0\"], axis=\"columns\")\n",
    "# data_epoch_descr[\"fn\"] = data_epoch_descr[\"fn\"].map(lambda x: x.split(\"/\")[1])\n",
    "# data_epoch_list = readDataExt_mul([os.path.join(INHOUSE_DIRECTORY, x) for x in data_folders], is_list=True)\n",
    "# data_epoch_list_ = []\n",
    "# for df_list in data_epoch_list: data_epoch_list_.extend(df_list)\n",
    "# data_epoch_list = data_epoch_list_\n",
    "\n",
    "# for df in tqdm(data_epoch_list):\n",
    "#     chunks_from_patient = processPatientData(df.drop(['file_name', \"Unnamed: 0\"], axis=1))\n",
    "#     file_mask = data_epoch_descr[\"fn\"] == df['file_name'].iloc[0]\n",
    "#     target = data_epoch_descr[file_mask].iloc[0]['target']\n",
    "\n",
    "#     for chunk in chunks_from_patient:\n",
    "#         image = chunk[picked_channels].to_numpy().T\n",
    "#         chunks_list.append({\n",
    "#             \"chunk\": image,\n",
    "#             \"target\": target,\n",
    "#             \"patient\": df['file_name'].iloc[0]\n",
    "#         })\n",
    "\n",
    "# print(\"\\nChunks shape:\", chunks_list[0][\"chunk\"].shape, \"length:\", len(chunks_list))"
   ]
  },
  {
   "cell_type": "code",
   "execution_count": 21,
   "id": "d9a4439f",
   "metadata": {
    "papermill": {
     "duration": 0.245826,
     "end_time": "2023-12-09T21:36:52.046030",
     "exception": false,
     "start_time": "2023-12-09T21:36:51.800204",
     "status": "completed"
    },
    "tags": []
   },
   "outputs": [],
   "source": [
    "# with open(os.path.join(INHOUSE_DIRECTORY + \"dataset.pkl\"), \"wb\") as f:\n",
    "#     pickle.dump(chunks_list, f)"
   ]
  },
  {
   "cell_type": "markdown",
   "id": "0d41ad95",
   "metadata": {
    "id": "UPjIv86UpFLV",
    "papermill": {
     "duration": 0.235318,
     "end_time": "2023-12-09T21:36:52.519049",
     "exception": false,
     "start_time": "2023-12-09T21:36:52.283731",
     "status": "completed"
    },
    "tags": []
   },
   "source": [
    "# Data load\n"
   ]
  },
  {
   "cell_type": "markdown",
   "id": "23a74fd4",
   "metadata": {
    "jp-MarkdownHeadingCollapsed": true,
    "papermill": {
     "duration": 0.235196,
     "end_time": "2023-12-09T21:36:52.989294",
     "exception": false,
     "start_time": "2023-12-09T21:36:52.754098",
     "status": "completed"
    },
    "tags": []
   },
   "source": [
    "### TUAB"
   ]
  },
  {
   "cell_type": "code",
   "execution_count": 22,
   "id": "0e11621d",
   "metadata": {
    "id": "GLoQu9VapFLV",
    "outputId": "a8aee5a4-bdc1-4a09-a58e-c4ead4557d81",
    "papermill": {
     "duration": 0.243346,
     "end_time": "2023-12-09T21:36:53.469939",
     "exception": false,
     "start_time": "2023-12-09T21:36:53.226593",
     "status": "completed"
    },
    "tags": []
   },
   "outputs": [],
   "source": [
    "# from sklearn.model_selection import train_test_split\n",
    "\n",
    "# chunks_train = np.load(TUAB_TRAIN + \"chunks_fz_cz_pz_3x124.npy\").reshape(-1, 1, 3, 124)\n",
    "# targets_train = np.load(TUAB_TRAIN + \"targets.npy\")\n",
    "# chunks_val_test = np.load(TUAB_EVAL + \"chunks_fz_cz_pz_3x124.npy\").reshape(-1, 1, 3, 124)\n",
    "# targets_val_test = np.load(TUAB_EVAL + \"targets.npy\")\n",
    "# chunks_val, chunks_test, targets_val, targets_test = train_test_split(chunks_val_test, targets_val_test, test_size=0.5, random_state=SEED, shuffle=False)\n",
    "# print(chunks_train.shape, targets_train.shape, chunks_val.shape, targets_val.shape, chunks_test.shape, targets_test.shape)"
   ]
  },
  {
   "cell_type": "markdown",
   "id": "23e9b46a",
   "metadata": {
    "papermill": {
     "duration": 0.232459,
     "end_time": "2023-12-09T21:36:53.936331",
     "exception": false,
     "start_time": "2023-12-09T21:36:53.703872",
     "status": "completed"
    },
    "tags": []
   },
   "source": [
    "### Depression anonimyzed"
   ]
  },
  {
   "cell_type": "code",
   "execution_count": 23,
   "id": "fa74b989",
   "metadata": {
    "papermill": {
     "duration": 0.763139,
     "end_time": "2023-12-09T21:36:54.936611",
     "exception": false,
     "start_time": "2023-12-09T21:36:54.173472",
     "status": "completed"
    },
    "tags": []
   },
   "outputs": [
    {
     "name": "stdout",
     "output_type": "stream",
     "text": [
      "\n",
      "Chunks shape: (3, 124) length: 10679 keys: dict_keys(['chunk', 'target', 'patient'])\n"
     ]
    }
   ],
   "source": [
    "with open(DEPR_ANON_DIRECTORY + \"dataset.pkl\", \"rb\") as f:\n",
    "    chunks_list = pickle.load(f)\n",
    "print(\"\\nChunks shape:\", chunks_list[0][\"chunk\"].shape, \"length:\", len(chunks_list), \"keys:\", chunks_list[0].keys())"
   ]
  },
  {
   "cell_type": "code",
   "execution_count": 24,
   "id": "eb0c59f0",
   "metadata": {
    "papermill": {
     "duration": 0.751562,
     "end_time": "2023-12-09T21:36:55.926947",
     "exception": false,
     "start_time": "2023-12-09T21:36:55.175385",
     "status": "completed"
    },
    "tags": []
   },
   "outputs": [
    {
     "name": "stdout",
     "output_type": "stream",
     "text": [
      "N patients = 178\n",
      "Train=142, validation=18, test=18\n"
     ]
    },
    {
     "name": "stderr",
     "output_type": "stream",
     "text": [
      "100%|█████████████████████████████████████████████████████████████████████████████████████████████████████████████████| 10679/10679 [00:00<00:00, 29863.02it/s]"
     ]
    },
    {
     "name": "stdout",
     "output_type": "stream",
     "text": [
      "Train: 8519 (3, 124)\n",
      "Valitation: 1080 (3, 124)\n",
      "Test: 1080 (3, 124)\n"
     ]
    },
    {
     "name": "stderr",
     "output_type": "stream",
     "text": [
      "\n"
     ]
    }
   ],
   "source": [
    "from sklearn.model_selection import train_test_split\n",
    "from copy import deepcopy\n",
    "\n",
    "patients_targets = pd.DataFrame.from_records([{\"patient\": x[\"patient\"], \"target\": x[\"target\"]} for x in chunks_list]).drop_duplicates().reset_index(drop=True)\n",
    "print(f\"N patients = {len(patients_targets)}\")\n",
    "\n",
    "patients_train, patients_val_test = train_test_split(patients_targets, test_size=0.2, random_state=SEED, stratify=patients_targets[\"target\"], shuffle=True)\n",
    "patients_val, patients_test = train_test_split(patients_val_test, test_size=0.5, random_state=SEED, stratify=patients_val_test[\"target\"], shuffle=True)\n",
    "patients_train, patients_val, patients_test = patients_train[\"patient\"].values, patients_val[\"patient\"].values, patients_test[\"patient\"].values\n",
    "print(f\"Train={len(patients_train)}, validation={len(patients_val)}, test={len(patients_test)}\")\n",
    "\n",
    "reset = {\"chunk\": [], \"target\": [], \"patient\": []}\n",
    "train_set, val_set, test_set = deepcopy(reset), deepcopy(reset), deepcopy(reset)\n",
    "\n",
    "for chunk in tqdm_auto(chunks_list):\n",
    "    patient_id = chunk[\"patient\"]\n",
    "    was_added = False\n",
    "    for data_set, patients in zip([train_set, val_set, test_set], [patients_train, patients_val, patients_test]):\n",
    "        if patient_id in patients:\n",
    "            for tag in [\"chunk\", \"target\", \"patient\"]:\n",
    "                data_set[tag].append(chunk[tag])\n",
    "                was_added = True\n",
    "        \n",
    "    if not was_added:\n",
    "        raise ValueError(f\"Unexpected patient id {patient_id}\")\n",
    "    \n",
    "for data_set in [train_set, val_set, test_set]:\n",
    "    data_set[\"chunk\"] = np.array(data_set[\"chunk\"])\n",
    "\n",
    "print(\"Train:\", len(train_set[\"chunk\"]), train_set[\"chunk\"][0].shape)\n",
    "print(\"Valitation:\", len(val_set[\"chunk\"]), val_set[\"chunk\"][0].shape)\n",
    "print(\"Test:\", len(test_set[\"chunk\"]), test_set[\"chunk\"][0].shape)"
   ]
  },
  {
   "cell_type": "code",
   "execution_count": 25,
   "id": "eba074e8",
   "metadata": {
    "papermill": {
     "duration": 0.247149,
     "end_time": "2023-12-09T21:36:56.413948",
     "exception": false,
     "start_time": "2023-12-09T21:36:56.166799",
     "status": "completed"
    },
    "tags": []
   },
   "outputs": [],
   "source": [
    "chunks_train, chunks_val, chunks_test = train_set[\"chunk\"], val_set[\"chunk\"], test_set[\"chunk\"]\n",
    "targets_train, targets_val, targets_test = train_set[\"target\"], val_set[\"target\"], test_set[\"target\"]"
   ]
  },
  {
   "cell_type": "markdown",
   "id": "310401e8",
   "metadata": {
    "jp-MarkdownHeadingCollapsed": true,
    "papermill": {
     "duration": 0.234221,
     "end_time": "2023-12-09T21:36:56.885164",
     "exception": false,
     "start_time": "2023-12-09T21:36:56.650943",
     "status": "completed"
    },
    "tags": []
   },
   "source": [
    "### Inhouse dataset"
   ]
  },
  {
   "cell_type": "code",
   "execution_count": 26,
   "id": "481bc78b",
   "metadata": {
    "papermill": {
     "duration": 0.270099,
     "end_time": "2023-12-09T21:36:57.393006",
     "exception": false,
     "start_time": "2023-12-09T21:36:57.122907",
     "status": "completed"
    },
    "tags": []
   },
   "outputs": [],
   "source": [
    "# with open(INHOUSE_DIRECTORY + \"dataset.pkl\", \"rb\") as f:\n",
    "#     chunks_list = pickle.load(f)\n",
    "# print(\"\\nChunks shape:\", chunks_list[0][\"chunk\"].shape, \"length:\", len(chunks_list), \"keys:\", chunks_list[0].keys())"
   ]
  },
  {
   "cell_type": "code",
   "execution_count": 27,
   "id": "2f4969c8",
   "metadata": {
    "papermill": {
     "duration": 0.263421,
     "end_time": "2023-12-09T21:36:57.916831",
     "exception": false,
     "start_time": "2023-12-09T21:36:57.653410",
     "status": "completed"
    },
    "tags": []
   },
   "outputs": [],
   "source": [
    "# from sklearn.model_selection import train_test_split\n",
    "# from copy import deepcopy\n",
    "\n",
    "# patients_targets = pd.DataFrame.from_records([{\"patient\": x[\"patient\"], \"target\": x[\"target\"]} for x in chunks_list]).drop_duplicates().reset_index(drop=True)\n",
    "# print(f\"N patients = {len(patients_targets)}\")\n",
    "\n",
    "# patients_train, patients_val_test = train_test_split(patients_targets, test_size=0.2, random_state=SEED, stratify=patients_targets[\"target\"], shuffle=True)\n",
    "# patients_val, patients_test = train_test_split(patients_val_test, test_size=0.5, random_state=SEED, stratify=patients_val_test[\"target\"], shuffle=True)\n",
    "# patients_train, patients_val, patients_test = patients_train[\"patient\"].values, patients_val[\"patient\"].values, patients_test[\"patient\"].values\n",
    "# print(f\"Train={len(patients_train)}, validation={len(patients_val)}, test={len(patients_test)}\")\n",
    "\n",
    "# reset = {\"chunk\": [], \"target\": [], \"patient\": []}\n",
    "# train_set, val_set, test_set = deepcopy(reset), deepcopy(reset), deepcopy(reset)\n",
    "\n",
    "# for chunk in tqdm_auto(chunks_list):\n",
    "#     patient_id = chunk[\"patient\"]\n",
    "#     was_added = False\n",
    "#     for data_set, patients in zip([train_set, val_set, test_set], [patients_train, patients_val, patients_test]):\n",
    "#         if patient_id in patients:\n",
    "#             for tag in [\"chunk\", \"target\", \"patient\"]:\n",
    "#                 data_set[tag].append(chunk[tag])\n",
    "#                 was_added = True\n",
    "        \n",
    "#     if not was_added:\n",
    "#         raise ValueError(f\"Unexpected patient id {patient_id}\")\n",
    "    \n",
    "# for data_set in [train_set, val_set, test_set]:\n",
    "#     data_set[\"chunk\"] = np.array(data_set[\"chunk\"])\n",
    "#     data_set[\"target\"] = np.array(data_set[\"target\"])\n",
    "\n",
    "# print(\"Train:\", len(train_set[\"chunk\"]), train_set[\"chunk\"][0].shape)\n",
    "# print(\"Valitation:\", len(val_set[\"chunk\"]), val_set[\"chunk\"][0].shape)\n",
    "# print(\"Test:\", len(test_set[\"chunk\"]), test_set[\"chunk\"][0].shape)"
   ]
  },
  {
   "cell_type": "code",
   "execution_count": 28,
   "id": "8aa7dfd1",
   "metadata": {
    "papermill": {
     "duration": 0.260264,
     "end_time": "2023-12-09T21:36:58.432948",
     "exception": false,
     "start_time": "2023-12-09T21:36:58.172684",
     "status": "completed"
    },
    "tags": []
   },
   "outputs": [],
   "source": [
    "# chunks_train, chunks_val, chunks_test = train_set[\"chunk\"], val_set[\"chunk\"], test_set[\"chunk\"]\n",
    "# targets_train, targets_val, targets_test = train_set[\"target\"], val_set[\"target\"], test_set[\"target\"]"
   ]
  },
  {
   "cell_type": "markdown",
   "id": "ebd742ab",
   "metadata": {
    "papermill": {
     "duration": 0.257557,
     "end_time": "2023-12-09T21:36:58.943197",
     "exception": false,
     "start_time": "2023-12-09T21:36:58.685640",
     "status": "completed"
    },
    "tags": []
   },
   "source": [
    "#### For training on healthy only"
   ]
  },
  {
   "cell_type": "code",
   "execution_count": 29,
   "id": "72e4ff21",
   "metadata": {
    "papermill": {
     "duration": 0.245158,
     "end_time": "2023-12-09T21:36:59.448571",
     "exception": false,
     "start_time": "2023-12-09T21:36:59.203413",
     "status": "completed"
    },
    "tags": []
   },
   "outputs": [],
   "source": [
    "# chunks_train_0 = chunks_train[np.where(targets_train == 0)]\n",
    "# targets_train_0 = np.zeros(len(chunks_train_0))\n",
    "\n",
    "# chunks_train = chunks_train_0\n",
    "# targets_train = targets_train_0"
   ]
  },
  {
   "cell_type": "markdown",
   "id": "5d75f499",
   "metadata": {
    "id": "mCKrrBsmpFLV",
    "papermill": {
     "duration": 0.233023,
     "end_time": "2023-12-09T21:36:59.917570",
     "exception": false,
     "start_time": "2023-12-09T21:36:59.684547",
     "status": "completed"
    },
    "tags": []
   },
   "source": [
    "# Data exploration"
   ]
  },
  {
   "cell_type": "markdown",
   "id": "1abebc85",
   "metadata": {
    "papermill": {
     "duration": 0.234516,
     "end_time": "2023-12-09T21:37:00.433461",
     "exception": false,
     "start_time": "2023-12-09T21:37:00.198945",
     "status": "completed"
    },
    "tags": []
   },
   "source": [
    "### TUAB"
   ]
  },
  {
   "cell_type": "markdown",
   "id": "59a2e66f",
   "metadata": {
    "jp-MarkdownHeadingCollapsed": true,
    "papermill": {
     "duration": 0.234597,
     "end_time": "2023-12-09T21:37:00.902740",
     "exception": false,
     "start_time": "2023-12-09T21:37:00.668143",
     "status": "completed"
    },
    "tags": []
   },
   "source": [
    "#### Targets"
   ]
  },
  {
   "cell_type": "code",
   "execution_count": 30,
   "id": "c0c96a13",
   "metadata": {
    "id": "WmjxS24spFLV",
    "outputId": "9acc4a88-ac50-410a-99d4-28b0c9942a4f",
    "papermill": {
     "duration": 0.244768,
     "end_time": "2023-12-09T21:37:01.384635",
     "exception": false,
     "start_time": "2023-12-09T21:37:01.139867",
     "status": "completed"
    },
    "tags": []
   },
   "outputs": [],
   "source": [
    "# fig, ax = plt.subplots(nrows=1, ncols=3, figsize=(15, 3))\n",
    "# ax[0].hist(targets_train);\n",
    "# ax[0].set_title(\"Train\");\n",
    "# ax[1].hist(targets_val);\n",
    "# ax[1].set_title(\"Validation\");\n",
    "# ax[2].hist(targets_test);\n",
    "# ax[2].set_title(\"Test\");\n",
    "# plt.show();"
   ]
  },
  {
   "cell_type": "markdown",
   "id": "08896558",
   "metadata": {
    "papermill": {
     "duration": 0.237165,
     "end_time": "2023-12-09T21:37:01.857446",
     "exception": false,
     "start_time": "2023-12-09T21:37:01.620281",
     "status": "completed"
    },
    "tags": []
   },
   "source": [
    "#### Chunks"
   ]
  },
  {
   "cell_type": "code",
   "execution_count": 31,
   "id": "604f2440",
   "metadata": {
    "id": "GvMq8u4wpFLV",
    "outputId": "ae3a25bf-e643-49b9-a502-63e06b0b9d17",
    "papermill": {
     "duration": 0.245371,
     "end_time": "2023-12-09T21:37:02.339318",
     "exception": false,
     "start_time": "2023-12-09T21:37:02.093947",
     "status": "completed"
    },
    "tags": []
   },
   "outputs": [],
   "source": [
    "# for chunks in [chunks_train, chunks_val, chunks_test]:\n",
    "#     chunks_minmax = []\n",
    "#     for sample in chunks:\n",
    "#         chunks_minmax.append((sample - sample.min())/(sample.max() - sample.min()))\n",
    "\n",
    "#     print(\"Mean\", np.array(chunks_minmax).mean(), \"std\", np.array(chunks_minmax).std())"
   ]
  },
  {
   "cell_type": "code",
   "execution_count": 32,
   "id": "91540a36",
   "metadata": {
    "papermill": {
     "duration": 0.243187,
     "end_time": "2023-12-09T21:37:02.817837",
     "exception": false,
     "start_time": "2023-12-09T21:37:02.574650",
     "status": "completed"
    },
    "tags": []
   },
   "outputs": [],
   "source": [
    "# for chunks in [chunks_train, chunks_val, chunks_test]:\n",
    "#     fig, ax = plt.subplots(nrows=1, ncols=3, figsize=(9, 2))\n",
    "#     for i, ch in enumerate(np.moveaxis(chunks_train, [0, 1, 2, 3], [2, 1, 0, 3]).reshape([3, -1])):\n",
    "#         ax[i].hist(ch, bins=50, range=[-5, 5])"
   ]
  },
  {
   "cell_type": "markdown",
   "id": "d817fccb",
   "metadata": {
    "papermill": {
     "duration": 0.23542,
     "end_time": "2023-12-09T21:37:03.334007",
     "exception": false,
     "start_time": "2023-12-09T21:37:03.098587",
     "status": "completed"
    },
    "tags": []
   },
   "source": [
    "### Depression anonymized"
   ]
  },
  {
   "cell_type": "code",
   "execution_count": 33,
   "id": "7cf55e50",
   "metadata": {
    "papermill": {
     "duration": 2.108034,
     "end_time": "2023-12-09T21:37:05.677069",
     "exception": false,
     "start_time": "2023-12-09T21:37:03.569035",
     "status": "completed"
    },
    "tags": []
   },
   "outputs": [
    {
     "data": {
      "image/png": "[encoded data removed]",
      "text/plain": [
       "<Figure size 1600x200 with 4 Axes>"
      ]
     },
     "metadata": {},
     "output_type": "display_data"
    },
    {
     "data": {
      "image/png": "[encoded data removed]",
      "text/plain": [
       "<Figure size 1600x200 with 4 Axes>"
      ]
     },
     "metadata": {},
     "output_type": "display_data"
    },
    {
     "data": {
      "image/png": "[encoded data removed]",
      "text/plain": [
       "<Figure size 1600x200 with 4 Axes>"
      ]
     },
     "metadata": {},
     "output_type": "display_data"
    }
   ],
   "source": [
    "for data_set in [train_set, val_set, test_set]:\n",
    "    fig, ax = plt.subplots(nrows=1, ncols=4, figsize=(16, 2))\n",
    "    fig.suptitle(\"train\" if data_set is train_set else \"val\" if data_set is val_set else \"test\")\n",
    "    for i in range(3): \n",
    "        ax[i].hist(data_set[\"chunk\"][:, i, :].flatten(), bins=20)\n",
    "        ax[i].set_title(f\"Channel {i}\")\n",
    "    ax[3].hist(data_set[\"target\"], bins=3)\n",
    "    ax[3].set_title(f\"Target\")\n",
    "    plt.show()"
   ]
  },
  {
   "cell_type": "markdown",
   "id": "fe62c94d",
   "metadata": {
    "jp-MarkdownHeadingCollapsed": true,
    "papermill": {
     "duration": 0.238524,
     "end_time": "2023-12-09T21:37:06.157642",
     "exception": false,
     "start_time": "2023-12-09T21:37:05.919118",
     "status": "completed"
    },
    "tags": []
   },
   "source": [
    "### Inhouse dataset"
   ]
  },
  {
   "cell_type": "code",
   "execution_count": 34,
   "id": "72f50cb5",
   "metadata": {
    "papermill": {
     "duration": 0.245127,
     "end_time": "2023-12-09T21:37:06.638701",
     "exception": false,
     "start_time": "2023-12-09T21:37:06.393574",
     "status": "completed"
    },
    "tags": []
   },
   "outputs": [],
   "source": [
    "# for data_set in [train_set, val_set, test_set]:\n",
    "#     fig, ax = plt.subplots(nrows=1, ncols=4, figsize=(16, 2))\n",
    "#     for i in range(3): ax[i].hist(data_set[\"chunk\"][:, i, :].flatten(), bins=20, range=(-5,5))\n",
    "#     ax[3].hist(data_set[\"target\"], bins=3)\n",
    "#     plt.show()"
   ]
  },
  {
   "cell_type": "markdown",
   "id": "40083fc7",
   "metadata": {
    "id": "kVVKGszgpFLV",
    "papermill": {
     "duration": 0.236533,
     "end_time": "2023-12-09T21:37:07.112095",
     "exception": false,
     "start_time": "2023-12-09T21:37:06.875562",
     "status": "completed"
    },
    "tags": []
   },
   "source": [
    "# Visualization functions"
   ]
  },
  {
   "cell_type": "code",
   "execution_count": 35,
   "id": "0779352d",
   "metadata": {
    "id": "CMEWoXSspFLV",
    "papermill": {
     "duration": 0.33925,
     "end_time": "2023-12-09T21:37:07.688213",
     "exception": false,
     "start_time": "2023-12-09T21:37:07.348963",
     "status": "completed"
    },
    "tags": []
   },
   "outputs": [],
   "source": [
    "from sklearn.decomposition import PCA, TruncatedSVD\n",
    "from sklearn.manifold import TSNE\n",
    "from matplotlib import pyplot as plt\n",
    "import seaborn as sns\n",
    "\n",
    "def plotData(X, y, method=\"pca\", ax=plt, plot_type=\"regression\", **kwargs):\n",
    "    n_components = 2\n",
    "    if method == \"pca\":\n",
    "        reducer = PCA(n_components=n_components, random_state=SEED, whiten=True, svd_solver=\"full\", **kwargs)\n",
    "    elif method == \"tsne\":\n",
    "        reducer = TSNE(n_components=n_components, random_state=SEED, **kwargs)\n",
    "    elif method == \"svd\":\n",
    "        reducer = TruncatedSVD(n_components=n_components, random_state=SEED, **kwargs)\n",
    "    else:\n",
    "        raise \"NotImplementedError\"\n",
    "\n",
    "    X_reduced = reducer.fit_transform(X)\n",
    "\n",
    "    if method == \"pca\":\n",
    "        display(pd.DataFrame({\"Explained variance\": reducer.explained_variance_, \"Ratio\": reducer.explained_variance_ratio_}))\n",
    "    \n",
    "    if plot_type == \"regression\":\n",
    "        return sns.scatterplot(x=X_reduced[:, 0], y=X_reduced[:, 1], ax=ax, alpha=y)\n",
    "    elif plot_type == \"classification\":\n",
    "        return sns.scatterplot(x=X_reduced[:, 0], y=X_reduced[:, 1], ax=ax, alpha=0.3, hue=y)\n",
    "    else:\n",
    "        raise ValueError(f\"Unexpected type {plot_type}\")"
   ]
  },
  {
   "cell_type": "markdown",
   "id": "d0821d96",
   "metadata": {
    "id": "HVN3aRxcpFLV",
    "papermill": {
     "duration": 0.239369,
     "end_time": "2023-12-09T21:37:08.167811",
     "exception": false,
     "start_time": "2023-12-09T21:37:07.928442",
     "status": "completed"
    },
    "tags": []
   },
   "source": [
    "# Train by hands"
   ]
  },
  {
   "cell_type": "code",
   "execution_count": 36,
   "id": "9738fccf",
   "metadata": {
    "id": "L6_2Owh5pFLW",
    "papermill": {
     "duration": 0.245674,
     "end_time": "2023-12-09T21:37:08.651571",
     "exception": false,
     "start_time": "2023-12-09T21:37:08.405897",
     "status": "completed"
    },
    "tags": []
   },
   "outputs": [],
   "source": [
    "data_config = {\n",
    "    \"batch_size\": 256,\n",
    "    \"num_workers\": 0,\n",
    "    \"samples_shape\": chunks_train[0].shape,\n",
    "    \"n_train_samples\": len(chunks_train),\n",
    "    \"n_test_samples\": len(chunks_test),\n",
    "    \"minmax\": \"across_whole_sample\",\n",
    "    \"record_part\": \"first 60 s\",\n",
    "    \"task\": \"MDD classification\",\n",
    "    \"dataset\": \"depression anonymized\" #!!! CHECK BEFORE TRAINING\n",
    "}"
   ]
  },
  {
   "cell_type": "markdown",
   "id": "907346e4",
   "metadata": {
    "id": "HcgqAyshpFLW",
    "papermill": {
     "duration": 0.31121,
     "end_time": "2023-12-09T21:37:09.200768",
     "exception": false,
     "start_time": "2023-12-09T21:37:08.889558",
     "status": "completed"
    },
    "tags": []
   },
   "source": [
    "## Dataset preparation"
   ]
  },
  {
   "cell_type": "code",
   "execution_count": 37,
   "id": "9f6d3346",
   "metadata": {
    "id": "o77-byDqpFLW",
    "papermill": {
     "duration": 0.253466,
     "end_time": "2023-12-09T21:37:09.693136",
     "exception": false,
     "start_time": "2023-12-09T21:37:09.439670",
     "status": "completed"
    },
    "tags": []
   },
   "outputs": [],
   "source": [
    "class InMemoryDataset(torch.utils.data.Dataset):\n",
    "    def __init__(self, source, transform=None, t_max=None, is_squeeze=False, is_unsqueeze=False):\n",
    "        self.transform = transform\n",
    "        self.t_max = t_max\n",
    "        self.is_squeeze = is_squeeze\n",
    "        self.is_unsqueeze = is_unsqueeze\n",
    "\n",
    "        if type(source) == type(str()):\n",
    "            self.samples = np.load(source)\n",
    "\n",
    "        elif type(source) == type(np.array([])):\n",
    "            self.samples = source\n",
    "\n",
    "        else:\n",
    "            print(f\"ERROR: UNKNOWN DATA TYPE {type(source)}\")\n",
    "\n",
    "    def __len__(self):\n",
    "        return len(self.samples)\n",
    "\n",
    "    def __getitem__(self, index: int):\n",
    "        sample = np.array(self.samples[index])\n",
    "\n",
    "        #scaling\n",
    "        sample = torch.from_numpy(\n",
    "            (sample - sample.min())/(sample.max() - sample.min())\n",
    "        ).to(torch.float32)\n",
    "\n",
    "        if self.transform: sample = self.transform(sample)\n",
    "        if self.is_squeeze: sample = sample.squeeze()\n",
    "        if self.is_unsqueeze: sample = sample.unsqueeze(axis=-3)\n",
    "        if self.t_max is not None: \n",
    "            if len(sample.shape) == 2:\n",
    "                sample = sample[:, :self.t_max]\n",
    "            elif len(sample.shape) == 3:\n",
    "                sample = sample[:, :, :self.t_max]\n",
    "            elif len(sample.shape) == 4:\n",
    "                sample = sample[:, :, :, :self.t_max]\n",
    "            else:\n",
    "                raise NotImplementedError(f\"Unexpected sample number of dimensions {len(sample.shape)}\")\n",
    "            \n",
    "        return sample\n",
    "\n",
    "    def random_shuffled_iterator(self, batch_size: int):\n",
    "        while True:\n",
    "            inds = torch.randint(0, len(self.samples), [batch_size])\n",
    "            yield torch.stack([self.__getitem__(idx) for idx in inds])"
   ]
  },
  {
   "cell_type": "code",
   "execution_count": 38,
   "id": "38dff538",
   "metadata": {
    "id": "Ija32MptpFLW",
    "outputId": "5b37d7b6-1a59-41fe-aca1-0b9726087557",
    "papermill": {
     "duration": 0.317942,
     "end_time": "2023-12-09T21:37:10.248818",
     "exception": false,
     "start_time": "2023-12-09T21:37:09.930876",
     "status": "completed"
    },
    "tags": []
   },
   "outputs": [
    {
     "name": "stdout",
     "output_type": "stream",
     "text": [
      "Train dataset: 8519\n",
      "Val dataset: 1080\n",
      "Test dataset: 1080\n",
      "Train dataloader: 34\n",
      "Val dataloader: 5\n",
      "Test dataloader: 5\n",
      "Train sample shape: torch.Size([1, 3, 120])\n",
      "Val sample shape: torch.Size([1, 3, 120])\n",
      "Test sample shape: torch.Size([1, 3, 120])\n",
      "Train sample type: torch.FloatTensor\n",
      "Val sample type: torch.FloatTensor\n",
      "Test sample type: torch.FloatTensor\n"
     ]
    }
   ],
   "source": [
    "from torch.utils.data import DataLoader, Dataset\n",
    "\n",
    "train_dataset = InMemoryDataset(chunks_train, t_max=120, is_squeeze=False, is_unsqueeze=True)\n",
    "val_dataset = InMemoryDataset(chunks_val, t_max=120, is_squeeze=False, is_unsqueeze=True)\n",
    "test_dataset = InMemoryDataset(chunks_test, t_max=120, is_squeeze=False, is_unsqueeze=True)\n",
    "\n",
    "train_dataloader = DataLoader(train_dataset, shuffle=True, batch_size=data_config['batch_size'], num_workers=data_config['num_workers'])\n",
    "val_dataloader = DataLoader(val_dataset, shuffle=False, batch_size=data_config['batch_size'], num_workers=data_config['num_workers'])\n",
    "test_dataloader = DataLoader(test_dataset, shuffle=False, batch_size=data_config['batch_size'], num_workers=data_config['num_workers'])\n",
    "\n",
    "print(\"Train dataset:\", len(train_dataset))\n",
    "print(\"Val dataset:\", len(val_dataset))\n",
    "print(\"Test dataset:\", len(test_dataset))\n",
    "\n",
    "print(\"Train dataloader:\", len(train_dataloader))\n",
    "print(\"Val dataloader:\", len(val_dataloader))\n",
    "print(\"Test dataloader:\", len(test_dataloader))\n",
    "\n",
    "print(\"Train sample shape:\", train_dataset[0].shape)\n",
    "print(\"Val sample shape:\", val_dataset[0].shape)\n",
    "print(\"Test sample shape:\", test_dataset[0].shape)\n",
    "\n",
    "print(\"Train sample type:\", train_dataset[0].type())\n",
    "print(\"Val sample type:\", val_dataset[0].type())\n",
    "print(\"Test sample type:\", test_dataset[0].type())"
   ]
  },
  {
   "cell_type": "code",
   "execution_count": 39,
   "id": "7464fde8",
   "metadata": {
    "id": "yjFqpd1gpFLW",
    "outputId": "45251db3-7fac-4773-978a-1c70c06086c3",
    "papermill": {
     "duration": 0.483024,
     "end_time": "2023-12-09T21:37:10.987960",
     "exception": false,
     "start_time": "2023-12-09T21:37:10.504936",
     "status": "completed"
    },
    "tags": []
   },
   "outputs": [
    {
     "data": {
      "image/png": "[encoded data removed]",
      "text/plain": [
       "<Figure size 500x300 with 1 Axes>"
      ]
     },
     "metadata": {},
     "output_type": "display_data"
    }
   ],
   "source": [
    "plt.figure(figsize=(5,3))\n",
    "plt.plot(train_dataset[0].squeeze().T)\n",
    "plt.show()"
   ]
  },
  {
   "cell_type": "markdown",
   "id": "a0d1b71a",
   "metadata": {
    "id": "JzSui5OXpFLW",
    "papermill": {
     "duration": 0.239032,
     "end_time": "2023-12-09T21:37:11.471483",
     "exception": false,
     "start_time": "2023-12-09T21:37:11.232451",
     "status": "completed"
    },
    "tags": []
   },
   "source": [
    "## Model"
   ]
  },
  {
   "cell_type": "markdown",
   "id": "870a45e9",
   "metadata": {
    "jp-MarkdownHeadingCollapsed": true,
    "papermill": {
     "duration": 0.237837,
     "end_time": "2023-12-09T21:37:11.947016",
     "exception": false,
     "start_time": "2023-12-09T21:37:11.709179",
     "status": "completed"
    },
    "tags": []
   },
   "source": [
    "### beta VAE"
   ]
  },
  {
   "cell_type": "code",
   "execution_count": 40,
   "id": "b897324e",
   "metadata": {
    "id": "9ulQ6fUTpFLW",
    "papermill": {
     "duration": 0.249618,
     "end_time": "2023-12-09T21:37:12.437927",
     "exception": false,
     "start_time": "2023-12-09T21:37:12.188309",
     "status": "completed"
    },
    "tags": []
   },
   "outputs": [],
   "source": [
    "# def conv_block(in_features: int, out_features: int, kernel=(3, 3), stride=(1, 1), padding=(0, 0)):\n",
    "#     return nn.Sequential(\n",
    "#         nn.Conv2d(in_features, out_features, kernel, stride, padding),\n",
    "#         nn.PReLU(),\n",
    "#         nn.BatchNorm2d(out_features),\n",
    "#     )\n",
    "\n",
    "# class encoder_conv(torch.nn.Module):\n",
    "#     def __init__(self, args):\n",
    "#         super().__init__()\n",
    "\n",
    "#         self.input_dim = args[\"input_dim\"]\n",
    "#         self.latent_dim = args[\"latent_dim\"]\n",
    "#         self.depth = args[\"input_dim\"][0]\n",
    "#         self.n_channels = args[\"input_dim\"][1]\n",
    "#         self.chunk_length = args[\"input_dim\"][2]\n",
    "#         chunk_lenght_after_convs = int(((self.chunk_length - 6 + 1) - 6 + 1)/2) #57, should be checked for consistency with self.chunk_length!\n",
    "\n",
    "#         self.conv_layers = nn.Sequential(\n",
    "#             conv_block(self.depth, 32, kernel=(self.n_channels, 6)),\n",
    "#             conv_block(32, 32, kernel=(1, 6), stride=(1, 2)),\n",
    "#         )\n",
    "\n",
    "#         self.fc = nn.Linear(32*chunk_lenght_after_convs, args[\"latent_dim\"]*2) #embedding_log_var\n",
    "\n",
    "#     def forward(self, x: torch.Tensor):\n",
    "#         h1 = self.conv_layers(x).reshape(x.shape[0], -1)\n",
    "\n",
    "#         output = self.fc(h1)\n",
    "#         return output\n",
    "\n",
    "# def conv_transpose_block(in_features: int, out_features: int, kernel=(3, 3), stride=(1, 1), output_padding=(0, 0)):\n",
    "#     return nn.Sequential(\n",
    "#         nn.PReLU(),\n",
    "#         nn.BatchNorm2d(in_features),\n",
    "#         nn.ConvTranspose2d(in_features, out_features, kernel, stride=stride, output_padding=output_padding),\n",
    "#     )\n",
    "\n",
    "# class decoder_conv(torch.nn.Module):\n",
    "#     def __init__(self, args):\n",
    "#         super().__init__()\n",
    "#         self.input_dim = args[\"input_dim\"]\n",
    "#         self.latent_dim = args[\"latent_dim\"]\n",
    "#         self.depth = args[\"input_dim\"][0]\n",
    "#         self.n_channels = args[\"input_dim\"][1]\n",
    "#         self.chunk_length = args[\"input_dim\"][2]\n",
    "#         self.chunk_lenght_after_convs = int(((self.chunk_length - 6 + 1) - 6 + 1)/2) #57, should be checked for consistency with self.chunk_length!\n",
    "\n",
    "#         self.fc = nn.Linear(args[\"latent_dim\"], 32*self.chunk_lenght_after_convs)\n",
    "#         self.conv_layers = nn.Sequential(\n",
    "#             conv_transpose_block(32, 32, kernel=(1, 6), stride=(1, 2), output_padding=(0, 1)),\n",
    "#             conv_transpose_block(32, self.depth, kernel=(self.n_channels, 6)),\n",
    "#         )\n",
    "\n",
    "#     def forward(self, z: torch.Tensor):\n",
    "#         h1 = self.fc(z).reshape(z.shape[0], 32, 1, self.chunk_lenght_after_convs)\n",
    "#         output = self.conv_layers(h1)\n",
    "\n",
    "#         return output\n",
    "\n",
    "# def reparameterize(mean, log_std):\n",
    "#     return mean + torch.randn_like(mean) * torch.exp(log_std)\n",
    "\n",
    "# def kl(mean, log_std):\n",
    "#     return ((torch.exp(2 * log_std) + mean * mean) / 2 - 0.5 - log_std).sum(axis=1)\n",
    "\n",
    "# class VAE(torch.nn.Module):\n",
    "#     def __init__(self, encoder, decoder, **args):\n",
    "#         super().__init__()\n",
    "#         self.encoder = encoder\n",
    "#         self.decoder = decoder\n",
    "#         self.Z_DIM = args[\"latent_dim\"]\n",
    "#         self.beta = args[\"beta\"]\n",
    "#         self.input_dim = args[\"input_dim\"]\n",
    "        \n",
    "#     def _encode(self, imgs):\n",
    "#         z_params = self.encoder(imgs)\n",
    "#         z_mean, z_log_std = torch.split(z_params, [self.Z_DIM, self.Z_DIM], dim=1)\n",
    "#         return z_mean, z_log_std\n",
    "\n",
    "#     def encode(self, imgs):\n",
    "#         return self._encode(imgs)[0]\n",
    "\n",
    "#     def decode(self, z):\n",
    "#         return self.decoder(z)\n",
    "\n",
    "#     def _reconstruct(self, imgs):\n",
    "#         z_mean, z_log_std = self._encode(imgs)\n",
    "#         z = reparameterize(z_mean, z_log_std)\n",
    "#         decoded_imgs = self.decode(z)\n",
    "#         return decoded_imgs, z_mean, z_log_std\n",
    "    \n",
    "#     def reconstruct(self, imgs):\n",
    "#         return self._reconstruct(imgs)[0]\n",
    "\n",
    "#     def forward(self, imgs):\n",
    "#         decoded_imgs, z_mean, z_log_std = self._reconstruct(imgs)\n",
    "\n",
    "#         z_kl = kl(z_mean, z_log_std)\n",
    "#         err = ((imgs - decoded_imgs)**2).sum([1, 2, 3])\n",
    "#         log_p_x_given_z = -err\n",
    "#         loss = -log_p_x_given_z + self.beta*z_kl\n",
    "\n",
    "#         return {\n",
    "#             'loss': loss.mean(),\n",
    "#             '-log p(x|z)': -log_p_x_given_z.mean(),\n",
    "#             'kl': z_kl.mean(),\n",
    "#             'decoded_imgs': decoded_imgs\n",
    "#         }"
   ]
  },
  {
   "cell_type": "markdown",
   "id": "573f8ff4",
   "metadata": {
    "papermill": {
     "duration": 0.238292,
     "end_time": "2023-12-09T21:37:12.912737",
     "exception": false,
     "start_time": "2023-12-09T21:37:12.674445",
     "status": "completed"
    },
    "tags": []
   },
   "source": [
    "### Higgins and Burgess beta-VAEs"
   ]
  },
  {
   "cell_type": "code",
   "execution_count": 41,
   "id": "b3eb3b71",
   "metadata": {
    "papermill": {
     "duration": 0.268177,
     "end_time": "2023-12-09T21:37:13.435337",
     "exception": false,
     "start_time": "2023-12-09T21:37:13.167160",
     "status": "completed"
    },
    "tags": []
   },
   "outputs": [],
   "source": [
    "#code from https://github.com/1Konny/Beta-VAE/blob/master\n",
    "import torch\n",
    "import torch.nn as nn\n",
    "import torch.nn.init as init\n",
    "import torch.nn.functional as F\n",
    "from torch.autograd import Variable\n",
    "\n",
    "\n",
    "def reconstruction_loss(x, x_recon, distribution):\n",
    "    batch_size = x.size(0)\n",
    "    assert batch_size != 0\n",
    "\n",
    "    if distribution == 'bernoulli':\n",
    "        recon_loss = F.binary_cross_entropy_with_logits(x_recon, x, size_average=False).div(batch_size)\n",
    "    elif distribution == 'gaussian':\n",
    "#         x_recon = F.sigmoid(x_recon)\n",
    "        recon_loss = F.mse_loss(x_recon, x, size_average=False).div(batch_size)\n",
    "    else:\n",
    "        raise ValueError(\"Unknown distribution\")\n",
    "\n",
    "    return recon_loss\n",
    "\n",
    "\n",
    "def kl_divergence(mu, logvar):\n",
    "    batch_size = mu.size(0)\n",
    "    assert batch_size != 0\n",
    "    if mu.data.ndimension() == 4:\n",
    "        mu = mu.view(mu.size(0), mu.size(1))\n",
    "    if logvar.data.ndimension() == 4:\n",
    "        logvar = logvar.view(logvar.size(0), logvar.size(1))\n",
    "\n",
    "    klds = -0.5*(1 + logvar - mu.pow(2) - logvar.exp())\n",
    "    total_kld = klds.sum(1).mean(0, True)\n",
    "    dimension_wise_kld = klds.mean(0)\n",
    "    mean_kld = klds.mean(1).mean(0, True)\n",
    "\n",
    "    return total_kld, dimension_wise_kld, mean_kld\n",
    "\n",
    "\n",
    "def reparametrize(mu, logvar):\n",
    "    std = logvar.div(2).exp()\n",
    "    eps = Variable(std.data.new(std.size()).normal_())\n",
    "    return mu + std*eps\n",
    "\n",
    "\n",
    "class View(nn.Module):\n",
    "    def __init__(self, size):\n",
    "        super(View, self).__init__()\n",
    "        self.size = size\n",
    "\n",
    "    def forward(self, tensor):\n",
    "        return tensor.view(self.size)\n",
    "\n",
    "\n",
    "class BetaVAE_H(nn.Module):\n",
    "    \"\"\"Model proposed in original beta-VAE paper(Higgins et al, ICLR, 2017).\"\"\"\n",
    "\n",
    "    def __init__(self, encoder, decoder, **args):\n",
    "        super(BetaVAE_H, self).__init__()\n",
    "        \n",
    "        self.input_dim = args[\"input_dim\"]\n",
    "        self.z_dim = args[\"latent_dim\"]\n",
    "        self.beta = args[\"beta\"]\n",
    "        self.decoder_dist = \"gaussian\" #\"gaussian\"/\"bernoulli\"\n",
    "        \n",
    "        self.encoder = encoder\n",
    "        self.decoder = decoder\n",
    "\n",
    "#         self.weight_init()\n",
    "\n",
    "#     def weight_init(self):\n",
    "#         for block in self._modules:\n",
    "#             for m in self._modules[block]:\n",
    "#                 kaiming_init(m)\n",
    "\n",
    "    def forward(self, x):\n",
    "        x_recon, mu, logvar = self._reconstruct(x)\n",
    "        \n",
    "        recon_loss = reconstruction_loss(x, x_recon, self.decoder_dist)\n",
    "        total_kld, dim_wise_kld, mean_kld = kl_divergence(mu, logvar)\n",
    "        \n",
    "        beta_vae_loss = recon_loss + self.beta*total_kld\n",
    "\n",
    "        return {\n",
    "            'loss': beta_vae_loss,\n",
    "            '-log p(x|z)': recon_loss,\n",
    "            'kl': total_kld,\n",
    "            'decoded_imgs': x_recon\n",
    "        }\n",
    "\n",
    "    def _encode(self, x):\n",
    "        return self.encoder(x)\n",
    "    \n",
    "    def encode(self, x):\n",
    "        distributions = self._encode(x)\n",
    "        return distributions[:, :self.z_dim]\n",
    "\n",
    "    def _decode(self, z):\n",
    "        return self.decoder(z)\n",
    "    \n",
    "    def _reconstruct(self, x):\n",
    "        distributions = self._encode(x)\n",
    "        mu = distributions[:, :self.z_dim]\n",
    "        logvar = distributions[:, self.z_dim:]\n",
    "        z = reparametrize(mu, logvar)\n",
    "        x_recon = self._decode(z)\n",
    "        return x_recon, mu, logvar\n",
    "    \n",
    "    def reconstruct(self, x):\n",
    "        x_recon, mu, logvar = self._reconstruct(x)\n",
    "        return x_recon\n",
    "\n",
    "\n",
    "class BetaVAE_B(BetaVAE_H):\n",
    "    \"\"\"Model proposed in understanding beta-VAE paper(Burgess et al, arxiv:1804.03599, 2018).\"\"\"\n",
    "\n",
    "    def __init__(self, encoder, decoder, **args):\n",
    "        super(BetaVAE_B, self).__init__(encoder, decoder, **args)\n",
    "        self.global_iter = 0 \n",
    "        self.C_max = Variable(torch.FloatTensor([args[\"C_max\"]])).to(args[\"device\"]) #20\n",
    "        self.C_stop_iter = args[\"C_stop_iter\"] #1e5\n",
    "        \n",
    "#         self.weight_init()\n",
    "\n",
    "    def forward(self, x):\n",
    "        x_recon, mu, logvar = self._reconstruct(x)\n",
    "\n",
    "        recon_loss = reconstruction_loss(x, x_recon, self.decoder_dist)\n",
    "        total_kld, dim_wise_kld, mean_kld = kl_divergence(mu, logvar)\n",
    "        \n",
    "        C = self.get_C()\n",
    "        beta_vae_loss = recon_loss + self.beta*(total_kld - C).abs()\n",
    "\n",
    "        return {\n",
    "            'loss': beta_vae_loss,\n",
    "            '-log p(x|z)': recon_loss,\n",
    "            'kl': total_kld,\n",
    "            'decoded_imgs': x_recon\n",
    "        }\n",
    "    \n",
    "    def get_C(self):\n",
    "        return torch.clamp(self.C_max/self.C_stop_iter*self.global_iter, 0, self.C_max.data[0])\n",
    "            \n",
    "    def reset_global_iter(self):\n",
    "        self.global_iter = 0\n",
    "        \n",
    "    def update_global_iter(self, n=1):\n",
    "        self.global_iter += n\n",
    "    \n",
    "# def kaiming_init(m):\n",
    "#     if isinstance(m, (nn.Linear, nn.Conv2d)):\n",
    "#         init.kaiming_normal(m.weight)\n",
    "#         if m.bias is not None:\n",
    "#             m.bias.data.fill_(0)\n",
    "#     elif isinstance(m, (nn.BatchNorm1d, nn.BatchNorm2d)):\n",
    "#         m.weight.data.fill_(1)\n",
    "#         if m.bias is not None:\n",
    "#             m.bias.data.fill_(0)\n",
    "\n",
    "\n",
    "# def normal_init(m, mean, std):\n",
    "#     if isinstance(m, (nn.Linear, nn.Conv2d)):\n",
    "#         m.weight.data.normal_(mean, std)\n",
    "#         if m.bias.data is not None:\n",
    "#             m.bias.data.zero_()\n",
    "#     elif isinstance(m, (nn.BatchNorm2d, nn.BatchNorm1d)):\n",
    "#         m.weight.data.fill_(1)\n",
    "#         if m.bias.data is not None:\n",
    "#             m.bias.data.zero_()"
   ]
  },
  {
   "cell_type": "markdown",
   "id": "8c0353ca",
   "metadata": {
    "papermill": {
     "duration": 0.236618,
     "end_time": "2023-12-09T21:37:13.909872",
     "exception": false,
     "start_time": "2023-12-09T21:37:13.673254",
     "status": "completed"
    },
    "tags": []
   },
   "source": [
    "### 4-layer beta-VAE"
   ]
  },
  {
   "cell_type": "code",
   "execution_count": 42,
   "id": "7f7aa8cf",
   "metadata": {
    "papermill": {
     "duration": 0.270296,
     "end_time": "2023-12-09T21:37:14.420783",
     "exception": false,
     "start_time": "2023-12-09T21:37:14.150487",
     "status": "completed"
    },
    "tags": []
   },
   "outputs": [],
   "source": [
    "import torch\n",
    "import torch.nn as nn\n",
    "import torch.nn.functional as F\n",
    "\n",
    "class DoubleConv(nn.Module):\n",
    "    \"\"\"(convolution => [BN] => ReLU) * 2\"\"\"\n",
    "\n",
    "    def __init__(self, in_channels, out_channels,kernel_size=7):\n",
    "        super().__init__()\n",
    "        padding = int((kernel_size - 1) / 2)\n",
    "\n",
    "        self.double_conv = nn.Sequential(\n",
    "            nn.Conv1d(in_channels, out_channels, kernel_size=kernel_size, padding=padding),\n",
    "            nn.BatchNorm1d(out_channels),\n",
    "            # nn.PReLU(),\n",
    "            nn.Sigmoid(),\n",
    "            #nn.ReLU(inplace=True),\n",
    "            \n",
    "            nn.Conv1d(out_channels, out_channels, kernel_size=kernel_size, padding=padding),\n",
    "            nn.BatchNorm1d(out_channels),\n",
    "            # nn.PReLU()\n",
    "            nn.Sigmoid(),\n",
    "            # nn.ReLU(inplace=True),\n",
    "            \n",
    "            nn.Conv1d(out_channels, out_channels, kernel_size=kernel_size, padding=padding),\n",
    "            nn.BatchNorm1d(out_channels),\n",
    "            # nn.PReLU()\n",
    "            nn.Sigmoid(),\n",
    "            # nn.ReLU(inplace=True)\n",
    "        )\n",
    "\n",
    "    def forward(self, x):\n",
    "        return self.double_conv(x)\n",
    "\n",
    "\n",
    "class Down(nn.Module):\n",
    "    \"\"\"Downscaling with maxpool then double conv\"\"\"\n",
    "\n",
    "    def __init__(self, in_channels, out_channels, kernel_size):\n",
    "        super().__init__()\n",
    "        self.maxpool_conv = nn.Sequential(\n",
    "            nn.MaxPool1d(2),\n",
    "            DoubleConv(in_channels, out_channels,kernel_size)\n",
    "        )\n",
    "\n",
    "    def forward(self, x):\n",
    "        return self.maxpool_conv(x)\n",
    "\n",
    "\n",
    "class Up(nn.Module):\n",
    "    \"\"\"Upscaling then double conv\"\"\"\n",
    "\n",
    "    def __init__(self, in_channels, out_channels, kernel_size, bilinear=True):\n",
    "        super().__init__()\n",
    "\n",
    "        # if bilinear, use the normal convolutions to reduce the number of channels\n",
    "        if bilinear:\n",
    "            # self.up = F.interpolate()\n",
    "            self.up = nn.Upsample(scale_factor=2, mode='linear', align_corners=False)\n",
    "        else:\n",
    "            self.up = nn.ConvTranspose1d(in_channels // 2, in_channels // 2, kernel_size=2, stride=2)\n",
    "\n",
    "        self.conv = DoubleConv(in_channels, out_channels, kernel_size)\n",
    "\n",
    "    def forward(self, x1):\n",
    "        x = self.up(x1)\n",
    "        return self.conv(x)\n",
    "\n",
    "\n",
    "class OutConv(nn.Module):\n",
    "    def __init__(self, in_channels, out_channels, kernel_size):\n",
    "        super(OutConv, self).__init__()\n",
    "        padding = int((kernel_size - 1) / 2)\n",
    "        self.conv = nn.Conv1d(in_channels, out_channels, kernel_size=kernel_size, padding=padding, bias=True)\n",
    "\n",
    "    def forward(self, x):\n",
    "        return self.conv(x)\n",
    "\n",
    "class encoder_conv4(torch.nn.Module):\n",
    "    def __init__(\n",
    "        self, \n",
    "        n_channels\n",
    "    ):\n",
    "        super().__init__()\n",
    "\n",
    "        self.n_channels = n_channels\n",
    "        self.inc = DoubleConv(n_channels, 4, kernel_size=7) #120\n",
    "        self.down1 = Down(4, 8, kernel_size=7) #60\n",
    "        self.down2 = Down(8, 16,kernel_size=5) #30\n",
    "        self.down3 = Down(16, 64,kernel_size=3) #15\n",
    "\n",
    "    def forward(self, x: torch.Tensor):\n",
    "        x1 = self.inc(x)\n",
    "        x2 = self.down1(x1)\n",
    "        x3 = self.down2(x2)\n",
    "        x4 = self.down3(x3)\n",
    "        return x4.reshape(x.shape[0], -1) #B * 15*64\n",
    "\n",
    "class decoder_conv4(torch.nn.Module):\n",
    "    def __init__(\n",
    "        self, \n",
    "        n_classes\n",
    "    ):\n",
    "        super().__init__()\n",
    "\n",
    "        self.n_classes = n_classes\n",
    "        self.up1 = Up(32, 16, kernel_size=3) #15\n",
    "        self.up2 = Up(16, 8, kernel_size=3) #30\n",
    "        self.up3 = Up(8, 4, kernel_size=3) #60\n",
    "        self.outc = OutConv(4, n_classes, kernel_size=1) #120\n",
    "\n",
    "    def forward(self, x: torch.Tensor):\n",
    "        x = self.up1(x)\n",
    "        x = self.up2(x)\n",
    "        x = self.up3(x)\n",
    "        logits = self.outc(x)\n",
    "        return logits\n",
    "\n",
    "def reparameterize(mean, log_std):\n",
    "    return mean + torch.randn_like(mean) * torch.exp(log_std)\n",
    "\n",
    "def kl(mean, log_std):\n",
    "    return ((torch.exp(2 * log_std) + mean * mean) / 2 - 0.5 - log_std).sum(axis=1)\n",
    "\n",
    "class VAE(torch.nn.Module):\n",
    "    def __init__(self, encoder, decoder, **args):\n",
    "        super().__init__()\n",
    "        self.encoder = encoder\n",
    "        self.decoder = decoder\n",
    "        self.Z_DIM = args[\"latent_dim\"]\n",
    "        self.beta = args[\"beta\"]\n",
    "        self.input_dim = args[\"input_dim\"]\n",
    "        \n",
    "    def _encode(self, imgs):\n",
    "        z_params = self.encoder(imgs)\n",
    "        z_mean, z_log_std = torch.split(z_params, [self.Z_DIM, self.Z_DIM], dim=1)\n",
    "        return z_mean, z_log_std\n",
    "\n",
    "    def encode(self, imgs):\n",
    "        return self._encode(imgs)[0]\n",
    "\n",
    "    def decode(self, z):\n",
    "        return self.decoder(z)\n",
    "\n",
    "    def _reconstruct(self, imgs):\n",
    "        z_mean, z_log_std = self._encode(imgs)\n",
    "        z = reparameterize(z_mean, z_log_std)\n",
    "        z = z.reshape(imgs.shape[0], 32, -1)\n",
    "        decoded_imgs = self.decode(z)\n",
    "        return decoded_imgs, z_mean, z_log_std\n",
    "    \n",
    "    def reconstruct(self, imgs):\n",
    "        return self._reconstruct(imgs)[0]\n",
    "\n",
    "    def forward(self, imgs):\n",
    "        decoded_imgs, z_mean, z_log_std = self._reconstruct(imgs)\n",
    "\n",
    "        z_kl = kl(z_mean, z_log_std)\n",
    "        err = ((imgs - decoded_imgs)**2).sum([1, 2])\n",
    "        log_p_x_given_z = -err\n",
    "        loss = -log_p_x_given_z + self.beta*z_kl\n",
    "\n",
    "        return {\n",
    "            'loss': loss.mean(),\n",
    "            '-log p(x|z)': -log_p_x_given_z.mean(),\n",
    "            'kl': z_kl.mean(),\n",
    "            'decoded_imgs': decoded_imgs\n",
    "        }"
   ]
  },
  {
   "cell_type": "markdown",
   "id": "c0f4c4c9",
   "metadata": {
    "papermill": {
     "duration": 0.236858,
     "end_time": "2023-12-09T21:37:14.893772",
     "exception": false,
     "start_time": "2023-12-09T21:37:14.656914",
     "status": "completed"
    },
    "tags": []
   },
   "source": [
    "### UNet"
   ]
  },
  {
   "cell_type": "code",
   "execution_count": 43,
   "id": "d37b64e8",
   "metadata": {
    "papermill": {
     "duration": 0.250176,
     "end_time": "2023-12-09T21:37:15.380922",
     "exception": false,
     "start_time": "2023-12-09T21:37:15.130746",
     "status": "completed"
    },
    "tags": []
   },
   "outputs": [],
   "source": [
    "# # https://github.com/milesial/Pytorch-UNet\n",
    "# \"\"\" Full assembly of the parts to form the complete network \"\"\"\n",
    "\n",
    "# import torch\n",
    "# import torch.nn as nn\n",
    "# import torch.nn.functional as F\n",
    "\n",
    "\n",
    "# class DoubleConv(nn.Module):\n",
    "#     \"\"\"(convolution => [BN] => ReLU) * 2\"\"\"\n",
    "\n",
    "#     def __init__(self, in_channels, out_channels,kernel_size=7):\n",
    "#         super().__init__()\n",
    "#         padding = int((kernel_size - 1) / 2)\n",
    "\n",
    "#         self.double_conv = nn.Sequential(\n",
    "#             nn.Conv1d(in_channels, out_channels, kernel_size=kernel_size, padding=padding),\n",
    "#             nn.BatchNorm1d(out_channels),\n",
    "#             nn.PReLU(),\n",
    "# #             nn.Sigmoid(),\n",
    "#             #nn.ReLU(inplace=True),\n",
    "#             nn.Conv1d(out_channels, out_channels, kernel_size=kernel_size, padding=padding),\n",
    "#             nn.BatchNorm1d(out_channels),\n",
    "#             nn.PReLU(),\n",
    "# #             nn.Sigmoid()\n",
    "#             #nn.ReLU(inplace=True)\n",
    "#         )\n",
    "\n",
    "#     def forward(self, x):\n",
    "#         return self.double_conv(x)\n",
    "    \n",
    "# class OutDoubleConv(nn.Module):\n",
    "#     \"\"\"(convolution => [BN] => ReLU) => convolution\"\"\"\n",
    "\n",
    "#     def __init__(self, in_channels, out_channels,kernel_size=7):\n",
    "#         super().__init__()\n",
    "#         padding = int((kernel_size - 1) / 2)\n",
    "\n",
    "#         self.double_conv = nn.Sequential(\n",
    "#             nn.Conv1d(in_channels, out_channels, kernel_size=kernel_size, padding=padding),\n",
    "#             nn.BatchNorm1d(out_channels),\n",
    "#             nn.PReLU(),\n",
    "# #             nn.Sigmoid(),\n",
    "#             #nn.ReLU(inplace=True),\n",
    "#             nn.Conv1d(out_channels, out_channels, kernel_size=kernel_size, padding=padding),\n",
    "#         )\n",
    "\n",
    "#     def forward(self, x):\n",
    "#         return self.double_conv(x)\n",
    "\n",
    "\n",
    "# class Down(nn.Module):\n",
    "#     \"\"\"Downscaling with maxpool then double conv\"\"\"\n",
    "\n",
    "#     def __init__(self, in_channels, out_channels, kernel_size):\n",
    "#         super().__init__()\n",
    "#         self.conv = DoubleConv(in_channels, out_channels, kernel_size)\n",
    "#         self.maxpool = nn.MaxPool1d(2)\n",
    "\n",
    "#     def forward(self, x):\n",
    "#         x1 = self.conv(x)\n",
    "#         return self.maxpool(x1), x1\n",
    "\n",
    "\n",
    "# class Up(nn.Module):\n",
    "#     \"\"\"Upscaling then double conv\"\"\"\n",
    "\n",
    "#     def __init__(self, in_channels, out_channels, kernel_size, bilinear=True, concat=True):\n",
    "#         super().__init__()\n",
    "#         self.concat = concat\n",
    "        \n",
    "#         # if bilinear, use the normal convolutions to reduce the number of channels\n",
    "#         if bilinear:\n",
    "#             # self.up = F.interpolate()\n",
    "#             self.up = nn.Upsample(scale_factor=2, mode='linear', align_corners=False)\n",
    "#         else:\n",
    "#             self.up = nn.ConvTranspose1d(in_channels // 2, in_channels // 2, kernel_size=2, stride=2)\n",
    "\n",
    "#         self.conv = DoubleConv(in_channels, out_channels, kernel_size)\n",
    "\n",
    "#     def forward(self, x, skip=None):\n",
    "#         if self.concat:\n",
    "#             x1 = torch.cat([skip, x], dim=1)\n",
    "#         else:\n",
    "#             x1 = x\n",
    "#         x2 = self.up(x1)\n",
    "#         return self.conv(x2)\n",
    "\n",
    "\n",
    "# class UNet1(nn.Module):\n",
    "#     def __init__(self, n_channels, n_classes, bilinear=True, c1=64, c2=128, c3=256, c_neck=512):\n",
    "#         super(UNet1, self).__init__()\n",
    "#         self.n_channels = n_channels\n",
    "#         self.n_classes = n_classes\n",
    "#         self.bilinear = bilinear\n",
    "\n",
    "#         self.down1 = Down(n_channels, c1, kernel_size=7) #64*256\n",
    "#         self.down2 = Down(c1, c2, kernel_size=7) #128*128\n",
    "#         self.down3 = Down(c2, c3,kernel_size=5) #256*64\n",
    "#         self.neck = DoubleConv(c3, c_neck, kernel_size=3) #512*64\n",
    "#         self.up1 = Up(c_neck, c3, kernel_size=3, concat=False) #256*128\n",
    "#         self.up2 = Up(c3+c3, c2, kernel_size=3) #128*256\n",
    "#         self.up3 = Up(c2+c2, c1, kernel_size=3) #64*512\n",
    "#         self.outc = OutDoubleConv(c1+n_channels, n_classes, kernel_size=1) #n_classes*512\n",
    "\n",
    "#     def forward(self, x):\n",
    "#         x, x1_skip = self.down1(x) \n",
    "#         x, x2_skip = self.down2(x) \n",
    "#         x, x3_skip = self.down3(x) \n",
    "#         x = self.neck(x)\n",
    "#         x = self.up1(x)\n",
    "#         x = self.up2(x, x3_skip)\n",
    "#         x = self.up3(x, x2_skip)\n",
    "#         logits = self.outc(torch.cat([x1_skip, x], axis=1)) #B * C * H * W\n",
    "#         return logits\n",
    "    \n",
    "#     def reconstruct(self, x):\n",
    "#         return self.forward(x)\n",
    "    \n",
    "#     def encode(self, x):\n",
    "#         x, x1_skip = self.down1(x) \n",
    "#         x, x2_skip = self.down2(x) \n",
    "#         x, x3_skip = self.down3(x) \n",
    "#         x = self.neck(x)\n",
    "#         return x\n",
    "    \n",
    "#     def decode(self, x):\n",
    "#         raise NotImplemented"
   ]
  },
  {
   "cell_type": "markdown",
   "id": "a9169dba",
   "metadata": {
    "papermill": {
     "duration": 0.28021,
     "end_time": "2023-12-09T21:37:15.898470",
     "exception": false,
     "start_time": "2023-12-09T21:37:15.618260",
     "status": "completed"
    },
    "tags": []
   },
   "source": [
    "### AE"
   ]
  },
  {
   "cell_type": "code",
   "execution_count": 44,
   "id": "73649c30",
   "metadata": {
    "papermill": {
     "duration": 0.250286,
     "end_time": "2023-12-09T21:37:16.386749",
     "exception": false,
     "start_time": "2023-12-09T21:37:16.136463",
     "status": "completed"
    },
    "tags": []
   },
   "outputs": [],
   "source": [
    "# import torch\n",
    "# import torch.nn as nn\n",
    "# import torch.nn.functional as F\n",
    "\n",
    "# class DoubleConv(nn.Module):\n",
    "#     \"\"\"(convolution => [BN] => ReLU) * 2\"\"\"\n",
    "\n",
    "#     def __init__(self, in_channels, out_channels,kernel_size=7):\n",
    "#         super().__init__()\n",
    "#         padding = int((kernel_size - 1) / 2)\n",
    "\n",
    "#         self.double_conv = nn.Sequential(\n",
    "#             nn.Conv1d(in_channels, out_channels, kernel_size=kernel_size, padding=padding),\n",
    "#             nn.BatchNorm1d(out_channels),\n",
    "# #             nn.PReLU(),\n",
    "#             nn.Sigmoid(),\n",
    "#             #nn.ReLU(inplace=True),\n",
    "            \n",
    "#             nn.Conv1d(out_channels, out_channels, kernel_size=kernel_size, padding=padding),\n",
    "#             nn.BatchNorm1d(out_channels),\n",
    "# #             nn.PReLU(),\n",
    "#             #nn.ReLU(inplace=True),\n",
    "#             nn.Sigmoid(),\n",
    "#         )\n",
    "\n",
    "#     def forward(self, x):\n",
    "#         return self.double_conv(x)\n",
    "\n",
    "\n",
    "# class Down(nn.Module):\n",
    "#     \"\"\"Downscaling with maxpool then double conv\"\"\"\n",
    "\n",
    "#     def __init__(self, in_channels, out_channels, kernel_size):\n",
    "#         super().__init__()\n",
    "#         self.maxpool_conv = nn.Sequential(\n",
    "#             nn.MaxPool1d(2),\n",
    "#             DoubleConv(in_channels, out_channels,kernel_size)\n",
    "#         )\n",
    "\n",
    "#     def forward(self, x):\n",
    "#         return self.maxpool_conv(x)\n",
    "\n",
    "\n",
    "# class Up(nn.Module):\n",
    "#     \"\"\"Upscaling then double conv\"\"\"\n",
    "\n",
    "#     def __init__(self, in_channels, out_channels, kernel_size, bilinear=True):\n",
    "#         super().__init__()\n",
    "\n",
    "#         # if bilinear, use the normal convolutions to reduce the number of channels\n",
    "#         if bilinear:\n",
    "#             # self.up = F.interpolate()\n",
    "#             self.up = nn.Upsample(scale_factor=2, mode='linear', align_corners=False)\n",
    "#         else:\n",
    "#             self.up = nn.ConvTranspose1d(in_channels // 2, in_channels // 2, kernel_size=2, stride=2)\n",
    "\n",
    "#         self.conv = DoubleConv(in_channels, out_channels, kernel_size)\n",
    "\n",
    "#     def forward(self, x1, x2):\n",
    "#         x = self.up(x1)\n",
    "#         # input is CHW\n",
    "#         #diffY = torch.tensor([x2.size()[2] - x1.size()[2]])\n",
    "#         #diffX = torch.tensor([x2.size()[3] - x1.size()[3]])\n",
    "\n",
    "#         #x1 = F.pad(x1, [diffX // 2, diffX - diffX // 2,\n",
    "#         #                diffY // 2, diffY - diffY // 2])\n",
    "#         # if you have padding issues, see\n",
    "#         # https://github.com/HaiyongJiang/U-Net-Pytorch-Unstructured-Buggy/commit/0e854509c2cea854e247a9c615f175f76fbb2e3a\n",
    "#         # https://github.com/xiaopeng-liao/Pytorch-UNet/commit/8ebac70e633bac59fc22bb5195e513d5832fb3bd\n",
    "#         #x = torch.cat([x2, x1], dim=1)\n",
    "#         return self.conv(x)\n",
    "\n",
    "\n",
    "# class OutConv(nn.Module):\n",
    "#     def __init__(self, in_channels, out_channels, kernel_size):\n",
    "#         super(OutConv, self).__init__()\n",
    "#         padding = int((kernel_size - 1) / 2)\n",
    "#         self.conv = nn.Conv1d(in_channels, out_channels, kernel_size=kernel_size, padding=padding, bias=True)\n",
    "\n",
    "#     def forward(self, x):\n",
    "#         return self.conv(x)\n",
    "    \n",
    "\n",
    "# class AE(nn.Module):\n",
    "#     def __init__(self, n_channels, n_classes, bilinear=True):\n",
    "#         super(AE, self).__init__()\n",
    "#         self.n_channels = n_channels\n",
    "#         self.n_classes = n_classes\n",
    "#         self.bilinear = bilinear\n",
    "\n",
    "#         self.inc = DoubleConv(n_channels, 4, kernel_size=7) #1024\n",
    "#         self.down1 = Down(4, 8, kernel_size=7) #512\n",
    "#         self.down2 = Down(8, 16,kernel_size=5) #256\n",
    "#         self.down3 = Down(16, 32,kernel_size=3) #128\n",
    "#         self.up1 = Up(32, 16, kernel_size=3) #256\n",
    "#         self.up2 = Up(16, 8, kernel_size=3) #512\n",
    "#         self.up3 = Up(8, 4, kernel_size=3) #1024\n",
    "#         self.outc = OutConv(4, n_classes, kernel_size=1) #1024\n",
    "\n",
    "#     def forward(self, x):\n",
    "#         x1 = self.inc(x)\n",
    "#         x2 = self.down1(x1)\n",
    "#         x3 = self.down2(x2)\n",
    "#         x4 = self.down3(x3)\n",
    "#         x = self.up1(x4, x3)\n",
    "#         x = self.up2(x, x2)\n",
    "#         x = self.up3(x, x1)\n",
    "#         logits = self.outc(x)\n",
    "#         return logits\n",
    "    \n",
    "#     def reconstruct(self, x):\n",
    "#         return self.forward(x)\n",
    "    \n",
    "#     def encode(self, x):\n",
    "#         x1 = self.inc(x)\n",
    "#         x2 = self.down1(x1)\n",
    "#         x3 = self.down2(x2)\n",
    "#         x4 = self.down3(x3)\n",
    "#         return x4\n",
    "\n",
    "# ## Train"
   ]
  },
  {
   "cell_type": "markdown",
   "id": "5b61dd3e",
   "metadata": {
    "papermill": {
     "duration": 0.235169,
     "end_time": "2023-12-09T21:37:16.858016",
     "exception": false,
     "start_time": "2023-12-09T21:37:16.622847",
     "status": "completed"
    },
    "tags": []
   },
   "source": [
    "### Two-layer AE"
   ]
  },
  {
   "cell_type": "code",
   "execution_count": 45,
   "id": "6b5a7171",
   "metadata": {
    "papermill": {
     "duration": 0.264927,
     "end_time": "2023-12-09T21:37:17.360443",
     "exception": false,
     "start_time": "2023-12-09T21:37:17.095516",
     "status": "completed"
    },
    "tags": []
   },
   "outputs": [],
   "source": [
    "def conv_block(in_features: int, out_features: int, kernel=(3, 3), stride=(1, 1), padding=(0, 0)):\n",
    "    return nn.Sequential(\n",
    "        nn.Conv2d(in_features, out_features, kernel, stride, padding),\n",
    "        nn.PReLU(),\n",
    "        nn.BatchNorm2d(out_features),\n",
    "    )\n",
    "\n",
    "class encoder_conv(torch.nn.Module):\n",
    "    def __init__(self, args):\n",
    "        super().__init__()\n",
    "\n",
    "        self.input_dim = args[\"input_dim\"]\n",
    "        self.latent_dim = args[\"latent_dim\"]\n",
    "        self.depth = args[\"input_dim\"][0]\n",
    "        self.n_channels = args[\"input_dim\"][1]\n",
    "        self.chunk_length = args[\"input_dim\"][2]\n",
    "        chunk_lenght_after_convs = int(((self.chunk_length - 6 + 1) - 6 + 1)/2) #57, should be checked for consistency with self.chunk_length!\n",
    "\n",
    "        self.conv_layers = nn.Sequential(\n",
    "            conv_block(self.depth, 32, kernel=(self.n_channels, 6)),\n",
    "            conv_block(32, 32, kernel=(1, 6), stride=(1, 2)),\n",
    "        )\n",
    "\n",
    "        self.fc = nn.Linear(32*chunk_lenght_after_convs, args[\"latent_dim\"]) #embedding\n",
    "\n",
    "    def forward(self, x: torch.Tensor):\n",
    "        h1 = self.conv_layers(x).reshape(x.shape[0], -1)\n",
    "\n",
    "        output = self.fc(h1)\n",
    "        return output\n",
    "\n",
    "def conv_transpose_block(in_features: int, out_features: int, kernel=(3, 3), stride=(1, 1), output_padding=(0, 0)):\n",
    "    return nn.Sequential(\n",
    "        nn.PReLU(),\n",
    "        nn.BatchNorm2d(in_features),\n",
    "        nn.ConvTranspose2d(in_features, out_features, kernel, stride=stride, output_padding=output_padding),\n",
    "    )\n",
    "\n",
    "class decoder_conv(torch.nn.Module):\n",
    "    def __init__(self, args):\n",
    "        super().__init__()\n",
    "        self.input_dim = args[\"input_dim\"]\n",
    "        self.latent_dim = args[\"latent_dim\"]\n",
    "        self.depth = args[\"input_dim\"][0]\n",
    "        self.n_channels = args[\"input_dim\"][1]\n",
    "        self.chunk_length = args[\"input_dim\"][2]\n",
    "        self.chunk_lenght_after_convs = int(((self.chunk_length - 6 + 1) - 6 + 1)/2) #57, should be checked for consistency with self.chunk_length!\n",
    "\n",
    "        self.fc = nn.Linear(args[\"latent_dim\"], 32*self.chunk_lenght_after_convs)\n",
    "        self.conv_layers = nn.Sequential(\n",
    "            conv_transpose_block(32, 32, kernel=(1, 6), stride=(1, 2), output_padding=(0, 1)),\n",
    "            conv_transpose_block(32, self.depth, kernel=(self.n_channels, 6)),\n",
    "        )\n",
    "\n",
    "    def forward(self, z: torch.Tensor):\n",
    "        h1 = self.fc(z).reshape(z.shape[0], 32, 1, self.chunk_lenght_after_convs)\n",
    "        output = self.conv_layers(h1)\n",
    "\n",
    "        return output\n",
    "\n",
    "class AE_framework(torch.nn.Module):\n",
    "    def __init__(self, encoder, decoder, **args):\n",
    "        super().__init__()\n",
    "        self.encoder = encoder\n",
    "        self.decoder = decoder\n",
    "        self.Z_DIM = args[\"latent_dim\"]\n",
    "        self.input_dim = args[\"input_dim\"]\n",
    "        \n",
    "    def _encode(self, imgs):\n",
    "        return self.encoder(imgs)\n",
    "\n",
    "    def encode(self, imgs):\n",
    "        return self._encode(imgs)\n",
    "\n",
    "    def decode(self, z):\n",
    "        return self.decoder(z)\n",
    "\n",
    "    def _reconstruct(self, imgs):\n",
    "        z = self._encode(imgs)\n",
    "        decoded_imgs = self.decode(z)\n",
    "        return decoded_imgs, z\n",
    "    \n",
    "    def reconstruct(self, imgs):\n",
    "        return self._reconstruct(imgs)[0]\n",
    "\n",
    "    def forward(self, imgs):\n",
    "        decoded_imgs, z = self._reconstruct(imgs)\n",
    "\n",
    "        err = ((imgs - decoded_imgs)**2).sum([1, 2, 3])\n",
    "        log_p_x_given_z = -err\n",
    "        loss = -log_p_x_given_z\n",
    "\n",
    "        return {\n",
    "            'loss': loss.mean(),\n",
    "            '-log p(x|z)': -log_p_x_given_z.mean(),\n",
    "            'decoded_imgs': decoded_imgs\n",
    "        }"
   ]
  },
  {
   "cell_type": "markdown",
   "id": "69b7e5c0",
   "metadata": {
    "papermill": {
     "duration": 0.235463,
     "end_time": "2023-12-09T21:37:17.834552",
     "exception": false,
     "start_time": "2023-12-09T21:37:17.599089",
     "status": "completed"
    },
    "tags": []
   },
   "source": [
    "## Training"
   ]
  },
  {
   "cell_type": "markdown",
   "id": "aa1933cf",
   "metadata": {
    "id": "yRPqPVXKpFLW",
    "papermill": {
     "duration": 0.237746,
     "end_time": "2023-12-09T21:37:18.311355",
     "exception": false,
     "start_time": "2023-12-09T21:37:18.073609",
     "status": "completed"
    },
    "tags": []
   },
   "source": [
    "### Logger"
   ]
  },
  {
   "cell_type": "code",
   "execution_count": 46,
   "id": "2dd3fba3",
   "metadata": {
    "papermill": {
     "duration": 0.27395,
     "end_time": "2023-12-09T21:37:18.823883",
     "exception": false,
     "start_time": "2023-12-09T21:37:18.549933",
     "status": "completed"
    },
    "tags": []
   },
   "outputs": [],
   "source": [
    "class Logger:\n",
    "    def __init__(\n",
    "        self,\n",
    "        log_type : str,\n",
    "        model : torch.nn.Module = None,\n",
    "\n",
    "        #saving\n",
    "        save_path : str = None,\n",
    "        model_name : str = None,\n",
    "\n",
    "        #wandb/tensorboard\n",
    "        run_name : str = None,\n",
    "        \n",
    "        #tensorboard\n",
    "        log_dir : str = None,\n",
    "        \n",
    "        #wandb\n",
    "        project_name : str = None,\n",
    "        config : dict = {},\n",
    "        log_freq : int = 10,\n",
    "        model_description : str = None,\n",
    "    ):\n",
    "        \n",
    "        self.log_type = log_type\n",
    "        self.run_name = run_name\n",
    "        self.model = model\n",
    "        self.model_name = model_name\n",
    "        self.save_path = save_path\n",
    "        self.is_save_model = self.save_path is not None and self.model_name is not None\n",
    "        self.reset()\n",
    "        \n",
    "        if self.log_type == \"tensorboard\":\n",
    "            if self.log_dir is not None:\n",
    "                print(f\"Logging via TensorBoard, logs are in {self.log_dir}\")\n",
    "                \n",
    "                self.log_dir = log_dir\n",
    "                if not os.path.exists(self.log_dir):\n",
    "                    os.makedirs(self.log_dir)\n",
    "                %tensorboard --logdir=self.log_dir --port 6007\n",
    "                self.writer = SummaryWriter(self.log_dir)\n",
    "                \n",
    "            else:\n",
    "                raise ValueError(\"Logging directory wasn't set\")\n",
    "                \n",
    "        elif self.log_type == \"wandb\":\n",
    "            print(\"Logging via WandB\")\n",
    "            \n",
    "            self.run = wandb.init(name=self.run_name, project=project_name, config=config)  # Initialize wandb\n",
    "            self.artifact = wandb.Artifact(config['model'], type='model', description=model_description, metadata=config)\n",
    "            \n",
    "            wandb.watch(model, log_freq=log_freq)\n",
    "            \n",
    "        elif self.log_type == \"none\":\n",
    "            print(\"No logging\")\n",
    "        \n",
    "        else:\n",
    "            raise ValueError(\"Unknown logging type\")\n",
    "            \n",
    "    def addOrCreate(self, d, k, v):\n",
    "        if isinstance(v, torch.Tensor):\n",
    "            v = v.detach().cpu().numpy()\n",
    "        \n",
    "        if k in d: d[k] += v\n",
    "        else: d[k] = v\n",
    "                \n",
    "    def reset(self):\n",
    "        self.per_step_values = {}\n",
    "        self.n_steps = 0\n",
    "        self.other_values = {}\n",
    "        self.n_steps_other = 0\n",
    "        \n",
    "    def get(self):\n",
    "        return {**self.per_step_values, **self.other_values}\n",
    "        \n",
    "    def _append(self, k, v):\n",
    "        self.addOrCreate(self.per_step_values, k, v)\n",
    "    \n",
    "    def _append_other(self, k, v):\n",
    "        self.addOrCreate(self.other_values, k, v)\n",
    "        \n",
    "    def update(self, d):\n",
    "        for key in d:\n",
    "            self._append(key, d[key])\n",
    "        self.n_steps += 1\n",
    "    \n",
    "    def update_other(self, d):\n",
    "        for key in d:\n",
    "            self._append_other(key, d[key])\n",
    "        self.n_steps_other += 1\n",
    "        \n",
    "    def average(self):\n",
    "        for key in self.per_step_values: self.per_step_values[key] /= self.n_steps\n",
    "        for key in self.other_values: self.other_values[key] /= self.n_steps_other   \n",
    "        \n",
    "    def log(self, epoch_type, epoch):\n",
    "        if self.log_type == \"tensorboard\":\n",
    "            self.writer.add_scalar(self.run_name, scalar_value={epoch_type: self.get()}, global_step=epoch)\n",
    "        \n",
    "        elif self.log_type == \"wandb\":\n",
    "            wandb.log({epoch_type: self.get()}, step=epoch)\n",
    "            \n",
    "    def _log_model(self, model_file):\n",
    "        self.artifact.add_file(model_file)\n",
    "            \n",
    "    def save_model(self, epoch):\n",
    "        if self.log_type == \"none\":\n",
    "            pass\n",
    "        \n",
    "        elif self.is_save_model:\n",
    "            save_dir = os.path.join(self.save_path, self.model_name)\n",
    "            if not os.path.exists(save_dir):\n",
    "                os.makedirs(save_dir)\n",
    "            \n",
    "            model_file = os.path.join(save_dir, str(epoch) + \"_epoch.pth\")\n",
    "            torch.save(self.model.state_dict(), model_file)\n",
    "\n",
    "            if self.log_type == \"wandb\":\n",
    "                self._log_model(model_file)\n",
    "        \n",
    "        elif self.save_path is not None and self.model_name is None:\n",
    "            raise ValueError(\"Model_name hasn't been set whereas save_path has\")\n",
    "        \n",
    "    def finish(self):\n",
    "        if self.log_type == \"tensorboard\": \n",
    "            self.writer.close()\n",
    "        \n",
    "        if self.log_type == \"wandb\":\n",
    "            if self.is_save_model:\n",
    "                self.run.log_artifact(self.artifact)\n",
    "            wandb.finish()"
   ]
  },
  {
   "cell_type": "markdown",
   "id": "55b2bb10",
   "metadata": {
    "papermill": {
     "duration": 0.243687,
     "end_time": "2023-12-09T21:37:19.322196",
     "exception": false,
     "start_time": "2023-12-09T21:37:19.078509",
     "status": "completed"
    },
    "tags": []
   },
   "source": [
    "### Train/validation function"
   ]
  },
  {
   "cell_type": "code",
   "execution_count": 47,
   "id": "2e7661b7",
   "metadata": {
    "id": "k0-kW5lopFLW",
    "papermill": {
     "duration": 0.283568,
     "end_time": "2023-12-09T21:37:19.844110",
     "exception": false,
     "start_time": "2023-12-09T21:37:19.560542",
     "status": "completed"
    },
    "tags": []
   },
   "outputs": [],
   "source": [
    "from IPython.display import clear_output, display\n",
    "\n",
    "def check_instance(object, types):\n",
    "    for class_type in types:\n",
    "        if isinstance(object, class_type):\n",
    "            return True\n",
    "    return False\n",
    "\n",
    "def mask_chunks(chunks, mask_ratio = 0.5):\n",
    "    B = chunks.shape[0]\n",
    "    length = chunks.shape[-1]\n",
    "    mask_length = int(length*mask_ratio)\n",
    "    max_mask_idx = length - mask_length\n",
    "    mask_idxs = (max_mask_idx * torch.rand(*list(chunks.shape[:-1]))).type(torch.int)\n",
    "    \n",
    "    chunks = chunks.clone().detach()\n",
    "    chunks_mean = chunks.mean(dim=-1, keepdim=True)\n",
    "    chunks_std = chunks.std(dim=-1, keepdim=True)\n",
    "    noise = torch.randn(*chunks.shape[:-1], mask_length)*chunks_std + chunks_mean\n",
    "    \n",
    "    if (noise.max() > 1 or noise.min() < 0) and noise.max() - noise.min() != 0:\n",
    "            noise = (noise - noise.min())/(noise.max() - noise.min()) \n",
    "            \n",
    "    if len(chunks.shape) == 3:\n",
    "        for chunk, noise_chunk, chunk_mask_idxs in zip(chunks, noise, mask_idxs):\n",
    "            for ch, noise_ch, ch_mask_idx in zip(chunk, noise_chunk, chunk_mask_idxs):\n",
    "                ch[ch_mask_idx:ch_mask_idx + mask_length] = noise_ch\n",
    "                \n",
    "    elif len(chunks.shape) == 4:\n",
    "        for chunk, noise_chunk, chunk_mask_idxs in zip(chunks, noise, mask_idxs):\n",
    "            for ch_d, noise_ch_d, ch_d_mask_idxs in zip(chunk, noise_chunk, chunk_mask_idxs):\n",
    "                for ch, noise_ch, ch_mask_idx in zip(ch_d, noise_ch_d, ch_d_mask_idxs):\n",
    "                    ch[ch_mask_idx:ch_mask_idx + mask_length] = noise_ch\n",
    "        \n",
    "    else:\n",
    "        raise ValueError(f\"Unexpected number of dimensions in chunks: {len(chunks.shape)}\")\n",
    "                \n",
    "    return chunks\n",
    "\n",
    "def train_eval(\n",
    "    dataloader,\n",
    "    model,\n",
    "    device=\"cuda\",\n",
    "    mode=\"train\",\n",
    "    optimizer=None,\n",
    "    test_dataset=None,\n",
    "    targets_test=None,\n",
    "    \n",
    "    step_max=None,\n",
    "    \n",
    "    check_period=None,\n",
    "    plot_period=None,\n",
    "    epoch=0,\n",
    "    verbose=0,\n",
    "    check_steps=None,\n",
    "    plot_steps=None,\n",
    "    buffer_max=10,\n",
    "    logger=None,\n",
    "    \n",
    "    ml_model=None,\n",
    "    ml_param_grid=None, \n",
    "    ml_eval_function=None,\n",
    "    ml_metric_names=None,\n",
    "    ml_metric_prefix=None,\n",
    "    plot_type=\"regression\", #\"regression\"/\"classification\"\n",
    "    \n",
    "    loss_coefs=None,\n",
    "    \n",
    "    is_mask=False,\n",
    "    mask_ratio=0.5,\n",
    "):\n",
    "    if mode == \"train\":\n",
    "        model.train()\n",
    "        print(\"Model is in train mode\")\n",
    "    elif mode == \"validation\":\n",
    "        model.eval()\n",
    "        print(\"Model is in evaluation mode\")\n",
    "    else:\n",
    "        print(\"Unknown mode\")\n",
    "        raise ValueError\n",
    "\n",
    "    try:\n",
    "        logger.reset()\n",
    "        buffer_cnt = 0\n",
    "        values_keys = []\n",
    "\n",
    "        for step, imgs in enumerate(dataloader):\n",
    "            #masking\n",
    "            if is_mask: imgs_masked = mask_chunks(imgs, mask_ratio=mask_ratio)\n",
    "            \n",
    "            #results\n",
    "            if check_instance(model, [VAE, BetaVAE_H, BetaVAE_B, AE_framework]):\n",
    "                if is_mask: results = model(imgs_masked.to(device))\n",
    "                else: results = model(imgs.to(device))\n",
    "                outputs = results[\"decoded_imgs\"]\n",
    "            else:\n",
    "                if is_mask: outputs = model(imgs_masked.to(device))\n",
    "                else: outputs = model(imgs.to(device))\n",
    "    \n",
    "            #Loss parts computation\n",
    "            sum_dims = tuple(range(1, len(imgs.shape)))\n",
    "            \n",
    "            #amplitude\n",
    "            loss_ampl = ((outputs - imgs.to(device))**2).sum(sum_dims).mean()\n",
    "    \n",
    "            #velocity\n",
    "            outputs_vel = (outputs[:, :, :-1] - outputs[:, :, 1:])\n",
    "            imgs_vel = (imgs.to(device)[:, :, :-1] - imgs.to(device)[:, :, 1:])\n",
    "            loss_vel = ((outputs_vel - imgs_vel)**2).sum(sum_dims).mean()\n",
    "    \n",
    "            #acceleration\n",
    "            outputs_acc = (outputs_vel[:, :, :-1] - outputs_vel[:, :, 1:])\n",
    "            imgs_acc = (imgs_vel[:, :, :-1] - imgs_vel[:, :, 1:])\n",
    "            loss_acc = ((outputs_acc - imgs_acc)**2).sum(sum_dims).mean()\n",
    "    \n",
    "            #frequency\n",
    "            Foutputs = torch.fft.fft(outputs)\n",
    "            Foutputs_abs = torch.nn.functional.normalize(torch.abs(outputs), dim=sum_dims[-1])\n",
    "            Fimgs = torch.fft.fft(imgs.to(device))\n",
    "            Fimgs_abs = torch.nn.functional.normalize(torch.abs(Fimgs), dim=sum_dims[-1])\n",
    "            loss_frq = ((Foutputs_abs - Fimgs_abs)**2).sum(sum_dims).mean()\n",
    "    \n",
    "            #summation\n",
    "            if loss_coefs is None: loss_coefs = {\"ampl\": 1, \"vel\": 0, \"acc\": 0, \"frq\": 0}\n",
    "            loss_mean = (\n",
    "                loss_coefs[\"ampl\"]*loss_ampl + \n",
    "                loss_coefs[\"vel\"]*loss_vel + \n",
    "                loss_coefs[\"acc\"]*loss_acc + \n",
    "                loss_coefs[\"frq\"]*loss_frq\n",
    "            )/np.sum(list(loss_coefs.values()))\n",
    "            \n",
    "            if isinstance(model, BetaVAE_B): model.update_global_iter(n=1)\n",
    "\n",
    "            #learning step\n",
    "            if mode == \"train\":\n",
    "                optimizer.zero_grad()\n",
    "                loss_mean.backward()\n",
    "                optimizer.step()\n",
    "                \n",
    "            #metrics\n",
    "            decoded_imgs = outputs.cpu()\n",
    "            \n",
    "            ##pearson correlation\n",
    "            corr_running = 0\n",
    "            for img, decoded_img in zip(imgs, decoded_imgs): #s * 1 * c * t\n",
    "                for ch_img, ch_d_img in zip(img.squeeze(), decoded_img.squeeze()):\n",
    "                    corr_coef = torch.corrcoef(torch.stack([ch_img, ch_d_img]))[0][1]\n",
    "                    corr_running += corr_coef\n",
    "            corr_avg = corr_running/torch.prod(torch.tensor(imgs.shape[:-1]))\n",
    "\n",
    "            ##metric\n",
    "            err = ((imgs - decoded_imgs)**2).sum(tuple(range(1, len(imgs.shape))))\n",
    "            max_diff_norm = torch.prod(torch.tensor(imgs.shape[1:])) * 1\n",
    "            metric = 1 - err / max_diff_norm #in [0, 1]\n",
    "            \n",
    "            ##snr\n",
    "            noise = imgs - decoded_imgs\n",
    "            signal_power = torch.linalg.vector_norm(imgs, dim=len(imgs.shape)-1)**2\n",
    "            noise_power = torch.linalg.vector_norm(noise, dim=len(noise.shape)-1)**2\n",
    "            snr_db = 10*torch.log10(signal_power/noise_power).mean()\n",
    "            \n",
    "            #logging 'per step' values\n",
    "            logger.update({\n",
    "                'loss': loss_mean.cpu(),\n",
    "                'metric': metric.mean(),\n",
    "                'pearson_correlation': corr_avg,\n",
    "                'snr_db': snr_db,\n",
    "                'loss_ampl': loss_ampl.cpu(),\n",
    "                'loss_vel': loss_vel.cpu(),\n",
    "                'loss_acc': loss_acc.cpu(),\n",
    "                'loss_frq': loss_frq.cpu()\n",
    "            })\n",
    "            \n",
    "            if check_instance(model, [VAE, BetaVAE_H, BetaVAE_B]):\n",
    "                for key in ['-log p(x|z)', \"kl\"]: logger._append(key, results[key])\n",
    "\n",
    "            #embeddings\n",
    "            def get_embeddings(model, test_dataset, targets_test):\n",
    "                if mode == \"train\": model.eval()\n",
    "                embeddings_test = model.encode(test_dataset[:].to(device)).detach().cpu().numpy().reshape(len(test_dataset), -1)\n",
    "                if mode == \"train\": model.train()\n",
    "\n",
    "                X = np.array(embeddings_test)\n",
    "                y = np.array(targets_test)\n",
    "\n",
    "                if np.any(np.isnan(X)): \n",
    "                    nan_indexes = np.where(np.isnan(X))\n",
    "                    print(\"Test dataset sample:\", test_dataset[nan_indexes[0]], \"Embedding:\", embeddings_test[nan_indexes[0]])\n",
    "                    raise ValueError(\"NaN in embeddings\")\n",
    "                if np.any(np.isnan(y)): \n",
    "                    raise ValueError(\"NaN in targets\")\n",
    "\n",
    "                indices = list(range(len(X)))\n",
    "                np.random.shuffle(indices)\n",
    "                return X[indices], y[indices]\n",
    "\n",
    "            #plotting\n",
    "            if (plot_period is not None and step % plot_period == 0) or\\\n",
    "            (plot_steps is not None and step in plot_steps):\n",
    "                if buffer_cnt >= buffer_max:\n",
    "                    clear_output(wait=True)\n",
    "                    buffer_cnt = 0\n",
    "                buffer_cnt += 1\n",
    "\n",
    "                print(f\"Epoch {epoch}, step {step}\")\n",
    "\n",
    "                #pca embeddnigs\n",
    "                print(\"Plotting PCA...\")\n",
    "                X, y = get_embeddings(model, test_dataset, targets_test)\n",
    "                fig, ax = plt.subplots(1, 2, figsize=(12, 3))\n",
    "                plotData(X, y, method=\"pca\", ax=ax[0], plot_type=plot_type)\n",
    "                \n",
    "                #plot reconstruction\n",
    "                print(\"Plotting reconstruction...\")\n",
    "                ax[1].plot(imgs[0].squeeze()[0], label=\"data\", color=\"b\", marker=\"o\")\n",
    "                if mode == \"train\": model.eval()\n",
    "                imgs_reconstructed = model.reconstruct(imgs.to(device))\n",
    "                if mode == \"train\": model.train()\n",
    "                ax[1].plot(imgs_reconstructed[0].squeeze()[0].detach().cpu(), label=\"approximation\", color=\"r\")\n",
    "                plt.show()\n",
    "\n",
    "            #classifier/regressor metrics evaluation\n",
    "            if (check_period is not None and step % check_period == 0) or\\\n",
    "            (check_steps is not None and step in check_steps):\n",
    "                if ml_model is None or ml_param_grid is None or ml_metric_names is None or ml_eval_function is None:\n",
    "                    raise ValueError(\"Any of ml parameter is not defined\")\n",
    "\n",
    "                print(\"Classifier/regressor metrics evaluation...\")\n",
    "                X, y = get_embeddings(model, test_dataset, targets_test)\n",
    "                results = ml_eval_function(X, y, ml_model, ml_param_grid, verbose=verbose)\n",
    "                metrics_to_log = {}\n",
    "                for metric_name in ml_metric_names: metrics_to_log[ml_metric_prefix + metric_name] = results[metric_name]\n",
    "                logger.update_other(metrics_to_log)\n",
    "\n",
    "            #break\n",
    "            if step_max is not None and step >= step_max:\n",
    "                break\n",
    "\n",
    "        #logging final results\n",
    "        logger.average()\n",
    "        if optimizer is not None: logger._append(\"lr\", optimizer.param_groups[0]['lr'])\n",
    "        if isinstance(model, BetaVAE_B): logger._append(\"C\", model.get_C())\n",
    "        logger.log(mode, epoch)\n",
    "        \n",
    "        return model, logger.get()\n",
    "\n",
    "    except KeyboardInterrupt:\n",
    "        return model, {}"
   ]
  },
  {
   "cell_type": "markdown",
   "id": "50b5afef",
   "metadata": {
    "id": "DbKCz1ZQpFLX",
    "papermill": {
     "duration": 0.237131,
     "end_time": "2023-12-09T21:37:20.320426",
     "exception": false,
     "start_time": "2023-12-09T21:37:20.083295",
     "status": "completed"
    },
    "tags": []
   },
   "source": [
    "### train"
   ]
  },
  {
   "cell_type": "code",
   "execution_count": 52,
   "id": "82f46071",
   "metadata": {
    "id": "UETpSVBYpFLX",
    "outputId": "da5dac89-be82-4097-a31e-d7694d291d80",
    "papermill": {
     "duration": 3624.430895,
     "end_time": "2023-12-09T22:37:44.988345",
     "exception": false,
     "start_time": "2023-12-09T21:37:20.557450",
     "status": "completed"
    },
    "tags": []
   },
   "outputs": [
    {
     "name": "stdout",
     "output_type": "stream",
     "text": [
      "model AE, 3 ch., 32/32, 6/6, PReLU is created\n",
      "optimzer created\n",
      "scheduler created\n",
      "Test data point shape: torch.Size([1, 1, 3, 120])\n",
      "Test inference: 3\n",
      "Test reconstruct: torch.Size([1, 1, 3, 120])\n",
      "Test encode: torch.Size([1, 10])\n",
      "Config: {'model': 'AE_framework', 'model_config': {'latent_dim': 10, 'input_dim': torch.Size([1, 3, 120])}, 'optimizer': 'AdamW', 'optimizer_config': {'lr': 0.001, 'betas': (0.9, 0.999), 'eps': 1e-08, 'weight_decay': 0.01, 'amsgrad': False, 'foreach': None, 'maximize': False, 'capturable': False, 'differentiable': False, 'fused': None}, 'scheduler': 'ReduceLROnPlateau', 'scheduler_config': {'factor': 0.5, 'min_lr': 0, 'patience': 3, 'cooldown': 0, 'mode': 'min', 'threshold': 0.0001, 'threshold_mode': 'rel', 'eps': 1e-08}, 'loss_coefs': {'ampl': 1, 'vel': 0, 'acc': 0, 'frq': 0}, 'masking': {'n_masks': 0, 'mask_ratio': 0}, 'start_epoch': 0, 'end_epoch': 2, 'batch_size': 256, 'num_workers': 0, 'samples_shape': (3, 124), 'n_train_samples': 8519, 'n_test_samples': 1080, 'minmax': 'across_whole_sample', 'record_part': 'first 60 s', 'task': 'MDD classification', 'dataset': 'depression anonymized', 'method': 'direct restoration', 'save path': 'models/'}\n",
      "No logging\n"
     ]
    },
    {
     "name": "stderr",
     "output_type": "stream",
     "text": [
      "  0%|                                                                                                                                    | 0/2 [00:00<?, ?it/s]"
     ]
    },
    {
     "name": "stdout",
     "output_type": "stream",
     "text": [
      "Model is in train mode\n",
      "{'loss': array(1255.8677, dtype=float32), 'metric': array(-2.4885213, dtype=float32), 'pearson_correlation': array(0.00114679, dtype=float32), 'snr_db': array(-10.993438, dtype=float32), 'loss_ampl': array(1255.8677, dtype=float32), 'loss_vel': array(1383.4752, dtype=float32), 'loss_acc': array(1968.7046, dtype=float32), 'loss_frq': array(5.189507, dtype=float32), 'lr': 0.001}\n",
      "Model is in evaluation mode\n",
      "Epoch 0, step 0\n",
      "Plotting PCA...\n"
     ]
    },
    {
     "data": {
      "text/html": [
       "<div>\n",
       "<style scoped>\n",
       "    .dataframe tbody tr th:only-of-type {\n",
       "        vertical-align: middle;\n",
       "    }\n",
       "\n",
       "    .dataframe tbody tr th {\n",
       "        vertical-align: top;\n",
       "    }\n",
       "\n",
       "    .dataframe thead th {\n",
       "        text-align: right;\n",
       "    }\n",
       "</style>\n",
       "<table border=\"1\" class=\"dataframe\">\n",
       "  <thead>\n",
       "    <tr style=\"text-align: right;\">\n",
       "      <th></th>\n",
       "      <th>Explained variance</th>\n",
       "      <th>Ratio</th>\n",
       "    </tr>\n",
       "  </thead>\n",
       "  <tbody>\n",
       "    <tr>\n",
       "      <th>0</th>\n",
       "      <td>0.000735</td>\n",
       "      <td>0.610121</td>\n",
       "    </tr>\n",
       "    <tr>\n",
       "      <th>1</th>\n",
       "      <td>0.000143</td>\n",
       "      <td>0.118449</td>\n",
       "    </tr>\n",
       "  </tbody>\n",
       "</table>\n",
       "</div>"
      ],
      "text/plain": [
       "   Explained variance     Ratio\n",
       "0            0.000735  0.610121\n",
       "1            0.000143  0.118449"
      ]
     },
     "metadata": {},
     "output_type": "display_data"
    },
    {
     "name": "stdout",
     "output_type": "stream",
     "text": [
      "Plotting reconstruction...\n"
     ]
    },
    {
     "data": {
      "image/png": "[encoded data removed]",
      "text/plain": [
       "<Figure size 1200x300 with 2 Axes>"
      ]
     },
     "metadata": {},
     "output_type": "display_data"
    },
    {
     "name": "stdout",
     "output_type": "stream",
     "text": [
      "Classifier/regressor metrics evaluation...\n",
      "\n",
      "Data split\n",
      "\n",
      "GridSearchCV\n",
      "Fitting 5 folds for each of 3 candidates, totalling 15 fits\n",
      "\n",
      "Evaluation on the train data\n",
      "PR AUC, n_sigma=2: 0.470+-0.050\n"
     ]
    },
    {
     "data": {
      "image/png": "[encoded data removed]",
      "text/plain": [
       "<Figure size 2000x500 with 5 Axes>"
      ]
     },
     "metadata": {},
     "output_type": "display_data"
    },
    {
     "name": "stdout",
     "output_type": "stream",
     "text": [
      "\n",
      "Evaluation on the test data\n",
      "PR AUC, n_sigma=2: 0.550+-0.077\n"
     ]
    },
    {
     "data": {
      "image/png": "[encoded data removed]",
      "text/plain": [
       "<Figure size 2000x500 with 5 Axes>"
      ]
     },
     "metadata": {},
     "output_type": "display_data"
    },
    {
     "name": "stderr",
     "output_type": "stream",
     "text": [
      " 50%|██████████████████████████████████████████████████████████████                                                              | 1/2 [00:07<00:07,  7.54s/it]"
     ]
    },
    {
     "name": "stdout",
     "output_type": "stream",
     "text": [
      "{'loss': array(183.03487, dtype=float32), 'metric': array(0.49156985, dtype=float32), 'pearson_correlation': array(0.0017904, dtype=float32), 'snr_db': array(-2.6469307, dtype=float32), 'loss_ampl': array(183.03487, dtype=float32), 'loss_vel': array(20.471128, dtype=float32), 'loss_acc': array(23.044266, dtype=float32), 'loss_frq': array(4.637219, dtype=float32), 'clf_pr_auc_mean_test': 0.5501588401848967, 'clf_pr_auc_mean_train': 0.4696084908966579, 'clf_accuracy_test': 0.47058823529411764, 'clf_accuracy_train': 0.5297372060857538}\n",
      "New best loss 183.0348663330078 on epoch 0, model was saved\n",
      "Model is in train mode\n",
      "{'loss': array(798.5735, dtype=float32), 'metric': array(-1.2182598, dtype=float32), 'pearson_correlation': array(0.00949562, dtype=float32), 'snr_db': array(-8.600427, dtype=float32), 'loss_ampl': array(798.5735, dtype=float32), 'loss_vel': array(842.429, dtype=float32), 'loss_acc': array(1246.3466, dtype=float32), 'loss_frq': array(5.1537333, dtype=float32), 'lr': 0.001}\n",
      "Model is in evaluation mode\n",
      "Epoch 1, step 0\n",
      "Plotting PCA...\n"
     ]
    },
    {
     "data": {
      "text/html": [
       "<div>\n",
       "<style scoped>\n",
       "    .dataframe tbody tr th:only-of-type {\n",
       "        vertical-align: middle;\n",
       "    }\n",
       "\n",
       "    .dataframe tbody tr th {\n",
       "        vertical-align: top;\n",
       "    }\n",
       "\n",
       "    .dataframe thead th {\n",
       "        text-align: right;\n",
       "    }\n",
       "</style>\n",
       "<table border=\"1\" class=\"dataframe\">\n",
       "  <thead>\n",
       "    <tr style=\"text-align: right;\">\n",
       "      <th></th>\n",
       "      <th>Explained variance</th>\n",
       "      <th>Ratio</th>\n",
       "    </tr>\n",
       "  </thead>\n",
       "  <tbody>\n",
       "    <tr>\n",
       "      <th>0</th>\n",
       "      <td>0.005353</td>\n",
       "      <td>0.842779</td>\n",
       "    </tr>\n",
       "    <tr>\n",
       "      <th>1</th>\n",
       "      <td>0.000456</td>\n",
       "      <td>0.071750</td>\n",
       "    </tr>\n",
       "  </tbody>\n",
       "</table>\n",
       "</div>"
      ],
      "text/plain": [
       "   Explained variance     Ratio\n",
       "0            0.005353  0.842779\n",
       "1            0.000456  0.071750"
      ]
     },
     "metadata": {},
     "output_type": "display_data"
    },
    {
     "name": "stdout",
     "output_type": "stream",
     "text": [
      "Plotting reconstruction...\n"
     ]
    },
    {
     "data": {
      "image/png": "[encoded data removed]",
      "text/plain": [
       "<Figure size 1200x300 with 2 Axes>"
      ]
     },
     "metadata": {},
     "output_type": "display_data"
    },
    {
     "name": "stdout",
     "output_type": "stream",
     "text": [
      "Classifier/regressor metrics evaluation...\n",
      "\n",
      "Data split\n",
      "\n",
      "GridSearchCV\n",
      "Fitting 5 folds for each of 3 candidates, totalling 15 fits\n",
      "\n",
      "Evaluation on the train data\n",
      "PR AUC, n_sigma=2: 0.467+-0.046\n"
     ]
    },
    {
     "data": {
      "image/png": "[encoded data removed]",
      "text/plain": [
       "<Figure size 2000x500 with 5 Axes>"
      ]
     },
     "metadata": {},
     "output_type": "display_data"
    },
    {
     "name": "stdout",
     "output_type": "stream",
     "text": [
      "\n",
      "Evaluation on the test data\n",
      "PR AUC, n_sigma=2: 0.525+-0.072\n"
     ]
    },
    {
     "data": {
      "image/png": "[encoded data removed]",
      "text/plain": [
       "<Figure size 2000x500 with 5 Axes>"
      ]
     },
     "metadata": {},
     "output_type": "display_data"
    },
    {
     "name": "stderr",
     "output_type": "stream",
     "text": [
      "100%|████████████████████████████████████████████████████████████████████████████████████████████████████████████████████████████| 2/2 [00:14<00:00,  7.13s/it]"
     ]
    },
    {
     "name": "stdout",
     "output_type": "stream",
     "text": [
      "{'loss': array(173.04073, dtype=float32), 'metric': array(0.5193313, dtype=float32), 'pearson_correlation': array(0.00350708, dtype=float32), 'snr_db': array(-2.3833392, dtype=float32), 'loss_ampl': array(173.04073, dtype=float32), 'loss_vel': array(20.848907, dtype=float32), 'loss_acc': array(23.400467, dtype=float32), 'loss_frq': array(4.621206, dtype=float32), 'clf_pr_auc_mean_test': 0.5253252978370742, 'clf_pr_auc_mean_train': 0.4666272044097431, 'clf_accuracy_test': 0.5098039215686274, 'clf_accuracy_train': 0.5546334716459198}\n",
      "New best loss 173.0407257080078 on epoch 1, model was saved\n"
     ]
    },
    {
     "name": "stderr",
     "output_type": "stream",
     "text": [
      "\n"
     ]
    }
   ],
   "source": [
    "import random\n",
    "from sklearn.preprocessing import StandardScaler\n",
    "from sklearn.svm import SVC\n",
    "from utils.models_evaluation import evaluateClassifier, evaluateRegressor\n",
    "\n",
    "torch.manual_seed(SEED)\n",
    "torch.cuda.manual_seed_all(SEED)\n",
    "torch.backends.cudnn.deterministic = True\n",
    "torch.backends.cudnn.benchmark = False\n",
    "np.random.seed(SEED)\n",
    "random.seed(SEED)\n",
    "os.environ['PYTHONHASHSEED'] = str(SEED)\n",
    "\n",
    "## models #######################################################################\n",
    "\n",
    "# model_description=\"beta-VAE, 3 ch., 32/32, 6/6, PReLU\"\n",
    "# model_config = {\n",
    "#     \"latent_dim\": 10,\n",
    "#     \"beta\": 2,\n",
    "#     \"input_dim\": train_dataset[0].shape,\n",
    "#     \"latent_std\": 1\n",
    "# }\n",
    "# model = VAE(\n",
    "#     encoder_conv(model_config),\n",
    "#     decoder_conv(model_config),\n",
    "#     **model_config\n",
    "# ).to(device)\n",
    "\n",
    "# model_description=\"0 train, inhouse, beta-VAE-B, 3 ch., 32/32, 6/6, PReLU\"\n",
    "# model_config = {\n",
    "#     \"latent_dim\": 10,\n",
    "#     \"beta\": 100,\n",
    "#     \"input_dim\": train_dataset[0].shape,\n",
    "#     \"latent_std\": 1,\n",
    "#     \"C_max\": 100,\n",
    "#     \"C_stop_iter\": len(train_dataloader)*50,\n",
    "#     \"device\": device\n",
    "# }\n",
    "# model = BetaVAE_B(\n",
    "#     encoder_conv(model_config),\n",
    "#     decoder_conv(model_config),\n",
    "#     **model_config\n",
    "# ).to(device)\n",
    "\n",
    "# model_description=\"inhouse, beta-VAE-H, 3 ch., 32/32, 6/6, PReLU\"\n",
    "# model_config = {\n",
    "#     \"latent_dim\": 10,\n",
    "#     \"beta\": 2,\n",
    "#     \"input_dim\": train_dataset[0].shape,\n",
    "#     \"latent_std\": 1,\n",
    "# }\n",
    "# model = BetaVAE_H(\n",
    "#     encoder_conv(model_config),\n",
    "#     decoder_conv(model_config),\n",
    "#     **model_config\n",
    "# ).to(device)\n",
    "\n",
    "# model_description=\"depr. anon., beta-VAE, 3 ch., 4/8/16/32 x3, 7/7/5/3/3/3/3/1, Sigmoid\" #!!! CHECK BEFORE TRAINING\n",
    "# model_config = {\n",
    "#     \"latent_dim\": 15*32,\n",
    "#     \"beta\": 2,\n",
    "#     \"input_dim\": train_dataset[0].shape,\n",
    "#     \"latent_std\": 1,\n",
    "#     \"n_channels\": 3,\n",
    "#     \"n_classes\": 3,\n",
    "# }\n",
    "# model = VAE(\n",
    "#     encoder_conv4(model_config[\"n_channels\"]),\n",
    "#     decoder_conv4(model_config[\"n_classes\"]),\n",
    "#     **model_config\n",
    "# ).to(device)\n",
    "\n",
    "model_description=\"AE, 3 ch., 32/32, 6/6, PReLU\"\n",
    "model_config = {\n",
    "    \"latent_dim\": 10,\n",
    "    \"input_dim\": train_dataset[0].shape\n",
    "}\n",
    "model = AE_framework(\n",
    "    encoder_conv(model_config),\n",
    "    decoder_conv(model_config),\n",
    "    **model_config\n",
    ").to(device)\n",
    "\n",
    "# model_description=\"depr. anon., AE, 3 ch., 4/8/16/32, 7/7/5/3/3/3/3/1, Sigmoid\"\n",
    "# model_config = {\n",
    "#     \"input_dim\": train_dataset[0].shape,\n",
    "# }\n",
    "# model = AE(\n",
    "#     n_channels=train_dataset[0].shape[-2],\n",
    "#     n_classes=train_dataset[0].shape[-2]\n",
    "# ).to(device)\n",
    "\n",
    "\n",
    "#     model_description=\"UNet, 3 ch., 3/3/2/1, 7/7/5/3/3/3/3/1, PReLU\"\n",
    "#     model_config = {\n",
    "#         \"input_dim\": train_dataset[0].shape,\n",
    "#         \"c1\": 3,\n",
    "#         \"c2\": 3,\n",
    "#         \"c3\": 2,\n",
    "#         \"c_neck\": 1\n",
    "#     }\n",
    "#     model = UNet1(\n",
    "#         n_channels=train_dataset[0].shape[-2],\n",
    "#         n_classes=train_dataset[0].shape[-2],\n",
    "#         c1=model_config[\"c1\"],\n",
    "#         c2=model_config[\"c2\"],\n",
    "#         c3=model_config[\"c3\"],\n",
    "#         c_neck=model_config[\"c_neck\"],\n",
    "#     ).to(device)\n",
    "\n",
    "##################################################################################\n",
    "\n",
    "## download weights ##############################################################\n",
    "\n",
    "# run = wandb.init()\n",
    "# artifact = run.use_artifact('dmitriykornilov_team/EEG_age_prediction/VAE:v13', type='model')\n",
    "# artifact_dir = artifact.download()\n",
    "# model.load_state_dict(torch.load(artifact_dir + '/50_epoch.pth'))\n",
    "# wandb.finish()\n",
    "\n",
    "##################################################################################\n",
    "\n",
    "print(f'model {model_description} is created')\n",
    "\n",
    "optimizer = torch.optim.AdamW(model.parameters(), lr=1e-3) # instantiate optimizer\n",
    "print('optimzer created')\n",
    "\n",
    "scheduler = torch.optim.lr_scheduler.ReduceLROnPlateau(optimizer, factor=0.5, patience=3, verbose=True)\n",
    "print(\"scheduler created\")\n",
    "\n",
    "# Let's check that forward works\n",
    "model.eval()\n",
    "print(\"Test data point shape:\", train_dataset[0][None].shape)\n",
    "print(\"Test inference:\", len(model(train_dataset[0][None].to(device))))\n",
    "print(\"Test reconstruct:\", model.reconstruct(train_dataset[0][None].to(device)).shape)\n",
    "print(\"Test encode:\", model.encode(train_dataset[0][None].to(device)).shape)\n",
    "\n",
    "def objectName(object):\n",
    "    return str(type(object)).split(\".\")[-1].replace(\"\\'>\", \"\")\n",
    "\n",
    "train_config = {\n",
    "    \"model\": objectName(model),\n",
    "    \"model_config\": model_config,\n",
    "\n",
    "    \"optimizer\": objectName(optimizer),\n",
    "    \"optimizer_config\": optimizer.defaults,\n",
    "\n",
    "    \"scheduler\": objectName(scheduler),\n",
    "    \"scheduler_config\": {\n",
    "        \"factor\": scheduler.factor,\n",
    "        \"min_lr\": scheduler.min_lrs[0],\n",
    "        \"patience\": scheduler.patience,\n",
    "        \"cooldown\": scheduler.cooldown,\n",
    "        \"mode\": scheduler.mode,\n",
    "        \"threshold\": scheduler.threshold,\n",
    "        \"threshold_mode\": scheduler.threshold_mode,\n",
    "        \"eps\": scheduler.eps\n",
    "    },\n",
    "    \n",
    "    \"loss_coefs\": {\n",
    "        \"ampl\": 1,\n",
    "        \"vel\": 0,\n",
    "        \"acc\": 0,\n",
    "        \"frq\": 0\n",
    "    },\n",
    "    \"masking\" :{\n",
    "        \"n_masks\" : 0,\n",
    "        \"mask_ratio\" : 0\n",
    "    },\n",
    "    \n",
    "    \"start_epoch\": 0, # including #!!!CHECK BEFORE TRAINING\n",
    "    \"end_epoch\": 2, # excluding #!!!CHECK BEFORE TRAINING\n",
    "}\n",
    "\n",
    "project_name = 'EEG_age_prediction'\n",
    "save_path = OUTPUT_FOLDER + 'models/'\n",
    "config = {**train_config, **data_config, \"method\": \"direct restoration\", \"save path\": save_path}\n",
    "print(\"Config:\", config)\n",
    "\n",
    "logger = Logger(\n",
    "    log_type=\"none\", #\"wandb\"/\"tensorboard\"/\"none\" #!!!CHECK BEFORE TRAINING\n",
    "    run_name=model_description,\n",
    "    save_path=save_path,\n",
    "    model=model,\n",
    "    model_name=config[\"model\"],        \n",
    "    project_name=project_name,\n",
    "    config=config,\n",
    "    model_description=model_description,\n",
    "#         log_dir = OUTPUT_FOLDER + \"logs/\"\n",
    ")\n",
    "\n",
    "\n",
    "#training\n",
    "best_loss = np.inf\n",
    "for epoch in tqdm_auto(range(config['start_epoch'], config['end_epoch'])):\n",
    "    model, results = train_eval(\n",
    "        train_dataloader,\n",
    "        model,\n",
    "        device=device,\n",
    "        mode=\"train\",\n",
    "        optimizer=optimizer,\n",
    "        epoch=epoch,\n",
    "        logger=logger,\n",
    "        loss_coefs=train_config[\"loss_coefs\"],\n",
    "        is_mask=False,\n",
    "#         mask_ratio=config[\"masking\"][\"mask_ratio\"],\n",
    "        step_max=2, #!!!CHECK BEFORE TRAINING\n",
    "    )\n",
    "    if results == {}: break\n",
    "    print(results)\n",
    "\n",
    "    model, results = train_eval(\n",
    "        test_dataloader,\n",
    "        model,\n",
    "        device=device,\n",
    "        mode=\"validation\",\n",
    "        test_dataset=test_dataset,\n",
    "        targets_test=targets_test,\n",
    "        check_period=1e10,\n",
    "        plot_period=1e10,\n",
    "        epoch=epoch,\n",
    "        logger=logger,\n",
    "        loss_coefs=train_config[\"loss_coefs\"],\n",
    "        is_mask=False,\n",
    "#         mask_ratio=config[\"masking\"][\"mask_ratio\"],\n",
    "        verbose=1,\n",
    "\n",
    "        ml_model=Pipeline([('scaler', StandardScaler()), ('clf', SVC())]),\n",
    "        ml_param_grid={\n",
    "            'clf__kernel': ['linear'],\n",
    "            'clf__C': np.logspace(-1, 1, 3),\n",
    "            'clf__probability': [True],\n",
    "            'clf__class_weight': ['balanced'],\n",
    "            'clf__random_state': [SEED]\n",
    "        },\n",
    "        ml_eval_function=evaluateClassifier,\n",
    "        ml_metric_names=[\"pr_auc_mean_test\", \"pr_auc_mean_train\", \"accuracy_test\", \"accuracy_train\"],\n",
    "        ml_metric_prefix=\"clf_\",\n",
    "        plot_type=\"classification\", #\"regression\"/\"classification\"\n",
    "\n",
    "        # ml_model=Pipeline([('scaler', StandardScaler()), ('reg', Ridge())]),\n",
    "        # ml_param_grid={\n",
    "        #     'reg__alpha': np.logspace(-2, 2, 5),\n",
    "        #     # 'reg__solver': ['sag'],\n",
    "        #     # 'reg__tol': [1e-4]\n",
    "        # },\n",
    "        # ml_eval_function=evaluateRegressor,\n",
    "        # ml_metric_names=[\"mse_test\", \"mse_train\"],\n",
    "        # ml_metric_prefix=\"reg_\",\n",
    "        # plot_type=\"regressor\", #\"regression\"/\"classification\"\n",
    "\n",
    "        step_max=2, #!!!CHECK BEFORE TRAINING\n",
    "    )\n",
    "    if results == {}: break\n",
    "    print(results)\n",
    "\n",
    "    scheduler.step(results['loss'])\n",
    "    \n",
    "    if results['loss'] < best_loss:\n",
    "        best_loss = results['loss']\n",
    "        logger.save_model(epoch)\n",
    "        print(f\"New best loss {best_loss} on epoch {epoch}, model was saved\")\n",
    "\n",
    "logger.save_model(config['end_epoch'])\n",
    "logger.finish()"
   ]
  },
  {
   "cell_type": "markdown",
   "id": "e2f4082c",
   "metadata": {
    "id": "KozGw7TppFLX",
    "papermill": {
     "duration": 0.528398,
     "end_time": "2023-12-09T22:37:46.050409",
     "exception": false,
     "start_time": "2023-12-09T22:37:45.522011",
     "status": "completed"
    },
    "tags": []
   },
   "source": [
    "# Evaluation"
   ]
  },
  {
   "cell_type": "code",
   "execution_count": null,
   "id": "073c1113",
   "metadata": {
    "id": "6ketLB7KpFLX",
    "papermill": {
     "duration": 0.545038,
     "end_time": "2023-12-09T22:37:47.124624",
     "exception": false,
     "start_time": "2023-12-09T22:37:46.579586",
     "status": "completed"
    },
    "tags": []
   },
   "outputs": [],
   "source": [
    "# import pandas as pd\n",
    "\n",
    "# def to_df(results):\n",
    "#     return pd.DataFrame(dict([(key, [f\"{value:.3f}\"]) for key, value in results.items()]))"
   ]
  },
  {
   "cell_type": "code",
   "execution_count": null,
   "id": "8df4ceba",
   "metadata": {
    "papermill": {
     "duration": 0.539034,
     "end_time": "2023-12-09T22:37:48.237472",
     "exception": false,
     "start_time": "2023-12-09T22:37:47.698438",
     "status": "completed"
    },
    "tags": []
   },
   "outputs": [],
   "source": [
    "# model_description=\"depr. anon., avaf loss, beta-VAE, 3 ch., 4/8/16/32, 7/7/5/3/3/3/3/1, Sigmoid\" #!!! CHECK BEFORE TRAINING\n",
    "# model_config = {\n",
    "#     \"latent_dim\": 15*32,\n",
    "#     \"beta\": 2,\n",
    "#     \"input_dim\": train_dataset[0].shape,\n",
    "#     \"latent_std\": 1,\n",
    "#     \"n_channels\": 3,\n",
    "#     \"n_classes\": 3,\n",
    "# }\n",
    "# model = VAE(\n",
    "#     encoder_conv4(model_config[\"n_channels\"]),\n",
    "#     decoder_conv4(model_config[\"n_classes\"]),\n",
    "#     **model_config\n",
    "# ).to(device)\n",
    "\n",
    "# run = wandb.init()\n",
    "# artifact = run.use_artifact('dmitriykornilov_team/EEG_age_prediction/VAE:v13', type='model')\n",
    "# artifact_dir = artifact.download()\n",
    "# model.load_state_dict(torch.load(artifact_dir + '/49_epoch.pth'))\n",
    "\n",
    "# logger = Logger(\n",
    "#     log_type=\"none\", #\"wandb\"/\"tensorboard\"/\"none\"\n",
    "#     model=model,\n",
    "# )\n",
    "\n",
    "# model, results = train_eval(\n",
    "#     val_dataloader,\n",
    "#     model,\n",
    "#     device=device,\n",
    "#     mode=\"validation\",\n",
    "#     test_dataset=val_dataset,\n",
    "#     targets_test=targets_val,\n",
    "#     check_period=1e10,\n",
    "#     plot_period=1e10,\n",
    "#     logger=logger,\n",
    "\n",
    "#     ml_model=Pipeline([('scaler', StandardScaler()), ('clf', SVC())]),\n",
    "#     ml_param_grid={\n",
    "#         'clf__kernel': ['linear'],\n",
    "#         'clf__C': np.logspace(-2, 2, 5),\n",
    "#         'clf__probability': [True],\n",
    "#         'clf__class_weight': [None, 'balanced'],\n",
    "#         'clf__random_state': [SEED]\n",
    "#     },\n",
    "#     ml_eval_function=evaluateClassifier,\n",
    "#     ml_metric_names=[\"pr_auc_mean_test\", \"pr_auc_mean_train\", \"accuracy_test\", \"accuracy_train\"],\n",
    "#     ml_metric_prefix=\"clf_\",\n",
    "#     plot_type=\"classification\", #\"regression\"/\"classification\"\n",
    "\n",
    "#     # ml_model=Pipeline([('scaler', StandardScaler()), ('reg', Ridge())]),\n",
    "#     # ml_param_grid={\n",
    "#     #     'reg__alpha': np.logspace(-2, 2, 5),\n",
    "#     #     # 'reg__solver': ['sag'],\n",
    "#     #     # 'reg__tol': [1e-4]\n",
    "#     # },\n",
    "#     # ml_eval_function=evaluateRegressor,\n",
    "#     # ml_metric_names=[\"mse_test\", \"mse_train\"],\n",
    "#     # ml_metric_prefix=\"reg_\",\n",
    "#     # plot_type=\"regressor\", #\"regression\"/\"classification\"\n",
    "\n",
    "#     # step_max=2,\n",
    "# )\n",
    "\n",
    "# run.finish()"
   ]
  },
  {
   "cell_type": "code",
   "execution_count": null,
   "id": "5468e09b",
   "metadata": {
    "papermill": {
     "duration": 0.559224,
     "end_time": "2023-12-09T22:37:49.322708",
     "exception": false,
     "start_time": "2023-12-09T22:37:48.763484",
     "status": "completed"
    },
    "tags": []
   },
   "outputs": [],
   "source": [
    "# to_df(results)"
   ]
  },
  {
   "cell_type": "code",
   "execution_count": null,
   "id": "762f4266",
   "metadata": {
    "papermill": {
     "duration": 0.599588,
     "end_time": "2023-12-09T22:37:50.451792",
     "exception": false,
     "start_time": "2023-12-09T22:37:49.852204",
     "status": "completed"
    },
    "tags": []
   },
   "outputs": [],
   "source": []
  },
  {
   "cell_type": "code",
   "execution_count": null,
   "id": "b78bf041",
   "metadata": {
    "papermill": {
     "duration": 0.528074,
     "end_time": "2023-12-09T22:37:51.516688",
     "exception": false,
     "start_time": "2023-12-09T22:37:50.988614",
     "status": "completed"
    },
    "tags": []
   },
   "outputs": [],
   "source": []
  }
 ],
 "metadata": {
  "kaggle": {
   "accelerator": "gpu",
   "dataSources": [
    {
     "datasetId": 3771364,
     "sourceId": 6523479,
     "sourceType": "datasetVersion"
    },
    {
     "datasetId": 3987797,
     "sourceId": 6943873,
     "sourceType": "datasetVersion"
    },
    {
     "datasetId": 4003973,
     "sourceId": 6968858,
     "sourceType": "datasetVersion"
    },
    {
     "datasetId": 3771432,
     "sourceId": 6968892,
     "sourceType": "datasetVersion"
    }
   ],
   "isGpuEnabled": true,
   "isInternetEnabled": true,
   "language": "python",
   "sourceType": "notebook"
  },
  "kernelspec": {
   "display_name": "Python 3 (ipykernel)",
   "language": "python",
   "name": "python3"
  },
  "language_info": {
   "codemirror_mode": {
    "name": "ipython",
    "version": 3
   },
   "file_extension": ".py",
   "mimetype": "text/x-python",
   "name": "python",
   "nbconvert_exporter": "python",
   "pygments_lexer": "ipython3",
   "version": "3.8.10"
  },
  "papermill": {
   "default_parameters": {},
   "duration": 3702.795206,
   "end_time": "2023-12-09T22:37:54.874207",
   "environment_variables": {},
   "exception": null,
   "input_path": "__notebook__.ipynb",
   "output_path": "__notebook__.ipynb",
   "parameters": {},
   "start_time": "2023-12-09T21:36:12.079001",
   "version": "2.4.0"
  },
  "widgets": {
   "application/vnd.jupyter.widget-state+json": {
    "state": {
     "17b9a4487d8f4fe8aea7bea63ebc381d": {
      "model_module": "@jupyter-widgets/controls",
      "model_module_version": "1.5.0",
      "model_name": "DescriptionStyleModel",
      "state": {
       "_model_module": "@jupyter-widgets/controls",
       "_model_module_version": "1.5.0",
       "_model_name": "DescriptionStyleModel",
       "_view_count": null,
       "_view_module": "@jupyter-widgets/base",
       "_view_module_version": "1.2.0",
       "_view_name": "StyleView",
       "description_width": ""
      }
     },
     "1b9e9e106e6643a3b56a44716ecb02c4": {
      "model_module": "@jupyter-widgets/base",
      "model_module_version": "1.2.0",
      "model_name": "LayoutModel",
      "state": {
       "_model_module": "@jupyter-widgets/base",
       "_model_module_version": "1.2.0",
       "_model_name": "LayoutModel",
       "_view_count": null,
       "_view_module": "@jupyter-widgets/base",
       "_view_module_version": "1.2.0",
       "_view_name": "LayoutView",
       "align_content": null,
       "align_items": null,
       "align_self": null,
       "border": null,
       "bottom": null,
       "display": null,
       "flex": null,
       "flex_flow": null,
       "grid_area": null,
       "grid_auto_columns": null,
       "grid_auto_flow": null,
       "grid_auto_rows": null,
       "grid_column": null,
       "grid_gap": null,
       "grid_row": null,
       "grid_template_areas": null,
       "grid_template_columns": null,
       "grid_template_rows": null,
       "height": null,
       "justify_content": null,
       "justify_items": null,
       "left": null,
       "margin": null,
       "max_height": null,
       "max_width": null,
       "min_height": null,
       "min_width": null,
       "object_fit": null,
       "object_position": null,
       "order": null,
       "overflow": null,
       "overflow_x": null,
       "overflow_y": null,
       "padding": null,
       "right": null,
       "top": null,
       "visibility": null,
       "width": null
      }
     },
     "3486602d816f492fb232e65639ef7d9c": {
      "model_module": "@jupyter-widgets/base",
      "model_module_version": "1.2.0",
      "model_name": "LayoutModel",
      "state": {
       "_model_module": "@jupyter-widgets/base",
       "_model_module_version": "1.2.0",
       "_model_name": "LayoutModel",
       "_view_count": null,
       "_view_module": "@jupyter-widgets/base",
       "_view_module_version": "1.2.0",
       "_view_name": "LayoutView",
       "align_content": null,
       "align_items": null,
       "align_self": null,
       "border": null,
       "bottom": null,
       "display": null,
       "flex": null,
       "flex_flow": null,
       "grid_area": null,
       "grid_auto_columns": null,
       "grid_auto_flow": null,
       "grid_auto_rows": null,
       "grid_column": null,
       "grid_gap": null,
       "grid_row": null,
       "grid_template_areas": null,
       "grid_template_columns": null,
       "grid_template_rows": null,
       "height": null,
       "justify_content": null,
       "justify_items": null,
       "left": null,
       "margin": null,
       "max_height": null,
       "max_width": null,
       "min_height": null,
       "min_width": null,
       "object_fit": null,
       "object_position": null,
       "order": null,
       "overflow": null,
       "overflow_x": null,
       "overflow_y": null,
       "padding": null,
       "right": null,
       "top": null,
       "visibility": null,
       "width": null
      }
     },
     "3ab87024b9df46eababea8434314437c": {
      "model_module": "@jupyter-widgets/base",
      "model_module_version": "1.2.0",
      "model_name": "LayoutModel",
      "state": {
       "_model_module": "@jupyter-widgets/base",
       "_model_module_version": "1.2.0",
       "_model_name": "LayoutModel",
       "_view_count": null,
       "_view_module": "@jupyter-widgets/base",
       "_view_module_version": "1.2.0",
       "_view_name": "LayoutView",
       "align_content": null,
       "align_items": null,
       "align_self": null,
       "border": null,
       "bottom": null,
       "display": null,
       "flex": null,
       "flex_flow": null,
       "grid_area": null,
       "grid_auto_columns": null,
       "grid_auto_flow": null,
       "grid_auto_rows": null,
       "grid_column": null,
       "grid_gap": null,
       "grid_row": null,
       "grid_template_areas": null,
       "grid_template_columns": null,
       "grid_template_rows": null,
       "height": null,
       "justify_content": null,
       "justify_items": null,
       "left": null,
       "margin": null,
       "max_height": null,
       "max_width": null,
       "min_height": null,
       "min_width": null,
       "object_fit": null,
       "object_position": null,
       "order": null,
       "overflow": null,
       "overflow_x": null,
       "overflow_y": null,
       "padding": null,
       "right": null,
       "top": null,
       "visibility": null,
       "width": null
      }
     },
     "3fe829e4eab548aa953f54478c638ade": {
      "model_module": "@jupyter-widgets/controls",
      "model_module_version": "1.5.0",
      "model_name": "HTMLModel",
      "state": {
       "_dom_classes": [],
       "_model_module": "@jupyter-widgets/controls",
       "_model_module_version": "1.5.0",
       "_model_name": "HTMLModel",
       "_view_count": null,
       "_view_module": "@jupyter-widgets/controls",
       "_view_module_version": "1.5.0",
       "_view_name": "HTMLView",
       "description": "",
       "description_tooltip": null,
       "layout": "IPY_MODEL_98dc6a21150a4f918eae1423d45e1f77",
       "placeholder": "​",
       "style": "IPY_MODEL_4a1bd5dcf761444a956930b0ba07dccf",
       "value": " 50/50 [59:33&lt;00:00, 87.75s/it]"
      }
     },
     "4a1bd5dcf761444a956930b0ba07dccf": {
      "model_module": "@jupyter-widgets/controls",
      "model_module_version": "1.5.0",
      "model_name": "DescriptionStyleModel",
      "state": {
       "_model_module": "@jupyter-widgets/controls",
       "_model_module_version": "1.5.0",
       "_model_name": "DescriptionStyleModel",
       "_view_count": null,
       "_view_module": "@jupyter-widgets/base",
       "_view_module_version": "1.2.0",
       "_view_name": "StyleView",
       "description_width": ""
      }
     },
     "4cc7236cfefb4643892de87982646eb0": {
      "model_module": "@jupyter-widgets/controls",
      "model_module_version": "1.5.0",
      "model_name": "HTMLModel",
      "state": {
       "_dom_classes": [],
       "_model_module": "@jupyter-widgets/controls",
       "_model_module_version": "1.5.0",
       "_model_name": "HTMLModel",
       "_view_count": null,
       "_view_module": "@jupyter-widgets/controls",
       "_view_module_version": "1.5.0",
       "_view_name": "HTMLView",
       "description": "",
       "description_tooltip": null,
       "layout": "IPY_MODEL_1b9e9e106e6643a3b56a44716ecb02c4",
       "placeholder": "​",
       "style": "IPY_MODEL_17b9a4487d8f4fe8aea7bea63ebc381d",
       "value": "100%"
      }
     },
     "592d7aa438bb4bceab26d345c737955c": {
      "model_module": "@jupyter-widgets/base",
      "model_module_version": "1.2.0",
      "model_name": "LayoutModel",
      "state": {
       "_model_module": "@jupyter-widgets/base",
       "_model_module_version": "1.2.0",
       "_model_name": "LayoutModel",
       "_view_count": null,
       "_view_module": "@jupyter-widgets/base",
       "_view_module_version": "1.2.0",
       "_view_name": "LayoutView",
       "align_content": null,
       "align_items": null,
       "align_self": null,
       "border": null,
       "bottom": null,
       "display": null,
       "flex": null,
       "flex_flow": null,
       "grid_area": null,
       "grid_auto_columns": null,
       "grid_auto_flow": null,
       "grid_auto_rows": null,
       "grid_column": null,
       "grid_gap": null,
       "grid_row": null,
       "grid_template_areas": null,
       "grid_template_columns": null,
       "grid_template_rows": null,
       "height": null,
       "justify_content": null,
       "justify_items": null,
       "left": null,
       "margin": null,
       "max_height": null,
       "max_width": null,
       "min_height": null,
       "min_width": null,
       "object_fit": null,
       "object_position": null,
       "order": null,
       "overflow": null,
       "overflow_x": null,
       "overflow_y": null,
       "padding": null,
       "right": null,
       "top": null,
       "visibility": null,
       "width": null
      }
     },
     "61825beec6a3446290d29dc372411919": {
      "model_module": "@jupyter-widgets/controls",
      "model_module_version": "1.5.0",
      "model_name": "FloatProgressModel",
      "state": {
       "_dom_classes": [],
       "_model_module": "@jupyter-widgets/controls",
       "_model_module_version": "1.5.0",
       "_model_name": "FloatProgressModel",
       "_view_count": null,
       "_view_module": "@jupyter-widgets/controls",
       "_view_module_version": "1.5.0",
       "_view_name": "ProgressView",
       "bar_style": "success",
       "description": "",
       "description_tooltip": null,
       "layout": "IPY_MODEL_a12bed137f27403e905cf1f23645a518",
       "max": 50,
       "min": 0,
       "orientation": "horizontal",
       "style": "IPY_MODEL_6cbe666ed9384e4391cb9e8396e5c054",
       "value": 50
      }
     },
     "68e29b6f4fd748b8af72b64c828a6413": {
      "model_module": "@jupyter-widgets/controls",
      "model_module_version": "1.5.0",
      "model_name": "HTMLModel",
      "state": {
       "_dom_classes": [],
       "_model_module": "@jupyter-widgets/controls",
       "_model_module_version": "1.5.0",
       "_model_name": "HTMLModel",
       "_view_count": null,
       "_view_module": "@jupyter-widgets/controls",
       "_view_module_version": "1.5.0",
       "_view_name": "HTMLView",
       "description": "",
       "description_tooltip": null,
       "layout": "IPY_MODEL_592d7aa438bb4bceab26d345c737955c",
       "placeholder": "​",
       "style": "IPY_MODEL_d8dc5101f7954e5b994db789909413fe",
       "value": " 10679/10679 [00:00&lt;00:00, 27086.49it/s]"
      }
     },
     "6cbe666ed9384e4391cb9e8396e5c054": {
      "model_module": "@jupyter-widgets/controls",
      "model_module_version": "1.5.0",
      "model_name": "ProgressStyleModel",
      "state": {
       "_model_module": "@jupyter-widgets/controls",
       "_model_module_version": "1.5.0",
       "_model_name": "ProgressStyleModel",
       "_view_count": null,
       "_view_module": "@jupyter-widgets/base",
       "_view_module_version": "1.2.0",
       "_view_name": "StyleView",
       "bar_color": null,
       "description_width": ""
      }
     },
     "8b843accfaf6402c962ce15e335fda8d": {
      "model_module": "@jupyter-widgets/controls",
      "model_module_version": "1.5.0",
      "model_name": "HBoxModel",
      "state": {
       "_dom_classes": [],
       "_model_module": "@jupyter-widgets/controls",
       "_model_module_version": "1.5.0",
       "_model_name": "HBoxModel",
       "_view_count": null,
       "_view_module": "@jupyter-widgets/controls",
       "_view_module_version": "1.5.0",
       "_view_name": "HBoxView",
       "box_style": "",
       "children": [
        "IPY_MODEL_d598550b596f464ea746573992c3144d",
        "IPY_MODEL_61825beec6a3446290d29dc372411919",
        "IPY_MODEL_3fe829e4eab548aa953f54478c638ade"
       ],
       "layout": "IPY_MODEL_3486602d816f492fb232e65639ef7d9c"
      }
     },
     "98dc6a21150a4f918eae1423d45e1f77": {
      "model_module": "@jupyter-widgets/base",
      "model_module_version": "1.2.0",
      "model_name": "LayoutModel",
      "state": {
       "_model_module": "@jupyter-widgets/base",
       "_model_module_version": "1.2.0",
       "_model_name": "LayoutModel",
       "_view_count": null,
       "_view_module": "@jupyter-widgets/base",
       "_view_module_version": "1.2.0",
       "_view_name": "LayoutView",
       "align_content": null,
       "align_items": null,
       "align_self": null,
       "border": null,
       "bottom": null,
       "display": null,
       "flex": null,
       "flex_flow": null,
       "grid_area": null,
       "grid_auto_columns": null,
       "grid_auto_flow": null,
       "grid_auto_rows": null,
       "grid_column": null,
       "grid_gap": null,
       "grid_row": null,
       "grid_template_areas": null,
       "grid_template_columns": null,
       "grid_template_rows": null,
       "height": null,
       "justify_content": null,
       "justify_items": null,
       "left": null,
       "margin": null,
       "max_height": null,
       "max_width": null,
       "min_height": null,
       "min_width": null,
       "object_fit": null,
       "object_position": null,
       "order": null,
       "overflow": null,
       "overflow_x": null,
       "overflow_y": null,
       "padding": null,
       "right": null,
       "top": null,
       "visibility": null,
       "width": null
      }
     },
     "a0cadf15257b44a9b7a4af4a4ffe7018": {
      "model_module": "@jupyter-widgets/controls",
      "model_module_version": "1.5.0",
      "model_name": "DescriptionStyleModel",
      "state": {
       "_model_module": "@jupyter-widgets/controls",
       "_model_module_version": "1.5.0",
       "_model_name": "DescriptionStyleModel",
       "_view_count": null,
       "_view_module": "@jupyter-widgets/base",
       "_view_module_version": "1.2.0",
       "_view_name": "StyleView",
       "description_width": ""
      }
     },
     "a12bed137f27403e905cf1f23645a518": {
      "model_module": "@jupyter-widgets/base",
      "model_module_version": "1.2.0",
      "model_name": "LayoutModel",
      "state": {
       "_model_module": "@jupyter-widgets/base",
       "_model_module_version": "1.2.0",
       "_model_name": "LayoutModel",
       "_view_count": null,
       "_view_module": "@jupyter-widgets/base",
       "_view_module_version": "1.2.0",
       "_view_name": "LayoutView",
       "align_content": null,
       "align_items": null,
       "align_self": null,
       "border": null,
       "bottom": null,
       "display": null,
       "flex": null,
       "flex_flow": null,
       "grid_area": null,
       "grid_auto_columns": null,
       "grid_auto_flow": null,
       "grid_auto_rows": null,
       "grid_column": null,
       "grid_gap": null,
       "grid_row": null,
       "grid_template_areas": null,
       "grid_template_columns": null,
       "grid_template_rows": null,
       "height": null,
       "justify_content": null,
       "justify_items": null,
       "left": null,
       "margin": null,
       "max_height": null,
       "max_width": null,
       "min_height": null,
       "min_width": null,
       "object_fit": null,
       "object_position": null,
       "order": null,
       "overflow": null,
       "overflow_x": null,
       "overflow_y": null,
       "padding": null,
       "right": null,
       "top": null,
       "visibility": null,
       "width": null
      }
     },
     "c1a6f18f267649f0a4ef192e4ad78e46": {
      "model_module": "@jupyter-widgets/controls",
      "model_module_version": "1.5.0",
      "model_name": "FloatProgressModel",
      "state": {
       "_dom_classes": [],
       "_model_module": "@jupyter-widgets/controls",
       "_model_module_version": "1.5.0",
       "_model_name": "FloatProgressModel",
       "_view_count": null,
       "_view_module": "@jupyter-widgets/controls",
       "_view_module_version": "1.5.0",
       "_view_name": "ProgressView",
       "bar_style": "success",
       "description": "",
       "description_tooltip": null,
       "layout": "IPY_MODEL_f8040b51e4734eff9227ff7016c2d8e2",
       "max": 10679,
       "min": 0,
       "orientation": "horizontal",
       "style": "IPY_MODEL_ef195bd8dab24c3c81ec675e9718f8e1",
       "value": 10679
      }
     },
     "d598550b596f464ea746573992c3144d": {
      "model_module": "@jupyter-widgets/controls",
      "model_module_version": "1.5.0",
      "model_name": "HTMLModel",
      "state": {
       "_dom_classes": [],
       "_model_module": "@jupyter-widgets/controls",
       "_model_module_version": "1.5.0",
       "_model_name": "HTMLModel",
       "_view_count": null,
       "_view_module": "@jupyter-widgets/controls",
       "_view_module_version": "1.5.0",
       "_view_name": "HTMLView",
       "description": "",
       "description_tooltip": null,
       "layout": "IPY_MODEL_edc85b2f72c0422b87e3d516ceb1e348",
       "placeholder": "​",
       "style": "IPY_MODEL_a0cadf15257b44a9b7a4af4a4ffe7018",
       "value": "100%"
      }
     },
     "d8dc5101f7954e5b994db789909413fe": {
      "model_module": "@jupyter-widgets/controls",
      "model_module_version": "1.5.0",
      "model_name": "DescriptionStyleModel",
      "state": {
       "_model_module": "@jupyter-widgets/controls",
       "_model_module_version": "1.5.0",
       "_model_name": "DescriptionStyleModel",
       "_view_count": null,
       "_view_module": "@jupyter-widgets/base",
       "_view_module_version": "1.2.0",
       "_view_name": "StyleView",
       "description_width": ""
      }
     },
     "edc85b2f72c0422b87e3d516ceb1e348": {
      "model_module": "@jupyter-widgets/base",
      "model_module_version": "1.2.0",
      "model_name": "LayoutModel",
      "state": {
       "_model_module": "@jupyter-widgets/base",
       "_model_module_version": "1.2.0",
       "_model_name": "LayoutModel",
       "_view_count": null,
       "_view_module": "@jupyter-widgets/base",
       "_view_module_version": "1.2.0",
       "_view_name": "LayoutView",
       "align_content": null,
       "align_items": null,
       "align_self": null,
       "border": null,
       "bottom": null,
       "display": null,
       "flex": null,
       "flex_flow": null,
       "grid_area": null,
       "grid_auto_columns": null,
       "grid_auto_flow": null,
       "grid_auto_rows": null,
       "grid_column": null,
       "grid_gap": null,
       "grid_row": null,
       "grid_template_areas": null,
       "grid_template_columns": null,
       "grid_template_rows": null,
       "height": null,
       "justify_content": null,
       "justify_items": null,
       "left": null,
       "margin": null,
       "max_height": null,
       "max_width": null,
       "min_height": null,
       "min_width": null,
       "object_fit": null,
       "object_position": null,
       "order": null,
       "overflow": null,
       "overflow_x": null,
       "overflow_y": null,
       "padding": null,
       "right": null,
       "top": null,
       "visibility": null,
       "width": null
      }
     },
     "ef195bd8dab24c3c81ec675e9718f8e1": {
      "model_module": "@jupyter-widgets/controls",
      "model_module_version": "1.5.0",
      "model_name": "ProgressStyleModel",
      "state": {
       "_model_module": "@jupyter-widgets/controls",
       "_model_module_version": "1.5.0",
       "_model_name": "ProgressStyleModel",
       "_view_count": null,
       "_view_module": "@jupyter-widgets/base",
       "_view_module_version": "1.2.0",
       "_view_name": "StyleView",
       "bar_color": null,
       "description_width": ""
      }
     },
     "f0fa8298e83344588ad36ff691235297": {
      "model_module": "@jupyter-widgets/controls",
      "model_module_version": "1.5.0",
      "model_name": "HBoxModel",
      "state": {
       "_dom_classes": [],
       "_model_module": "@jupyter-widgets/controls",
       "_model_module_version": "1.5.0",
       "_model_name": "HBoxModel",
       "_view_count": null,
       "_view_module": "@jupyter-widgets/controls",
       "_view_module_version": "1.5.0",
       "_view_name": "HBoxView",
       "box_style": "",
       "children": [
        "IPY_MODEL_4cc7236cfefb4643892de87982646eb0",
        "IPY_MODEL_c1a6f18f267649f0a4ef192e4ad78e46",
        "IPY_MODEL_68e29b6f4fd748b8af72b64c828a6413"
       ],
       "layout": "IPY_MODEL_3ab87024b9df46eababea8434314437c"
      }
     },
     "f8040b51e4734eff9227ff7016c2d8e2": {
      "model_module": "@jupyter-widgets/base",
      "model_module_version": "1.2.0",
      "model_name": "LayoutModel",
      "state": {
       "_model_module": "@jupyter-widgets/base",
       "_model_module_version": "1.2.0",
       "_model_name": "LayoutModel",
       "_view_count": null,
       "_view_module": "@jupyter-widgets/base",
       "_view_module_version": "1.2.0",
       "_view_name": "LayoutView",
       "align_content": null,
       "align_items": null,
       "align_self": null,
       "border": null,
       "bottom": null,
       "display": null,
       "flex": null,
       "flex_flow": null,
       "grid_area": null,
       "grid_auto_columns": null,
       "grid_auto_flow": null,
       "grid_auto_rows": null,
       "grid_column": null,
       "grid_gap": null,
       "grid_row": null,
       "grid_template_areas": null,
       "grid_template_columns": null,
       "grid_template_rows": null,
       "height": null,
       "justify_content": null,
       "justify_items": null,
       "left": null,
       "margin": null,
       "max_height": null,
       "max_width": null,
       "min_height": null,
       "min_width": null,
       "object_fit": null,
       "object_position": null,
       "order": null,
       "overflow": null,
       "overflow_x": null,
       "overflow_y": null,
       "padding": null,
       "right": null,
       "top": null,
       "visibility": null,
       "width": null
      }
     }
    },
    "version_major": 2,
    "version_minor": 0
   }
  }
 },
 "nbformat": 4,
 "nbformat_minor": 5
}
