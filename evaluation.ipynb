{
 "cells": [
  {
   "cell_type": "code",
   "execution_count": 1,
   "id": "9ce0f086-fd0b-4a9f-8142-9edc4cd5eeb4",
   "metadata": {},
   "outputs": [
    {
     "name": "stdout",
     "output_type": "stream",
     "text": [
      "Linux\n",
      "\n",
      "PROJECT_FOLDER = ''\n",
      "SRC_FOLDER = ''\n",
      "OUTPUT_FOLDER = ''\n",
      "\n",
      "TUAB_DIRECTORY = 'Data/TUAB/'\n",
      "TUAB_TRAIN = 'Data/TUAB/train/normal/01_tcp_ar/'\n",
      "TUAB_EVAL = 'Data/TUAB/eval/normal/01_tcp_ar/'\n",
      "\n",
      "DEPR_ANON_DIRECTORY = 'Data/depression_anonymized/'\n",
      "\n",
      "INHOUSE_DIRECTORY = 'Data/inhouse_dataset/EEG_baseline_with_markers_cleaned/preprocessed_data/EEG_baseline/'\n",
      "\n"
     ]
    }
   ],
   "source": [
    "'''\n",
    "In this section one defines environment variables. \n",
    "Because I used this notebook on number of machines, I implemented class especially for this. \n",
    "You may not needed in one and use just simple definitions.\n",
    "'''\n",
    "\n",
    "from system_variables import SystemVariables\n",
    "\n",
    "# choose system according your current machine\n",
    "# SYSTEM_NAME = \"Windows\"\n",
    "# SYSTEM_NAME = \"Colab\"\n",
    "# SYSTEM_NAME = \"Kaggle\"\n",
    "SYSTEM_NAME = \"Linux\"\n",
    "\n",
    "sv = SystemVariables(SYSTEM_NAME)\n",
    "PROJECT_FOLDER = sv.get_project_folder()\n",
    "SRC_FOLDER = sv.get_src_folder()\n",
    "OUTPUT_FOLDER = sv.get_output_folder()\n",
    "TUAB_DIRECTORY, TUAB_TRAIN, TUAB_EVAL = sv.get_TUAB_folders()\n",
    "DEPR_ANON_DIRECTORY = sv.get_depr_anon_folder()\n",
    "INHOUSE_DIRECTORY = sv.get_inhouse_folder()\n",
    "\n",
    "print(SYSTEM_NAME)\n",
    "print()\n",
    "\n",
    "print(f\"{PROJECT_FOLDER = }\")\n",
    "print(f\"{SRC_FOLDER = }\")\n",
    "print(f\"{OUTPUT_FOLDER = }\")\n",
    "print()\n",
    "\n",
    "print(f\"{TUAB_DIRECTORY = }\")\n",
    "print(f\"{TUAB_TRAIN = }\")\n",
    "print(f\"{TUAB_EVAL = }\")\n",
    "print()\n",
    "\n",
    "print(f\"{DEPR_ANON_DIRECTORY = }\")\n",
    "print()\n",
    "\n",
    "print(f\"{INHOUSE_DIRECTORY = }\")\n",
    "print()"
   ]
  },
  {
   "cell_type": "code",
   "execution_count": 2,
   "id": "4a8323d0-25db-4d2e-acba-1ca681e6bd53",
   "metadata": {},
   "outputs": [
    {
     "name": "stdout",
     "output_type": "stream",
     "text": [
      "\u001b[34m\u001b[1mwandb\u001b[0m: Appending key for api.wandb.ai to your netrc file: /root/.netrc\n",
      "cuda\n"
     ]
    }
   ],
   "source": [
    "import warnings\n",
    "warnings.simplefilter(\"ignore\")\n",
    "\n",
    "import os\n",
    "import sys\n",
    "import pickle\n",
    "import json\n",
    "import random\n",
    "from IPython.display import display, clear_output\n",
    "\n",
    "import numpy as np\n",
    "import pandas as pd\n",
    "pd.set_option('display.max_rows', 500)\n",
    "pd.set_option('display.max_columns', 500)\n",
    "import matplotlib.pyplot as plt\n",
    "from matplotlib import rc\n",
    "rc('animation', html='jshtml')\n",
    "\n",
    "from sklearn.preprocessing import StandardScaler\n",
    "from sklearn.pipeline import Pipeline\n",
    "from sklearn.svm import SVC\n",
    "from sklearn.linear_model import LinearRegression, Lasso, Ridge\n",
    "from sklearn.metrics import accuracy_score, f1_score, average_precision_score, roc_auc_score\n",
    "\n",
    "from tqdm.auto import tqdm as tqdm_auto\n",
    "\n",
    "import torch\n",
    "import torch.nn as nn\n",
    "from torch.utils.data import DataLoader\n",
    "from torch.utils.tensorboard import SummaryWriter\n",
    "%load_ext tensorboard\n",
    "\n",
    "import wandb\n",
    "!wandb login 1b8e8dc9dcf1a34397a04197c4826d3fe7441dae\n",
    "\n",
    "import mne\n",
    "\n",
    "device = \"cuda\" if torch.cuda.is_available() else \"cpu\"\n",
    "print(device)"
   ]
  },
  {
   "cell_type": "code",
   "execution_count": 3,
   "id": "e727de23",
   "metadata": {
    "id": "xhokb8oipFLR",
    "outputId": "b86fecdb-1101-40ee-df27-23de85372207",
    "papermill": {
     "duration": 22.337897,
     "end_time": "2023-12-09T21:36:40.911773",
     "exception": false,
     "start_time": "2023-12-09T21:36:18.573876",
     "status": "completed"
    },
    "tags": []
   },
   "outputs": [],
   "source": [
    "sys.path.append(SRC_FOLDER)\n",
    "\n",
    "%load_ext autoreload\n",
    "%autoreload 1\n",
    "%aimport utils, models, training\n",
    "\n",
    "from utils import SEED\n",
    "from utils.models_evaluation import evaluateClassifier, evaluateRegressor, evaluateClassifier_inner_outer_cv\n",
    "from utils.data_reading import DataReader\n",
    "from utils.plotting import dataset_hists, plotData, dict_to_df\n",
    "from utils.dataset import InMemoryDataset\n",
    "from utils.logger import Logger\n",
    "\n",
    "from models.modules import encoder_conv, decoder_conv, encoder_conv4, decoder_conv4\n",
    "from models.VAE import VAE, BetaVAE_H, BetaVAE_B\n",
    "from models.AE import AE, AE_framework\n",
    "from models.UNet import UNet\n",
    "\n",
    "from training import train_eval"
   ]
  },
  {
   "cell_type": "markdown",
   "id": "a6da0a95-d91a-42bb-8ab3-cde50a0d3525",
   "metadata": {
    "id": "UPjIv86UpFLV",
    "papermill": {
     "duration": 0.235318,
     "end_time": "2023-12-09T21:36:52.519049",
     "exception": false,
     "start_time": "2023-12-09T21:36:52.283731",
     "status": "completed"
    },
    "tags": []
   },
   "source": [
    "# Data load\n"
   ]
  },
  {
   "cell_type": "markdown",
   "id": "26fd9702-9a16-455b-9fe3-ae6a16c40571",
   "metadata": {
    "jp-MarkdownHeadingCollapsed": true,
    "papermill": {
     "duration": 0.235196,
     "end_time": "2023-12-09T21:36:52.989294",
     "exception": false,
     "start_time": "2023-12-09T21:36:52.754098",
     "status": "completed"
    },
    "tags": []
   },
   "source": [
    "### TUAB"
   ]
  },
  {
   "cell_type": "code",
   "execution_count": 4,
   "id": "6e57da19-c39f-4108-aa77-a3d8ef0898fe",
   "metadata": {
    "id": "GLoQu9VapFLV",
    "outputId": "a8aee5a4-bdc1-4a09-a58e-c4ead4557d81",
    "papermill": {
     "duration": 0.243346,
     "end_time": "2023-12-09T21:36:53.469939",
     "exception": false,
     "start_time": "2023-12-09T21:36:53.226593",
     "status": "completed"
    },
    "tags": []
   },
   "outputs": [],
   "source": [
    "# from sklearn.model_selection import train_test_split\n",
    "\n",
    "# chunks_train = np.load(TUAB_TRAIN + \"chunks_fz_cz_pz_3x124.npy\").reshape(-1, 1, 3, 124)\n",
    "# targets_train = np.load(TUAB_TRAIN + \"targets.npy\")\n",
    "# chunks_val_test = np.load(TUAB_EVAL + \"chunks_fz_cz_pz_3x124.npy\").reshape(-1, 1, 3, 124)\n",
    "# targets_val_test = np.load(TUAB_EVAL + \"targets.npy\")\n",
    "# chunks_val, chunks_test, targets_val, targets_test = train_test_split(chunks_val_test, targets_val_test, test_size=0.5, random_state=SEED, shuffle=False)\n",
    "# print(chunks_train.shape, targets_train.shape, chunks_val.shape, targets_val.shape, chunks_test.shape, targets_test.shape)"
   ]
  },
  {
   "cell_type": "markdown",
   "id": "3bfe2802-d8f8-46f5-afb6-309f5b5877f1",
   "metadata": {
    "papermill": {
     "duration": 0.232459,
     "end_time": "2023-12-09T21:36:53.936331",
     "exception": false,
     "start_time": "2023-12-09T21:36:53.703872",
     "status": "completed"
    },
    "tags": []
   },
   "source": [
    "### Depression anonimyzed"
   ]
  },
  {
   "cell_type": "code",
   "execution_count": 5,
   "id": "de003142-258a-4e12-bdbb-45438218eb59",
   "metadata": {
    "papermill": {
     "duration": 0.247149,
     "end_time": "2023-12-09T21:36:56.413948",
     "exception": false,
     "start_time": "2023-12-09T21:36:56.166799",
     "status": "completed"
    },
    "tags": []
   },
   "outputs": [
    {
     "name": "stdout",
     "output_type": "stream",
     "text": [
      "\n",
      "Chunks shape: (3, 1280) , length: 1068 , keys: dict_keys(['chunk', 'target', 'patient'])\n",
      "N patients = 178\n",
      "Train=142, validation=18, test=18\n"
     ]
    },
    {
     "name": "stderr",
     "output_type": "stream",
     "text": [
      "100%|███████████████████████████████████████████████████████████████████████████████████████████████████████████████████| 1068/1068 [00:00<00:00, 30311.45it/s]"
     ]
    },
    {
     "name": "stdout",
     "output_type": "stream",
     "text": [
      "Train: 852 (3, 1280)\n",
      "Validation: 108 (3, 1280)\n",
      "Test: 108 (3, 1280)\n"
     ]
    },
    {
     "name": "stderr",
     "output_type": "stream",
     "text": [
      "\n"
     ]
    }
   ],
   "source": [
    "file = DEPR_ANON_DIRECTORY + \"dataset_128_10.0.pkl\"\n",
    "train_set, val_set, test_set = DataReader(file).split()\n",
    "chunks_train, chunks_val, chunks_test = train_set[\"chunk\"], val_set[\"chunk\"], test_set[\"chunk\"]\n",
    "targets_train, targets_val, targets_test = train_set[\"target\"], val_set[\"target\"], test_set[\"target\"]"
   ]
  },
  {
   "cell_type": "markdown",
   "id": "27ccc4f3-2f31-40f8-b719-a24f5b5260fd",
   "metadata": {
    "jp-MarkdownHeadingCollapsed": true,
    "papermill": {
     "duration": 0.234221,
     "end_time": "2023-12-09T21:36:56.885164",
     "exception": false,
     "start_time": "2023-12-09T21:36:56.650943",
     "status": "completed"
    },
    "tags": []
   },
   "source": [
    "### Inhouse dataset"
   ]
  },
  {
   "cell_type": "code",
   "execution_count": 6,
   "id": "e65cc573-449f-4a28-ad12-3088c4bc2ab3",
   "metadata": {
    "papermill": {
     "duration": 0.270099,
     "end_time": "2023-12-09T21:36:57.393006",
     "exception": false,
     "start_time": "2023-12-09T21:36:57.122907",
     "status": "completed"
    },
    "tags": []
   },
   "outputs": [],
   "source": [
    "# with open(INHOUSE_DIRECTORY + \"dataset.pkl\", \"rb\") as f:\n",
    "#     chunks_list = pickle.load(f)\n",
    "# print(\"\\nChunks shape:\", chunks_list[0][\"chunk\"].shape, \"length:\", len(chunks_list), \"keys:\", chunks_list[0].keys())"
   ]
  },
  {
   "cell_type": "code",
   "execution_count": 7,
   "id": "363f02cb-add5-4959-af19-22ea8d2bb2d3",
   "metadata": {
    "papermill": {
     "duration": 0.263421,
     "end_time": "2023-12-09T21:36:57.916831",
     "exception": false,
     "start_time": "2023-12-09T21:36:57.653410",
     "status": "completed"
    },
    "tags": []
   },
   "outputs": [],
   "source": [
    "# from sklearn.model_selection import train_test_split\n",
    "# from copy import deepcopy\n",
    "\n",
    "# patients_targets = pd.DataFrame.from_records([{\"patient\": x[\"patient\"], \"target\": x[\"target\"]} for x in chunks_list]).drop_duplicates().reset_index(drop=True)\n",
    "# print(f\"N patients = {len(patients_targets)}\")\n",
    "\n",
    "# patients_train, patients_val_test = train_test_split(patients_targets, test_size=0.2, random_state=SEED, stratify=patients_targets[\"target\"], shuffle=True)\n",
    "# patients_val, patients_test = train_test_split(patients_val_test, test_size=0.5, random_state=SEED, stratify=patients_val_test[\"target\"], shuffle=True)\n",
    "# patients_train, patients_val, patients_test = patients_train[\"patient\"].values, patients_val[\"patient\"].values, patients_test[\"patient\"].values\n",
    "# print(f\"Train={len(patients_train)}, validation={len(patients_val)}, test={len(patients_test)}\")\n",
    "\n",
    "# reset = {\"chunk\": [], \"target\": [], \"patient\": []}\n",
    "# train_set, val_set, test_set = deepcopy(reset), deepcopy(reset), deepcopy(reset)\n",
    "\n",
    "# for chunk in tqdm_auto(chunks_list):\n",
    "#     patient_id = chunk[\"patient\"]\n",
    "#     was_added = False\n",
    "#     for data_set, patients in zip([train_set, val_set, test_set], [patients_train, patients_val, patients_test]):\n",
    "#         if patient_id in patients:\n",
    "#             for tag in [\"chunk\", \"target\", \"patient\"]:\n",
    "#                 data_set[tag].append(chunk[tag])\n",
    "#                 was_added = True\n",
    "        \n",
    "#     if not was_added:\n",
    "#         raise ValueError(f\"Unexpected patient id {patient_id}\")\n",
    "    \n",
    "# for data_set in [train_set, val_set, test_set]:\n",
    "#     data_set[\"chunk\"] = np.array(data_set[\"chunk\"])\n",
    "#     data_set[\"target\"] = np.array(data_set[\"target\"])\n",
    "\n",
    "# print(\"Train:\", len(train_set[\"chunk\"]), train_set[\"chunk\"][0].shape)\n",
    "# print(\"Valitation:\", len(val_set[\"chunk\"]), val_set[\"chunk\"][0].shape)\n",
    "# print(\"Test:\", len(test_set[\"chunk\"]), test_set[\"chunk\"][0].shape)"
   ]
  },
  {
   "cell_type": "code",
   "execution_count": 8,
   "id": "93d7cfed-c746-4b58-a8fd-4a78fd9ca166",
   "metadata": {
    "papermill": {
     "duration": 0.260264,
     "end_time": "2023-12-09T21:36:58.432948",
     "exception": false,
     "start_time": "2023-12-09T21:36:58.172684",
     "status": "completed"
    },
    "tags": []
   },
   "outputs": [],
   "source": [
    "# chunks_train, chunks_val, chunks_test = train_set[\"chunk\"], val_set[\"chunk\"], test_set[\"chunk\"]\n",
    "# targets_train, targets_val, targets_test = train_set[\"target\"], val_set[\"target\"], test_set[\"target\"]"
   ]
  },
  {
   "cell_type": "markdown",
   "id": "7a754243-5e24-4fbb-9763-83073a19e8f1",
   "metadata": {
    "papermill": {
     "duration": 0.257557,
     "end_time": "2023-12-09T21:36:58.943197",
     "exception": false,
     "start_time": "2023-12-09T21:36:58.685640",
     "status": "completed"
    },
    "tags": []
   },
   "source": [
    "#### For training on healthy only"
   ]
  },
  {
   "cell_type": "code",
   "execution_count": 9,
   "id": "e1b6718a-0f52-4e53-aae4-c092dda7dfc2",
   "metadata": {
    "papermill": {
     "duration": 0.245158,
     "end_time": "2023-12-09T21:36:59.448571",
     "exception": false,
     "start_time": "2023-12-09T21:36:59.203413",
     "status": "completed"
    },
    "tags": []
   },
   "outputs": [],
   "source": [
    "# chunks_train_0 = chunks_train[np.where(targets_train == 0)]\n",
    "# targets_train_0 = np.zeros(len(chunks_train_0))\n",
    "\n",
    "# chunks_train = chunks_train_0\n",
    "# targets_train = targets_train_0"
   ]
  },
  {
   "cell_type": "markdown",
   "id": "bcda74b4-4009-4648-b881-cb9f1eb24fc8",
   "metadata": {
    "id": "HcgqAyshpFLW",
    "papermill": {
     "duration": 0.31121,
     "end_time": "2023-12-09T21:37:09.200768",
     "exception": false,
     "start_time": "2023-12-09T21:37:08.889558",
     "status": "completed"
    },
    "tags": []
   },
   "source": [
    "## Dataset preparation"
   ]
  },
  {
   "cell_type": "code",
   "execution_count": 10,
   "id": "379815bd-894d-47a0-bdeb-aedb81758206",
   "metadata": {
    "id": "L6_2Owh5pFLW",
    "papermill": {
     "duration": 0.245674,
     "end_time": "2023-12-09T21:37:08.651571",
     "exception": false,
     "start_time": "2023-12-09T21:37:08.405897",
     "status": "completed"
    },
    "tags": []
   },
   "outputs": [],
   "source": [
    "data_config = {\n",
    "    \"batch_size\": 256,\n",
    "    \"num_workers\": 0,\n",
    "    \"samples_shape\": chunks_train[0].shape,\n",
    "    \"n_train_samples\": len(chunks_train),\n",
    "    \"n_validation_samples\": len(chunks_val),\n",
    "    \"n_test_samples\": len(chunks_test),\n",
    "    \"minmax\": \"across_whole_sample\",\n",
    "    \"record_part\": \"10 s\",\n",
    "    \"task\": \"MDD classification\",\n",
    "    \"dataset\": \"depression anonymized\" #!!! CHECK BEFORE TRAINING\n",
    "}"
   ]
  },
  {
   "cell_type": "code",
   "execution_count": 11,
   "id": "11aa01e0-6ba6-4f1d-8f55-a8501cadf67e",
   "metadata": {
    "id": "Ija32MptpFLW",
    "outputId": "5b37d7b6-1a59-41fe-aca1-0b9726087557",
    "papermill": {
     "duration": 0.317942,
     "end_time": "2023-12-09T21:37:10.248818",
     "exception": false,
     "start_time": "2023-12-09T21:37:09.930876",
     "status": "completed"
    },
    "tags": []
   },
   "outputs": [
    {
     "name": "stdout",
     "output_type": "stream",
     "text": [
      "Train dataset: 852\n",
      "Val dataset: 108\n",
      "Test dataset: 108\n",
      "Train dataloader: 4\n",
      "Val dataloader: 1\n",
      "Test dataloader: 1\n",
      "Train sample shape: torch.Size([3, 1280])\n",
      "Val sample shape: torch.Size([3, 1280])\n",
      "Test sample shape: torch.Size([3, 1280])\n",
      "Train sample type: torch.FloatTensor\n",
      "Val sample type: torch.FloatTensor\n",
      "Test sample type: torch.FloatTensor\n"
     ]
    },
    {
     "data": {
      "image/png": "[encoded data removed]",
      "text/plain": [
       "<Figure size 500x300 with 1 Axes>"
      ]
     },
     "metadata": {},
     "output_type": "display_data"
    }
   ],
   "source": [
    "t_max=None\n",
    "train_dataset = InMemoryDataset(chunks_train, is_squeeze=False, is_unsqueeze=False, t_max=t_max)\n",
    "val_dataset = InMemoryDataset(chunks_val, is_squeeze=False, is_unsqueeze=False, t_max=t_max)\n",
    "test_dataset = InMemoryDataset(chunks_test, is_squeeze=False, is_unsqueeze=False, t_max=t_max)\n",
    "\n",
    "train_dataloader = DataLoader(train_dataset, shuffle=True, batch_size=data_config['batch_size'], num_workers=data_config['num_workers'])\n",
    "val_dataloader = DataLoader(val_dataset, shuffle=False, batch_size=data_config['batch_size'], num_workers=data_config['num_workers'])\n",
    "test_dataloader = DataLoader(test_dataset, shuffle=False, batch_size=data_config['batch_size'], num_workers=data_config['num_workers'])\n",
    "\n",
    "print(\"Train dataset:\", len(train_dataset))\n",
    "print(\"Val dataset:\", len(val_dataset))\n",
    "print(\"Test dataset:\", len(test_dataset))\n",
    "\n",
    "print(\"Train dataloader:\", len(train_dataloader))\n",
    "print(\"Val dataloader:\", len(val_dataloader))\n",
    "print(\"Test dataloader:\", len(test_dataloader))\n",
    "\n",
    "print(\"Train sample shape:\", train_dataset[0].shape)\n",
    "print(\"Val sample shape:\", val_dataset[0].shape)\n",
    "print(\"Test sample shape:\", test_dataset[0].shape)\n",
    "\n",
    "print(\"Train sample type:\", train_dataset[0].type())\n",
    "print(\"Val sample type:\", val_dataset[0].type())\n",
    "print(\"Test sample type:\", test_dataset[0].type())\n",
    "\n",
    "plt.figure(figsize=(5,3))\n",
    "plt.plot(train_dataset[0].squeeze().T)\n",
    "plt.show()"
   ]
  },
  {
   "cell_type": "markdown",
   "id": "c11875e4-aaf4-4a37-835a-f5fd9cc06100",
   "metadata": {
    "id": "KozGw7TppFLX",
    "papermill": {
     "duration": 0.528398,
     "end_time": "2023-12-09T22:37:46.050409",
     "exception": false,
     "start_time": "2023-12-09T22:37:45.522011",
     "status": "completed"
    },
    "tags": []
   },
   "source": [
    "# Evaluation"
   ]
  },
  {
   "cell_type": "code",
   "execution_count": 14,
   "id": "fa8809a6-1954-472c-b9b9-fbbb1860aabb",
   "metadata": {
    "papermill": {
     "duration": 0.539034,
     "end_time": "2023-12-09T22:37:48.237472",
     "exception": false,
     "start_time": "2023-12-09T22:37:47.698438",
     "status": "completed"
    },
    "tags": []
   },
   "outputs": [
    {
     "data": {
      "text/html": [
       "Finishing last run (ID:xh9gfk59) before initializing another..."
      ],
      "text/plain": [
       "<IPython.core.display.HTML object>"
      ]
     },
     "metadata": {},
     "output_type": "display_data"
    },
    {
     "data": {
      "text/html": [
       " View run <strong style=\"color:#cdcd00\">pious-smoke-69</strong> at: <a href='https://wandb.ai/dmitriykornilov_team/uncategorized/runs/xh9gfk59' target=\"_blank\">https://wandb.ai/dmitriykornilov_team/uncategorized/runs/xh9gfk59</a><br/>Synced 5 W&B file(s), 0 media file(s), 0 artifact file(s) and 0 other file(s)"
      ],
      "text/plain": [
       "<IPython.core.display.HTML object>"
      ]
     },
     "metadata": {},
     "output_type": "display_data"
    },
    {
     "data": {
      "text/html": [
       "Find logs at: <code>./wandb/run-20240110_223221-xh9gfk59/logs</code>"
      ],
      "text/plain": [
       "<IPython.core.display.HTML object>"
      ]
     },
     "metadata": {},
     "output_type": "display_data"
    },
    {
     "data": {
      "text/html": [
       "Successfully finished last run (ID:xh9gfk59). Initializing new run:<br/>"
      ],
      "text/plain": [
       "<IPython.core.display.HTML object>"
      ]
     },
     "metadata": {},
     "output_type": "display_data"
    },
    {
     "data": {
      "text/html": [
       "wandb version 0.16.2 is available!  To upgrade, please run:\n",
       " $ pip install wandb --upgrade"
      ],
      "text/plain": [
       "<IPython.core.display.HTML object>"
      ]
     },
     "metadata": {},
     "output_type": "display_data"
    },
    {
     "data": {
      "text/html": [
       "Tracking run with wandb version 0.16.0"
      ],
      "text/plain": [
       "<IPython.core.display.HTML object>"
      ]
     },
     "metadata": {},
     "output_type": "display_data"
    },
    {
     "data": {
      "text/html": [
       "Run data is saved locally in <code>/work/Autoencoders/wandb/run-20240110_223411-as63g3n6</code>"
      ],
      "text/plain": [
       "<IPython.core.display.HTML object>"
      ]
     },
     "metadata": {},
     "output_type": "display_data"
    },
    {
     "data": {
      "text/html": [
       "Syncing run <strong><a href='https://wandb.ai/dmitriykornilov_team/uncategorized/runs/as63g3n6' target=\"_blank\">deft-sponge-70</a></strong> to <a href='https://wandb.ai/dmitriykornilov_team/uncategorized' target=\"_blank\">Weights & Biases</a> (<a href='https://wandb.me/run' target=\"_blank\">docs</a>)<br/>"
      ],
      "text/plain": [
       "<IPython.core.display.HTML object>"
      ]
     },
     "metadata": {},
     "output_type": "display_data"
    },
    {
     "data": {
      "text/html": [
       " View project at <a href='https://wandb.ai/dmitriykornilov_team/uncategorized' target=\"_blank\">https://wandb.ai/dmitriykornilov_team/uncategorized</a>"
      ],
      "text/plain": [
       "<IPython.core.display.HTML object>"
      ]
     },
     "metadata": {},
     "output_type": "display_data"
    },
    {
     "data": {
      "text/html": [
       " View run at <a href='https://wandb.ai/dmitriykornilov_team/uncategorized/runs/as63g3n6' target=\"_blank\">https://wandb.ai/dmitriykornilov_team/uncategorized/runs/as63g3n6</a>"
      ],
      "text/plain": [
       "<IPython.core.display.HTML object>"
      ]
     },
     "metadata": {},
     "output_type": "display_data"
    },
    {
     "name": "stderr",
     "output_type": "stream",
     "text": [
      "\u001b[34m\u001b[1mwandb\u001b[0m:   40 of 40 files downloaded.  \n"
     ]
    },
    {
     "name": "stdout",
     "output_type": "stream",
     "text": [
      "No logging\n",
      "Model is in evaluation mode\n",
      "Epoch 0, step 0\n",
      "Plotting PCA...\n"
     ]
    },
    {
     "data": {
      "text/html": [
       "<div>\n",
       "<style scoped>\n",
       "    .dataframe tbody tr th:only-of-type {\n",
       "        vertical-align: middle;\n",
       "    }\n",
       "\n",
       "    .dataframe tbody tr th {\n",
       "        vertical-align: top;\n",
       "    }\n",
       "\n",
       "    .dataframe thead th {\n",
       "        text-align: right;\n",
       "    }\n",
       "</style>\n",
       "<table border=\"1\" class=\"dataframe\">\n",
       "  <thead>\n",
       "    <tr style=\"text-align: right;\">\n",
       "      <th></th>\n",
       "      <th>Explained variance</th>\n",
       "      <th>Ratio</th>\n",
       "    </tr>\n",
       "  </thead>\n",
       "  <tbody>\n",
       "    <tr>\n",
       "      <th>0</th>\n",
       "      <td>0.028293</td>\n",
       "      <td>0.590115</td>\n",
       "    </tr>\n",
       "    <tr>\n",
       "      <th>1</th>\n",
       "      <td>0.014324</td>\n",
       "      <td>0.298759</td>\n",
       "    </tr>\n",
       "  </tbody>\n",
       "</table>\n",
       "</div>"
      ],
      "text/plain": [
       "   Explained variance     Ratio\n",
       "0            0.028293  0.590115\n",
       "1            0.014324  0.298759"
      ]
     },
     "metadata": {},
     "output_type": "display_data"
    },
    {
     "name": "stdout",
     "output_type": "stream",
     "text": [
      "Plotting reconstruction...\n"
     ]
    },
    {
     "data": {
      "image/png": "[encoded data removed]",
      "text/plain": [
       "<Figure size 1200x300 with 2 Axes>"
      ]
     },
     "metadata": {},
     "output_type": "display_data"
    },
    {
     "name": "stdout",
     "output_type": "stream",
     "text": [
      "Classifier/regressor metrics evaluation...\n",
      "Data split\n",
      "GridSearchCV\n",
      "Fitting 5 folds for each of 3 candidates, totalling 15 fits\n",
      "Evaluation on the train data\n",
      "Evaluation on the test data\n",
      "GridSearchCV\n",
      "Evaluation on the train data\n",
      "Evaluation on the test data\n"
     ]
    },
    {
     "data": {
      "text/html": [
       " View run <strong style=\"color:#cdcd00\">deft-sponge-70</strong> at: <a href='https://wandb.ai/dmitriykornilov_team/uncategorized/runs/as63g3n6' target=\"_blank\">https://wandb.ai/dmitriykornilov_team/uncategorized/runs/as63g3n6</a><br/>Synced 5 W&B file(s), 0 media file(s), 0 artifact file(s) and 0 other file(s)"
      ],
      "text/plain": [
       "<IPython.core.display.HTML object>"
      ]
     },
     "metadata": {},
     "output_type": "display_data"
    },
    {
     "data": {
      "text/html": [
       "Find logs at: <code>./wandb/run-20240110_223411-as63g3n6/logs</code>"
      ],
      "text/plain": [
       "<IPython.core.display.HTML object>"
      ]
     },
     "metadata": {},
     "output_type": "display_data"
    }
   ],
   "source": [
    "from sklearn.preprocessing import StandardScaler\n",
    "from sklearn.svm import SVC\n",
    "from sklearn.linear_model import Ridge\n",
    "\n",
    "model_description=\"depr. anon., AE, 3 ch., 4/8/16/32, 7/7/5/3/3/3/3/1, Sigmoid\"\n",
    "model_config = {\n",
    "    \"input_dim\": train_dataset[0].shape,\n",
    "}\n",
    "model = AE(\n",
    "    n_channels=train_dataset[0].shape[-2],\n",
    "    n_classes=train_dataset[0].shape[-2]\n",
    ").to(device)\n",
    "\n",
    "run = wandb.init()\n",
    "artifact = run.use_artifact('dmitriykornilov_team/EEG_age_prediction/AE:v18', type='model')\n",
    "artifact_dir = artifact.download()\n",
    "model.load_state_dict(torch.load(artifact_dir + '/50_epoch.pth'))\n",
    "\n",
    "logger = Logger(\n",
    "    log_type=\"none\", #\"wandb\"/\"tensorboard\"/\"none\"\n",
    "    model=model,\n",
    ")\n",
    "\n",
    "ml_config = {\n",
    "    \"ml_model\" : Pipeline([('scaler', StandardScaler()), ('clf', SVC())]),\n",
    "    \"ml_param_grid\" : {\n",
    "        'clf__kernel': ['linear'],\n",
    "        'clf__C': np.logspace(-1, 1, 3),\n",
    "        'clf__probability': [True],\n",
    "        'clf__class_weight': ['balanced'],\n",
    "        'clf__random_state': [SEED]\n",
    "    },\n",
    "    \"ml_eval_function\" : [evaluateClassifier, evaluateClassifier_inner_outer_cv],\n",
    "    \"ml_eval_function_tag\" : [\"d\", \"cv\"],\n",
    "    \"ml_eval_function_kwargs\" : [\n",
    "        {\n",
    "            \"verbose\" : 1,\n",
    "            \"test_size\" : 0.33,\n",
    "            \"SEED\" : SEED,\n",
    "            \"cv_scorer\" : accuracy_score,\n",
    "            \"metrics\" : [(average_precision_score, \"soft\"), (roc_auc_score, \"soft\"), (accuracy_score, \"hard\"), (f1_score, \"hard\")],\n",
    "            \"metrics_for_CI\" : [(average_precision_score, \"soft\"), (roc_auc_score, \"soft\"), (accuracy_score, \"hard\"), (f1_score, \"hard\")],\n",
    "            \"n_bootstraps\" : 1000\n",
    "        },\n",
    "        {\n",
    "            \"verbose\" : 1,\n",
    "            \"SEED\" : SEED,\n",
    "            \"cv_scorer\" : accuracy_score,\n",
    "            \"metrics\" : [(average_precision_score, \"soft\"), (roc_auc_score, \"soft\"), (accuracy_score, \"hard\"), (f1_score, \"hard\")],\n",
    "            \"n_splits\" : 10,\n",
    "        }\n",
    "    ],\n",
    "    \"ml_metric_prefix\" : \"clf\",\n",
    "    \n",
    "    # ml_model=Pipeline([('scaler', StandardScaler()), ('reg', Ridge())]),\n",
    "    # ml_param_grid={\n",
    "    #     'reg__alpha': np.logspace(-2, 2, 5),\n",
    "    #     # 'reg__solver': ['sag'],\n",
    "    #     # 'reg__tol': [1e-4]\n",
    "    # },\n",
    "    # ml_eval_function=evaluateRegressor,\n",
    "    # ml_metric_names=[\"mse_test\", \"mse_train\"],\n",
    "    # ml_metric_prefix=\"reg\",\n",
    "}\n",
    "\n",
    "model, results = train_eval(\n",
    "    val_dataloader,\n",
    "    model,\n",
    "    device=device,\n",
    "    mode=\"test\",\n",
    "    test_dataset=val_dataset,\n",
    "    targets_test=targets_val,\n",
    "    check_period=1e10,\n",
    "    plot_period=1e10,\n",
    "    logger=logger,\n",
    "    avg_embeddings_over_time=True,\n",
    "    plot_type=\"classification\", #\"regression\"/\"classification\",\n",
    "    **ml_config,\n",
    "    # step_max=1,\n",
    ")\n",
    "\n",
    "run.finish()"
   ]
  },
  {
   "cell_type": "code",
   "execution_count": 15,
   "id": "ae154009-49de-49dd-8d80-29692e99d8ff",
   "metadata": {
    "papermill": {
     "duration": 0.559224,
     "end_time": "2023-12-09T22:37:49.322708",
     "exception": false,
     "start_time": "2023-12-09T22:37:48.763484",
     "status": "completed"
    },
    "tags": []
   },
   "outputs": [
    {
     "data": {
      "text/html": [
       "<div>\n",
       "<style scoped>\n",
       "    .dataframe tbody tr th:only-of-type {\n",
       "        vertical-align: middle;\n",
       "    }\n",
       "\n",
       "    .dataframe tbody tr th {\n",
       "        vertical-align: top;\n",
       "    }\n",
       "\n",
       "    .dataframe thead th {\n",
       "        text-align: right;\n",
       "    }\n",
       "</style>\n",
       "<table border=\"1\" class=\"dataframe\">\n",
       "  <thead>\n",
       "    <tr style=\"text-align: right;\">\n",
       "      <th></th>\n",
       "      <th>loss</th>\n",
       "      <th>metric</th>\n",
       "      <th>pearson_correlation</th>\n",
       "      <th>snr_db</th>\n",
       "      <th>loss_ampl</th>\n",
       "      <th>loss_vel</th>\n",
       "      <th>loss_acc</th>\n",
       "      <th>loss_frq</th>\n",
       "      <th>clf.d.train.average_precision</th>\n",
       "      <th>clf.d.train.roc_auc</th>\n",
       "      <th>clf.d.train.accuracy</th>\n",
       "      <th>clf.d.train.f1</th>\n",
       "      <th>clf.d.train.average_precision.bs</th>\n",
       "      <th>clf.d.train.average_precision.se.bs</th>\n",
       "      <th>clf.d.train.roc_auc.bs</th>\n",
       "      <th>clf.d.train.roc_auc.se.bs</th>\n",
       "      <th>clf.d.train.accuracy.bs</th>\n",
       "      <th>clf.d.train.accuracy.se.bs</th>\n",
       "      <th>clf.d.train.f1.bs</th>\n",
       "      <th>clf.d.train.f1.se.bs</th>\n",
       "      <th>clf.d.train.sensitivity</th>\n",
       "      <th>clf.d.train.specificity</th>\n",
       "      <th>clf.d.test.average_precision</th>\n",
       "      <th>clf.d.test.roc_auc</th>\n",
       "      <th>clf.d.test.accuracy</th>\n",
       "      <th>clf.d.test.f1</th>\n",
       "      <th>clf.d.test.average_precision.bs</th>\n",
       "      <th>clf.d.test.average_precision.se.bs</th>\n",
       "      <th>clf.d.test.roc_auc.bs</th>\n",
       "      <th>clf.d.test.roc_auc.se.bs</th>\n",
       "      <th>clf.d.test.accuracy.bs</th>\n",
       "      <th>clf.d.test.accuracy.se.bs</th>\n",
       "      <th>clf.d.test.f1.bs</th>\n",
       "      <th>clf.d.test.f1.se.bs</th>\n",
       "      <th>clf.d.test.sensitivity</th>\n",
       "      <th>clf.d.test.specificity</th>\n",
       "      <th>clf.cv.train.average_precision.cv</th>\n",
       "      <th>clf.cv.train.average_precision.se.cv</th>\n",
       "      <th>clf.cv.train.roc_auc.cv</th>\n",
       "      <th>clf.cv.train.roc_auc.se.cv</th>\n",
       "      <th>clf.cv.train.accuracy.cv</th>\n",
       "      <th>clf.cv.train.accuracy.se.cv</th>\n",
       "      <th>clf.cv.train.f1.cv</th>\n",
       "      <th>clf.cv.train.f1.se.cv</th>\n",
       "      <th>clf.cv.test.average_precision.cv</th>\n",
       "      <th>clf.cv.test.average_precision.se.cv</th>\n",
       "      <th>clf.cv.test.roc_auc.cv</th>\n",
       "      <th>clf.cv.test.roc_auc.se.cv</th>\n",
       "      <th>clf.cv.test.accuracy.cv</th>\n",
       "      <th>clf.cv.test.accuracy.se.cv</th>\n",
       "      <th>clf.cv.test.f1.cv</th>\n",
       "      <th>clf.cv.test.f1.se.cv</th>\n",
       "    </tr>\n",
       "  </thead>\n",
       "  <tbody>\n",
       "    <tr>\n",
       "      <th>0</th>\n",
       "      <td>847.445</td>\n",
       "      <td>0.779</td>\n",
       "      <td>0.500</td>\n",
       "      <td>7.169</td>\n",
       "      <td>847.445</td>\n",
       "      <td>11.936</td>\n",
       "      <td>11.324</td>\n",
       "      <td>5.204</td>\n",
       "      <td>0.733</td>\n",
       "      <td>0.815</td>\n",
       "      <td>0.750</td>\n",
       "      <td>0.743</td>\n",
       "      <td>0.750</td>\n",
       "      <td>0.158</td>\n",
       "      <td>0.759</td>\n",
       "      <td>0.162</td>\n",
       "      <td>0.678</td>\n",
       "      <td>0.137</td>\n",
       "      <td>0.678</td>\n",
       "      <td>0.144</td>\n",
       "      <td>0.743</td>\n",
       "      <td>0.757</td>\n",
       "      <td>0.845</td>\n",
       "      <td>0.885</td>\n",
       "      <td>0.861</td>\n",
       "      <td>0.865</td>\n",
       "      <td>0.856</td>\n",
       "      <td>0.184</td>\n",
       "      <td>0.857</td>\n",
       "      <td>0.181</td>\n",
       "      <td>0.831</td>\n",
       "      <td>0.149</td>\n",
       "      <td>0.834</td>\n",
       "      <td>0.161</td>\n",
       "      <td>0.842</td>\n",
       "      <td>0.882</td>\n",
       "      <td>0.877</td>\n",
       "      <td>0.188</td>\n",
       "      <td>0.867</td>\n",
       "      <td>0.157</td>\n",
       "      <td>0.807</td>\n",
       "      <td>0.168</td>\n",
       "      <td>0.807</td>\n",
       "      <td>0.179</td>\n",
       "      <td>0.870</td>\n",
       "      <td>0.122</td>\n",
       "      <td>0.843</td>\n",
       "      <td>0.129</td>\n",
       "      <td>0.734</td>\n",
       "      <td>0.197</td>\n",
       "      <td>0.740</td>\n",
       "      <td>0.199</td>\n",
       "    </tr>\n",
       "  </tbody>\n",
       "</table>\n",
       "</div>"
      ],
      "text/plain": [
       "      loss metric pearson_correlation snr_db loss_ampl loss_vel loss_acc  \\\n",
       "0  847.445  0.779               0.500  7.169   847.445   11.936   11.324   \n",
       "\n",
       "  loss_frq clf.d.train.average_precision clf.d.train.roc_auc  \\\n",
       "0    5.204                         0.733               0.815   \n",
       "\n",
       "  clf.d.train.accuracy clf.d.train.f1 clf.d.train.average_precision.bs  \\\n",
       "0                0.750          0.743                            0.750   \n",
       "\n",
       "  clf.d.train.average_precision.se.bs clf.d.train.roc_auc.bs  \\\n",
       "0                               0.158                  0.759   \n",
       "\n",
       "  clf.d.train.roc_auc.se.bs clf.d.train.accuracy.bs  \\\n",
       "0                     0.162                   0.678   \n",
       "\n",
       "  clf.d.train.accuracy.se.bs clf.d.train.f1.bs clf.d.train.f1.se.bs  \\\n",
       "0                      0.137             0.678                0.144   \n",
       "\n",
       "  clf.d.train.sensitivity clf.d.train.specificity  \\\n",
       "0                   0.743                   0.757   \n",
       "\n",
       "  clf.d.test.average_precision clf.d.test.roc_auc clf.d.test.accuracy  \\\n",
       "0                        0.845              0.885               0.861   \n",
       "\n",
       "  clf.d.test.f1 clf.d.test.average_precision.bs  \\\n",
       "0         0.865                           0.856   \n",
       "\n",
       "  clf.d.test.average_precision.se.bs clf.d.test.roc_auc.bs  \\\n",
       "0                              0.184                 0.857   \n",
       "\n",
       "  clf.d.test.roc_auc.se.bs clf.d.test.accuracy.bs clf.d.test.accuracy.se.bs  \\\n",
       "0                    0.181                  0.831                     0.149   \n",
       "\n",
       "  clf.d.test.f1.bs clf.d.test.f1.se.bs clf.d.test.sensitivity  \\\n",
       "0            0.834               0.161                  0.842   \n",
       "\n",
       "  clf.d.test.specificity clf.cv.train.average_precision.cv  \\\n",
       "0                  0.882                             0.877   \n",
       "\n",
       "  clf.cv.train.average_precision.se.cv clf.cv.train.roc_auc.cv  \\\n",
       "0                                0.188                   0.867   \n",
       "\n",
       "  clf.cv.train.roc_auc.se.cv clf.cv.train.accuracy.cv  \\\n",
       "0                      0.157                    0.807   \n",
       "\n",
       "  clf.cv.train.accuracy.se.cv clf.cv.train.f1.cv clf.cv.train.f1.se.cv  \\\n",
       "0                       0.168              0.807                 0.179   \n",
       "\n",
       "  clf.cv.test.average_precision.cv clf.cv.test.average_precision.se.cv  \\\n",
       "0                            0.870                               0.122   \n",
       "\n",
       "  clf.cv.test.roc_auc.cv clf.cv.test.roc_auc.se.cv clf.cv.test.accuracy.cv  \\\n",
       "0                  0.843                     0.129                   0.734   \n",
       "\n",
       "  clf.cv.test.accuracy.se.cv clf.cv.test.f1.cv clf.cv.test.f1.se.cv  \n",
       "0                      0.197             0.740                0.199  "
      ]
     },
     "execution_count": 15,
     "metadata": {},
     "output_type": "execute_result"
    }
   ],
   "source": [
    "dict_to_df(results)"
   ]
  },
  {
   "cell_type": "code",
   "execution_count": null,
   "id": "6e9c7775-b725-4f1e-9ff8-a1b164c6b2dc",
   "metadata": {
    "papermill": {
     "duration": 0.599588,
     "end_time": "2023-12-09T22:37:50.451792",
     "exception": false,
     "start_time": "2023-12-09T22:37:49.852204",
     "status": "completed"
    },
    "tags": []
   },
   "outputs": [],
   "source": [
    "# import wandb\n",
    "# api = wandb.Api()\n",
    "# run = api.run(\"dmitriykornilov_team/EEG_age_prediction/\")\n",
    "\n",
    "# for k in results:\n",
    "#     run.summary[\"test.\" + k] = results[k]\n",
    "# run.summary.update()"
   ]
  }
 ],
 "metadata": {
  "kernelspec": {
   "display_name": "Python 3 (ipykernel)",
   "language": "python",
   "name": "python3"
  },
  "language_info": {
   "codemirror_mode": {
    "name": "ipython",
    "version": 3
   },
   "file_extension": ".py",
   "mimetype": "text/x-python",
   "name": "python",
   "nbconvert_exporter": "python",
   "pygments_lexer": "ipython3",
   "version": "3.8.10"
  }
 },
 "nbformat": 4,
 "nbformat_minor": 5
}
