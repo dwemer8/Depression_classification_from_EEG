{
 "cells": [
  {
   "cell_type": "code",
   "execution_count": 1,
   "id": "111433dc-a45f-4bde-972f-2fc41cd57c1b",
   "metadata": {
    "editable": true,
    "id": "qADYGk7ZpvHb",
    "outputId": "b376d164-1a61-4cc3-f008-17f63ae82bcd",
    "papermill": {
     "duration": 0.242633,
     "end_time": "2023-12-09T21:36:16.886705",
     "exception": false,
     "start_time": "2023-12-09T21:36:16.644072",
     "status": "completed"
    },
    "slideshow": {
     "slide_type": ""
    },
    "tags": []
   },
   "outputs": [],
   "source": [
    "# !pip uninstall torch torchvision torchaudio -y\n",
    "# !pip3 install torch torchvision torchaudio --index-url https://download.pytorch.org/whl/cu117\n",
    "# !pip install mne -q\n",
    "# !pip install wandb -q\n",
    "# !pip install tensorboard -q"
   ]
  },
  {
   "cell_type": "markdown",
   "id": "1e4af5ed",
   "metadata": {
    "id": "u9hcW97IpFLP",
    "papermill": {
     "duration": 0.23434,
     "end_time": "2023-12-09T21:36:17.845916",
     "exception": false,
     "start_time": "2023-12-09T21:36:17.611576",
     "status": "completed"
    },
    "tags": []
   },
   "source": [
    "# Constants and libraries"
   ]
  },
  {
   "cell_type": "code",
   "execution_count": 2,
   "id": "9ce0f086-fd0b-4a9f-8142-9edc4cd5eeb4",
   "metadata": {},
   "outputs": [
    {
     "name": "stdout",
     "output_type": "stream",
     "text": [
      "Linux\n",
      "\n",
      "PROJECT_FOLDER = ''\n",
      "SRC_FOLDER = ''\n",
      "OUTPUT_FOLDER = ''\n",
      "\n",
      "TUAB_DIRECTORY = 'Data/TUAB/'\n",
      "TUAB_TRAIN = 'Data/TUAB/train/normal/01_tcp_ar/'\n",
      "TUAB_EVAL = 'Data/TUAB/eval/normal/01_tcp_ar/'\n",
      "\n",
      "DEPR_ANON_DIRECTORY = 'Data/depression_anonymized/'\n",
      "\n",
      "INHOUSE_DIRECTORY = 'Data/inhouse_dataset/EEG_baseline_with_markers_cleaned/preprocessed_data/EEG_baseline/'\n",
      "\n"
     ]
    }
   ],
   "source": [
    "'''\n",
    "In this section one defines environment variables. \n",
    "Because I used this notebook on number of machines, I implemented class especially for this. \n",
    "You may not needed in one and use just simple definitions.\n",
    "'''\n",
    "\n",
    "from system_variables import SystemVariables\n",
    "\n",
    "# choose system according your current machine\n",
    "# SYSTEM_NAME = \"Windows\"\n",
    "# SYSTEM_NAME = \"Colab\"\n",
    "# SYSTEM_NAME = \"Kaggle\"\n",
    "SYSTEM_NAME = \"Linux\"\n",
    "\n",
    "sv = SystemVariables(SYSTEM_NAME)\n",
    "PROJECT_FOLDER = sv.get_project_folder()\n",
    "SRC_FOLDER = sv.get_src_folder()\n",
    "OUTPUT_FOLDER = sv.get_output_folder()\n",
    "TUAB_DIRECTORY, TUAB_TRAIN, TUAB_EVAL = sv.get_TUAB_folders()\n",
    "DEPR_ANON_DIRECTORY = sv.get_depr_anon_folder()\n",
    "INHOUSE_DIRECTORY = sv.get_inhouse_folder()\n",
    "\n",
    "print(SYSTEM_NAME)\n",
    "print()\n",
    "\n",
    "print(f\"{PROJECT_FOLDER = }\")\n",
    "print(f\"{SRC_FOLDER = }\")\n",
    "print(f\"{OUTPUT_FOLDER = }\")\n",
    "print()\n",
    "\n",
    "print(f\"{TUAB_DIRECTORY = }\")\n",
    "print(f\"{TUAB_TRAIN = }\")\n",
    "print(f\"{TUAB_EVAL = }\")\n",
    "print()\n",
    "\n",
    "print(f\"{DEPR_ANON_DIRECTORY = }\")\n",
    "print()\n",
    "\n",
    "print(f\"{INHOUSE_DIRECTORY = }\")\n",
    "print()"
   ]
  },
  {
   "cell_type": "code",
   "execution_count": 3,
   "id": "4a8323d0-25db-4d2e-acba-1ca681e6bd53",
   "metadata": {},
   "outputs": [
    {
     "name": "stdout",
     "output_type": "stream",
     "text": [
      "\u001b[34m\u001b[1mwandb\u001b[0m: Appending key for api.wandb.ai to your netrc file: /root/.netrc\n",
      "cuda\n"
     ]
    }
   ],
   "source": [
    "import warnings\n",
    "warnings.simplefilter(\"ignore\")\n",
    "\n",
    "import os\n",
    "import sys\n",
    "import pickle\n",
    "import json\n",
    "import random\n",
    "from IPython.display import display, clear_output\n",
    "\n",
    "import numpy as np\n",
    "import pandas as pd\n",
    "pd.set_option('display.max_rows', 500)\n",
    "pd.set_option('display.max_columns', 500)\n",
    "import matplotlib.pyplot as plt\n",
    "from matplotlib import rc\n",
    "rc('animation', html='jshtml')\n",
    "\n",
    "from sklearn.preprocessing import StandardScaler\n",
    "from sklearn.pipeline import Pipeline\n",
    "from sklearn.svm import SVC\n",
    "from sklearn.linear_model import LinearRegression, Lasso, Ridge\n",
    "from sklearn.metrics import accuracy_score, f1_score, average_precision_score, roc_auc_score\n",
    "\n",
    "from tqdm.auto import tqdm as tqdm_auto\n",
    "\n",
    "import torch\n",
    "import torch.nn as nn\n",
    "from torch.utils.data import DataLoader\n",
    "from torch.utils.tensorboard import SummaryWriter\n",
    "%load_ext tensorboard\n",
    "\n",
    "import wandb\n",
    "!wandb login 1b8e8dc9dcf1a34397a04197c4826d3fe7441dae\n",
    "\n",
    "import mne\n",
    "\n",
    "device = \"cuda\" if torch.cuda.is_available() else \"cpu\"\n",
    "print(device)"
   ]
  },
  {
   "cell_type": "code",
   "execution_count": 4,
   "id": "e727de23",
   "metadata": {
    "id": "xhokb8oipFLR",
    "outputId": "b86fecdb-1101-40ee-df27-23de85372207",
    "papermill": {
     "duration": 22.337897,
     "end_time": "2023-12-09T21:36:40.911773",
     "exception": false,
     "start_time": "2023-12-09T21:36:18.573876",
     "status": "completed"
    },
    "tags": []
   },
   "outputs": [],
   "source": [
    "sys.path.append(SRC_FOLDER)\n",
    "\n",
    "%load_ext autoreload\n",
    "%autoreload 1\n",
    "%aimport utils\n",
    "\n",
    "from utils import SEED\n",
    "from utils.models_evaluation import evaluateClassifier, evaluateRegressor, evaluateClassifier_inner_outer_cv\n",
    "from utils.data_reading import DataReader\n",
    "from utils.plotting import dataset_hists, plotData, dict_to_df\n",
    "from utils.dataset import InMemoryDataset\n",
    "from utils.logger import Logger\n",
    "from utils.training import train_eval\n",
    "\n",
    "from models.modules import encoder_conv, decoder_conv, encoder_conv4, decoder_conv4\n",
    "from models.VAE import VAE, BetaVAE_H, BetaVAE_B\n",
    "from models.AE import AE, AE_framework\n",
    "from models.UNet import UNet\n",
    "\n",
    "from training import train_eval"
   ]
  },
  {
   "cell_type": "markdown",
   "id": "0d41ad95",
   "metadata": {
    "id": "UPjIv86UpFLV",
    "papermill": {
     "duration": 0.235318,
     "end_time": "2023-12-09T21:36:52.519049",
     "exception": false,
     "start_time": "2023-12-09T21:36:52.283731",
     "status": "completed"
    },
    "tags": []
   },
   "source": [
    "# Data load\n"
   ]
  },
  {
   "cell_type": "markdown",
   "id": "23a74fd4",
   "metadata": {
    "jp-MarkdownHeadingCollapsed": true,
    "papermill": {
     "duration": 0.235196,
     "end_time": "2023-12-09T21:36:52.989294",
     "exception": false,
     "start_time": "2023-12-09T21:36:52.754098",
     "status": "completed"
    },
    "tags": []
   },
   "source": [
    "### TUAB"
   ]
  },
  {
   "cell_type": "code",
   "execution_count": 5,
   "id": "0e11621d",
   "metadata": {
    "id": "GLoQu9VapFLV",
    "outputId": "a8aee5a4-bdc1-4a09-a58e-c4ead4557d81",
    "papermill": {
     "duration": 0.243346,
     "end_time": "2023-12-09T21:36:53.469939",
     "exception": false,
     "start_time": "2023-12-09T21:36:53.226593",
     "status": "completed"
    },
    "tags": []
   },
   "outputs": [],
   "source": [
    "# from sklearn.model_selection import train_test_split\n",
    "\n",
    "# chunks_train = np.load(TUAB_TRAIN + \"chunks_fz_cz_pz_3x124.npy\").reshape(-1, 1, 3, 124)\n",
    "# targets_train = np.load(TUAB_TRAIN + \"targets.npy\")\n",
    "# chunks_val_test = np.load(TUAB_EVAL + \"chunks_fz_cz_pz_3x124.npy\").reshape(-1, 1, 3, 124)\n",
    "# targets_val_test = np.load(TUAB_EVAL + \"targets.npy\")\n",
    "# chunks_val, chunks_test, targets_val, targets_test = train_test_split(chunks_val_test, targets_val_test, test_size=0.5, random_state=SEED, shuffle=False)\n",
    "# print(chunks_train.shape, targets_train.shape, chunks_val.shape, targets_val.shape, chunks_test.shape, targets_test.shape)"
   ]
  },
  {
   "cell_type": "markdown",
   "id": "23e9b46a",
   "metadata": {
    "papermill": {
     "duration": 0.232459,
     "end_time": "2023-12-09T21:36:53.936331",
     "exception": false,
     "start_time": "2023-12-09T21:36:53.703872",
     "status": "completed"
    },
    "tags": []
   },
   "source": [
    "### Depression anonimyzed"
   ]
  },
  {
   "cell_type": "code",
   "execution_count": 6,
   "id": "eba074e8",
   "metadata": {
    "papermill": {
     "duration": 0.247149,
     "end_time": "2023-12-09T21:36:56.413948",
     "exception": false,
     "start_time": "2023-12-09T21:36:56.166799",
     "status": "completed"
    },
    "tags": []
   },
   "outputs": [
    {
     "name": "stdout",
     "output_type": "stream",
     "text": [
      "\n",
      "Chunks shape: (3, 1280) , length: 1068 , keys: dict_keys(['chunk', 'target', 'patient'])\n",
      "N patients = 178\n",
      "Train=142, validation=18, test=18\n"
     ]
    },
    {
     "name": "stderr",
     "output_type": "stream",
     "text": [
      "100%|███████████████████████████████████████████████████████████████████████████████████████████████████████████████████| 1068/1068 [00:00<00:00, 31481.38it/s]"
     ]
    },
    {
     "name": "stdout",
     "output_type": "stream",
     "text": [
      "Train: 852 (3, 1280)\n",
      "Validation: 108 (3, 1280)\n",
      "Test: 108 (3, 1280)\n"
     ]
    },
    {
     "name": "stderr",
     "output_type": "stream",
     "text": [
      "\n"
     ]
    }
   ],
   "source": [
    "file = DEPR_ANON_DIRECTORY + \"dataset_128_10.0.pkl\"\n",
    "train_set, val_set, test_set = DataReader(file).split()\n",
    "chunks_train, chunks_val, chunks_test = train_set[\"chunk\"], val_set[\"chunk\"], test_set[\"chunk\"]\n",
    "targets_train, targets_val, targets_test = train_set[\"target\"], val_set[\"target\"], test_set[\"target\"]"
   ]
  },
  {
   "cell_type": "markdown",
   "id": "310401e8",
   "metadata": {
    "jp-MarkdownHeadingCollapsed": true,
    "papermill": {
     "duration": 0.234221,
     "end_time": "2023-12-09T21:36:56.885164",
     "exception": false,
     "start_time": "2023-12-09T21:36:56.650943",
     "status": "completed"
    },
    "tags": []
   },
   "source": [
    "### Inhouse dataset"
   ]
  },
  {
   "cell_type": "code",
   "execution_count": 7,
   "id": "481bc78b",
   "metadata": {
    "papermill": {
     "duration": 0.270099,
     "end_time": "2023-12-09T21:36:57.393006",
     "exception": false,
     "start_time": "2023-12-09T21:36:57.122907",
     "status": "completed"
    },
    "tags": []
   },
   "outputs": [],
   "source": [
    "# with open(INHOUSE_DIRECTORY + \"dataset.pkl\", \"rb\") as f:\n",
    "#     chunks_list = pickle.load(f)\n",
    "# print(\"\\nChunks shape:\", chunks_list[0][\"chunk\"].shape, \"length:\", len(chunks_list), \"keys:\", chunks_list[0].keys())"
   ]
  },
  {
   "cell_type": "code",
   "execution_count": 8,
   "id": "2f4969c8",
   "metadata": {
    "papermill": {
     "duration": 0.263421,
     "end_time": "2023-12-09T21:36:57.916831",
     "exception": false,
     "start_time": "2023-12-09T21:36:57.653410",
     "status": "completed"
    },
    "tags": []
   },
   "outputs": [],
   "source": [
    "# from sklearn.model_selection import train_test_split\n",
    "# from copy import deepcopy\n",
    "\n",
    "# patients_targets = pd.DataFrame.from_records([{\"patient\": x[\"patient\"], \"target\": x[\"target\"]} for x in chunks_list]).drop_duplicates().reset_index(drop=True)\n",
    "# print(f\"N patients = {len(patients_targets)}\")\n",
    "\n",
    "# patients_train, patients_val_test = train_test_split(patients_targets, test_size=0.2, random_state=SEED, stratify=patients_targets[\"target\"], shuffle=True)\n",
    "# patients_val, patients_test = train_test_split(patients_val_test, test_size=0.5, random_state=SEED, stratify=patients_val_test[\"target\"], shuffle=True)\n",
    "# patients_train, patients_val, patients_test = patients_train[\"patient\"].values, patients_val[\"patient\"].values, patients_test[\"patient\"].values\n",
    "# print(f\"Train={len(patients_train)}, validation={len(patients_val)}, test={len(patients_test)}\")\n",
    "\n",
    "# reset = {\"chunk\": [], \"target\": [], \"patient\": []}\n",
    "# train_set, val_set, test_set = deepcopy(reset), deepcopy(reset), deepcopy(reset)\n",
    "\n",
    "# for chunk in tqdm_auto(chunks_list):\n",
    "#     patient_id = chunk[\"patient\"]\n",
    "#     was_added = False\n",
    "#     for data_set, patients in zip([train_set, val_set, test_set], [patients_train, patients_val, patients_test]):\n",
    "#         if patient_id in patients:\n",
    "#             for tag in [\"chunk\", \"target\", \"patient\"]:\n",
    "#                 data_set[tag].append(chunk[tag])\n",
    "#                 was_added = True\n",
    "        \n",
    "#     if not was_added:\n",
    "#         raise ValueError(f\"Unexpected patient id {patient_id}\")\n",
    "    \n",
    "# for data_set in [train_set, val_set, test_set]:\n",
    "#     data_set[\"chunk\"] = np.array(data_set[\"chunk\"])\n",
    "#     data_set[\"target\"] = np.array(data_set[\"target\"])\n",
    "\n",
    "# print(\"Train:\", len(train_set[\"chunk\"]), train_set[\"chunk\"][0].shape)\n",
    "# print(\"Valitation:\", len(val_set[\"chunk\"]), val_set[\"chunk\"][0].shape)\n",
    "# print(\"Test:\", len(test_set[\"chunk\"]), test_set[\"chunk\"][0].shape)"
   ]
  },
  {
   "cell_type": "code",
   "execution_count": 9,
   "id": "8aa7dfd1",
   "metadata": {
    "papermill": {
     "duration": 0.260264,
     "end_time": "2023-12-09T21:36:58.432948",
     "exception": false,
     "start_time": "2023-12-09T21:36:58.172684",
     "status": "completed"
    },
    "tags": []
   },
   "outputs": [],
   "source": [
    "# chunks_train, chunks_val, chunks_test = train_set[\"chunk\"], val_set[\"chunk\"], test_set[\"chunk\"]\n",
    "# targets_train, targets_val, targets_test = train_set[\"target\"], val_set[\"target\"], test_set[\"target\"]"
   ]
  },
  {
   "cell_type": "markdown",
   "id": "ebd742ab",
   "metadata": {
    "papermill": {
     "duration": 0.257557,
     "end_time": "2023-12-09T21:36:58.943197",
     "exception": false,
     "start_time": "2023-12-09T21:36:58.685640",
     "status": "completed"
    },
    "tags": []
   },
   "source": [
    "#### For training on healthy only"
   ]
  },
  {
   "cell_type": "code",
   "execution_count": 10,
   "id": "72e4ff21",
   "metadata": {
    "papermill": {
     "duration": 0.245158,
     "end_time": "2023-12-09T21:36:59.448571",
     "exception": false,
     "start_time": "2023-12-09T21:36:59.203413",
     "status": "completed"
    },
    "tags": []
   },
   "outputs": [],
   "source": [
    "# chunks_train_0 = chunks_train[np.where(targets_train == 0)]\n",
    "# targets_train_0 = np.zeros(len(chunks_train_0))\n",
    "\n",
    "# chunks_train = chunks_train_0\n",
    "# targets_train = targets_train_0"
   ]
  },
  {
   "cell_type": "markdown",
   "id": "5d75f499",
   "metadata": {
    "id": "mCKrrBsmpFLV",
    "papermill": {
     "duration": 0.233023,
     "end_time": "2023-12-09T21:36:59.917570",
     "exception": false,
     "start_time": "2023-12-09T21:36:59.684547",
     "status": "completed"
    },
    "tags": []
   },
   "source": [
    "# Data exploration"
   ]
  },
  {
   "cell_type": "markdown",
   "id": "1abebc85",
   "metadata": {
    "papermill": {
     "duration": 0.234516,
     "end_time": "2023-12-09T21:37:00.433461",
     "exception": false,
     "start_time": "2023-12-09T21:37:00.198945",
     "status": "completed"
    },
    "tags": []
   },
   "source": [
    "### TUAB"
   ]
  },
  {
   "cell_type": "markdown",
   "id": "59a2e66f",
   "metadata": {
    "jp-MarkdownHeadingCollapsed": true,
    "papermill": {
     "duration": 0.234597,
     "end_time": "2023-12-09T21:37:00.902740",
     "exception": false,
     "start_time": "2023-12-09T21:37:00.668143",
     "status": "completed"
    },
    "tags": []
   },
   "source": [
    "#### Targets"
   ]
  },
  {
   "cell_type": "code",
   "execution_count": 11,
   "id": "c0c96a13",
   "metadata": {
    "id": "WmjxS24spFLV",
    "outputId": "9acc4a88-ac50-410a-99d4-28b0c9942a4f",
    "papermill": {
     "duration": 0.244768,
     "end_time": "2023-12-09T21:37:01.384635",
     "exception": false,
     "start_time": "2023-12-09T21:37:01.139867",
     "status": "completed"
    },
    "tags": []
   },
   "outputs": [],
   "source": [
    "# fig, ax = plt.subplots(nrows=1, ncols=3, figsize=(15, 3))\n",
    "# ax[0].hist(targets_train);\n",
    "# ax[0].set_title(\"Train\");\n",
    "# ax[1].hist(targets_val);\n",
    "# ax[1].set_title(\"Validation\");\n",
    "# ax[2].hist(targets_test);\n",
    "# ax[2].set_title(\"Test\");\n",
    "# plt.show();"
   ]
  },
  {
   "cell_type": "markdown",
   "id": "08896558",
   "metadata": {
    "jp-MarkdownHeadingCollapsed": true,
    "papermill": {
     "duration": 0.237165,
     "end_time": "2023-12-09T21:37:01.857446",
     "exception": false,
     "start_time": "2023-12-09T21:37:01.620281",
     "status": "completed"
    },
    "tags": []
   },
   "source": [
    "#### Chunks"
   ]
  },
  {
   "cell_type": "code",
   "execution_count": 12,
   "id": "604f2440",
   "metadata": {
    "id": "GvMq8u4wpFLV",
    "outputId": "ae3a25bf-e643-49b9-a502-63e06b0b9d17",
    "papermill": {
     "duration": 0.245371,
     "end_time": "2023-12-09T21:37:02.339318",
     "exception": false,
     "start_time": "2023-12-09T21:37:02.093947",
     "status": "completed"
    },
    "tags": []
   },
   "outputs": [],
   "source": [
    "# for chunks in [chunks_train, chunks_val, chunks_test]:\n",
    "#     chunks_minmax = []\n",
    "#     for sample in chunks:\n",
    "#         chunks_minmax.append((sample - sample.min())/(sample.max() - sample.min()))\n",
    "\n",
    "#     print(\"Mean\", np.array(chunks_minmax).mean(), \"std\", np.array(chunks_minmax).std())"
   ]
  },
  {
   "cell_type": "code",
   "execution_count": 13,
   "id": "91540a36",
   "metadata": {
    "papermill": {
     "duration": 0.243187,
     "end_time": "2023-12-09T21:37:02.817837",
     "exception": false,
     "start_time": "2023-12-09T21:37:02.574650",
     "status": "completed"
    },
    "tags": []
   },
   "outputs": [],
   "source": [
    "# for chunks in [chunks_train, chunks_val, chunks_test]:\n",
    "#     fig, ax = plt.subplots(nrows=1, ncols=3, figsize=(9, 2))\n",
    "#     for i, ch in enumerate(np.moveaxis(chunks_train, [0, 1, 2, 3], [2, 1, 0, 3]).reshape([3, -1])):\n",
    "#         ax[i].hist(ch, bins=50, range=[-5, 5])"
   ]
  },
  {
   "cell_type": "markdown",
   "id": "d817fccb",
   "metadata": {
    "papermill": {
     "duration": 0.23542,
     "end_time": "2023-12-09T21:37:03.334007",
     "exception": false,
     "start_time": "2023-12-09T21:37:03.098587",
     "status": "completed"
    },
    "tags": []
   },
   "source": [
    "### Depression anonymized"
   ]
  },
  {
   "cell_type": "code",
   "execution_count": 14,
   "id": "7cf55e50",
   "metadata": {
    "papermill": {
     "duration": 2.108034,
     "end_time": "2023-12-09T21:37:05.677069",
     "exception": false,
     "start_time": "2023-12-09T21:37:03.569035",
     "status": "completed"
    },
    "tags": []
   },
   "outputs": [],
   "source": [
    "# dataset_hists(train_set, val_set, test_set)"
   ]
  },
  {
   "cell_type": "markdown",
   "id": "fe62c94d",
   "metadata": {
    "papermill": {
     "duration": 0.238524,
     "end_time": "2023-12-09T21:37:06.157642",
     "exception": false,
     "start_time": "2023-12-09T21:37:05.919118",
     "status": "completed"
    },
    "tags": []
   },
   "source": [
    "### Inhouse dataset"
   ]
  },
  {
   "cell_type": "code",
   "execution_count": 15,
   "id": "72f50cb5",
   "metadata": {
    "papermill": {
     "duration": 0.245127,
     "end_time": "2023-12-09T21:37:06.638701",
     "exception": false,
     "start_time": "2023-12-09T21:37:06.393574",
     "status": "completed"
    },
    "tags": []
   },
   "outputs": [],
   "source": [
    "# for data_set in [train_set, val_set, test_set]:\n",
    "#     fig, ax = plt.subplots(nrows=1, ncols=4, figsize=(16, 2))\n",
    "#     for i in range(3): ax[i].hist(data_set[\"chunk\"][:, i, :].flatten(), bins=20, range=(-5,5))\n",
    "#     ax[3].hist(data_set[\"target\"], bins=3)\n",
    "#     plt.show()"
   ]
  },
  {
   "cell_type": "markdown",
   "id": "d0821d96",
   "metadata": {
    "id": "HVN3aRxcpFLV",
    "papermill": {
     "duration": 0.239369,
     "end_time": "2023-12-09T21:37:08.167811",
     "exception": false,
     "start_time": "2023-12-09T21:37:07.928442",
     "status": "completed"
    },
    "tags": []
   },
   "source": [
    "# Train by hands"
   ]
  },
  {
   "cell_type": "code",
   "execution_count": 16,
   "id": "9738fccf",
   "metadata": {
    "id": "L6_2Owh5pFLW",
    "papermill": {
     "duration": 0.245674,
     "end_time": "2023-12-09T21:37:08.651571",
     "exception": false,
     "start_time": "2023-12-09T21:37:08.405897",
     "status": "completed"
    },
    "tags": []
   },
   "outputs": [],
   "source": [
    "data_config = {\n",
    "    \"batch_size\": 256,\n",
    "    \"num_workers\": 0,\n",
    "    \"samples_shape\": chunks_train[0].shape,\n",
    "    \"n_train_samples\": len(chunks_train),\n",
    "    \"n_validation_samples\": len(chunks_val),\n",
    "    \"n_test_samples\": len(chunks_test),\n",
    "    \"minmax\": \"across_whole_sample\",\n",
    "    \"record_part\": \"10 s\",\n",
    "    \"task\": \"MDD classification\",\n",
    "    \"dataset\": \"depression anonymized\" #!!! CHECK BEFORE TRAINING\n",
    "}"
   ]
  },
  {
   "cell_type": "markdown",
   "id": "907346e4",
   "metadata": {
    "id": "HcgqAyshpFLW",
    "papermill": {
     "duration": 0.31121,
     "end_time": "2023-12-09T21:37:09.200768",
     "exception": false,
     "start_time": "2023-12-09T21:37:08.889558",
     "status": "completed"
    },
    "tags": []
   },
   "source": [
    "## Dataset preparation"
   ]
  },
  {
   "cell_type": "code",
   "execution_count": 17,
   "id": "38dff538",
   "metadata": {
    "id": "Ija32MptpFLW",
    "outputId": "5b37d7b6-1a59-41fe-aca1-0b9726087557",
    "papermill": {
     "duration": 0.317942,
     "end_time": "2023-12-09T21:37:10.248818",
     "exception": false,
     "start_time": "2023-12-09T21:37:09.930876",
     "status": "completed"
    },
    "tags": []
   },
   "outputs": [
    {
     "name": "stdout",
     "output_type": "stream",
     "text": [
      "Train dataset: 852\n",
      "Val dataset: 108\n",
      "Test dataset: 108\n",
      "Train dataloader: 4\n",
      "Val dataloader: 1\n",
      "Test dataloader: 1\n",
      "Train sample shape: torch.Size([3, 1280])\n",
      "Val sample shape: torch.Size([3, 1280])\n",
      "Test sample shape: torch.Size([3, 1280])\n",
      "Train sample type: torch.FloatTensor\n",
      "Val sample type: torch.FloatTensor\n",
      "Test sample type: torch.FloatTensor\n"
     ]
    },
    {
     "data": {
      "image/png": "[encoded data removed]",
      "text/plain": [
       "<Figure size 500x300 with 1 Axes>"
      ]
     },
     "metadata": {},
     "output_type": "display_data"
    }
   ],
   "source": [
    "t_max=None\n",
    "train_dataset = InMemoryDataset(chunks_train, is_squeeze=False, is_unsqueeze=False, t_max=t_max)\n",
    "val_dataset = InMemoryDataset(chunks_val, is_squeeze=False, is_unsqueeze=False, t_max=t_max)\n",
    "test_dataset = InMemoryDataset(chunks_test, is_squeeze=False, is_unsqueeze=False, t_max=t_max)\n",
    "\n",
    "train_dataloader = DataLoader(train_dataset, shuffle=True, batch_size=data_config['batch_size'], num_workers=data_config['num_workers'])\n",
    "val_dataloader = DataLoader(val_dataset, shuffle=False, batch_size=data_config['batch_size'], num_workers=data_config['num_workers'])\n",
    "test_dataloader = DataLoader(test_dataset, shuffle=False, batch_size=data_config['batch_size'], num_workers=data_config['num_workers'])\n",
    "\n",
    "print(\"Train dataset:\", len(train_dataset))\n",
    "print(\"Val dataset:\", len(val_dataset))\n",
    "print(\"Test dataset:\", len(test_dataset))\n",
    "\n",
    "print(\"Train dataloader:\", len(train_dataloader))\n",
    "print(\"Val dataloader:\", len(val_dataloader))\n",
    "print(\"Test dataloader:\", len(test_dataloader))\n",
    "\n",
    "print(\"Train sample shape:\", train_dataset[0].shape)\n",
    "print(\"Val sample shape:\", val_dataset[0].shape)\n",
    "print(\"Test sample shape:\", test_dataset[0].shape)\n",
    "\n",
    "print(\"Train sample type:\", train_dataset[0].type())\n",
    "print(\"Val sample type:\", val_dataset[0].type())\n",
    "print(\"Test sample type:\", test_dataset[0].type())\n",
    "\n",
    "plt.figure(figsize=(5,3))\n",
    "plt.plot(train_dataset[0].squeeze().T)\n",
    "plt.show()"
   ]
  },
  {
   "cell_type": "markdown",
   "id": "69b7e5c0",
   "metadata": {
    "papermill": {
     "duration": 0.235463,
     "end_time": "2023-12-09T21:37:17.834552",
     "exception": false,
     "start_time": "2023-12-09T21:37:17.599089",
     "status": "completed"
    },
    "tags": []
   },
   "source": [
    "## Training"
   ]
  },
  {
   "cell_type": "markdown",
   "id": "55b2bb10",
   "metadata": {
    "papermill": {
     "duration": 0.243687,
     "end_time": "2023-12-09T21:37:19.322196",
     "exception": false,
     "start_time": "2023-12-09T21:37:19.078509",
     "status": "completed"
    },
    "tags": []
   },
   "source": [
    "### Train/validation function"
   ]
  },
  {
   "cell_type": "code",
   "execution_count": 18,
   "id": "2e7661b7",
   "metadata": {
    "id": "k0-kW5lopFLW",
    "papermill": {
     "duration": 0.283568,
     "end_time": "2023-12-09T21:37:19.844110",
     "exception": false,
     "start_time": "2023-12-09T21:37:19.560542",
     "status": "completed"
    },
    "tags": []
   },
   "outputs": [],
   "source": []
  },
  {
   "cell_type": "markdown",
   "id": "50b5afef",
   "metadata": {
    "id": "DbKCz1ZQpFLX",
    "papermill": {
     "duration": 0.237131,
     "end_time": "2023-12-09T21:37:20.320426",
     "exception": false,
     "start_time": "2023-12-09T21:37:20.083295",
     "status": "completed"
    },
    "tags": []
   },
   "source": [
    "### train"
   ]
  },
  {
   "cell_type": "code",
   "execution_count": 19,
   "id": "9e477e7f-9826-46f9-aa26-b3c71c73518b",
   "metadata": {},
   "outputs": [
    {
     "name": "stdout",
     "output_type": "stream",
     "text": [
      "model depr. anon., AE, 3 ch., 4/8/16/32, 7/7/5/3/3/3/3/1, Sigmoid is created\n",
      "Test data point shape: torch.Size([1, 3, 1280])\n",
      "Test inference: 1\n",
      "Test reconstruct: torch.Size([1, 3, 1280])\n",
      "Test encode: torch.Size([1, 32, 160])\n"
     ]
    }
   ],
   "source": [
    "## models #######################################################################\n",
    "\n",
    "###################\n",
    "## shallow networks\n",
    "###################\n",
    "\n",
    "# model_description=\"beta-VAE, 3 ch., 32/32, 6/6, PReLU\"\n",
    "# model_config = {\n",
    "#     \"latent_dim\": 10,\n",
    "#     \"beta\": 2,\n",
    "#     \"input_dim\": train_dataset[0].shape,\n",
    "#     \"latent_std\": 1,\n",
    "#     \"latent_multiplier\" : 2\n",
    "# }\n",
    "# model = VAE(\n",
    "#     encoder_conv(model_config),\n",
    "#     decoder_conv(model_config),\n",
    "#     **model_config\n",
    "# ).to(device)\n",
    "\n",
    "# model_description=\"0 train, inhouse, beta-VAE-B, 3 ch., 32/32, 6/6, PReLU\"\n",
    "# model_config = {\n",
    "#     \"latent_dim\": 10,\n",
    "#     \"beta\": 100,\n",
    "#     \"input_dim\": train_dataset[0].shape,\n",
    "#     \"latent_std\": 1,\n",
    "#     \"C_max\": 100,\n",
    "#     \"C_stop_iter\": len(train_dataloader)*50,\n",
    "#     \"device\": device,\n",
    "#     \"latent_multiplier\" : 2\n",
    "# }\n",
    "# model = BetaVAE_B(\n",
    "#     encoder_conv(model_config),\n",
    "#     decoder_conv(model_config),\n",
    "#     **model_config\n",
    "# ).to(device)\n",
    "\n",
    "# model_description=\"inhouse, beta-VAE-H, 3 ch., 32/32, 6/6, PReLU\"\n",
    "# model_config = {\n",
    "#     \"latent_dim\": 10,\n",
    "#     \"beta\": 2,\n",
    "#     \"input_dim\": train_dataset[0].shape,\n",
    "#     \"latent_std\": 1,\n",
    "#     \"latent_multiplier\" : 2\n",
    "# }\n",
    "# model = BetaVAE_H(\n",
    "#     encoder_conv(model_config),\n",
    "#     decoder_conv(model_config),\n",
    "#     **model_config\n",
    "# ).to(device)\n",
    "\n",
    "# model_description=\"AE, 3 ch., 32/32, 6/6, PReLU\"\n",
    "# model_config = {\n",
    "#     \"latent_dim\": 10,\n",
    "#     \"input_dim\": train_dataset[0].shape,\n",
    "#     \"latent_multiplier\": 1\n",
    "# }\n",
    "# model = AE_framework(\n",
    "#     encoder_conv(model_config),\n",
    "#     decoder_conv(model_config),\n",
    "#     **model_config\n",
    "# ).to(device)\n",
    "\n",
    "################\n",
    "## deep networks\n",
    "################\n",
    "\n",
    "# model_description=\"depr. anon., beta-VAE, 3 ch., 4/8/16/32, 7/7/5/3/3/3/3/1, Sigmoid\" #!!! CHECK BEFORE TRAINING\n",
    "# model_config = {\n",
    "#     \"latent_dim\": 15*32,\n",
    "#     \"beta\": 2,\n",
    "#     \"input_dim\": train_dataset[0].shape,\n",
    "#     \"latent_std\": 1,\n",
    "#     \"n_channels\": 3,\n",
    "#     \"n_classes\": 3,\n",
    "#     \"first_decoder_conv_depth\": 32\n",
    "# }\n",
    "# model = VAE(\n",
    "#     encoder_conv4(model_config[\"n_channels\"]),\n",
    "#     decoder_conv4(model_config[\"n_classes\"]),\n",
    "#     **model_config\n",
    "# ).to(device)\n",
    "\n",
    "model_description=\"depr. anon., AE, 3 ch., 4/8/16/32, 7/7/5/3/3/3/3/1, Sigmoid\"\n",
    "model_config = {\n",
    "    \"input_dim\": train_dataset[0].shape,\n",
    "}\n",
    "model = AE(\n",
    "    n_channels=train_dataset[0].shape[-2],\n",
    "    n_classes=train_dataset[0].shape[-2]\n",
    ").to(device)\n",
    "\n",
    "# model_description=\"UNet, 3 ch., 3/3/2/1, 7/7/5/3/3/3/3/1, PReLU\"\n",
    "# model_config = {\n",
    "#     \"input_dim\": train_dataset[0].shape,\n",
    "#     \"c1\": 3,\n",
    "#     \"c2\": 3,\n",
    "#     \"c3\": 2,\n",
    "#     \"c_neck\": 1\n",
    "# }\n",
    "# model = UNet(\n",
    "#     n_channels=train_dataset[0].shape[-2],\n",
    "#     n_classes=train_dataset[0].shape[-2],\n",
    "#     c1=model_config[\"c1\"],\n",
    "#     c2=model_config[\"c2\"],\n",
    "#     c3=model_config[\"c3\"],\n",
    "#     c_neck=model_config[\"c_neck\"],\n",
    "# ).to(device)\n",
    "\n",
    "##################################################################################\n",
    "\n",
    "## download weights ##############################################################\n",
    "\n",
    "# run = wandb.init()\n",
    "# artifact = run.use_artifact('dmitriykornilov_team/EEG_age_prediction/VAE:v13', type='model')\n",
    "# artifact_dir = artifact.download()\n",
    "# model.load_state_dict(torch.load(artifact_dir + '/50_epoch.pth'))\n",
    "# wandb.finish()\n",
    "\n",
    "##################################################################################\n",
    "\n",
    "print(f'model {model_description} is created')\n",
    "\n",
    "# Let's check that forward works\n",
    "model.eval()\n",
    "print(\"Test data point shape:\", train_dataset[0][None].shape)\n",
    "print(\"Test inference:\", len(model(train_dataset[0][None].to(device))))\n",
    "print(\"Test reconstruct:\", model.reconstruct(train_dataset[0][None].to(device)).shape)\n",
    "print(\"Test encode:\", model.encode(train_dataset[0][None].to(device)).shape)"
   ]
  },
  {
   "cell_type": "code",
   "execution_count": 20,
   "id": "b8cd5193-bba6-4b43-a625-ab53dce34d2a",
   "metadata": {},
   "outputs": [
    {
     "name": "stdout",
     "output_type": "stream",
     "text": [
      "optimzer created\n",
      "scheduler created\n"
     ]
    }
   ],
   "source": [
    "optimizer = torch.optim.AdamW(model.parameters(), lr=1e-3) # instantiate optimizer\n",
    "print('optimzer created')\n",
    "\n",
    "scheduler = torch.optim.lr_scheduler.ReduceLROnPlateau(optimizer, factor=0.5, patience=3, verbose=True)\n",
    "print(\"scheduler created\")"
   ]
  },
  {
   "cell_type": "code",
   "execution_count": 26,
   "id": "3f19ebfb-de3c-4174-a78c-9391866c656d",
   "metadata": {},
   "outputs": [
    {
     "name": "stdout",
     "output_type": "stream",
     "text": [
      "Config: {\n",
      "    \"model\": \"AE\",\n",
      "    \"model_config\": {\n",
      "        \"input_dim\": [\n",
      "            3,\n",
      "            1280\n",
      "        ]\n",
      "    },\n",
      "    \"optimizer\": \"AdamW\",\n",
      "    \"optimizer_config\": {\n",
      "        \"lr\": 0.001,\n",
      "        \"betas\": [\n",
      "            0.9,\n",
      "            0.999\n",
      "        ],\n",
      "        \"eps\": 1e-08,\n",
      "        \"weight_decay\": 0.01,\n",
      "        \"amsgrad\": false,\n",
      "        \"foreach\": null,\n",
      "        \"maximize\": false,\n",
      "        \"capturable\": false,\n",
      "        \"differentiable\": false,\n",
      "        \"fused\": null\n",
      "    },\n",
      "    \"scheduler\": \"ReduceLROnPlateau\",\n",
      "    \"scheduler_config\": {\n",
      "        \"factor\": 0.5,\n",
      "        \"min_lr\": 0,\n",
      "        \"patience\": 3,\n",
      "        \"cooldown\": 0,\n",
      "        \"mode\": \"min\",\n",
      "        \"threshold\": 0.0001,\n",
      "        \"threshold_mode\": \"rel\",\n",
      "        \"eps\": 1e-08\n",
      "    },\n",
      "    \"loss_coefs\": {\n",
      "        \"ampl\": 1,\n",
      "        \"vel\": 0,\n",
      "        \"acc\": 0,\n",
      "        \"frq\": 0,\n",
      "        \"kl\": 1\n",
      "    },\n",
      "    \"masking\": {\n",
      "        \"n_masks\": 0,\n",
      "        \"mask_ratio\": 0\n",
      "    },\n",
      "    \"start_epoch\": 0,\n",
      "    \"end_epoch\": 50,\n",
      "    \"avg_embeddings_over_time\": true,\n",
      "    \"batch_size\": 256,\n",
      "    \"num_workers\": 0,\n",
      "    \"samples_shape\": [\n",
      "        3,\n",
      "        1280\n",
      "    ],\n",
      "    \"n_train_samples\": 852,\n",
      "    \"n_validation_samples\": 108,\n",
      "    \"n_test_samples\": 108,\n",
      "    \"minmax\": \"across_whole_sample\",\n",
      "    \"record_part\": \"10 s\",\n",
      "    \"task\": \"MDD classification\",\n",
      "    \"dataset\": \"depression anonymized\",\n",
      "    \"method\": \"direct restoration\",\n",
      "    \"save path\": \"models/\"\n",
      "}\n"
     ]
    }
   ],
   "source": [
    "def objectName(object):\n",
    "    return str(type(object)).split(\".\")[-1].replace(\"\\'>\", \"\")\n",
    "\n",
    "train_config = {\n",
    "    \"model\": objectName(model),\n",
    "    \"model_config\": model_config,\n",
    "\n",
    "    \"optimizer\": objectName(optimizer),\n",
    "    \"optimizer_config\": optimizer.defaults,\n",
    "\n",
    "    \"scheduler\": objectName(scheduler),\n",
    "    \"scheduler_config\": {\n",
    "        \"factor\": scheduler.factor,\n",
    "        \"min_lr\": scheduler.min_lrs[0],\n",
    "        \"patience\": scheduler.patience,\n",
    "        \"cooldown\": scheduler.cooldown,\n",
    "        \"mode\": scheduler.mode,\n",
    "        \"threshold\": scheduler.threshold,\n",
    "        \"threshold_mode\": scheduler.threshold_mode,\n",
    "        \"eps\": scheduler.eps\n",
    "    },\n",
    "    \n",
    "    \"loss_coefs\": {\n",
    "        \"ampl\": 1,\n",
    "        \"vel\": 0,\n",
    "        \"acc\": 0,\n",
    "        \"frq\": 0,\n",
    "        \"kl\": 1\n",
    "    },\n",
    "    \"masking\" :{\n",
    "        \"n_masks\" : 0,\n",
    "        \"mask_ratio\" : 0\n",
    "    },\n",
    "    \n",
    "    \"start_epoch\": 0, # including #!!!CHECK BEFORE TRAINING\n",
    "    \"end_epoch\": 50, # excluding #!!!CHECK BEFORE TRAINING,\n",
    "\n",
    "    \"avg_embeddings_over_time\": True,\n",
    "}\n",
    "\n",
    "ml_config = {\n",
    "    \"ml_model\" : Pipeline([('scaler', StandardScaler()), ('clf', SVC())]),\n",
    "    \"ml_param_grid\" : {\n",
    "        'clf__kernel': ['linear'],\n",
    "        'clf__C': np.logspace(-1, 1, 3),\n",
    "        'clf__probability': [True],\n",
    "        'clf__class_weight': ['balanced'],\n",
    "        'clf__random_state': [SEED]\n",
    "    },\n",
    "    \"ml_eval_function\" : [evaluateClassifier, evaluateClassifier_inner_outer_cv],\n",
    "    \"ml_eval_function_tag\" : [\"d\", \"cv\"],\n",
    "    \"ml_eval_function_kwargs\" : [\n",
    "        {\n",
    "            \"verbose\" : 1,\n",
    "            \"test_size\" : 0.33,\n",
    "            \"SEED\" : SEED,\n",
    "            \"cv_scorer\" : accuracy_score,\n",
    "            \"metrics\" : [(average_precision_score, \"soft\"), (roc_auc_score, \"soft\"), (accuracy_score, \"hard\"), (f1_score, \"hard\")],\n",
    "            \"metrics_for_CI\" : [(average_precision_score, \"soft\"), (roc_auc_score, \"soft\"), (accuracy_score, \"hard\"), (f1_score, \"hard\")],\n",
    "            \"n_bootstraps\" : 1000\n",
    "        },\n",
    "        {\n",
    "            \"verbose\" : 1,\n",
    "            \"SEED\" : SEED,\n",
    "            \"cv_scorer\" : accuracy_score,\n",
    "            \"metrics\" : [(average_precision_score, \"soft\"), (roc_auc_score, \"soft\"), (accuracy_score, \"hard\"), (f1_score, \"hard\")],\n",
    "            \"n_splits\" : 10,\n",
    "        }\n",
    "    ],\n",
    "    \"ml_metric_prefix\" : \"clf\",\n",
    "    \n",
    "    # ml_model=Pipeline([('scaler', StandardScaler()), ('reg', Ridge())]),\n",
    "    # ml_param_grid={\n",
    "    #     'reg__alpha': np.logspace(-2, 2, 5),\n",
    "    #     # 'reg__solver': ['sag'],\n",
    "    #     # 'reg__tol': [1e-4]\n",
    "    # },\n",
    "    # ml_eval_function=evaluateRegressor,\n",
    "    # ml_metric_names=[\"mse_test\", \"mse_train\"],\n",
    "    # ml_metric_prefix=\"reg\",\n",
    "}\n",
    "\n",
    "project_name = 'EEG_age_prediction'\n",
    "save_path = OUTPUT_FOLDER + 'models/'\n",
    "config = {**train_config, **data_config, \"method\": \"direct restoration\", \"save path\": save_path}\n",
    "print(\"Config:\", json.dumps(config, indent=4))"
   ]
  },
  {
   "cell_type": "code",
   "execution_count": null,
   "id": "82f46071",
   "metadata": {
    "id": "UETpSVBYpFLX",
    "outputId": "da5dac89-be82-4097-a31e-d7694d291d80",
    "papermill": {
     "duration": 3624.430895,
     "end_time": "2023-12-09T22:37:44.988345",
     "exception": false,
     "start_time": "2023-12-09T21:37:20.557450",
     "status": "completed"
    },
    "tags": []
   },
   "outputs": [
    {
     "name": "stdout",
     "output_type": "stream",
     "text": [
      "Logging via WandB\n"
     ]
    },
    {
     "name": "stderr",
     "output_type": "stream",
     "text": [
      "Failed to detect the name of this notebook, you can set it manually with the WANDB_NOTEBOOK_NAME environment variable to enable code saving.\n",
      "\u001b[34m\u001b[1mwandb\u001b[0m: Currently logged in as: \u001b[33mdmitriykornilov\u001b[0m (\u001b[33mdmitriykornilov_team\u001b[0m). Use \u001b[1m`wandb login --relogin`\u001b[0m to force relogin\n"
     ]
    },
    {
     "data": {
      "text/html": [
       "wandb version 0.16.1 is available!  To upgrade, please run:\n",
       " $ pip install wandb --upgrade"
      ],
      "text/plain": [
       "<IPython.core.display.HTML object>"
      ]
     },
     "metadata": {},
     "output_type": "display_data"
    },
    {
     "data": {
      "text/html": [
       "Tracking run with wandb version 0.16.0"
      ],
      "text/plain": [
       "<IPython.core.display.HTML object>"
      ]
     },
     "metadata": {},
     "output_type": "display_data"
    },
    {
     "data": {
      "text/html": [
       "Run data is saved locally in <code>/work/Autoencoders/wandb/run-20240108_230458-mdyd66wf</code>"
      ],
      "text/plain": [
       "<IPython.core.display.HTML object>"
      ]
     },
     "metadata": {},
     "output_type": "display_data"
    },
    {
     "data": {
      "text/html": [
       "Syncing run <strong><a href='https://wandb.ai/dmitriykornilov_team/EEG_age_prediction/runs/mdyd66wf' target=\"_blank\">depr. anon., AE, 3 ch., 4/8/16/32, 7/7/5/3/3/3/3/1, Sigmoid</a></strong> to <a href='https://wandb.ai/dmitriykornilov_team/EEG_age_prediction' target=\"_blank\">Weights & Biases</a> (<a href='https://wandb.me/run' target=\"_blank\">docs</a>)<br/>"
      ],
      "text/plain": [
       "<IPython.core.display.HTML object>"
      ]
     },
     "metadata": {},
     "output_type": "display_data"
    },
    {
     "data": {
      "text/html": [
       " View project at <a href='https://wandb.ai/dmitriykornilov_team/EEG_age_prediction' target=\"_blank\">https://wandb.ai/dmitriykornilov_team/EEG_age_prediction</a>"
      ],
      "text/plain": [
       "<IPython.core.display.HTML object>"
      ]
     },
     "metadata": {},
     "output_type": "display_data"
    },
    {
     "data": {
      "text/html": [
       " View run at <a href='https://wandb.ai/dmitriykornilov_team/EEG_age_prediction/runs/mdyd66wf' target=\"_blank\">https://wandb.ai/dmitriykornilov_team/EEG_age_prediction/runs/mdyd66wf</a>"
      ],
      "text/plain": [
       "<IPython.core.display.HTML object>"
      ]
     },
     "metadata": {},
     "output_type": "display_data"
    },
    {
     "name": "stderr",
     "output_type": "stream",
     "text": [
      "  0%|                                                                                                                                   | 0/50 [00:00<?, ?it/s]"
     ]
    },
    {
     "name": "stdout",
     "output_type": "stream",
     "text": [
      "##### Training... #####\n",
      "Model is in train mode\n"
     ]
    },
    {
     "data": {
      "text/html": [
       "<div>\n",
       "<style scoped>\n",
       "    .dataframe tbody tr th:only-of-type {\n",
       "        vertical-align: middle;\n",
       "    }\n",
       "\n",
       "    .dataframe tbody tr th {\n",
       "        vertical-align: top;\n",
       "    }\n",
       "\n",
       "    .dataframe thead th {\n",
       "        text-align: right;\n",
       "    }\n",
       "</style>\n",
       "<table border=\"1\" class=\"dataframe\">\n",
       "  <thead>\n",
       "    <tr style=\"text-align: right;\">\n",
       "      <th></th>\n",
       "      <th>loss</th>\n",
       "      <th>metric</th>\n",
       "      <th>pearson_correlation</th>\n",
       "      <th>snr_db</th>\n",
       "      <th>loss_ampl</th>\n",
       "      <th>loss_vel</th>\n",
       "      <th>loss_acc</th>\n",
       "      <th>loss_frq</th>\n",
       "      <th>lr</th>\n",
       "    </tr>\n",
       "  </thead>\n",
       "  <tbody>\n",
       "    <tr>\n",
       "      <th>0</th>\n",
       "      <td>1141.000</td>\n",
       "      <td>0.703</td>\n",
       "      <td>0.512</td>\n",
       "      <td>-0.425</td>\n",
       "      <td>1141.000</td>\n",
       "      <td>12.134</td>\n",
       "      <td>10.737</td>\n",
       "      <td>5.297</td>\n",
       "      <td>0.001</td>\n",
       "    </tr>\n",
       "  </tbody>\n",
       "</table>\n",
       "</div>"
      ],
      "text/plain": [
       "       loss metric pearson_correlation  snr_db loss_ampl loss_vel loss_acc  \\\n",
       "0  1141.000  0.703               0.512  -0.425  1141.000   12.134   10.737   \n",
       "\n",
       "  loss_frq     lr  \n",
       "0    5.297  0.001  "
      ]
     },
     "metadata": {},
     "output_type": "display_data"
    },
    {
     "name": "stdout",
     "output_type": "stream",
     "text": [
      "##### Validation... #####\n",
      "Model is in evaluation mode\n",
      "Epoch 0, step 0\n",
      "Plotting PCA...\n"
     ]
    },
    {
     "data": {
      "text/html": [
       "<div>\n",
       "<style scoped>\n",
       "    .dataframe tbody tr th:only-of-type {\n",
       "        vertical-align: middle;\n",
       "    }\n",
       "\n",
       "    .dataframe tbody tr th {\n",
       "        vertical-align: top;\n",
       "    }\n",
       "\n",
       "    .dataframe thead th {\n",
       "        text-align: right;\n",
       "    }\n",
       "</style>\n",
       "<table border=\"1\" class=\"dataframe\">\n",
       "  <thead>\n",
       "    <tr style=\"text-align: right;\">\n",
       "      <th></th>\n",
       "      <th>Explained variance</th>\n",
       "      <th>Ratio</th>\n",
       "    </tr>\n",
       "  </thead>\n",
       "  <tbody>\n",
       "    <tr>\n",
       "      <th>0</th>\n",
       "      <td>4.075995e-12</td>\n",
       "      <td>0.979048</td>\n",
       "    </tr>\n",
       "    <tr>\n",
       "      <th>1</th>\n",
       "      <td>4.645575e-14</td>\n",
       "      <td>0.011159</td>\n",
       "    </tr>\n",
       "  </tbody>\n",
       "</table>\n",
       "</div>"
      ],
      "text/plain": [
       "   Explained variance     Ratio\n",
       "0        4.075995e-12  0.979048\n",
       "1        4.645575e-14  0.011159"
      ]
     },
     "metadata": {},
     "output_type": "display_data"
    },
    {
     "name": "stdout",
     "output_type": "stream",
     "text": [
      "Plotting reconstruction...\n"
     ]
    },
    {
     "data": {
      "image/png": "[encoded data removed]",
      "text/plain": [
       "<Figure size 1200x300 with 2 Axes>"
      ]
     },
     "metadata": {},
     "output_type": "display_data"
    },
    {
     "name": "stdout",
     "output_type": "stream",
     "text": [
      "Classifier/regressor metrics evaluation...\n",
      "Data split\n",
      "GridSearchCV\n",
      "Fitting 5 folds for each of 3 candidates, totalling 15 fits\n",
      "Evaluation on the train data\n",
      "Evaluation on the test data\n"
     ]
    }
   ],
   "source": [
    "torch.manual_seed(SEED)\n",
    "torch.cuda.manual_seed_all(SEED)\n",
    "torch.backends.cudnn.deterministic = True\n",
    "torch.backends.cudnn.benchmark = False\n",
    "np.random.seed(SEED)\n",
    "random.seed(SEED)\n",
    "os.environ['PYTHONHASHSEED'] = str(SEED)\n",
    "\n",
    "logger = Logger(\n",
    "    log_type=\"wandb\", #\"wandb\"/\"tensorboard\"/\"none\" #!!!CHECK BEFORE TRAINING\n",
    "    run_name=model_description,\n",
    "    save_path=save_path,\n",
    "    model=model,\n",
    "    model_name=config[\"model\"],        \n",
    "    project_name=project_name,\n",
    "    config=config,\n",
    "    model_description=model_description,\n",
    "#         log_dir = OUTPUT_FOLDER + \"logs/\"\n",
    ")\n",
    "\n",
    "#training\n",
    "# best_loss = np.inf\n",
    "best_clf_accuracy = -np.inf\n",
    "best_model = None\n",
    "best_epoch = None\n",
    "final_model = None\n",
    "\n",
    "for epoch in tqdm_auto(range(config['start_epoch'], config['end_epoch'])):\n",
    "    #######\n",
    "    # train\n",
    "    #######\n",
    "    print(\"##### Training... #####\")\n",
    "    model, results = train_eval(\n",
    "        train_dataloader,\n",
    "        model,\n",
    "        device=device,\n",
    "        mode=\"train\",\n",
    "        optimizer=optimizer,\n",
    "        epoch=epoch,\n",
    "        logger=logger,\n",
    "        loss_coefs=train_config[\"loss_coefs\"],\n",
    "        is_mask=False,\n",
    "        mask_ratio=config[\"masking\"][\"mask_ratio\"],\n",
    "        # step_max=1, #!!!CHECK BEFORE TRAINING\n",
    "    )\n",
    "    if results == {}: break\n",
    "    display(dict_to_df(results))\n",
    "\n",
    "    ############\n",
    "    # validation\n",
    "    ############\n",
    "    print(\"##### Validation... #####\")\n",
    "    model, results = train_eval(\n",
    "        test_dataloader,\n",
    "        model,\n",
    "        device=device,\n",
    "        mode=\"validation\",\n",
    "        test_dataset=test_dataset,\n",
    "        targets_test=targets_test,\n",
    "        check_period=1e10,\n",
    "        plot_period=1e10,\n",
    "        epoch=epoch,\n",
    "        logger=logger,\n",
    "        loss_coefs=train_config[\"loss_coefs\"],\n",
    "        is_mask=False,\n",
    "        mask_ratio=config[\"masking\"][\"mask_ratio\"],\n",
    "        avg_embeddings_over_time=train_config[\"avg_embeddings_over_time\"],\n",
    "        plot_type=\"classification\", #\"regression\"/\"classification\"\n",
    "        **ml_config,\n",
    "        # step_max=1, #!!!CHECK BEFORE TRAINING\n",
    "    )\n",
    "    if results == {}: break\n",
    "    display(dict_to_df(results))\n",
    "\n",
    "    scheduler.step(results['loss'])\n",
    "    logger.save_model(epoch)\n",
    "    final_model = model\n",
    "\n",
    "    if results['clf.cv.test.accuracy.cv'] >= best_clf_accuracy:\n",
    "        best_clf_accuracy = results['clf.cv.test.accuracy.cv']\n",
    "        best_model = model\n",
    "        best_epoch = best_epoch\n",
    "        print(f\"New best classifier accuracy = {best_clf_accuracy} on epoch {epoch}\")\n",
    "    \n",
    "    # if results['loss'] < best_loss:\n",
    "    #     best_loss = results['loss']\n",
    "    #     best_model = model\n",
    "    #     best_epoch = best_epoch\n",
    "    #     print(f\"New best loss = {best_loss} on epoch {epoch}\")\n",
    "\n",
    "logger.save_model(config['end_epoch'])\n",
    "\n",
    "######\n",
    "# test\n",
    "######\n",
    "for model, mode in zip([final_model, best_model], [\"final\", \"test\"]):\n",
    "    print(f\"##### Testing in {mode} mode... #####\")\n",
    "    _, results = train_eval(\n",
    "        val_dataloader,\n",
    "        model,\n",
    "        device=device,\n",
    "        mode=mode,\n",
    "        test_dataset=val_dataset,\n",
    "        targets_test=targets_val,\n",
    "        check_period=1e10,\n",
    "        plot_period=1e10,\n",
    "        epoch=config['end_epoch'],\n",
    "        logger=logger,\n",
    "        avg_embeddings_over_time=train_config[\"avg_embeddings_over_time\"],\n",
    "        plot_type=\"classification\", #\"regression\"/\"classification\",\n",
    "        **ml_config,\n",
    "        # step_max=1,\n",
    "    )\n",
    "    display(dict_to_df(results))\n",
    "\n",
    "logger.update_summary(\"validation.best_epoch\", best_epoch)\n",
    "logger.finish()"
   ]
  },
  {
   "cell_type": "code",
   "execution_count": null,
   "id": "9e0e7746-f231-410c-bd3a-1fc8a050383e",
   "metadata": {},
   "outputs": [],
   "source": []
  }
 ],
 "metadata": {
  "kaggle": {
   "accelerator": "gpu",
   "dataSources": [
    {
     "datasetId": 3771364,
     "sourceId": 6523479,
     "sourceType": "datasetVersion"
    },
    {
     "datasetId": 3987797,
     "sourceId": 6943873,
     "sourceType": "datasetVersion"
    },
    {
     "datasetId": 4003973,
     "sourceId": 6968858,
     "sourceType": "datasetVersion"
    },
    {
     "datasetId": 3771432,
     "sourceId": 6968892,
     "sourceType": "datasetVersion"
    }
   ],
   "isGpuEnabled": true,
   "isInternetEnabled": true,
   "language": "python",
   "sourceType": "notebook"
  },
  "kernelspec": {
   "display_name": "Python 3 (ipykernel)",
   "language": "python",
   "name": "python3"
  },
  "language_info": {
   "codemirror_mode": {
    "name": "ipython",
    "version": 3
   },
   "file_extension": ".py",
   "mimetype": "text/x-python",
   "name": "python",
   "nbconvert_exporter": "python",
   "pygments_lexer": "ipython3",
   "version": "3.8.10"
  },
  "papermill": {
   "default_parameters": {},
   "duration": 3702.795206,
   "end_time": "2023-12-09T22:37:54.874207",
   "environment_variables": {},
   "exception": null,
   "input_path": "__notebook__.ipynb",
   "output_path": "__notebook__.ipynb",
   "parameters": {},
   "start_time": "2023-12-09T21:36:12.079001",
   "version": "2.4.0"
  },
  "widgets": {
   "application/vnd.jupyter.widget-state+json": {
    "state": {
     "17b9a4487d8f4fe8aea7bea63ebc381d": {
      "model_module": "@jupyter-widgets/controls",
      "model_module_version": "1.5.0",
      "model_name": "DescriptionStyleModel",
      "state": {
       "_model_module": "@jupyter-widgets/controls",
       "_model_module_version": "1.5.0",
       "_model_name": "DescriptionStyleModel",
       "_view_count": null,
       "_view_module": "@jupyter-widgets/base",
       "_view_module_version": "1.2.0",
       "_view_name": "StyleView",
       "description_width": ""
      }
     },
     "1b9e9e106e6643a3b56a44716ecb02c4": {
      "model_module": "@jupyter-widgets/base",
      "model_module_version": "1.2.0",
      "model_name": "LayoutModel",
      "state": {
       "_model_module": "@jupyter-widgets/base",
       "_model_module_version": "1.2.0",
       "_model_name": "LayoutModel",
       "_view_count": null,
       "_view_module": "@jupyter-widgets/base",
       "_view_module_version": "1.2.0",
       "_view_name": "LayoutView",
       "align_content": null,
       "align_items": null,
       "align_self": null,
       "border": null,
       "bottom": null,
       "display": null,
       "flex": null,
       "flex_flow": null,
       "grid_area": null,
       "grid_auto_columns": null,
       "grid_auto_flow": null,
       "grid_auto_rows": null,
       "grid_column": null,
       "grid_gap": null,
       "grid_row": null,
       "grid_template_areas": null,
       "grid_template_columns": null,
       "grid_template_rows": null,
       "height": null,
       "justify_content": null,
       "justify_items": null,
       "left": null,
       "margin": null,
       "max_height": null,
       "max_width": null,
       "min_height": null,
       "min_width": null,
       "object_fit": null,
       "object_position": null,
       "order": null,
       "overflow": null,
       "overflow_x": null,
       "overflow_y": null,
       "padding": null,
       "right": null,
       "top": null,
       "visibility": null,
       "width": null
      }
     },
     "3486602d816f492fb232e65639ef7d9c": {
      "model_module": "@jupyter-widgets/base",
      "model_module_version": "1.2.0",
      "model_name": "LayoutModel",
      "state": {
       "_model_module": "@jupyter-widgets/base",
       "_model_module_version": "1.2.0",
       "_model_name": "LayoutModel",
       "_view_count": null,
       "_view_module": "@jupyter-widgets/base",
       "_view_module_version": "1.2.0",
       "_view_name": "LayoutView",
       "align_content": null,
       "align_items": null,
       "align_self": null,
       "border": null,
       "bottom": null,
       "display": null,
       "flex": null,
       "flex_flow": null,
       "grid_area": null,
       "grid_auto_columns": null,
       "grid_auto_flow": null,
       "grid_auto_rows": null,
       "grid_column": null,
       "grid_gap": null,
       "grid_row": null,
       "grid_template_areas": null,
       "grid_template_columns": null,
       "grid_template_rows": null,
       "height": null,
       "justify_content": null,
       "justify_items": null,
       "left": null,
       "margin": null,
       "max_height": null,
       "max_width": null,
       "min_height": null,
       "min_width": null,
       "object_fit": null,
       "object_position": null,
       "order": null,
       "overflow": null,
       "overflow_x": null,
       "overflow_y": null,
       "padding": null,
       "right": null,
       "top": null,
       "visibility": null,
       "width": null
      }
     },
     "3ab87024b9df46eababea8434314437c": {
      "model_module": "@jupyter-widgets/base",
      "model_module_version": "1.2.0",
      "model_name": "LayoutModel",
      "state": {
       "_model_module": "@jupyter-widgets/base",
       "_model_module_version": "1.2.0",
       "_model_name": "LayoutModel",
       "_view_count": null,
       "_view_module": "@jupyter-widgets/base",
       "_view_module_version": "1.2.0",
       "_view_name": "LayoutView",
       "align_content": null,
       "align_items": null,
       "align_self": null,
       "border": null,
       "bottom": null,
       "display": null,
       "flex": null,
       "flex_flow": null,
       "grid_area": null,
       "grid_auto_columns": null,
       "grid_auto_flow": null,
       "grid_auto_rows": null,
       "grid_column": null,
       "grid_gap": null,
       "grid_row": null,
       "grid_template_areas": null,
       "grid_template_columns": null,
       "grid_template_rows": null,
       "height": null,
       "justify_content": null,
       "justify_items": null,
       "left": null,
       "margin": null,
       "max_height": null,
       "max_width": null,
       "min_height": null,
       "min_width": null,
       "object_fit": null,
       "object_position": null,
       "order": null,
       "overflow": null,
       "overflow_x": null,
       "overflow_y": null,
       "padding": null,
       "right": null,
       "top": null,
       "visibility": null,
       "width": null
      }
     },
     "3fe829e4eab548aa953f54478c638ade": {
      "model_module": "@jupyter-widgets/controls",
      "model_module_version": "1.5.0",
      "model_name": "HTMLModel",
      "state": {
       "_dom_classes": [],
       "_model_module": "@jupyter-widgets/controls",
       "_model_module_version": "1.5.0",
       "_model_name": "HTMLModel",
       "_view_count": null,
       "_view_module": "@jupyter-widgets/controls",
       "_view_module_version": "1.5.0",
       "_view_name": "HTMLView",
       "description": "",
       "description_tooltip": null,
       "layout": "IPY_MODEL_98dc6a21150a4f918eae1423d45e1f77",
       "placeholder": "​",
       "style": "IPY_MODEL_4a1bd5dcf761444a956930b0ba07dccf",
       "value": " 50/50 [59:33&lt;00:00, 87.75s/it]"
      }
     },
     "4a1bd5dcf761444a956930b0ba07dccf": {
      "model_module": "@jupyter-widgets/controls",
      "model_module_version": "1.5.0",
      "model_name": "DescriptionStyleModel",
      "state": {
       "_model_module": "@jupyter-widgets/controls",
       "_model_module_version": "1.5.0",
       "_model_name": "DescriptionStyleModel",
       "_view_count": null,
       "_view_module": "@jupyter-widgets/base",
       "_view_module_version": "1.2.0",
       "_view_name": "StyleView",
       "description_width": ""
      }
     },
     "4cc7236cfefb4643892de87982646eb0": {
      "model_module": "@jupyter-widgets/controls",
      "model_module_version": "1.5.0",
      "model_name": "HTMLModel",
      "state": {
       "_dom_classes": [],
       "_model_module": "@jupyter-widgets/controls",
       "_model_module_version": "1.5.0",
       "_model_name": "HTMLModel",
       "_view_count": null,
       "_view_module": "@jupyter-widgets/controls",
       "_view_module_version": "1.5.0",
       "_view_name": "HTMLView",
       "description": "",
       "description_tooltip": null,
       "layout": "IPY_MODEL_1b9e9e106e6643a3b56a44716ecb02c4",
       "placeholder": "​",
       "style": "IPY_MODEL_17b9a4487d8f4fe8aea7bea63ebc381d",
       "value": "100%"
      }
     },
     "592d7aa438bb4bceab26d345c737955c": {
      "model_module": "@jupyter-widgets/base",
      "model_module_version": "1.2.0",
      "model_name": "LayoutModel",
      "state": {
       "_model_module": "@jupyter-widgets/base",
       "_model_module_version": "1.2.0",
       "_model_name": "LayoutModel",
       "_view_count": null,
       "_view_module": "@jupyter-widgets/base",
       "_view_module_version": "1.2.0",
       "_view_name": "LayoutView",
       "align_content": null,
       "align_items": null,
       "align_self": null,
       "border": null,
       "bottom": null,
       "display": null,
       "flex": null,
       "flex_flow": null,
       "grid_area": null,
       "grid_auto_columns": null,
       "grid_auto_flow": null,
       "grid_auto_rows": null,
       "grid_column": null,
       "grid_gap": null,
       "grid_row": null,
       "grid_template_areas": null,
       "grid_template_columns": null,
       "grid_template_rows": null,
       "height": null,
       "justify_content": null,
       "justify_items": null,
       "left": null,
       "margin": null,
       "max_height": null,
       "max_width": null,
       "min_height": null,
       "min_width": null,
       "object_fit": null,
       "object_position": null,
       "order": null,
       "overflow": null,
       "overflow_x": null,
       "overflow_y": null,
       "padding": null,
       "right": null,
       "top": null,
       "visibility": null,
       "width": null
      }
     },
     "61825beec6a3446290d29dc372411919": {
      "model_module": "@jupyter-widgets/controls",
      "model_module_version": "1.5.0",
      "model_name": "FloatProgressModel",
      "state": {
       "_dom_classes": [],
       "_model_module": "@jupyter-widgets/controls",
       "_model_module_version": "1.5.0",
       "_model_name": "FloatProgressModel",
       "_view_count": null,
       "_view_module": "@jupyter-widgets/controls",
       "_view_module_version": "1.5.0",
       "_view_name": "ProgressView",
       "bar_style": "success",
       "description": "",
       "description_tooltip": null,
       "layout": "IPY_MODEL_a12bed137f27403e905cf1f23645a518",
       "max": 50,
       "min": 0,
       "orientation": "horizontal",
       "style": "IPY_MODEL_6cbe666ed9384e4391cb9e8396e5c054",
       "value": 50
      }
     },
     "68e29b6f4fd748b8af72b64c828a6413": {
      "model_module": "@jupyter-widgets/controls",
      "model_module_version": "1.5.0",
      "model_name": "HTMLModel",
      "state": {
       "_dom_classes": [],
       "_model_module": "@jupyter-widgets/controls",
       "_model_module_version": "1.5.0",
       "_model_name": "HTMLModel",
       "_view_count": null,
       "_view_module": "@jupyter-widgets/controls",
       "_view_module_version": "1.5.0",
       "_view_name": "HTMLView",
       "description": "",
       "description_tooltip": null,
       "layout": "IPY_MODEL_592d7aa438bb4bceab26d345c737955c",
       "placeholder": "​",
       "style": "IPY_MODEL_d8dc5101f7954e5b994db789909413fe",
       "value": " 10679/10679 [00:00&lt;00:00, 27086.49it/s]"
      }
     },
     "6cbe666ed9384e4391cb9e8396e5c054": {
      "model_module": "@jupyter-widgets/controls",
      "model_module_version": "1.5.0",
      "model_name": "ProgressStyleModel",
      "state": {
       "_model_module": "@jupyter-widgets/controls",
       "_model_module_version": "1.5.0",
       "_model_name": "ProgressStyleModel",
       "_view_count": null,
       "_view_module": "@jupyter-widgets/base",
       "_view_module_version": "1.2.0",
       "_view_name": "StyleView",
       "bar_color": null,
       "description_width": ""
      }
     },
     "8b843accfaf6402c962ce15e335fda8d": {
      "model_module": "@jupyter-widgets/controls",
      "model_module_version": "1.5.0",
      "model_name": "HBoxModel",
      "state": {
       "_dom_classes": [],
       "_model_module": "@jupyter-widgets/controls",
       "_model_module_version": "1.5.0",
       "_model_name": "HBoxModel",
       "_view_count": null,
       "_view_module": "@jupyter-widgets/controls",
       "_view_module_version": "1.5.0",
       "_view_name": "HBoxView",
       "box_style": "",
       "children": [
        "IPY_MODEL_d598550b596f464ea746573992c3144d",
        "IPY_MODEL_61825beec6a3446290d29dc372411919",
        "IPY_MODEL_3fe829e4eab548aa953f54478c638ade"
       ],
       "layout": "IPY_MODEL_3486602d816f492fb232e65639ef7d9c"
      }
     },
     "98dc6a21150a4f918eae1423d45e1f77": {
      "model_module": "@jupyter-widgets/base",
      "model_module_version": "1.2.0",
      "model_name": "LayoutModel",
      "state": {
       "_model_module": "@jupyter-widgets/base",
       "_model_module_version": "1.2.0",
       "_model_name": "LayoutModel",
       "_view_count": null,
       "_view_module": "@jupyter-widgets/base",
       "_view_module_version": "1.2.0",
       "_view_name": "LayoutView",
       "align_content": null,
       "align_items": null,
       "align_self": null,
       "border": null,
       "bottom": null,
       "display": null,
       "flex": null,
       "flex_flow": null,
       "grid_area": null,
       "grid_auto_columns": null,
       "grid_auto_flow": null,
       "grid_auto_rows": null,
       "grid_column": null,
       "grid_gap": null,
       "grid_row": null,
       "grid_template_areas": null,
       "grid_template_columns": null,
       "grid_template_rows": null,
       "height": null,
       "justify_content": null,
       "justify_items": null,
       "left": null,
       "margin": null,
       "max_height": null,
       "max_width": null,
       "min_height": null,
       "min_width": null,
       "object_fit": null,
       "object_position": null,
       "order": null,
       "overflow": null,
       "overflow_x": null,
       "overflow_y": null,
       "padding": null,
       "right": null,
       "top": null,
       "visibility": null,
       "width": null
      }
     },
     "a0cadf15257b44a9b7a4af4a4ffe7018": {
      "model_module": "@jupyter-widgets/controls",
      "model_module_version": "1.5.0",
      "model_name": "DescriptionStyleModel",
      "state": {
       "_model_module": "@jupyter-widgets/controls",
       "_model_module_version": "1.5.0",
       "_model_name": "DescriptionStyleModel",
       "_view_count": null,
       "_view_module": "@jupyter-widgets/base",
       "_view_module_version": "1.2.0",
       "_view_name": "StyleView",
       "description_width": ""
      }
     },
     "a12bed137f27403e905cf1f23645a518": {
      "model_module": "@jupyter-widgets/base",
      "model_module_version": "1.2.0",
      "model_name": "LayoutModel",
      "state": {
       "_model_module": "@jupyter-widgets/base",
       "_model_module_version": "1.2.0",
       "_model_name": "LayoutModel",
       "_view_count": null,
       "_view_module": "@jupyter-widgets/base",
       "_view_module_version": "1.2.0",
       "_view_name": "LayoutView",
       "align_content": null,
       "align_items": null,
       "align_self": null,
       "border": null,
       "bottom": null,
       "display": null,
       "flex": null,
       "flex_flow": null,
       "grid_area": null,
       "grid_auto_columns": null,
       "grid_auto_flow": null,
       "grid_auto_rows": null,
       "grid_column": null,
       "grid_gap": null,
       "grid_row": null,
       "grid_template_areas": null,
       "grid_template_columns": null,
       "grid_template_rows": null,
       "height": null,
       "justify_content": null,
       "justify_items": null,
       "left": null,
       "margin": null,
       "max_height": null,
       "max_width": null,
       "min_height": null,
       "min_width": null,
       "object_fit": null,
       "object_position": null,
       "order": null,
       "overflow": null,
       "overflow_x": null,
       "overflow_y": null,
       "padding": null,
       "right": null,
       "top": null,
       "visibility": null,
       "width": null
      }
     },
     "c1a6f18f267649f0a4ef192e4ad78e46": {
      "model_module": "@jupyter-widgets/controls",
      "model_module_version": "1.5.0",
      "model_name": "FloatProgressModel",
      "state": {
       "_dom_classes": [],
       "_model_module": "@jupyter-widgets/controls",
       "_model_module_version": "1.5.0",
       "_model_name": "FloatProgressModel",
       "_view_count": null,
       "_view_module": "@jupyter-widgets/controls",
       "_view_module_version": "1.5.0",
       "_view_name": "ProgressView",
       "bar_style": "success",
       "description": "",
       "description_tooltip": null,
       "layout": "IPY_MODEL_f8040b51e4734eff9227ff7016c2d8e2",
       "max": 10679,
       "min": 0,
       "orientation": "horizontal",
       "style": "IPY_MODEL_ef195bd8dab24c3c81ec675e9718f8e1",
       "value": 10679
      }
     },
     "d598550b596f464ea746573992c3144d": {
      "model_module": "@jupyter-widgets/controls",
      "model_module_version": "1.5.0",
      "model_name": "HTMLModel",
      "state": {
       "_dom_classes": [],
       "_model_module": "@jupyter-widgets/controls",
       "_model_module_version": "1.5.0",
       "_model_name": "HTMLModel",
       "_view_count": null,
       "_view_module": "@jupyter-widgets/controls",
       "_view_module_version": "1.5.0",
       "_view_name": "HTMLView",
       "description": "",
       "description_tooltip": null,
       "layout": "IPY_MODEL_edc85b2f72c0422b87e3d516ceb1e348",
       "placeholder": "​",
       "style": "IPY_MODEL_a0cadf15257b44a9b7a4af4a4ffe7018",
       "value": "100%"
      }
     },
     "d8dc5101f7954e5b994db789909413fe": {
      "model_module": "@jupyter-widgets/controls",
      "model_module_version": "1.5.0",
      "model_name": "DescriptionStyleModel",
      "state": {
       "_model_module": "@jupyter-widgets/controls",
       "_model_module_version": "1.5.0",
       "_model_name": "DescriptionStyleModel",
       "_view_count": null,
       "_view_module": "@jupyter-widgets/base",
       "_view_module_version": "1.2.0",
       "_view_name": "StyleView",
       "description_width": ""
      }
     },
     "edc85b2f72c0422b87e3d516ceb1e348": {
      "model_module": "@jupyter-widgets/base",
      "model_module_version": "1.2.0",
      "model_name": "LayoutModel",
      "state": {
       "_model_module": "@jupyter-widgets/base",
       "_model_module_version": "1.2.0",
       "_model_name": "LayoutModel",
       "_view_count": null,
       "_view_module": "@jupyter-widgets/base",
       "_view_module_version": "1.2.0",
       "_view_name": "LayoutView",
       "align_content": null,
       "align_items": null,
       "align_self": null,
       "border": null,
       "bottom": null,
       "display": null,
       "flex": null,
       "flex_flow": null,
       "grid_area": null,
       "grid_auto_columns": null,
       "grid_auto_flow": null,
       "grid_auto_rows": null,
       "grid_column": null,
       "grid_gap": null,
       "grid_row": null,
       "grid_template_areas": null,
       "grid_template_columns": null,
       "grid_template_rows": null,
       "height": null,
       "justify_content": null,
       "justify_items": null,
       "left": null,
       "margin": null,
       "max_height": null,
       "max_width": null,
       "min_height": null,
       "min_width": null,
       "object_fit": null,
       "object_position": null,
       "order": null,
       "overflow": null,
       "overflow_x": null,
       "overflow_y": null,
       "padding": null,
       "right": null,
       "top": null,
       "visibility": null,
       "width": null
      }
     },
     "ef195bd8dab24c3c81ec675e9718f8e1": {
      "model_module": "@jupyter-widgets/controls",
      "model_module_version": "1.5.0",
      "model_name": "ProgressStyleModel",
      "state": {
       "_model_module": "@jupyter-widgets/controls",
       "_model_module_version": "1.5.0",
       "_model_name": "ProgressStyleModel",
       "_view_count": null,
       "_view_module": "@jupyter-widgets/base",
       "_view_module_version": "1.2.0",
       "_view_name": "StyleView",
       "bar_color": null,
       "description_width": ""
      }
     },
     "f0fa8298e83344588ad36ff691235297": {
      "model_module": "@jupyter-widgets/controls",
      "model_module_version": "1.5.0",
      "model_name": "HBoxModel",
      "state": {
       "_dom_classes": [],
       "_model_module": "@jupyter-widgets/controls",
       "_model_module_version": "1.5.0",
       "_model_name": "HBoxModel",
       "_view_count": null,
       "_view_module": "@jupyter-widgets/controls",
       "_view_module_version": "1.5.0",
       "_view_name": "HBoxView",
       "box_style": "",
       "children": [
        "IPY_MODEL_4cc7236cfefb4643892de87982646eb0",
        "IPY_MODEL_c1a6f18f267649f0a4ef192e4ad78e46",
        "IPY_MODEL_68e29b6f4fd748b8af72b64c828a6413"
       ],
       "layout": "IPY_MODEL_3ab87024b9df46eababea8434314437c"
      }
     },
     "f8040b51e4734eff9227ff7016c2d8e2": {
      "model_module": "@jupyter-widgets/base",
      "model_module_version": "1.2.0",
      "model_name": "LayoutModel",
      "state": {
       "_model_module": "@jupyter-widgets/base",
       "_model_module_version": "1.2.0",
       "_model_name": "LayoutModel",
       "_view_count": null,
       "_view_module": "@jupyter-widgets/base",
       "_view_module_version": "1.2.0",
       "_view_name": "LayoutView",
       "align_content": null,
       "align_items": null,
       "align_self": null,
       "border": null,
       "bottom": null,
       "display": null,
       "flex": null,
       "flex_flow": null,
       "grid_area": null,
       "grid_auto_columns": null,
       "grid_auto_flow": null,
       "grid_auto_rows": null,
       "grid_column": null,
       "grid_gap": null,
       "grid_row": null,
       "grid_template_areas": null,
       "grid_template_columns": null,
       "grid_template_rows": null,
       "height": null,
       "justify_content": null,
       "justify_items": null,
       "left": null,
       "margin": null,
       "max_height": null,
       "max_width": null,
       "min_height": null,
       "min_width": null,
       "object_fit": null,
       "object_position": null,
       "order": null,
       "overflow": null,
       "overflow_x": null,
       "overflow_y": null,
       "padding": null,
       "right": null,
       "top": null,
       "visibility": null,
       "width": null
      }
     }
    },
    "version_major": 2,
    "version_minor": 0
   }
  }
 },
 "nbformat": 4,
 "nbformat_minor": 5
}
