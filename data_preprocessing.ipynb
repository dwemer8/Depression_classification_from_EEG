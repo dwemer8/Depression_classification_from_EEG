{
 "cells": [
  {
   "cell_type": "markdown",
   "id": "e82d30fe-e02f-48c0-97dd-df6da4b7ec12",
   "metadata": {
    "id": "u9hcW97IpFLP",
    "papermill": {
     "duration": 0.23434,
     "end_time": "2023-12-09T21:36:17.845916",
     "exception": false,
     "start_time": "2023-12-09T21:36:17.611576",
     "status": "completed"
    },
    "tags": []
   },
   "source": [
    "# Constants and libraries"
   ]
  },
  {
   "cell_type": "code",
   "execution_count": 1,
   "id": "63150de1-60dd-46fd-b6fa-a56c5d3078b7",
   "metadata": {},
   "outputs": [
    {
     "name": "stdout",
     "output_type": "stream",
     "text": [
      "Linux\n",
      "\n",
      "PROJECT_FOLDER = ''\n",
      "SRC_FOLDER = ''\n",
      "OUTPUT_FOLDER = ''\n",
      "\n",
      "TUAB_DIRECTORY = 'Data/TUAB/'\n",
      "TUAB_TRAIN = 'Data/TUAB/train/normal/01_tcp_ar/'\n",
      "TUAB_EVAL = 'Data/TUAB/eval/normal/01_tcp_ar/'\n",
      "\n",
      "DEPR_ANON_DIRECTORY = 'Data/depression_anonymized/'\n",
      "\n",
      "INHOUSE_DIRECTORY = 'Data/inhouse_dataset/EEG_baseline_with_markers_cleaned/preprocessed_data/EEG_baseline/'\n",
      "\n"
     ]
    }
   ],
   "source": [
    "'''\n",
    "In this section one defines environment variables. \n",
    "Because I used this notebook on number of machines, I implemented class especially for this. \n",
    "You may not needed in one and use just simple definitions.\n",
    "'''\n",
    "\n",
    "from system_variables import SystemVariables\n",
    "\n",
    "# choose system according your current machine\n",
    "# SYSTEM_NAME = \"Windows\"\n",
    "# SYSTEM_NAME = \"Colab\"\n",
    "# SYSTEM_NAME = \"Kaggle\"\n",
    "SYSTEM_NAME = \"Linux\"\n",
    "\n",
    "sv = SystemVariables(SYSTEM_NAME)\n",
    "PROJECT_FOLDER = sv.get_project_folder()\n",
    "SRC_FOLDER = sv.get_src_folder()\n",
    "OUTPUT_FOLDER = sv.get_output_folder()\n",
    "TUAB_DIRECTORY, TUAB_TRAIN, TUAB_EVAL = sv.get_TUAB_folders()\n",
    "DEPR_ANON_DIRECTORY = sv.get_depr_anon_folder()\n",
    "INHOUSE_DIRECTORY = sv.get_inhouse_folder()\n",
    "\n",
    "print(SYSTEM_NAME)\n",
    "print()\n",
    "\n",
    "print(f\"{PROJECT_FOLDER = }\")\n",
    "print(f\"{SRC_FOLDER = }\")\n",
    "print(f\"{OUTPUT_FOLDER = }\")\n",
    "print()\n",
    "\n",
    "print(f\"{TUAB_DIRECTORY = }\")\n",
    "print(f\"{TUAB_TRAIN = }\")\n",
    "print(f\"{TUAB_EVAL = }\")\n",
    "print()\n",
    "\n",
    "print(f\"{DEPR_ANON_DIRECTORY = }\")\n",
    "print()\n",
    "\n",
    "print(f\"{INHOUSE_DIRECTORY = }\")\n",
    "print()"
   ]
  },
  {
   "cell_type": "code",
   "execution_count": 2,
   "id": "cd98e527-c441-420e-8865-eabab1d7df0e",
   "metadata": {},
   "outputs": [],
   "source": [
    "import warnings\n",
    "warnings.simplefilter(\"ignore\")\n",
    "\n",
    "import os\n",
    "import sys\n",
    "import pickle\n",
    "import json\n",
    "import random\n",
    "from IPython.display import display, clear_output\n",
    "from tqdm.auto import tqdm as tqdm_auto"
   ]
  },
  {
   "cell_type": "code",
   "execution_count": 3,
   "id": "f988a65b-4db3-4b7e-b92f-88c81125af62",
   "metadata": {},
   "outputs": [],
   "source": [
    "sys.path.append(SRC_FOLDER)\n",
    "\n",
    "%load_ext autoreload\n",
    "%autoreload 1\n",
    "%aimport utils\n",
    "\n",
    "from utils import SEED\n",
    "from utils.common import check_tags, remove_files\n",
    "from utils.data_reading import DataReader\n",
    "from utils.plotting import dataset_hists\n",
    "from utils.data_preprocessing import preprocessDepressionAnonymizedData, preprocessInhouseDatasetData, preprocessTUABdata, getTUABdataset, save_preprocessed_data"
   ]
  },
  {
   "cell_type": "markdown",
   "id": "9ec9b57e-452e-4278-b09c-87e4ac3c6598",
   "metadata": {
    "id": "1s3ANvBMpFLR",
    "papermill": {
     "duration": 0.236639,
     "end_time": "2023-12-09T21:36:41.387444",
     "exception": false,
     "start_time": "2023-12-09T21:36:41.150805",
     "status": "completed"
    },
    "tags": []
   },
   "source": [
    "# Data preview"
   ]
  },
  {
   "cell_type": "code",
   "execution_count": 4,
   "id": "ced1faa6",
   "metadata": {
    "papermill": {
     "duration": 0.291434,
     "end_time": "2023-12-09T21:36:44.349003",
     "exception": false,
     "start_time": "2023-12-09T21:36:44.057569",
     "status": "completed"
    },
    "tags": []
   },
   "outputs": [],
   "source": [
    "def tree(data_dir, n_files=2):\n",
    "    for dir, _, filenames in os.walk(data_dir):\n",
    "        print(dir)\n",
    "        for filename in filenames[:n_files]:\n",
    "            print(os.path.join(dir, filename))\n",
    "\n",
    "# tree(DEPR_ANON_DIRECTORY)\n",
    "\n",
    "# tree(INHOUSE_DIRECTORY)\n",
    "\n",
    "# tree(TUAB_DIRECTORY)\n",
    "# raw = mne.io.read_raw_edf(TUAB_TRAIN + \"/aaaaaaff_s002_t000.edf\", preload=False)\n",
    "# print(raw.ch_names, \"\\nDuration:\", raw.times[-1]/60, \"m\")\n",
    "# display(raw.info)\n",
    "# raw.plot(n_channels=21, duration=100, scalings=100e-6, start=20);#.set_size_inches(5, 5, forward=True)"
   ]
  },
  {
   "cell_type": "markdown",
   "id": "f5b8a79b-6c6a-4367-aa44-4b44534c635a",
   "metadata": {
    "id": "sIavQ0ClpFLS",
    "papermill": {
     "duration": 0.23423,
     "end_time": "2023-12-09T21:36:45.770298",
     "exception": false,
     "start_time": "2023-12-09T21:36:45.536068",
     "status": "completed"
    },
    "tags": []
   },
   "source": [
    "# Data preprocessing and saving"
   ]
  },
  {
   "cell_type": "markdown",
   "id": "31a4d845-627d-4bc3-b194-08ee5c775833",
   "metadata": {
    "papermill": {
     "duration": 0.237226,
     "end_time": "2023-12-09T21:36:46.242824",
     "exception": false,
     "start_time": "2023-12-09T21:36:46.005598",
     "status": "completed"
    },
    "tags": []
   },
   "source": [
    "### TUAB"
   ]
  },
  {
   "cell_type": "code",
   "execution_count": null,
   "id": "4e8e4cd7",
   "metadata": {
    "id": "NVIjlVM_pFLU",
    "outputId": "fc968780-dbc0-4182-cf59-0a320d8868ff",
    "papermill": {
     "duration": 0.246098,
     "end_time": "2023-12-09T21:36:47.702682",
     "exception": false,
     "start_time": "2023-12-09T21:36:47.456584",
     "status": "completed"
    },
    "tags": []
   },
   "outputs": [
    {
     "name": "stdout",
     "output_type": "stream",
     "text": [
      "6 files was removed from Data/TUAB/train/normal/01_tcp_ar/\n",
      "6 files was removed from Data/TUAB/eval/normal/01_tcp_ar/\n"
     ]
    },
    {
     "name": "stderr",
     "output_type": "stream",
     "text": [
      "  0%|▏                                                                                                                      | 2/1371 [00:05<1:06:00,  2.89s/it]"
     ]
    },
    {
     "name": "stdout",
     "output_type": "stream",
     "text": [
      "File aaaaanle_s001_t000.edf was passed, passed files: 1, read files: 2\n"
     ]
    },
    {
     "name": "stderr",
     "output_type": "stream",
     "text": [
      "  0%|▌                                                                                                                      | 6/1371 [00:15<1:01:02,  2.68s/it]"
     ]
    },
    {
     "name": "stdout",
     "output_type": "stream",
     "text": [
      "File aaaaapik_s001_t001.edf was passed, passed files: 2, read files: 5\n"
     ]
    },
    {
     "name": "stderr",
     "output_type": "stream",
     "text": [
      "  1%|▊                                                                                                                        | 9/1371 [00:21<54:40,  2.41s/it]"
     ]
    },
    {
     "name": "stdout",
     "output_type": "stream",
     "text": [
      "File aaaaanwb_s001_t000.edf was passed, passed files: 3, read files: 7\n"
     ]
    }
   ],
   "source": [
    "#preprocess\n",
    "for n_secs in [1, 2, 4, 5, 10, 15, 30, 60]:\n",
    "    picked_channels = ['EEG FZ-REF', 'EEG CZ-REF', 'EEG PZ-REF']\n",
    "    n_chunks_max = None, #60\n",
    "    target_freq = 128\n",
    "    n_samples_per_chunk=target_freq*n_secs\n",
    "    \n",
    "    chunks_file_name = f\"chunks_fz_cz_pz_{len(picked_channels)}x{n_samples_per_chunk}\"\n",
    "    targets_file_name = f\"targets_fz_cz_pz_{len(picked_channels)}x{n_samples_per_chunk}\"\n",
    "\n",
    "    remove_files(TUAB_TRAIN, [chunks_file_name, targets_file_name])\n",
    "    remove_files(TUAB_EVAL, [chunks_file_name, targets_file_name]) \n",
    "    \n",
    "    preprocessTUABdata(\n",
    "        picked_channels, \n",
    "        chunks_file_name, \n",
    "        targets_file_name, \n",
    "        TUAB_TRAIN, \n",
    "        TUAB_EVAL, \n",
    "    \n",
    "        target_freq=target_freq,\n",
    "        n_chunks_max=n_chunks_max,\n",
    "        n_samples_per_chunk=n_samples_per_chunk,\n",
    "        \n",
    "        force_recompute=True,\n",
    "        is_save=True,\n",
    "        n_files=None\n",
    "    )\n",
    "    \n",
    "    dataset = getTUABdataset(\n",
    "        TUAB_TRAIN, \n",
    "        TUAB_EVAL, \n",
    "        chunks_file_name, \n",
    "        targets_file_name,\n",
    "        \n",
    "        n_channels=len(picked_channels),\n",
    "        n_samples_per_chunk=n_samples_per_chunk,\n",
    "        test_size=0.5,\n",
    "        SEED=SEED,\n",
    "    )\n",
    "    \n",
    "    save_preprocessed_data(\n",
    "        dataset, \n",
    "        os.path.join(TUAB_DIRECTORY, f\"dataset_{target_freq}_{n_samples_per_chunk/target_freq:.1f}.pkl\")\n",
    "    )"
   ]
  },
  {
   "cell_type": "markdown",
   "id": "1c3e98ca-cb58-4789-93b2-2ede73c27016",
   "metadata": {
    "papermill": {
     "duration": 0.233809,
     "end_time": "2023-12-09T21:36:48.658001",
     "exception": false,
     "start_time": "2023-12-09T21:36:48.424192",
     "status": "completed"
    },
    "tags": []
   },
   "source": [
    "### Depression anonymized"
   ]
  },
  {
   "cell_type": "code",
   "execution_count": 7,
   "id": "3a636e8c",
   "metadata": {
    "papermill": {
     "duration": 0.243968,
     "end_time": "2023-12-09T21:36:49.644411",
     "exception": false,
     "start_time": "2023-12-09T21:36:49.400443",
     "status": "completed"
    },
    "tags": []
   },
   "outputs": [],
   "source": [
    "# epoch_folders = [\"epoch_1/\", \"epoch_3/\"]\n",
    "# picked_channels = [\"fz\", \"cz\", \"pz\"]\n",
    "# source_freq = 125\n",
    "# target_freq = 128\n",
    "# n_samples_per_chunk = target_freq*5\n",
    "\n",
    "# chunks_list = preprocessDepressionAnonymizedData(\n",
    "#     DEPR_ANON_DIRECTORY, \n",
    "#     epoch_folders, \n",
    "#     picked_channels,\n",
    "#     target_freq = target_freq,\n",
    "#     n_samples_per_chunk = n_samples_per_chunk\n",
    "# )\n",
    "# save_preprocessed_data(chunks_list, DEPR_ANON_DIRECTORY + f\"dataset_{target_freq}_{n_samples_per_chunk/target_freq:.1f}.pkl\")"
   ]
  },
  {
   "cell_type": "markdown",
   "id": "4cd5c6b4-79b1-4a73-a0a4-9dca6e3c82d1",
   "metadata": {
    "papermill": {
     "duration": 0.234752,
     "end_time": "2023-12-09T21:36:50.595065",
     "exception": false,
     "start_time": "2023-12-09T21:36:50.360313",
     "status": "completed"
    },
    "tags": []
   },
   "source": [
    "### Inhouse dataset"
   ]
  },
  {
   "cell_type": "code",
   "execution_count": 8,
   "id": "9d275623-a0c5-4ed2-9444-dae0883581f5",
   "metadata": {
    "papermill": {
     "duration": 0.249019,
     "end_time": "2023-12-09T21:36:51.564406",
     "exception": false,
     "start_time": "2023-12-09T21:36:51.315387",
     "status": "completed"
    },
    "tags": []
   },
   "outputs": [],
   "source": [
    "# for n_secs in [1, 2, 4, 5, 10, 15, 30, 60]:\n",
    "#     data_folders = [\"MDD\", \"Health\"]\n",
    "#     picked_channels = [\"Fz\", \"Cz\", \"Pz\"]\n",
    "#     source_freq = 500\n",
    "#     target_freq = 128\n",
    "#     n_samples_per_chunk = target_freq*n_secs\n",
    "    \n",
    "#     chunks_list = preprocessInhouseDatasetData(\n",
    "#         INHOUSE_DIRECTORY, \n",
    "#         data_folders, \n",
    "#         picked_channels,\n",
    "#         source_freq = source_freq,\n",
    "#         target_freq = target_freq,\n",
    "#         n_samples_per_chunk = n_samples_per_chunk\n",
    "#     )\n",
    "#     save_preprocessed_data(chunks_list, INHOUSE_DIRECTORY + f\"dataset_{target_freq}_{n_samples_per_chunk/target_freq:.1f}.pkl\")"
   ]
  },
  {
   "cell_type": "markdown",
   "id": "f0ef479c-7e50-494b-ad92-f272991392f3",
   "metadata": {
    "id": "UPjIv86UpFLV",
    "papermill": {
     "duration": 0.235318,
     "end_time": "2023-12-09T21:36:52.519049",
     "exception": false,
     "start_time": "2023-12-09T21:36:52.283731",
     "status": "completed"
    },
    "tags": []
   },
   "source": [
    "# Data load\n"
   ]
  },
  {
   "cell_type": "code",
   "execution_count": 9,
   "id": "dbcda87c-cda1-4843-8101-e85076536429",
   "metadata": {
    "papermill": {
     "duration": 0.247149,
     "end_time": "2023-12-09T21:36:56.413948",
     "exception": false,
     "start_time": "2023-12-09T21:36:56.166799",
     "status": "completed"
    },
    "tags": []
   },
   "outputs": [],
   "source": [
    "# file = DEPR_ANON_DIRECTORY + \"dataset_128_10.0.pkl\"\n",
    "# train_set, val_set, test_set = DataReader(file, dataset_type=\"depression_anonymized\").split()\n",
    "\n",
    "# file = TUAB_DIRECTORY + \"dataset_fz_cz_pz_3x124.pkl\"\n",
    "# train_set, val_set, test_set = DataReader(file, dataset_type=\"TUAB\").split()\n",
    "\n",
    "file = INHOUSE_DIRECTORY + \"dataset_128_60.0.pkl\"\n",
    "train_set, val_set, test_set = DataReader(file, dataset_type=\"inhouse_dataset\").split()\n",
    "\n",
    "chunks_train, chunks_val, chunks_test = train_set[\"chunk\"], val_set[\"chunk\"], test_set[\"chunk\"]\n",
    "targets_train, targets_val, targets_test = train_set[\"target\"], val_set[\"target\"], test_set[\"target\"]"
   ]
  },
  {
   "cell_type": "markdown",
   "id": "6db55b8d-1122-4b47-a9da-157d263f5545",
   "metadata": {
    "id": "mCKrrBsmpFLV",
    "papermill": {
     "duration": 0.233023,
     "end_time": "2023-12-09T21:36:59.917570",
     "exception": false,
     "start_time": "2023-12-09T21:36:59.684547",
     "status": "completed"
    },
    "tags": []
   },
   "source": [
    "# Data exploration"
   ]
  },
  {
   "cell_type": "code",
   "execution_count": 10,
   "id": "03450a09-b214-499b-a054-01609b1fa921",
   "metadata": {
    "papermill": {
     "duration": 2.108034,
     "end_time": "2023-12-09T21:37:05.677069",
     "exception": false,
     "start_time": "2023-12-09T21:37:03.569035",
     "status": "completed"
    },
    "tags": []
   },
   "outputs": [
    {
     "data": {
      "image/png": "[encoded data removed]",
      "text/plain": [
       "<Figure size 1600x200 with 4 Axes>"
      ]
     },
     "metadata": {},
     "output_type": "display_data"
    },
    {
     "data": {
      "image/png": "[encoded data removed]",
      "text/plain": [
       "<Figure size 1600x200 with 4 Axes>"
      ]
     },
     "metadata": {},
     "output_type": "display_data"
    },
    {
     "data": {
      "image/png": "[encoded data removed]",
      "text/plain": [
       "<Figure size 1600x200 with 4 Axes>"
      ]
     },
     "metadata": {},
     "output_type": "display_data"
    }
   ],
   "source": [
    "dataset_hists(train_set, val_set, test_set, chunk_bins=50, chunk_range=(-5, 5))\n",
    "# dataset_hists(train_set, val_set, test_set, chunk_bins=50, chunk_range=(-5, 5), target_bins=10, target_range=(0, 100))"
   ]
  },
  {
   "cell_type": "code",
   "execution_count": null,
   "id": "332f8c34-ac6d-44ab-8b0d-0c34b291fc21",
   "metadata": {},
   "outputs": [],
   "source": []
  }
 ],
 "metadata": {
  "kernelspec": {
   "display_name": "Python 3 (ipykernel)",
   "language": "python",
   "name": "python3"
  },
  "language_info": {
   "codemirror_mode": {
    "name": "ipython",
    "version": 3
   },
   "file_extension": ".py",
   "mimetype": "text/x-python",
   "name": "python",
   "nbconvert_exporter": "python",
   "pygments_lexer": "ipython3",
   "version": "3.8.10"
  }
 },
 "nbformat": 4,
 "nbformat_minor": 5
}
