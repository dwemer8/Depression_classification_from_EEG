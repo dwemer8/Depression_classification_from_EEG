{
 "cells": [
  {
   "cell_type": "markdown",
   "id": "e82d30fe-e02f-48c0-97dd-df6da4b7ec12",
   "metadata": {
    "editable": true,
    "id": "u9hcW97IpFLP",
    "papermill": {
     "duration": 0.23434,
     "end_time": "2023-12-09T21:36:17.845916",
     "exception": false,
     "start_time": "2023-12-09T21:36:17.611576",
     "status": "completed"
    },
    "slideshow": {
     "slide_type": ""
    },
    "tags": []
   },
   "source": [
    "# Constants and libraries"
   ]
  },
  {
   "cell_type": "code",
   "execution_count": 1,
   "id": "63150de1-60dd-46fd-b6fa-a56c5d3078b7",
   "metadata": {},
   "outputs": [
    {
     "name": "stdout",
     "output_type": "stream",
     "text": [
      "Linux\n",
      "\n",
      "PROJECT_FOLDER = ''\n",
      "SRC_FOLDER = ''\n",
      "OUTPUT_FOLDER = ''\n",
      "\n",
      "TUAB_DIRECTORY = 'Data/TUAB/'\n",
      "TUAB_TRAIN = 'Data/TUAB/train/normal/01_tcp_ar/'\n",
      "TUAB_EVAL = 'Data/TUAB/eval/normal/01_tcp_ar/'\n",
      "\n",
      "DEPR_ANON_DIRECTORY = 'Data/depression_anonymized/'\n",
      "\n",
      "INHOUSE_DIRECTORY = 'Data/inhouse_dataset/EEG_baseline_with_markers_cleaned/preprocessed_data/EEG_baseline/'\n",
      "\n"
     ]
    }
   ],
   "source": [
    "'''\n",
    "In this section one defines environment variables. \n",
    "Because I used this notebook on number of machines, I implemented class especially for this. \n",
    "You may not needed in one and use just simple definitions.\n",
    "'''\n",
    "\n",
    "from system_variables import SystemVariables\n",
    "\n",
    "# choose system according your current machine\n",
    "# SYSTEM_NAME = \"Windows\"\n",
    "# SYSTEM_NAME = \"Colab\"\n",
    "# SYSTEM_NAME = \"Kaggle\"\n",
    "SYSTEM_NAME = \"Linux\"\n",
    "\n",
    "sv = SystemVariables(SYSTEM_NAME)\n",
    "PROJECT_FOLDER = sv.get_project_folder()\n",
    "SRC_FOLDER = sv.get_src_folder()\n",
    "OUTPUT_FOLDER = sv.get_output_folder()\n",
    "TUAB_DIRECTORY, TUAB_TRAIN, TUAB_EVAL = sv.get_TUAB_folders()\n",
    "DEPR_ANON_DIRECTORY = sv.get_depr_anon_folder()\n",
    "INHOUSE_DIRECTORY = sv.get_inhouse_folder()\n",
    "\n",
    "print(SYSTEM_NAME)\n",
    "print()\n",
    "\n",
    "print(f\"{PROJECT_FOLDER = }\")\n",
    "print(f\"{SRC_FOLDER = }\")\n",
    "print(f\"{OUTPUT_FOLDER = }\")\n",
    "print()\n",
    "\n",
    "print(f\"{TUAB_DIRECTORY = }\")\n",
    "print(f\"{TUAB_TRAIN = }\")\n",
    "print(f\"{TUAB_EVAL = }\")\n",
    "print()\n",
    "\n",
    "print(f\"{DEPR_ANON_DIRECTORY = }\")\n",
    "print()\n",
    "\n",
    "print(f\"{INHOUSE_DIRECTORY = }\")\n",
    "print()"
   ]
  },
  {
   "cell_type": "code",
   "execution_count": 2,
   "id": "cd98e527-c441-420e-8865-eabab1d7df0e",
   "metadata": {},
   "outputs": [],
   "source": [
    "import warnings\n",
    "warnings.simplefilter(\"ignore\")\n",
    "\n",
    "import os\n",
    "import sys\n",
    "import pickle\n",
    "import json\n",
    "import random\n",
    "from IPython.display import display, clear_output\n",
    "from tqdm.auto import tqdm as tqdm_auto"
   ]
  },
  {
   "cell_type": "code",
   "execution_count": 3,
   "id": "f988a65b-4db3-4b7e-b92f-88c81125af62",
   "metadata": {},
   "outputs": [],
   "source": [
    "sys.path.append(SRC_FOLDER)\n",
    "\n",
    "%load_ext autoreload\n",
    "%autoreload 1\n",
    "%aimport utils\n",
    "\n",
    "from utils import SEED\n",
    "from utils.common import check_tags, remove_files\n",
    "from utils.data_reading import DataReader\n",
    "from utils.plotting import dataset_hists\n",
    "from utils.data_preprocessing import preprocessDepressionAnonymizedData, preprocessInhouseDatasetData, preprocessTUABdata, getTUABdataset, save_preprocessed_data"
   ]
  },
  {
   "cell_type": "markdown",
   "id": "9ec9b57e-452e-4278-b09c-87e4ac3c6598",
   "metadata": {
    "id": "1s3ANvBMpFLR",
    "papermill": {
     "duration": 0.236639,
     "end_time": "2023-12-09T21:36:41.387444",
     "exception": false,
     "start_time": "2023-12-09T21:36:41.150805",
     "status": "completed"
    },
    "tags": []
   },
   "source": [
    "# Data preview"
   ]
  },
  {
   "cell_type": "code",
   "execution_count": 16,
   "id": "ced1faa6",
   "metadata": {
    "papermill": {
     "duration": 0.291434,
     "end_time": "2023-12-09T21:36:44.349003",
     "exception": false,
     "start_time": "2023-12-09T21:36:44.057569",
     "status": "completed"
    },
    "tags": []
   },
   "outputs": [],
   "source": [
    "def tree(data_dir, n_files=2):\n",
    "    for dir, _, filenames in os.walk(data_dir):\n",
    "        print(dir)\n",
    "        for filename in filenames[:n_files]:\n",
    "            print(os.path.join(dir, filename))\n",
    "\n",
    "# tree(DEPR_ANON_DIRECTORY)\n",
    "\n",
    "# tree(INHOUSE_DIRECTORY)\n",
    "\n",
    "\n",
    "# tree(TUAB_DIRECTORY)\n",
    "# raw = mne.io.read_raw_edf(TUAB_TRAIN + \"/aaaaaaff_s002_t000.edf\", preload=False)\n",
    "# print(raw.ch_names, \"\\nDuration:\", raw.times[-1]/60, \"m\")\n",
    "# display(raw.info)\n",
    "# raw.plot(n_channels=21, duration=100, scalings=100e-6, start=20);#.set_size_inches(5, 5, forward=True)"
   ]
  },
  {
   "cell_type": "markdown",
   "id": "3c3605a6-1e75-4401-bf28-8ca828604371",
   "metadata": {},
   "source": [
    "## Inhouse dataset"
   ]
  },
  {
   "cell_type": "code",
   "execution_count": 25,
   "id": "f16c6f1d-8b92-4a21-9a8e-5da2e63fc3b7",
   "metadata": {},
   "outputs": [
    {
     "name": "stdout",
     "output_type": "stream",
     "text": [
      "75\n"
     ]
    },
    {
     "name": "stderr",
     "output_type": "stream",
     "text": [
      "100%|██████████████████████████████████████████████████████████████████████████████████████████████████████████████████████████| 75/75 [00:09<00:00,  7.96it/s]\n"
     ]
    },
    {
     "name": "stdout",
     "output_type": "stream",
     "text": [
      "96.56 7242.0\n",
      "74\n"
     ]
    },
    {
     "name": "stderr",
     "output_type": "stream",
     "text": [
      "100%|██████████████████████████████████████████████████████████████████████████████████████████████████████████████████████████| 74/74 [00:09<00:00,  8.12it/s]"
     ]
    },
    {
     "name": "stdout",
     "output_type": "stream",
     "text": [
      "95.1891891891892 7044.0\n"
     ]
    },
    {
     "name": "stderr",
     "output_type": "stream",
     "text": [
      "\n"
     ]
    }
   ],
   "source": [
    "import pandas as pd\n",
    "from tqdm import tqdm \n",
    "\n",
    "for dir in [\"Health/\", \"MDD/\"]:\n",
    "    print(len(os.listdir(INHOUSE_DIRECTORY + dir)))\n",
    "    n_secs = 0\n",
    "    for file in tqdm(os.listdir(INHOUSE_DIRECTORY + dir)):\n",
    "        n_secs += len(pd.read_csv(INHOUSE_DIRECTORY + dir + file)) / 500\n",
    "    print(n_secs/len(os.listdir(INHOUSE_DIRECTORY + dir)), n_secs)"
   ]
  },
  {
   "cell_type": "markdown",
   "id": "a5db7ac2-8110-4b1e-91c6-044fd7f8dc2d",
   "metadata": {},
   "source": [
    "## Depression anonymized dataset"
   ]
  },
  {
   "cell_type": "code",
   "execution_count": 32,
   "id": "df6db9c5-2e88-4e49-a800-6a1e42ed633c",
   "metadata": {},
   "outputs": [
    {
     "name": "stdout",
     "output_type": "stream",
     "text": [
      "91\n",
      "target\n",
      "0    45\n",
      "1    44\n",
      "Name: count, dtype: int64\n"
     ]
    },
    {
     "name": "stderr",
     "output_type": "stream",
     "text": [
      "100%|██████████████████████████████████████████████████████████████████████████████████████████████████████████████████████████| 91/91 [00:02<00:00, 37.32it/s]\n"
     ]
    },
    {
     "name": "stdout",
     "output_type": "stream",
     "text": [
      "58.68131868131868 5340.0\n",
      "91\n",
      "target\n",
      "0    45\n",
      "1    44\n",
      "Name: count, dtype: int64\n"
     ]
    },
    {
     "name": "stderr",
     "output_type": "stream",
     "text": [
      "100%|██████████████████████████████████████████████████████████████████████████████████████████████████████████████████████████| 91/91 [00:03<00:00, 23.45it/s]"
     ]
    },
    {
     "name": "stdout",
     "output_type": "stream",
     "text": [
      "58.68131868131868 5340.0\n"
     ]
    },
    {
     "name": "stderr",
     "output_type": "stream",
     "text": [
      "\n"
     ]
    }
   ],
   "source": [
    "for dir in [\"epoch_1/\", \"epoch_3/\"]:\n",
    "    print(len(os.listdir(DEPR_ANON_DIRECTORY + dir)))\n",
    "    \n",
    "    path_file = pd.read_csv(DEPR_ANON_DIRECTORY + dir + 'path_file.csv')\n",
    "    print(path_file['target'].value_counts())\n",
    "\n",
    "    n_secs = 0\n",
    "    for file in tqdm(os.listdir(DEPR_ANON_DIRECTORY + dir)):\n",
    "        if \"path_file\" in file or 'ipynb_checkpoints' in file:\n",
    "            continue\n",
    "        recording = pd.read_csv(DEPR_ANON_DIRECTORY + dir + file)\n",
    "        n_secs += len(recording)/125\n",
    "    print(n_secs/len(os.listdir(DEPR_ANON_DIRECTORY + dir)), n_secs)"
   ]
  },
  {
   "cell_type": "markdown",
   "id": "f5b8a79b-6c6a-4367-aa44-4b44534c635a",
   "metadata": {
    "id": "sIavQ0ClpFLS",
    "papermill": {
     "duration": 0.23423,
     "end_time": "2023-12-09T21:36:45.770298",
     "exception": false,
     "start_time": "2023-12-09T21:36:45.536068",
     "status": "completed"
    },
    "tags": []
   },
   "source": [
    "# Data preprocessing and saving"
   ]
  },
  {
   "cell_type": "markdown",
   "id": "31a4d845-627d-4bc3-b194-08ee5c775833",
   "metadata": {
    "papermill": {
     "duration": 0.237226,
     "end_time": "2023-12-09T21:36:46.242824",
     "exception": false,
     "start_time": "2023-12-09T21:36:46.005598",
     "status": "completed"
    },
    "tags": []
   },
   "source": [
    "### TUAB"
   ]
  },
  {
   "cell_type": "code",
   "execution_count": null,
   "id": "4e8e4cd7",
   "metadata": {
    "id": "NVIjlVM_pFLU",
    "outputId": "fc968780-dbc0-4182-cf59-0a320d8868ff",
    "papermill": {
     "duration": 0.246098,
     "end_time": "2023-12-09T21:36:47.702682",
     "exception": false,
     "start_time": "2023-12-09T21:36:47.456584",
     "status": "completed"
    },
    "tags": []
   },
   "outputs": [
    {
     "name": "stdout",
     "output_type": "stream",
     "text": [
      "4 files was removed from Data/TUAB/train/normal/01_tcp_ar/\n",
      "6 files was removed from Data/TUAB/eval/normal/01_tcp_ar/\n"
     ]
    },
    {
     "name": "stderr",
     "output_type": "stream",
     "text": [
      "  0%|▏                                                                                                                      | 2/1383 [00:07<1:29:47,  3.90s/it]"
     ]
    },
    {
     "name": "stdout",
     "output_type": "stream",
     "text": [
      "File aaaaanle_s001_t000.edf was passed, passed files: 1, read files: 2\n"
     ]
    },
    {
     "name": "stderr",
     "output_type": "stream",
     "text": [
      "  0%|▌                                                                                                                      | 6/1383 [00:19<1:15:30,  3.29s/it]"
     ]
    },
    {
     "name": "stdout",
     "output_type": "stream",
     "text": [
      "File aaaaapik_s001_t001.edf was passed, passed files: 2, read files: 5\n"
     ]
    },
    {
     "name": "stderr",
     "output_type": "stream",
     "text": [
      "  1%|▊                                                                                                                      | 9/1383 [00:31<1:29:57,  3.93s/it]"
     ]
    },
    {
     "name": "stdout",
     "output_type": "stream",
     "text": [
      "File aaaaanwb_s001_t000.edf was passed, passed files: 3, read files: 7\n"
     ]
    },
    {
     "name": "stderr",
     "output_type": "stream",
     "text": [
      "  1%|▉                                                                                                                     | 11/1383 [00:35<1:10:05,  3.07s/it]"
     ]
    },
    {
     "name": "stdout",
     "output_type": "stream",
     "text": [
      "File aaaaajvi_s004_t000.edf was passed, passed files: 4, read files: 8\n"
     ]
    },
    {
     "name": "stderr",
     "output_type": "stream",
     "text": [
      "  1%|█▎                                                                                                                    | 15/1383 [00:46<1:09:05,  3.03s/it]"
     ]
    },
    {
     "name": "stdout",
     "output_type": "stream",
     "text": [
      "File aaaaacsu_s004_t000.edf was passed, passed files: 5, read files: 11\n",
      "File aaaaangh_s001_t000.edf was passed, passed files: 6, read files: 11\n"
     ]
    },
    {
     "name": "stderr",
     "output_type": "stream",
     "text": [
      "  1%|█▌                                                                                                                      | 18/1383 [00:50<49:31,  2.18s/it]"
     ]
    },
    {
     "name": "stdout",
     "output_type": "stream",
     "text": [
      "File aaaaaetn_s002_t000.edf was passed, passed files: 7, read files: 12\n"
     ]
    },
    {
     "name": "stderr",
     "output_type": "stream",
     "text": [
      "  1%|█▋                                                                                                                      | 20/1383 [00:54<47:07,  2.07s/it]"
     ]
    },
    {
     "name": "stdout",
     "output_type": "stream",
     "text": [
      "File aaaaaniz_s001_t000.edf was passed, passed files: 8, read files: 13\n"
     ]
    },
    {
     "name": "stderr",
     "output_type": "stream",
     "text": [
      "  2%|█▉                                                                                                                      | 23/1383 [01:01<53:06,  2.34s/it]"
     ]
    },
    {
     "name": "stdout",
     "output_type": "stream",
     "text": [
      "File aaaaaoez_s001_t000.edf was passed, passed files: 9, read files: 15\n",
      "File aaaaaorr_s001_t001.edf was passed, passed files: 10, read files: 15\n"
     ]
    },
    {
     "name": "stderr",
     "output_type": "stream",
     "text": [
      "  2%|██▍                                                                                                                     | 28/1383 [01:12<55:33,  2.46s/it]"
     ]
    },
    {
     "name": "stdout",
     "output_type": "stream",
     "text": [
      "File aaaaanhv_s001_t001.edf was passed, passed files: 11, read files: 18\n"
     ]
    },
    {
     "name": "stderr",
     "output_type": "stream",
     "text": [
      "  2%|██▌                                                                                                                     | 30/1383 [01:16<48:38,  2.16s/it]"
     ]
    },
    {
     "name": "stdout",
     "output_type": "stream",
     "text": [
      "File aaaaapix_s001_t000.edf was passed, passed files: 12, read files: 19\n"
     ]
    },
    {
     "name": "stderr",
     "output_type": "stream",
     "text": [
      "  2%|██▊                                                                                                                     | 32/1383 [01:19<45:42,  2.03s/it]"
     ]
    },
    {
     "name": "stdout",
     "output_type": "stream",
     "text": [
      "File aaaaaopf_s001_t000.edf was passed, passed files: 13, read files: 20\n"
     ]
    },
    {
     "name": "stderr",
     "output_type": "stream",
     "text": [
      "  2%|██▉                                                                                                                     | 34/1383 [01:23<45:29,  2.02s/it]"
     ]
    },
    {
     "name": "stdout",
     "output_type": "stream",
     "text": [
      "File aaaaapch_s001_t001.edf was passed, passed files: 14, read files: 21\n",
      "File aaaaaltg_s002_t000.edf was passed, passed files: 15, read files: 21\n"
     ]
    },
    {
     "name": "stderr",
     "output_type": "stream",
     "text": [
      "  3%|███▎                                                                                                                    | 38/1383 [01:31<45:58,  2.05s/it]"
     ]
    },
    {
     "name": "stdout",
     "output_type": "stream",
     "text": [
      "File aaaaaohq_s001_t001.edf was passed, passed files: 16, read files: 23\n",
      "File aaaaanvs_s001_t000.edf was passed, passed files: 17, read files: 23\n"
     ]
    },
    {
     "name": "stderr",
     "output_type": "stream",
     "text": [
      "  3%|███▊                                                                                                                  | 44/1383 [01:46<1:01:48,  2.77s/it]"
     ]
    },
    {
     "name": "stdout",
     "output_type": "stream",
     "text": [
      "File aaaaaowr_s001_t001.edf was passed, passed files: 18, read files: 27\n"
     ]
    },
    {
     "name": "stderr",
     "output_type": "stream",
     "text": [
      "  3%|████                                                                                                                  | 47/1383 [01:54<1:02:16,  2.80s/it]"
     ]
    },
    {
     "name": "stdout",
     "output_type": "stream",
     "text": [
      "File aaaaamws_s001_t000.edf was passed, passed files: 19, read files: 29\n",
      "File aaaaapnk_s001_t000.edf was passed, passed files: 20, read files: 29\n",
      "File aaaaaosn_s001_t000.edf was passed, passed files: 21, read files: 29\n"
     ]
    },
    {
     "name": "stderr",
     "output_type": "stream",
     "text": [
      "  4%|████▍                                                                                                                   | 51/1383 [01:58<40:42,  1.83s/it]"
     ]
    },
    {
     "name": "stdout",
     "output_type": "stream",
     "text": [
      "File aaaaapnd_s001_t001.edf was passed, passed files: 22, read files: 30\n"
     ]
    },
    {
     "name": "stderr",
     "output_type": "stream",
     "text": [
      "  4%|████▋                                                                                                                   | 54/1383 [02:02<35:30,  1.60s/it]"
     ]
    },
    {
     "name": "stdout",
     "output_type": "stream",
     "text": [
      "File aaaaaouv_s001_t000.edf was passed, passed files: 23, read files: 31\n",
      "File aaaaaeoe_s002_t000.edf was passed, passed files: 24, read files: 31\n"
     ]
    },
    {
     "name": "stderr",
     "output_type": "stream",
     "text": [
      "  4%|████▉                                                                                                                   | 57/1383 [02:06<34:03,  1.54s/it]"
     ]
    },
    {
     "name": "stdout",
     "output_type": "stream",
     "text": [
      "File aaaaanbs_s001_t000.edf was passed, passed files: 25, read files: 32\n"
     ]
    },
    {
     "name": "stderr",
     "output_type": "stream",
     "text": [
      "  5%|█████▍                                                                                                                | 63/1383 [02:25<1:03:21,  2.88s/it]"
     ]
    },
    {
     "name": "stdout",
     "output_type": "stream",
     "text": [
      "File aaaaaowp_s001_t001.edf was passed, passed files: 26, read files: 37\n"
     ]
    },
    {
     "name": "stderr",
     "output_type": "stream",
     "text": [
      "  5%|█████▋                                                                                                                  | 66/1383 [02:29<46:57,  2.14s/it]"
     ]
    },
    {
     "name": "stdout",
     "output_type": "stream",
     "text": [
      "File aaaaaojz_s001_t000.edf was passed, passed files: 27, read files: 38\n"
     ]
    },
    {
     "name": "stderr",
     "output_type": "stream",
     "text": [
      "  5%|█████▉                                                                                                                  | 68/1383 [02:34<47:06,  2.15s/it]"
     ]
    },
    {
     "name": "stdout",
     "output_type": "stream",
     "text": [
      "File aaaaapbe_s001_t000.edf was passed, passed files: 28, read files: 39\n"
     ]
    },
    {
     "name": "stderr",
     "output_type": "stream",
     "text": [
      "  5%|██████                                                                                                                | 71/1383 [02:46<1:05:24,  2.99s/it]"
     ]
    },
    {
     "name": "stdout",
     "output_type": "stream",
     "text": [
      "File aaaaamww_s001_t000.edf was passed, passed files: 29, read files: 41\n",
      "File aaaaapvg_s001_t001.edf was passed, passed files: 30, read files: 41\n",
      "File aaaaantg_s001_t000.edf was passed, passed files: 31, read files: 41\n"
     ]
    },
    {
     "name": "stderr",
     "output_type": "stream",
     "text": [
      "  5%|██████▌                                                                                                                 | 75/1383 [02:49<41:26,  1.90s/it]"
     ]
    },
    {
     "name": "stdout",
     "output_type": "stream",
     "text": [
      "File aaaaagmh_s002_t000.edf was passed, passed files: 32, read files: 42\n"
     ]
    },
    {
     "name": "stderr",
     "output_type": "stream",
     "text": [
      "  6%|██████▋                                                                                                                 | 77/1383 [02:52<40:34,  1.86s/it]"
     ]
    },
    {
     "name": "stdout",
     "output_type": "stream",
     "text": [
      "File aaaaanft_s001_t000.edf was passed, passed files: 33, read files: 43\n"
     ]
    },
    {
     "name": "stderr",
     "output_type": "stream",
     "text": [
      "  6%|██████▊                                                                                                                 | 79/1383 [02:56<40:33,  1.87s/it]"
     ]
    },
    {
     "name": "stdout",
     "output_type": "stream",
     "text": [
      "File aaaaapsr_s001_t000.edf was passed, passed files: 34, read files: 44\n",
      "File aaaaapml_s001_t000.edf was passed, passed files: 35, read files: 44\n",
      "File aaaaammq_s002_t000.edf was passed, passed files: 36, read files: 44\n"
     ]
    },
    {
     "name": "stderr",
     "output_type": "stream",
     "text": [
      "  6%|███████▍                                                                                                                | 86/1383 [03:13<59:20,  2.75s/it]"
     ]
    },
    {
     "name": "stdout",
     "output_type": "stream",
     "text": [
      "File aaaaantl_s001_t001.edf was passed, passed files: 37, read files: 48\n",
      "File aaaaamyl_s001_t000.edf was passed, passed files: 38, read files: 48\n",
      "File aaaaapke_s001_t000.edf was passed, passed files: 39, read files: 48\n"
     ]
    },
    {
     "name": "stderr",
     "output_type": "stream",
     "text": [
      "  7%|████████▎                                                                                                               | 96/1383 [03:40<57:55,  2.70s/it]"
     ]
    },
    {
     "name": "stdout",
     "output_type": "stream",
     "text": [
      "File aaaaabzx_s004_t000.edf was passed, passed files: 40, read files: 54\n",
      "File aaaaangn_s001_t000.edf was passed, passed files: 41, read files: 54\n"
     ]
    },
    {
     "name": "stderr",
     "output_type": "stream",
     "text": [
      "  7%|████████▋                                                                                                              | 101/1383 [03:51<57:10,  2.68s/it]"
     ]
    },
    {
     "name": "stdout",
     "output_type": "stream",
     "text": [
      "File aaaaanto_s001_t000.edf was passed, passed files: 42, read files: 57\n",
      "File aaaaaosj_s001_t000.edf was passed, passed files: 43, read files: 57\n",
      "File aaaaaoqq_s001_t000.edf was passed, passed files: 44, read files: 57\n",
      "File aaaaanuq_s001_t000.edf was passed, passed files: 45, read files: 57\n"
     ]
    },
    {
     "name": "stderr",
     "output_type": "stream",
     "text": [
      "  8%|█████████▏                                                                                                             | 107/1383 [03:58<37:55,  1.78s/it]"
     ]
    },
    {
     "name": "stdout",
     "output_type": "stream",
     "text": [
      "File aaaaanmw_s007_t000.edf was passed, passed files: 46, read files: 59\n",
      "File aaaaaoaz_s001_t000.edf was passed, passed files: 47, read files: 59\n"
     ]
    },
    {
     "name": "stderr",
     "output_type": "stream",
     "text": [
      "  8%|█████████▋                                                                                                             | 113/1383 [04:13<50:41,  2.40s/it]"
     ]
    },
    {
     "name": "stdout",
     "output_type": "stream",
     "text": [
      "File aaaaamob_s001_t000.edf was passed, passed files: 48, read files: 63\n"
     ]
    },
    {
     "name": "stderr",
     "output_type": "stream",
     "text": [
      "  8%|█████████▉                                                                                                             | 116/1383 [04:20<52:39,  2.49s/it]"
     ]
    },
    {
     "name": "stdout",
     "output_type": "stream",
     "text": [
      "File aaaaapph_s001_t001.edf was passed, passed files: 49, read files: 65\n",
      "File aaaaaoed_s001_t000.edf was passed, passed files: 50, read files: 65\n"
     ]
    },
    {
     "name": "stderr",
     "output_type": "stream",
     "text": [
      "  9%|██████████▍                                                                                                            | 121/1383 [04:31<52:59,  2.52s/it]"
     ]
    },
    {
     "name": "stdout",
     "output_type": "stream",
     "text": [
      "File aaaaappj_s001_t002.edf was passed, passed files: 51, read files: 68\n"
     ]
    },
    {
     "name": "stderr",
     "output_type": "stream",
     "text": [
      "  9%|██████████▋                                                                                                          | 127/1383 [04:52<1:15:54,  3.63s/it]"
     ]
    },
    {
     "name": "stdout",
     "output_type": "stream",
     "text": [
      "File aaaaanvq_s001_t000.edf was passed, passed files: 52, read files: 73\n",
      "File aaaaanaj_s001_t000.edf was passed, passed files: 53, read files: 73\n"
     ]
    },
    {
     "name": "stderr",
     "output_type": "stream",
     "text": [
      " 10%|███████████▍                                                                                                           | 133/1383 [05:02<53:19,  2.56s/it]"
     ]
    },
    {
     "name": "stdout",
     "output_type": "stream",
     "text": [
      "File aaaaaola_s001_t000.edf was passed, passed files: 54, read files: 76\n",
      "File aaaaapnc_s001_t000.edf was passed, passed files: 55, read files: 76\n"
     ]
    },
    {
     "name": "stderr",
     "output_type": "stream",
     "text": [
      " 10%|███████████▋                                                                                                           | 136/1383 [05:06<39:59,  1.92s/it]"
     ]
    },
    {
     "name": "stdout",
     "output_type": "stream",
     "text": [
      "File aaaaamwf_s002_t000.edf was passed, passed files: 56, read files: 77\n",
      "File aaaaapja_s001_t000.edf was passed, passed files: 57, read files: 77\n"
     ]
    },
    {
     "name": "stderr",
     "output_type": "stream",
     "text": [
      " 10%|████████████                                                                                                           | 140/1383 [05:14<43:46,  2.11s/it]"
     ]
    },
    {
     "name": "stdout",
     "output_type": "stream",
     "text": [
      "File aaaaaned_s001_t001.edf was passed, passed files: 58, read files: 79\n",
      "File aaaaanvl_s001_t000.edf was passed, passed files: 59, read files: 79\n"
     ]
    },
    {
     "name": "stderr",
     "output_type": "stream",
     "text": [
      " 11%|████████████▌                                                                                                          | 146/1383 [05:30<57:11,  2.77s/it]"
     ]
    },
    {
     "name": "stdout",
     "output_type": "stream",
     "text": [
      "File aaaaaoqm_s001_t000.edf was passed, passed files: 60, read files: 83\n"
     ]
    },
    {
     "name": "stderr",
     "output_type": "stream",
     "text": [
      " 11%|████████████▋                                                                                                          | 148/1383 [05:34<52:56,  2.57s/it]"
     ]
    },
    {
     "name": "stdout",
     "output_type": "stream",
     "text": [
      "File aaaaakzu_s003_t000.edf was passed, passed files: 61, read files: 84\n",
      "File aaaaamxb_s001_t000.edf was passed, passed files: 62, read files: 84\n",
      "File aaaaapem_s001_t000.edf was passed, passed files: 63, read files: 84\n",
      "File aaaaaimz_s003_t000.edf was passed, passed files: 64, read files: 84\n"
     ]
    },
    {
     "name": "stderr",
     "output_type": "stream",
     "text": [
      " 11%|█████████████▏                                                                                                         | 153/1383 [05:38<32:44,  1.60s/it]"
     ]
    },
    {
     "name": "stdout",
     "output_type": "stream",
     "text": [
      "File aaaaamvq_s001_t000.edf was passed, passed files: 65, read files: 85\n"
     ]
    },
    {
     "name": "stderr",
     "output_type": "stream",
     "text": [
      " 11%|█████████████▌                                                                                                         | 157/1383 [05:50<47:03,  2.30s/it]"
     ]
    },
    {
     "name": "stdout",
     "output_type": "stream",
     "text": [
      "File aaaaapdn_s001_t000.edf was passed, passed files: 66, read files: 88\n"
     ]
    },
    {
     "name": "stderr",
     "output_type": "stream",
     "text": [
      " 12%|█████████████▊                                                                                                         | 161/1383 [06:00<51:18,  2.52s/it]"
     ]
    },
    {
     "name": "stdout",
     "output_type": "stream",
     "text": [
      "File aaaaamnh_s001_t000.edf was passed, passed files: 67, read files: 91\n",
      "File aaaaapbf_s001_t000.edf was passed, passed files: 68, read files: 91\n",
      "File aaaaanrg_s001_t000.edf was passed, passed files: 69, read files: 91\n"
     ]
    },
    {
     "name": "stderr",
     "output_type": "stream",
     "text": [
      " 12%|██████████████▏                                                                                                        | 165/1383 [06:07<43:00,  2.12s/it]"
     ]
    },
    {
     "name": "stdout",
     "output_type": "stream",
     "text": [
      "File aaaaamxa_s001_t000.edf was passed, passed files: 70, read files: 92\n"
     ]
    },
    {
     "name": "stderr",
     "output_type": "stream",
     "text": [
      " 12%|██████████████▎                                                                                                        | 167/1383 [06:12<43:58,  2.17s/it]"
     ]
    },
    {
     "name": "stdout",
     "output_type": "stream",
     "text": [
      "File aaaaaoph_s001_t000.edf was passed, passed files: 71, read files: 93\n"
     ]
    },
    {
     "name": "stderr",
     "output_type": "stream",
     "text": [
      " 12%|██████████████▌                                                                                                        | 169/1383 [06:19<52:27,  2.59s/it]"
     ]
    },
    {
     "name": "stdout",
     "output_type": "stream",
     "text": [
      "File aaaaapvi_s001_t001.edf was passed, passed files: 72, read files: 94\n"
     ]
    },
    {
     "name": "stderr",
     "output_type": "stream",
     "text": [
      " 12%|██████████████▋                                                                                                        | 171/1383 [06:23<48:26,  2.40s/it]"
     ]
    },
    {
     "name": "stdout",
     "output_type": "stream",
     "text": [
      "File aaaaanch_s001_t000.edf was passed, passed files: 73, read files: 95\n"
     ]
    },
    {
     "name": "stderr",
     "output_type": "stream",
     "text": [
      " 13%|██████████████▉                                                                                                        | 174/1383 [06:31<52:25,  2.60s/it]"
     ]
    },
    {
     "name": "stdout",
     "output_type": "stream",
     "text": [
      "File aaaaamqb_s001_t000.edf was passed, passed files: 74, read files: 97\n",
      "File aaaaakid_s002_t000.edf was passed, passed files: 75, read files: 97\n"
     ]
    },
    {
     "name": "stderr",
     "output_type": "stream",
     "text": [
      " 13%|███████████████▎                                                                                                       | 178/1383 [06:39<46:29,  2.31s/it]"
     ]
    },
    {
     "name": "stdout",
     "output_type": "stream",
     "text": [
      "File aaaaaedn_s004_t000.edf was passed, passed files: 76, read files: 99\n",
      "File aaaaaprq_s001_t000.edf was passed, passed files: 77, read files: 99\n"
     ]
    },
    {
     "name": "stderr",
     "output_type": "stream",
     "text": [
      " 13%|███████████████▌                                                                                                       | 181/1383 [06:43<37:44,  1.88s/it]"
     ]
    },
    {
     "name": "stdout",
     "output_type": "stream",
     "text": [
      "File aaaaadna_s002_t000.edf was passed, passed files: 78, read files: 100\n"
     ]
    },
    {
     "name": "stderr",
     "output_type": "stream",
     "text": [
      " 13%|███████████████▋                                                                                                       | 183/1383 [06:46<37:13,  1.86s/it]"
     ]
    },
    {
     "name": "stdout",
     "output_type": "stream",
     "text": [
      "File aaaaaniv_s001_t000.edf was passed, passed files: 79, read files: 101\n",
      "File aaaaansm_s001_t000.edf was passed, passed files: 80, read files: 101\n"
     ]
    },
    {
     "name": "stderr",
     "output_type": "stream",
     "text": [
      " 13%|████████████████                                                                                                       | 186/1383 [06:50<32:29,  1.63s/it]"
     ]
    },
    {
     "name": "stdout",
     "output_type": "stream",
     "text": [
      "File aaaaanza_s001_t000.edf was passed, passed files: 81, read files: 102\n"
     ]
    },
    {
     "name": "stderr",
     "output_type": "stream",
     "text": [
      " 14%|████████████████▎                                                                                                      | 189/1383 [06:58<41:07,  2.07s/it]"
     ]
    },
    {
     "name": "stdout",
     "output_type": "stream",
     "text": [
      "File aaaaabyu_s003_t000.edf was passed, passed files: 82, read files: 104\n"
     ]
    },
    {
     "name": "stderr",
     "output_type": "stream",
     "text": [
      " 14%|████████████████▊                                                                                                      | 196/1383 [07:19<59:19,  3.00s/it]"
     ]
    },
    {
     "name": "stdout",
     "output_type": "stream",
     "text": [
      "File aaaaappc_s001_t001.edf was passed, passed files: 83, read files: 110\n",
      "File aaaaaouh_s001_t000.edf was passed, passed files: 84, read files: 110\n"
     ]
    },
    {
     "name": "stderr",
     "output_type": "stream",
     "text": [
      " 14%|█████████████████                                                                                                      | 199/1383 [07:22<39:33,  2.00s/it]"
     ]
    },
    {
     "name": "stdout",
     "output_type": "stream",
     "text": [
      "File aaaaaksc_s004_t000.edf was passed, passed files: 85, read files: 111\n",
      "File aaaaaood_s001_t002.edf was passed, passed files: 86, read files: 111\n",
      "File aaaaalby_s003_t000.edf was passed, passed files: 87, read files: 111\n"
     ]
    },
    {
     "name": "stderr",
     "output_type": "stream",
     "text": [
      " 15%|█████████████████▌                                                                                                   | 207/1383 [07:45<1:04:15,  3.28s/it]"
     ]
    },
    {
     "name": "stdout",
     "output_type": "stream",
     "text": [
      "File aaaaamtl_s002_t000.edf was passed, passed files: 88, read files: 116\n"
     ]
    },
    {
     "name": "stderr",
     "output_type": "stream",
     "text": [
      " 15%|█████████████████▉                                                                                                     | 209/1383 [07:49<53:36,  2.74s/it]"
     ]
    },
    {
     "name": "stdout",
     "output_type": "stream",
     "text": [
      "File aaaaaonk_s001_t000.edf was passed, passed files: 89, read files: 117\n"
     ]
    },
    {
     "name": "stderr",
     "output_type": "stream",
     "text": [
      " 15%|██████████████████▏                                                                                                    | 211/1383 [07:52<45:56,  2.35s/it]"
     ]
    },
    {
     "name": "stdout",
     "output_type": "stream",
     "text": [
      "File aaaaamwr_s001_t000.edf was passed, passed files: 90, read files: 118\n"
     ]
    },
    {
     "name": "stderr",
     "output_type": "stream",
     "text": [
      " 15%|██████████████████▎                                                                                                    | 213/1383 [07:56<42:11,  2.16s/it]"
     ]
    },
    {
     "name": "stdout",
     "output_type": "stream",
     "text": [
      "File aaaaapfz_s001_t000.edf was passed, passed files: 91, read files: 119\n"
     ]
    },
    {
     "name": "stderr",
     "output_type": "stream",
     "text": [
      " 16%|██████████████████▍                                                                                                  | 218/1383 [08:23<1:15:05,  3.87s/it]"
     ]
    },
    {
     "name": "stdout",
     "output_type": "stream",
     "text": [
      "File aaaaaohk_s001_t001.edf was passed, passed files: 92, read files: 123\n",
      "File aaaaaoru_s001_t001.edf was passed, passed files: 93, read files: 123\n",
      "File aaaaalrt_s002_t000.edf was passed, passed files: 94, read files: 123\n"
     ]
    },
    {
     "name": "stderr",
     "output_type": "stream",
     "text": [
      " 16%|███████████████████                                                                                                  | 225/1383 [08:43<1:12:37,  3.76s/it]"
     ]
    },
    {
     "name": "stdout",
     "output_type": "stream",
     "text": [
      "File aaaaanvd_s001_t000.edf was passed, passed files: 95, read files: 127\n"
     ]
    },
    {
     "name": "stderr",
     "output_type": "stream",
     "text": [
      " 16%|███████████████████▌                                                                                                   | 227/1383 [08:47<58:11,  3.02s/it]"
     ]
    },
    {
     "name": "stdout",
     "output_type": "stream",
     "text": [
      "File aaaaapgp_s001_t000.edf was passed, passed files: 96, read files: 128\n"
     ]
    },
    {
     "name": "stderr",
     "output_type": "stream",
     "text": [
      " 17%|███████████████████▊                                                                                                   | 230/1383 [08:55<54:51,  2.85s/it]"
     ]
    },
    {
     "name": "stdout",
     "output_type": "stream",
     "text": [
      "File aaaaapkw_s001_t002.edf was passed, passed files: 97, read files: 130\n"
     ]
    },
    {
     "name": "stderr",
     "output_type": "stream",
     "text": [
      " 20%|███████████████████████▉                                                                                             | 283/1383 [11:18<1:05:35,  3.58s/it]"
     ]
    },
    {
     "name": "stdout",
     "output_type": "stream",
     "text": [
      "File aaaaaodh_s001_t000.edf was passed, passed files: 114, read files: 166\n"
     ]
    },
    {
     "name": "stderr",
     "output_type": "stream",
     "text": [
      " 21%|████████████████████████▌                                                                                              | 285/1383 [11:22<52:54,  2.89s/it]"
     ]
    },
    {
     "name": "stdout",
     "output_type": "stream",
     "text": [
      "File aaaaaqax_s001_t000.edf was passed, passed files: 115, read files: 167\n"
     ]
    },
    {
     "name": "stderr",
     "output_type": "stream",
     "text": [
      " 21%|████████████████████████▌                                                                                            | 291/1383 [11:45<1:12:09,  3.96s/it]"
     ]
    },
    {
     "name": "stdout",
     "output_type": "stream",
     "text": [
      "File aaaaaowm_s001_t000.edf was passed, passed files: 116, read files: 172\n"
     ]
    },
    {
     "name": "stderr",
     "output_type": "stream",
     "text": [
      " 21%|█████████████████████████▏                                                                                             | 293/1383 [11:48<52:40,  2.90s/it]"
     ]
    },
    {
     "name": "stdout",
     "output_type": "stream",
     "text": [
      "File aaaaanet_s001_t000.edf was passed, passed files: 117, read files: 173\n"
     ]
    },
    {
     "name": "stderr",
     "output_type": "stream",
     "text": [
      " 22%|█████████████████████████▍                                                                                           | 301/1383 [12:21<1:18:27,  4.35s/it]"
     ]
    },
    {
     "name": "stdout",
     "output_type": "stream",
     "text": [
      "File aaaaamqr_s001_t000.edf was passed, passed files: 118, read files: 180\n",
      "File aaaaanee_s001_t000.edf was passed, passed files: 119, read files: 180\n",
      "File aaaaankx_s001_t000.edf was passed, passed files: 120, read files: 180\n"
     ]
    },
    {
     "name": "stderr",
     "output_type": "stream",
     "text": [
      " 22%|██████████████████████████▏                                                                                            | 305/1383 [12:25<40:42,  2.27s/it]"
     ]
    },
    {
     "name": "stdout",
     "output_type": "stream",
     "text": [
      "File aaaaanpg_s001_t000.edf was passed, passed files: 121, read files: 181\n"
     ]
    },
    {
     "name": "stderr",
     "output_type": "stream",
     "text": [
      " 23%|██████████████████████████▉                                                                                            | 313/1383 [12:50<58:47,  3.30s/it]"
     ]
    },
    {
     "name": "stdout",
     "output_type": "stream",
     "text": [
      "File aaaaansk_s001_t000.edf was passed, passed files: 122, read files: 188\n",
      "File aaaaakth_s003_t000.edf was passed, passed files: 123, read files: 188\n"
     ]
    },
    {
     "name": "stderr",
     "output_type": "stream",
     "text": [
      " 23%|███████████████████████████▏                                                                                           | 316/1383 [12:54<40:32,  2.28s/it]"
     ]
    },
    {
     "name": "stdout",
     "output_type": "stream",
     "text": [
      "File aaaaapbb_s001_t000.edf was passed, passed files: 124, read files: 189\n"
     ]
    },
    {
     "name": "stderr",
     "output_type": "stream",
     "text": [
      " 23%|███████████████████████████▌                                                                                           | 320/1383 [13:06<48:55,  2.76s/it]"
     ]
    },
    {
     "name": "stdout",
     "output_type": "stream",
     "text": [
      "File aaaaalvl_s002_t000.edf was passed, passed files: 125, read files: 192\n"
     ]
    },
    {
     "name": "stderr",
     "output_type": "stream",
     "text": [
      " 23%|███████████████████████████▊                                                                                           | 323/1383 [13:14<48:47,  2.76s/it]"
     ]
    },
    {
     "name": "stdout",
     "output_type": "stream",
     "text": [
      "File aaaaaoid_s002_t000.edf was passed, passed files: 126, read files: 194\n",
      "File aaaaanrv_s001_t000.edf was passed, passed files: 127, read files: 194\n"
     ]
    },
    {
     "name": "stderr",
     "output_type": "stream",
     "text": [
      " 24%|████████████████████████████▏                                                                                          | 327/1383 [13:21<40:48,  2.32s/it]"
     ]
    },
    {
     "name": "stdout",
     "output_type": "stream",
     "text": [
      "File aaaaapie_s001_t000.edf was passed, passed files: 128, read files: 196\n"
     ]
    },
    {
     "name": "stderr",
     "output_type": "stream",
     "text": [
      " 24%|████████████████████████████▍                                                                                          | 331/1383 [13:32<48:34,  2.77s/it]"
     ]
    },
    {
     "name": "stdout",
     "output_type": "stream",
     "text": [
      "File aaaaaosb_s002_t001.edf was passed, passed files: 129, read files: 199\n"
     ]
    },
    {
     "name": "stderr",
     "output_type": "stream",
     "text": [
      " 24%|████████████████████████████▊                                                                                          | 335/1383 [13:44<51:50,  2.97s/it]"
     ]
    },
    {
     "name": "stdout",
     "output_type": "stream",
     "text": [
      "File aaaaamoc_s002_t000.edf was passed, passed files: 130, read files: 202\n"
     ]
    },
    {
     "name": "stderr",
     "output_type": "stream",
     "text": [
      " 24%|████████████████████████████▉                                                                                          | 337/1383 [13:48<45:19,  2.60s/it]"
     ]
    },
    {
     "name": "stdout",
     "output_type": "stream",
     "text": [
      "File aaaaanfd_s001_t000.edf was passed, passed files: 131, read files: 203\n"
     ]
    },
    {
     "name": "stderr",
     "output_type": "stream",
     "text": [
      " 25%|█████████████████████████████▎                                                                                       | 347/1383 [14:27<1:20:53,  4.68s/it]"
     ]
    },
    {
     "name": "stdout",
     "output_type": "stream",
     "text": [
      "File aaaaanif_s001_t000.edf was passed, passed files: 132, read files: 212\n"
     ]
    },
    {
     "name": "stderr",
     "output_type": "stream",
     "text": [
      " 25%|█████████████████████████████▌                                                                                       | 349/1383 [14:35<1:13:43,  4.28s/it]"
     ]
    },
    {
     "name": "stdout",
     "output_type": "stream",
     "text": [
      "File aaaaaoym_s001_t000.edf was passed, passed files: 133, read files: 213\n"
     ]
    },
    {
     "name": "stderr",
     "output_type": "stream",
     "text": [
      " 25%|██████████████████████████████▏                                                                                        | 351/1383 [14:39<58:14,  3.39s/it]"
     ]
    },
    {
     "name": "stdout",
     "output_type": "stream",
     "text": [
      "File aaaaaocu_s001_t000.edf was passed, passed files: 134, read files: 214\n"
     ]
    },
    {
     "name": "stderr",
     "output_type": "stream",
     "text": [
      " 26%|██████████████████████████████▎                                                                                        | 353/1383 [14:43<48:49,  2.84s/it]"
     ]
    },
    {
     "name": "stdout",
     "output_type": "stream",
     "text": [
      "File aaaaankh_s002_t000.edf was passed, passed files: 135, read files: 215\n",
      "File aaaaaoiz_s001_t000.edf was passed, passed files: 136, read files: 215\n"
     ]
    },
    {
     "name": "stderr",
     "output_type": "stream",
     "text": [
      " 26%|██████████████████████████████▋                                                                                        | 357/1383 [14:51<43:31,  2.55s/it]"
     ]
    },
    {
     "name": "stdout",
     "output_type": "stream",
     "text": [
      "File aaaaapos_s001_t000.edf was passed, passed files: 137, read files: 217\n"
     ]
    },
    {
     "name": "stderr",
     "output_type": "stream",
     "text": [
      " 26%|██████████████████████████████▉                                                                                        | 360/1383 [14:59<44:20,  2.60s/it]"
     ]
    },
    {
     "name": "stdout",
     "output_type": "stream",
     "text": [
      "File aaaaaiuk_s002_t000.edf was passed, passed files: 138, read files: 219\n",
      "File aaaaaomg_s001_t000.edf was passed, passed files: 139, read files: 219\n"
     ]
    },
    {
     "name": "stderr",
     "output_type": "stream",
     "text": [
      " 27%|███████████████████████████████                                                                                      | 367/1383 [15:28<1:11:40,  4.23s/it]"
     ]
    },
    {
     "name": "stdout",
     "output_type": "stream",
     "text": [
      "File aaaaaixg_s002_t000.edf was passed, passed files: 140, read files: 224\n",
      "File aaaaaixl_s005_t000.edf was passed, passed files: 141, read files: 224\n"
     ]
    },
    {
     "name": "stderr",
     "output_type": "stream",
     "text": [
      " 27%|███████████████████████████████▊                                                                                       | 370/1383 [15:32<47:24,  2.81s/it]"
     ]
    },
    {
     "name": "stdout",
     "output_type": "stream",
     "text": [
      "File aaaaaojy_s001_t000.edf was passed, passed files: 142, read files: 225\n"
     ]
    },
    {
     "name": "stderr",
     "output_type": "stream",
     "text": [
      " 27%|████████████████████████████████                                                                                       | 372/1383 [15:35<40:47,  2.42s/it]"
     ]
    },
    {
     "name": "stdout",
     "output_type": "stream",
     "text": [
      "File aaaaanvx_s001_t000.edf was passed, passed files: 143, read files: 226\n"
     ]
    },
    {
     "name": "stderr",
     "output_type": "stream",
     "text": [
      " 27%|████████████████████████████████▌                                                                                      | 378/1383 [15:55<54:53,  3.28s/it]"
     ]
    },
    {
     "name": "stdout",
     "output_type": "stream",
     "text": [
      "File aaaaamnj_s003_t000.edf was passed, passed files: 144, read files: 231\n",
      "File aaaaapky_s001_t000.edf was passed, passed files: 145, read files: 231\n"
     ]
    },
    {
     "name": "stderr",
     "output_type": "stream",
     "text": [
      " 28%|████████████████████████████████▉                                                                                      | 383/1383 [16:05<43:29,  2.61s/it]"
     ]
    },
    {
     "name": "stdout",
     "output_type": "stream",
     "text": [
      "File aaaaamnx_s001_t000.edf was passed, passed files: 146, read files: 234\n"
     ]
    },
    {
     "name": "stderr",
     "output_type": "stream",
     "text": [
      " 28%|█████████████████████████████████▎                                                                                     | 387/1383 [16:17<49:14,  2.97s/it]"
     ]
    },
    {
     "name": "stdout",
     "output_type": "stream",
     "text": [
      "File aaaaapfq_s002_t000.edf was passed, passed files: 147, read files: 237\n",
      "File aaaaanep_s004_t000.edf was passed, passed files: 148, read files: 237\n"
     ]
    },
    {
     "name": "stderr",
     "output_type": "stream",
     "text": [
      " 28%|█████████████████████████████████▌                                                                                     | 390/1383 [16:21<35:27,  2.14s/it]"
     ]
    },
    {
     "name": "stdout",
     "output_type": "stream",
     "text": [
      "File aaaaalad_s002_t000.edf was passed, passed files: 149, read files: 238\n"
     ]
    },
    {
     "name": "stderr",
     "output_type": "stream",
     "text": [
      " 28%|█████████████████████████████████▋                                                                                     | 392/1383 [16:24<33:02,  2.00s/it]"
     ]
    },
    {
     "name": "stdout",
     "output_type": "stream",
     "text": [
      "File aaaaamvf_s001_t000.edf was passed, passed files: 150, read files: 239\n",
      "File aaaaancz_s001_t000.edf was passed, passed files: 151, read files: 239\n"
     ]
    },
    {
     "name": "stderr",
     "output_type": "stream",
     "text": [
      " 29%|█████████████████████████████████▉                                                                                     | 395/1383 [16:28<28:38,  1.74s/it]"
     ]
    },
    {
     "name": "stdout",
     "output_type": "stream",
     "text": [
      "File aaaaansh_s001_t000.edf was passed, passed files: 152, read files: 240\n"
     ]
    },
    {
     "name": "stderr",
     "output_type": "stream",
     "text": [
      " 29%|██████████████████████████████████▋                                                                                    | 403/1383 [16:55<54:32,  3.34s/it]"
     ]
    },
    {
     "name": "stdout",
     "output_type": "stream",
     "text": [
      "File aaaaancj_s001_t000.edf was passed, passed files: 153, read files: 247\n"
     ]
    },
    {
     "name": "stderr",
     "output_type": "stream",
     "text": [
      " 29%|██████████████████████████████████▊                                                                                    | 405/1383 [16:59<45:22,  2.78s/it]"
     ]
    },
    {
     "name": "stdout",
     "output_type": "stream",
     "text": [
      "File aaaaanzp_s001_t000.edf was passed, passed files: 154, read files: 248\n",
      "File aaaaaoxb_s001_t000.edf was passed, passed files: 155, read files: 248\n",
      "File aaaaapip_s001_t000.edf was passed, passed files: 156, read files: 248\n"
     ]
    },
    {
     "name": "stderr",
     "output_type": "stream",
     "text": [
      " 30%|███████████████████████████████████▎                                                                                   | 410/1383 [17:06<32:44,  2.02s/it]"
     ]
    },
    {
     "name": "stdout",
     "output_type": "stream",
     "text": [
      "File aaaaanse_s001_t000.edf was passed, passed files: 157, read files: 250\n"
     ]
    },
    {
     "name": "stderr",
     "output_type": "stream",
     "text": [
      " 30%|███████████████████████████████████▋                                                                                   | 415/1383 [17:20<45:53,  2.84s/it]"
     ]
    },
    {
     "name": "stdout",
     "output_type": "stream",
     "text": [
      "File aaaaamhh_s002_t000.edf was passed, passed files: 158, read files: 254\n"
     ]
    },
    {
     "name": "stderr",
     "output_type": "stream",
     "text": [
      " 30%|███████████████████████████████████▉                                                                                   | 417/1383 [17:24<40:09,  2.49s/it]"
     ]
    },
    {
     "name": "stdout",
     "output_type": "stream",
     "text": [
      "File aaaaappg_s001_t002.edf was passed, passed files: 159, read files: 255\n",
      "File aaaaaizb_s003_t000.edf was passed, passed files: 160, read files: 255\n"
     ]
    },
    {
     "name": "stderr",
     "output_type": "stream",
     "text": [
      " 30%|████████████████████████████████████▏                                                                                  | 420/1383 [17:28<31:26,  1.96s/it]"
     ]
    },
    {
     "name": "stdout",
     "output_type": "stream",
     "text": [
      "File aaaaaphv_s001_t000.edf was passed, passed files: 161, read files: 256\n"
     ]
    },
    {
     "name": "stderr",
     "output_type": "stream",
     "text": [
      " 31%|████████████████████████████████████▎                                                                                  | 422/1383 [17:32<31:10,  1.95s/it]"
     ]
    },
    {
     "name": "stdout",
     "output_type": "stream",
     "text": [
      "File aaaaanay_s002_t000.edf was passed, passed files: 162, read files: 257\n"
     ]
    },
    {
     "name": "stderr",
     "output_type": "stream",
     "text": [
      " 31%|████████████████████████████████████▌                                                                                  | 425/1383 [17:42<42:07,  2.64s/it]"
     ]
    },
    {
     "name": "stdout",
     "output_type": "stream",
     "text": [
      "File aaaaapmh_s001_t001.edf was passed, passed files: 163, read files: 259\n"
     ]
    },
    {
     "name": "stderr",
     "output_type": "stream",
     "text": [
      " 31%|████████████████████████████████████▉                                                                                  | 430/1383 [17:54<40:39,  2.56s/it]"
     ]
    },
    {
     "name": "stdout",
     "output_type": "stream",
     "text": [
      "File aaaaaojl_s002_t000.edf was passed, passed files: 164, read files: 262\n"
     ]
    },
    {
     "name": "stderr",
     "output_type": "stream",
     "text": [
      " 31%|█████████████████████████████████████▎                                                                                 | 433/1383 [18:05<51:51,  3.28s/it]"
     ]
    },
    {
     "name": "stdout",
     "output_type": "stream",
     "text": [
      "File aaaaapfm_s001_t000.edf was passed, passed files: 165, read files: 264\n",
      "File aaaaaovj_s001_t000.edf was passed, passed files: 166, read files: 264\n"
     ]
    },
    {
     "name": "stderr",
     "output_type": "stream",
     "text": [
      " 32%|█████████████████████████████████████▌                                                                                 | 436/1383 [18:13<45:32,  2.88s/it]"
     ]
    },
    {
     "name": "stdout",
     "output_type": "stream",
     "text": [
      "File aaaaapou_s001_t000.edf was passed, passed files: 167, read files: 265\n",
      "File aaaaantk_s001_t000.edf was passed, passed files: 168, read files: 265\n",
      "File aaaaamyh_s001_t002.edf was passed, passed files: 169, read files: 265\n"
     ]
    },
    {
     "name": "stderr",
     "output_type": "stream",
     "text": [
      " 32%|█████████████████████████████████████▊                                                                                 | 440/1383 [18:19<35:49,  2.28s/it]"
     ]
    },
    {
     "name": "stdout",
     "output_type": "stream",
     "text": [
      "File aaaaapfu_s001_t000.edf was passed, passed files: 170, read files: 266\n"
     ]
    },
    {
     "name": "stderr",
     "output_type": "stream",
     "text": [
      " 32%|██████████████████████████████████████                                                                                 | 442/1383 [18:23<35:21,  2.25s/it]"
     ]
    },
    {
     "name": "stdout",
     "output_type": "stream",
     "text": [
      "File aaaaandp_s001_t000.edf was passed, passed files: 171, read files: 267\n"
     ]
    },
    {
     "name": "stderr",
     "output_type": "stream",
     "text": [
      " 32%|██████████████████████████████████████▍                                                                                | 447/1383 [18:38<44:11,  2.83s/it]"
     ]
    },
    {
     "name": "stdout",
     "output_type": "stream",
     "text": [
      "File aaaaanon_s001_t000.edf was passed, passed files: 172, read files: 271\n"
     ]
    },
    {
     "name": "stderr",
     "output_type": "stream",
     "text": [
      " 32%|██████████████████████████████████████▋                                                                                | 449/1383 [18:42<38:05,  2.45s/it]"
     ]
    },
    {
     "name": "stdout",
     "output_type": "stream",
     "text": [
      "File aaaaadfx_s004_t000.edf was passed, passed files: 173, read files: 272\n"
     ]
    },
    {
     "name": "stderr",
     "output_type": "stream",
     "text": [
      " 33%|██████████████████████████████████████▉                                                                                | 452/1383 [18:49<39:31,  2.55s/it]"
     ]
    },
    {
     "name": "stdout",
     "output_type": "stream",
     "text": [
      "File aaaaamxw_s001_t000.edf was passed, passed files: 174, read files: 274\n"
     ]
    },
    {
     "name": "stderr",
     "output_type": "stream",
     "text": [
      " 33%|███████████████████████████████████████▍                                                                               | 459/1383 [19:12<52:18,  3.40s/it]"
     ]
    },
    {
     "name": "stdout",
     "output_type": "stream",
     "text": [
      "File aaaaamsu_s001_t000.edf was passed, passed files: 175, read files: 280\n"
     ]
    },
    {
     "name": "stderr",
     "output_type": "stream",
     "text": [
      " 33%|███████████████████████████████████████▋                                                                               | 461/1383 [19:16<42:24,  2.76s/it]"
     ]
    },
    {
     "name": "stdout",
     "output_type": "stream",
     "text": [
      "File aaaaanaf_s001_t000.edf was passed, passed files: 176, read files: 281\n",
      "File aaaaaoen_s003_t000.edf was passed, passed files: 177, read files: 281\n",
      "File aaaaaoep_s001_t000.edf was passed, passed files: 178, read files: 281\n"
     ]
    },
    {
     "name": "stderr",
     "output_type": "stream",
     "text": [
      " 34%|████████████████████████████████████████                                                                               | 466/1383 [19:24<32:34,  2.13s/it]"
     ]
    },
    {
     "name": "stdout",
     "output_type": "stream",
     "text": [
      "File aaaaannf_s001_t001.edf was passed, passed files: 179, read files: 283\n"
     ]
    },
    {
     "name": "stderr",
     "output_type": "stream",
     "text": [
      " 34%|████████████████████████████████████████▌                                                                              | 472/1383 [19:45<52:24,  3.45s/it]"
     ]
    },
    {
     "name": "stdout",
     "output_type": "stream",
     "text": [
      "File aaaaapkq_s001_t000.edf was passed, passed files: 180, read files: 288\n"
     ]
    },
    {
     "name": "stderr",
     "output_type": "stream",
     "text": [
      " 34%|████████████████████████████████████████▊                                                                              | 474/1383 [19:49<43:30,  2.87s/it]"
     ]
    },
    {
     "name": "stdout",
     "output_type": "stream",
     "text": [
      "File aaaaanmv_s001_t000.edf was passed, passed files: 181, read files: 289\n"
     ]
    },
    {
     "name": "stderr",
     "output_type": "stream",
     "text": [
      " 34%|████████████████████████████████████████▉                                                                              | 476/1383 [19:52<36:24,  2.41s/it]"
     ]
    },
    {
     "name": "stdout",
     "output_type": "stream",
     "text": [
      "File aaaaapms_s001_t001.edf was passed, passed files: 182, read files: 290\n",
      "File aaaaapft_s001_t000.edf was passed, passed files: 183, read files: 290\n",
      "File aaaaanrw_s001_t000.edf was passed, passed files: 184, read files: 290\n"
     ]
    },
    {
     "name": "stderr",
     "output_type": "stream",
     "text": [
      " 35%|█████████████████████████████████████████▍                                                                             | 482/1383 [20:04<36:08,  2.41s/it]"
     ]
    },
    {
     "name": "stdout",
     "output_type": "stream",
     "text": [
      "File aaaaanew_s001_t000.edf was passed, passed files: 185, read files: 293\n"
     ]
    },
    {
     "name": "stderr",
     "output_type": "stream",
     "text": [
      " 35%|█████████████████████████████████████████▋                                                                             | 484/1383 [20:07<30:18,  2.02s/it]"
     ]
    },
    {
     "name": "stdout",
     "output_type": "stream",
     "text": [
      "File aaaaaowg_s001_t000.edf was passed, passed files: 186, read files: 294\n",
      "File aaaaaowk_s001_t000.edf was passed, passed files: 187, read files: 294\n"
     ]
    },
    {
     "name": "stderr",
     "output_type": "stream",
     "text": [
      " 35%|█████████████████████████████████████████▉                                                                             | 488/1383 [20:16<33:50,  2.27s/it]"
     ]
    },
    {
     "name": "stdout",
     "output_type": "stream",
     "text": [
      "File aaaaakyz_s007_t000.edf was passed, passed files: 188, read files: 296\n"
     ]
    },
    {
     "name": "stderr",
     "output_type": "stream",
     "text": [
      " 36%|██████████████████████████████████████████▍                                                                            | 493/1383 [20:30<37:12,  2.51s/it]"
     ]
    },
    {
     "name": "stdout",
     "output_type": "stream",
     "text": [
      "File aaaaaprt_s001_t000.edf was passed, passed files: 189, read files: 299\n",
      "File aaaaapia_s001_t000.edf was passed, passed files: 190, read files: 299\n",
      "File aaaaanho_s001_t000.edf was passed, passed files: 191, read files: 299\n"
     ]
    },
    {
     "name": "stderr",
     "output_type": "stream",
     "text": [
      " 36%|███████████████████████████████████████████                                                                            | 500/1383 [20:48<42:45,  2.91s/it]"
     ]
    },
    {
     "name": "stdout",
     "output_type": "stream",
     "text": [
      "File aaaaamoq_s002_t000.edf was passed, passed files: 192, read files: 303\n"
     ]
    },
    {
     "name": "stderr",
     "output_type": "stream",
     "text": [
      " 37%|███████████████████████████████████████████▊                                                                           | 509/1383 [21:24<46:44,  3.21s/it]"
     ]
    },
    {
     "name": "stdout",
     "output_type": "stream",
     "text": [
      "File aaaaanrx_s001_t000.edf was passed, passed files: 193, read files: 310\n"
     ]
    },
    {
     "name": "stderr",
     "output_type": "stream",
     "text": [
      " 37%|███████████████████████████████████████████▉                                                                           | 510/1383 [21:28<48:56,  3.36s/it]"
     ]
    },
    {
     "name": "stdout",
     "output_type": "stream",
     "text": [
      "File aaaaaoob_s001_t000.edf was passed, passed files: 194, read files: 311\n"
     ]
    },
    {
     "name": "stderr",
     "output_type": "stream",
     "text": [
      " 37%|████████████████████████████████████████████▎                                                                          | 515/1383 [21:43<48:09,  3.33s/it]"
     ]
    },
    {
     "name": "stdout",
     "output_type": "stream",
     "text": [
      "File aaaaaond_s001_t001.edf was passed, passed files: 195, read files: 315\n"
     ]
    },
    {
     "name": "stderr",
     "output_type": "stream",
     "text": [
      " 37%|████████████████████████████████████████████▍                                                                          | 517/1383 [21:47<40:59,  2.84s/it]"
     ]
    },
    {
     "name": "stdout",
     "output_type": "stream",
     "text": [
      "File aaaaapqs_s001_t000.edf was passed, passed files: 196, read files: 316\n"
     ]
    },
    {
     "name": "stderr",
     "output_type": "stream",
     "text": [
      " 38%|████████████████████████████████████████████▋                                                                          | 520/1383 [21:55<39:25,  2.74s/it]"
     ]
    },
    {
     "name": "stdout",
     "output_type": "stream",
     "text": [
      "File aaaaamvl_s001_t000.edf was passed, passed files: 197, read files: 318\n",
      "File aaaaanax_s001_t000.edf was passed, passed files: 198, read files: 318\n",
      "File aaaaaenq_s004_t005.edf was passed, passed files: 199, read files: 318\n"
     ]
    },
    {
     "name": "stderr",
     "output_type": "stream",
     "text": [
      " 38%|█████████████████████████████████████████████▏                                                                         | 525/1383 [22:02<30:03,  2.10s/it]"
     ]
    },
    {
     "name": "stdout",
     "output_type": "stream",
     "text": [
      "File aaaaapwv_s001_t000.edf was passed, passed files: 200, read files: 320\n",
      "File aaaaanvn_s001_t001.edf was passed, passed files: 201, read files: 320\n",
      "File aaaaamvc_s003_t001.edf was passed, passed files: 202, read files: 320\n",
      "File aaaaaoyd_s001_t000.edf was passed, passed files: 203, read files: 320\n",
      "File aaaaapwx_s001_t000.edf was passed, passed files: 204, read files: 320\n"
     ]
    },
    {
     "name": "stderr",
     "output_type": "stream",
     "text": [
      " 38%|█████████████████████████████████████████████▋                                                                         | 531/1383 [22:06<17:39,  1.24s/it]"
     ]
    },
    {
     "name": "stdout",
     "output_type": "stream",
     "text": [
      "File aaaaapuv_s001_t000.edf was passed, passed files: 205, read files: 321\n"
     ]
    },
    {
     "name": "stderr",
     "output_type": "stream",
     "text": [
      " 39%|██████████████████████████████████████████████                                                                         | 535/1383 [22:18<30:02,  2.13s/it]"
     ]
    },
    {
     "name": "stdout",
     "output_type": "stream",
     "text": [
      "File aaaaappd_s001_t000.edf was passed, passed files: 206, read files: 324\n"
     ]
    },
    {
     "name": "stderr",
     "output_type": "stream",
     "text": [
      " 39%|██████████████████████████████████████████████▏                                                                        | 537/1383 [22:23<30:01,  2.13s/it]"
     ]
    },
    {
     "name": "stdout",
     "output_type": "stream",
     "text": [
      "File aaaaaogf_s001_t000.edf was passed, passed files: 207, read files: 325\n"
     ]
    },
    {
     "name": "stderr",
     "output_type": "stream",
     "text": [
      " 39%|██████████████████████████████████████████████▍                                                                        | 539/1383 [22:26<27:50,  1.98s/it]"
     ]
    },
    {
     "name": "stdout",
     "output_type": "stream",
     "text": [
      "File aaaaanyq_s001_t000.edf was passed, passed files: 208, read files: 326\n"
     ]
    },
    {
     "name": "stderr",
     "output_type": "stream",
     "text": [
      " 39%|██████████████████████████████████████████████▌                                                                        | 541/1383 [22:29<26:06,  1.86s/it]"
     ]
    },
    {
     "name": "stdout",
     "output_type": "stream",
     "text": [
      "File aaaaansy_s001_t000.edf was passed, passed files: 209, read files: 327\n",
      "File aaaaamzo_s001_t001.edf was passed, passed files: 210, read files: 327\n",
      "File aaaaaplm_s001_t000.edf was passed, passed files: 211, read files: 327\n"
     ]
    },
    {
     "name": "stderr",
     "output_type": "stream",
     "text": [
      " 40%|███████████████████████████████████████████████▎                                                                       | 550/1383 [22:51<39:43,  2.86s/it]"
     ]
    },
    {
     "name": "stdout",
     "output_type": "stream",
     "text": [
      "File aaaaaolv_s002_t000.edf was passed, passed files: 212, read files: 333\n",
      "File aaaaanyc_s003_t000.edf was passed, passed files: 213, read files: 333\n"
     ]
    },
    {
     "name": "stderr",
     "output_type": "stream",
     "text": [
      " 40%|███████████████████████████████████████████████▌                                                                       | 553/1383 [22:54<28:22,  2.05s/it]"
     ]
    },
    {
     "name": "stdout",
     "output_type": "stream",
     "text": [
      "File aaaaamzw_s001_t000.edf was passed, passed files: 214, read files: 334\n"
     ]
    },
    {
     "name": "stderr",
     "output_type": "stream",
     "text": [
      " 40%|███████████████████████████████████████████████▊                                                                       | 555/1383 [22:58<27:04,  1.96s/it]"
     ]
    },
    {
     "name": "stdout",
     "output_type": "stream",
     "text": [
      "File aaaaaoyy_s001_t000.edf was passed, passed files: 215, read files: 335\n"
     ]
    },
    {
     "name": "stderr",
     "output_type": "stream",
     "text": [
      " 40%|████████████████████████████████████████████████                                                                       | 558/1383 [23:06<33:09,  2.41s/it]"
     ]
    },
    {
     "name": "stdout",
     "output_type": "stream",
     "text": [
      "File aaaaanha_s001_t000.edf was passed, passed files: 216, read files: 337\n"
     ]
    },
    {
     "name": "stderr",
     "output_type": "stream",
     "text": [
      " 41%|████████████████████████████████████████████████▎                                                                      | 561/1383 [23:13<33:58,  2.48s/it]"
     ]
    },
    {
     "name": "stdout",
     "output_type": "stream",
     "text": [
      "File aaaaanmr_s001_t002.edf was passed, passed files: 217, read files: 339\n",
      "File aaaaanil_s001_t000.edf was passed, passed files: 218, read files: 339\n"
     ]
    },
    {
     "name": "stderr",
     "output_type": "stream",
     "text": [
      " 41%|████████████████████████████████████████████████▊                                                                      | 567/1383 [23:32<50:00,  3.68s/it]"
     ]
    },
    {
     "name": "stdout",
     "output_type": "stream",
     "text": [
      "File aaaaapqj_s001_t000.edf was passed, passed files: 219, read files: 343\n"
     ]
    },
    {
     "name": "stderr",
     "output_type": "stream",
     "text": [
      " 42%|████████████████████████████████████████████████▌                                                                    | 574/1383 [23:59<1:03:31,  4.71s/it]"
     ]
    },
    {
     "name": "stdout",
     "output_type": "stream",
     "text": [
      "File aaaaaprw_s001_t000.edf was passed, passed files: 220, read files: 349\n"
     ]
    },
    {
     "name": "stderr",
     "output_type": "stream",
     "text": [
      " 42%|█████████████████████████████████████████████████▊                                                                     | 579/1383 [24:20<56:35,  4.22s/it]"
     ]
    },
    {
     "name": "stdout",
     "output_type": "stream",
     "text": [
      "File aaaaappy_s001_t000.edf was passed, passed files: 221, read files: 353\n",
      "File aaaaapeo_s001_t000.edf was passed, passed files: 222, read files: 353\n"
     ]
    },
    {
     "name": "stderr",
     "output_type": "stream",
     "text": [
      " 42%|██████████████████████████████████████████████████▎                                                                    | 585/1383 [24:36<43:29,  3.27s/it]"
     ]
    },
    {
     "name": "stdout",
     "output_type": "stream",
     "text": [
      "File aaaaankk_s001_t000.edf was passed, passed files: 223, read files: 357\n"
     ]
    },
    {
     "name": "stderr",
     "output_type": "stream",
     "text": [
      " 42%|██████████████████████████████████████████████████▌                                                                    | 587/1383 [24:39<35:19,  2.66s/it]"
     ]
    },
    {
     "name": "stdout",
     "output_type": "stream",
     "text": [
      "File aaaaangk_s001_t000.edf was passed, passed files: 224, read files: 358\n",
      "File aaaaaofq_s002_t000.edf was passed, passed files: 225, read files: 358\n",
      "File aaaaampm_s002_t000.edf was passed, passed files: 226, read files: 358\n",
      "File aaaaapaj_s001_t000.edf was passed, passed files: 227, read files: 358\n"
     ]
    },
    {
     "name": "stderr",
     "output_type": "stream",
     "text": [
      " 43%|███████████████████████████████████████████████████                                                                    | 593/1383 [24:47<24:09,  1.84s/it]"
     ]
    },
    {
     "name": "stdout",
     "output_type": "stream",
     "text": [
      "File aaaaapqm_s001_t000.edf was passed, passed files: 228, read files: 360\n"
     ]
    },
    {
     "name": "stderr",
     "output_type": "stream",
     "text": [
      " 43%|███████████████████████████████████████████████████▏                                                                   | 595/1383 [24:50<24:05,  1.83s/it]"
     ]
    },
    {
     "name": "stdout",
     "output_type": "stream",
     "text": [
      "File aaaaapjz_s001_t000.edf was passed, passed files: 229, read files: 361\n"
     ]
    },
    {
     "name": "stderr",
     "output_type": "stream",
     "text": [
      " 43%|███████████████████████████████████████████████████▋                                                                   | 600/1383 [25:05<35:49,  2.75s/it]"
     ]
    },
    {
     "name": "stdout",
     "output_type": "stream",
     "text": [
      "File aaaaakxf_s002_t000.edf was passed, passed files: 230, read files: 365\n"
     ]
    },
    {
     "name": "stderr",
     "output_type": "stream",
     "text": [
      " 44%|███████████████████████████████████████████████████▊                                                                   | 602/1383 [25:09<31:09,  2.39s/it]"
     ]
    },
    {
     "name": "stdout",
     "output_type": "stream",
     "text": [
      "File aaaaaomr_s001_t000.edf was passed, passed files: 231, read files: 366\n"
     ]
    },
    {
     "name": "stderr",
     "output_type": "stream",
     "text": [
      " 44%|████████████████████████████████████████████████████                                                                   | 605/1383 [25:17<34:06,  2.63s/it]"
     ]
    },
    {
     "name": "stdout",
     "output_type": "stream",
     "text": [
      "File aaaaanbi_s001_t000.edf was passed, passed files: 232, read files: 368\n"
     ]
    },
    {
     "name": "stderr",
     "output_type": "stream",
     "text": [
      " 45%|█████████████████████████████████████████████████████                                                                  | 616/1383 [25:54<46:31,  3.64s/it]"
     ]
    },
    {
     "name": "stdout",
     "output_type": "stream",
     "text": [
      "File aaaaafyz_s002_t001.edf was passed, passed files: 233, read files: 378\n",
      "File aaaaamxu_s001_t000.edf was passed, passed files: 234, read files: 378\n",
      "File aaaaaoyv_s001_t000.edf was passed, passed files: 235, read files: 378\n"
     ]
    },
    {
     "name": "stderr",
     "output_type": "stream",
     "text": [
      " 45%|█████████████████████████████████████████████████████▎                                                                 | 620/1383 [25:58<24:34,  1.93s/it]"
     ]
    },
    {
     "name": "stdout",
     "output_type": "stream",
     "text": [
      "File aaaaahvi_s003_t000.edf was passed, passed files: 236, read files: 379\n"
     ]
    },
    {
     "name": "stderr",
     "output_type": "stream",
     "text": [
      " 45%|█████████████████████████████████████████████████████▌                                                                 | 622/1383 [26:02<24:48,  1.96s/it]"
     ]
    },
    {
     "name": "stdout",
     "output_type": "stream",
     "text": [
      "File aaaaapgl_s001_t000.edf was passed, passed files: 237, read files: 380\n",
      "File aaaaaflb_s005_t000.edf was passed, passed files: 238, read files: 380\n"
     ]
    },
    {
     "name": "stderr",
     "output_type": "stream",
     "text": [
      " 45%|█████████████████████████████████████████████████████▊                                                                 | 625/1383 [26:06<21:24,  1.69s/it]"
     ]
    },
    {
     "name": "stdout",
     "output_type": "stream",
     "text": [
      "File aaaaapji_s001_t000.edf was passed, passed files: 239, read files: 381\n"
     ]
    },
    {
     "name": "stderr",
     "output_type": "stream",
     "text": [
      " 45%|██████████████████████████████████████████████████████                                                                 | 629/1383 [26:17<29:54,  2.38s/it]"
     ]
    },
    {
     "name": "stdout",
     "output_type": "stream",
     "text": [
      "File aaaaaodm_s002_t000.edf was passed, passed files: 240, read files: 384\n",
      "File aaaaaopp_s001_t000.edf was passed, passed files: 241, read files: 384\n"
     ]
    },
    {
     "name": "stderr",
     "output_type": "stream",
     "text": [
      " 46%|██████████████████████████████████████████████████████▍                                                                | 632/1383 [26:21<23:51,  1.91s/it]"
     ]
    },
    {
     "name": "stdout",
     "output_type": "stream",
     "text": [
      "File aaaaaone_s001_t001.edf was passed, passed files: 242, read files: 385\n"
     ]
    },
    {
     "name": "stderr",
     "output_type": "stream",
     "text": [
      " 46%|██████████████████████████████████████████████████████▌                                                                | 634/1383 [26:25<24:12,  1.94s/it]"
     ]
    },
    {
     "name": "stdout",
     "output_type": "stream",
     "text": [
      "File aaaaapdl_s001_t000.edf was passed, passed files: 243, read files: 386\n"
     ]
    },
    {
     "name": "stderr",
     "output_type": "stream",
     "text": [
      " 46%|██████████████████████████████████████████████████████▉                                                                | 639/1383 [26:40<34:40,  2.80s/it]"
     ]
    },
    {
     "name": "stdout",
     "output_type": "stream",
     "text": [
      "File aaaaadel_s004_t000.edf was passed, passed files: 244, read files: 390\n",
      "File aaaaaqap_s001_t000.edf was passed, passed files: 245, read files: 390\n"
     ]
    },
    {
     "name": "stderr",
     "output_type": "stream",
     "text": [
      " 46%|███████████████████████████████████████████████████████▎                                                               | 643/1383 [26:47<28:34,  2.32s/it]"
     ]
    },
    {
     "name": "stdout",
     "output_type": "stream",
     "text": [
      "File aaaaanyc_s002_t000.edf was passed, passed files: 246, read files: 392\n"
     ]
    },
    {
     "name": "stderr",
     "output_type": "stream",
     "text": [
      " 47%|███████████████████████████████████████████████████████▌                                                               | 646/1383 [26:55<31:02,  2.53s/it]"
     ]
    },
    {
     "name": "stdout",
     "output_type": "stream",
     "text": [
      "File aaaaaoqv_s002_t000.edf was passed, passed files: 247, read files: 394\n"
     ]
    },
    {
     "name": "stderr",
     "output_type": "stream",
     "text": [
      " 47%|███████████████████████████████████████████████████████▊                                                               | 648/1383 [26:59<28:39,  2.34s/it]"
     ]
    },
    {
     "name": "stdout",
     "output_type": "stream",
     "text": [
      "File aaaaapvt_s001_t000.edf was passed, passed files: 248, read files: 395\n",
      "File aaaaaoes_s001_t000.edf was passed, passed files: 249, read files: 395\n"
     ]
    },
    {
     "name": "stderr",
     "output_type": "stream",
     "text": [
      " 47%|████████████████████████████████████████████████████████▍                                                              | 656/1383 [27:21<38:22,  3.17s/it]"
     ]
    },
    {
     "name": "stdout",
     "output_type": "stream",
     "text": [
      "File aaaaapsa_s001_t000.edf was passed, passed files: 250, read files: 401\n"
     ]
    },
    {
     "name": "stderr",
     "output_type": "stream",
     "text": [
      " 48%|████████████████████████████████████████████████████████▊                                                              | 660/1383 [27:33<37:25,  3.11s/it]"
     ]
    },
    {
     "name": "stdout",
     "output_type": "stream",
     "text": [
      "File aaaaaodb_s001_t000.edf was passed, passed files: 251, read files: 404\n",
      "File aaaaacbz_s002_t000.edf was passed, passed files: 252, read files: 404\n",
      "File aaaaapmg_s001_t000.edf was passed, passed files: 253, read files: 404\n",
      "File aaaaapmu_s001_t000.edf was passed, passed files: 254, read files: 404\n"
     ]
    },
    {
     "name": "stderr",
     "output_type": "stream",
     "text": [
      " 49%|█████████████████████████████████████████████████████████▊                                                             | 672/1383 [28:08<48:53,  4.13s/it]"
     ]
    },
    {
     "name": "stdout",
     "output_type": "stream",
     "text": [
      "File aaaaaaff_s002_t000.edf was passed, passed files: 255, read files: 412\n",
      "File aaaaanpe_s001_t001.edf was passed, passed files: 256, read files: 412\n"
     ]
    },
    {
     "name": "stderr",
     "output_type": "stream",
     "text": [
      " 49%|██████████████████████████████████████████████████████████                                                             | 675/1383 [28:11<28:59,  2.46s/it]"
     ]
    },
    {
     "name": "stdout",
     "output_type": "stream",
     "text": [
      "File aaaaanqu_s001_t000.edf was passed, passed files: 257, read files: 413\n"
     ]
    },
    {
     "name": "stderr",
     "output_type": "stream",
     "text": [
      " 49%|██████████████████████████████████████████████████████████▎                                                            | 677/1383 [28:14<26:09,  2.22s/it]"
     ]
    },
    {
     "name": "stdout",
     "output_type": "stream",
     "text": [
      "File aaaaanbc_s001_t000.edf was passed, passed files: 258, read files: 414\n"
     ]
    },
    {
     "name": "stderr",
     "output_type": "stream",
     "text": [
      " 49%|██████████████████████████████████████████████████████████▊                                                            | 684/1383 [28:45<50:26,  4.33s/it]"
     ]
    },
    {
     "name": "stdout",
     "output_type": "stream",
     "text": [
      "File aaaaapye_s001_t000.edf was passed, passed files: 259, read files: 420\n",
      "File aaaaaoci_s001_t000.edf was passed, passed files: 260, read files: 420\n"
     ]
    },
    {
     "name": "stderr",
     "output_type": "stream",
     "text": [
      " 50%|███████████████████████████████████████████████████████████                                                            | 687/1383 [28:49<30:57,  2.67s/it]"
     ]
    },
    {
     "name": "stdout",
     "output_type": "stream",
     "text": [
      "File aaaaangl_s001_t000.edf was passed, passed files: 261, read files: 421\n"
     ]
    },
    {
     "name": "stderr",
     "output_type": "stream",
     "text": [
      " 50%|███████████████████████████████████████████████████████████▎                                                           | 689/1383 [28:52<27:34,  2.38s/it]"
     ]
    },
    {
     "name": "stdout",
     "output_type": "stream",
     "text": [
      "File aaaaaocl_s002_t000.edf was passed, passed files: 262, read files: 422\n",
      "File aaaaapna_s001_t000.edf was passed, passed files: 263, read files: 422\n"
     ]
    },
    {
     "name": "stderr",
     "output_type": "stream",
     "text": [
      " 50%|███████████████████████████████████████████████████████████▌                                                           | 692/1383 [28:56<21:48,  1.89s/it]"
     ]
    },
    {
     "name": "stdout",
     "output_type": "stream",
     "text": [
      "File aaaaaplw_s001_t000.edf was passed, passed files: 264, read files: 423\n"
     ]
    },
    {
     "name": "stderr",
     "output_type": "stream",
     "text": [
      " 50%|███████████████████████████████████████████████████████████▉                                                           | 697/1383 [29:10<30:02,  2.63s/it]"
     ]
    },
    {
     "name": "stdout",
     "output_type": "stream",
     "text": [
      "File aaaaantb_s001_t000.edf was passed, passed files: 265, read files: 427\n"
     ]
    },
    {
     "name": "stderr",
     "output_type": "stream",
     "text": [
      " 51%|████████████████████████████████████████████████████████████▏                                                          | 700/1383 [29:17<29:43,  2.61s/it]"
     ]
    },
    {
     "name": "stdout",
     "output_type": "stream",
     "text": [
      "File aaaaandl_s001_t001.edf was passed, passed files: 266, read files: 429\n",
      "File aaaaanwe_s002_t000.edf was passed, passed files: 267, read files: 429\n",
      "File aaaaaogq_s001_t000.edf was passed, passed files: 268, read files: 429\n"
     ]
    },
    {
     "name": "stderr",
     "output_type": "stream",
     "text": [
      " 51%|████████████████████████████████████████████████████████████▋                                                          | 706/1383 [29:29<27:03,  2.40s/it]"
     ]
    },
    {
     "name": "stdout",
     "output_type": "stream",
     "text": [
      "File aaaaaoye_s001_t001.edf was passed, passed files: 269, read files: 432\n"
     ]
    },
    {
     "name": "stderr",
     "output_type": "stream",
     "text": [
      " 52%|█████████████████████████████████████████████████████████████▎                                                         | 713/1383 [29:52<38:22,  3.44s/it]"
     ]
    },
    {
     "name": "stdout",
     "output_type": "stream",
     "text": [
      "File aaaaapju_s001_t000.edf was passed, passed files: 270, read files: 438\n",
      "File aaaaapme_s001_t001.edf was passed, passed files: 271, read files: 438\n",
      "File aaaaaner_s001_t000.edf was passed, passed files: 272, read files: 438\n",
      "File aaaaaoff_s001_t000.edf was passed, passed files: 273, read files: 438\n",
      "File aaaaaoeo_s001_t000.edf was passed, passed files: 274, read files: 438\n"
     ]
    },
    {
     "name": "stderr",
     "output_type": "stream",
     "text": [
      " 52%|█████████████████████████████████████████████████████████████▊                                                         | 719/1383 [29:55<15:49,  1.43s/it]"
     ]
    },
    {
     "name": "stdout",
     "output_type": "stream",
     "text": [
      "File aaaaapen_s001_t000.edf was passed, passed files: 275, read files: 439\n",
      "File aaaaaeph_s005_t000.edf was passed, passed files: 276, read files: 439\n",
      "File aaaaapnq_s001_t001.edf was passed, passed files: 277, read files: 439\n"
     ]
    },
    {
     "name": "stderr",
     "output_type": "stream",
     "text": [
      " 52%|██████████████████████████████████████████████████████████████▍                                                        | 725/1383 [30:07<21:22,  1.95s/it]"
     ]
    },
    {
     "name": "stdout",
     "output_type": "stream",
     "text": [
      "File aaaaaobv_s001_t000.edf was passed, passed files: 278, read files: 442\n"
     ]
    },
    {
     "name": "stderr",
     "output_type": "stream",
     "text": [
      " 53%|██████████████████████████████████████████████████████████████▋                                                        | 729/1383 [30:18<27:39,  2.54s/it]"
     ]
    },
    {
     "name": "stdout",
     "output_type": "stream",
     "text": [
      "File aaaaagzp_s002_t000.edf was passed, passed files: 279, read files: 445\n"
     ]
    },
    {
     "name": "stderr",
     "output_type": "stream",
     "text": [
      " 53%|███████████████████████████████████████████████████████████████▌                                                       | 739/1383 [30:50<33:48,  3.15s/it]"
     ]
    },
    {
     "name": "stdout",
     "output_type": "stream",
     "text": [
      "File aaaaapkr_s001_t000.edf was passed, passed files: 280, read files: 454\n"
     ]
    },
    {
     "name": "stderr",
     "output_type": "stream",
     "text": [
      " 54%|███████████████████████████████████████████████████████████████▊                                                       | 741/1383 [30:57<35:47,  3.34s/it]"
     ]
    },
    {
     "name": "stdout",
     "output_type": "stream",
     "text": [
      "File aaaaanfh_s001_t000.edf was passed, passed files: 281, read files: 455\n",
      "File aaaaaohv_s001_t000.edf was passed, passed files: 282, read files: 455\n"
     ]
    },
    {
     "name": "stderr",
     "output_type": "stream",
     "text": [
      " 54%|████████████████████████████████████████████████████████████████                                                       | 744/1383 [31:01<25:51,  2.43s/it]"
     ]
    },
    {
     "name": "stdout",
     "output_type": "stream",
     "text": [
      "File aaaaanev_s001_t000.edf was passed, passed files: 283, read files: 456\n"
     ]
    },
    {
     "name": "stderr",
     "output_type": "stream",
     "text": [
      " 54%|████████████████████████████████████████████████████████████████▏                                                      | 746/1383 [31:05<23:26,  2.21s/it]"
     ]
    },
    {
     "name": "stdout",
     "output_type": "stream",
     "text": [
      "File aaaaapva_s001_t000.edf was passed, passed files: 284, read files: 457\n"
     ]
    },
    {
     "name": "stderr",
     "output_type": "stream",
     "text": [
      " 54%|████████████████████████████████████████████████████████████████▍                                                      | 749/1383 [31:12<25:32,  2.42s/it]"
     ]
    },
    {
     "name": "stdout",
     "output_type": "stream",
     "text": [
      "File aaaaapoi_s001_t000.edf was passed, passed files: 285, read files: 459\n"
     ]
    },
    {
     "name": "stderr",
     "output_type": "stream",
     "text": [
      " 55%|████████████████████████████████████████████████████████████████▉                                                      | 755/1383 [31:41<47:40,  4.56s/it]"
     ]
    },
    {
     "name": "stdout",
     "output_type": "stream",
     "text": [
      "File aaaaapql_s001_t000.edf was passed, passed files: 286, read files: 464\n"
     ]
    },
    {
     "name": "stderr",
     "output_type": "stream",
     "text": [
      " 55%|█████████████████████████████████████████████████████████████████▏                                                     | 757/1383 [31:45<36:01,  3.45s/it]"
     ]
    },
    {
     "name": "stdout",
     "output_type": "stream",
     "text": [
      "File aaaaakyn_s002_t000.edf was passed, passed files: 287, read files: 465\n",
      "File aaaaafwl_s003_t000.edf was passed, passed files: 288, read files: 465\n"
     ]
    },
    {
     "name": "stderr",
     "output_type": "stream",
     "text": [
      " 55%|█████████████████████████████████████████████████████████████████▍                                                     | 760/1383 [31:48<24:48,  2.39s/it]"
     ]
    },
    {
     "name": "stdout",
     "output_type": "stream",
     "text": [
      "File aaaaanmi_s001_t000.edf was passed, passed files: 289, read files: 466\n",
      "File aaaaamth_s002_t000.edf was passed, passed files: 290, read files: 466\n",
      "File aaaaaonc_s001_t002.edf was passed, passed files: 291, read files: 466\n"
     ]
    },
    {
     "name": "stderr",
     "output_type": "stream",
     "text": [
      " 55%|█████████████████████████████████████████████████████████████████▋                                                     | 764/1383 [31:52<17:52,  1.73s/it]"
     ]
    },
    {
     "name": "stdout",
     "output_type": "stream",
     "text": [
      "File aaaaapnu_s001_t000.edf was passed, passed files: 292, read files: 467\n",
      "File aaaaapkc_s001_t000.edf was passed, passed files: 293, read files: 467\n"
     ]
    },
    {
     "name": "stderr",
     "output_type": "stream",
     "text": [
      " 55%|█████████████████████████████████████████████████████████████████▉                                                     | 767/1383 [31:56<16:05,  1.57s/it]"
     ]
    },
    {
     "name": "stdout",
     "output_type": "stream",
     "text": [
      "File aaaaannz_s001_t000.edf was passed, passed files: 294, read files: 468\n"
     ]
    },
    {
     "name": "stderr",
     "output_type": "stream",
     "text": [
      " 56%|██████████████████████████████████████████████████████████████████▎                                                    | 771/1383 [32:07<23:05,  2.26s/it]"
     ]
    },
    {
     "name": "stdout",
     "output_type": "stream",
     "text": [
      "File aaaaanaw_s001_t000.edf was passed, passed files: 295, read files: 471\n"
     ]
    },
    {
     "name": "stderr",
     "output_type": "stream",
     "text": [
      " 56%|██████████████████████████████████████████████████████████████████▌                                                    | 773/1383 [32:11<21:30,  2.12s/it]"
     ]
    },
    {
     "name": "stdout",
     "output_type": "stream",
     "text": [
      "File aaaaaohg_s001_t001.edf was passed, passed files: 296, read files: 472\n"
     ]
    },
    {
     "name": "stderr",
     "output_type": "stream",
     "text": [
      " 56%|██████████████████████████████████████████████████████████████████▊                                                    | 777/1383 [32:23<27:22,  2.71s/it]"
     ]
    },
    {
     "name": "stdout",
     "output_type": "stream",
     "text": [
      "File aaaaangi_s001_t000.edf was passed, passed files: 297, read files: 475\n"
     ]
    },
    {
     "name": "stderr",
     "output_type": "stream",
     "text": [
      " 56%|███████████████████████████████████████████████████████████████████                                                    | 779/1383 [32:26<24:14,  2.41s/it]"
     ]
    },
    {
     "name": "stdout",
     "output_type": "stream",
     "text": [
      "File aaaaaeqq_s004_t000.edf was passed, passed files: 298, read files: 476\n",
      "File aaaaapws_s001_t000.edf was passed, passed files: 299, read files: 476\n"
     ]
    },
    {
     "name": "stderr",
     "output_type": "stream",
     "text": [
      " 57%|███████████████████████████████████████████████████████████████████▎                                                   | 782/1383 [32:30<18:51,  1.88s/it]"
     ]
    },
    {
     "name": "stdout",
     "output_type": "stream",
     "text": [
      "File aaaaapif_s001_t000.edf was passed, passed files: 300, read files: 477\n",
      "File aaaaaplu_s001_t001.edf was passed, passed files: 301, read files: 477\n"
     ]
    },
    {
     "name": "stderr",
     "output_type": "stream",
     "text": [
      " 57%|████████████████████████████████████████████████████████████████████                                                   | 791/1383 [32:56<32:14,  3.27s/it]"
     ]
    },
    {
     "name": "stdout",
     "output_type": "stream",
     "text": [
      "File aaaaamys_s001_t000.edf was passed, passed files: 302, read files: 484\n",
      "File aaaaanlu_s002_t000.edf was passed, passed files: 303, read files: 484\n"
     ]
    },
    {
     "name": "stderr",
     "output_type": "stream",
     "text": [
      " 57%|████████████████████████████████████████████████████████████████████▍                                                  | 795/1383 [33:00<18:03,  1.84s/it]"
     ]
    },
    {
     "name": "stdout",
     "output_type": "stream",
     "text": [
      "File aaaaamvc_s002_t000.edf was passed, passed files: 304, read files: 485\n"
     ]
    },
    {
     "name": "stderr",
     "output_type": "stream",
     "text": [
      " 58%|████████████████████████████████████████████████████████████████████▌                                                  | 797/1383 [33:04<18:26,  1.89s/it]"
     ]
    },
    {
     "name": "stdout",
     "output_type": "stream",
     "text": [
      "File aaaaalwb_s003_t000.edf was passed, passed files: 305, read files: 486\n"
     ]
    },
    {
     "name": "stderr",
     "output_type": "stream",
     "text": [
      " 58%|█████████████████████████████████████████████████████████████████████                                                  | 802/1383 [33:19<27:04,  2.80s/it]"
     ]
    },
    {
     "name": "stdout",
     "output_type": "stream",
     "text": [
      "File aaaaamrf_s001_t000.edf was passed, passed files: 306, read files: 490\n"
     ]
    },
    {
     "name": "stderr",
     "output_type": "stream",
     "text": [
      " 58%|█████████████████████████████████████████████████████████████████████▍                                                 | 807/1383 [33:33<29:39,  3.09s/it]"
     ]
    },
    {
     "name": "stdout",
     "output_type": "stream",
     "text": [
      "File aaaaamxc_s001_t000.edf was passed, passed files: 307, read files: 494\n",
      "File aaaaaptk_s001_t000.edf was passed, passed files: 308, read files: 494\n"
     ]
    },
    {
     "name": "stderr",
     "output_type": "stream",
     "text": [
      " 59%|██████████████████████████████████████████████████████████████████████▏                                                | 815/1383 [34:01<37:27,  3.96s/it]"
     ]
    },
    {
     "name": "stdout",
     "output_type": "stream",
     "text": [
      "File aaaaanix_s001_t000.edf was passed, passed files: 309, read files: 500\n"
     ]
    },
    {
     "name": "stderr",
     "output_type": "stream",
     "text": [
      " 59%|██████████████████████████████████████████████████████████████████████▎                                                | 817/1383 [34:05<29:05,  3.08s/it]"
     ]
    },
    {
     "name": "stdout",
     "output_type": "stream",
     "text": [
      "File aaaaapyi_s001_t000.edf was passed, passed files: 310, read files: 501\n"
     ]
    },
    {
     "name": "stderr",
     "output_type": "stream",
     "text": [
      " 59%|██████████████████████████████████████████████████████████████████████▍                                                | 819/1383 [34:09<25:38,  2.73s/it]"
     ]
    },
    {
     "name": "stdout",
     "output_type": "stream",
     "text": [
      "File aaaaambs_s003_t000.edf was passed, passed files: 311, read files: 502\n",
      "File aaaaaomm_s001_t000.edf was passed, passed files: 312, read files: 502\n"
     ]
    },
    {
     "name": "stderr",
     "output_type": "stream",
     "text": [
      " 59%|██████████████████████████████████████████████████████████████████████▋                                                | 822/1383 [34:13<19:07,  2.04s/it]"
     ]
    },
    {
     "name": "stdout",
     "output_type": "stream",
     "text": [
      "File aaaaapnb_s001_t001.edf was passed, passed files: 313, read files: 503\n"
     ]
    },
    {
     "name": "stderr",
     "output_type": "stream",
     "text": [
      " 60%|██████████████████████████████████████████████████████████████████████▉                                                | 824/1383 [34:20<23:37,  2.54s/it]"
     ]
    },
    {
     "name": "stdout",
     "output_type": "stream",
     "text": [
      "File aaaaampm_s001_t000.edf was passed, passed files: 314, read files: 504\n"
     ]
    },
    {
     "name": "stderr",
     "output_type": "stream",
     "text": [
      " 60%|███████████████████████████████████████████████████████████████████████                                                | 826/1383 [34:27<26:54,  2.90s/it]"
     ]
    },
    {
     "name": "stdout",
     "output_type": "stream",
     "text": [
      "File aaaaaorv_s001_t000.edf was passed, passed files: 315, read files: 505\n"
     ]
    },
    {
     "name": "stderr",
     "output_type": "stream",
     "text": [
      " 60%|███████████████████████████████████████████████████████████████████████▍                                               | 830/1383 [34:39<27:59,  3.04s/it]"
     ]
    },
    {
     "name": "stdout",
     "output_type": "stream",
     "text": [
      "File aaaaakce_s002_t002.edf was passed, passed files: 316, read files: 508\n",
      "File aaaaakzx_s003_t001.edf was passed, passed files: 317, read files: 508\n"
     ]
    },
    {
     "name": "stderr",
     "output_type": "stream",
     "text": [
      " 60%|███████████████████████████████████████████████████████████████████████▋                                               | 833/1383 [34:43<20:01,  2.18s/it]"
     ]
    },
    {
     "name": "stdout",
     "output_type": "stream",
     "text": [
      "File aaaaapnf_s001_t001.edf was passed, passed files: 318, read files: 509\n",
      "File aaaaamsw_s002_t000.edf was passed, passed files: 319, read files: 509\n"
     ]
    },
    {
     "name": "stderr",
     "output_type": "stream",
     "text": [
      " 61%|████████████████████████████████████████████████████████████████████████▎                                              | 840/1383 [35:02<27:23,  3.03s/it]"
     ]
    },
    {
     "name": "stdout",
     "output_type": "stream",
     "text": [
      "File aaaaanvi_s001_t000.edf was passed, passed files: 320, read files: 514\n"
     ]
    },
    {
     "name": "stderr",
     "output_type": "stream",
     "text": [
      " 61%|████████████████████████████████████████████████████████████████████████▌                                              | 843/1383 [35:09<24:51,  2.76s/it]"
     ]
    },
    {
     "name": "stdout",
     "output_type": "stream",
     "text": [
      "File aaaaaokd_s002_t000.edf was passed, passed files: 321, read files: 516\n"
     ]
    },
    {
     "name": "stderr",
     "output_type": "stream",
     "text": [
      " 61%|████████████████████████████████████████████████████████████████████████▋                                              | 845/1383 [35:13<21:22,  2.38s/it]"
     ]
    },
    {
     "name": "stdout",
     "output_type": "stream",
     "text": [
      "File aaaaadvk_s003_t000.edf was passed, passed files: 322, read files: 517\n"
     ]
    },
    {
     "name": "stderr",
     "output_type": "stream",
     "text": [
      " 61%|█████████████████████████████████████████████████████████████████████████▏                                             | 850/1383 [35:27<26:08,  2.94s/it]"
     ]
    },
    {
     "name": "stdout",
     "output_type": "stream",
     "text": [
      "File aaaaalvg_s002_t000.edf was passed, passed files: 323, read files: 521\n"
     ]
    },
    {
     "name": "stderr",
     "output_type": "stream",
     "text": [
      " 62%|█████████████████████████████████████████████████████████████████████████▎                                             | 852/1383 [35:31<21:14,  2.40s/it]"
     ]
    },
    {
     "name": "stdout",
     "output_type": "stream",
     "text": [
      "File aaaaancs_s001_t000.edf was passed, passed files: 324, read files: 522\n"
     ]
    },
    {
     "name": "stderr",
     "output_type": "stream",
     "text": [
      " 62%|█████████████████████████████████████████████████████████████████████████▊                                             | 858/1383 [35:49<28:05,  3.21s/it]"
     ]
    },
    {
     "name": "stdout",
     "output_type": "stream",
     "text": [
      "File aaaaapsv_s001_t000.edf was passed, passed files: 325, read files: 527\n"
     ]
    },
    {
     "name": "stderr",
     "output_type": "stream",
     "text": [
      " 62%|██████████████████████████████████████████████████████████████████████████                                             | 861/1383 [35:57<24:44,  2.84s/it]"
     ]
    },
    {
     "name": "stdout",
     "output_type": "stream",
     "text": [
      "File aaaaaosa_s001_t000.edf was passed, passed files: 326, read files: 529\n",
      "File aaaaaofi_s001_t000.edf was passed, passed files: 327, read files: 529\n",
      "File aaaaamtx_s001_t000.edf was passed, passed files: 328, read files: 529\n",
      "File aaaaaomk_s001_t000.edf was passed, passed files: 329, read files: 529\n"
     ]
    },
    {
     "name": "stderr",
     "output_type": "stream",
     "text": [
      " 63%|██████████████████████████████████████████████████████████████████████████▌                                            | 866/1383 [36:00<13:08,  1.53s/it]"
     ]
    },
    {
     "name": "stdout",
     "output_type": "stream",
     "text": [
      "File aaaaapfp_s001_t000.edf was passed, passed files: 330, read files: 530\n"
     ]
    },
    {
     "name": "stderr",
     "output_type": "stream",
     "text": [
      " 63%|██████████████████████████████████████████████████████████████████████████▋                                            | 868/1383 [36:04<14:02,  1.64s/it]"
     ]
    },
    {
     "name": "stdout",
     "output_type": "stream",
     "text": [
      "File aaaaapqn_s001_t000.edf was passed, passed files: 331, read files: 531\n",
      "File aaaaaphz_s001_t000.edf was passed, passed files: 332, read files: 531\n",
      "File aaaaanom_s001_t000.edf was passed, passed files: 333, read files: 531\n",
      "File aaaaanfk_s001_t000.edf was passed, passed files: 334, read files: 531\n",
      "File aaaaappw_s001_t001.edf was passed, passed files: 335, read files: 531\n",
      "File aaaaapzu_s001_t000.edf was passed, passed files: 336, read files: 531\n"
     ]
    },
    {
     "name": "stderr",
     "output_type": "stream",
     "text": [
      " 63%|███████████████████████████████████████████████████████████████████████████▌                                           | 878/1383 [36:20<17:25,  2.07s/it]"
     ]
    },
    {
     "name": "stdout",
     "output_type": "stream",
     "text": [
      "File aaaaanqf_s001_t000.edf was passed, passed files: 337, read files: 535\n",
      "File aaaaandc_s001_t000.edf was passed, passed files: 338, read files: 535\n"
     ]
    },
    {
     "name": "stderr",
     "output_type": "stream",
     "text": [
      " 64%|███████████████████████████████████████████████████████████████████████████▊                                           | 881/1383 [36:24<14:37,  1.75s/it]"
     ]
    },
    {
     "name": "stdout",
     "output_type": "stream",
     "text": [
      "File aaaaacpm_s002_t002.edf was passed, passed files: 339, read files: 536\n"
     ]
    },
    {
     "name": "stderr",
     "output_type": "stream",
     "text": [
      " 64%|████████████████████████████████████████████████████████████████████████████▏                                          | 886/1383 [36:45<25:49,  3.12s/it]"
     ]
    },
    {
     "name": "stdout",
     "output_type": "stream",
     "text": [
      "File aaaaapto_s001_t000.edf was passed, passed files: 340, read files: 540\n"
     ]
    },
    {
     "name": "stderr",
     "output_type": "stream",
     "text": [
      " 64%|████████████████████████████████████████████████████████████████████████████▍                                          | 889/1383 [36:52<22:43,  2.76s/it]"
     ]
    },
    {
     "name": "stdout",
     "output_type": "stream",
     "text": [
      "File aaaaaomo_s001_t000.edf was passed, passed files: 341, read files: 542\n",
      "File aaaaaaav_s004_t000.edf was passed, passed files: 342, read files: 542\n"
     ]
    },
    {
     "name": "stderr",
     "output_type": "stream",
     "text": [
      " 64%|████████████████████████████████████████████████████████████████████████████▊                                          | 892/1383 [36:56<16:40,  2.04s/it]"
     ]
    },
    {
     "name": "stdout",
     "output_type": "stream",
     "text": [
      "File aaaaaqaq_s001_t000.edf was passed, passed files: 343, read files: 543\n"
     ]
    },
    {
     "name": "stderr",
     "output_type": "stream",
     "text": [
      " 65%|████████████████████████████████████████████████████████████████████████████▉                                          | 894/1383 [36:59<16:12,  1.99s/it]"
     ]
    },
    {
     "name": "stdout",
     "output_type": "stream",
     "text": [
      "File aaaaaohh_s002_t000.edf was passed, passed files: 344, read files: 544\n"
     ]
    },
    {
     "name": "stderr",
     "output_type": "stream",
     "text": [
      " 65%|█████████████████████████████████████████████████████████████████████████████                                          | 896/1383 [37:04<16:18,  2.01s/it]"
     ]
    },
    {
     "name": "stdout",
     "output_type": "stream",
     "text": [
      "File aaaaapqz_s001_t000.edf was passed, passed files: 345, read files: 545\n",
      "File aaaaansu_s002_t000.edf was passed, passed files: 346, read files: 545\n"
     ]
    },
    {
     "name": "stderr",
     "output_type": "stream",
     "text": [
      " 65%|█████████████████████████████████████████████████████████████████████████████▎                                         | 899/1383 [37:12<18:22,  2.28s/it]"
     ]
    },
    {
     "name": "stdout",
     "output_type": "stream",
     "text": [
      "File aaaaacag_s002_t000.edf was passed, passed files: 347, read files: 546\n"
     ]
    },
    {
     "name": "stderr",
     "output_type": "stream",
     "text": [
      " 65%|█████████████████████████████████████████████████████████████████████████████▌                                         | 901/1383 [37:15<16:56,  2.11s/it]"
     ]
    },
    {
     "name": "stdout",
     "output_type": "stream",
     "text": [
      "File aaaaanuu_s001_t000.edf was passed, passed files: 348, read files: 547\n",
      "File aaaaaicc_s003_t000.edf was passed, passed files: 349, read files: 547\n"
     ]
    },
    {
     "name": "stderr",
     "output_type": "stream",
     "text": [
      " 66%|█████████████████████████████████████████████████████████████████████████████▉                                         | 906/1383 [37:25<18:13,  2.29s/it]"
     ]
    },
    {
     "name": "stdout",
     "output_type": "stream",
     "text": [
      "File aaaaapus_s001_t000.edf was passed, passed files: 350, read files: 550\n",
      "File aaaaabhm_s010_t001.edf was passed, passed files: 351, read files: 550\n"
     ]
    },
    {
     "name": "stderr",
     "output_type": "stream",
     "text": [
      " 66%|██████████████████████████████████████████████████████████████████████████████▏                                        | 909/1383 [37:29<14:22,  1.82s/it]"
     ]
    },
    {
     "name": "stdout",
     "output_type": "stream",
     "text": [
      "File aaaaansb_s001_t000.edf was passed, passed files: 352, read files: 551\n"
     ]
    },
    {
     "name": "stderr",
     "output_type": "stream",
     "text": [
      " 66%|██████████████████████████████████████████████████████████████████████████████▋                                        | 915/1383 [37:47<22:14,  2.85s/it]"
     ]
    },
    {
     "name": "stdout",
     "output_type": "stream",
     "text": [
      "File aaaaafyi_s005_t000.edf was passed, passed files: 353, read files: 556\n"
     ]
    },
    {
     "name": "stderr",
     "output_type": "stream",
     "text": [
      " 67%|███████████████████████████████████████████████████████████████████████████████▌                                       | 924/1383 [38:16<26:28,  3.46s/it]"
     ]
    },
    {
     "name": "stdout",
     "output_type": "stream",
     "text": [
      "File aaaaanzv_s001_t000.edf was passed, passed files: 354, read files: 564\n"
     ]
    },
    {
     "name": "stderr",
     "output_type": "stream",
     "text": [
      " 67%|███████████████████████████████████████████████████████████████████████████████▋                                       | 926/1383 [38:22<24:09,  3.17s/it]"
     ]
    },
    {
     "name": "stdout",
     "output_type": "stream",
     "text": [
      "File aaaaakne_s003_t001.edf was passed, passed files: 355, read files: 565\n"
     ]
    },
    {
     "name": "stderr",
     "output_type": "stream",
     "text": [
      " 67%|████████████████████████████████████████████████████████████████████████████████▏                                      | 932/1383 [38:39<23:17,  3.10s/it]"
     ]
    },
    {
     "name": "stdout",
     "output_type": "stream",
     "text": [
      "File aaaaakyz_s003_t000.edf was passed, passed files: 356, read files: 570\n",
      "File aaaaaoil_s001_t000.edf was passed, passed files: 357, read files: 570\n",
      "File aaaaapum_s001_t000.edf was passed, passed files: 358, read files: 570\n",
      "File aaaaapoe_s001_t000.edf was passed, passed files: 359, read files: 570\n",
      "File aaaaamth_s001_t000.edf was passed, passed files: 360, read files: 570\n"
     ]
    },
    {
     "name": "stderr",
     "output_type": "stream",
     "text": [
      " 68%|████████████████████████████████████████████████████████████████████████████████▉                                      | 940/1383 [38:47<11:32,  1.56s/it]"
     ]
    },
    {
     "name": "stdout",
     "output_type": "stream",
     "text": [
      "File aaaaapqx_s001_t000.edf was passed, passed files: 361, read files: 572\n",
      "File aaaaanfb_s001_t000.edf was passed, passed files: 362, read files: 572\n",
      "File aaaaapel_s001_t000.edf was passed, passed files: 363, read files: 572\n",
      "File aaaaansv_s001_t001.edf was passed, passed files: 364, read files: 572\n"
     ]
    },
    {
     "name": "stderr",
     "output_type": "stream",
     "text": [
      " 68%|█████████████████████████████████████████████████████████████████████████████████▍                                     | 947/1383 [39:06<18:29,  2.54s/it]"
     ]
    },
    {
     "name": "stdout",
     "output_type": "stream",
     "text": [
      "File aaaaango_s001_t000.edf was passed, passed files: 365, read files: 575\n",
      "File aaaaaoni_s001_t001.edf was passed, passed files: 366, read files: 575\n"
     ]
    },
    {
     "name": "stderr",
     "output_type": "stream",
     "text": [
      " 69%|█████████████████████████████████████████████████████████████████████████████████▉                                     | 952/1383 [39:16<16:58,  2.36s/it]"
     ]
    },
    {
     "name": "stdout",
     "output_type": "stream",
     "text": [
      "File aaaaamrx_s002_t000.edf was passed, passed files: 367, read files: 578\n"
     ]
    },
    {
     "name": "stderr",
     "output_type": "stream",
     "text": [
      " 69%|██████████████████████████████████████████████████████████████████████████████████                                     | 954/1383 [39:20<15:30,  2.17s/it]"
     ]
    },
    {
     "name": "stdout",
     "output_type": "stream",
     "text": [
      "File aaaaamwx_s001_t000.edf was passed, passed files: 368, read files: 579\n"
     ]
    },
    {
     "name": "stderr",
     "output_type": "stream",
     "text": [
      " 69%|██████████████████████████████████████████████████████████████████████████████████▌                                    | 959/1383 [39:31<17:19,  2.45s/it]"
     ]
    },
    {
     "name": "stdout",
     "output_type": "stream",
     "text": [
      "File aaaaapcg_s001_t000.edf was passed, passed files: 369, read files: 582\n"
     ]
    },
    {
     "name": "stderr",
     "output_type": "stream",
     "text": [
      " 69%|██████████████████████████████████████████████████████████████████████████████████▋                                    | 961/1383 [39:35<15:47,  2.24s/it]"
     ]
    },
    {
     "name": "stdout",
     "output_type": "stream",
     "text": [
      "File aaaaapvq_s001_t000.edf was passed, passed files: 370, read files: 583\n",
      "File aaaaamxf_s001_t000.edf was passed, passed files: 371, read files: 583\n"
     ]
    },
    {
     "name": "stderr",
     "output_type": "stream",
     "text": [
      " 70%|███████████████████████████████████████████████████████████████████████████████████                                    | 965/1383 [39:43<15:06,  2.17s/it]"
     ]
    },
    {
     "name": "stdout",
     "output_type": "stream",
     "text": [
      "File aaaaapfq_s001_t000.edf was passed, passed files: 372, read files: 585\n",
      "File aaaaajyg_s002_t000.edf was passed, passed files: 373, read files: 585\n"
     ]
    },
    {
     "name": "stderr",
     "output_type": "stream",
     "text": [
      " 70%|███████████████████████████████████████████████████████████████████████████████████▎                                   | 968/1383 [39:46<12:11,  1.76s/it]"
     ]
    },
    {
     "name": "stdout",
     "output_type": "stream",
     "text": [
      "File aaaaaknp_s002_t000.edf was passed, passed files: 374, read files: 586\n"
     ]
    },
    {
     "name": "stderr",
     "output_type": "stream",
     "text": [
      " 70%|███████████████████████████████████████████████████████████████████████████████████▍                                   | 970/1383 [39:50<12:11,  1.77s/it]"
     ]
    },
    {
     "name": "stdout",
     "output_type": "stream",
     "text": [
      "File aaaaaowf_s001_t000.edf was passed, passed files: 375, read files: 587\n",
      "File aaaaapgc_s001_t000.edf was passed, passed files: 376, read files: 587\n"
     ]
    },
    {
     "name": "stderr",
     "output_type": "stream",
     "text": [
      " 70%|███████████████████████████████████████████████████████████████████████████████████▋                                   | 973/1383 [39:53<10:05,  1.48s/it]"
     ]
    },
    {
     "name": "stdout",
     "output_type": "stream",
     "text": [
      "File aaaaaprz_s001_t000.edf was passed, passed files: 377, read files: 588\n"
     ]
    },
    {
     "name": "stderr",
     "output_type": "stream",
     "text": [
      " 71%|████████████████████████████████████████████████████████████████████████████████████▎                                  | 980/1383 [40:15<20:27,  3.05s/it]"
     ]
    },
    {
     "name": "stdout",
     "output_type": "stream",
     "text": [
      "File aaaaalqm_s002_t000.edf was passed, passed files: 378, read files: 594\n",
      "File aaaaaohs_s001_t001.edf was passed, passed files: 379, read files: 594\n"
     ]
    },
    {
     "name": "stderr",
     "output_type": "stream",
     "text": [
      " 71%|████████████████████████████████████████████████████████████████████████████████████▌                                  | 983/1383 [40:18<13:28,  2.02s/it]"
     ]
    },
    {
     "name": "stdout",
     "output_type": "stream",
     "text": [
      "File aaaaalzg_s009_t000.edf was passed, passed files: 380, read files: 595\n",
      "File aaaaaoyi_s001_t000.edf was passed, passed files: 381, read files: 595\n"
     ]
    },
    {
     "name": "stderr",
     "output_type": "stream",
     "text": [
      " 72%|█████████████████████████████████████████████████████████████████████████████████████▏                                 | 990/1383 [40:37<18:39,  2.85s/it]"
     ]
    },
    {
     "name": "stdout",
     "output_type": "stream",
     "text": [
      "File aaaaaoxx_s001_t001.edf was passed, passed files: 382, read files: 600\n",
      "File aaaaamwp_s002_t000.edf was passed, passed files: 383, read files: 600\n"
     ]
    },
    {
     "name": "stderr",
     "output_type": "stream",
     "text": [
      " 72%|█████████████████████████████████████████████████████████████████████████████████████▍                                 | 993/1383 [40:40<13:05,  2.01s/it]"
     ]
    },
    {
     "name": "stdout",
     "output_type": "stream",
     "text": [
      "File aaaaapuk_s001_t000.edf was passed, passed files: 384, read files: 601\n",
      "File aaaaapgm_s001_t000.edf was passed, passed files: 385, read files: 601\n"
     ]
    },
    {
     "name": "stderr",
     "output_type": "stream",
     "text": [
      " 72%|█████████████████████████████████████████████████████████████████████████████████████▋                                 | 996/1383 [40:44<10:44,  1.66s/it]"
     ]
    },
    {
     "name": "stdout",
     "output_type": "stream",
     "text": [
      "File aaaaamyg_s001_t000.edf was passed, passed files: 386, read files: 602\n"
     ]
    },
    {
     "name": "stderr",
     "output_type": "stream",
     "text": [
      " 72%|█████████████████████████████████████████████████████████████████████████████████████▎                                | 1000/1383 [40:54<14:50,  2.32s/it]"
     ]
    },
    {
     "name": "stdout",
     "output_type": "stream",
     "text": [
      "File aaaaamvg_s004_t000.edf was passed, passed files: 387, read files: 605\n"
     ]
    },
    {
     "name": "stderr",
     "output_type": "stream",
     "text": [
      " 73%|█████████████████████████████████████████████████████████████████████████████████████▌                                | 1003/1383 [41:02<15:48,  2.50s/it]"
     ]
    },
    {
     "name": "stdout",
     "output_type": "stream",
     "text": [
      "File aaaaamzf_s001_t001.edf was passed, passed files: 388, read files: 607\n"
     ]
    },
    {
     "name": "stderr",
     "output_type": "stream",
     "text": [
      " 73%|█████████████████████████████████████████████████████████████████████████████████████▋                                | 1005/1383 [41:06<14:09,  2.25s/it]"
     ]
    },
    {
     "name": "stdout",
     "output_type": "stream",
     "text": [
      "File aaaaandn_s001_t000.edf was passed, passed files: 389, read files: 608\n",
      "File aaaaaoql_s001_t001.edf was passed, passed files: 390, read files: 608\n",
      "File aaaaaedn_s005_t000.edf was passed, passed files: 391, read files: 608\n"
     ]
    },
    {
     "name": "stderr",
     "output_type": "stream",
     "text": [
      " 73%|██████████████████████████████████████████████████████████████████████████████████████                                | 1009/1383 [41:09<09:56,  1.60s/it]"
     ]
    },
    {
     "name": "stdout",
     "output_type": "stream",
     "text": [
      "File aaaaaomi_s001_t000.edf was passed, passed files: 392, read files: 609\n"
     ]
    },
    {
     "name": "stderr",
     "output_type": "stream",
     "text": [
      " 73%|██████████████████████████████████████████████████████████████████████████████████████▍                               | 1013/1383 [41:21<14:49,  2.40s/it]"
     ]
    },
    {
     "name": "stdout",
     "output_type": "stream",
     "text": [
      "File aaaaamux_s001_t000.edf was passed, passed files: 393, read files: 612\n"
     ]
    },
    {
     "name": "stderr",
     "output_type": "stream",
     "text": [
      " 74%|██████████████████████████████████████████████████████████████████████████████████████▊                               | 1017/1383 [41:32<17:00,  2.79s/it]"
     ]
    },
    {
     "name": "stdout",
     "output_type": "stream",
     "text": [
      "File aaaaaler_s003_t000.edf was passed, passed files: 394, read files: 615\n",
      "File aaaaapcd_s001_t000.edf was passed, passed files: 395, read files: 615\n",
      "File aaaaanah_s001_t000.edf was passed, passed files: 396, read files: 615\n",
      "File aaaaanzw_s001_t000.edf was passed, passed files: 397, read files: 615\n"
     ]
    },
    {
     "name": "stderr",
     "output_type": "stream",
     "text": [
      " 74%|███████████████████████████████████████████████████████████████████████████████████████▋                              | 1028/1383 [41:58<18:22,  3.11s/it]"
     ]
    },
    {
     "name": "stdout",
     "output_type": "stream",
     "text": [
      "File aaaaapat_s001_t000.edf was passed, passed files: 398, read files: 622\n",
      "File aaaaamzs_s001_t000.edf was passed, passed files: 399, read files: 622\n",
      "File aaaaamsh_s001_t000.edf was passed, passed files: 400, read files: 622\n",
      "File aaaaamyj_s001_t000.edf was passed, passed files: 401, read files: 622\n",
      "File aaaaaorb_s001_t000.edf was passed, passed files: 402, read files: 622\n"
     ]
    },
    {
     "name": "stderr",
     "output_type": "stream",
     "text": [
      " 75%|████████████████████████████████████████████████████████████████████████████████████████▍                             | 1037/1383 [42:13<14:13,  2.47s/it]"
     ]
    },
    {
     "name": "stdout",
     "output_type": "stream",
     "text": [
      "File aaaaaplv_s001_t000.edf was passed, passed files: 403, read files: 626\n"
     ]
    },
    {
     "name": "stderr",
     "output_type": "stream",
     "text": [
      " 75%|████████████████████████████████████████████████████████████████████████████████████████▉                             | 1042/1383 [42:29<18:10,  3.20s/it]"
     ]
    },
    {
     "name": "stdout",
     "output_type": "stream",
     "text": [
      "File aaaaansg_s001_t000.edf was passed, passed files: 404, read files: 630\n",
      "File aaaaaibr_s005_t000.edf was passed, passed files: 405, read files: 630\n",
      "File aaaaafyj_s002_t000.edf was passed, passed files: 406, read files: 630\n"
     ]
    },
    {
     "name": "stderr",
     "output_type": "stream",
     "text": [
      " 76%|█████████████████████████████████████████████████████████████████████████████████████████▍                            | 1048/1383 [42:36<10:44,  1.92s/it]"
     ]
    },
    {
     "name": "stdout",
     "output_type": "stream",
     "text": [
      "File aaaaapob_s001_t002.edf was passed, passed files: 407, read files: 632\n"
     ]
    },
    {
     "name": "stderr",
     "output_type": "stream",
     "text": [
      " 76%|█████████████████████████████████████████████████████████████████████████████████████████▉                            | 1054/1383 [42:56<18:03,  3.29s/it]"
     ]
    },
    {
     "name": "stdout",
     "output_type": "stream",
     "text": [
      "File aaaaanyj_s001_t000.edf was passed, passed files: 408, read files: 637\n"
     ]
    },
    {
     "name": "stderr",
     "output_type": "stream",
     "text": [
      " 76%|██████████████████████████████████████████████████████████████████████████████████████████                            | 1056/1383 [43:00<15:16,  2.80s/it]"
     ]
    },
    {
     "name": "stdout",
     "output_type": "stream",
     "text": [
      "File aaaaamzq_s001_t000.edf was passed, passed files: 409, read files: 638\n"
     ]
    },
    {
     "name": "stderr",
     "output_type": "stream",
     "text": [
      " 77%|██████████████████████████████████████████████████████████████████████████████████████████▌                           | 1062/1383 [43:19<18:10,  3.40s/it]"
     ]
    },
    {
     "name": "stdout",
     "output_type": "stream",
     "text": [
      "File aaaaaawu_s005_t000.edf was passed, passed files: 410, read files: 643\n"
     ]
    },
    {
     "name": "stderr",
     "output_type": "stream",
     "text": [
      " 77%|██████████████████████████████████████████████████████████████████████████████████████████▊                           | 1065/1383 [43:34<23:14,  4.38s/it]"
     ]
    },
    {
     "name": "stdout",
     "output_type": "stream",
     "text": [
      "File aaaaamze_s001_t001.edf was passed, passed files: 411, read files: 645\n"
     ]
    },
    {
     "name": "stderr",
     "output_type": "stream",
     "text": [
      " 77%|███████████████████████████████████████████████████████████████████████████████████████████                           | 1067/1383 [43:39<19:15,  3.66s/it]"
     ]
    },
    {
     "name": "stdout",
     "output_type": "stream",
     "text": [
      "File aaaaapej_s001_t001.edf was passed, passed files: 412, read files: 646\n"
     ]
    },
    {
     "name": "stderr",
     "output_type": "stream",
     "text": [
      " 77%|███████████████████████████████████████████████████████████████████████████████████████████▏                          | 1069/1383 [43:42<15:35,  2.98s/it]"
     ]
    },
    {
     "name": "stdout",
     "output_type": "stream",
     "text": [
      "File aaaaapde_s001_t000.edf was passed, passed files: 413, read files: 647\n",
      "File aaaaankw_s001_t001.edf was passed, passed files: 414, read files: 647\n"
     ]
    },
    {
     "name": "stderr",
     "output_type": "stream",
     "text": [
      " 78%|███████████████████████████████████████████████████████████████████████████████████████████▍                          | 1072/1383 [43:46<11:41,  2.25s/it]"
     ]
    },
    {
     "name": "stdout",
     "output_type": "stream",
     "text": [
      "File aaaaanlk_s001_t000.edf was passed, passed files: 415, read files: 648\n"
     ]
    },
    {
     "name": "stderr",
     "output_type": "stream",
     "text": [
      " 78%|███████████████████████████████████████████████████████████████████████████████████████████▋                          | 1075/1383 [43:53<12:04,  2.35s/it]"
     ]
    },
    {
     "name": "stdout",
     "output_type": "stream",
     "text": [
      "File aaaaaplt_s001_t000.edf was passed, passed files: 416, read files: 650\n"
     ]
    },
    {
     "name": "stderr",
     "output_type": "stream",
     "text": [
      " 78%|███████████████████████████████████████████████████████████████████████████████████████████▉                          | 1078/1383 [44:01<12:20,  2.43s/it]"
     ]
    },
    {
     "name": "stdout",
     "output_type": "stream",
     "text": [
      "File aaaaantg_s003_t000.edf was passed, passed files: 417, read files: 652\n"
     ]
    },
    {
     "name": "stderr",
     "output_type": "stream",
     "text": [
      " 78%|████████████████████████████████████████████████████████████████████████████████████████████▎                         | 1082/1383 [44:12<14:13,  2.83s/it]"
     ]
    },
    {
     "name": "stdout",
     "output_type": "stream",
     "text": [
      "File aaaaapvr_s001_t000.edf was passed, passed files: 418, read files: 655\n"
     ]
    },
    {
     "name": "stderr",
     "output_type": "stream",
     "text": [
      " 79%|█████████████████████████████████████████████████████████████████████████████████████████████                         | 1090/1383 [44:40<17:06,  3.50s/it]"
     ]
    },
    {
     "name": "stdout",
     "output_type": "stream",
     "text": [
      "File aaaaanbg_s001_t000.edf was passed, passed files: 419, read files: 661\n"
     ]
    },
    {
     "name": "stderr",
     "output_type": "stream",
     "text": [
      " 79%|█████████████████████████████████████████████████████████████████████████████████████████████▏                        | 1092/1383 [44:44<13:41,  2.82s/it]"
     ]
    },
    {
     "name": "stdout",
     "output_type": "stream",
     "text": [
      "File aaaaalvg_s003_t000.edf was passed, passed files: 420, read files: 662\n"
     ]
    },
    {
     "name": "stderr",
     "output_type": "stream",
     "text": [
      " 79%|█████████████████████████████████████████████████████████████████████████████████████████████▌                        | 1096/1383 [44:55<13:44,  2.87s/it]"
     ]
    },
    {
     "name": "stdout",
     "output_type": "stream",
     "text": [
      "File aaaaabhm_s009_t000.edf was passed, passed files: 421, read files: 665\n"
     ]
    },
    {
     "name": "stderr",
     "output_type": "stream",
     "text": [
      " 80%|█████████████████████████████████████████████████████████████████████████████████████████████▊                        | 1100/1383 [45:07<14:45,  3.13s/it]"
     ]
    },
    {
     "name": "stdout",
     "output_type": "stream",
     "text": [
      "File aaaaamni_s001_t000.edf was passed, passed files: 422, read files: 668\n",
      "File aaaaaohh_s001_t000.edf was passed, passed files: 423, read files: 668\n"
     ]
    },
    {
     "name": "stderr",
     "output_type": "stream",
     "text": [
      " 80%|██████████████████████████████████████████████████████████████████████████████████████████████▎                       | 1105/1383 [45:24<16:06,  3.48s/it]"
     ]
    },
    {
     "name": "stdout",
     "output_type": "stream",
     "text": [
      "File aaaaante_s001_t000.edf was passed, passed files: 424, read files: 671\n"
     ]
    },
    {
     "name": "stderr",
     "output_type": "stream",
     "text": [
      " 80%|██████████████████████████████████████████████████████████████████████████████████████████████▍                       | 1107/1383 [45:28<13:00,  2.83s/it]"
     ]
    },
    {
     "name": "stdout",
     "output_type": "stream",
     "text": [
      "File aaaaapom_s001_t000.edf was passed, passed files: 425, read files: 672\n",
      "File aaaaaoyo_s001_t000.edf was passed, passed files: 426, read files: 672\n",
      "File aaaaamti_s001_t000.edf was passed, passed files: 427, read files: 672\n",
      "File aaaaajdk_s002_t000.edf was passed, passed files: 428, read files: 672\n",
      "File aaaaagwa_s003_t000.edf was passed, passed files: 429, read files: 672\n",
      "File aaaaanmm_s001_t001.edf was passed, passed files: 430, read files: 672\n"
     ]
    },
    {
     "name": "stderr",
     "output_type": "stream",
     "text": [
      " 81%|███████████████████████████████████████████████████████████████████████████████████████████████                       | 1114/1383 [45:32<06:13,  1.39s/it]"
     ]
    },
    {
     "name": "stdout",
     "output_type": "stream",
     "text": [
      "File aaaaantx_s001_t000.edf was passed, passed files: 431, read files: 673\n"
     ]
    },
    {
     "name": "stderr",
     "output_type": "stream",
     "text": [
      " 81%|███████████████████████████████████████████████████████████████████████████████████████████████▍                      | 1119/1383 [45:49<11:50,  2.69s/it]"
     ]
    },
    {
     "name": "stdout",
     "output_type": "stream",
     "text": [
      "File aaaaapdd_s001_t001.edf was passed, passed files: 432, read files: 677\n"
     ]
    },
    {
     "name": "stderr",
     "output_type": "stream",
     "text": [
      " 81%|███████████████████████████████████████████████████████████████████████████████████████████████▋                      | 1121/1383 [46:00<15:48,  3.62s/it]"
     ]
    },
    {
     "name": "stdout",
     "output_type": "stream",
     "text": [
      "File aaaaaobw_s001_t000.edf was passed, passed files: 433, read files: 678\n",
      "File aaaaamnn_s001_t000.edf was passed, passed files: 434, read files: 678\n",
      "File aaaaanfk_s002_t000.edf was passed, passed files: 435, read files: 678\n"
     ]
    },
    {
     "name": "stderr",
     "output_type": "stream",
     "text": [
      " 81%|████████████████████████████████████████████████████████████████████████████████████████████████                      | 1126/1383 [46:07<10:27,  2.44s/it]"
     ]
    },
    {
     "name": "stdout",
     "output_type": "stream",
     "text": [
      "File aaaaappt_s002_t000.edf was passed, passed files: 436, read files: 680\n"
     ]
    },
    {
     "name": "stderr",
     "output_type": "stream",
     "text": [
      " 82%|████████████████████████████████████████████████████████████████████████████████████████████████▍                     | 1130/1383 [46:22<14:55,  3.54s/it]"
     ]
    },
    {
     "name": "stdout",
     "output_type": "stream",
     "text": [
      "File aaaaaoev_s001_t000.edf was passed, passed files: 437, read files: 683\n"
     ]
    },
    {
     "name": "stderr",
     "output_type": "stream",
     "text": [
      " 82%|████████████████████████████████████████████████████████████████████████████████████████████████▋                     | 1133/1383 [46:33<15:47,  3.79s/it]"
     ]
    },
    {
     "name": "stdout",
     "output_type": "stream",
     "text": [
      "File aaaaaoen_s002_t000.edf was passed, passed files: 438, read files: 685\n",
      "File aaaaaoqu_s001_t000.edf was passed, passed files: 439, read files: 685\n",
      "File aaaaaozk_s001_t000.edf was passed, passed files: 440, read files: 685\n"
     ]
    },
    {
     "name": "stderr",
     "output_type": "stream",
     "text": [
      " 82%|█████████████████████████████████████████████████████████████████████████████████████████████████                     | 1138/1383 [46:41<10:04,  2.47s/it]"
     ]
    },
    {
     "name": "stdout",
     "output_type": "stream",
     "text": [
      "File aaaaamyw_s001_t000.edf was passed, passed files: 441, read files: 687\n",
      "File aaaaaddw_s002_t000.edf was passed, passed files: 442, read files: 687\n",
      "File aaaaanvd_s002_t000.edf was passed, passed files: 443, read files: 687\n",
      "File aaaaadmp_s002_t001.edf was passed, passed files: 444, read files: 687\n"
     ]
    },
    {
     "name": "stderr",
     "output_type": "stream",
     "text": [
      " 83%|█████████████████████████████████████████████████████████████████████████████████████████████████▌                    | 1144/1383 [46:48<07:18,  1.83s/it]"
     ]
    },
    {
     "name": "stdout",
     "output_type": "stream",
     "text": [
      "File aaaaaoig_s001_t000.edf was passed, passed files: 445, read files: 689\n"
     ]
    },
    {
     "name": "stderr",
     "output_type": "stream",
     "text": [
      " 83%|█████████████████████████████████████████████████████████████████████████████████████████████████▊                    | 1147/1383 [46:56<08:27,  2.15s/it]"
     ]
    },
    {
     "name": "stdout",
     "output_type": "stream",
     "text": [
      "File aaaaanat_s001_t000.edf was passed, passed files: 446, read files: 691\n"
     ]
    },
    {
     "name": "stderr",
     "output_type": "stream",
     "text": [
      " 83%|██████████████████████████████████████████████████████████████████████████████████████████████████                    | 1149/1383 [46:59<07:55,  2.03s/it]"
     ]
    },
    {
     "name": "stdout",
     "output_type": "stream",
     "text": [
      "File aaaaaopl_s001_t000.edf was passed, passed files: 447, read files: 692\n"
     ]
    },
    {
     "name": "stderr",
     "output_type": "stream",
     "text": [
      " 83%|██████████████████████████████████████████████████████████████████████████████████████████████████▏                   | 1151/1383 [47:03<07:35,  1.96s/it]"
     ]
    },
    {
     "name": "stdout",
     "output_type": "stream",
     "text": [
      "File aaaaamcf_s002_t000.edf was passed, passed files: 448, read files: 693\n",
      "File aaaaaoqe_s001_t000.edf was passed, passed files: 449, read files: 693\n",
      "File aaaaantj_s001_t001.edf was passed, passed files: 450, read files: 693\n",
      "File aaaaapiq_s001_t000.edf was passed, passed files: 451, read files: 693\n"
     ]
    },
    {
     "name": "stderr",
     "output_type": "stream",
     "text": [
      " 84%|██████████████████████████████████████████████████████████████████████████████████████████████████▊                   | 1158/1383 [47:14<07:29,  2.00s/it]"
     ]
    },
    {
     "name": "stdout",
     "output_type": "stream",
     "text": [
      "File aaaaahsy_s002_t000.edf was passed, passed files: 452, read files: 696\n",
      "File aaaaapaz_s001_t000.edf was passed, passed files: 453, read files: 696\n",
      "File aaaaapsx_s001_t000.edf was passed, passed files: 454, read files: 696\n"
     ]
    },
    {
     "name": "stderr",
     "output_type": "stream",
     "text": [
      " 84%|███████████████████████████████████████████████████████████████████████████████████████████████████▏                  | 1162/1383 [47:18<05:24,  1.47s/it]"
     ]
    },
    {
     "name": "stdout",
     "output_type": "stream",
     "text": [
      "File aaaaapqu_s001_t000.edf was passed, passed files: 455, read files: 697\n",
      "File aaaaapwt_s001_t000.edf was passed, passed files: 456, read files: 697\n"
     ]
    },
    {
     "name": "stderr",
     "output_type": "stream",
     "text": [
      " 84%|███████████████████████████████████████████████████████████████████████████████████████████████████▍                  | 1165/1383 [47:20<04:37,  1.28s/it]"
     ]
    },
    {
     "name": "stdout",
     "output_type": "stream",
     "text": [
      "File aaaaapce_s001_t001.edf was passed, passed files: 457, read files: 698\n"
     ]
    },
    {
     "name": "stderr",
     "output_type": "stream",
     "text": [
      " 84%|███████████████████████████████████████████████████████████████████████████████████████████████████▋                  | 1168/1383 [47:28<06:24,  1.79s/it]"
     ]
    },
    {
     "name": "stdout",
     "output_type": "stream",
     "text": [
      "File aaaaaoya_s001_t000.edf was passed, passed files: 458, read files: 700\n",
      "File aaaaamog_s001_t000.edf was passed, passed files: 459, read files: 700\n"
     ]
    },
    {
     "name": "stderr",
     "output_type": "stream",
     "text": [
      " 85%|███████████████████████████████████████████████████████████████████████████████████████████████████▉                  | 1171/1383 [47:32<05:32,  1.57s/it]"
     ]
    },
    {
     "name": "stdout",
     "output_type": "stream",
     "text": [
      "File aaaaapcl_s001_t000.edf was passed, passed files: 460, read files: 701\n"
     ]
    },
    {
     "name": "stderr",
     "output_type": "stream",
     "text": [
      " 85%|████████████████████████████████████████████████████████████████████████████████████████████████████                  | 1173/1383 [47:36<05:47,  1.65s/it]"
     ]
    },
    {
     "name": "stdout",
     "output_type": "stream",
     "text": [
      "File aaaaaozg_s001_t000.edf was passed, passed files: 461, read files: 702\n"
     ]
    },
    {
     "name": "stderr",
     "output_type": "stream",
     "text": [
      " 85%|████████████████████████████████████████████████████████████████████████████████████████████████████▎                 | 1175/1383 [47:39<05:53,  1.70s/it]"
     ]
    },
    {
     "name": "stdout",
     "output_type": "stream",
     "text": [
      "File aaaaaoen_s001_t000.edf was passed, passed files: 462, read files: 703\n",
      "File aaaaancu_s001_t000.edf was passed, passed files: 463, read files: 703\n"
     ]
    },
    {
     "name": "stderr",
     "output_type": "stream",
     "text": [
      " 86%|████████████████████████████████████████████████████████████████████████████████████████████████████▉                 | 1183/1383 [48:09<12:59,  3.90s/it]"
     ]
    },
    {
     "name": "stdout",
     "output_type": "stream",
     "text": [
      "File aaaaaozi_s001_t000.edf was passed, passed files: 464, read files: 709\n"
     ]
    },
    {
     "name": "stderr",
     "output_type": "stream",
     "text": [
      " 86%|█████████████████████████████████████████████████████████████████████████████████████████████████████▏                | 1186/1383 [48:16<10:15,  3.13s/it]"
     ]
    },
    {
     "name": "stdout",
     "output_type": "stream",
     "text": [
      "File aaaaacyc_s003_t000.edf was passed, passed files: 465, read files: 711\n",
      "File aaaaapfj_s001_t000.edf was passed, passed files: 466, read files: 711\n"
     ]
    },
    {
     "name": "stderr",
     "output_type": "stream",
     "text": [
      " 86%|█████████████████████████████████████████████████████████████████████████████████████████████████████▌                | 1190/1383 [48:28<10:02,  3.12s/it]"
     ]
    },
    {
     "name": "stdout",
     "output_type": "stream",
     "text": [
      "File aaaaamnj_s001_t000.edf was passed, passed files: 467, read files: 713\n"
     ]
    },
    {
     "name": "stderr",
     "output_type": "stream",
     "text": [
      " 86%|█████████████████████████████████████████████████████████████████████████████████████████████████████▊                | 1193/1383 [48:35<09:03,  2.86s/it]"
     ]
    },
    {
     "name": "stdout",
     "output_type": "stream",
     "text": [
      "File aaaaapqc_s001_t000.edf was passed, passed files: 468, read files: 715\n",
      "File aaaaapkb_s001_t000.edf was passed, passed files: 469, read files: 715\n"
     ]
    },
    {
     "name": "stderr",
     "output_type": "stream",
     "text": [
      " 86%|██████████████████████████████████████████████████████████████████████████████████████████████████████                | 1196/1383 [48:39<06:50,  2.19s/it]"
     ]
    },
    {
     "name": "stdout",
     "output_type": "stream",
     "text": [
      "File aaaaanfo_s001_t000.edf was passed, passed files: 470, read files: 716\n"
     ]
    },
    {
     "name": "stderr",
     "output_type": "stream",
     "text": [
      " 87%|██████████████████████████████████████████████████████████████████████████████████████████████████████▌               | 1202/1383 [48:57<08:59,  2.98s/it]"
     ]
    },
    {
     "name": "stdout",
     "output_type": "stream",
     "text": [
      "File aaaaanmr_s002_t000.edf was passed, passed files: 471, read files: 721\n"
     ]
    },
    {
     "name": "stderr",
     "output_type": "stream",
     "text": [
      " 87%|██████████████████████████████████████████████████████████████████████████████████████████████████████▋               | 1204/1383 [49:01<07:29,  2.51s/it]"
     ]
    },
    {
     "name": "stdout",
     "output_type": "stream",
     "text": [
      "File aaaaanfq_s001_t000.edf was passed, passed files: 472, read files: 722\n",
      "File aaaaamcu_s003_t001.edf was passed, passed files: 473, read files: 722\n"
     ]
    },
    {
     "name": "stderr",
     "output_type": "stream",
     "text": [
      " 87%|███████████████████████████████████████████████████████████████████████████████████████████████████████               | 1208/1383 [49:09<06:46,  2.32s/it]"
     ]
    },
    {
     "name": "stdout",
     "output_type": "stream",
     "text": [
      "File aaaaapok_s001_t001.edf was passed, passed files: 474, read files: 724\n",
      "File aaaaagza_s003_t001.edf was passed, passed files: 475, read files: 724\n",
      "File aaaaamnz_s001_t000.edf was passed, passed files: 476, read files: 724\n"
     ]
    },
    {
     "name": "stderr",
     "output_type": "stream",
     "text": [
      " 88%|███████████████████████████████████████████████████████████████████████████████████████████████████████▍              | 1213/1383 [49:16<05:26,  1.92s/it]"
     ]
    },
    {
     "name": "stdout",
     "output_type": "stream",
     "text": [
      "File aaaaamoc_s003_t000.edf was passed, passed files: 477, read files: 726\n"
     ]
    },
    {
     "name": "stderr",
     "output_type": "stream",
     "text": [
      " 88%|███████████████████████████████████████████████████████████████████████████████████████████████████████▊              | 1216/1383 [49:24<06:24,  2.30s/it]"
     ]
    },
    {
     "name": "stdout",
     "output_type": "stream",
     "text": [
      "File aaaaanoi_s001_t000.edf was passed, passed files: 478, read files: 728\n",
      "File aaaaafee_s002_t000.edf was passed, passed files: 479, read files: 728\n"
     ]
    },
    {
     "name": "stderr",
     "output_type": "stream",
     "text": [
      " 88%|████████████████████████████████████████████████████████████████████████████████████████████████████████              | 1219/1383 [49:27<04:57,  1.82s/it]"
     ]
    },
    {
     "name": "stdout",
     "output_type": "stream",
     "text": [
      "File aaaaapfd_s001_t001.edf was passed, passed files: 480, read files: 729\n"
     ]
    },
    {
     "name": "stderr",
     "output_type": "stream",
     "text": [
      " 88%|████████████████████████████████████████████████████████████████████████████████████████████████████████▏             | 1221/1383 [49:31<04:54,  1.82s/it]"
     ]
    },
    {
     "name": "stdout",
     "output_type": "stream",
     "text": [
      "File aaaaabjt_s005_t000.edf was passed, passed files: 481, read files: 730\n"
     ]
    },
    {
     "name": "stderr",
     "output_type": "stream",
     "text": [
      " 89%|████████████████████████████████████████████████████████████████████████████████████████████████████████▍             | 1224/1383 [49:35<04:26,  1.67s/it]"
     ]
    },
    {
     "name": "stdout",
     "output_type": "stream",
     "text": [
      "File aaaaalsz_s003_t000.edf was passed, passed files: 482, read files: 731\n",
      "File aaaaanby_s001_t001.edf was passed, passed files: 483, read files: 731\n",
      "File aaaaapku_s001_t000.edf was passed, passed files: 484, read files: 731\n"
     ]
    },
    {
     "name": "stderr",
     "output_type": "stream",
     "text": [
      " 89%|█████████████████████████████████████████████████████████████████████████████████████████████████████████             | 1232/1383 [49:54<06:35,  2.62s/it]"
     ]
    },
    {
     "name": "stdout",
     "output_type": "stream",
     "text": [
      "File aaaaapri_s001_t000.edf was passed, passed files: 485, read files: 736\n"
     ]
    },
    {
     "name": "stderr",
     "output_type": "stream",
     "text": [
      " 89%|█████████████████████████████████████████████████████████████████████████████████████████████████████████▎            | 1234/1383 [49:57<05:43,  2.31s/it]"
     ]
    },
    {
     "name": "stdout",
     "output_type": "stream",
     "text": [
      "File aaaaapxk_s001_t000.edf was passed, passed files: 486, read files: 737\n",
      "File aaaaapay_s002_t000.edf was passed, passed files: 487, read files: 737\n",
      "File aaaaapvj_s001_t001.edf was passed, passed files: 488, read files: 737\n",
      "File aaaaandt_s001_t000.edf was passed, passed files: 489, read files: 737\n"
     ]
    },
    {
     "name": "stderr",
     "output_type": "stream",
     "text": [
      " 90%|█████████████████████████████████████████████████████████████████████████████████████████████████████████▋            | 1239/1383 [50:01<03:21,  1.40s/it]"
     ]
    },
    {
     "name": "stdout",
     "output_type": "stream",
     "text": [
      "File aaaaalzz_s002_t000.edf was passed, passed files: 490, read files: 738\n"
     ]
    },
    {
     "name": "stderr",
     "output_type": "stream",
     "text": [
      " 90%|█████████████████████████████████████████████████████████████████████████████████████████████████████████▉            | 1241/1383 [50:04<03:33,  1.50s/it]"
     ]
    },
    {
     "name": "stdout",
     "output_type": "stream",
     "text": [
      "File aaaaapiy_s001_t001.edf was passed, passed files: 491, read files: 739\n",
      "File aaaaakth_s002_t002.edf was passed, passed files: 492, read files: 739\n"
     ]
    },
    {
     "name": "stderr",
     "output_type": "stream",
     "text": [
      " 90%|██████████████████████████████████████████████████████████████████████████████████████████████████████████▏           | 1244/1383 [50:08<03:15,  1.41s/it]"
     ]
    },
    {
     "name": "stdout",
     "output_type": "stream",
     "text": [
      "File aaaaanvy_s001_t001.edf was passed, passed files: 493, read files: 740\n"
     ]
    },
    {
     "name": "stderr",
     "output_type": "stream",
     "text": [
      " 90%|██████████████████████████████████████████████████████████████████████████████████████████████████████████▌           | 1249/1383 [50:23<05:32,  2.48s/it]"
     ]
    },
    {
     "name": "stdout",
     "output_type": "stream",
     "text": [
      "File aaaaamzv_s001_t000.edf was passed, passed files: 494, read files: 744\n",
      "File aaaaankq_s001_t000.edf was passed, passed files: 495, read files: 744\n"
     ]
    },
    {
     "name": "stderr",
     "output_type": "stream",
     "text": [
      " 91%|███████████████████████████████████████████████████████████████████████████████████████████████████████████▊          | 1263/1383 [51:11<07:20,  3.67s/it]"
     ]
    },
    {
     "name": "stdout",
     "output_type": "stream",
     "text": [
      "File aaaaaoqp_s001_t000.edf was passed, passed files: 496, read files: 756\n",
      "File aaaaapbg_s001_t000.edf was passed, passed files: 497, read files: 756\n",
      "File aaaaaoyb_s001_t001.edf was passed, passed files: 498, read files: 756\n",
      "File aaaaapcn_s001_t000.edf was passed, passed files: 499, read files: 756\n",
      "File aaaaaoxi_s001_t000.edf was passed, passed files: 500, read files: 756\n"
     ]
    },
    {
     "name": "stderr",
     "output_type": "stream",
     "text": [
      " 92%|████████████████████████████████████████████████████████████████████████████████████████████████████████████▎         | 1270/1383 [51:19<03:32,  1.88s/it]"
     ]
    },
    {
     "name": "stdout",
     "output_type": "stream",
     "text": [
      "File aaaaaors_s001_t001.edf was passed, passed files: 501, read files: 758\n"
     ]
    },
    {
     "name": "stderr",
     "output_type": "stream",
     "text": [
      " 92%|████████████████████████████████████████████████████████████████████████████████████████████████████████████▋         | 1274/1383 [51:31<04:42,  2.59s/it]"
     ]
    },
    {
     "name": "stdout",
     "output_type": "stream",
     "text": [
      "File aaaaapim_s001_t000.edf was passed, passed files: 502, read files: 761\n",
      "File aaaaaenj_s002_t002.edf was passed, passed files: 503, read files: 761\n",
      "File aaaaanbw_s002_t000.edf was passed, passed files: 504, read files: 761\n"
     ]
    },
    {
     "name": "stderr",
     "output_type": "stream",
     "text": [
      " 92%|█████████████████████████████████████████████████████████████████████████████████████████████████████████████         | 1278/1383 [51:35<02:59,  1.71s/it]"
     ]
    },
    {
     "name": "stdout",
     "output_type": "stream",
     "text": [
      "File aaaaaocs_s001_t000.edf was passed, passed files: 505, read files: 762\n",
      "File aaaaajqr_s002_t000.edf was passed, passed files: 506, read files: 762\n",
      "File aaaaapig_s001_t000.edf was passed, passed files: 507, read files: 762\n"
     ]
    },
    {
     "name": "stderr",
     "output_type": "stream",
     "text": [
      " 93%|█████████████████████████████████████████████████████████████████████████████████████████████████████████████▉        | 1289/1383 [52:03<04:52,  3.11s/it]"
     ]
    },
    {
     "name": "stdout",
     "output_type": "stream",
     "text": [
      "File aaaaamzc_s001_t000.edf was passed, passed files: 508, read files: 770\n",
      "File aaaaappf_s001_t000.edf was passed, passed files: 509, read files: 770\n"
     ]
    },
    {
     "name": "stderr",
     "output_type": "stream",
     "text": [
      " 94%|██████████████████████████████████████████████████████████████████████████████████████████████████████████████▍       | 1295/1383 [52:18<04:23,  2.99s/it]"
     ]
    },
    {
     "name": "stdout",
     "output_type": "stream",
     "text": [
      "File aaaaahjk_s002_t001.edf was passed, passed files: 510, read files: 774\n"
     ]
    },
    {
     "name": "stderr",
     "output_type": "stream",
     "text": [
      " 94%|██████████████████████████████████████████████████████████████████████████████████████████████████████████████▋       | 1297/1383 [52:21<03:35,  2.50s/it]"
     ]
    },
    {
     "name": "stdout",
     "output_type": "stream",
     "text": [
      "File aaaaapvh_s001_t001.edf was passed, passed files: 511, read files: 775\n",
      "File aaaaapul_s001_t000.edf was passed, passed files: 512, read files: 775\n"
     ]
    },
    {
     "name": "stderr",
     "output_type": "stream",
     "text": [
      " 94%|██████████████████████████████████████████████████████████████████████████████████████████████████████████████▉       | 1300/1383 [52:25<02:38,  1.91s/it]"
     ]
    },
    {
     "name": "stdout",
     "output_type": "stream",
     "text": [
      "File aaaaakiq_s003_t000.edf was passed, passed files: 513, read files: 776\n"
     ]
    },
    {
     "name": "stderr",
     "output_type": "stream",
     "text": [
      " 94%|███████████████████████████████████████████████████████████████████████████████████████████████████████████████▍      | 1306/1383 [52:49<04:45,  3.71s/it]"
     ]
    },
    {
     "name": "stdout",
     "output_type": "stream",
     "text": [
      "File aaaaagwc_s002_t001.edf was passed, passed files: 514, read files: 781\n"
     ]
    },
    {
     "name": "stderr",
     "output_type": "stream",
     "text": [
      " 95%|███████████████████████████████████████████████████████████████████████████████████████████████████████████████▊      | 1310/1383 [53:01<04:07,  3.39s/it]"
     ]
    },
    {
     "name": "stdout",
     "output_type": "stream",
     "text": [
      "File aaaaaosq_s001_t000.edf was passed, passed files: 515, read files: 784\n"
     ]
    },
    {
     "name": "stderr",
     "output_type": "stream",
     "text": [
      " 95%|███████████████████████████████████████████████████████████████████████████████████████████████████████████████▉      | 1312/1383 [53:05<03:19,  2.81s/it]"
     ]
    },
    {
     "name": "stdout",
     "output_type": "stream",
     "text": [
      "File aaaaancd_s001_t001.edf was passed, passed files: 516, read files: 785\n"
     ]
    },
    {
     "name": "stderr",
     "output_type": "stream",
     "text": [
      " 95%|████████████████████████████████████████████████████████████████████████████████████████████████████████████████      | 1314/1383 [53:09<02:47,  2.43s/it]"
     ]
    },
    {
     "name": "stdout",
     "output_type": "stream",
     "text": [
      "File aaaaanzs_s002_t000.edf was passed, passed files: 517, read files: 786\n"
     ]
    },
    {
     "name": "stderr",
     "output_type": "stream",
     "text": [
      " 95%|████████████████████████████████████████████████████████████████████████████████████████████████████████████████▎     | 1316/1383 [53:12<02:27,  2.21s/it]"
     ]
    },
    {
     "name": "stdout",
     "output_type": "stream",
     "text": [
      "File aaaaahxr_s002_t000.edf was passed, passed files: 518, read files: 787\n"
     ]
    },
    {
     "name": "stderr",
     "output_type": "stream",
     "text": [
      " 95%|████████████████████████████████████████████████████████████████████████████████████████████████████████████████▍     | 1318/1383 [53:16<02:21,  2.18s/it]"
     ]
    },
    {
     "name": "stdout",
     "output_type": "stream",
     "text": [
      "File aaaaansq_s001_t000.edf was passed, passed files: 519, read files: 788\n",
      "File aaaaamtn_s001_t000.edf was passed, passed files: 520, read files: 788\n"
     ]
    },
    {
     "name": "stderr",
     "output_type": "stream",
     "text": [
      " 96%|█████████████████████████████████████████████████████████████████████████████████████████████████████████████████▏    | 1327/1383 [53:43<03:06,  3.33s/it]"
     ]
    },
    {
     "name": "stdout",
     "output_type": "stream",
     "text": [
      "File aaaaaeki_s002_t000.edf was passed, passed files: 521, read files: 795\n"
     ]
    },
    {
     "name": "stderr",
     "output_type": "stream",
     "text": [
      " 96%|█████████████████████████████████████████████████████████████████████████████████████████████████████████████████▍    | 1330/1383 [53:51<02:40,  3.02s/it]"
     ]
    },
    {
     "name": "stdout",
     "output_type": "stream",
     "text": [
      "File aaaaappl_s001_t002.edf was passed, passed files: 522, read files: 797\n",
      "File aaaaamsf_s001_t000.edf was passed, passed files: 523, read files: 797\n",
      "File aaaaalxx_s002_t000.edf was passed, passed files: 524, read files: 797\n"
     ]
    },
    {
     "name": "stderr",
     "output_type": "stream",
     "text": [
      " 96%|█████████████████████████████████████████████████████████████████████████████████████████████████████████████████▊    | 1334/1383 [53:54<01:27,  1.79s/it]"
     ]
    },
    {
     "name": "stdout",
     "output_type": "stream",
     "text": [
      "File aaaaamsw_s003_t000.edf was passed, passed files: 525, read files: 798\n"
     ]
    },
    {
     "name": "stderr",
     "output_type": "stream",
     "text": [
      " 97%|█████████████████████████████████████████████████████████████████████████████████████████████████████████████████▉    | 1336/1383 [53:58<01:26,  1.83s/it]"
     ]
    },
    {
     "name": "stdout",
     "output_type": "stream",
     "text": [
      "File aaaaamwi_s001_t000.edf was passed, passed files: 526, read files: 799\n",
      "File aaaaaoyu_s001_t000.edf was passed, passed files: 527, read files: 799\n"
     ]
    },
    {
     "name": "stderr",
     "output_type": "stream",
     "text": [
      " 97%|██████████████████████████████████████████████████████████████████████████████████████████████████████████████████▏   | 1339/1383 [54:02<01:12,  1.65s/it]"
     ]
    },
    {
     "name": "stdout",
     "output_type": "stream",
     "text": [
      "File aaaaanln_s001_t000.edf was passed, passed files: 528, read files: 800\n"
     ]
    },
    {
     "name": "stderr",
     "output_type": "stream",
     "text": [
      " 97%|██████████████████████████████████████████████████████████████████████████████████████████████████████████████████▍   | 1341/1383 [54:06<01:11,  1.70s/it]"
     ]
    },
    {
     "name": "stdout",
     "output_type": "stream",
     "text": [
      "File aaaaaozm_s001_t000.edf was passed, passed files: 529, read files: 801\n",
      "File aaaaaedn_s006_t000.edf was passed, passed files: 530, read files: 801\n",
      "File aaaaanez_s001_t000.edf was passed, passed files: 531, read files: 801\n"
     ]
    },
    {
     "name": "stderr",
     "output_type": "stream",
     "text": [
      " 97%|██████████████████████████████████████████████████████████████████████████████████████████████████████████████████▉   | 1347/1383 [54:17<01:11,  1.98s/it]"
     ]
    },
    {
     "name": "stdout",
     "output_type": "stream",
     "text": [
      "File aaaaamsx_s001_t000.edf was passed, passed files: 532, read files: 804\n"
     ]
    },
    {
     "name": "stderr",
     "output_type": "stream",
     "text": [
      " 98%|███████████████████████████████████████████████████████████████████████████████████████████████████████████████████   | 1349/1383 [54:20<01:06,  1.95s/it]"
     ]
    },
    {
     "name": "stdout",
     "output_type": "stream",
     "text": [
      "File aaaaangg_s001_t001.edf was passed, passed files: 533, read files: 805\n"
     ]
    },
    {
     "name": "stderr",
     "output_type": "stream",
     "text": [
      " 98%|███████████████████████████████████████████████████████████████████████████████████████████████████████████████████▎  | 1351/1383 [54:24<01:02,  1.94s/it]"
     ]
    },
    {
     "name": "stdout",
     "output_type": "stream",
     "text": [
      "File aaaaapbi_s001_t000.edf was passed, passed files: 534, read files: 806\n",
      "File aaaaands_s002_t000.edf was passed, passed files: 535, read files: 806\n"
     ]
    },
    {
     "name": "stderr",
     "output_type": "stream",
     "text": [
      " 98%|███████████████████████████████████████████████████████████████████████████████████████████████████████████████████▌  | 1354/1383 [54:28<00:49,  1.69s/it]"
     ]
    },
    {
     "name": "stdout",
     "output_type": "stream",
     "text": [
      "File aaaaaopm_s001_t000.edf was passed, passed files: 536, read files: 807\n",
      "File aaaaaoah_s001_t000.edf was passed, passed files: 537, read files: 807\n"
     ]
    },
    {
     "name": "stderr",
     "output_type": "stream",
     "text": [
      " 98%|███████████████████████████████████████████████████████████████████████████████████████████████████████████████████▊  | 1357/1383 [54:32<00:39,  1.50s/it]"
     ]
    },
    {
     "name": "stdout",
     "output_type": "stream",
     "text": [
      "File aaaaamti_s002_t000.edf was passed, passed files: 538, read files: 808\n"
     ]
    },
    {
     "name": "stderr",
     "output_type": "stream",
     "text": [
      " 98%|███████████████████████████████████████████████████████████████████████████████████████████████████████████████████▉  | 1359/1383 [54:36<00:38,  1.61s/it]"
     ]
    },
    {
     "name": "stdout",
     "output_type": "stream",
     "text": [
      "File aaaaakhy_s002_t000.edf was passed, passed files: 539, read files: 809\n",
      "File aaaaanyy_s001_t000.edf was passed, passed files: 540, read files: 809\n",
      "File aaaaaodb_s002_t000.edf was passed, passed files: 541, read files: 809\n"
     ]
    },
    {
     "name": "stderr",
     "output_type": "stream",
     "text": [
      " 99%|████████████████████████████████████████████████████████████████████████████████████████████████████████████████████▎ | 1363/1383 [54:39<00:26,  1.31s/it]"
     ]
    },
    {
     "name": "stdout",
     "output_type": "stream",
     "text": [
      "File aaaaakbi_s002_t000.edf was passed, passed files: 542, read files: 810\n"
     ]
    },
    {
     "name": "stderr",
     "output_type": "stream",
     "text": [
      " 99%|████████████████████████████████████████████████████████████████████████████████████████████████████████████████████▍ | 1365/1383 [54:43<00:25,  1.42s/it]"
     ]
    },
    {
     "name": "stdout",
     "output_type": "stream",
     "text": [
      "File aaaaanci_s001_t000.edf was passed, passed files: 543, read files: 811\n",
      "File aaaaapdk_s001_t000.edf was passed, passed files: 544, read files: 811\n",
      "File aaaaaomj_s001_t000.edf was passed, passed files: 545, read files: 811\n"
     ]
    },
    {
     "name": "stderr",
     "output_type": "stream",
     "text": [
      " 99%|████████████████████████████████████████████████████████████████████████████████████████████████████████████████████▉ | 1370/1383 [54:50<00:19,  1.51s/it]"
     ]
    },
    {
     "name": "stdout",
     "output_type": "stream",
     "text": [
      "File aaaaankg_s001_t002.edf was passed, passed files: 546, read files: 813\n",
      "File aaaaaoyh_s001_t000.edf was passed, passed files: 547, read files: 813\n"
     ]
    },
    {
     "name": "stderr",
     "output_type": "stream",
     "text": [
      " 99%|█████████████████████████████████████████████████████████████████████████████████████████████████████████████████████▎| 1375/1383 [55:00<00:15,  1.92s/it]"
     ]
    },
    {
     "name": "stdout",
     "output_type": "stream",
     "text": [
      "File aaaaapoj_s001_t000.edf was passed, passed files: 548, read files: 816\n"
     ]
    },
    {
     "name": "stderr",
     "output_type": "stream",
     "text": [
      "100%|██████████████████████████████████████████████████████████████████████████████████████████████████████████████████████| 1383/1383 [55:07<00:00,  2.39s/it]\n"
     ]
    },
    {
     "name": "stdout",
     "output_type": "stream",
     "text": [
      "File aaaaapww_s001_t000.edf was passed, passed files: 549, read files: 818\n",
      "File aaaaanvo_s001_t000.edf was passed, passed files: 550, read files: 818\n",
      "File aaaaaojl_s001_t001.edf was passed, passed files: 551, read files: 818\n",
      "File aaaaaolx_s001_t000.edf was passed, passed files: 552, read files: 818\n",
      "File aaaaamwt_s001_t000.edf was passed, passed files: 553, read files: 818\n",
      "Read files: 818, passed files: 553\n"
     ]
    },
    {
     "name": "stderr",
     "output_type": "stream",
     "text": [
      "  5%|█████▉                                                                                                                    | 8/164 [00:25<08:03,  3.10s/it]"
     ]
    },
    {
     "name": "stdout",
     "output_type": "stream",
     "text": [
      "File aaaaamuc_s001_t000.edf was passed, passed files: 1, read files: 7\n"
     ]
    },
    {
     "name": "stderr",
     "output_type": "stream",
     "text": [
      "  7%|████████                                                                                                                 | 11/164 [00:28<05:15,  2.06s/it]"
     ]
    },
    {
     "name": "stdout",
     "output_type": "stream",
     "text": [
      "File aaaaaphw_s001_t000.edf was passed, passed files: 2, read files: 8\n"
     ]
    },
    {
     "name": "stderr",
     "output_type": "stream",
     "text": [
      " 15%|█████████████████▋                                                                                                       | 24/164 [01:13<08:14,  3.53s/it]"
     ]
    },
    {
     "name": "stdout",
     "output_type": "stream",
     "text": [
      "File aaaaapoo_s001_t000.edf was passed, passed files: 3, read files: 20\n",
      "File aaaaapoq_s001_t000.edf was passed, passed files: 4, read files: 20\n"
     ]
    },
    {
     "name": "stderr",
     "output_type": "stream",
     "text": [
      " 19%|██████████████████████▊                                                                                                  | 31/164 [01:24<04:51,  2.19s/it]"
     ]
    },
    {
     "name": "stdout",
     "output_type": "stream",
     "text": [
      "File aaaaaozf_s001_t001.edf was passed, passed files: 5, read files: 23\n"
     ]
    },
    {
     "name": "stderr",
     "output_type": "stream",
     "text": [
      " 23%|███████████████████████████▎                                                                                             | 37/164 [01:41<06:20,  3.00s/it]"
     ]
    },
    {
     "name": "stdout",
     "output_type": "stream",
     "text": [
      "File aaaaangp_s001_t000.edf was passed, passed files: 6, read files: 28\n",
      "File aaaaanvw_s001_t000.edf was passed, passed files: 7, read files: 28\n"
     ]
    },
    {
     "name": "stderr",
     "output_type": "stream",
     "text": [
      " 26%|███████████████████████████████▋                                                                                         | 43/164 [01:52<04:49,  2.39s/it]"
     ]
    },
    {
     "name": "stdout",
     "output_type": "stream",
     "text": [
      "File aaaaapdg_s001_t000.edf was passed, passed files: 8, read files: 31\n"
     ]
    },
    {
     "name": "stderr",
     "output_type": "stream",
     "text": [
      " 29%|██████████████████████████████████▋                                                                                      | 47/164 [02:03<05:12,  2.67s/it]"
     ]
    },
    {
     "name": "stdout",
     "output_type": "stream",
     "text": [
      "File aaaaaobl_s001_t000.edf was passed, passed files: 9, read files: 34\n"
     ]
    },
    {
     "name": "stderr",
     "output_type": "stream",
     "text": [
      " 37%|█████████████████████████████████████████████                                                                            | 61/164 [02:49<06:22,  3.71s/it]"
     ]
    },
    {
     "name": "stdout",
     "output_type": "stream",
     "text": [
      "File aaaaapxm_s001_t001.edf was passed, passed files: 10, read files: 45\n"
     ]
    },
    {
     "name": "stderr",
     "output_type": "stream",
     "text": [
      " 41%|██████████████████████████████████████████████████▏                                                                      | 68/164 [03:13<06:00,  3.75s/it]"
     ]
    },
    {
     "name": "stdout",
     "output_type": "stream",
     "text": [
      "File aaaaapcb_s001_t000.edf was passed, passed files: 11, read files: 51\n"
     ]
    },
    {
     "name": "stderr",
     "output_type": "stream",
     "text": [
      " 47%|████████████████████████████████████████████████████████▊                                                                | 77/164 [03:46<06:44,  4.65s/it]"
     ]
    },
    {
     "name": "stdout",
     "output_type": "stream",
     "text": [
      "File aaaaaosw_s001_t000.edf was passed, passed files: 12, read files: 59\n"
     ]
    },
    {
     "name": "stderr",
     "output_type": "stream",
     "text": [
      " 52%|███████████████████████████████████████████████████████████████▍                                                         | 86/164 [04:20<04:54,  3.77s/it]"
     ]
    },
    {
     "name": "stdout",
     "output_type": "stream",
     "text": [
      "File aaaaanbq_s001_t000.edf was passed, passed files: 13, read files: 67\n",
      "File aaaaappb_s001_t000.edf was passed, passed files: 14, read files: 67\n",
      "File aaaaapqv_s001_t000.edf was passed, passed files: 15, read files: 67\n"
     ]
    },
    {
     "name": "stderr",
     "output_type": "stream",
     "text": [
      " 57%|█████████████████████████████████████████████████████████████████████▎                                                   | 94/164 [04:38<03:28,  2.97s/it]"
     ]
    },
    {
     "name": "stdout",
     "output_type": "stream",
     "text": [
      "File aaaaapof_s001_t000.edf was passed, passed files: 16, read files: 72\n"
     ]
    },
    {
     "name": "stderr",
     "output_type": "stream",
     "text": [
      " 60%|████████████████████████████████████████████████████████████████████████▎                                                | 98/164 [04:49<03:12,  2.91s/it]"
     ]
    },
    {
     "name": "stdout",
     "output_type": "stream",
     "text": [
      "File aaaaamzl_s001_t000.edf was passed, passed files: 17, read files: 75\n",
      "File aaaaamyb_s001_t001.edf was passed, passed files: 18, read files: 75\n"
     ]
    },
    {
     "name": "stderr",
     "output_type": "stream",
     "text": [
      " 63%|████████████████████████████████████████████████████████████████████████████                                            | 104/164 [05:04<02:56,  2.94s/it]"
     ]
    },
    {
     "name": "stdout",
     "output_type": "stream",
     "text": [
      "File aaaaapcy_s001_t002.edf was passed, passed files: 19, read files: 79\n"
     ]
    },
    {
     "name": "stderr",
     "output_type": "stream",
     "text": [
      " 66%|███████████████████████████████████████████████████████████████████████████████▊                                        | 109/164 [05:13<02:17,  2.50s/it]"
     ]
    },
    {
     "name": "stdout",
     "output_type": "stream",
     "text": [
      "File aaaaaopo_s001_t000.edf was passed, passed files: 20, read files: 82\n"
     ]
    },
    {
     "name": "stderr",
     "output_type": "stream",
     "text": [
      " 69%|██████████████████████████████████████████████████████████████████████████████████▋                                     | 113/164 [05:25<02:23,  2.82s/it]"
     ]
    },
    {
     "name": "stdout",
     "output_type": "stream",
     "text": [
      "File aaaaalbt_s002_t000.edf was passed, passed files: 21, read files: 85\n"
     ]
    },
    {
     "name": "stderr",
     "output_type": "stream",
     "text": [
      " 71%|█████████████████████████████████████████████████████████████████████████████████████▌                                  | 117/164 [05:32<01:49,  2.33s/it]"
     ]
    },
    {
     "name": "stdout",
     "output_type": "stream",
     "text": [
      "File aaaaanvb_s002_t000.edf was passed, passed files: 22, read files: 87\n",
      "File aaaaanqe_s001_t000.edf was passed, passed files: 23, read files: 87\n"
     ]
    },
    {
     "name": "stderr",
     "output_type": "stream",
     "text": [
      " 74%|█████████████████████████████████████████████████████████████████████████████████████████▎                              | 122/164 [05:39<01:18,  1.87s/it]"
     ]
    },
    {
     "name": "stdout",
     "output_type": "stream",
     "text": [
      "File aaaaaoxf_s001_t000.edf was passed, passed files: 24, read files: 89\n",
      "File aaaaanek_s001_t000.edf was passed, passed files: 25, read files: 89\n"
     ]
    },
    {
     "name": "stderr",
     "output_type": "stream",
     "text": [
      " 79%|███████████████████████████████████████████████████████████████████████████████████████████████                         | 130/164 [05:57<01:25,  2.52s/it]"
     ]
    },
    {
     "name": "stdout",
     "output_type": "stream",
     "text": [
      "File aaaaanop_s001_t000.edf was passed, passed files: 26, read files: 94\n"
     ]
    },
    {
     "name": "stderr",
     "output_type": "stream",
     "text": [
      " 82%|██████████████████████████████████████████████████████████████████████████████████████████████████▊                     | 135/164 [06:08<01:07,  2.34s/it]"
     ]
    },
    {
     "name": "stdout",
     "output_type": "stream",
     "text": [
      "File aaaaaonb_s001_t000.edf was passed, passed files: 27, read files: 97\n"
     ]
    },
    {
     "name": "stderr",
     "output_type": "stream",
     "text": [
      " 85%|██████████████████████████████████████████████████████████████████████████████████████████████████████▍                 | 140/164 [06:23<01:13,  3.05s/it]"
     ]
    },
    {
     "name": "stdout",
     "output_type": "stream",
     "text": [
      "File aaaaaoav_s002_t000.edf was passed, passed files: 28, read files: 101\n"
     ]
    },
    {
     "name": "stderr",
     "output_type": "stream",
     "text": [
      " 88%|█████████████████████████████████████████████████████████████████████████████████████████████████████████▎              | 144/164 [06:35<01:01,  3.08s/it]"
     ]
    },
    {
     "name": "stdout",
     "output_type": "stream",
     "text": [
      "File aaaaapuu_s001_t000.edf was passed, passed files: 29, read files: 104\n"
     ]
    },
    {
     "name": "stderr",
     "output_type": "stream",
     "text": [
      " 89%|██████████████████████████████████████████████████████████████████████████████████████████████████████████▊             | 146/164 [06:38<00:45,  2.54s/it]"
     ]
    },
    {
     "name": "stdout",
     "output_type": "stream",
     "text": [
      "File aaaaapka_s001_t000.edf was passed, passed files: 30, read files: 105\n"
     ]
    },
    {
     "name": "stderr",
     "output_type": "stream",
     "text": [
      "100%|████████████████████████████████████████████████████████████████████████████████████████████████████████████████████████| 164/164 [07:42<00:00,  2.82s/it]\n"
     ]
    },
    {
     "name": "stdout",
     "output_type": "stream",
     "text": [
      "Read files: 120, passed files: 30\n",
      "(1078912, 3, 128) (1078912,) (79519, 3, 128) (79519,) (79519, 3, 128) (79519,)\n",
      "12 files was removed from Data/TUAB/train/normal/01_tcp_ar/\n",
      "14 files was removed from Data/TUAB/eval/normal/01_tcp_ar/\n"
     ]
    },
    {
     "name": "stderr",
     "output_type": "stream",
     "text": [
      "  0%|▏                                                                                                                        | 6/3009 [00:05<45:57,  1.09it/s]"
     ]
    },
    {
     "name": "stdout",
     "output_type": "stream",
     "text": [
      "File aaaaanle_s001_t000.edf was passed, passed files: 1, read files: 2\n"
     ]
    },
    {
     "name": "stderr",
     "output_type": "stream",
     "text": [
      "  0%|▍                                                                                                                     | 11/3009 [00:13<1:16:52,  1.54s/it]"
     ]
    },
    {
     "name": "stdout",
     "output_type": "stream",
     "text": [
      "File aaaaapik_s001_t001.edf was passed, passed files: 2, read files: 5\n"
     ]
    },
    {
     "name": "stderr",
     "output_type": "stream",
     "text": [
      "  1%|▊                                                                                                                       | 19/3009 [00:19<49:00,  1.02it/s]"
     ]
    },
    {
     "name": "stdout",
     "output_type": "stream",
     "text": [
      "File aaaaanwb_s001_t000.edf was passed, passed files: 3, read files: 7\n"
     ]
    },
    {
     "name": "stderr",
     "output_type": "stream",
     "text": [
      "  1%|▉                                                                                                                       | 22/3009 [00:22<48:05,  1.04it/s]"
     ]
    },
    {
     "name": "stdout",
     "output_type": "stream",
     "text": [
      "File aaaaajvi_s004_t000.edf was passed, passed files: 4, read files: 8\n"
     ]
    },
    {
     "name": "stderr",
     "output_type": "stream",
     "text": [
      "  1%|█▏                                                                                                                      | 31/3009 [00:31<48:42,  1.02it/s]"
     ]
    },
    {
     "name": "stdout",
     "output_type": "stream",
     "text": [
      "File aaaaacsu_s004_t000.edf was passed, passed files: 5, read files: 11\n",
      "File aaaaangh_s001_t000.edf was passed, passed files: 6, read files: 11\n"
     ]
    },
    {
     "name": "stderr",
     "output_type": "stream",
     "text": [
      "  1%|█▌                                                                                                                      | 40/3009 [00:34<27:07,  1.82it/s]"
     ]
    },
    {
     "name": "stdout",
     "output_type": "stream",
     "text": [
      "File aaaaaetn_s002_t000.edf was passed, passed files: 7, read files: 12\n"
     ]
    },
    {
     "name": "stderr",
     "output_type": "stream",
     "text": [
      "  1%|█▋                                                                                                                      | 42/3009 [00:38<38:53,  1.27it/s]"
     ]
    },
    {
     "name": "stdout",
     "output_type": "stream",
     "text": [
      "File aaaaaniz_s001_t000.edf was passed, passed files: 8, read files: 13\n"
     ]
    },
    {
     "name": "stderr",
     "output_type": "stream",
     "text": [
      "  2%|██                                                                                                                      | 53/3009 [00:44<30:48,  1.60it/s]"
     ]
    },
    {
     "name": "stdout",
     "output_type": "stream",
     "text": [
      "File aaaaaoez_s001_t000.edf was passed, passed files: 9, read files: 15\n",
      "File aaaaaorr_s001_t001.edf was passed, passed files: 10, read files: 15\n"
     ]
    },
    {
     "name": "stderr",
     "output_type": "stream",
     "text": [
      "  2%|██▌                                                                                                                     | 63/3009 [00:53<38:40,  1.27it/s]"
     ]
    },
    {
     "name": "stdout",
     "output_type": "stream",
     "text": [
      "File aaaaanhv_s001_t001.edf was passed, passed files: 11, read files: 18\n"
     ]
    },
    {
     "name": "stderr",
     "output_type": "stream",
     "text": [
      "  2%|██▋                                                                                                                     | 68/3009 [00:55<32:52,  1.49it/s]"
     ]
    },
    {
     "name": "stdout",
     "output_type": "stream",
     "text": [
      "File aaaaapix_s001_t000.edf was passed, passed files: 12, read files: 19\n"
     ]
    },
    {
     "name": "stderr",
     "output_type": "stream",
     "text": [
      "  2%|██▊                                                                                                                     | 70/3009 [00:58<39:38,  1.24it/s]"
     ]
    },
    {
     "name": "stdout",
     "output_type": "stream",
     "text": [
      "File aaaaaopf_s001_t000.edf was passed, passed files: 13, read files: 20\n"
     ]
    },
    {
     "name": "stderr",
     "output_type": "stream",
     "text": [
      "  2%|██▉                                                                                                                     | 74/3009 [01:01<38:55,  1.26it/s]"
     ]
    },
    {
     "name": "stdout",
     "output_type": "stream",
     "text": [
      "File aaaaapch_s001_t001.edf was passed, passed files: 14, read files: 21\n",
      "File aaaaaltg_s002_t000.edf was passed, passed files: 15, read files: 21\n"
     ]
    },
    {
     "name": "stderr",
     "output_type": "stream",
     "text": [
      "  3%|███▎                                                                                                                    | 83/3009 [01:07<34:33,  1.41it/s]"
     ]
    },
    {
     "name": "stdout",
     "output_type": "stream",
     "text": [
      "File aaaaaohq_s001_t001.edf was passed, passed files: 16, read files: 23\n",
      "File aaaaanvs_s001_t000.edf was passed, passed files: 17, read files: 23\n"
     ]
    },
    {
     "name": "stderr",
     "output_type": "stream",
     "text": [
      "  3%|████                                                                                                                   | 102/3009 [01:19<35:17,  1.37it/s]"
     ]
    },
    {
     "name": "stdout",
     "output_type": "stream",
     "text": [
      "File aaaaaowr_s001_t001.edf was passed, passed files: 18, read files: 27\n"
     ]
    },
    {
     "name": "stderr",
     "output_type": "stream",
     "text": [
      "  4%|████▎                                                                                                                  | 108/3009 [01:25<42:16,  1.14it/s]"
     ]
    },
    {
     "name": "stdout",
     "output_type": "stream",
     "text": [
      "File aaaaamws_s001_t000.edf was passed, passed files: 19, read files: 29\n",
      "File aaaaapnk_s001_t000.edf was passed, passed files: 20, read files: 29\n",
      "File aaaaaosn_s001_t000.edf was passed, passed files: 21, read files: 29\n"
     ]
    },
    {
     "name": "stderr",
     "output_type": "stream",
     "text": [
      "  4%|████▌                                                                                                                  | 115/3009 [01:28<32:41,  1.48it/s]"
     ]
    },
    {
     "name": "stdout",
     "output_type": "stream",
     "text": [
      "File aaaaapnd_s001_t001.edf was passed, passed files: 22, read files: 30\n"
     ]
    },
    {
     "name": "stderr",
     "output_type": "stream",
     "text": [
      "  4%|████▋                                                                                                                  | 120/3009 [01:31<30:51,  1.56it/s]"
     ]
    },
    {
     "name": "stdout",
     "output_type": "stream",
     "text": [
      "File aaaaaouv_s001_t000.edf was passed, passed files: 23, read files: 31\n",
      "File aaaaaeoe_s002_t000.edf was passed, passed files: 24, read files: 31\n"
     ]
    },
    {
     "name": "stderr",
     "output_type": "stream",
     "text": [
      "  4%|████▊                                                                                                                  | 123/3009 [01:34<35:05,  1.37it/s]"
     ]
    },
    {
     "name": "stdout",
     "output_type": "stream",
     "text": [
      "File aaaaanbs_s001_t000.edf was passed, passed files: 25, read files: 32\n"
     ]
    },
    {
     "name": "stderr",
     "output_type": "stream",
     "text": [
      "  4%|█████                                                                                                                | 130/3009 [01:49<1:26:21,  1.80s/it]"
     ]
    },
    {
     "name": "stdout",
     "output_type": "stream",
     "text": [
      "File aaaaaowp_s001_t001.edf was passed, passed files: 26, read files: 37\n"
     ]
    },
    {
     "name": "stderr",
     "output_type": "stream",
     "text": [
      "  5%|█████▌                                                                                                                 | 142/3009 [01:55<39:31,  1.21it/s]"
     ]
    },
    {
     "name": "stdout",
     "output_type": "stream",
     "text": [
      "File aaaaaojz_s001_t000.edf was passed, passed files: 27, read files: 38\n"
     ]
    },
    {
     "name": "stderr",
     "output_type": "stream",
     "text": [
      "  5%|█████▋                                                                                                                 | 145/3009 [01:59<44:02,  1.08it/s]"
     ]
    },
    {
     "name": "stdout",
     "output_type": "stream",
     "text": [
      "File aaaaapbe_s001_t000.edf was passed, passed files: 28, read files: 39\n"
     ]
    },
    {
     "name": "stderr",
     "output_type": "stream",
     "text": [
      "  5%|█████▉                                                                                                                 | 151/3009 [02:04<46:48,  1.02it/s]"
     ]
    },
    {
     "name": "stdout",
     "output_type": "stream",
     "text": [
      "File aaaaamww_s001_t000.edf was passed, passed files: 29, read files: 41\n",
      "File aaaaapvg_s001_t001.edf was passed, passed files: 30, read files: 41\n",
      "File aaaaantg_s001_t000.edf was passed, passed files: 31, read files: 41\n"
     ]
    },
    {
     "name": "stderr",
     "output_type": "stream",
     "text": [
      "  6%|██████▌                                                                                                                | 167/3009 [02:07<20:52,  2.27it/s]"
     ]
    },
    {
     "name": "stdout",
     "output_type": "stream",
     "text": [
      "File aaaaagmh_s002_t000.edf was passed, passed files: 32, read files: 42\n"
     ]
    },
    {
     "name": "stderr",
     "output_type": "stream",
     "text": [
      "  6%|███████                                                                                                                | 177/3009 [02:10<18:02,  2.62it/s]"
     ]
    },
    {
     "name": "stdout",
     "output_type": "stream",
     "text": [
      "File aaaaanft_s001_t000.edf was passed, passed files: 33, read files: 43\n"
     ]
    },
    {
     "name": "stderr",
     "output_type": "stream",
     "text": [
      "  6%|███████                                                                                                                | 179/3009 [02:13<22:15,  2.12it/s]"
     ]
    },
    {
     "name": "stdout",
     "output_type": "stream",
     "text": [
      "File aaaaapsr_s001_t000.edf was passed, passed files: 34, read files: 44\n",
      "File aaaaapml_s001_t000.edf was passed, passed files: 35, read files: 44\n",
      "File aaaaammq_s002_t000.edf was passed, passed files: 36, read files: 44\n"
     ]
    },
    {
     "name": "stderr",
     "output_type": "stream",
     "text": [
      "  7%|███████▊                                                                                                               | 198/3009 [02:32<50:03,  1.07s/it]"
     ]
    },
    {
     "name": "stdout",
     "output_type": "stream",
     "text": [
      "File aaaaantl_s001_t001.edf was passed, passed files: 37, read files: 48\n",
      "File aaaaamyl_s001_t000.edf was passed, passed files: 38, read files: 48\n",
      "File aaaaapke_s001_t000.edf was passed, passed files: 39, read files: 48\n"
     ]
    },
    {
     "name": "stderr",
     "output_type": "stream",
     "text": [
      "  7%|████████▍                                                                                                              | 214/3009 [02:50<58:38,  1.26s/it]"
     ]
    },
    {
     "name": "stdout",
     "output_type": "stream",
     "text": [
      "File aaaaabzx_s004_t000.edf was passed, passed files: 40, read files: 54\n",
      "File aaaaangn_s001_t000.edf was passed, passed files: 41, read files: 54\n"
     ]
    },
    {
     "name": "stderr",
     "output_type": "stream",
     "text": [
      "  8%|█████████                                                                                                              | 229/3009 [02:59<42:59,  1.08it/s]"
     ]
    },
    {
     "name": "stdout",
     "output_type": "stream",
     "text": [
      "File aaaaanto_s001_t000.edf was passed, passed files: 42, read files: 57\n",
      "File aaaaaosj_s001_t000.edf was passed, passed files: 43, read files: 57\n",
      "File aaaaaoqq_s001_t000.edf was passed, passed files: 44, read files: 57\n",
      "File aaaaanuq_s001_t000.edf was passed, passed files: 45, read files: 57\n"
     ]
    },
    {
     "name": "stderr",
     "output_type": "stream",
     "text": [
      "  8%|█████████▍                                                                                                             | 238/3009 [03:04<36:25,  1.27it/s]"
     ]
    },
    {
     "name": "stdout",
     "output_type": "stream",
     "text": [
      "File aaaaanmw_s007_t000.edf was passed, passed files: 46, read files: 59\n",
      "File aaaaaoaz_s001_t000.edf was passed, passed files: 47, read files: 59\n"
     ]
    },
    {
     "name": "stderr",
     "output_type": "stream",
     "text": [
      "  8%|█████████▊                                                                                                             | 248/3009 [03:15<51:02,  1.11s/it]"
     ]
    },
    {
     "name": "stdout",
     "output_type": "stream",
     "text": [
      "File aaaaamob_s001_t000.edf was passed, passed files: 48, read files: 63\n"
     ]
    },
    {
     "name": "stderr",
     "output_type": "stream",
     "text": [
      "  8%|██████████                                                                                                             | 255/3009 [03:20<44:52,  1.02it/s]"
     ]
    },
    {
     "name": "stdout",
     "output_type": "stream",
     "text": [
      "File aaaaapph_s001_t001.edf was passed, passed files: 49, read files: 65\n",
      "File aaaaaoed_s001_t000.edf was passed, passed files: 50, read files: 65\n"
     ]
    },
    {
     "name": "stderr",
     "output_type": "stream",
     "text": [
      "  9%|██████████▊                                                                                                            | 273/3009 [03:29<33:34,  1.36it/s]"
     ]
    },
    {
     "name": "stdout",
     "output_type": "stream",
     "text": [
      "File aaaaappj_s001_t002.edf was passed, passed files: 51, read files: 68\n"
     ]
    },
    {
     "name": "stderr",
     "output_type": "stream",
     "text": [
      "  9%|███████████                                                                                                          | 284/3009 [03:45<1:11:07,  1.57s/it]"
     ]
    },
    {
     "name": "stdout",
     "output_type": "stream",
     "text": [
      "File aaaaanvq_s001_t000.edf was passed, passed files: 52, read files: 73\n",
      "File aaaaanaj_s001_t000.edf was passed, passed files: 53, read files: 73\n"
     ]
    },
    {
     "name": "stderr",
     "output_type": "stream",
     "text": [
      " 10%|███████████▌                                                                                                           | 292/3009 [03:53<57:37,  1.27s/it]"
     ]
    },
    {
     "name": "stdout",
     "output_type": "stream",
     "text": [
      "File aaaaaola_s001_t000.edf was passed, passed files: 54, read files: 76\n",
      "File aaaaapnc_s001_t000.edf was passed, passed files: 55, read files: 76\n"
     ]
    },
    {
     "name": "stderr",
     "output_type": "stream",
     "text": [
      " 10%|███████████▊                                                                                                           | 298/3009 [03:56<38:27,  1.17it/s]"
     ]
    },
    {
     "name": "stdout",
     "output_type": "stream",
     "text": [
      "File aaaaamwf_s002_t000.edf was passed, passed files: 56, read files: 77\n",
      "File aaaaapja_s001_t000.edf was passed, passed files: 57, read files: 77\n"
     ]
    },
    {
     "name": "stderr",
     "output_type": "stream",
     "text": [
      " 10%|████████████                                                                                                           | 305/3009 [04:02<42:12,  1.07it/s]"
     ]
    },
    {
     "name": "stdout",
     "output_type": "stream",
     "text": [
      "File aaaaaned_s001_t001.edf was passed, passed files: 58, read files: 79\n",
      "File aaaaanvl_s001_t000.edf was passed, passed files: 59, read files: 79\n"
     ]
    },
    {
     "name": "stderr",
     "output_type": "stream",
     "text": [
      " 10%|████████████▏                                                                                                        | 313/3009 [04:14<1:05:04,  1.45s/it]"
     ]
    },
    {
     "name": "stdout",
     "output_type": "stream",
     "text": [
      "File aaaaaoqm_s001_t000.edf was passed, passed files: 60, read files: 83\n"
     ]
    },
    {
     "name": "stderr",
     "output_type": "stream",
     "text": [
      " 10%|████████████▏                                                                                                        | 315/3009 [04:17<1:04:48,  1.44s/it]"
     ]
    },
    {
     "name": "stdout",
     "output_type": "stream",
     "text": [
      "File aaaaakzu_s003_t000.edf was passed, passed files: 61, read files: 84\n",
      "File aaaaamxb_s001_t000.edf was passed, passed files: 62, read files: 84\n",
      "File aaaaapem_s001_t000.edf was passed, passed files: 63, read files: 84\n",
      "File aaaaaimz_s003_t000.edf was passed, passed files: 64, read files: 84\n"
     ]
    },
    {
     "name": "stderr",
     "output_type": "stream",
     "text": [
      " 11%|████████████▊                                                                                                          | 325/3009 [04:20<30:41,  1.46it/s]"
     ]
    },
    {
     "name": "stdout",
     "output_type": "stream",
     "text": [
      "File aaaaamvq_s001_t000.edf was passed, passed files: 65, read files: 85\n"
     ]
    },
    {
     "name": "stderr",
     "output_type": "stream",
     "text": [
      " 11%|█████████████                                                                                                          | 331/3009 [04:29<45:57,  1.03s/it]"
     ]
    },
    {
     "name": "stdout",
     "output_type": "stream",
     "text": [
      "File aaaaapdn_s001_t000.edf was passed, passed files: 66, read files: 88\n"
     ]
    },
    {
     "name": "stderr",
     "output_type": "stream",
     "text": [
      " 11%|█████████████▎                                                                                                         | 338/3009 [04:36<51:22,  1.15s/it]"
     ]
    },
    {
     "name": "stdout",
     "output_type": "stream",
     "text": [
      "File aaaaamnh_s001_t000.edf was passed, passed files: 67, read files: 91\n",
      "File aaaaapbf_s001_t000.edf was passed, passed files: 68, read files: 91\n",
      "File aaaaanrg_s001_t000.edf was passed, passed files: 69, read files: 91\n"
     ]
    },
    {
     "name": "stderr",
     "output_type": "stream",
     "text": [
      " 12%|█████████████▋                                                                                                         | 347/3009 [04:39<27:43,  1.60it/s]"
     ]
    },
    {
     "name": "stdout",
     "output_type": "stream",
     "text": [
      "File aaaaamxa_s001_t000.edf was passed, passed files: 70, read files: 92\n"
     ]
    },
    {
     "name": "stderr",
     "output_type": "stream",
     "text": [
      " 12%|█████████████▊                                                                                                         | 349/3009 [04:42<34:43,  1.28it/s]"
     ]
    },
    {
     "name": "stdout",
     "output_type": "stream",
     "text": [
      "File aaaaaoph_s001_t000.edf was passed, passed files: 71, read files: 93\n"
     ]
    },
    {
     "name": "stderr",
     "output_type": "stream",
     "text": [
      " 12%|██████████████                                                                                                         | 354/3009 [04:45<32:01,  1.38it/s]"
     ]
    },
    {
     "name": "stdout",
     "output_type": "stream",
     "text": [
      "File aaaaapvi_s001_t001.edf was passed, passed files: 72, read files: 94\n"
     ]
    },
    {
     "name": "stderr",
     "output_type": "stream",
     "text": [
      " 12%|██████████████▏                                                                                                        | 358/3009 [04:48<32:10,  1.37it/s]"
     ]
    },
    {
     "name": "stdout",
     "output_type": "stream",
     "text": [
      "File aaaaanch_s001_t000.edf was passed, passed files: 73, read files: 95\n"
     ]
    },
    {
     "name": "stderr",
     "output_type": "stream",
     "text": [
      " 12%|██████████████                                                                                                       | 363/3009 [04:59<1:00:14,  1.37s/it]"
     ]
    },
    {
     "name": "stdout",
     "output_type": "stream",
     "text": [
      "File aaaaamqb_s001_t000.edf was passed, passed files: 74, read files: 97\n",
      "File aaaaakid_s002_t000.edf was passed, passed files: 75, read files: 97\n"
     ]
    },
    {
     "name": "stderr",
     "output_type": "stream",
     "text": [
      " 12%|██████████████▌                                                                                                        | 368/3009 [05:05<58:09,  1.32s/it]"
     ]
    },
    {
     "name": "stdout",
     "output_type": "stream",
     "text": [
      "File aaaaaedn_s004_t000.edf was passed, passed files: 76, read files: 99\n",
      "File aaaaaprq_s001_t000.edf was passed, passed files: 77, read files: 99\n"
     ]
    },
    {
     "name": "stderr",
     "output_type": "stream",
     "text": [
      " 12%|██████████████▋                                                                                                        | 372/3009 [05:08<47:35,  1.08s/it]"
     ]
    },
    {
     "name": "stdout",
     "output_type": "stream",
     "text": [
      "File aaaaadna_s002_t000.edf was passed, passed files: 78, read files: 100\n"
     ]
    },
    {
     "name": "stderr",
     "output_type": "stream",
     "text": [
      " 13%|███████████████                                                                                                        | 381/3009 [05:11<28:34,  1.53it/s]"
     ]
    },
    {
     "name": "stdout",
     "output_type": "stream",
     "text": [
      "File aaaaaniv_s001_t000.edf was passed, passed files: 79, read files: 101\n",
      "File aaaaansm_s001_t000.edf was passed, passed files: 80, read files: 101\n"
     ]
    },
    {
     "name": "stderr",
     "output_type": "stream",
     "text": [
      " 13%|███████████████▍                                                                                                       | 391/3009 [05:14<20:58,  2.08it/s]"
     ]
    },
    {
     "name": "stdout",
     "output_type": "stream",
     "text": [
      "File aaaaanza_s001_t000.edf was passed, passed files: 81, read files: 102\n"
     ]
    },
    {
     "name": "stderr",
     "output_type": "stream",
     "text": [
      " 13%|███████████████▋                                                                                                       | 397/3009 [05:19<29:08,  1.49it/s]"
     ]
    },
    {
     "name": "stdout",
     "output_type": "stream",
     "text": [
      "File aaaaabyu_s003_t000.edf was passed, passed files: 82, read files: 104\n"
     ]
    },
    {
     "name": "stderr",
     "output_type": "stream",
     "text": [
      " 14%|███████████████▉                                                                                                     | 410/3009 [05:45<1:20:18,  1.85s/it]"
     ]
    },
    {
     "name": "stdout",
     "output_type": "stream",
     "text": [
      "File aaaaappc_s001_t001.edf was passed, passed files: 83, read files: 110\n",
      "File aaaaaouh_s001_t000.edf was passed, passed files: 84, read files: 110\n"
     ]
    },
    {
     "name": "stderr",
     "output_type": "stream",
     "text": [
      " 14%|████████████████▍                                                                                                      | 416/3009 [05:47<47:04,  1.09s/it]"
     ]
    },
    {
     "name": "stdout",
     "output_type": "stream",
     "text": [
      "File aaaaaksc_s004_t000.edf was passed, passed files: 85, read files: 111\n",
      "File aaaaaood_s001_t002.edf was passed, passed files: 86, read files: 111\n",
      "File aaaaalby_s003_t000.edf was passed, passed files: 87, read files: 111\n"
     ]
    },
    {
     "name": "stderr",
     "output_type": "stream",
     "text": [
      " 14%|████████████████▌                                                                                                    | 427/3009 [06:05<1:10:51,  1.65s/it]"
     ]
    },
    {
     "name": "stdout",
     "output_type": "stream",
     "text": [
      "File aaaaamtl_s002_t000.edf was passed, passed files: 88, read files: 116\n"
     ]
    },
    {
     "name": "stderr",
     "output_type": "stream",
     "text": [
      " 14%|█████████████████                                                                                                      | 433/3009 [06:07<43:14,  1.01s/it]"
     ]
    },
    {
     "name": "stdout",
     "output_type": "stream",
     "text": [
      "File aaaaaonk_s001_t000.edf was passed, passed files: 89, read files: 117\n"
     ]
    },
    {
     "name": "stderr",
     "output_type": "stream",
     "text": [
      " 15%|█████████████████▎                                                                                                     | 439/3009 [06:10<32:07,  1.33it/s]"
     ]
    },
    {
     "name": "stdout",
     "output_type": "stream",
     "text": [
      "File aaaaamwr_s001_t000.edf was passed, passed files: 90, read files: 118\n"
     ]
    },
    {
     "name": "stderr",
     "output_type": "stream",
     "text": [
      " 15%|█████████████████▌                                                                                                     | 445/3009 [06:13<27:28,  1.56it/s]"
     ]
    },
    {
     "name": "stdout",
     "output_type": "stream",
     "text": [
      "File aaaaapfz_s001_t000.edf was passed, passed files: 91, read files: 119\n"
     ]
    },
    {
     "name": "stderr",
     "output_type": "stream",
     "text": [
      " 15%|█████████████████▌                                                                                                   | 451/3009 [06:34<1:15:29,  1.77s/it]"
     ]
    },
    {
     "name": "stdout",
     "output_type": "stream",
     "text": [
      "File aaaaaohk_s001_t001.edf was passed, passed files: 92, read files: 123\n",
      "File aaaaaoru_s001_t001.edf was passed, passed files: 93, read files: 123\n",
      "File aaaaalrt_s002_t000.edf was passed, passed files: 94, read files: 123\n"
     ]
    },
    {
     "name": "stderr",
     "output_type": "stream",
     "text": [
      " 16%|██████████████████▋                                                                                                    | 473/3009 [06:46<38:37,  1.09it/s]"
     ]
    },
    {
     "name": "stdout",
     "output_type": "stream",
     "text": [
      "File aaaaanvd_s001_t000.edf was passed, passed files: 95, read files: 127\n"
     ]
    },
    {
     "name": "stderr",
     "output_type": "stream",
     "text": [
      " 16%|██████████████████▉                                                                                                    | 479/3009 [06:49<30:40,  1.37it/s]"
     ]
    },
    {
     "name": "stdout",
     "output_type": "stream",
     "text": [
      "File aaaaapgp_s001_t000.edf was passed, passed files: 96, read files: 128\n"
     ]
    },
    {
     "name": "stderr",
     "output_type": "stream",
     "text": [
      " 16%|███████████████████                                                                                                    | 483/3009 [06:55<41:55,  1.00it/s]"
     ]
    },
    {
     "name": "stdout",
     "output_type": "stream",
     "text": [
      "File aaaaapkw_s001_t002.edf was passed, passed files: 97, read files: 130\n"
     ]
    },
    {
     "name": "stderr",
     "output_type": "stream",
     "text": [
      " 16%|███████████████████                                                                                                  | 491/3009 [07:09<1:18:16,  1.86s/it]"
     ]
    },
    {
     "name": "stdout",
     "output_type": "stream",
     "text": [
      "File aaaaaoag_s001_t001.edf was passed, passed files: 98, read files: 135\n"
     ]
    },
    {
     "name": "stderr",
     "output_type": "stream",
     "text": [
      " 17%|███████████████████▋                                                                                                   | 497/3009 [07:13<43:56,  1.05s/it]"
     ]
    },
    {
     "name": "stdout",
     "output_type": "stream",
     "text": [
      "File aaaaaoxj_s001_t000.edf was passed, passed files: 99, read files: 136\n"
     ]
    },
    {
     "name": "stderr",
     "output_type": "stream",
     "text": [
      " 17%|████████████████████▏                                                                                                  | 511/3009 [07:19<25:27,  1.64it/s]"
     ]
    },
    {
     "name": "stdout",
     "output_type": "stream",
     "text": [
      "File aaaaapgd_s001_t000.edf was passed, passed files: 100, read files: 138\n",
      "File aaaaapcc_s001_t001.edf was passed, passed files: 101, read files: 138\n"
     ]
    },
    {
     "name": "stderr",
     "output_type": "stream",
     "text": [
      " 17%|████████████████████▍                                                                                                  | 518/3009 [07:25<30:41,  1.35it/s]"
     ]
    },
    {
     "name": "stdout",
     "output_type": "stream",
     "text": [
      "File aaaaaowe_s001_t001.edf was passed, passed files: 102, read files: 140\n"
     ]
    },
    {
     "name": "stderr",
     "output_type": "stream",
     "text": [
      " 17%|████████████████████▋                                                                                                  | 524/3009 [07:30<33:23,  1.24it/s]"
     ]
    },
    {
     "name": "stdout",
     "output_type": "stream",
     "text": [
      "File aaaaapez_s001_t000.edf was passed, passed files: 103, read files: 142\n",
      "File aaaaamae_s003_t000.edf was passed, passed files: 104, read files: 142\n",
      "File aaaaancf_s001_t000.edf was passed, passed files: 105, read files: 142\n",
      "File aaaaaodr_s001_t000.edf was passed, passed files: 106, read files: 142\n"
     ]
    },
    {
     "name": "stderr",
     "output_type": "stream",
     "text": [
      " 18%|█████████████████████▌                                                                                                 | 546/3009 [07:35<16:38,  2.47it/s]"
     ]
    },
    {
     "name": "stdout",
     "output_type": "stream",
     "text": [
      "File aaaaapoz_s001_t002.edf was passed, passed files: 107, read files: 144\n"
     ]
    },
    {
     "name": "stderr",
     "output_type": "stream",
     "text": [
      " 18%|█████████████████████▊                                                                                                 | 550/3009 [07:41<27:22,  1.50it/s]"
     ]
    },
    {
     "name": "stdout",
     "output_type": "stream",
     "text": [
      "File aaaaaowu_s001_t000.edf was passed, passed files: 108, read files: 146\n"
     ]
    },
    {
     "name": "stderr",
     "output_type": "stream",
     "text": [
      " 19%|██████████████████████▏                                                                                                | 562/3009 [07:44<17:54,  2.28it/s]"
     ]
    },
    {
     "name": "stdout",
     "output_type": "stream",
     "text": [
      "File aaaaanov_s001_t000.edf was passed, passed files: 109, read files: 147\n"
     ]
    },
    {
     "name": "stderr",
     "output_type": "stream",
     "text": [
      " 19%|██████████████████████▌                                                                                                | 570/3009 [07:47<17:03,  2.38it/s]"
     ]
    },
    {
     "name": "stdout",
     "output_type": "stream",
     "text": [
      "File aaaaamxx_s001_t000.edf was passed, passed files: 110, read files: 148\n"
     ]
    },
    {
     "name": "stderr",
     "output_type": "stream",
     "text": [
      " 19%|███████████████████████                                                                                                | 584/3009 [07:58<33:05,  1.22it/s]"
     ]
    },
    {
     "name": "stdout",
     "output_type": "stream",
     "text": [
      "File aaaaabcl_s002_t000.edf was passed, passed files: 111, read files: 152\n"
     ]
    },
    {
     "name": "stderr",
     "output_type": "stream",
     "text": [
      " 20%|███████████████████████▌                                                                                               | 597/3009 [08:16<58:28,  1.45s/it]"
     ]
    },
    {
     "name": "stdout",
     "output_type": "stream",
     "text": [
      "File aaaaapog_s001_t000.edf was passed, passed files: 112, read files: 158\n"
     ]
    },
    {
     "name": "stderr",
     "output_type": "stream",
     "text": [
      " 20%|███████████████████████▊                                                                                               | 602/3009 [08:19<39:40,  1.01it/s]"
     ]
    },
    {
     "name": "stdout",
     "output_type": "stream",
     "text": [
      "File aaaaapcv_s001_t001.edf was passed, passed files: 113, read files: 159\n"
     ]
    },
    {
     "name": "stderr",
     "output_type": "stream",
     "text": [
      " 21%|████████████████████████▋                                                                                              | 625/3009 [08:38<43:42,  1.10s/it]"
     ]
    },
    {
     "name": "stdout",
     "output_type": "stream",
     "text": [
      "File aaaaaodh_s001_t000.edf was passed, passed files: 114, read files: 166\n"
     ]
    },
    {
     "name": "stderr",
     "output_type": "stream",
     "text": [
      " 21%|████████████████████████▊                                                                                              | 628/3009 [08:41<42:43,  1.08s/it]"
     ]
    },
    {
     "name": "stdout",
     "output_type": "stream",
     "text": [
      "File aaaaaqax_s001_t000.edf was passed, passed files: 115, read files: 167\n"
     ]
    },
    {
     "name": "stderr",
     "output_type": "stream",
     "text": [
      " 21%|█████████████████████████▌                                                                                             | 645/3009 [08:56<29:02,  1.36it/s]"
     ]
    },
    {
     "name": "stdout",
     "output_type": "stream",
     "text": [
      "File aaaaaowm_s001_t000.edf was passed, passed files: 116, read files: 172\n"
     ]
    },
    {
     "name": "stderr",
     "output_type": "stream",
     "text": [
      " 22%|█████████████████████████▋                                                                                             | 648/3009 [08:58<28:25,  1.38it/s]"
     ]
    },
    {
     "name": "stdout",
     "output_type": "stream",
     "text": [
      "File aaaaanet_s001_t000.edf was passed, passed files: 117, read files: 173\n"
     ]
    },
    {
     "name": "stderr",
     "output_type": "stream",
     "text": [
      " 22%|██████████████████████████                                                                                             | 659/3009 [09:18<59:18,  1.51s/it]"
     ]
    },
    {
     "name": "stdout",
     "output_type": "stream",
     "text": [
      "File aaaaamqr_s001_t000.edf was passed, passed files: 118, read files: 180\n",
      "File aaaaanee_s001_t000.edf was passed, passed files: 119, read files: 180\n",
      "File aaaaankx_s001_t000.edf was passed, passed files: 120, read files: 180\n"
     ]
    },
    {
     "name": "stderr",
     "output_type": "stream",
     "text": [
      " 22%|██████████████████████████▎                                                                                            | 665/3009 [09:21<36:24,  1.07it/s]"
     ]
    },
    {
     "name": "stdout",
     "output_type": "stream",
     "text": [
      "File aaaaanpg_s001_t000.edf was passed, passed files: 121, read files: 181\n"
     ]
    },
    {
     "name": "stderr",
     "output_type": "stream",
     "text": [
      " 23%|███████████████████████████                                                                                            | 685/3009 [09:41<46:51,  1.21s/it]"
     ]
    },
    {
     "name": "stdout",
     "output_type": "stream",
     "text": [
      "File aaaaansk_s001_t000.edf was passed, passed files: 122, read files: 188\n",
      "File aaaaakth_s003_t000.edf was passed, passed files: 123, read files: 188\n"
     ]
    },
    {
     "name": "stderr",
     "output_type": "stream",
     "text": [
      " 23%|███████████████████████████▎                                                                                           | 692/3009 [09:44<30:11,  1.28it/s]"
     ]
    },
    {
     "name": "stdout",
     "output_type": "stream",
     "text": [
      "File aaaaapbb_s001_t000.edf was passed, passed files: 124, read files: 189\n"
     ]
    },
    {
     "name": "stderr",
     "output_type": "stream",
     "text": [
      " 23%|███████████████████████████▋                                                                                           | 699/3009 [09:53<42:59,  1.12s/it]"
     ]
    },
    {
     "name": "stdout",
     "output_type": "stream",
     "text": [
      "File aaaaalvl_s002_t000.edf was passed, passed files: 125, read files: 192\n"
     ]
    },
    {
     "name": "stderr",
     "output_type": "stream",
     "text": [
      " 23%|███████████████████████████▉                                                                                           | 706/3009 [09:59<36:41,  1.05it/s]"
     ]
    },
    {
     "name": "stdout",
     "output_type": "stream",
     "text": [
      "File aaaaaoid_s002_t000.edf was passed, passed files: 126, read files: 194\n",
      "File aaaaanrv_s001_t000.edf was passed, passed files: 127, read files: 194\n"
     ]
    },
    {
     "name": "stderr",
     "output_type": "stream",
     "text": [
      " 24%|████████████████████████████▏                                                                                          | 714/3009 [10:04<32:29,  1.18it/s]"
     ]
    },
    {
     "name": "stdout",
     "output_type": "stream",
     "text": [
      "File aaaaapie_s001_t000.edf was passed, passed files: 128, read files: 196\n"
     ]
    },
    {
     "name": "stderr",
     "output_type": "stream",
     "text": [
      " 24%|████████████████████████████▌                                                                                          | 723/3009 [10:13<36:23,  1.05it/s]"
     ]
    },
    {
     "name": "stdout",
     "output_type": "stream",
     "text": [
      "File aaaaaosb_s002_t001.edf was passed, passed files: 129, read files: 199\n"
     ]
    },
    {
     "name": "stderr",
     "output_type": "stream",
     "text": [
      " 24%|█████████████████████████████                                                                                          | 735/3009 [10:22<32:54,  1.15it/s]"
     ]
    },
    {
     "name": "stdout",
     "output_type": "stream",
     "text": [
      "File aaaaamoc_s002_t000.edf was passed, passed files: 130, read files: 202\n"
     ]
    },
    {
     "name": "stderr",
     "output_type": "stream",
     "text": [
      " 25%|█████████████████████████████▏                                                                                         | 739/3009 [10:25<31:42,  1.19it/s]"
     ]
    },
    {
     "name": "stdout",
     "output_type": "stream",
     "text": [
      "File aaaaanfd_s001_t000.edf was passed, passed files: 131, read files: 203\n"
     ]
    },
    {
     "name": "stderr",
     "output_type": "stream",
     "text": [
      " 25%|██████████████████████████████▏                                                                                        | 763/3009 [10:55<34:38,  1.08it/s]"
     ]
    },
    {
     "name": "stdout",
     "output_type": "stream",
     "text": [
      "File aaaaanif_s001_t000.edf was passed, passed files: 132, read files: 212\n"
     ]
    },
    {
     "name": "stderr",
     "output_type": "stream",
     "text": [
      " 25%|██████████████████████████████▎                                                                                        | 767/3009 [10:58<33:08,  1.13it/s]"
     ]
    },
    {
     "name": "stdout",
     "output_type": "stream",
     "text": [
      "File aaaaaoym_s001_t000.edf was passed, passed files: 133, read files: 213\n"
     ]
    },
    {
     "name": "stderr",
     "output_type": "stream",
     "text": [
      " 26%|██████████████████████████████▍                                                                                        | 770/3009 [11:01<34:27,  1.08it/s]"
     ]
    },
    {
     "name": "stdout",
     "output_type": "stream",
     "text": [
      "File aaaaaocu_s001_t000.edf was passed, passed files: 134, read files: 214\n"
     ]
    },
    {
     "name": "stderr",
     "output_type": "stream",
     "text": [
      " 26%|██████████████████████████████▋                                                                                        | 777/3009 [11:04<25:57,  1.43it/s]"
     ]
    },
    {
     "name": "stdout",
     "output_type": "stream",
     "text": [
      "File aaaaankh_s002_t000.edf was passed, passed files: 135, read files: 215\n",
      "File aaaaaoiz_s001_t000.edf was passed, passed files: 136, read files: 215\n"
     ]
    },
    {
     "name": "stderr",
     "output_type": "stream",
     "text": [
      " 26%|███████████████████████████████▏                                                                                       | 788/3009 [11:10<24:21,  1.52it/s]"
     ]
    },
    {
     "name": "stdout",
     "output_type": "stream",
     "text": [
      "File aaaaapos_s001_t000.edf was passed, passed files: 137, read files: 217\n"
     ]
    },
    {
     "name": "stderr",
     "output_type": "stream",
     "text": [
      " 26%|███████████████████████████████▌                                                                                       | 797/3009 [11:16<24:47,  1.49it/s]"
     ]
    },
    {
     "name": "stdout",
     "output_type": "stream",
     "text": [
      "File aaaaaiuk_s002_t000.edf was passed, passed files: 138, read files: 219\n",
      "File aaaaaomg_s001_t000.edf was passed, passed files: 139, read files: 219\n"
     ]
    },
    {
     "name": "stderr",
     "output_type": "stream",
     "text": [
      " 27%|███████████████████████████████▉                                                                                       | 809/3009 [11:31<49:52,  1.36s/it]"
     ]
    },
    {
     "name": "stdout",
     "output_type": "stream",
     "text": [
      "File aaaaaixg_s002_t000.edf was passed, passed files: 140, read files: 224\n",
      "File aaaaaixl_s005_t000.edf was passed, passed files: 141, read files: 224\n"
     ]
    },
    {
     "name": "stderr",
     "output_type": "stream",
     "text": [
      " 27%|████████████████████████████████▎                                                                                      | 818/3009 [11:34<26:51,  1.36it/s]"
     ]
    },
    {
     "name": "stdout",
     "output_type": "stream",
     "text": [
      "File aaaaaojy_s001_t000.edf was passed, passed files: 142, read files: 225\n"
     ]
    },
    {
     "name": "stderr",
     "output_type": "stream",
     "text": [
      " 27%|████████████████████████████████▍                                                                                      | 821/3009 [11:36<26:50,  1.36it/s]"
     ]
    },
    {
     "name": "stdout",
     "output_type": "stream",
     "text": [
      "File aaaaanvx_s001_t000.edf was passed, passed files: 143, read files: 226\n"
     ]
    },
    {
     "name": "stderr",
     "output_type": "stream",
     "text": [
      " 28%|█████████████████████████████████                                                                                      | 835/3009 [11:51<36:16,  1.00s/it]"
     ]
    },
    {
     "name": "stdout",
     "output_type": "stream",
     "text": [
      "File aaaaamnj_s003_t000.edf was passed, passed files: 144, read files: 231\n",
      "File aaaaapky_s001_t000.edf was passed, passed files: 145, read files: 231\n"
     ]
    },
    {
     "name": "stderr",
     "output_type": "stream",
     "text": [
      " 28%|█████████████████████████████████▎                                                                                     | 843/3009 [11:59<38:01,  1.05s/it]"
     ]
    },
    {
     "name": "stdout",
     "output_type": "stream",
     "text": [
      "File aaaaamnx_s001_t000.edf was passed, passed files: 146, read files: 234\n"
     ]
    },
    {
     "name": "stderr",
     "output_type": "stream",
     "text": [
      " 28%|█████████████████████████████████▊                                                                                     | 856/3009 [12:08<31:47,  1.13it/s]"
     ]
    },
    {
     "name": "stdout",
     "output_type": "stream",
     "text": [
      "File aaaaapfq_s002_t000.edf was passed, passed files: 147, read files: 237\n",
      "File aaaaanep_s004_t000.edf was passed, passed files: 148, read files: 237\n"
     ]
    },
    {
     "name": "stderr",
     "output_type": "stream",
     "text": [
      " 29%|██████████████████████████████████▏                                                                                    | 863/3009 [12:11<23:53,  1.50it/s]"
     ]
    },
    {
     "name": "stdout",
     "output_type": "stream",
     "text": [
      "File aaaaalad_s002_t000.edf was passed, passed files: 149, read files: 238\n"
     ]
    },
    {
     "name": "stderr",
     "output_type": "stream",
     "text": [
      " 29%|██████████████████████████████████▍                                                                                    | 871/3009 [12:13<18:17,  1.95it/s]"
     ]
    },
    {
     "name": "stdout",
     "output_type": "stream",
     "text": [
      "File aaaaamvf_s001_t000.edf was passed, passed files: 150, read files: 239\n",
      "File aaaaancz_s001_t000.edf was passed, passed files: 151, read files: 239\n"
     ]
    },
    {
     "name": "stderr",
     "output_type": "stream",
     "text": [
      " 29%|██████████████████████████████████▌                                                                                    | 874/3009 [12:17<21:54,  1.62it/s]"
     ]
    },
    {
     "name": "stdout",
     "output_type": "stream",
     "text": [
      "File aaaaansh_s001_t000.edf was passed, passed files: 152, read files: 240\n"
     ]
    },
    {
     "name": "stderr",
     "output_type": "stream",
     "text": [
      " 30%|███████████████████████████████████▎                                                                                   | 892/3009 [12:37<38:36,  1.09s/it]"
     ]
    },
    {
     "name": "stdout",
     "output_type": "stream",
     "text": [
      "File aaaaancj_s001_t000.edf was passed, passed files: 153, read files: 247\n"
     ]
    },
    {
     "name": "stderr",
     "output_type": "stream",
     "text": [
      " 30%|███████████████████████████████████▊                                                                                   | 904/3009 [12:40<18:50,  1.86it/s]"
     ]
    },
    {
     "name": "stdout",
     "output_type": "stream",
     "text": [
      "File aaaaanzp_s001_t000.edf was passed, passed files: 154, read files: 248\n",
      "File aaaaaoxb_s001_t000.edf was passed, passed files: 155, read files: 248\n",
      "File aaaaapip_s001_t000.edf was passed, passed files: 156, read files: 248\n"
     ]
    },
    {
     "name": "stderr",
     "output_type": "stream",
     "text": [
      " 30%|████████████████████████████████████                                                                                   | 913/3009 [12:45<20:10,  1.73it/s]"
     ]
    },
    {
     "name": "stdout",
     "output_type": "stream",
     "text": [
      "File aaaaanse_s001_t000.edf was passed, passed files: 157, read files: 250\n"
     ]
    },
    {
     "name": "stderr",
     "output_type": "stream",
     "text": [
      " 31%|████████████████████████████████████▍                                                                                  | 920/3009 [12:56<43:10,  1.24s/it]"
     ]
    },
    {
     "name": "stdout",
     "output_type": "stream",
     "text": [
      "File aaaaamhh_s002_t000.edf was passed, passed files: 158, read files: 254\n"
     ]
    },
    {
     "name": "stderr",
     "output_type": "stream",
     "text": [
      " 31%|████████████████████████████████████▌                                                                                  | 924/3009 [12:59<35:36,  1.02s/it]"
     ]
    },
    {
     "name": "stdout",
     "output_type": "stream",
     "text": [
      "File aaaaappg_s001_t002.edf was passed, passed files: 159, read files: 255\n",
      "File aaaaaizb_s003_t000.edf was passed, passed files: 160, read files: 255\n"
     ]
    },
    {
     "name": "stderr",
     "output_type": "stream",
     "text": [
      " 31%|████████████████████████████████████▋                                                                                  | 928/3009 [13:02<32:04,  1.08it/s]"
     ]
    },
    {
     "name": "stdout",
     "output_type": "stream",
     "text": [
      "File aaaaaphv_s001_t000.edf was passed, passed files: 161, read files: 256\n"
     ]
    },
    {
     "name": "stderr",
     "output_type": "stream",
     "text": [
      " 31%|████████████████████████████████████▊                                                                                  | 930/3009 [13:05<36:06,  1.04s/it]"
     ]
    },
    {
     "name": "stdout",
     "output_type": "stream",
     "text": [
      "File aaaaanay_s002_t000.edf was passed, passed files: 162, read files: 257\n"
     ]
    },
    {
     "name": "stderr",
     "output_type": "stream",
     "text": [
      " 31%|█████████████████████████████████████▏                                                                                 | 939/3009 [13:11<26:01,  1.33it/s]"
     ]
    },
    {
     "name": "stdout",
     "output_type": "stream",
     "text": [
      "File aaaaapmh_s001_t001.edf was passed, passed files: 163, read files: 259\n"
     ]
    },
    {
     "name": "stderr",
     "output_type": "stream",
     "text": [
      " 31%|█████████████████████████████████████▎                                                                                 | 945/3009 [13:21<42:59,  1.25s/it]"
     ]
    },
    {
     "name": "stdout",
     "output_type": "stream",
     "text": [
      "File aaaaaojl_s002_t000.edf was passed, passed files: 164, read files: 262\n"
     ]
    },
    {
     "name": "stderr",
     "output_type": "stream",
     "text": [
      " 32%|█████████████████████████████████████▌                                                                                 | 950/3009 [13:26<43:10,  1.26s/it]"
     ]
    },
    {
     "name": "stdout",
     "output_type": "stream",
     "text": [
      "File aaaaapfm_s001_t000.edf was passed, passed files: 165, read files: 264\n",
      "File aaaaaovj_s001_t000.edf was passed, passed files: 166, read files: 264\n"
     ]
    },
    {
     "name": "stderr",
     "output_type": "stream",
     "text": [
      " 32%|█████████████████████████████████████▋                                                                                 | 953/3009 [13:29<39:22,  1.15s/it]"
     ]
    },
    {
     "name": "stdout",
     "output_type": "stream",
     "text": [
      "File aaaaapou_s001_t000.edf was passed, passed files: 167, read files: 265\n",
      "File aaaaantk_s001_t000.edf was passed, passed files: 168, read files: 265\n",
      "File aaaaamyh_s001_t002.edf was passed, passed files: 169, read files: 265\n"
     ]
    },
    {
     "name": "stderr",
     "output_type": "stream",
     "text": [
      " 32%|█████████████████████████████████████▉                                                                                 | 959/3009 [13:32<28:17,  1.21it/s]"
     ]
    },
    {
     "name": "stdout",
     "output_type": "stream",
     "text": [
      "File aaaaapfu_s001_t000.edf was passed, passed files: 170, read files: 266\n"
     ]
    },
    {
     "name": "stderr",
     "output_type": "stream",
     "text": [
      " 32%|██████████████████████████████████████                                                                                 | 963/3009 [13:36<28:13,  1.21it/s]"
     ]
    },
    {
     "name": "stdout",
     "output_type": "stream",
     "text": [
      "File aaaaandp_s001_t000.edf was passed, passed files: 171, read files: 267\n"
     ]
    },
    {
     "name": "stderr",
     "output_type": "stream",
     "text": [
      " 33%|██████████████████████████████████████▋                                                                                | 979/3009 [13:47<29:30,  1.15it/s]"
     ]
    },
    {
     "name": "stdout",
     "output_type": "stream",
     "text": [
      "File aaaaanon_s001_t000.edf was passed, passed files: 172, read files: 271\n"
     ]
    },
    {
     "name": "stderr",
     "output_type": "stream",
     "text": [
      " 33%|██████████████████████████████████████▊                                                                                | 982/3009 [13:50<30:00,  1.13it/s]"
     ]
    },
    {
     "name": "stdout",
     "output_type": "stream",
     "text": [
      "File aaaaadfx_s004_t000.edf was passed, passed files: 173, read files: 272\n"
     ]
    },
    {
     "name": "stderr",
     "output_type": "stream",
     "text": [
      " 33%|███████████████████████████████████████                                                                                | 989/3009 [13:55<27:36,  1.22it/s]"
     ]
    },
    {
     "name": "stdout",
     "output_type": "stream",
     "text": [
      "File aaaaamxw_s001_t000.edf was passed, passed files: 174, read files: 274\n"
     ]
    },
    {
     "name": "stderr",
     "output_type": "stream",
     "text": [
      " 33%|███████████████████████████████████████▎                                                                              | 1002/3009 [14:13<33:44,  1.01s/it]"
     ]
    },
    {
     "name": "stdout",
     "output_type": "stream",
     "text": [
      "File aaaaamsu_s001_t000.edf was passed, passed files: 175, read files: 280\n"
     ]
    },
    {
     "name": "stderr",
     "output_type": "stream",
     "text": [
      " 33%|███████████████████████████████████████▍                                                                              | 1006/3009 [14:16<30:35,  1.09it/s]"
     ]
    },
    {
     "name": "stdout",
     "output_type": "stream",
     "text": [
      "File aaaaanaf_s001_t000.edf was passed, passed files: 176, read files: 281\n",
      "File aaaaaoen_s003_t000.edf was passed, passed files: 177, read files: 281\n",
      "File aaaaaoep_s001_t000.edf was passed, passed files: 178, read files: 281\n"
     ]
    },
    {
     "name": "stderr",
     "output_type": "stream",
     "text": [
      " 34%|███████████████████████████████████████▉                                                                              | 1018/3009 [14:22<23:09,  1.43it/s]"
     ]
    },
    {
     "name": "stdout",
     "output_type": "stream",
     "text": [
      "File aaaaannf_s001_t001.edf was passed, passed files: 179, read files: 283\n"
     ]
    },
    {
     "name": "stderr",
     "output_type": "stream",
     "text": [
      " 34%|████████████████████████████████████████▌                                                                             | 1034/3009 [14:38<36:22,  1.10s/it]"
     ]
    },
    {
     "name": "stdout",
     "output_type": "stream",
     "text": [
      "File aaaaapkq_s001_t000.edf was passed, passed files: 180, read files: 288\n"
     ]
    },
    {
     "name": "stderr",
     "output_type": "stream",
     "text": [
      " 34%|████████████████████████████████████████▋                                                                             | 1037/3009 [14:41<35:47,  1.09s/it]"
     ]
    },
    {
     "name": "stdout",
     "output_type": "stream",
     "text": [
      "File aaaaanmv_s001_t000.edf was passed, passed files: 181, read files: 289\n"
     ]
    },
    {
     "name": "stderr",
     "output_type": "stream",
     "text": [
      " 35%|████████████████████████████████████████▊                                                                             | 1040/3009 [14:44<33:00,  1.01s/it]"
     ]
    },
    {
     "name": "stdout",
     "output_type": "stream",
     "text": [
      "File aaaaapms_s001_t001.edf was passed, passed files: 182, read files: 290\n",
      "File aaaaapft_s001_t000.edf was passed, passed files: 183, read files: 290\n",
      "File aaaaanrw_s001_t000.edf was passed, passed files: 184, read files: 290\n"
     ]
    },
    {
     "name": "stderr",
     "output_type": "stream",
     "text": [
      " 35%|█████████████████████████████████████████▎                                                                            | 1054/3009 [14:53<28:12,  1.16it/s]"
     ]
    },
    {
     "name": "stdout",
     "output_type": "stream",
     "text": [
      "File aaaaanew_s001_t000.edf was passed, passed files: 185, read files: 293\n"
     ]
    },
    {
     "name": "stderr",
     "output_type": "stream",
     "text": [
      " 35%|█████████████████████████████████████████▌                                                                            | 1060/3009 [14:55<20:44,  1.57it/s]"
     ]
    },
    {
     "name": "stdout",
     "output_type": "stream",
     "text": [
      "File aaaaaowg_s001_t000.edf was passed, passed files: 186, read files: 294\n",
      "File aaaaaowk_s001_t000.edf was passed, passed files: 187, read files: 294\n"
     ]
    },
    {
     "name": "stderr",
     "output_type": "stream",
     "text": [
      " 36%|██████████████████████████████████████████                                                                            | 1071/3009 [15:02<21:45,  1.48it/s]"
     ]
    },
    {
     "name": "stdout",
     "output_type": "stream",
     "text": [
      "File aaaaakyz_s007_t000.edf was passed, passed files: 188, read files: 296\n"
     ]
    },
    {
     "name": "stderr",
     "output_type": "stream",
     "text": [
      " 36%|██████████████████████████████████████████▏                                                                           | 1076/3009 [15:12<41:29,  1.29s/it]"
     ]
    },
    {
     "name": "stdout",
     "output_type": "stream",
     "text": [
      "File aaaaaprt_s001_t000.edf was passed, passed files: 189, read files: 299\n",
      "File aaaaapia_s001_t000.edf was passed, passed files: 190, read files: 299\n",
      "File aaaaanho_s001_t000.edf was passed, passed files: 191, read files: 299\n"
     ]
    },
    {
     "name": "stderr",
     "output_type": "stream",
     "text": [
      " 36%|██████████████████████████████████████████▉                                                                           | 1094/3009 [15:24<26:45,  1.19it/s]"
     ]
    },
    {
     "name": "stdout",
     "output_type": "stream",
     "text": [
      "File aaaaamoq_s002_t000.edf was passed, passed files: 192, read files: 303\n"
     ]
    },
    {
     "name": "stderr",
     "output_type": "stream",
     "text": [
      " 37%|███████████████████████████████████████████▍                                                                          | 1108/3009 [15:45<47:44,  1.51s/it]"
     ]
    },
    {
     "name": "stdout",
     "output_type": "stream",
     "text": [
      "File aaaaanrx_s001_t000.edf was passed, passed files: 193, read files: 310\n"
     ]
    },
    {
     "name": "stderr",
     "output_type": "stream",
     "text": [
      " 37%|███████████████████████████████████████████▋                                                                          | 1113/3009 [15:48<32:26,  1.03s/it]"
     ]
    },
    {
     "name": "stdout",
     "output_type": "stream",
     "text": [
      "File aaaaaoob_s001_t000.edf was passed, passed files: 194, read files: 311\n"
     ]
    },
    {
     "name": "stderr",
     "output_type": "stream",
     "text": [
      " 37%|████████████████████████████████████████████                                                                          | 1124/3009 [16:00<35:48,  1.14s/it]"
     ]
    },
    {
     "name": "stdout",
     "output_type": "stream",
     "text": [
      "File aaaaaond_s001_t001.edf was passed, passed files: 195, read files: 315\n"
     ]
    },
    {
     "name": "stderr",
     "output_type": "stream",
     "text": [
      " 38%|████████████████████████████████████████████▎                                                                         | 1129/3009 [16:03<28:42,  1.09it/s]"
     ]
    },
    {
     "name": "stdout",
     "output_type": "stream",
     "text": [
      "File aaaaapqs_s001_t000.edf was passed, passed files: 196, read files: 316\n"
     ]
    },
    {
     "name": "stderr",
     "output_type": "stream",
     "text": [
      " 38%|████████████████████████████████████████████▌                                                                         | 1137/3009 [16:09<27:08,  1.15it/s]"
     ]
    },
    {
     "name": "stdout",
     "output_type": "stream",
     "text": [
      "File aaaaamvl_s001_t000.edf was passed, passed files: 197, read files: 318\n",
      "File aaaaanax_s001_t000.edf was passed, passed files: 198, read files: 318\n",
      "File aaaaaenq_s004_t005.edf was passed, passed files: 199, read files: 318\n"
     ]
    },
    {
     "name": "stderr",
     "output_type": "stream",
     "text": [
      " 38%|████████████████████████████████████████████▉                                                                         | 1145/3009 [16:15<25:39,  1.21it/s]"
     ]
    },
    {
     "name": "stdout",
     "output_type": "stream",
     "text": [
      "File aaaaapwv_s001_t000.edf was passed, passed files: 200, read files: 320\n",
      "File aaaaanvn_s001_t001.edf was passed, passed files: 201, read files: 320\n",
      "File aaaaamvc_s003_t001.edf was passed, passed files: 202, read files: 320\n",
      "File aaaaaoyd_s001_t000.edf was passed, passed files: 203, read files: 320\n",
      "File aaaaapwx_s001_t000.edf was passed, passed files: 204, read files: 320\n"
     ]
    },
    {
     "name": "stderr",
     "output_type": "stream",
     "text": [
      " 39%|█████████████████████████████████████████████▌                                                                        | 1161/3009 [16:18<12:22,  2.49it/s]"
     ]
    },
    {
     "name": "stdout",
     "output_type": "stream",
     "text": [
      "File aaaaapuv_s001_t000.edf was passed, passed files: 205, read files: 321\n"
     ]
    },
    {
     "name": "stderr",
     "output_type": "stream",
     "text": [
      " 39%|█████████████████████████████████████████████▉                                                                        | 1171/3009 [16:27<20:52,  1.47it/s]"
     ]
    },
    {
     "name": "stdout",
     "output_type": "stream",
     "text": [
      "File aaaaappd_s001_t000.edf was passed, passed files: 206, read files: 324\n"
     ]
    },
    {
     "name": "stderr",
     "output_type": "stream",
     "text": [
      " 39%|██████████████████████████████████████████████                                                                        | 1174/3009 [16:30<23:54,  1.28it/s]"
     ]
    },
    {
     "name": "stdout",
     "output_type": "stream",
     "text": [
      "File aaaaaogf_s001_t000.edf was passed, passed files: 207, read files: 325\n"
     ]
    },
    {
     "name": "stderr",
     "output_type": "stream",
     "text": [
      " 39%|██████████████████████████████████████████████▏                                                                       | 1177/3009 [16:32<24:06,  1.27it/s]"
     ]
    },
    {
     "name": "stdout",
     "output_type": "stream",
     "text": [
      "File aaaaanyq_s001_t000.edf was passed, passed files: 208, read files: 326\n"
     ]
    },
    {
     "name": "stderr",
     "output_type": "stream",
     "text": [
      " 39%|██████████████████████████████████████████████▎                                                                       | 1182/3009 [16:35<20:41,  1.47it/s]"
     ]
    },
    {
     "name": "stdout",
     "output_type": "stream",
     "text": [
      "File aaaaansy_s001_t000.edf was passed, passed files: 209, read files: 327\n",
      "File aaaaamzo_s001_t001.edf was passed, passed files: 210, read files: 327\n",
      "File aaaaaplm_s001_t000.edf was passed, passed files: 211, read files: 327\n"
     ]
    },
    {
     "name": "stderr",
     "output_type": "stream",
     "text": [
      " 40%|███████████████████████████████████████████████▏                                                                      | 1203/3009 [16:51<31:35,  1.05s/it]"
     ]
    },
    {
     "name": "stdout",
     "output_type": "stream",
     "text": [
      "File aaaaaolv_s002_t000.edf was passed, passed files: 212, read files: 333\n",
      "File aaaaanyc_s003_t000.edf was passed, passed files: 213, read files: 333\n"
     ]
    },
    {
     "name": "stderr",
     "output_type": "stream",
     "text": [
      " 40%|███████████████████████████████████████████████▍                                                                      | 1209/3009 [16:54<23:06,  1.30it/s]"
     ]
    },
    {
     "name": "stdout",
     "output_type": "stream",
     "text": [
      "File aaaaamzw_s001_t000.edf was passed, passed files: 214, read files: 334\n"
     ]
    },
    {
     "name": "stderr",
     "output_type": "stream",
     "text": [
      " 40%|███████████████████████████████████████████████▍                                                                      | 1211/3009 [16:57<26:33,  1.13it/s]"
     ]
    },
    {
     "name": "stdout",
     "output_type": "stream",
     "text": [
      "File aaaaaoyy_s001_t000.edf was passed, passed files: 215, read files: 335\n"
     ]
    },
    {
     "name": "stderr",
     "output_type": "stream",
     "text": [
      " 40%|███████████████████████████████████████████████▌                                                                      | 1214/3009 [17:03<39:43,  1.33s/it]"
     ]
    },
    {
     "name": "stdout",
     "output_type": "stream",
     "text": [
      "File aaaaanha_s001_t000.edf was passed, passed files: 216, read files: 337\n"
     ]
    },
    {
     "name": "stderr",
     "output_type": "stream",
     "text": [
      " 41%|███████████████████████████████████████████████▉                                                                      | 1222/3009 [17:09<27:43,  1.07it/s]"
     ]
    },
    {
     "name": "stdout",
     "output_type": "stream",
     "text": [
      "File aaaaanmr_s001_t002.edf was passed, passed files: 217, read files: 339\n",
      "File aaaaanil_s001_t000.edf was passed, passed files: 218, read files: 339\n"
     ]
    },
    {
     "name": "stderr",
     "output_type": "stream",
     "text": [
      " 41%|████████████████████████████████████████████████▎                                                                     | 1233/3009 [17:21<35:47,  1.21s/it]"
     ]
    },
    {
     "name": "stdout",
     "output_type": "stream",
     "text": [
      "File aaaaapqj_s001_t000.edf was passed, passed files: 219, read files: 343\n"
     ]
    },
    {
     "name": "stderr",
     "output_type": "stream",
     "text": [
      " 42%|█████████████████████████████████████████████████                                                                     | 1250/3009 [17:39<26:28,  1.11it/s]"
     ]
    },
    {
     "name": "stdout",
     "output_type": "stream",
     "text": [
      "File aaaaaprw_s001_t000.edf was passed, passed files: 220, read files: 349\n"
     ]
    },
    {
     "name": "stderr",
     "output_type": "stream",
     "text": [
      " 42%|█████████████████████████████████████████████████▎                                                                    | 1257/3009 [17:50<41:15,  1.41s/it]"
     ]
    },
    {
     "name": "stdout",
     "output_type": "stream",
     "text": [
      "File aaaaappy_s001_t000.edf was passed, passed files: 221, read files: 353\n",
      "File aaaaapeo_s001_t000.edf was passed, passed files: 222, read files: 353\n"
     ]
    },
    {
     "name": "stderr",
     "output_type": "stream",
     "text": [
      " 42%|█████████████████████████████████████████████████▋                                                                    | 1268/3009 [18:02<38:52,  1.34s/it]"
     ]
    },
    {
     "name": "stdout",
     "output_type": "stream",
     "text": [
      "File aaaaankk_s001_t000.edf was passed, passed files: 223, read files: 357\n"
     ]
    },
    {
     "name": "stderr",
     "output_type": "stream",
     "text": [
      " 42%|█████████████████████████████████████████████████▊                                                                    | 1270/3009 [18:05<39:51,  1.38s/it]"
     ]
    },
    {
     "name": "stdout",
     "output_type": "stream",
     "text": [
      "File aaaaangk_s001_t000.edf was passed, passed files: 224, read files: 358\n",
      "File aaaaaofq_s002_t000.edf was passed, passed files: 225, read files: 358\n",
      "File aaaaampm_s002_t000.edf was passed, passed files: 226, read files: 358\n",
      "File aaaaapaj_s001_t000.edf was passed, passed files: 227, read files: 358\n"
     ]
    },
    {
     "name": "stderr",
     "output_type": "stream",
     "text": [
      " 42%|██████████████████████████████████████████████████                                                                    | 1278/3009 [18:11<29:26,  1.02s/it]"
     ]
    },
    {
     "name": "stdout",
     "output_type": "stream",
     "text": [
      "File aaaaapqm_s001_t000.edf was passed, passed files: 228, read files: 360\n"
     ]
    },
    {
     "name": "stderr",
     "output_type": "stream",
     "text": [
      " 43%|██████████████████████████████████████████████████▍                                                                   | 1287/3009 [18:14<17:39,  1.63it/s]"
     ]
    },
    {
     "name": "stdout",
     "output_type": "stream",
     "text": [
      "File aaaaapjz_s001_t000.edf was passed, passed files: 229, read files: 361\n"
     ]
    },
    {
     "name": "stderr",
     "output_type": "stream",
     "text": [
      " 43%|██████████████████████████████████████████████████▉                                                                   | 1299/3009 [18:25<21:15,  1.34it/s]"
     ]
    },
    {
     "name": "stdout",
     "output_type": "stream",
     "text": [
      "File aaaaakxf_s002_t000.edf was passed, passed files: 230, read files: 365\n"
     ]
    },
    {
     "name": "stderr",
     "output_type": "stream",
     "text": [
      " 43%|███████████████████████████████████████████████████▎                                                                  | 1308/3009 [18:28<15:03,  1.88it/s]"
     ]
    },
    {
     "name": "stdout",
     "output_type": "stream",
     "text": [
      "File aaaaaomr_s001_t000.edf was passed, passed files: 231, read files: 366\n"
     ]
    },
    {
     "name": "stderr",
     "output_type": "stream",
     "text": [
      " 44%|███████████████████████████████████████████████████▌                                                                  | 1314/3009 [18:35<20:38,  1.37it/s]"
     ]
    },
    {
     "name": "stdout",
     "output_type": "stream",
     "text": [
      "File aaaaanbi_s001_t000.edf was passed, passed files: 232, read files: 368\n"
     ]
    },
    {
     "name": "stderr",
     "output_type": "stream",
     "text": [
      " 44%|████████████████████████████████████████████████████▎                                                                 | 1335/3009 [19:03<36:27,  1.31s/it]"
     ]
    },
    {
     "name": "stdout",
     "output_type": "stream",
     "text": [
      "File aaaaafyz_s002_t001.edf was passed, passed files: 233, read files: 378\n",
      "File aaaaamxu_s001_t000.edf was passed, passed files: 234, read files: 378\n",
      "File aaaaaoyv_s001_t000.edf was passed, passed files: 235, read files: 378\n"
     ]
    },
    {
     "name": "stderr",
     "output_type": "stream",
     "text": [
      " 45%|████████████████████████████████████████████████████▊                                                                 | 1347/3009 [19:06<15:31,  1.78it/s]"
     ]
    },
    {
     "name": "stdout",
     "output_type": "stream",
     "text": [
      "File aaaaahvi_s003_t000.edf was passed, passed files: 236, read files: 379\n"
     ]
    },
    {
     "name": "stderr",
     "output_type": "stream",
     "text": [
      " 45%|████████████████████████████████████████████████████▉                                                                 | 1351/3009 [19:09<17:01,  1.62it/s]"
     ]
    },
    {
     "name": "stdout",
     "output_type": "stream",
     "text": [
      "File aaaaapgl_s001_t000.edf was passed, passed files: 237, read files: 380\n",
      "File aaaaaflb_s005_t000.edf was passed, passed files: 238, read files: 380\n"
     ]
    },
    {
     "name": "stderr",
     "output_type": "stream",
     "text": [
      " 45%|█████████████████████████████████████████████████████▎                                                                | 1359/3009 [19:12<14:09,  1.94it/s]"
     ]
    },
    {
     "name": "stdout",
     "output_type": "stream",
     "text": [
      "File aaaaapji_s001_t000.edf was passed, passed files: 239, read files: 381\n"
     ]
    },
    {
     "name": "stderr",
     "output_type": "stream",
     "text": [
      " 46%|█████████████████████████████████████████████████████▉                                                                | 1374/3009 [19:21<16:48,  1.62it/s]"
     ]
    },
    {
     "name": "stdout",
     "output_type": "stream",
     "text": [
      "File aaaaaodm_s002_t000.edf was passed, passed files: 240, read files: 384\n",
      "File aaaaaopp_s001_t000.edf was passed, passed files: 241, read files: 384\n"
     ]
    },
    {
     "name": "stderr",
     "output_type": "stream",
     "text": [
      " 46%|██████████████████████████████████████████████████████▏                                                               | 1381/3009 [19:24<15:01,  1.81it/s]"
     ]
    },
    {
     "name": "stdout",
     "output_type": "stream",
     "text": [
      "File aaaaaone_s001_t001.edf was passed, passed files: 242, read files: 385\n"
     ]
    },
    {
     "name": "stderr",
     "output_type": "stream",
     "text": [
      " 46%|██████████████████████████████████████████████████████▍                                                               | 1389/3009 [19:28<13:08,  2.06it/s]"
     ]
    },
    {
     "name": "stdout",
     "output_type": "stream",
     "text": [
      "File aaaaapdl_s001_t000.edf was passed, passed files: 243, read files: 386\n"
     ]
    },
    {
     "name": "stderr",
     "output_type": "stream",
     "text": [
      " 47%|███████████████████████████████████████████████████████                                                               | 1405/3009 [19:39<19:51,  1.35it/s]"
     ]
    },
    {
     "name": "stdout",
     "output_type": "stream",
     "text": [
      "File aaaaadel_s004_t000.edf was passed, passed files: 244, read files: 390\n",
      "File aaaaaqap_s001_t000.edf was passed, passed files: 245, read files: 390\n"
     ]
    },
    {
     "name": "stderr",
     "output_type": "stream",
     "text": [
      " 47%|███████████████████████████████████████████████████████▋                                                              | 1421/3009 [19:45<13:59,  1.89it/s]"
     ]
    },
    {
     "name": "stdout",
     "output_type": "stream",
     "text": [
      "File aaaaanyc_s002_t000.edf was passed, passed files: 246, read files: 392\n"
     ]
    },
    {
     "name": "stderr",
     "output_type": "stream",
     "text": [
      " 47%|████████████████████████████████████████████████████████                                                              | 1428/3009 [19:51<18:38,  1.41it/s]"
     ]
    },
    {
     "name": "stdout",
     "output_type": "stream",
     "text": [
      "File aaaaaoqv_s002_t000.edf was passed, passed files: 247, read files: 394\n"
     ]
    },
    {
     "name": "stderr",
     "output_type": "stream",
     "text": [
      " 48%|████████████████████████████████████████████████████████▏                                                             | 1432/3009 [19:54<18:56,  1.39it/s]"
     ]
    },
    {
     "name": "stdout",
     "output_type": "stream",
     "text": [
      "File aaaaapvt_s001_t000.edf was passed, passed files: 248, read files: 395\n",
      "File aaaaaoes_s001_t000.edf was passed, passed files: 249, read files: 395\n"
     ]
    },
    {
     "name": "stderr",
     "output_type": "stream",
     "text": [
      " 48%|████████████████████████████████████████████████████████▊                                                             | 1448/3009 [20:12<28:13,  1.09s/it]"
     ]
    },
    {
     "name": "stdout",
     "output_type": "stream",
     "text": [
      "File aaaaapsa_s001_t000.edf was passed, passed files: 250, read files: 401\n"
     ]
    },
    {
     "name": "stderr",
     "output_type": "stream",
     "text": [
      " 48%|█████████████████████████████████████████████████████████                                                             | 1456/3009 [20:21<33:14,  1.28s/it]"
     ]
    },
    {
     "name": "stdout",
     "output_type": "stream",
     "text": [
      "File aaaaaodb_s001_t000.edf was passed, passed files: 251, read files: 404\n",
      "File aaaaacbz_s002_t000.edf was passed, passed files: 252, read files: 404\n",
      "File aaaaapmg_s001_t000.edf was passed, passed files: 253, read files: 404\n",
      "File aaaaapmu_s001_t000.edf was passed, passed files: 254, read files: 404\n"
     ]
    },
    {
     "name": "stderr",
     "output_type": "stream",
     "text": [
      " 50%|██████████████████████████████████████████████████████████▍                                                           | 1490/3009 [20:46<25:27,  1.01s/it]"
     ]
    },
    {
     "name": "stdout",
     "output_type": "stream",
     "text": [
      "File aaaaaaff_s002_t000.edf was passed, passed files: 255, read files: 412\n",
      "File aaaaanpe_s001_t001.edf was passed, passed files: 256, read files: 412\n"
     ]
    },
    {
     "name": "stderr",
     "output_type": "stream",
     "text": [
      " 50%|██████████████████████████████████████████████████████████▋                                                           | 1495/3009 [20:48<19:25,  1.30it/s]"
     ]
    },
    {
     "name": "stdout",
     "output_type": "stream",
     "text": [
      "File aaaaanqu_s001_t000.edf was passed, passed files: 257, read files: 413\n"
     ]
    },
    {
     "name": "stderr",
     "output_type": "stream",
     "text": [
      " 50%|██████████████████████████████████████████████████████████▋                                                           | 1497/3009 [20:51<22:29,  1.12it/s]"
     ]
    },
    {
     "name": "stdout",
     "output_type": "stream",
     "text": [
      "File aaaaanbc_s001_t000.edf was passed, passed files: 258, read files: 414\n"
     ]
    },
    {
     "name": "stderr",
     "output_type": "stream",
     "text": [
      " 50%|███████████████████████████████████████████████████████████▎                                                          | 1512/3009 [21:09<26:38,  1.07s/it]"
     ]
    },
    {
     "name": "stdout",
     "output_type": "stream",
     "text": [
      "File aaaaapye_s001_t000.edf was passed, passed files: 259, read files: 420\n",
      "File aaaaaoci_s001_t000.edf was passed, passed files: 260, read files: 420\n"
     ]
    },
    {
     "name": "stderr",
     "output_type": "stream",
     "text": [
      " 50%|███████████████████████████████████████████████████████████▌                                                          | 1518/3009 [21:12<19:39,  1.26it/s]"
     ]
    },
    {
     "name": "stdout",
     "output_type": "stream",
     "text": [
      "File aaaaangl_s001_t000.edf was passed, passed files: 261, read files: 421\n"
     ]
    },
    {
     "name": "stderr",
     "output_type": "stream",
     "text": [
      " 51%|███████████████████████████████████████████████████████████▊                                                          | 1526/3009 [21:15<14:29,  1.71it/s]"
     ]
    },
    {
     "name": "stdout",
     "output_type": "stream",
     "text": [
      "File aaaaaocl_s002_t000.edf was passed, passed files: 262, read files: 422\n",
      "File aaaaapna_s001_t000.edf was passed, passed files: 263, read files: 422\n"
     ]
    },
    {
     "name": "stderr",
     "output_type": "stream",
     "text": [
      " 51%|████████████████████████████████████████████████████████████                                                          | 1532/3009 [21:18<13:47,  1.79it/s]"
     ]
    },
    {
     "name": "stdout",
     "output_type": "stream",
     "text": [
      "File aaaaaplw_s001_t000.edf was passed, passed files: 264, read files: 423\n"
     ]
    },
    {
     "name": "stderr",
     "output_type": "stream",
     "text": [
      " 51%|████████████████████████████████████████████████████████████▎                                                         | 1539/3009 [21:29<30:10,  1.23s/it]"
     ]
    },
    {
     "name": "stdout",
     "output_type": "stream",
     "text": [
      "File aaaaantb_s001_t000.edf was passed, passed files: 265, read files: 427\n"
     ]
    },
    {
     "name": "stderr",
     "output_type": "stream",
     "text": [
      " 51%|████████████████████████████████████████████████████████████▋                                                         | 1547/3009 [21:35<22:38,  1.08it/s]"
     ]
    },
    {
     "name": "stdout",
     "output_type": "stream",
     "text": [
      "File aaaaandl_s001_t001.edf was passed, passed files: 266, read files: 429\n",
      "File aaaaanwe_s002_t000.edf was passed, passed files: 267, read files: 429\n",
      "File aaaaaogq_s001_t000.edf was passed, passed files: 268, read files: 429\n"
     ]
    },
    {
     "name": "stderr",
     "output_type": "stream",
     "text": [
      " 52%|█████████████████████████████████████████████████████████████▏                                                        | 1561/3009 [21:47<28:50,  1.19s/it]"
     ]
    },
    {
     "name": "stdout",
     "output_type": "stream",
     "text": [
      "File aaaaaoye_s001_t001.edf was passed, passed files: 269, read files: 432\n"
     ]
    },
    {
     "name": "stderr",
     "output_type": "stream",
     "text": [
      " 52%|█████████████████████████████████████████████████████████████▉                                                        | 1579/3009 [22:06<21:51,  1.09it/s]"
     ]
    },
    {
     "name": "stdout",
     "output_type": "stream",
     "text": [
      "File aaaaapju_s001_t000.edf was passed, passed files: 270, read files: 438\n",
      "File aaaaapme_s001_t001.edf was passed, passed files: 271, read files: 438\n",
      "File aaaaaner_s001_t000.edf was passed, passed files: 272, read files: 438\n",
      "File aaaaaoff_s001_t000.edf was passed, passed files: 273, read files: 438\n",
      "File aaaaaoeo_s001_t000.edf was passed, passed files: 274, read files: 438\n"
     ]
    },
    {
     "name": "stderr",
     "output_type": "stream",
     "text": [
      " 53%|██████████████████████████████████████████████████████████████▊                                                       | 1601/3009 [22:12<09:51,  2.38it/s]"
     ]
    },
    {
     "name": "stdout",
     "output_type": "stream",
     "text": [
      "File aaaaapen_s001_t000.edf was passed, passed files: 275, read files: 439\n",
      "File aaaaaeph_s005_t000.edf was passed, passed files: 276, read files: 439\n",
      "File aaaaapnq_s001_t001.edf was passed, passed files: 277, read files: 439\n"
     ]
    },
    {
     "name": "stderr",
     "output_type": "stream",
     "text": [
      " 54%|███████████████████████████████████████████████████████████████▌                                                      | 1622/3009 [22:28<15:34,  1.48it/s]"
     ]
    },
    {
     "name": "stdout",
     "output_type": "stream",
     "text": [
      "File aaaaaobv_s001_t000.edf was passed, passed files: 278, read files: 442\n"
     ]
    },
    {
     "name": "stderr",
     "output_type": "stream",
     "text": [
      " 54%|███████████████████████████████████████████████████████████████▉                                                      | 1631/3009 [22:37<20:10,  1.14it/s]"
     ]
    },
    {
     "name": "stdout",
     "output_type": "stream",
     "text": [
      "File aaaaagzp_s002_t000.edf was passed, passed files: 279, read files: 445\n"
     ]
    },
    {
     "name": "stderr",
     "output_type": "stream",
     "text": [
      " 55%|████████████████████████████████████████████████████████████████▋                                                     | 1648/3009 [23:02<41:13,  1.82s/it]"
     ]
    },
    {
     "name": "stdout",
     "output_type": "stream",
     "text": [
      "File aaaaapkr_s001_t000.edf was passed, passed files: 280, read files: 454\n"
     ]
    },
    {
     "name": "stderr",
     "output_type": "stream",
     "text": [
      " 55%|████████████████████████████████████████████████████████████████▋                                                     | 1651/3009 [23:05<32:04,  1.42s/it]"
     ]
    },
    {
     "name": "stdout",
     "output_type": "stream",
     "text": [
      "File aaaaanfh_s001_t000.edf was passed, passed files: 281, read files: 455\n",
      "File aaaaaohv_s001_t000.edf was passed, passed files: 282, read files: 455\n"
     ]
    },
    {
     "name": "stderr",
     "output_type": "stream",
     "text": [
      " 55%|████████████████████████████████████████████████████████████████▉                                                     | 1655/3009 [23:09<25:31,  1.13s/it]"
     ]
    },
    {
     "name": "stdout",
     "output_type": "stream",
     "text": [
      "File aaaaanev_s001_t000.edf was passed, passed files: 283, read files: 456\n"
     ]
    },
    {
     "name": "stderr",
     "output_type": "stream",
     "text": [
      " 55%|█████████████████████████████████████████████████████████████████▎                                                    | 1664/3009 [23:11<14:19,  1.56it/s]"
     ]
    },
    {
     "name": "stdout",
     "output_type": "stream",
     "text": [
      "File aaaaapva_s001_t000.edf was passed, passed files: 284, read files: 457\n"
     ]
    },
    {
     "name": "stderr",
     "output_type": "stream",
     "text": [
      " 56%|█████████████████████████████████████████████████████████████████▋                                                    | 1676/3009 [23:17<13:20,  1.67it/s]"
     ]
    },
    {
     "name": "stdout",
     "output_type": "stream",
     "text": [
      "File aaaaapoi_s001_t000.edf was passed, passed files: 285, read files: 459\n"
     ]
    },
    {
     "name": "stderr",
     "output_type": "stream",
     "text": [
      " 56%|██████████████████████████████████████████████████████████████████▎                                                   | 1691/3009 [23:33<25:00,  1.14s/it]"
     ]
    },
    {
     "name": "stdout",
     "output_type": "stream",
     "text": [
      "File aaaaapql_s001_t000.edf was passed, passed files: 286, read files: 464\n"
     ]
    },
    {
     "name": "stderr",
     "output_type": "stream",
     "text": [
      " 56%|██████████████████████████████████████████████████████████████████▍                                                   | 1694/3009 [23:36<24:04,  1.10s/it]"
     ]
    },
    {
     "name": "stdout",
     "output_type": "stream",
     "text": [
      "File aaaaakyn_s002_t000.edf was passed, passed files: 287, read files: 465\n",
      "File aaaaafwl_s003_t000.edf was passed, passed files: 288, read files: 465\n"
     ]
    },
    {
     "name": "stderr",
     "output_type": "stream",
     "text": [
      " 57%|██████████████████████████████████████████████████████████████████▋                                                   | 1701/3009 [23:39<16:22,  1.33it/s]"
     ]
    },
    {
     "name": "stdout",
     "output_type": "stream",
     "text": [
      "File aaaaanmi_s001_t000.edf was passed, passed files: 289, read files: 466\n",
      "File aaaaamth_s002_t000.edf was passed, passed files: 290, read files: 466\n",
      "File aaaaaonc_s001_t002.edf was passed, passed files: 291, read files: 466\n"
     ]
    },
    {
     "name": "stderr",
     "output_type": "stream",
     "text": [
      " 57%|███████████████████████████████████████████████████████████████████▎                                                  | 1716/3009 [23:43<09:04,  2.38it/s]"
     ]
    },
    {
     "name": "stdout",
     "output_type": "stream",
     "text": [
      "File aaaaapnu_s001_t000.edf was passed, passed files: 292, read files: 467\n",
      "File aaaaapkc_s001_t000.edf was passed, passed files: 293, read files: 467\n"
     ]
    },
    {
     "name": "stderr",
     "output_type": "stream",
     "text": [
      " 57%|███████████████████████████████████████████████████████████████████▋                                                  | 1725/3009 [23:46<08:20,  2.57it/s]"
     ]
    },
    {
     "name": "stdout",
     "output_type": "stream",
     "text": [
      "File aaaaannz_s001_t000.edf was passed, passed files: 294, read files: 468\n"
     ]
    },
    {
     "name": "stderr",
     "output_type": "stream",
     "text": [
      " 58%|████████████████████████████████████████████████████████████████████▉                                                 | 1757/3009 [23:54<07:36,  2.74it/s]"
     ]
    },
    {
     "name": "stdout",
     "output_type": "stream",
     "text": [
      "File aaaaanaw_s001_t000.edf was passed, passed files: 295, read files: 471\n"
     ]
    },
    {
     "name": "stderr",
     "output_type": "stream",
     "text": [
      " 59%|█████████████████████████████████████████████████████████████████████▏                                                | 1764/3009 [23:57<07:45,  2.67it/s]"
     ]
    },
    {
     "name": "stdout",
     "output_type": "stream",
     "text": [
      "File aaaaaohg_s001_t001.edf was passed, passed files: 296, read files: 472\n"
     ]
    },
    {
     "name": "stderr",
     "output_type": "stream",
     "text": [
      " 59%|█████████████████████████████████████████████████████████████████████▋                                                | 1777/3009 [24:06<11:22,  1.80it/s]"
     ]
    },
    {
     "name": "stdout",
     "output_type": "stream",
     "text": [
      "File aaaaangi_s001_t000.edf was passed, passed files: 297, read files: 475\n"
     ]
    },
    {
     "name": "stderr",
     "output_type": "stream",
     "text": [
      " 59%|█████████████████████████████████████████████████████████████████████▊                                                | 1779/3009 [24:09<13:57,  1.47it/s]"
     ]
    },
    {
     "name": "stdout",
     "output_type": "stream",
     "text": [
      "File aaaaaeqq_s004_t000.edf was passed, passed files: 298, read files: 476\n",
      "File aaaaapws_s001_t000.edf was passed, passed files: 299, read files: 476\n"
     ]
    },
    {
     "name": "stderr",
     "output_type": "stream",
     "text": [
      " 59%|██████████████████████████████████████████████████████████████████████▏                                               | 1789/3009 [24:12<09:47,  2.08it/s]"
     ]
    },
    {
     "name": "stdout",
     "output_type": "stream",
     "text": [
      "File aaaaapif_s001_t000.edf was passed, passed files: 300, read files: 477\n",
      "File aaaaaplu_s001_t001.edf was passed, passed files: 301, read files: 477\n"
     ]
    },
    {
     "name": "stderr",
     "output_type": "stream",
     "text": [
      " 60%|███████████████████████████████████████████████████████████████████████▎                                              | 1819/3009 [24:32<21:42,  1.09s/it]"
     ]
    },
    {
     "name": "stdout",
     "output_type": "stream",
     "text": [
      "File aaaaamys_s001_t000.edf was passed, passed files: 302, read files: 484\n",
      "File aaaaanlu_s002_t000.edf was passed, passed files: 303, read files: 484\n"
     ]
    },
    {
     "name": "stderr",
     "output_type": "stream",
     "text": [
      " 61%|███████████████████████████████████████████████████████████████████████▌                                              | 1826/3009 [24:35<14:15,  1.38it/s]"
     ]
    },
    {
     "name": "stdout",
     "output_type": "stream",
     "text": [
      "File aaaaamvc_s002_t000.edf was passed, passed files: 304, read files: 485\n"
     ]
    },
    {
     "name": "stderr",
     "output_type": "stream",
     "text": [
      " 61%|███████████████████████████████████████████████████████████████████████▋                                              | 1828/3009 [24:38<16:47,  1.17it/s]"
     ]
    },
    {
     "name": "stdout",
     "output_type": "stream",
     "text": [
      "File aaaaalwb_s003_t000.edf was passed, passed files: 305, read files: 486\n"
     ]
    },
    {
     "name": "stderr",
     "output_type": "stream",
     "text": [
      " 61%|███████████████████████████████████████████████████████████████████████▉                                              | 1834/3009 [24:50<29:02,  1.48s/it]"
     ]
    },
    {
     "name": "stdout",
     "output_type": "stream",
     "text": [
      "File aaaaamrf_s001_t000.edf was passed, passed files: 306, read files: 490\n"
     ]
    },
    {
     "name": "stderr",
     "output_type": "stream",
     "text": [
      " 61%|████████████████████████████████████████████████████████████████████████▎                                             | 1844/3009 [25:01<25:37,  1.32s/it]"
     ]
    },
    {
     "name": "stdout",
     "output_type": "stream",
     "text": [
      "File aaaaamxc_s001_t000.edf was passed, passed files: 307, read files: 494\n",
      "File aaaaaptk_s001_t000.edf was passed, passed files: 308, read files: 494\n"
     ]
    },
    {
     "name": "stderr",
     "output_type": "stream",
     "text": [
      " 62%|████████████████████████████████████████████████████████████████████████▊                                             | 1858/3009 [25:19<26:33,  1.38s/it]"
     ]
    },
    {
     "name": "stdout",
     "output_type": "stream",
     "text": [
      "File aaaaanix_s001_t000.edf was passed, passed files: 309, read files: 500\n"
     ]
    },
    {
     "name": "stderr",
     "output_type": "stream",
     "text": [
      " 62%|████████████████████████████████████████████████████████████████████████▉                                             | 1861/3009 [25:21<23:35,  1.23s/it]"
     ]
    },
    {
     "name": "stdout",
     "output_type": "stream",
     "text": [
      "File aaaaapyi_s001_t000.edf was passed, passed files: 310, read files: 501\n"
     ]
    },
    {
     "name": "stderr",
     "output_type": "stream",
     "text": [
      " 62%|█████████████████████████████████████████████████████████████████████████                                             | 1864/3009 [25:25<22:35,  1.18s/it]"
     ]
    },
    {
     "name": "stdout",
     "output_type": "stream",
     "text": [
      "File aaaaambs_s003_t000.edf was passed, passed files: 311, read files: 502\n",
      "File aaaaaomm_s001_t000.edf was passed, passed files: 312, read files: 502\n"
     ]
    },
    {
     "name": "stderr",
     "output_type": "stream",
     "text": [
      " 62%|█████████████████████████████████████████████████████████████████████████▎                                            | 1869/3009 [25:28<17:03,  1.11it/s]"
     ]
    },
    {
     "name": "stdout",
     "output_type": "stream",
     "text": [
      "File aaaaapnb_s001_t001.edf was passed, passed files: 313, read files: 503\n"
     ]
    },
    {
     "name": "stderr",
     "output_type": "stream",
     "text": [
      " 62%|█████████████████████████████████████████████████████████████████████████▋                                            | 1879/3009 [25:30<10:20,  1.82it/s]"
     ]
    },
    {
     "name": "stdout",
     "output_type": "stream",
     "text": [
      "File aaaaampm_s001_t000.edf was passed, passed files: 314, read files: 504\n"
     ]
    },
    {
     "name": "stderr",
     "output_type": "stream",
     "text": [
      " 63%|██████████████████████████████████████████████████████████████████████████                                            | 1888/3009 [25:33<08:31,  2.19it/s]"
     ]
    },
    {
     "name": "stdout",
     "output_type": "stream",
     "text": [
      "File aaaaaorv_s001_t000.edf was passed, passed files: 315, read files: 505\n"
     ]
    },
    {
     "name": "stderr",
     "output_type": "stream",
     "text": [
      " 63%|██████████████████████████████████████████████████████████████████████████▎                                           | 1895/3009 [25:42<15:27,  1.20it/s]"
     ]
    },
    {
     "name": "stdout",
     "output_type": "stream",
     "text": [
      "File aaaaakce_s002_t002.edf was passed, passed files: 316, read files: 508\n",
      "File aaaaakzx_s003_t001.edf was passed, passed files: 317, read files: 508\n"
     ]
    },
    {
     "name": "stderr",
     "output_type": "stream",
     "text": [
      " 63%|██████████████████████████████████████████████████████████████████████████▌                                           | 1901/3009 [25:45<12:27,  1.48it/s]"
     ]
    },
    {
     "name": "stdout",
     "output_type": "stream",
     "text": [
      "File aaaaapnf_s001_t001.edf was passed, passed files: 318, read files: 509\n",
      "File aaaaamsw_s002_t000.edf was passed, passed files: 319, read files: 509\n"
     ]
    },
    {
     "name": "stderr",
     "output_type": "stream",
     "text": [
      " 64%|██████████████████████████████████████████████████████████████████████████▉                                           | 1912/3009 [26:00<23:10,  1.27s/it]"
     ]
    },
    {
     "name": "stdout",
     "output_type": "stream",
     "text": [
      "File aaaaanvi_s001_t000.edf was passed, passed files: 320, read files: 514\n"
     ]
    },
    {
     "name": "stderr",
     "output_type": "stream",
     "text": [
      " 64%|███████████████████████████████████████████████████████████████████████████                                           | 1915/3009 [26:05<27:41,  1.52s/it]"
     ]
    },
    {
     "name": "stdout",
     "output_type": "stream",
     "text": [
      "File aaaaaokd_s002_t000.edf was passed, passed files: 321, read files: 516\n"
     ]
    },
    {
     "name": "stderr",
     "output_type": "stream",
     "text": [
      " 64%|███████████████████████████████████████████████████████████████████████████▎                                          | 1919/3009 [26:08<20:26,  1.13s/it]"
     ]
    },
    {
     "name": "stdout",
     "output_type": "stream",
     "text": [
      "File aaaaadvk_s003_t000.edf was passed, passed files: 322, read files: 517\n"
     ]
    },
    {
     "name": "stderr",
     "output_type": "stream",
     "text": [
      " 64%|███████████████████████████████████████████████████████████████████████████▍                                          | 1924/3009 [26:19<35:02,  1.94s/it]"
     ]
    },
    {
     "name": "stdout",
     "output_type": "stream",
     "text": [
      "File aaaaalvg_s002_t000.edf was passed, passed files: 323, read files: 521\n"
     ]
    },
    {
     "name": "stderr",
     "output_type": "stream",
     "text": [
      " 64%|████████████████████████████████████████████████████████████████████████████                                          | 1939/3009 [26:22<08:48,  2.02it/s]"
     ]
    },
    {
     "name": "stdout",
     "output_type": "stream",
     "text": [
      "File aaaaancs_s001_t000.edf was passed, passed files: 324, read files: 522\n"
     ]
    },
    {
     "name": "stderr",
     "output_type": "stream",
     "text": [
      " 65%|████████████████████████████████████████████████████████████████████████████▌                                         | 1952/3009 [26:36<16:54,  1.04it/s]"
     ]
    },
    {
     "name": "stdout",
     "output_type": "stream",
     "text": [
      "File aaaaapsv_s001_t000.edf was passed, passed files: 325, read files: 527\n"
     ]
    },
    {
     "name": "stderr",
     "output_type": "stream",
     "text": [
      " 65%|████████████████████████████████████████████████████████████████████████████▋                                         | 1957/3009 [26:42<17:45,  1.01s/it]"
     ]
    },
    {
     "name": "stdout",
     "output_type": "stream",
     "text": [
      "File aaaaaosa_s001_t000.edf was passed, passed files: 326, read files: 529\n",
      "File aaaaaofi_s001_t000.edf was passed, passed files: 327, read files: 529\n",
      "File aaaaamtx_s001_t000.edf was passed, passed files: 328, read files: 529\n",
      "File aaaaaomk_s001_t000.edf was passed, passed files: 329, read files: 529\n"
     ]
    },
    {
     "name": "stderr",
     "output_type": "stream",
     "text": [
      " 65%|████████████████████████████████████████████████████████████████████████████▉                                         | 1962/3009 [26:45<14:28,  1.20it/s]"
     ]
    },
    {
     "name": "stdout",
     "output_type": "stream",
     "text": [
      "File aaaaapfp_s001_t000.edf was passed, passed files: 330, read files: 530\n"
     ]
    },
    {
     "name": "stderr",
     "output_type": "stream",
     "text": [
      " 65%|█████████████████████████████████████████████████████████████████████████████                                         | 1965/3009 [26:48<15:23,  1.13it/s]"
     ]
    },
    {
     "name": "stdout",
     "output_type": "stream",
     "text": [
      "File aaaaapqn_s001_t000.edf was passed, passed files: 331, read files: 531\n",
      "File aaaaaphz_s001_t000.edf was passed, passed files: 332, read files: 531\n",
      "File aaaaanom_s001_t000.edf was passed, passed files: 333, read files: 531\n",
      "File aaaaanfk_s001_t000.edf was passed, passed files: 334, read files: 531\n",
      "File aaaaappw_s001_t001.edf was passed, passed files: 335, read files: 531\n",
      "File aaaaapzu_s001_t000.edf was passed, passed files: 336, read files: 531\n"
     ]
    },
    {
     "name": "stderr",
     "output_type": "stream",
     "text": [
      " 66%|█████████████████████████████████████████████████████████████████████████████▋                                        | 1980/3009 [27:00<17:58,  1.05s/it]"
     ]
    },
    {
     "name": "stdout",
     "output_type": "stream",
     "text": [
      "File aaaaanqf_s001_t000.edf was passed, passed files: 337, read files: 535\n",
      "File aaaaandc_s001_t000.edf was passed, passed files: 338, read files: 535\n"
     ]
    },
    {
     "name": "stderr",
     "output_type": "stream",
     "text": [
      " 66%|█████████████████████████████████████████████████████████████████████████████▊                                        | 1985/3009 [27:03<14:36,  1.17it/s]"
     ]
    },
    {
     "name": "stdout",
     "output_type": "stream",
     "text": [
      "File aaaaacpm_s002_t002.edf was passed, passed files: 339, read files: 536\n"
     ]
    },
    {
     "name": "stderr",
     "output_type": "stream",
     "text": [
      " 66%|██████████████████████████████████████████████████████████████████████████████▎                                       | 1996/3009 [27:19<22:51,  1.35s/it]"
     ]
    },
    {
     "name": "stdout",
     "output_type": "stream",
     "text": [
      "File aaaaapto_s001_t000.edf was passed, passed files: 340, read files: 540\n"
     ]
    },
    {
     "name": "stderr",
     "output_type": "stream",
     "text": [
      " 67%|██████████████████████████████████████████████████████████████████████████████▊                                       | 2010/3009 [27:24<11:44,  1.42it/s]"
     ]
    },
    {
     "name": "stdout",
     "output_type": "stream",
     "text": [
      "File aaaaaomo_s001_t000.edf was passed, passed files: 341, read files: 542\n",
      "File aaaaaaav_s004_t000.edf was passed, passed files: 342, read files: 542\n"
     ]
    },
    {
     "name": "stderr",
     "output_type": "stream",
     "text": [
      " 67%|███████████████████████████████████████████████████████████████████████████████▏                                      | 2020/3009 [27:27<08:10,  2.02it/s]"
     ]
    },
    {
     "name": "stdout",
     "output_type": "stream",
     "text": [
      "File aaaaaqaq_s001_t000.edf was passed, passed files: 343, read files: 543\n"
     ]
    },
    {
     "name": "stderr",
     "output_type": "stream",
     "text": [
      " 67%|███████████████████████████████████████████████████████████████████████████████▎                                      | 2024/3009 [27:30<08:54,  1.84it/s]"
     ]
    },
    {
     "name": "stdout",
     "output_type": "stream",
     "text": [
      "File aaaaaohh_s002_t000.edf was passed, passed files: 344, read files: 544\n"
     ]
    },
    {
     "name": "stderr",
     "output_type": "stream",
     "text": [
      " 67%|███████████████████████████████████████████████████████████████████████████████▍                                      | 2026/3009 [27:33<11:09,  1.47it/s]"
     ]
    },
    {
     "name": "stdout",
     "output_type": "stream",
     "text": [
      "File aaaaapqz_s001_t000.edf was passed, passed files: 345, read files: 545\n",
      "File aaaaansu_s002_t000.edf was passed, passed files: 346, read files: 545\n"
     ]
    },
    {
     "name": "stderr",
     "output_type": "stream",
     "text": [
      " 68%|███████████████████████████████████████████████████████████████████████████████▊                                      | 2035/3009 [27:39<11:02,  1.47it/s]"
     ]
    },
    {
     "name": "stdout",
     "output_type": "stream",
     "text": [
      "File aaaaacag_s002_t000.edf was passed, passed files: 347, read files: 546\n"
     ]
    },
    {
     "name": "stderr",
     "output_type": "stream",
     "text": [
      " 68%|███████████████████████████████████████████████████████████████████████████████▉                                      | 2037/3009 [27:42<12:12,  1.33it/s]"
     ]
    },
    {
     "name": "stdout",
     "output_type": "stream",
     "text": [
      "File aaaaanuu_s001_t000.edf was passed, passed files: 348, read files: 547\n",
      "File aaaaaicc_s003_t000.edf was passed, passed files: 349, read files: 547\n"
     ]
    },
    {
     "name": "stderr",
     "output_type": "stream",
     "text": [
      " 68%|████████████████████████████████████████████████████████████████████████████████▍                                     | 2051/3009 [27:50<09:38,  1.66it/s]"
     ]
    },
    {
     "name": "stdout",
     "output_type": "stream",
     "text": [
      "File aaaaapus_s001_t000.edf was passed, passed files: 350, read files: 550\n",
      "File aaaaabhm_s010_t001.edf was passed, passed files: 351, read files: 550\n"
     ]
    },
    {
     "name": "stderr",
     "output_type": "stream",
     "text": [
      " 68%|████████████████████████████████████████████████████████████████████████████████▋                                     | 2058/3009 [27:53<08:19,  1.90it/s]"
     ]
    },
    {
     "name": "stdout",
     "output_type": "stream",
     "text": [
      "File aaaaansb_s001_t000.edf was passed, passed files: 352, read files: 551\n"
     ]
    },
    {
     "name": "stderr",
     "output_type": "stream",
     "text": [
      " 69%|█████████████████████████████████████████████████████████████████████████████████▎                                    | 2074/3009 [28:07<13:47,  1.13it/s]"
     ]
    },
    {
     "name": "stdout",
     "output_type": "stream",
     "text": [
      "File aaaaafyi_s005_t000.edf was passed, passed files: 353, read files: 556\n"
     ]
    },
    {
     "name": "stderr",
     "output_type": "stream",
     "text": [
      " 69%|█████████████████████████████████████████████████████████████████████████████████▉                                    | 2088/3009 [28:29<26:28,  1.73s/it]"
     ]
    },
    {
     "name": "stdout",
     "output_type": "stream",
     "text": [
      "File aaaaanzv_s001_t000.edf was passed, passed files: 354, read files: 564\n"
     ]
    },
    {
     "name": "stderr",
     "output_type": "stream",
     "text": [
      " 70%|██████████████████████████████████████████████████████████████████████████████████                                    | 2092/3009 [28:32<18:47,  1.23s/it]"
     ]
    },
    {
     "name": "stdout",
     "output_type": "stream",
     "text": [
      "File aaaaakne_s003_t001.edf was passed, passed files: 355, read files: 565\n"
     ]
    },
    {
     "name": "stderr",
     "output_type": "stream",
     "text": [
      " 70%|██████████████████████████████████████████████████████████████████████████████████▊                                   | 2112/3009 [28:44<10:02,  1.49it/s]"
     ]
    },
    {
     "name": "stdout",
     "output_type": "stream",
     "text": [
      "File aaaaakyz_s003_t000.edf was passed, passed files: 356, read files: 570\n",
      "File aaaaaoil_s001_t000.edf was passed, passed files: 357, read files: 570\n",
      "File aaaaapum_s001_t000.edf was passed, passed files: 358, read files: 570\n",
      "File aaaaapoe_s001_t000.edf was passed, passed files: 359, read files: 570\n",
      "File aaaaamth_s001_t000.edf was passed, passed files: 360, read files: 570\n"
     ]
    },
    {
     "name": "stderr",
     "output_type": "stream",
     "text": [
      " 71%|███████████████████████████████████████████████████████████████████████████████████▎                                  | 2125/3009 [28:50<08:34,  1.72it/s]"
     ]
    },
    {
     "name": "stdout",
     "output_type": "stream",
     "text": [
      "File aaaaapqx_s001_t000.edf was passed, passed files: 361, read files: 572\n",
      "File aaaaanfb_s001_t000.edf was passed, passed files: 362, read files: 572\n",
      "File aaaaapel_s001_t000.edf was passed, passed files: 363, read files: 572\n",
      "File aaaaansv_s001_t001.edf was passed, passed files: 364, read files: 572\n"
     ]
    },
    {
     "name": "stderr",
     "output_type": "stream",
     "text": [
      " 71%|████████████████████████████████████████████████████████████████████████████████████                                  | 2144/3009 [28:59<08:01,  1.80it/s]"
     ]
    },
    {
     "name": "stdout",
     "output_type": "stream",
     "text": [
      "File aaaaango_s001_t000.edf was passed, passed files: 365, read files: 575\n",
      "File aaaaaoni_s001_t001.edf was passed, passed files: 366, read files: 575\n"
     ]
    },
    {
     "name": "stderr",
     "output_type": "stream",
     "text": [
      " 72%|████████████████████████████████████████████████████████████████████████████████████▍                                 | 2154/3009 [29:06<10:30,  1.36it/s]"
     ]
    },
    {
     "name": "stdout",
     "output_type": "stream",
     "text": [
      "File aaaaamrx_s002_t000.edf was passed, passed files: 367, read files: 578\n"
     ]
    },
    {
     "name": "stderr",
     "output_type": "stream",
     "text": [
      " 72%|████████████████████████████████████████████████████████████████████████████████████▋                                 | 2159/3009 [29:09<09:30,  1.49it/s]"
     ]
    },
    {
     "name": "stdout",
     "output_type": "stream",
     "text": [
      "File aaaaamwx_s001_t000.edf was passed, passed files: 368, read files: 579\n"
     ]
    },
    {
     "name": "stderr",
     "output_type": "stream",
     "text": [
      " 72%|████████████████████████████████████████████████████████████████████████████████████▉                                 | 2166/3009 [29:18<14:28,  1.03s/it]"
     ]
    },
    {
     "name": "stdout",
     "output_type": "stream",
     "text": [
      "File aaaaapcg_s001_t000.edf was passed, passed files: 369, read files: 582\n"
     ]
    },
    {
     "name": "stderr",
     "output_type": "stream",
     "text": [
      " 72%|█████████████████████████████████████████████████████████████████████████████████████                                 | 2168/3009 [29:21<16:01,  1.14s/it]"
     ]
    },
    {
     "name": "stdout",
     "output_type": "stream",
     "text": [
      "File aaaaapvq_s001_t000.edf was passed, passed files: 370, read files: 583\n",
      "File aaaaamxf_s001_t000.edf was passed, passed files: 371, read files: 583\n"
     ]
    },
    {
     "name": "stderr",
     "output_type": "stream",
     "text": [
      " 72%|█████████████████████████████████████████████████████████████████████████████████████▎                                | 2174/3009 [29:27<15:04,  1.08s/it]"
     ]
    },
    {
     "name": "stdout",
     "output_type": "stream",
     "text": [
      "File aaaaapfq_s001_t000.edf was passed, passed files: 372, read files: 585\n",
      "File aaaaajyg_s002_t000.edf was passed, passed files: 373, read files: 585\n"
     ]
    },
    {
     "name": "stderr",
     "output_type": "stream",
     "text": [
      " 72%|█████████████████████████████████████████████████████████████████████████████████████▍                                | 2179/3009 [29:30<11:50,  1.17it/s]"
     ]
    },
    {
     "name": "stdout",
     "output_type": "stream",
     "text": [
      "File aaaaaknp_s002_t000.edf was passed, passed files: 374, read files: 586\n"
     ]
    },
    {
     "name": "stderr",
     "output_type": "stream",
     "text": [
      " 73%|█████████████████████████████████████████████████████████████████████████████████████▌                                | 2182/3009 [29:32<12:01,  1.15it/s]"
     ]
    },
    {
     "name": "stdout",
     "output_type": "stream",
     "text": [
      "File aaaaaowf_s001_t000.edf was passed, passed files: 375, read files: 587\n",
      "File aaaaapgc_s001_t000.edf was passed, passed files: 376, read files: 587\n"
     ]
    },
    {
     "name": "stderr",
     "output_type": "stream",
     "text": [
      " 73%|█████████████████████████████████████████████████████████████████████████████████████▉                                | 2190/3009 [29:34<07:35,  1.80it/s]"
     ]
    },
    {
     "name": "stdout",
     "output_type": "stream",
     "text": [
      "File aaaaaprz_s001_t000.edf was passed, passed files: 377, read files: 588\n"
     ]
    },
    {
     "name": "stderr",
     "output_type": "stream",
     "text": [
      " 73%|██████████████████████████████████████████████████████████████████████████████████████▌                               | 2206/3009 [29:52<13:37,  1.02s/it]"
     ]
    },
    {
     "name": "stdout",
     "output_type": "stream",
     "text": [
      "File aaaaalqm_s002_t000.edf was passed, passed files: 378, read files: 594\n",
      "File aaaaaohs_s001_t001.edf was passed, passed files: 379, read files: 594\n"
     ]
    },
    {
     "name": "stderr",
     "output_type": "stream",
     "text": [
      " 74%|██████████████████████████████████████████████████████████████████████████████████████▊                               | 2214/3009 [29:54<08:14,  1.61it/s]"
     ]
    },
    {
     "name": "stdout",
     "output_type": "stream",
     "text": [
      "File aaaaalzg_s009_t000.edf was passed, passed files: 380, read files: 595\n",
      "File aaaaaoyi_s001_t000.edf was passed, passed files: 381, read files: 595\n"
     ]
    },
    {
     "name": "stderr",
     "output_type": "stream",
     "text": [
      " 74%|███████████████████████████████████████████████████████████████████████████████████████▏                              | 2224/3009 [30:08<14:51,  1.14s/it]"
     ]
    },
    {
     "name": "stdout",
     "output_type": "stream",
     "text": [
      "File aaaaaoxx_s001_t001.edf was passed, passed files: 382, read files: 600\n",
      "File aaaaamwp_s002_t000.edf was passed, passed files: 383, read files: 600\n"
     ]
    },
    {
     "name": "stderr",
     "output_type": "stream",
     "text": [
      " 74%|███████████████████████████████████████████████████████████████████████████████████████▍                              | 2231/3009 [30:11<09:26,  1.37it/s]"
     ]
    },
    {
     "name": "stdout",
     "output_type": "stream",
     "text": [
      "File aaaaapuk_s001_t000.edf was passed, passed files: 384, read files: 601\n",
      "File aaaaapgm_s001_t000.edf was passed, passed files: 385, read files: 601\n"
     ]
    },
    {
     "name": "stderr",
     "output_type": "stream",
     "text": [
      " 74%|███████████████████████████████████████████████████████████████████████████████████████▊                              | 2238/3009 [30:13<07:30,  1.71it/s]"
     ]
    },
    {
     "name": "stdout",
     "output_type": "stream",
     "text": [
      "File aaaaamyg_s001_t000.edf was passed, passed files: 386, read files: 602\n"
     ]
    },
    {
     "name": "stderr",
     "output_type": "stream",
     "text": [
      " 75%|████████████████████████████████████████████████████████████████████████████████████████                              | 2244/3009 [30:22<11:40,  1.09it/s]"
     ]
    },
    {
     "name": "stdout",
     "output_type": "stream",
     "text": [
      "File aaaaamvg_s004_t000.edf was passed, passed files: 387, read files: 605\n"
     ]
    },
    {
     "name": "stderr",
     "output_type": "stream",
     "text": [
      " 75%|████████████████████████████████████████████████████████████████████████████████████████▏                             | 2249/3009 [30:28<13:40,  1.08s/it]"
     ]
    },
    {
     "name": "stdout",
     "output_type": "stream",
     "text": [
      "File aaaaamzf_s001_t001.edf was passed, passed files: 388, read files: 607\n"
     ]
    },
    {
     "name": "stderr",
     "output_type": "stream",
     "text": [
      " 75%|████████████████████████████████████████████████████████████████████████████████████████▎                             | 2251/3009 [30:30<14:41,  1.16s/it]"
     ]
    },
    {
     "name": "stdout",
     "output_type": "stream",
     "text": [
      "File aaaaandn_s001_t000.edf was passed, passed files: 389, read files: 608\n",
      "File aaaaaoql_s001_t001.edf was passed, passed files: 390, read files: 608\n",
      "File aaaaaedn_s005_t000.edf was passed, passed files: 391, read files: 608\n"
     ]
    },
    {
     "name": "stderr",
     "output_type": "stream",
     "text": [
      " 75%|████████████████████████████████████████████████████████████████████████████████████████▋                             | 2261/3009 [30:33<07:37,  1.64it/s]"
     ]
    },
    {
     "name": "stdout",
     "output_type": "stream",
     "text": [
      "File aaaaaomi_s001_t000.edf was passed, passed files: 392, read files: 609\n"
     ]
    },
    {
     "name": "stderr",
     "output_type": "stream",
     "text": [
      " 75%|████████████████████████████████████████████████████████████████████████████████████████▉                             | 2268/3009 [30:42<11:38,  1.06it/s]"
     ]
    },
    {
     "name": "stdout",
     "output_type": "stream",
     "text": [
      "File aaaaamux_s001_t000.edf was passed, passed files: 393, read files: 612\n"
     ]
    },
    {
     "name": "stderr",
     "output_type": "stream",
     "text": [
      " 76%|█████████████████████████████████████████████████████████████████████████████████████████▏                            | 2275/3009 [30:51<13:33,  1.11s/it]"
     ]
    },
    {
     "name": "stdout",
     "output_type": "stream",
     "text": [
      "File aaaaaler_s003_t000.edf was passed, passed files: 394, read files: 615\n",
      "File aaaaapcd_s001_t000.edf was passed, passed files: 395, read files: 615\n",
      "File aaaaanah_s001_t000.edf was passed, passed files: 396, read files: 615\n",
      "File aaaaanzw_s001_t000.edf was passed, passed files: 397, read files: 615\n"
     ]
    },
    {
     "name": "stderr",
     "output_type": "stream",
     "text": [
      " 76%|██████████████████████████████████████████████████████████████████████████████████████████                            | 2297/3009 [31:11<12:24,  1.05s/it]"
     ]
    },
    {
     "name": "stdout",
     "output_type": "stream",
     "text": [
      "File aaaaapat_s001_t000.edf was passed, passed files: 398, read files: 622\n",
      "File aaaaamzs_s001_t000.edf was passed, passed files: 399, read files: 622\n",
      "File aaaaamsh_s001_t000.edf was passed, passed files: 400, read files: 622\n",
      "File aaaaamyj_s001_t000.edf was passed, passed files: 401, read files: 622\n",
      "File aaaaaorb_s001_t000.edf was passed, passed files: 402, read files: 622\n"
     ]
    },
    {
     "name": "stderr",
     "output_type": "stream",
     "text": [
      " 77%|██████████████████████████████████████████████████████████████████████████████████████████▊                           | 2315/3009 [31:23<11:32,  1.00it/s]"
     ]
    },
    {
     "name": "stdout",
     "output_type": "stream",
     "text": [
      "File aaaaaplv_s001_t000.edf was passed, passed files: 403, read files: 626\n"
     ]
    },
    {
     "name": "stderr",
     "output_type": "stream",
     "text": [
      " 77%|███████████████████████████████████████████████████████████████████████████████████████████▎                          | 2327/3009 [31:35<13:13,  1.16s/it]"
     ]
    },
    {
     "name": "stdout",
     "output_type": "stream",
     "text": [
      "File aaaaansg_s001_t000.edf was passed, passed files: 404, read files: 630\n",
      "File aaaaaibr_s005_t000.edf was passed, passed files: 405, read files: 630\n",
      "File aaaaafyj_s002_t000.edf was passed, passed files: 406, read files: 630\n"
     ]
    },
    {
     "name": "stderr",
     "output_type": "stream",
     "text": [
      " 78%|███████████████████████████████████████████████████████████████████████████████████████████▌                          | 2336/3009 [31:40<09:22,  1.20it/s]"
     ]
    },
    {
     "name": "stdout",
     "output_type": "stream",
     "text": [
      "File aaaaapob_s001_t002.edf was passed, passed files: 407, read files: 632\n"
     ]
    },
    {
     "name": "stderr",
     "output_type": "stream",
     "text": [
      " 78%|████████████████████████████████████████████████████████████████████████████████████████████                          | 2349/3009 [31:54<12:15,  1.11s/it]"
     ]
    },
    {
     "name": "stdout",
     "output_type": "stream",
     "text": [
      "File aaaaanyj_s001_t000.edf was passed, passed files: 408, read files: 637\n"
     ]
    },
    {
     "name": "stderr",
     "output_type": "stream",
     "text": [
      " 78%|████████████████████████████████████████████████████████████████████████████████████████████▏                         | 2352/3009 [31:56<10:27,  1.05it/s]"
     ]
    },
    {
     "name": "stdout",
     "output_type": "stream",
     "text": [
      "File aaaaamzq_s001_t000.edf was passed, passed files: 409, read files: 638\n"
     ]
    },
    {
     "name": "stderr",
     "output_type": "stream",
     "text": [
      " 78%|████████████████████████████████████████████████████████████████████████████████████████████▌                         | 2361/3009 [32:10<17:51,  1.65s/it]"
     ]
    },
    {
     "name": "stdout",
     "output_type": "stream",
     "text": [
      "File aaaaaawu_s005_t000.edf was passed, passed files: 410, read files: 643\n"
     ]
    },
    {
     "name": "stderr",
     "output_type": "stream",
     "text": [
      " 79%|████████████████████████████████████████████████████████████████████████████████████████████▊                         | 2368/3009 [32:16<12:10,  1.14s/it]"
     ]
    },
    {
     "name": "stdout",
     "output_type": "stream",
     "text": [
      "File aaaaamze_s001_t001.edf was passed, passed files: 411, read files: 645\n"
     ]
    },
    {
     "name": "stderr",
     "output_type": "stream",
     "text": [
      " 79%|█████████████████████████████████████████████████████████████████████████████████████████████                         | 2373/3009 [32:19<09:11,  1.15it/s]"
     ]
    },
    {
     "name": "stdout",
     "output_type": "stream",
     "text": [
      "File aaaaapej_s001_t001.edf was passed, passed files: 412, read files: 646\n"
     ]
    },
    {
     "name": "stderr",
     "output_type": "stream",
     "text": [
      " 79%|█████████████████████████████████████████████████████████████████████████████████████████████▏                        | 2376/3009 [32:22<09:21,  1.13it/s]"
     ]
    },
    {
     "name": "stdout",
     "output_type": "stream",
     "text": [
      "File aaaaapde_s001_t000.edf was passed, passed files: 413, read files: 647\n",
      "File aaaaankw_s001_t001.edf was passed, passed files: 414, read files: 647\n"
     ]
    },
    {
     "name": "stderr",
     "output_type": "stream",
     "text": [
      " 79%|█████████████████████████████████████████████████████████████████████████████████████████████▎                        | 2379/3009 [32:25<09:38,  1.09it/s]"
     ]
    },
    {
     "name": "stdout",
     "output_type": "stream",
     "text": [
      "File aaaaanlk_s001_t000.edf was passed, passed files: 415, read files: 648\n"
     ]
    },
    {
     "name": "stderr",
     "output_type": "stream",
     "text": [
      " 79%|█████████████████████████████████████████████████████████████████████████████████████████████▋                        | 2390/3009 [32:30<07:09,  1.44it/s]"
     ]
    },
    {
     "name": "stdout",
     "output_type": "stream",
     "text": [
      "File aaaaaplt_s001_t000.edf was passed, passed files: 416, read files: 650\n"
     ]
    },
    {
     "name": "stderr",
     "output_type": "stream",
     "text": [
      " 80%|█████████████████████████████████████████████████████████████████████████████████████████████▉                        | 2396/3009 [32:35<08:28,  1.21it/s]"
     ]
    },
    {
     "name": "stdout",
     "output_type": "stream",
     "text": [
      "File aaaaantg_s003_t000.edf was passed, passed files: 417, read files: 652\n"
     ]
    },
    {
     "name": "stderr",
     "output_type": "stream",
     "text": [
      " 80%|██████████████████████████████████████████████████████████████████████████████████████████████▏                       | 2403/3009 [32:44<10:46,  1.07s/it]"
     ]
    },
    {
     "name": "stdout",
     "output_type": "stream",
     "text": [
      "File aaaaapvr_s001_t000.edf was passed, passed files: 418, read files: 655\n"
     ]
    },
    {
     "name": "stderr",
     "output_type": "stream",
     "text": [
      " 80%|██████████████████████████████████████████████████████████████████████████████████████████████▋                       | 2415/3009 [33:06<14:39,  1.48s/it]"
     ]
    },
    {
     "name": "stdout",
     "output_type": "stream",
     "text": [
      "File aaaaanbg_s001_t000.edf was passed, passed files: 419, read files: 661\n"
     ]
    },
    {
     "name": "stderr",
     "output_type": "stream",
     "text": [
      " 80%|██████████████████████████████████████████████████████████████████████████████████████████████▉                       | 2421/3009 [33:08<09:11,  1.07it/s]"
     ]
    },
    {
     "name": "stdout",
     "output_type": "stream",
     "text": [
      "File aaaaalvg_s003_t000.edf was passed, passed files: 420, read files: 662\n"
     ]
    },
    {
     "name": "stderr",
     "output_type": "stream",
     "text": [
      " 81%|███████████████████████████████████████████████████████████████████████████████████████████████▎                      | 2429/3009 [33:17<10:32,  1.09s/it]"
     ]
    },
    {
     "name": "stdout",
     "output_type": "stream",
     "text": [
      "File aaaaabhm_s009_t000.edf was passed, passed files: 421, read files: 665\n"
     ]
    },
    {
     "name": "stderr",
     "output_type": "stream",
     "text": [
      " 81%|███████████████████████████████████████████████████████████████████████████████████████████████▌                      | 2436/3009 [33:26<13:13,  1.39s/it]"
     ]
    },
    {
     "name": "stdout",
     "output_type": "stream",
     "text": [
      "File aaaaamni_s001_t000.edf was passed, passed files: 422, read files: 668\n",
      "File aaaaaohh_s001_t000.edf was passed, passed files: 423, read files: 668\n"
     ]
    },
    {
     "name": "stderr",
     "output_type": "stream",
     "text": [
      " 81%|████████████████████████████████████████████████████████████████████████████████████████████████▏                     | 2452/3009 [33:39<09:31,  1.03s/it]"
     ]
    },
    {
     "name": "stdout",
     "output_type": "stream",
     "text": [
      "File aaaaante_s001_t000.edf was passed, passed files: 424, read files: 671\n"
     ]
    },
    {
     "name": "stderr",
     "output_type": "stream",
     "text": [
      " 82%|████████████████████████████████████████████████████████████████████████████████████████████████▍                     | 2460/3009 [33:42<06:18,  1.45it/s]"
     ]
    },
    {
     "name": "stdout",
     "output_type": "stream",
     "text": [
      "File aaaaapom_s001_t000.edf was passed, passed files: 425, read files: 672\n",
      "File aaaaaoyo_s001_t000.edf was passed, passed files: 426, read files: 672\n",
      "File aaaaamti_s001_t000.edf was passed, passed files: 427, read files: 672\n",
      "File aaaaajdk_s002_t000.edf was passed, passed files: 428, read files: 672\n",
      "File aaaaagwa_s003_t000.edf was passed, passed files: 429, read files: 672\n",
      "File aaaaanmm_s001_t001.edf was passed, passed files: 430, read files: 672\n"
     ]
    },
    {
     "name": "stderr",
     "output_type": "stream",
     "text": [
      " 82%|█████████████████████████████████████████████████████████████████████████████████████████████████                     | 2475/3009 [33:45<03:44,  2.38it/s]"
     ]
    },
    {
     "name": "stdout",
     "output_type": "stream",
     "text": [
      "File aaaaantx_s001_t000.edf was passed, passed files: 431, read files: 673\n"
     ]
    },
    {
     "name": "stderr",
     "output_type": "stream",
     "text": [
      " 83%|█████████████████████████████████████████████████████████████████████████████████████████████████▍                    | 2486/3009 [33:56<06:53,  1.26it/s]"
     ]
    },
    {
     "name": "stdout",
     "output_type": "stream",
     "text": [
      "File aaaaapdd_s001_t001.edf was passed, passed files: 432, read files: 677\n"
     ]
    },
    {
     "name": "stderr",
     "output_type": "stream",
     "text": [
      " 83%|█████████████████████████████████████████████████████████████████████████████████████████████████▌                    | 2488/3009 [34:03<10:55,  1.26s/it]"
     ]
    },
    {
     "name": "stdout",
     "output_type": "stream",
     "text": [
      "File aaaaaobw_s001_t000.edf was passed, passed files: 433, read files: 678\n",
      "File aaaaamnn_s001_t000.edf was passed, passed files: 434, read files: 678\n",
      "File aaaaanfk_s002_t000.edf was passed, passed files: 435, read files: 678\n"
     ]
    },
    {
     "name": "stderr",
     "output_type": "stream",
     "text": [
      " 83%|█████████████████████████████████████████████████████████████████████████████████████████████████▉                    | 2498/3009 [34:09<07:36,  1.12it/s]"
     ]
    },
    {
     "name": "stdout",
     "output_type": "stream",
     "text": [
      "File aaaaappt_s002_t000.edf was passed, passed files: 436, read files: 680\n"
     ]
    },
    {
     "name": "stderr",
     "output_type": "stream",
     "text": [
      " 83%|██████████████████████████████████████████████████████████████████████████████████████████████████▏                   | 2504/3009 [34:17<10:53,  1.29s/it]"
     ]
    },
    {
     "name": "stdout",
     "output_type": "stream",
     "text": [
      "File aaaaaoev_s001_t000.edf was passed, passed files: 437, read files: 683\n"
     ]
    },
    {
     "name": "stderr",
     "output_type": "stream",
     "text": [
      " 83%|██████████████████████████████████████████████████████████████████████████████████████████████████▍                   | 2510/3009 [34:23<09:44,  1.17s/it]"
     ]
    },
    {
     "name": "stdout",
     "output_type": "stream",
     "text": [
      "File aaaaaoen_s002_t000.edf was passed, passed files: 438, read files: 685\n",
      "File aaaaaoqu_s001_t000.edf was passed, passed files: 439, read files: 685\n",
      "File aaaaaozk_s001_t000.edf was passed, passed files: 440, read files: 685\n"
     ]
    },
    {
     "name": "stderr",
     "output_type": "stream",
     "text": [
      " 84%|██████████████████████████████████████████████████████████████████████████████████████████████████▊                   | 2520/3009 [34:29<07:00,  1.16it/s]"
     ]
    },
    {
     "name": "stdout",
     "output_type": "stream",
     "text": [
      "File aaaaamyw_s001_t000.edf was passed, passed files: 441, read files: 687\n",
      "File aaaaaddw_s002_t000.edf was passed, passed files: 442, read files: 687\n",
      "File aaaaanvd_s002_t000.edf was passed, passed files: 443, read files: 687\n",
      "File aaaaadmp_s002_t001.edf was passed, passed files: 444, read files: 687\n"
     ]
    },
    {
     "name": "stderr",
     "output_type": "stream",
     "text": [
      " 84%|███████████████████████████████████████████████████████████████████████████████████████████████████▌                  | 2538/3009 [34:35<03:57,  1.98it/s]"
     ]
    },
    {
     "name": "stdout",
     "output_type": "stream",
     "text": [
      "File aaaaaoig_s001_t000.edf was passed, passed files: 445, read files: 689\n"
     ]
    },
    {
     "name": "stderr",
     "output_type": "stream",
     "text": [
      " 85%|███████████████████████████████████████████████████████████████████████████████████████████████████▉                  | 2548/3009 [34:40<04:18,  1.79it/s]"
     ]
    },
    {
     "name": "stdout",
     "output_type": "stream",
     "text": [
      "File aaaaanat_s001_t000.edf was passed, passed files: 446, read files: 691\n"
     ]
    },
    {
     "name": "stderr",
     "output_type": "stream",
     "text": [
      " 85%|████████████████████████████████████████████████████████████████████████████████████████████████████                  | 2553/3009 [34:43<04:15,  1.79it/s]"
     ]
    },
    {
     "name": "stdout",
     "output_type": "stream",
     "text": [
      "File aaaaaopl_s001_t000.edf was passed, passed files: 447, read files: 692\n"
     ]
    },
    {
     "name": "stderr",
     "output_type": "stream",
     "text": [
      " 85%|████████████████████████████████████████████████████████████████████████████████████████████████████▏                 | 2556/3009 [34:46<04:46,  1.58it/s]"
     ]
    },
    {
     "name": "stdout",
     "output_type": "stream",
     "text": [
      "File aaaaamcf_s002_t000.edf was passed, passed files: 448, read files: 693\n",
      "File aaaaaoqe_s001_t000.edf was passed, passed files: 449, read files: 693\n",
      "File aaaaantj_s001_t001.edf was passed, passed files: 450, read files: 693\n",
      "File aaaaapiq_s001_t000.edf was passed, passed files: 451, read files: 693\n"
     ]
    },
    {
     "name": "stderr",
     "output_type": "stream",
     "text": [
      " 85%|████████████████████████████████████████████████████████████████████████████████████████████████████▋                 | 2567/3009 [34:55<06:11,  1.19it/s]"
     ]
    },
    {
     "name": "stdout",
     "output_type": "stream",
     "text": [
      "File aaaaahsy_s002_t000.edf was passed, passed files: 452, read files: 696\n",
      "File aaaaapaz_s001_t000.edf was passed, passed files: 453, read files: 696\n",
      "File aaaaapsx_s001_t000.edf was passed, passed files: 454, read files: 696\n"
     ]
    },
    {
     "name": "stderr",
     "output_type": "stream",
     "text": [
      " 86%|█████████████████████████████████████████████████████████████████████████████████████████████████████                 | 2578/3009 [34:57<03:35,  2.00it/s]"
     ]
    },
    {
     "name": "stdout",
     "output_type": "stream",
     "text": [
      "File aaaaapqu_s001_t000.edf was passed, passed files: 455, read files: 697\n",
      "File aaaaapwt_s001_t000.edf was passed, passed files: 456, read files: 697\n"
     ]
    },
    {
     "name": "stderr",
     "output_type": "stream",
     "text": [
      " 86%|█████████████████████████████████████████████████████████████████████████████████████████████████████▏                | 2581/3009 [34:59<03:46,  1.89it/s]"
     ]
    },
    {
     "name": "stdout",
     "output_type": "stream",
     "text": [
      "File aaaaapce_s001_t001.edf was passed, passed files: 457, read files: 698\n"
     ]
    },
    {
     "name": "stderr",
     "output_type": "stream",
     "text": [
      " 86%|█████████████████████████████████████████████████████████████████████████████████████████████████████▍                | 2588/3009 [35:05<04:51,  1.45it/s]"
     ]
    },
    {
     "name": "stdout",
     "output_type": "stream",
     "text": [
      "File aaaaaoya_s001_t000.edf was passed, passed files: 458, read files: 700\n",
      "File aaaaamog_s001_t000.edf was passed, passed files: 459, read files: 700\n"
     ]
    },
    {
     "name": "stderr",
     "output_type": "stream",
     "text": [
      " 86%|█████████████████████████████████████████████████████████████████████████████████████████████████████▌                | 2591/3009 [35:08<05:15,  1.33it/s]"
     ]
    },
    {
     "name": "stdout",
     "output_type": "stream",
     "text": [
      "File aaaaapcl_s001_t000.edf was passed, passed files: 460, read files: 701\n"
     ]
    },
    {
     "name": "stderr",
     "output_type": "stream",
     "text": [
      " 86%|█████████████████████████████████████████████████████████████████████████████████████████████████████▊                | 2596/3009 [35:11<04:45,  1.45it/s]"
     ]
    },
    {
     "name": "stdout",
     "output_type": "stream",
     "text": [
      "File aaaaaozg_s001_t000.edf was passed, passed files: 461, read files: 702\n"
     ]
    },
    {
     "name": "stderr",
     "output_type": "stream",
     "text": [
      " 86%|█████████████████████████████████████████████████████████████████████████████████████████████████████▉                | 2599/3009 [35:14<05:05,  1.34it/s]"
     ]
    },
    {
     "name": "stdout",
     "output_type": "stream",
     "text": [
      "File aaaaaoen_s001_t000.edf was passed, passed files: 462, read files: 703\n",
      "File aaaaancu_s001_t000.edf was passed, passed files: 463, read files: 703\n"
     ]
    },
    {
     "name": "stderr",
     "output_type": "stream",
     "text": [
      " 87%|██████████████████████████████████████████████████████████████████████████████████████████████████████▍               | 2611/3009 [35:36<14:02,  2.12s/it]"
     ]
    },
    {
     "name": "stdout",
     "output_type": "stream",
     "text": [
      "File aaaaaozi_s001_t000.edf was passed, passed files: 464, read files: 709\n"
     ]
    },
    {
     "name": "stderr",
     "output_type": "stream",
     "text": [
      " 87%|██████████████████████████████████████████████████████████████████████████████████████████████████████▌               | 2614/3009 [35:41<13:13,  2.01s/it]"
     ]
    },
    {
     "name": "stdout",
     "output_type": "stream",
     "text": [
      "File aaaaacyc_s003_t000.edf was passed, passed files: 465, read files: 711\n",
      "File aaaaapfj_s001_t000.edf was passed, passed files: 466, read files: 711\n"
     ]
    },
    {
     "name": "stderr",
     "output_type": "stream",
     "text": [
      " 87%|██████████████████████████████████████████████████████████████████████████████████████████████████████▊               | 2623/3009 [35:50<08:47,  1.37s/it]"
     ]
    },
    {
     "name": "stdout",
     "output_type": "stream",
     "text": [
      "File aaaaamnj_s001_t000.edf was passed, passed files: 467, read files: 713\n"
     ]
    },
    {
     "name": "stderr",
     "output_type": "stream",
     "text": [
      " 87%|███████████████████████████████████████████████████████████████████████████████████████████████████████               | 2629/3009 [35:56<07:27,  1.18s/it]"
     ]
    },
    {
     "name": "stdout",
     "output_type": "stream",
     "text": [
      "File aaaaapqc_s001_t000.edf was passed, passed files: 468, read files: 715\n",
      "File aaaaapkb_s001_t000.edf was passed, passed files: 469, read files: 715\n"
     ]
    },
    {
     "name": "stderr",
     "output_type": "stream",
     "text": [
      " 88%|███████████████████████████████████████████████████████████████████████████████████████████████████████▎              | 2634/3009 [35:59<05:51,  1.07it/s]"
     ]
    },
    {
     "name": "stdout",
     "output_type": "stream",
     "text": [
      "File aaaaanfo_s001_t000.edf was passed, passed files: 470, read files: 716\n"
     ]
    },
    {
     "name": "stderr",
     "output_type": "stream",
     "text": [
      " 88%|███████████████████████████████████████████████████████████████████████████████████████████████████████▊              | 2646/3009 [36:13<07:52,  1.30s/it]"
     ]
    },
    {
     "name": "stdout",
     "output_type": "stream",
     "text": [
      "File aaaaanmr_s002_t000.edf was passed, passed files: 471, read files: 721\n"
     ]
    },
    {
     "name": "stderr",
     "output_type": "stream",
     "text": [
      " 88%|███████████████████████████████████████████████████████████████████████████████████████████████████████▉              | 2651/3009 [36:16<05:34,  1.07it/s]"
     ]
    },
    {
     "name": "stdout",
     "output_type": "stream",
     "text": [
      "File aaaaanfq_s001_t000.edf was passed, passed files: 472, read files: 722\n",
      "File aaaaamcu_s003_t001.edf was passed, passed files: 473, read files: 722\n"
     ]
    },
    {
     "name": "stderr",
     "output_type": "stream",
     "text": [
      " 88%|████████████████████████████████████████████████████████████████████████████████████████████████████████▏             | 2656/3009 [36:22<06:34,  1.12s/it]"
     ]
    },
    {
     "name": "stdout",
     "output_type": "stream",
     "text": [
      "File aaaaapok_s001_t001.edf was passed, passed files: 474, read files: 724\n",
      "File aaaaagza_s003_t001.edf was passed, passed files: 475, read files: 724\n",
      "File aaaaamnz_s001_t000.edf was passed, passed files: 476, read files: 724\n"
     ]
    },
    {
     "name": "stderr",
     "output_type": "stream",
     "text": [
      " 89%|████████████████████████████████████████████████████████████████████████████████████████████████████████▍             | 2663/3009 [36:27<05:35,  1.03it/s]"
     ]
    },
    {
     "name": "stdout",
     "output_type": "stream",
     "text": [
      "File aaaaamoc_s003_t000.edf was passed, passed files: 477, read files: 726\n"
     ]
    },
    {
     "name": "stderr",
     "output_type": "stream",
     "text": [
      " 89%|████████████████████████████████████████████████████████████████████████████████████████████████████████▋             | 2670/3009 [36:33<05:22,  1.05it/s]"
     ]
    },
    {
     "name": "stdout",
     "output_type": "stream",
     "text": [
      "File aaaaanoi_s001_t000.edf was passed, passed files: 478, read files: 728\n",
      "File aaaaafee_s002_t000.edf was passed, passed files: 479, read files: 728\n"
     ]
    },
    {
     "name": "stderr",
     "output_type": "stream",
     "text": [
      " 89%|█████████████████████████████████████████████████████████████████████████████████████████████████████████             | 2678/3009 [36:36<03:30,  1.57it/s]"
     ]
    },
    {
     "name": "stdout",
     "output_type": "stream",
     "text": [
      "File aaaaapfd_s001_t001.edf was passed, passed files: 480, read files: 729\n"
     ]
    },
    {
     "name": "stderr",
     "output_type": "stream",
     "text": [
      " 89%|█████████████████████████████████████████████████████████████████████████████████████████████████████████▏            | 2683/3009 [36:39<03:16,  1.66it/s]"
     ]
    },
    {
     "name": "stdout",
     "output_type": "stream",
     "text": [
      "File aaaaabjt_s005_t000.edf was passed, passed files: 481, read files: 730\n"
     ]
    },
    {
     "name": "stderr",
     "output_type": "stream",
     "text": [
      " 89%|█████████████████████████████████████████████████████████████████████████████████████████████████████████▎            | 2685/3009 [36:42<04:07,  1.31it/s]"
     ]
    },
    {
     "name": "stdout",
     "output_type": "stream",
     "text": [
      "File aaaaalsz_s003_t000.edf was passed, passed files: 482, read files: 731\n",
      "File aaaaanby_s001_t001.edf was passed, passed files: 483, read files: 731\n",
      "File aaaaapku_s001_t000.edf was passed, passed files: 484, read files: 731\n"
     ]
    },
    {
     "name": "stderr",
     "output_type": "stream",
     "text": [
      " 90%|█████████████████████████████████████████████████████████████████████████████████████████████████████████▉            | 2701/3009 [36:56<06:23,  1.24s/it]"
     ]
    },
    {
     "name": "stdout",
     "output_type": "stream",
     "text": [
      "File aaaaapri_s001_t000.edf was passed, passed files: 485, read files: 736\n"
     ]
    },
    {
     "name": "stderr",
     "output_type": "stream",
     "text": [
      " 90%|██████████████████████████████████████████████████████████████████████████████████████████████████████████            | 2705/3009 [36:58<05:02,  1.00it/s]"
     ]
    },
    {
     "name": "stdout",
     "output_type": "stream",
     "text": [
      "File aaaaapxk_s001_t000.edf was passed, passed files: 486, read files: 737\n",
      "File aaaaapay_s002_t000.edf was passed, passed files: 487, read files: 737\n",
      "File aaaaapvj_s001_t001.edf was passed, passed files: 488, read files: 737\n",
      "File aaaaandt_s001_t000.edf was passed, passed files: 489, read files: 737\n"
     ]
    },
    {
     "name": "stderr",
     "output_type": "stream",
     "text": [
      " 90%|██████████████████████████████████████████████████████████████████████████████████████████████████████████▌           | 2717/3009 [37:01<02:29,  1.95it/s]"
     ]
    },
    {
     "name": "stdout",
     "output_type": "stream",
     "text": [
      "File aaaaalzz_s002_t000.edf was passed, passed files: 490, read files: 738\n"
     ]
    },
    {
     "name": "stderr",
     "output_type": "stream",
     "text": [
      " 90%|██████████████████████████████████████████████████████████████████████████████████████████████████████████▊           | 2723/3009 [37:04<02:21,  2.02it/s]"
     ]
    },
    {
     "name": "stdout",
     "output_type": "stream",
     "text": [
      "File aaaaapiy_s001_t001.edf was passed, passed files: 491, read files: 739\n",
      "File aaaaakth_s002_t002.edf was passed, passed files: 492, read files: 739\n"
     ]
    },
    {
     "name": "stderr",
     "output_type": "stream",
     "text": [
      " 91%|██████████████████████████████████████████████████████████████████████████████████████████████████████████▉           | 2727/3009 [37:07<02:32,  1.85it/s]"
     ]
    },
    {
     "name": "stdout",
     "output_type": "stream",
     "text": [
      "File aaaaanvy_s001_t001.edf was passed, passed files: 493, read files: 740\n"
     ]
    },
    {
     "name": "stderr",
     "output_type": "stream",
     "text": [
      " 91%|███████████████████████████████████████████████████████████████████████████████████████████████████████████▎          | 2737/3009 [37:19<04:32,  1.00s/it]"
     ]
    },
    {
     "name": "stdout",
     "output_type": "stream",
     "text": [
      "File aaaaamzv_s001_t000.edf was passed, passed files: 494, read files: 744\n",
      "File aaaaankq_s001_t000.edf was passed, passed files: 495, read files: 744\n"
     ]
    },
    {
     "name": "stderr",
     "output_type": "stream",
     "text": [
      " 92%|████████████████████████████████████████████████████████████████████████████████████████████████████████████▎         | 2763/3009 [37:55<07:58,  1.95s/it]"
     ]
    },
    {
     "name": "stdout",
     "output_type": "stream",
     "text": [
      "File aaaaaoqp_s001_t000.edf was passed, passed files: 496, read files: 756\n",
      "File aaaaapbg_s001_t000.edf was passed, passed files: 497, read files: 756\n",
      "File aaaaaoyb_s001_t001.edf was passed, passed files: 498, read files: 756\n",
      "File aaaaapcn_s001_t000.edf was passed, passed files: 499, read files: 756\n",
      "File aaaaaoxi_s001_t000.edf was passed, passed files: 500, read files: 756\n"
     ]
    },
    {
     "name": "stderr",
     "output_type": "stream",
     "text": [
      " 92%|████████████████████████████████████████████████████████████████████████████████████████████████████████████▊         | 2775/3009 [38:01<03:20,  1.17it/s]"
     ]
    },
    {
     "name": "stdout",
     "output_type": "stream",
     "text": [
      "File aaaaaors_s001_t001.edf was passed, passed files: 501, read files: 758\n"
     ]
    },
    {
     "name": "stderr",
     "output_type": "stream",
     "text": [
      " 92%|█████████████████████████████████████████████████████████████████████████████████████████████████████████████         | 2780/3009 [38:10<05:19,  1.39s/it]"
     ]
    },
    {
     "name": "stdout",
     "output_type": "stream",
     "text": [
      "File aaaaapim_s001_t000.edf was passed, passed files: 502, read files: 761\n",
      "File aaaaaenj_s002_t002.edf was passed, passed files: 503, read files: 761\n",
      "File aaaaanbw_s002_t000.edf was passed, passed files: 504, read files: 761\n"
     ]
    },
    {
     "name": "stderr",
     "output_type": "stream",
     "text": [
      " 93%|█████████████████████████████████████████████████████████████████████████████████████████████████████████████▏        | 2785/3009 [38:13<03:36,  1.03it/s]"
     ]
    },
    {
     "name": "stdout",
     "output_type": "stream",
     "text": [
      "File aaaaaocs_s001_t000.edf was passed, passed files: 505, read files: 762\n",
      "File aaaaajqr_s002_t000.edf was passed, passed files: 506, read files: 762\n",
      "File aaaaapig_s001_t000.edf was passed, passed files: 507, read files: 762\n"
     ]
    },
    {
     "name": "stderr",
     "output_type": "stream",
     "text": [
      " 93%|█████████████████████████████████████████████████████████████████████████████████████████████████████████████▊        | 2799/3009 [38:37<07:55,  2.27s/it]"
     ]
    },
    {
     "name": "stdout",
     "output_type": "stream",
     "text": [
      "File aaaaamzc_s001_t000.edf was passed, passed files: 508, read files: 770\n",
      "File aaaaappf_s001_t000.edf was passed, passed files: 509, read files: 770\n"
     ]
    },
    {
     "name": "stderr",
     "output_type": "stream",
     "text": [
      " 94%|██████████████████████████████████████████████████████████████████████████████████████████████████████████████▎       | 2814/3009 [38:49<03:07,  1.04it/s]"
     ]
    },
    {
     "name": "stdout",
     "output_type": "stream",
     "text": [
      "File aaaaahjk_s002_t001.edf was passed, passed files: 510, read files: 774\n"
     ]
    },
    {
     "name": "stderr",
     "output_type": "stream",
     "text": [
      " 94%|██████████████████████████████████████████████████████████████████████████████████████████████████████████████▌       | 2818/3009 [38:51<02:45,  1.15it/s]"
     ]
    },
    {
     "name": "stdout",
     "output_type": "stream",
     "text": [
      "File aaaaapvh_s001_t001.edf was passed, passed files: 511, read files: 775\n",
      "File aaaaapul_s001_t000.edf was passed, passed files: 512, read files: 775\n"
     ]
    },
    {
     "name": "stderr",
     "output_type": "stream",
     "text": [
      " 94%|██████████████████████████████████████████████████████████████████████████████████████████████████████████████▋       | 2823/3009 [38:54<02:20,  1.32it/s]"
     ]
    },
    {
     "name": "stdout",
     "output_type": "stream",
     "text": [
      "File aaaaakiq_s003_t000.edf was passed, passed files: 513, read files: 776\n"
     ]
    },
    {
     "name": "stderr",
     "output_type": "stream",
     "text": [
      " 94%|███████████████████████████████████████████████████████████████████████████████████████████████████████████████       | 2831/3009 [39:17<07:41,  2.59s/it]"
     ]
    },
    {
     "name": "stdout",
     "output_type": "stream",
     "text": [
      "File aaaaagwc_s002_t001.edf was passed, passed files: 514, read files: 781\n"
     ]
    },
    {
     "name": "stderr",
     "output_type": "stream",
     "text": [
      " 94%|███████████████████████████████████████████████████████████████████████████████████████████████████████████████▎      | 2840/3009 [39:26<03:55,  1.39s/it]"
     ]
    },
    {
     "name": "stdout",
     "output_type": "stream",
     "text": [
      "File aaaaaosq_s001_t000.edf was passed, passed files: 515, read files: 784\n"
     ]
    },
    {
     "name": "stderr",
     "output_type": "stream",
     "text": [
      " 95%|███████████████████████████████████████████████████████████████████████████████████████████████████████████████▌      | 2844/3009 [39:29<03:07,  1.14s/it]"
     ]
    },
    {
     "name": "stdout",
     "output_type": "stream",
     "text": [
      "File aaaaancd_s001_t001.edf was passed, passed files: 516, read files: 785\n"
     ]
    },
    {
     "name": "stderr",
     "output_type": "stream",
     "text": [
      " 95%|███████████████████████████████████████████████████████████████████████████████████████████████████████████████▋      | 2848/3009 [39:32<02:36,  1.03it/s]"
     ]
    },
    {
     "name": "stdout",
     "output_type": "stream",
     "text": [
      "File aaaaanzs_s002_t000.edf was passed, passed files: 517, read files: 786\n"
     ]
    },
    {
     "name": "stderr",
     "output_type": "stream",
     "text": [
      " 95%|███████████████████████████████████████████████████████████████████████████████████████████████████████████████▊      | 2851/3009 [39:34<02:30,  1.05it/s]"
     ]
    },
    {
     "name": "stdout",
     "output_type": "stream",
     "text": [
      "File aaaaahxr_s002_t000.edf was passed, passed files: 518, read files: 787\n"
     ]
    },
    {
     "name": "stderr",
     "output_type": "stream",
     "text": [
      " 95%|███████████████████████████████████████████████████████████████████████████████████████████████████████████████▉      | 2854/3009 [39:37<02:31,  1.02it/s]"
     ]
    },
    {
     "name": "stdout",
     "output_type": "stream",
     "text": [
      "File aaaaansq_s001_t000.edf was passed, passed files: 519, read files: 788\n",
      "File aaaaamtn_s001_t000.edf was passed, passed files: 520, read files: 788\n"
     ]
    },
    {
     "name": "stderr",
     "output_type": "stream",
     "text": [
      " 96%|████████████████████████████████████████████████████████████████████████████████████████████████████████████████▊     | 2878/3009 [39:58<02:28,  1.13s/it]"
     ]
    },
    {
     "name": "stdout",
     "output_type": "stream",
     "text": [
      "File aaaaaeki_s002_t000.edf was passed, passed files: 521, read files: 795\n"
     ]
    },
    {
     "name": "stderr",
     "output_type": "stream",
     "text": [
      " 96%|█████████████████████████████████████████████████████████████████████████████████████████████████████████████████▏    | 2887/3009 [40:03<01:47,  1.13it/s]"
     ]
    },
    {
     "name": "stdout",
     "output_type": "stream",
     "text": [
      "File aaaaappl_s001_t002.edf was passed, passed files: 522, read files: 797\n",
      "File aaaaamsf_s001_t000.edf was passed, passed files: 523, read files: 797\n",
      "File aaaaalxx_s002_t000.edf was passed, passed files: 524, read files: 797\n"
     ]
    },
    {
     "name": "stderr",
     "output_type": "stream",
     "text": [
      " 96%|█████████████████████████████████████████████████████████████████████████████████████████████████████████████████▋    | 2899/3009 [40:06<00:53,  2.04it/s]"
     ]
    },
    {
     "name": "stdout",
     "output_type": "stream",
     "text": [
      "File aaaaamsw_s003_t000.edf was passed, passed files: 525, read files: 798\n"
     ]
    },
    {
     "name": "stderr",
     "output_type": "stream",
     "text": [
      " 96%|█████████████████████████████████████████████████████████████████████████████████████████████████████████████████▊    | 2901/3009 [40:09<01:06,  1.62it/s]"
     ]
    },
    {
     "name": "stdout",
     "output_type": "stream",
     "text": [
      "File aaaaamwi_s001_t000.edf was passed, passed files: 526, read files: 799\n",
      "File aaaaaoyu_s001_t000.edf was passed, passed files: 527, read files: 799\n"
     ]
    },
    {
     "name": "stderr",
     "output_type": "stream",
     "text": [
      " 97%|██████████████████████████████████████████████████████████████████████████████████████████████████████████████████▏   | 2911/3009 [40:12<00:45,  2.13it/s]"
     ]
    },
    {
     "name": "stdout",
     "output_type": "stream",
     "text": [
      "File aaaaanln_s001_t000.edf was passed, passed files: 528, read files: 800\n"
     ]
    },
    {
     "name": "stderr",
     "output_type": "stream",
     "text": [
      " 97%|██████████████████████████████████████████████████████████████████████████████████████████████████████████████████▏   | 2913/3009 [40:15<00:55,  1.74it/s]"
     ]
    },
    {
     "name": "stdout",
     "output_type": "stream",
     "text": [
      "File aaaaaozm_s001_t000.edf was passed, passed files: 529, read files: 801\n",
      "File aaaaaedn_s006_t000.edf was passed, passed files: 530, read files: 801\n",
      "File aaaaanez_s001_t000.edf was passed, passed files: 531, read files: 801\n"
     ]
    },
    {
     "name": "stderr",
     "output_type": "stream",
     "text": [
      " 97%|██████████████████████████████████████████████████████████████████████████████████████████████████████████████████▋   | 2924/3009 [40:24<01:06,  1.27it/s]"
     ]
    },
    {
     "name": "stdout",
     "output_type": "stream",
     "text": [
      "File aaaaamsx_s001_t000.edf was passed, passed files: 532, read files: 804\n"
     ]
    },
    {
     "name": "stderr",
     "output_type": "stream",
     "text": [
      " 97%|██████████████████████████████████████████████████████████████████████████████████████████████████████████████████▊   | 2927/3009 [40:26<01:08,  1.20it/s]"
     ]
    },
    {
     "name": "stdout",
     "output_type": "stream",
     "text": [
      "File aaaaangg_s001_t001.edf was passed, passed files: 533, read files: 805\n"
     ]
    },
    {
     "name": "stderr",
     "output_type": "stream",
     "text": [
      " 97%|██████████████████████████████████████████████████████████████████████████████████████████████████████████████████▊   | 2929/3009 [40:30<01:17,  1.03it/s]"
     ]
    },
    {
     "name": "stdout",
     "output_type": "stream",
     "text": [
      "File aaaaapbi_s001_t000.edf was passed, passed files: 534, read files: 806\n",
      "File aaaaands_s002_t000.edf was passed, passed files: 535, read files: 806\n"
     ]
    },
    {
     "name": "stderr",
     "output_type": "stream",
     "text": [
      " 97%|███████████████████████████████████████████████████████████████████████████████████████████████████████████████████   | 2933/3009 [40:32<01:07,  1.13it/s]"
     ]
    },
    {
     "name": "stdout",
     "output_type": "stream",
     "text": [
      "File aaaaaopm_s001_t000.edf was passed, passed files: 536, read files: 807\n",
      "File aaaaaoah_s001_t000.edf was passed, passed files: 537, read files: 807\n"
     ]
    },
    {
     "name": "stderr",
     "output_type": "stream",
     "text": [
      " 98%|███████████████████████████████████████████████████████████████████████████████████████████████████████████████████▏  | 2937/3009 [40:35<00:58,  1.22it/s]"
     ]
    },
    {
     "name": "stdout",
     "output_type": "stream",
     "text": [
      "File aaaaamti_s002_t000.edf was passed, passed files: 538, read files: 808\n"
     ]
    },
    {
     "name": "stderr",
     "output_type": "stream",
     "text": [
      " 98%|███████████████████████████████████████████████████████████████████████████████████████████████████████████████████▍  | 2945/3009 [40:38<00:38,  1.68it/s]"
     ]
    },
    {
     "name": "stdout",
     "output_type": "stream",
     "text": [
      "File aaaaakhy_s002_t000.edf was passed, passed files: 539, read files: 809\n",
      "File aaaaanyy_s001_t000.edf was passed, passed files: 540, read files: 809\n",
      "File aaaaaodb_s002_t000.edf was passed, passed files: 541, read files: 809\n"
     ]
    },
    {
     "name": "stderr",
     "output_type": "stream",
     "text": [
      " 98%|███████████████████████████████████████████████████████████████████████████████████████████████████████████████████▊  | 2953/3009 [40:41<00:27,  2.03it/s]"
     ]
    },
    {
     "name": "stdout",
     "output_type": "stream",
     "text": [
      "File aaaaakbi_s002_t000.edf was passed, passed files: 542, read files: 810\n"
     ]
    },
    {
     "name": "stderr",
     "output_type": "stream",
     "text": [
      " 98%|████████████████████████████████████████████████████████████████████████████████████████████████████████████████████  | 2958/3009 [40:44<00:25,  1.97it/s]"
     ]
    },
    {
     "name": "stdout",
     "output_type": "stream",
     "text": [
      "File aaaaanci_s001_t000.edf was passed, passed files: 543, read files: 811\n",
      "File aaaaapdk_s001_t000.edf was passed, passed files: 544, read files: 811\n",
      "File aaaaaomj_s001_t000.edf was passed, passed files: 545, read files: 811\n"
     ]
    },
    {
     "name": "stderr",
     "output_type": "stream",
     "text": [
      " 99%|████████████████████████████████████████████████████████████████████████████████████████████████████████████████████▌ | 2971/3009 [40:49<00:18,  2.05it/s]"
     ]
    },
    {
     "name": "stdout",
     "output_type": "stream",
     "text": [
      "File aaaaankg_s001_t002.edf was passed, passed files: 546, read files: 813\n",
      "File aaaaaoyh_s001_t000.edf was passed, passed files: 547, read files: 813\n"
     ]
    },
    {
     "name": "stderr",
     "output_type": "stream",
     "text": [
      " 99%|█████████████████████████████████████████████████████████████████████████████████████████████████████████████████████▏| 2987/3009 [40:57<00:11,  1.92it/s]"
     ]
    },
    {
     "name": "stdout",
     "output_type": "stream",
     "text": [
      "File aaaaapoj_s001_t000.edf was passed, passed files: 548, read files: 816\n"
     ]
    },
    {
     "name": "stderr",
     "output_type": "stream",
     "text": [
      "100%|██████████████████████████████████████████████████████████████████████████████████████████████████████████████████████| 3009/3009 [41:02<00:00,  1.22it/s]\n"
     ]
    },
    {
     "name": "stdout",
     "output_type": "stream",
     "text": [
      "File aaaaapww_s001_t000.edf was passed, passed files: 549, read files: 818\n",
      "File aaaaanvo_s001_t000.edf was passed, passed files: 550, read files: 818\n",
      "File aaaaaojl_s001_t001.edf was passed, passed files: 551, read files: 818\n",
      "File aaaaaolx_s001_t000.edf was passed, passed files: 552, read files: 818\n",
      "File aaaaamwt_s001_t000.edf was passed, passed files: 553, read files: 818\n",
      "Read files: 818, passed files: 553\n"
     ]
    },
    {
     "name": "stderr",
     "output_type": "stream",
     "text": [
      "  5%|█████▊                                                                                                                   | 19/392 [00:26<08:55,  1.44s/it]"
     ]
    },
    {
     "name": "stdout",
     "output_type": "stream",
     "text": [
      "File aaaaamuc_s001_t000.edf was passed, passed files: 1, read files: 7\n"
     ]
    },
    {
     "name": "stderr",
     "output_type": "stream",
     "text": [
      "  6%|██████▊                                                                                                                  | 22/392 [00:28<07:41,  1.25s/it]"
     ]
    },
    {
     "name": "stdout",
     "output_type": "stream",
     "text": [
      "File aaaaaphw_s001_t000.edf was passed, passed files: 2, read files: 8\n"
     ]
    },
    {
     "name": "stderr",
     "output_type": "stream",
     "text": [
      " 13%|███████████████▍                                                                                                         | 50/392 [01:11<06:46,  1.19s/it]"
     ]
    },
    {
     "name": "stdout",
     "output_type": "stream",
     "text": [
      "File aaaaapoo_s001_t000.edf was passed, passed files: 3, read files: 20\n",
      "File aaaaapoq_s001_t000.edf was passed, passed files: 4, read files: 20\n"
     ]
    },
    {
     "name": "stderr",
     "output_type": "stream",
     "text": [
      " 17%|████████████████████                                                                                                     | 65/392 [01:19<04:12,  1.29it/s]"
     ]
    },
    {
     "name": "stdout",
     "output_type": "stream",
     "text": [
      "File aaaaaozf_s001_t001.edf was passed, passed files: 5, read files: 23\n"
     ]
    },
    {
     "name": "stderr",
     "output_type": "stream",
     "text": [
      " 19%|███████████████████████▍                                                                                                 | 76/392 [01:32<05:51,  1.11s/it]"
     ]
    },
    {
     "name": "stdout",
     "output_type": "stream",
     "text": [
      "File aaaaangp_s001_t000.edf was passed, passed files: 6, read files: 28\n",
      "File aaaaanvw_s001_t000.edf was passed, passed files: 7, read files: 28\n"
     ]
    },
    {
     "name": "stderr",
     "output_type": "stream",
     "text": [
      " 22%|██████████████████████████▊                                                                                              | 87/392 [01:41<05:06,  1.01s/it]"
     ]
    },
    {
     "name": "stdout",
     "output_type": "stream",
     "text": [
      "File aaaaapdg_s001_t000.edf was passed, passed files: 8, read files: 31\n"
     ]
    },
    {
     "name": "stderr",
     "output_type": "stream",
     "text": [
      " 26%|██████████████████████████████▉                                                                                         | 101/392 [01:49<03:25,  1.42it/s]"
     ]
    },
    {
     "name": "stdout",
     "output_type": "stream",
     "text": [
      "File aaaaaobl_s001_t000.edf was passed, passed files: 9, read files: 34\n"
     ]
    },
    {
     "name": "stderr",
     "output_type": "stream",
     "text": [
      " 38%|█████████████████████████████████████████████▉                                                                          | 150/392 [02:24<05:29,  1.36s/it]"
     ]
    },
    {
     "name": "stdout",
     "output_type": "stream",
     "text": [
      "File aaaaapxm_s001_t001.edf was passed, passed files: 10, read files: 45\n"
     ]
    },
    {
     "name": "stderr",
     "output_type": "stream",
     "text": [
      " 41%|█████████████████████████████████████████████████▌                                                                      | 162/392 [02:42<06:01,  1.57s/it]"
     ]
    },
    {
     "name": "stdout",
     "output_type": "stream",
     "text": [
      "File aaaaapcb_s001_t000.edf was passed, passed files: 11, read files: 51\n"
     ]
    },
    {
     "name": "stderr",
     "output_type": "stream",
     "text": [
      " 47%|████████████████████████████████████████████████████████▋                                                               | 185/392 [03:07<04:06,  1.19s/it]"
     ]
    },
    {
     "name": "stdout",
     "output_type": "stream",
     "text": [
      "File aaaaaosw_s001_t000.edf was passed, passed files: 12, read files: 59\n"
     ]
    },
    {
     "name": "stderr",
     "output_type": "stream",
     "text": [
      " 54%|████████████████████████████████████████████████████████████████▎                                                       | 210/392 [03:38<03:43,  1.23s/it]"
     ]
    },
    {
     "name": "stdout",
     "output_type": "stream",
     "text": [
      "File aaaaanbq_s001_t000.edf was passed, passed files: 13, read files: 67\n",
      "File aaaaappb_s001_t000.edf was passed, passed files: 14, read files: 67\n",
      "File aaaaapqv_s001_t000.edf was passed, passed files: 15, read files: 67\n"
     ]
    },
    {
     "name": "stderr",
     "output_type": "stream",
     "text": [
      " 60%|███████████████████████████████████████████████████████████████████████▋                                                | 234/392 [04:01<03:07,  1.18s/it]"
     ]
    },
    {
     "name": "stdout",
     "output_type": "stream",
     "text": [
      "File aaaaapof_s001_t000.edf was passed, passed files: 16, read files: 72\n"
     ]
    },
    {
     "name": "stderr",
     "output_type": "stream",
     "text": [
      " 61%|█████████████████████████████████████████████████████████████████████████▏                                              | 239/392 [04:09<03:48,  1.50s/it]"
     ]
    },
    {
     "name": "stdout",
     "output_type": "stream",
     "text": [
      "File aaaaamzl_s001_t000.edf was passed, passed files: 17, read files: 75\n",
      "File aaaaamyb_s001_t001.edf was passed, passed files: 18, read files: 75\n"
     ]
    },
    {
     "name": "stderr",
     "output_type": "stream",
     "text": [
      " 65%|██████████████████████████████████████████████████████████████████████████████                                          | 255/392 [04:20<02:06,  1.08it/s]"
     ]
    },
    {
     "name": "stdout",
     "output_type": "stream",
     "text": [
      "File aaaaapcy_s001_t002.edf was passed, passed files: 19, read files: 79\n"
     ]
    },
    {
     "name": "stderr",
     "output_type": "stream",
     "text": [
      " 68%|█████████████████████████████████████████████████████████████████████████████████▋                                      | 267/392 [04:27<01:38,  1.27it/s]"
     ]
    },
    {
     "name": "stdout",
     "output_type": "stream",
     "text": [
      "File aaaaaopo_s001_t000.edf was passed, passed files: 20, read files: 82\n"
     ]
    },
    {
     "name": "stderr",
     "output_type": "stream",
     "text": [
      " 69%|██████████████████████████████████████████████████████████████████████████████████▉                                     | 271/392 [04:35<02:51,  1.42s/it]"
     ]
    },
    {
     "name": "stdout",
     "output_type": "stream",
     "text": [
      "File aaaaalbt_s002_t000.edf was passed, passed files: 21, read files: 85\n"
     ]
    },
    {
     "name": "stderr",
     "output_type": "stream",
     "text": [
      " 70%|████████████████████████████████████████████████████████████████████████████████████▍                                   | 276/392 [04:41<02:34,  1.33s/it]"
     ]
    },
    {
     "name": "stdout",
     "output_type": "stream",
     "text": [
      "File aaaaanvb_s002_t000.edf was passed, passed files: 22, read files: 87\n",
      "File aaaaanqe_s001_t000.edf was passed, passed files: 23, read files: 87\n"
     ]
    },
    {
     "name": "stderr",
     "output_type": "stream",
     "text": [
      " 73%|███████████████████████████████████████████████████████████████████████████████████████▌                                | 286/392 [04:46<01:19,  1.34it/s]"
     ]
    },
    {
     "name": "stdout",
     "output_type": "stream",
     "text": [
      "File aaaaaoxf_s001_t000.edf was passed, passed files: 24, read files: 89\n",
      "File aaaaanek_s001_t000.edf was passed, passed files: 25, read files: 89\n"
     ]
    },
    {
     "name": "stderr",
     "output_type": "stream",
     "text": [
      " 77%|███████████████████████████████████████████████████████████████████████████████████████████▊                            | 300/392 [05:00<01:29,  1.03it/s]"
     ]
    },
    {
     "name": "stdout",
     "output_type": "stream",
     "text": [
      "File aaaaanop_s001_t000.edf was passed, passed files: 26, read files: 94\n"
     ]
    },
    {
     "name": "stderr",
     "output_type": "stream",
     "text": [
      " 79%|██████████████████████████████████████████████████████████████████████████████████████████████▎                         | 308/392 [05:09<01:29,  1.06s/it]"
     ]
    },
    {
     "name": "stdout",
     "output_type": "stream",
     "text": [
      "File aaaaaonb_s001_t000.edf was passed, passed files: 27, read files: 97\n"
     ]
    },
    {
     "name": "stderr",
     "output_type": "stream",
     "text": [
      " 82%|██████████████████████████████████████████████████████████████████████████████████████████████████▌                     | 322/392 [05:21<01:06,  1.06it/s]"
     ]
    },
    {
     "name": "stdout",
     "output_type": "stream",
     "text": [
      "File aaaaaoav_s002_t000.edf was passed, passed files: 28, read files: 101\n"
     ]
    },
    {
     "name": "stderr",
     "output_type": "stream",
     "text": [
      " 86%|██████████████████████████████████████████████████████████████████████████████████████████████████████▊                 | 336/392 [05:29<00:43,  1.29it/s]"
     ]
    },
    {
     "name": "stdout",
     "output_type": "stream",
     "text": [
      "File aaaaapuu_s001_t000.edf was passed, passed files: 29, read files: 104\n"
     ]
    },
    {
     "name": "stderr",
     "output_type": "stream",
     "text": [
      " 86%|███████████████████████████████████████████████████████████████████████████████████████████████████████▊                | 339/392 [05:32<00:42,  1.24it/s]"
     ]
    },
    {
     "name": "stdout",
     "output_type": "stream",
     "text": [
      "File aaaaapka_s001_t000.edf was passed, passed files: 30, read files: 105\n"
     ]
    },
    {
     "name": "stderr",
     "output_type": "stream",
     "text": [
      "100%|████████████████████████████████████████████████████████████████████████████████████████████████████████████████████████| 392/392 [06:12<00:00,  1.05it/s]\n"
     ]
    },
    {
     "name": "stdout",
     "output_type": "stream",
     "text": [
      "Read files: 120, passed files: 30\n",
      "(539012, 3, 256) (539012,) (39721, 3, 256) (39721,) (39722, 3, 256) (39722,)\n",
      "0 files was removed from Data/TUAB/train/normal/01_tcp_ar/\n",
      "0 files was removed from Data/TUAB/eval/normal/01_tcp_ar/\n"
     ]
    },
    {
     "name": "stderr",
     "output_type": "stream",
     "text": [
      "  0%|▍                                                                                                                       | 16/4647 [00:06<29:15,  2.64it/s]"
     ]
    },
    {
     "name": "stdout",
     "output_type": "stream",
     "text": [
      "File aaaaanle_s001_t000.edf was passed, passed files: 1, read files: 2\n"
     ]
    },
    {
     "name": "stderr",
     "output_type": "stream",
     "text": [
      "  0%|▌                                                                                                                     | 21/4647 [00:14<1:12:32,  1.06it/s]"
     ]
    },
    {
     "name": "stdout",
     "output_type": "stream",
     "text": [
      "File aaaaapik_s001_t001.edf was passed, passed files: 2, read files: 5\n"
     ]
    },
    {
     "name": "stderr",
     "output_type": "stream",
     "text": [
      "  1%|▉                                                                                                                       | 36/4647 [00:19<38:34,  1.99it/s]"
     ]
    },
    {
     "name": "stdout",
     "output_type": "stream",
     "text": [
      "File aaaaanwb_s001_t000.edf was passed, passed files: 3, read files: 7\n"
     ]
    },
    {
     "name": "stderr",
     "output_type": "stream",
     "text": [
      "  1%|█                                                                                                                       | 40/4647 [00:21<41:04,  1.87it/s]"
     ]
    },
    {
     "name": "stdout",
     "output_type": "stream",
     "text": [
      "File aaaaajvi_s004_t000.edf was passed, passed files: 4, read files: 8\n"
     ]
    },
    {
     "name": "stderr",
     "output_type": "stream",
     "text": [
      "  1%|█▎                                                                                                                      | 49/4647 [00:29<54:22,  1.41it/s]"
     ]
    },
    {
     "name": "stdout",
     "output_type": "stream",
     "text": [
      "File aaaaacsu_s004_t000.edf was passed, passed files: 5, read files: 11\n",
      "File aaaaangh_s001_t000.edf was passed, passed files: 6, read files: 11\n"
     ]
    },
    {
     "name": "stderr",
     "output_type": "stream",
     "text": [
      "  1%|█▌                                                                                                                      | 59/4647 [00:31<35:14,  2.17it/s]"
     ]
    },
    {
     "name": "stdout",
     "output_type": "stream",
     "text": [
      "File aaaaaetn_s002_t000.edf was passed, passed files: 7, read files: 12\n"
     ]
    },
    {
     "name": "stderr",
     "output_type": "stream",
     "text": [
      "  1%|█▋                                                                                                                      | 65/4647 [00:34<33:59,  2.25it/s]"
     ]
    },
    {
     "name": "stdout",
     "output_type": "stream",
     "text": [
      "File aaaaaniz_s001_t000.edf was passed, passed files: 8, read files: 13\n"
     ]
    },
    {
     "name": "stderr",
     "output_type": "stream",
     "text": [
      "  2%|██▏                                                                                                                     | 84/4647 [00:39<26:14,  2.90it/s]"
     ]
    },
    {
     "name": "stdout",
     "output_type": "stream",
     "text": [
      "File aaaaaoez_s001_t000.edf was passed, passed files: 9, read files: 15\n",
      "File aaaaaorr_s001_t001.edf was passed, passed files: 10, read files: 15\n"
     ]
    },
    {
     "name": "stderr",
     "output_type": "stream",
     "text": [
      "  2%|██▌                                                                                                                    | 102/4647 [00:46<28:42,  2.64it/s]"
     ]
    },
    {
     "name": "stdout",
     "output_type": "stream",
     "text": [
      "File aaaaanhv_s001_t001.edf was passed, passed files: 11, read files: 18\n"
     ]
    },
    {
     "name": "stderr",
     "output_type": "stream",
     "text": [
      "  2%|██▊                                                                                                                    | 108/4647 [00:48<27:59,  2.70it/s]"
     ]
    },
    {
     "name": "stdout",
     "output_type": "stream",
     "text": [
      "File aaaaapix_s001_t000.edf was passed, passed files: 12, read files: 19\n"
     ]
    },
    {
     "name": "stderr",
     "output_type": "stream",
     "text": [
      "  2%|██▊                                                                                                                    | 110/4647 [00:51<35:29,  2.13it/s]"
     ]
    },
    {
     "name": "stdout",
     "output_type": "stream",
     "text": [
      "File aaaaaopf_s001_t000.edf was passed, passed files: 13, read files: 20\n"
     ]
    },
    {
     "name": "stderr",
     "output_type": "stream",
     "text": [
      "  2%|██▉                                                                                                                    | 116/4647 [00:53<34:41,  2.18it/s]"
     ]
    },
    {
     "name": "stdout",
     "output_type": "stream",
     "text": [
      "File aaaaapch_s001_t001.edf was passed, passed files: 14, read files: 21\n",
      "File aaaaaltg_s002_t000.edf was passed, passed files: 15, read files: 21\n"
     ]
    },
    {
     "name": "stderr",
     "output_type": "stream",
     "text": [
      "  3%|███▍                                                                                                                   | 133/4647 [00:58<25:41,  2.93it/s]"
     ]
    },
    {
     "name": "stdout",
     "output_type": "stream",
     "text": [
      "File aaaaaohq_s001_t001.edf was passed, passed files: 16, read files: 23\n",
      "File aaaaanvs_s001_t000.edf was passed, passed files: 17, read files: 23\n"
     ]
    },
    {
     "name": "stderr",
     "output_type": "stream",
     "text": [
      "  3%|████                                                                                                                   | 157/4647 [01:08<32:07,  2.33it/s]"
     ]
    },
    {
     "name": "stdout",
     "output_type": "stream",
     "text": [
      "File aaaaaowr_s001_t001.edf was passed, passed files: 18, read files: 27\n"
     ]
    },
    {
     "name": "stderr",
     "output_type": "stream",
     "text": [
      "  4%|████▏                                                                                                                  | 163/4647 [01:13<44:24,  1.68it/s]"
     ]
    },
    {
     "name": "stdout",
     "output_type": "stream",
     "text": [
      "File aaaaamws_s001_t000.edf was passed, passed files: 19, read files: 29\n",
      "File aaaaapnk_s001_t000.edf was passed, passed files: 20, read files: 29\n",
      "File aaaaaosn_s001_t000.edf was passed, passed files: 21, read files: 29\n"
     ]
    },
    {
     "name": "stderr",
     "output_type": "stream",
     "text": [
      "  4%|████▍                                                                                                                  | 172/4647 [01:16<34:05,  2.19it/s]"
     ]
    },
    {
     "name": "stdout",
     "output_type": "stream",
     "text": [
      "File aaaaapnd_s001_t001.edf was passed, passed files: 22, read files: 30\n"
     ]
    },
    {
     "name": "stderr",
     "output_type": "stream",
     "text": [
      "  4%|████▋                                                                                                                  | 182/4647 [01:19<27:48,  2.68it/s]"
     ]
    },
    {
     "name": "stdout",
     "output_type": "stream",
     "text": [
      "File aaaaaouv_s001_t000.edf was passed, passed files: 23, read files: 31\n",
      "File aaaaaeoe_s002_t000.edf was passed, passed files: 24, read files: 31\n"
     ]
    },
    {
     "name": "stderr",
     "output_type": "stream",
     "text": [
      "  4%|████▊                                                                                                                  | 187/4647 [01:22<30:42,  2.42it/s]"
     ]
    },
    {
     "name": "stdout",
     "output_type": "stream",
     "text": [
      "File aaaaanbs_s001_t000.edf was passed, passed files: 25, read files: 32\n"
     ]
    },
    {
     "name": "stderr",
     "output_type": "stream",
     "text": [
      "  4%|█████▏                                                                                                                 | 204/4647 [01:34<50:27,  1.47it/s]"
     ]
    },
    {
     "name": "stdout",
     "output_type": "stream",
     "text": [
      "File aaaaaowp_s001_t001.edf was passed, passed files: 26, read files: 37\n"
     ]
    },
    {
     "name": "stderr",
     "output_type": "stream",
     "text": [
      "  5%|█████▋                                                                                                                 | 220/4647 [01:37<26:11,  2.82it/s]"
     ]
    },
    {
     "name": "stdout",
     "output_type": "stream",
     "text": [
      "File aaaaaojz_s001_t000.edf was passed, passed files: 27, read files: 38\n"
     ]
    },
    {
     "name": "stderr",
     "output_type": "stream",
     "text": [
      "  5%|█████▊                                                                                                                 | 225/4647 [01:40<29:31,  2.50it/s]"
     ]
    },
    {
     "name": "stdout",
     "output_type": "stream",
     "text": [
      "File aaaaapbe_s001_t000.edf was passed, passed files: 28, read files: 39\n"
     ]
    },
    {
     "name": "stderr",
     "output_type": "stream",
     "text": [
      "  5%|█████▉                                                                                                                 | 233/4647 [01:45<37:40,  1.95it/s]"
     ]
    },
    {
     "name": "stdout",
     "output_type": "stream",
     "text": [
      "File aaaaamww_s001_t000.edf was passed, passed files: 29, read files: 41\n",
      "File aaaaapvg_s001_t001.edf was passed, passed files: 30, read files: 41\n",
      "File aaaaantg_s001_t000.edf was passed, passed files: 31, read files: 41\n"
     ]
    },
    {
     "name": "stderr",
     "output_type": "stream",
     "text": [
      "  6%|██████▋                                                                                                                | 262/4647 [01:47<15:05,  4.84it/s]"
     ]
    },
    {
     "name": "stdout",
     "output_type": "stream",
     "text": [
      "File aaaaagmh_s002_t000.edf was passed, passed files: 32, read files: 42\n"
     ]
    },
    {
     "name": "stderr",
     "output_type": "stream",
     "text": [
      "  6%|███████▏                                                                                                               | 282/4647 [01:50<12:32,  5.80it/s]"
     ]
    },
    {
     "name": "stdout",
     "output_type": "stream",
     "text": [
      "File aaaaanft_s001_t000.edf was passed, passed files: 33, read files: 43\n"
     ]
    },
    {
     "name": "stderr",
     "output_type": "stream",
     "text": [
      "  6%|███████▎                                                                                                               | 284/4647 [01:52<16:11,  4.49it/s]"
     ]
    },
    {
     "name": "stdout",
     "output_type": "stream",
     "text": [
      "File aaaaapsr_s001_t000.edf was passed, passed files: 34, read files: 44\n",
      "File aaaaapml_s001_t000.edf was passed, passed files: 35, read files: 44\n",
      "File aaaaammq_s002_t000.edf was passed, passed files: 36, read files: 44\n"
     ]
    },
    {
     "name": "stderr",
     "output_type": "stream",
     "text": [
      "  7%|████████                                                                                                               | 315/4647 [02:02<25:43,  2.81it/s]"
     ]
    },
    {
     "name": "stdout",
     "output_type": "stream",
     "text": [
      "File aaaaantl_s001_t001.edf was passed, passed files: 37, read files: 48\n",
      "File aaaaamyl_s001_t000.edf was passed, passed files: 38, read files: 48\n",
      "File aaaaapke_s001_t000.edf was passed, passed files: 39, read files: 48\n"
     ]
    },
    {
     "name": "stderr",
     "output_type": "stream",
     "text": [
      "  7%|████████▊                                                                                                              | 343/4647 [02:17<36:42,  1.95it/s]"
     ]
    },
    {
     "name": "stdout",
     "output_type": "stream",
     "text": [
      "File aaaaabzx_s004_t000.edf was passed, passed files: 40, read files: 54\n",
      "File aaaaangn_s001_t000.edf was passed, passed files: 41, read files: 54\n"
     ]
    },
    {
     "name": "stderr",
     "output_type": "stream",
     "text": [
      "  8%|█████████▎                                                                                                             | 365/4647 [02:29<44:47,  1.59it/s]"
     ]
    },
    {
     "name": "stdout",
     "output_type": "stream",
     "text": [
      "File aaaaanto_s001_t000.edf was passed, passed files: 42, read files: 57\n",
      "File aaaaaosj_s001_t000.edf was passed, passed files: 43, read files: 57\n",
      "File aaaaaoqq_s001_t000.edf was passed, passed files: 44, read files: 57\n",
      "File aaaaanuq_s001_t000.edf was passed, passed files: 45, read files: 57\n"
     ]
    },
    {
     "name": "stderr",
     "output_type": "stream",
     "text": [
      "  8%|█████████▋                                                                                                             | 380/4647 [02:34<32:59,  2.16it/s]"
     ]
    },
    {
     "name": "stdout",
     "output_type": "stream",
     "text": [
      "File aaaaanmw_s007_t000.edf was passed, passed files: 46, read files: 59\n",
      "File aaaaaoaz_s001_t000.edf was passed, passed files: 47, read files: 59\n"
     ]
    },
    {
     "name": "stderr",
     "output_type": "stream",
     "text": [
      "  8%|██████████                                                                                                             | 393/4647 [02:43<49:19,  1.44it/s]"
     ]
    },
    {
     "name": "stdout",
     "output_type": "stream",
     "text": [
      "File aaaaamob_s001_t000.edf was passed, passed files: 48, read files: 63\n"
     ]
    },
    {
     "name": "stderr",
     "output_type": "stream",
     "text": [
      "  9%|██████████▎                                                                                                            | 401/4647 [02:49<52:57,  1.34it/s]"
     ]
    },
    {
     "name": "stdout",
     "output_type": "stream",
     "text": [
      "File aaaaapph_s001_t001.edf was passed, passed files: 49, read files: 65\n",
      "File aaaaaoed_s001_t000.edf was passed, passed files: 50, read files: 65\n"
     ]
    },
    {
     "name": "stderr",
     "output_type": "stream",
     "text": [
      "  9%|███████████▏                                                                                                           | 436/4647 [03:03<43:30,  1.61it/s]"
     ]
    },
    {
     "name": "stdout",
     "output_type": "stream",
     "text": [
      "File aaaaappj_s001_t002.edf was passed, passed files: 51, read files: 68\n"
     ]
    },
    {
     "name": "stderr",
     "output_type": "stream",
     "text": [
      " 10%|███████████▎                                                                                                         | 450/4647 [03:17<1:16:59,  1.10s/it]"
     ]
    },
    {
     "name": "stdout",
     "output_type": "stream",
     "text": [
      "File aaaaanvq_s001_t000.edf was passed, passed files: 52, read files: 73\n",
      "File aaaaanaj_s001_t000.edf was passed, passed files: 53, read files: 73\n"
     ]
    },
    {
     "name": "stderr",
     "output_type": "stream",
     "text": [
      " 10%|███████████▌                                                                                                         | 461/4647 [03:24<1:01:38,  1.13it/s]"
     ]
    },
    {
     "name": "stdout",
     "output_type": "stream",
     "text": [
      "File aaaaaola_s001_t000.edf was passed, passed files: 54, read files: 76\n",
      "File aaaaapnc_s001_t000.edf was passed, passed files: 55, read files: 76\n"
     ]
    },
    {
     "name": "stderr",
     "output_type": "stream",
     "text": [
      " 10%|████████████                                                                                                           | 469/4647 [03:27<40:13,  1.73it/s]"
     ]
    },
    {
     "name": "stdout",
     "output_type": "stream",
     "text": [
      "File aaaaamwf_s002_t000.edf was passed, passed files: 56, read files: 77\n",
      "File aaaaapja_s001_t000.edf was passed, passed files: 57, read files: 77\n"
     ]
    },
    {
     "name": "stderr",
     "output_type": "stream",
     "text": [
      " 10%|████████████▏                                                                                                          | 478/4647 [03:32<44:27,  1.56it/s]"
     ]
    },
    {
     "name": "stdout",
     "output_type": "stream",
     "text": [
      "File aaaaaned_s001_t001.edf was passed, passed files: 58, read files: 79\n",
      "File aaaaanvl_s001_t000.edf was passed, passed files: 59, read files: 79\n"
     ]
    },
    {
     "name": "stderr",
     "output_type": "stream",
     "text": [
      " 11%|████████████▌                                                                                                          | 490/4647 [03:42<57:44,  1.20it/s]"
     ]
    },
    {
     "name": "stdout",
     "output_type": "stream",
     "text": [
      "File aaaaaoqm_s001_t000.edf was passed, passed files: 60, read files: 83\n"
     ]
    },
    {
     "name": "stderr",
     "output_type": "stream",
     "text": [
      " 11%|████████████▍                                                                                                        | 492/4647 [03:45<1:04:06,  1.08it/s]"
     ]
    },
    {
     "name": "stdout",
     "output_type": "stream",
     "text": [
      "File aaaaakzu_s003_t000.edf was passed, passed files: 61, read files: 84\n",
      "File aaaaamxb_s001_t000.edf was passed, passed files: 62, read files: 84\n",
      "File aaaaapem_s001_t000.edf was passed, passed files: 63, read files: 84\n",
      "File aaaaaimz_s003_t000.edf was passed, passed files: 64, read files: 84\n"
     ]
    },
    {
     "name": "stderr",
     "output_type": "stream",
     "text": [
      " 11%|█████████████                                                                                                          | 512/4647 [03:48<23:08,  2.98it/s]"
     ]
    },
    {
     "name": "stdout",
     "output_type": "stream",
     "text": [
      "File aaaaamvq_s001_t000.edf was passed, passed files: 65, read files: 85\n"
     ]
    },
    {
     "name": "stderr",
     "output_type": "stream",
     "text": [
      " 11%|█████████████▎                                                                                                         | 522/4647 [03:55<36:57,  1.86it/s]"
     ]
    },
    {
     "name": "stdout",
     "output_type": "stream",
     "text": [
      "File aaaaapdn_s001_t000.edf was passed, passed files: 66, read files: 88\n"
     ]
    },
    {
     "name": "stderr",
     "output_type": "stream",
     "text": [
      " 11%|█████████████▋                                                                                                         | 534/4647 [04:01<40:48,  1.68it/s]"
     ]
    },
    {
     "name": "stdout",
     "output_type": "stream",
     "text": [
      "File aaaaamnh_s001_t000.edf was passed, passed files: 67, read files: 91\n",
      "File aaaaapbf_s001_t000.edf was passed, passed files: 68, read files: 91\n",
      "File aaaaanrg_s001_t000.edf was passed, passed files: 69, read files: 91\n"
     ]
    },
    {
     "name": "stderr",
     "output_type": "stream",
     "text": [
      " 12%|██████████████▏                                                                                                        | 554/4647 [04:04<18:15,  3.74it/s]"
     ]
    },
    {
     "name": "stdout",
     "output_type": "stream",
     "text": [
      "File aaaaamxa_s001_t000.edf was passed, passed files: 70, read files: 92\n"
     ]
    },
    {
     "name": "stderr",
     "output_type": "stream",
     "text": [
      " 12%|██████████████▎                                                                                                        | 559/4647 [04:07<22:20,  3.05it/s]"
     ]
    },
    {
     "name": "stdout",
     "output_type": "stream",
     "text": [
      "File aaaaaoph_s001_t000.edf was passed, passed files: 71, read files: 93\n"
     ]
    },
    {
     "name": "stderr",
     "output_type": "stream",
     "text": [
      " 12%|██████████████▌                                                                                                        | 567/4647 [04:09<22:21,  3.04it/s]"
     ]
    },
    {
     "name": "stdout",
     "output_type": "stream",
     "text": [
      "File aaaaapvi_s001_t001.edf was passed, passed files: 72, read files: 94\n"
     ]
    },
    {
     "name": "stderr",
     "output_type": "stream",
     "text": [
      " 12%|██████████████▋                                                                                                        | 572/4647 [04:12<25:18,  2.68it/s]"
     ]
    },
    {
     "name": "stdout",
     "output_type": "stream",
     "text": [
      "File aaaaanch_s001_t000.edf was passed, passed files: 73, read files: 95\n"
     ]
    },
    {
     "name": "stderr",
     "output_type": "stream",
     "text": [
      " 13%|██████████████▉                                                                                                        | 585/4647 [04:17<28:04,  2.41it/s]"
     ]
    },
    {
     "name": "stdout",
     "output_type": "stream",
     "text": [
      "File aaaaamqb_s001_t000.edf was passed, passed files: 74, read files: 97\n",
      "File aaaaakid_s002_t000.edf was passed, passed files: 75, read files: 97\n"
     ]
    },
    {
     "name": "stderr",
     "output_type": "stream",
     "text": [
      " 13%|███████████████▏                                                                                                       | 591/4647 [04:22<38:11,  1.77it/s]"
     ]
    },
    {
     "name": "stdout",
     "output_type": "stream",
     "text": [
      "File aaaaaedn_s004_t000.edf was passed, passed files: 76, read files: 99\n",
      "File aaaaaprq_s001_t000.edf was passed, passed files: 77, read files: 99\n"
     ]
    },
    {
     "name": "stderr",
     "output_type": "stream",
     "text": [
      " 13%|███████████████▎                                                                                                       | 599/4647 [04:25<30:45,  2.19it/s]"
     ]
    },
    {
     "name": "stdout",
     "output_type": "stream",
     "text": [
      "File aaaaadna_s002_t000.edf was passed, passed files: 78, read files: 100\n"
     ]
    },
    {
     "name": "stderr",
     "output_type": "stream",
     "text": [
      " 13%|███████████████▋                                                                                                       | 613/4647 [04:27<20:50,  3.23it/s]"
     ]
    },
    {
     "name": "stdout",
     "output_type": "stream",
     "text": [
      "File aaaaaniv_s001_t000.edf was passed, passed files: 79, read files: 101\n",
      "File aaaaansm_s001_t000.edf was passed, passed files: 80, read files: 101\n"
     ]
    },
    {
     "name": "stderr",
     "output_type": "stream",
     "text": [
      " 14%|████████████████▏                                                                                                      | 633/4647 [04:30<14:26,  4.63it/s]"
     ]
    },
    {
     "name": "stdout",
     "output_type": "stream",
     "text": [
      "File aaaaanza_s001_t000.edf was passed, passed files: 81, read files: 102\n"
     ]
    },
    {
     "name": "stderr",
     "output_type": "stream",
     "text": [
      " 14%|████████████████▍                                                                                                      | 643/4647 [04:35<21:29,  3.10it/s]"
     ]
    },
    {
     "name": "stdout",
     "output_type": "stream",
     "text": [
      "File aaaaabyu_s003_t000.edf was passed, passed files: 82, read files: 104\n"
     ]
    },
    {
     "name": "stderr",
     "output_type": "stream",
     "text": [
      " 14%|█████████████████                                                                                                      | 664/4647 [04:48<44:37,  1.49it/s]"
     ]
    },
    {
     "name": "stdout",
     "output_type": "stream",
     "text": [
      "File aaaaappc_s001_t001.edf was passed, passed files: 83, read files: 110\n",
      "File aaaaaouh_s001_t000.edf was passed, passed files: 84, read files: 110\n"
     ]
    },
    {
     "name": "stderr",
     "output_type": "stream",
     "text": [
      " 14%|█████████████████▏                                                                                                     | 671/4647 [04:51<32:29,  2.04it/s]"
     ]
    },
    {
     "name": "stdout",
     "output_type": "stream",
     "text": [
      "File aaaaaksc_s004_t000.edf was passed, passed files: 85, read files: 111\n",
      "File aaaaaood_s001_t002.edf was passed, passed files: 86, read files: 111\n",
      "File aaaaalby_s003_t000.edf was passed, passed files: 87, read files: 111\n"
     ]
    },
    {
     "name": "stderr",
     "output_type": "stream",
     "text": [
      " 15%|█████████████████▎                                                                                                   | 688/4647 [05:05<1:05:45,  1.00it/s]"
     ]
    },
    {
     "name": "stdout",
     "output_type": "stream",
     "text": [
      "File aaaaamtl_s002_t000.edf was passed, passed files: 88, read files: 116\n"
     ]
    },
    {
     "name": "stderr",
     "output_type": "stream",
     "text": [
      " 15%|█████████████████▊                                                                                                     | 697/4647 [05:07<37:37,  1.75it/s]"
     ]
    },
    {
     "name": "stdout",
     "output_type": "stream",
     "text": [
      "File aaaaaonk_s001_t000.edf was passed, passed files: 89, read files: 117\n"
     ]
    },
    {
     "name": "stderr",
     "output_type": "stream",
     "text": [
      " 15%|██████████████████                                                                                                     | 705/4647 [05:09<28:41,  2.29it/s]"
     ]
    },
    {
     "name": "stdout",
     "output_type": "stream",
     "text": [
      "File aaaaamwr_s001_t000.edf was passed, passed files: 90, read files: 118\n"
     ]
    },
    {
     "name": "stderr",
     "output_type": "stream",
     "text": [
      " 15%|██████████████████▎                                                                                                    | 715/4647 [05:12<23:14,  2.82it/s]"
     ]
    },
    {
     "name": "stdout",
     "output_type": "stream",
     "text": [
      "File aaaaapfz_s001_t000.edf was passed, passed files: 91, read files: 119\n"
     ]
    },
    {
     "name": "stderr",
     "output_type": "stream",
     "text": [
      " 16%|██████████████████▎                                                                                                  | 725/4647 [05:31<1:03:49,  1.02it/s]"
     ]
    },
    {
     "name": "stdout",
     "output_type": "stream",
     "text": [
      "File aaaaaohk_s001_t001.edf was passed, passed files: 92, read files: 123\n",
      "File aaaaaoru_s001_t001.edf was passed, passed files: 93, read files: 123\n",
      "File aaaaalrt_s002_t000.edf was passed, passed files: 94, read files: 123\n"
     ]
    },
    {
     "name": "stderr",
     "output_type": "stream",
     "text": [
      " 16%|███████████████████▌                                                                                                   | 762/4647 [05:41<30:38,  2.11it/s]"
     ]
    },
    {
     "name": "stdout",
     "output_type": "stream",
     "text": [
      "File aaaaanvd_s001_t000.edf was passed, passed files: 95, read files: 127\n"
     ]
    },
    {
     "name": "stderr",
     "output_type": "stream",
     "text": [
      " 17%|███████████████████▋                                                                                                   | 770/4647 [05:43<26:31,  2.44it/s]"
     ]
    },
    {
     "name": "stdout",
     "output_type": "stream",
     "text": [
      "File aaaaapgp_s001_t000.edf was passed, passed files: 96, read files: 128\n"
     ]
    },
    {
     "name": "stderr",
     "output_type": "stream",
     "text": [
      " 17%|███████████████████▉                                                                                                   | 777/4647 [05:48<33:57,  1.90it/s]"
     ]
    },
    {
     "name": "stdout",
     "output_type": "stream",
     "text": [
      "File aaaaapkw_s001_t002.edf was passed, passed files: 97, read files: 130\n"
     ]
    },
    {
     "name": "stderr",
     "output_type": "stream",
     "text": [
      " 17%|████████████████████                                                                                                 | 795/4647 [06:09<1:08:54,  1.07s/it]"
     ]
    },
    {
     "name": "stdout",
     "output_type": "stream",
     "text": [
      "File aaaaaoag_s001_t001.edf was passed, passed files: 98, read files: 135\n"
     ]
    },
    {
     "name": "stderr",
     "output_type": "stream",
     "text": [
      " 17%|████████████████████▌                                                                                                  | 802/4647 [06:12<48:18,  1.33it/s]"
     ]
    },
    {
     "name": "stdout",
     "output_type": "stream",
     "text": [
      "File aaaaaoxj_s001_t000.edf was passed, passed files: 99, read files: 136\n"
     ]
    },
    {
     "name": "stderr",
     "output_type": "stream",
     "text": [
      " 18%|████████████████████▉                                                                                                  | 819/4647 [06:17<28:37,  2.23it/s]"
     ]
    },
    {
     "name": "stdout",
     "output_type": "stream",
     "text": [
      "File aaaaapgd_s001_t000.edf was passed, passed files: 100, read files: 138\n",
      "File aaaaapcc_s001_t001.edf was passed, passed files: 101, read files: 138\n"
     ]
    },
    {
     "name": "stderr",
     "output_type": "stream",
     "text": [
      " 18%|█████████████████████▎                                                                                                 | 833/4647 [06:22<27:35,  2.30it/s]"
     ]
    },
    {
     "name": "stdout",
     "output_type": "stream",
     "text": [
      "File aaaaaowe_s001_t001.edf was passed, passed files: 102, read files: 140\n"
     ]
    },
    {
     "name": "stderr",
     "output_type": "stream",
     "text": [
      " 18%|█████████████████████▌                                                                                                 | 842/4647 [06:26<28:49,  2.20it/s]"
     ]
    },
    {
     "name": "stdout",
     "output_type": "stream",
     "text": [
      "File aaaaapez_s001_t000.edf was passed, passed files: 103, read files: 142\n",
      "File aaaaamae_s003_t000.edf was passed, passed files: 104, read files: 142\n",
      "File aaaaancf_s001_t000.edf was passed, passed files: 105, read files: 142\n",
      "File aaaaaodr_s001_t000.edf was passed, passed files: 106, read files: 142\n"
     ]
    },
    {
     "name": "stderr",
     "output_type": "stream",
     "text": [
      " 19%|██████████████████████▍                                                                                                | 876/4647 [06:31<14:05,  4.46it/s]"
     ]
    },
    {
     "name": "stdout",
     "output_type": "stream",
     "text": [
      "File aaaaapoz_s001_t002.edf was passed, passed files: 107, read files: 144\n"
     ]
    },
    {
     "name": "stderr",
     "output_type": "stream",
     "text": [
      " 19%|██████████████████████▋                                                                                                | 884/4647 [06:36<21:57,  2.86it/s]"
     ]
    },
    {
     "name": "stdout",
     "output_type": "stream",
     "text": [
      "File aaaaaowu_s001_t000.edf was passed, passed files: 108, read files: 146\n"
     ]
    },
    {
     "name": "stderr",
     "output_type": "stream",
     "text": [
      " 19%|███████████████████████                                                                                                | 899/4647 [06:38<16:21,  3.82it/s]"
     ]
    },
    {
     "name": "stdout",
     "output_type": "stream",
     "text": [
      "File aaaaanov_s001_t000.edf was passed, passed files: 109, read files: 147\n"
     ]
    },
    {
     "name": "stderr",
     "output_type": "stream",
     "text": [
      " 20%|███████████████████████▎                                                                                               | 911/4647 [06:41<15:01,  4.14it/s]"
     ]
    },
    {
     "name": "stdout",
     "output_type": "stream",
     "text": [
      "File aaaaamxx_s001_t000.edf was passed, passed files: 110, read files: 148\n"
     ]
    },
    {
     "name": "stderr",
     "output_type": "stream",
     "text": [
      " 20%|███████████████████████▊                                                                                               | 931/4647 [06:50<28:32,  2.17it/s]"
     ]
    },
    {
     "name": "stdout",
     "output_type": "stream",
     "text": [
      "File aaaaabcl_s002_t000.edf was passed, passed files: 111, read files: 152\n"
     ]
    },
    {
     "name": "stderr",
     "output_type": "stream",
     "text": [
      " 20%|████████████████████████▍                                                                                              | 952/4647 [07:05<48:21,  1.27it/s]"
     ]
    },
    {
     "name": "stdout",
     "output_type": "stream",
     "text": [
      "File aaaaapog_s001_t000.edf was passed, passed files: 112, read files: 158\n"
     ]
    },
    {
     "name": "stderr",
     "output_type": "stream",
     "text": [
      " 21%|████████████████████████▌                                                                                              | 960/4647 [07:07<31:59,  1.92it/s]"
     ]
    },
    {
     "name": "stdout",
     "output_type": "stream",
     "text": [
      "File aaaaapcv_s001_t001.edf was passed, passed files: 113, read files: 159\n"
     ]
    },
    {
     "name": "stderr",
     "output_type": "stream",
     "text": [
      " 21%|█████████████████████████▌                                                                                             | 997/4647 [07:23<39:21,  1.55it/s]"
     ]
    },
    {
     "name": "stdout",
     "output_type": "stream",
     "text": [
      "File aaaaaodh_s001_t000.edf was passed, passed files: 114, read files: 166\n"
     ]
    },
    {
     "name": "stderr",
     "output_type": "stream",
     "text": [
      " 22%|█████████████████████████▍                                                                                            | 1004/4647 [07:26<31:34,  1.92it/s]"
     ]
    },
    {
     "name": "stdout",
     "output_type": "stream",
     "text": [
      "File aaaaaqax_s001_t000.edf was passed, passed files: 115, read files: 167\n"
     ]
    },
    {
     "name": "stderr",
     "output_type": "stream",
     "text": [
      " 22%|██████████████████████████▎                                                                                           | 1034/4647 [07:38<21:00,  2.87it/s]"
     ]
    },
    {
     "name": "stdout",
     "output_type": "stream",
     "text": [
      "File aaaaaowm_s001_t000.edf was passed, passed files: 116, read files: 172\n"
     ]
    },
    {
     "name": "stderr",
     "output_type": "stream",
     "text": [
      " 22%|██████████████████████████▎                                                                                           | 1037/4647 [07:40<22:54,  2.63it/s]"
     ]
    },
    {
     "name": "stdout",
     "output_type": "stream",
     "text": [
      "File aaaaanet_s001_t000.edf was passed, passed files: 117, read files: 173\n"
     ]
    },
    {
     "name": "stderr",
     "output_type": "stream",
     "text": [
      " 23%|██████████████████████████▊                                                                                           | 1056/4647 [07:56<45:20,  1.32it/s]"
     ]
    },
    {
     "name": "stdout",
     "output_type": "stream",
     "text": [
      "File aaaaamqr_s001_t000.edf was passed, passed files: 118, read files: 180\n",
      "File aaaaanee_s001_t000.edf was passed, passed files: 119, read files: 180\n",
      "File aaaaankx_s001_t000.edf was passed, passed files: 120, read files: 180\n"
     ]
    },
    {
     "name": "stderr",
     "output_type": "stream",
     "text": [
      " 23%|███████████████████████████▏                                                                                          | 1071/4647 [07:59<21:27,  2.78it/s]"
     ]
    },
    {
     "name": "stdout",
     "output_type": "stream",
     "text": [
      "File aaaaanpg_s001_t000.edf was passed, passed files: 121, read files: 181\n"
     ]
    },
    {
     "name": "stderr",
     "output_type": "stream",
     "text": [
      " 24%|███████████████████████████▉                                                                                          | 1099/4647 [08:14<39:41,  1.49it/s]"
     ]
    },
    {
     "name": "stdout",
     "output_type": "stream",
     "text": [
      "File aaaaansk_s001_t000.edf was passed, passed files: 122, read files: 188\n",
      "File aaaaakth_s003_t000.edf was passed, passed files: 123, read files: 188\n"
     ]
    },
    {
     "name": "stderr",
     "output_type": "stream",
     "text": [
      " 24%|████████████████████████████▏                                                                                         | 1108/4647 [08:17<27:50,  2.12it/s]"
     ]
    },
    {
     "name": "stdout",
     "output_type": "stream",
     "text": [
      "File aaaaapbb_s001_t000.edf was passed, passed files: 124, read files: 189\n"
     ]
    },
    {
     "name": "stderr",
     "output_type": "stream",
     "text": [
      " 24%|████████████████████████████▍                                                                                         | 1120/4647 [08:29<47:18,  1.24it/s]"
     ]
    },
    {
     "name": "stdout",
     "output_type": "stream",
     "text": [
      "File aaaaalvl_s002_t000.edf was passed, passed files: 125, read files: 192\n"
     ]
    },
    {
     "name": "stderr",
     "output_type": "stream",
     "text": [
      " 24%|████████████████████████████▋                                                                                         | 1132/4647 [08:34<33:56,  1.73it/s]"
     ]
    },
    {
     "name": "stdout",
     "output_type": "stream",
     "text": [
      "File aaaaaoid_s002_t000.edf was passed, passed files: 126, read files: 194\n",
      "File aaaaanrv_s001_t000.edf was passed, passed files: 127, read files: 194\n"
     ]
    },
    {
     "name": "stderr",
     "output_type": "stream",
     "text": [
      " 25%|█████████████████████████████                                                                                         | 1143/4647 [08:39<30:17,  1.93it/s]"
     ]
    },
    {
     "name": "stdout",
     "output_type": "stream",
     "text": [
      "File aaaaapie_s001_t000.edf was passed, passed files: 128, read files: 196\n"
     ]
    },
    {
     "name": "stderr",
     "output_type": "stream",
     "text": [
      " 25%|█████████████████████████████▍                                                                                        | 1157/4647 [08:46<29:33,  1.97it/s]"
     ]
    },
    {
     "name": "stdout",
     "output_type": "stream",
     "text": [
      "File aaaaaosb_s002_t001.edf was passed, passed files: 129, read files: 199\n"
     ]
    },
    {
     "name": "stderr",
     "output_type": "stream",
     "text": [
      " 25%|█████████████████████████████▊                                                                                        | 1174/4647 [08:58<42:29,  1.36it/s]"
     ]
    },
    {
     "name": "stdout",
     "output_type": "stream",
     "text": [
      "File aaaaamoc_s002_t000.edf was passed, passed files: 130, read files: 202\n"
     ]
    },
    {
     "name": "stderr",
     "output_type": "stream",
     "text": [
      " 25%|█████████████████████████████▉                                                                                        | 1181/4647 [09:03<42:46,  1.35it/s]"
     ]
    },
    {
     "name": "stdout",
     "output_type": "stream",
     "text": [
      "File aaaaanfd_s001_t000.edf was passed, passed files: 131, read files: 203\n"
     ]
    },
    {
     "name": "stderr",
     "output_type": "stream",
     "text": [
      " 26%|██████████████████████████████▊                                                                                       | 1212/4647 [09:29<36:27,  1.57it/s]"
     ]
    },
    {
     "name": "stdout",
     "output_type": "stream",
     "text": [
      "File aaaaanif_s001_t000.edf was passed, passed files: 132, read files: 212\n"
     ]
    },
    {
     "name": "stderr",
     "output_type": "stream",
     "text": [
      " 26%|███████████████████████████████                                                                                       | 1224/4647 [09:32<24:00,  2.38it/s]"
     ]
    },
    {
     "name": "stdout",
     "output_type": "stream",
     "text": [
      "File aaaaaoym_s001_t000.edf was passed, passed files: 133, read files: 213\n"
     ]
    },
    {
     "name": "stderr",
     "output_type": "stream",
     "text": [
      " 26%|███████████████████████████████▏                                                                                      | 1229/4647 [09:35<25:25,  2.24it/s]"
     ]
    },
    {
     "name": "stdout",
     "output_type": "stream",
     "text": [
      "File aaaaaocu_s001_t000.edf was passed, passed files: 134, read files: 214\n"
     ]
    },
    {
     "name": "stderr",
     "output_type": "stream",
     "text": [
      " 27%|███████████████████████████████▍                                                                                      | 1237/4647 [09:37<22:32,  2.52it/s]"
     ]
    },
    {
     "name": "stdout",
     "output_type": "stream",
     "text": [
      "File aaaaankh_s002_t000.edf was passed, passed files: 135, read files: 215\n",
      "File aaaaaoiz_s001_t000.edf was passed, passed files: 136, read files: 215\n"
     ]
    },
    {
     "name": "stderr",
     "output_type": "stream",
     "text": [
      " 27%|███████████████████████████████▊                                                                                      | 1254/4647 [09:42<20:46,  2.72it/s]"
     ]
    },
    {
     "name": "stdout",
     "output_type": "stream",
     "text": [
      "File aaaaapos_s001_t000.edf was passed, passed files: 137, read files: 217\n"
     ]
    },
    {
     "name": "stderr",
     "output_type": "stream",
     "text": [
      " 27%|████████████████████████████████▏                                                                                     | 1266/4647 [09:47<22:18,  2.53it/s]"
     ]
    },
    {
     "name": "stdout",
     "output_type": "stream",
     "text": [
      "File aaaaaiuk_s002_t000.edf was passed, passed files: 138, read files: 219\n",
      "File aaaaaomg_s001_t000.edf was passed, passed files: 139, read files: 219\n"
     ]
    },
    {
     "name": "stderr",
     "output_type": "stream",
     "text": [
      " 28%|████████████████████████████████▌                                                                                     | 1284/4647 [09:59<39:53,  1.40it/s]"
     ]
    },
    {
     "name": "stdout",
     "output_type": "stream",
     "text": [
      "File aaaaaixg_s002_t000.edf was passed, passed files: 140, read files: 224\n",
      "File aaaaaixl_s005_t000.edf was passed, passed files: 141, read files: 224\n"
     ]
    },
    {
     "name": "stderr",
     "output_type": "stream",
     "text": [
      " 28%|████████████████████████████████▉                                                                                     | 1296/4647 [10:02<23:45,  2.35it/s]"
     ]
    },
    {
     "name": "stdout",
     "output_type": "stream",
     "text": [
      "File aaaaaojy_s001_t000.edf was passed, passed files: 142, read files: 225\n"
     ]
    },
    {
     "name": "stderr",
     "output_type": "stream",
     "text": [
      " 28%|█████████████████████████████████                                                                                     | 1300/4647 [10:04<23:47,  2.35it/s]"
     ]
    },
    {
     "name": "stdout",
     "output_type": "stream",
     "text": [
      "File aaaaanvx_s001_t000.edf was passed, passed files: 143, read files: 226\n"
     ]
    },
    {
     "name": "stderr",
     "output_type": "stream",
     "text": [
      " 28%|█████████████████████████████████▌                                                                                    | 1323/4647 [10:16<28:59,  1.91it/s]"
     ]
    },
    {
     "name": "stdout",
     "output_type": "stream",
     "text": [
      "File aaaaamnj_s003_t000.edf was passed, passed files: 144, read files: 231\n",
      "File aaaaapky_s001_t000.edf was passed, passed files: 145, read files: 231\n"
     ]
    },
    {
     "name": "stderr",
     "output_type": "stream",
     "text": [
      " 29%|██████████████████████████████████                                                                                    | 1340/4647 [10:23<23:21,  2.36it/s]"
     ]
    },
    {
     "name": "stdout",
     "output_type": "stream",
     "text": [
      "File aaaaamnx_s001_t000.edf was passed, passed files: 146, read files: 234\n"
     ]
    },
    {
     "name": "stderr",
     "output_type": "stream",
     "text": [
      " 29%|██████████████████████████████████▌                                                                                   | 1361/4647 [10:30<24:26,  2.24it/s]"
     ]
    },
    {
     "name": "stdout",
     "output_type": "stream",
     "text": [
      "File aaaaapfq_s002_t000.edf was passed, passed files: 147, read files: 237\n",
      "File aaaaanep_s004_t000.edf was passed, passed files: 148, read files: 237\n"
     ]
    },
    {
     "name": "stderr",
     "output_type": "stream",
     "text": [
      " 30%|██████████████████████████████████▊                                                                                   | 1373/4647 [10:33<18:16,  2.99it/s]"
     ]
    },
    {
     "name": "stdout",
     "output_type": "stream",
     "text": [
      "File aaaaalad_s002_t000.edf was passed, passed files: 149, read files: 238\n"
     ]
    },
    {
     "name": "stderr",
     "output_type": "stream",
     "text": [
      " 30%|███████████████████████████████████▏                                                                                  | 1384/4647 [10:35<15:07,  3.60it/s]"
     ]
    },
    {
     "name": "stdout",
     "output_type": "stream",
     "text": [
      "File aaaaamvf_s001_t000.edf was passed, passed files: 150, read files: 239\n",
      "File aaaaancz_s001_t000.edf was passed, passed files: 151, read files: 239\n"
     ]
    },
    {
     "name": "stderr",
     "output_type": "stream",
     "text": [
      " 30%|███████████████████████████████████▎                                                                                  | 1391/4647 [10:37<16:25,  3.30it/s]"
     ]
    },
    {
     "name": "stdout",
     "output_type": "stream",
     "text": [
      "File aaaaansh_s001_t000.edf was passed, passed files: 152, read files: 240\n"
     ]
    },
    {
     "name": "stderr",
     "output_type": "stream",
     "text": [
      " 31%|████████████████████████████████████                                                                                  | 1418/4647 [10:54<35:35,  1.51it/s]"
     ]
    },
    {
     "name": "stdout",
     "output_type": "stream",
     "text": [
      "File aaaaancj_s001_t000.edf was passed, passed files: 153, read files: 247\n"
     ]
    },
    {
     "name": "stderr",
     "output_type": "stream",
     "text": [
      " 31%|████████████████████████████████████▌                                                                                 | 1439/4647 [10:56<14:53,  3.59it/s]"
     ]
    },
    {
     "name": "stdout",
     "output_type": "stream",
     "text": [
      "File aaaaanzp_s001_t000.edf was passed, passed files: 154, read files: 248\n",
      "File aaaaaoxb_s001_t000.edf was passed, passed files: 155, read files: 248\n",
      "File aaaaapip_s001_t000.edf was passed, passed files: 156, read files: 248\n"
     ]
    },
    {
     "name": "stderr",
     "output_type": "stream",
     "text": [
      " 31%|████████████████████████████████████▉                                                                                 | 1455/4647 [11:01<15:25,  3.45it/s]"
     ]
    },
    {
     "name": "stdout",
     "output_type": "stream",
     "text": [
      "File aaaaanse_s001_t000.edf was passed, passed files: 157, read files: 250\n"
     ]
    },
    {
     "name": "stderr",
     "output_type": "stream",
     "text": [
      " 32%|█████████████████████████████████████▏                                                                                | 1465/4647 [11:10<36:09,  1.47it/s]"
     ]
    },
    {
     "name": "stdout",
     "output_type": "stream",
     "text": [
      "File aaaaamhh_s002_t000.edf was passed, passed files: 158, read files: 254\n"
     ]
    },
    {
     "name": "stderr",
     "output_type": "stream",
     "text": [
      " 32%|█████████████████████████████████████▎                                                                                | 1470/4647 [11:13<32:21,  1.64it/s]"
     ]
    },
    {
     "name": "stdout",
     "output_type": "stream",
     "text": [
      "File aaaaappg_s001_t002.edf was passed, passed files: 159, read files: 255\n",
      "File aaaaaizb_s003_t000.edf was passed, passed files: 160, read files: 255\n"
     ]
    },
    {
     "name": "stderr",
     "output_type": "stream",
     "text": [
      " 32%|█████████████████████████████████████▌                                                                                | 1477/4647 [11:15<26:34,  1.99it/s]"
     ]
    },
    {
     "name": "stdout",
     "output_type": "stream",
     "text": [
      "File aaaaaphv_s001_t000.edf was passed, passed files: 161, read files: 256\n"
     ]
    },
    {
     "name": "stderr",
     "output_type": "stream",
     "text": [
      " 32%|█████████████████████████████████████▋                                                                                | 1482/4647 [11:20<34:09,  1.54it/s]"
     ]
    },
    {
     "name": "stdout",
     "output_type": "stream",
     "text": [
      "File aaaaanay_s002_t000.edf was passed, passed files: 162, read files: 257\n"
     ]
    },
    {
     "name": "stderr",
     "output_type": "stream",
     "text": [
      " 32%|██████████████████████████████████████                                                                                | 1497/4647 [11:27<26:18,  2.00it/s]"
     ]
    },
    {
     "name": "stdout",
     "output_type": "stream",
     "text": [
      "File aaaaapmh_s001_t001.edf was passed, passed files: 163, read files: 259\n"
     ]
    },
    {
     "name": "stderr",
     "output_type": "stream",
     "text": [
      " 33%|██████████████████████████████████████▎                                                                               | 1511/4647 [11:35<27:01,  1.93it/s]"
     ]
    },
    {
     "name": "stdout",
     "output_type": "stream",
     "text": [
      "File aaaaaojl_s002_t000.edf was passed, passed files: 164, read files: 262\n"
     ]
    },
    {
     "name": "stderr",
     "output_type": "stream",
     "text": [
      " 33%|██████████████████████████████████████▌                                                                               | 1519/4647 [11:40<29:44,  1.75it/s]"
     ]
    },
    {
     "name": "stdout",
     "output_type": "stream",
     "text": [
      "File aaaaapfm_s001_t000.edf was passed, passed files: 165, read files: 264\n",
      "File aaaaaovj_s001_t000.edf was passed, passed files: 166, read files: 264\n"
     ]
    },
    {
     "name": "stderr",
     "output_type": "stream",
     "text": [
      " 33%|██████████████████████████████████████▋                                                                               | 1523/4647 [11:42<29:56,  1.74it/s]"
     ]
    },
    {
     "name": "stdout",
     "output_type": "stream",
     "text": [
      "File aaaaapou_s001_t000.edf was passed, passed files: 167, read files: 265\n",
      "File aaaaantk_s001_t000.edf was passed, passed files: 168, read files: 265\n",
      "File aaaaamyh_s001_t002.edf was passed, passed files: 169, read files: 265\n"
     ]
    },
    {
     "name": "stderr",
     "output_type": "stream",
     "text": [
      " 33%|██████████████████████████████████████▉                                                                               | 1531/4647 [11:45<24:06,  2.15it/s]"
     ]
    },
    {
     "name": "stdout",
     "output_type": "stream",
     "text": [
      "File aaaaapfu_s001_t000.edf was passed, passed files: 170, read files: 266\n"
     ]
    },
    {
     "name": "stderr",
     "output_type": "stream",
     "text": [
      " 33%|███████████████████████████████████████                                                                               | 1538/4647 [11:51<30:21,  1.71it/s]"
     ]
    },
    {
     "name": "stdout",
     "output_type": "stream",
     "text": [
      "File aaaaandp_s001_t000.edf was passed, passed files: 171, read files: 267\n"
     ]
    },
    {
     "name": "stderr",
     "output_type": "stream",
     "text": [
      " 34%|███████████████████████████████████████▊                                                                              | 1566/4647 [12:06<33:07,  1.55it/s]"
     ]
    },
    {
     "name": "stdout",
     "output_type": "stream",
     "text": [
      "File aaaaanon_s001_t000.edf was passed, passed files: 172, read files: 271\n"
     ]
    },
    {
     "name": "stderr",
     "output_type": "stream",
     "text": [
      " 34%|███████████████████████████████████████▊                                                                              | 1569/4647 [12:08<34:23,  1.49it/s]"
     ]
    },
    {
     "name": "stdout",
     "output_type": "stream",
     "text": [
      "File aaaaadfx_s004_t000.edf was passed, passed files: 173, read files: 272\n"
     ]
    },
    {
     "name": "stderr",
     "output_type": "stream",
     "text": [
      " 34%|████████████████████████████████████████▏                                                                             | 1581/4647 [12:13<24:59,  2.04it/s]"
     ]
    },
    {
     "name": "stdout",
     "output_type": "stream",
     "text": [
      "File aaaaamxw_s001_t000.edf was passed, passed files: 174, read files: 274\n"
     ]
    },
    {
     "name": "stderr",
     "output_type": "stream",
     "text": [
      " 34%|████████████████████████████████████████▌                                                                             | 1598/4647 [12:28<34:44,  1.46it/s]"
     ]
    },
    {
     "name": "stdout",
     "output_type": "stream",
     "text": [
      "File aaaaamsu_s001_t000.edf was passed, passed files: 175, read files: 280\n"
     ]
    },
    {
     "name": "stderr",
     "output_type": "stream",
     "text": [
      " 34%|████████████████████████████████████████▋                                                                             | 1602/4647 [12:30<33:33,  1.51it/s]"
     ]
    },
    {
     "name": "stdout",
     "output_type": "stream",
     "text": [
      "File aaaaanaf_s001_t000.edf was passed, passed files: 176, read files: 281\n",
      "File aaaaaoen_s003_t000.edf was passed, passed files: 177, read files: 281\n",
      "File aaaaaoep_s001_t000.edf was passed, passed files: 178, read files: 281\n"
     ]
    },
    {
     "name": "stderr",
     "output_type": "stream",
     "text": [
      " 35%|█████████████████████████████████████████▏                                                                            | 1620/4647 [12:35<21:43,  2.32it/s]"
     ]
    },
    {
     "name": "stdout",
     "output_type": "stream",
     "text": [
      "File aaaaannf_s001_t001.edf was passed, passed files: 179, read files: 283\n"
     ]
    },
    {
     "name": "stderr",
     "output_type": "stream",
     "text": [
      " 35%|█████████████████████████████████████████▊                                                                            | 1645/4647 [12:49<30:34,  1.64it/s]"
     ]
    },
    {
     "name": "stdout",
     "output_type": "stream",
     "text": [
      "File aaaaapkq_s001_t000.edf was passed, passed files: 180, read files: 288\n"
     ]
    },
    {
     "name": "stderr",
     "output_type": "stream",
     "text": [
      " 35%|█████████████████████████████████████████▊                                                                            | 1649/4647 [12:51<31:11,  1.60it/s]"
     ]
    },
    {
     "name": "stdout",
     "output_type": "stream",
     "text": [
      "File aaaaanmv_s001_t000.edf was passed, passed files: 181, read files: 289\n"
     ]
    },
    {
     "name": "stderr",
     "output_type": "stream",
     "text": [
      " 36%|█████████████████████████████████████████▉                                                                            | 1652/4647 [12:53<31:42,  1.57it/s]"
     ]
    },
    {
     "name": "stdout",
     "output_type": "stream",
     "text": [
      "File aaaaapms_s001_t001.edf was passed, passed files: 182, read files: 290\n",
      "File aaaaapft_s001_t000.edf was passed, passed files: 183, read files: 290\n",
      "File aaaaanrw_s001_t000.edf was passed, passed files: 184, read files: 290\n"
     ]
    },
    {
     "name": "stderr",
     "output_type": "stream",
     "text": [
      " 36%|██████████████████████████████████████████▍                                                                           | 1671/4647 [13:01<27:24,  1.81it/s]"
     ]
    },
    {
     "name": "stdout",
     "output_type": "stream",
     "text": [
      "File aaaaanew_s001_t000.edf was passed, passed files: 185, read files: 293\n"
     ]
    },
    {
     "name": "stderr",
     "output_type": "stream",
     "text": [
      " 36%|██████████████████████████████████████████▊                                                                           | 1686/4647 [13:02<14:15,  3.46it/s]"
     ]
    },
    {
     "name": "stdout",
     "output_type": "stream",
     "text": [
      "File aaaaaowg_s001_t000.edf was passed, passed files: 186, read files: 294\n",
      "File aaaaaowk_s001_t000.edf was passed, passed files: 187, read files: 294\n"
     ]
    },
    {
     "name": "stderr",
     "output_type": "stream",
     "text": [
      " 37%|███████████████████████████████████████████▎                                                                          | 1706/4647 [13:08<15:19,  3.20it/s]"
     ]
    },
    {
     "name": "stdout",
     "output_type": "stream",
     "text": [
      "File aaaaakyz_s007_t000.edf was passed, passed files: 188, read files: 296\n"
     ]
    },
    {
     "name": "stderr",
     "output_type": "stream",
     "text": [
      " 37%|███████████████████████████████████████████▌                                                                          | 1714/4647 [13:17<30:05,  1.62it/s]"
     ]
    },
    {
     "name": "stdout",
     "output_type": "stream",
     "text": [
      "File aaaaaprt_s001_t000.edf was passed, passed files: 189, read files: 299\n",
      "File aaaaapia_s001_t000.edf was passed, passed files: 190, read files: 299\n",
      "File aaaaanho_s001_t000.edf was passed, passed files: 191, read files: 299\n"
     ]
    },
    {
     "name": "stderr",
     "output_type": "stream",
     "text": [
      " 37%|████████████████████████████████████████████▏                                                                         | 1742/4647 [13:27<21:12,  2.28it/s]"
     ]
    },
    {
     "name": "stdout",
     "output_type": "stream",
     "text": [
      "File aaaaamoq_s002_t000.edf was passed, passed files: 192, read files: 303\n"
     ]
    },
    {
     "name": "stderr",
     "output_type": "stream",
     "text": [
      " 38%|████████████████████████████████████████████▊                                                                         | 1763/4647 [13:44<40:14,  1.19it/s]"
     ]
    },
    {
     "name": "stdout",
     "output_type": "stream",
     "text": [
      "File aaaaanrx_s001_t000.edf was passed, passed files: 193, read files: 310\n"
     ]
    },
    {
     "name": "stderr",
     "output_type": "stream",
     "text": [
      " 38%|█████████████████████████████████████████████                                                                         | 1773/4647 [13:46<23:11,  2.07it/s]"
     ]
    },
    {
     "name": "stdout",
     "output_type": "stream",
     "text": [
      "File aaaaaoob_s001_t000.edf was passed, passed files: 194, read files: 311\n"
     ]
    },
    {
     "name": "stderr",
     "output_type": "stream",
     "text": [
      " 39%|█████████████████████████████████████████████▌                                                                        | 1792/4647 [13:56<26:47,  1.78it/s]"
     ]
    },
    {
     "name": "stdout",
     "output_type": "stream",
     "text": [
      "File aaaaaond_s001_t001.edf was passed, passed files: 195, read files: 315\n"
     ]
    },
    {
     "name": "stderr",
     "output_type": "stream",
     "text": [
      " 39%|█████████████████████████████████████████████▋                                                                        | 1797/4647 [13:59<26:45,  1.78it/s]"
     ]
    },
    {
     "name": "stdout",
     "output_type": "stream",
     "text": [
      "File aaaaapqs_s001_t000.edf was passed, passed files: 196, read files: 316\n"
     ]
    },
    {
     "name": "stderr",
     "output_type": "stream",
     "text": [
      " 39%|█████████████████████████████████████████████▉                                                                        | 1810/4647 [14:04<22:48,  2.07it/s]"
     ]
    },
    {
     "name": "stdout",
     "output_type": "stream",
     "text": [
      "File aaaaamvl_s001_t000.edf was passed, passed files: 197, read files: 318\n",
      "File aaaaanax_s001_t000.edf was passed, passed files: 198, read files: 318\n",
      "File aaaaaenq_s004_t005.edf was passed, passed files: 199, read files: 318\n"
     ]
    },
    {
     "name": "stderr",
     "output_type": "stream",
     "text": [
      " 39%|██████████████████████████████████████████████▏                                                                       | 1821/4647 [14:09<22:35,  2.09it/s]"
     ]
    },
    {
     "name": "stdout",
     "output_type": "stream",
     "text": [
      "File aaaaapwv_s001_t000.edf was passed, passed files: 200, read files: 320\n",
      "File aaaaanvn_s001_t001.edf was passed, passed files: 201, read files: 320\n",
      "File aaaaamvc_s003_t001.edf was passed, passed files: 202, read files: 320\n",
      "File aaaaaoyd_s001_t000.edf was passed, passed files: 203, read files: 320\n",
      "File aaaaapwx_s001_t000.edf was passed, passed files: 204, read files: 320\n"
     ]
    },
    {
     "name": "stderr",
     "output_type": "stream",
     "text": [
      " 40%|██████████████████████████████████████████████▉                                                                       | 1848/4647 [14:11<09:45,  4.78it/s]"
     ]
    },
    {
     "name": "stdout",
     "output_type": "stream",
     "text": [
      "File aaaaapuv_s001_t000.edf was passed, passed files: 205, read files: 321\n"
     ]
    },
    {
     "name": "stderr",
     "output_type": "stream",
     "text": [
      " 40%|███████████████████████████████████████████████▎                                                                      | 1863/4647 [14:23<23:22,  1.98it/s]"
     ]
    },
    {
     "name": "stdout",
     "output_type": "stream",
     "text": [
      "File aaaaappd_s001_t000.edf was passed, passed files: 206, read files: 324\n"
     ]
    },
    {
     "name": "stderr",
     "output_type": "stream",
     "text": [
      " 40%|███████████████████████████████████████████████▍                                                                      | 1866/4647 [14:26<26:03,  1.78it/s]"
     ]
    },
    {
     "name": "stdout",
     "output_type": "stream",
     "text": [
      "File aaaaaogf_s001_t000.edf was passed, passed files: 207, read files: 325\n"
     ]
    },
    {
     "name": "stderr",
     "output_type": "stream",
     "text": [
      " 40%|███████████████████████████████████████████████▌                                                                      | 1873/4647 [14:28<21:47,  2.12it/s]"
     ]
    },
    {
     "name": "stdout",
     "output_type": "stream",
     "text": [
      "File aaaaanyq_s001_t000.edf was passed, passed files: 208, read files: 326\n"
     ]
    },
    {
     "name": "stderr",
     "output_type": "stream",
     "text": [
      " 40%|███████████████████████████████████████████████▋                                                                      | 1879/4647 [14:30<19:49,  2.33it/s]"
     ]
    },
    {
     "name": "stdout",
     "output_type": "stream",
     "text": [
      "File aaaaansy_s001_t000.edf was passed, passed files: 209, read files: 327\n",
      "File aaaaamzo_s001_t001.edf was passed, passed files: 210, read files: 327\n",
      "File aaaaaplm_s001_t000.edf was passed, passed files: 211, read files: 327\n"
     ]
    },
    {
     "name": "stderr",
     "output_type": "stream",
     "text": [
      " 41%|████████████████████████████████████████████████▌                                                                     | 1911/4647 [14:43<27:56,  1.63it/s]"
     ]
    },
    {
     "name": "stdout",
     "output_type": "stream",
     "text": [
      "File aaaaaolv_s002_t000.edf was passed, passed files: 212, read files: 333\n",
      "File aaaaanyc_s003_t000.edf was passed, passed files: 213, read files: 333\n"
     ]
    },
    {
     "name": "stderr",
     "output_type": "stream",
     "text": [
      " 41%|████████████████████████████████████████████████▉                                                                     | 1926/4647 [14:46<15:00,  3.02it/s]"
     ]
    },
    {
     "name": "stdout",
     "output_type": "stream",
     "text": [
      "File aaaaamzw_s001_t000.edf was passed, passed files: 214, read files: 334\n"
     ]
    },
    {
     "name": "stderr",
     "output_type": "stream",
     "text": [
      " 41%|████████████████████████████████████████████████▉                                                                     | 1928/4647 [14:48<18:59,  2.39it/s]"
     ]
    },
    {
     "name": "stdout",
     "output_type": "stream",
     "text": [
      "File aaaaaoyy_s001_t000.edf was passed, passed files: 215, read files: 335\n"
     ]
    },
    {
     "name": "stderr",
     "output_type": "stream",
     "text": [
      " 42%|█████████████████████████████████████████████████                                                                     | 1934/4647 [14:56<36:52,  1.23it/s]"
     ]
    },
    {
     "name": "stdout",
     "output_type": "stream",
     "text": [
      "File aaaaanha_s001_t000.edf was passed, passed files: 216, read files: 337\n"
     ]
    },
    {
     "name": "stderr",
     "output_type": "stream",
     "text": [
      " 42%|█████████████████████████████████████████████████▍                                                                    | 1947/4647 [15:04<30:53,  1.46it/s]"
     ]
    },
    {
     "name": "stdout",
     "output_type": "stream",
     "text": [
      "File aaaaanmr_s001_t002.edf was passed, passed files: 217, read files: 339\n",
      "File aaaaanil_s001_t000.edf was passed, passed files: 218, read files: 339\n"
     ]
    },
    {
     "name": "stderr",
     "output_type": "stream",
     "text": [
      " 42%|█████████████████████████████████████████████████▊                                                                    | 1963/4647 [15:16<37:14,  1.20it/s]"
     ]
    },
    {
     "name": "stdout",
     "output_type": "stream",
     "text": [
      "File aaaaapqj_s001_t000.edf was passed, passed files: 219, read files: 343\n"
     ]
    },
    {
     "name": "stderr",
     "output_type": "stream",
     "text": [
      " 43%|██████████████████████████████████████████████████▌                                                                   | 1991/4647 [15:31<22:14,  1.99it/s]"
     ]
    },
    {
     "name": "stdout",
     "output_type": "stream",
     "text": [
      "File aaaaaprw_s001_t000.edf was passed, passed files: 220, read files: 349\n"
     ]
    },
    {
     "name": "stderr",
     "output_type": "stream",
     "text": [
      " 43%|██████████████████████████████████████████████████▊                                                                   | 2000/4647 [15:41<39:16,  1.12it/s]"
     ]
    },
    {
     "name": "stdout",
     "output_type": "stream",
     "text": [
      "File aaaaappy_s001_t000.edf was passed, passed files: 221, read files: 353\n",
      "File aaaaapeo_s001_t000.edf was passed, passed files: 222, read files: 353\n"
     ]
    },
    {
     "name": "stderr",
     "output_type": "stream",
     "text": [
      " 43%|███████████████████████████████████████████████████▏                                                                  | 2017/4647 [15:50<29:35,  1.48it/s]"
     ]
    },
    {
     "name": "stdout",
     "output_type": "stream",
     "text": [
      "File aaaaankk_s001_t000.edf was passed, passed files: 223, read files: 357\n"
     ]
    },
    {
     "name": "stderr",
     "output_type": "stream",
     "text": [
      " 44%|███████████████████████████████████████████████████▍                                                                  | 2024/4647 [15:53<22:48,  1.92it/s]"
     ]
    },
    {
     "name": "stdout",
     "output_type": "stream",
     "text": [
      "File aaaaangk_s001_t000.edf was passed, passed files: 224, read files: 358\n",
      "File aaaaaofq_s002_t000.edf was passed, passed files: 225, read files: 358\n",
      "File aaaaampm_s002_t000.edf was passed, passed files: 226, read files: 358\n",
      "File aaaaapaj_s001_t000.edf was passed, passed files: 227, read files: 358\n"
     ]
    },
    {
     "name": "stderr",
     "output_type": "stream",
     "text": [
      " 44%|███████████████████████████████████████████████████▋                                                                  | 2037/4647 [15:57<20:07,  2.16it/s]"
     ]
    },
    {
     "name": "stdout",
     "output_type": "stream",
     "text": [
      "File aaaaapqm_s001_t000.edf was passed, passed files: 228, read files: 360\n"
     ]
    },
    {
     "name": "stderr",
     "output_type": "stream",
     "text": [
      " 44%|████████████████████████████████████████████████████▍                                                                 | 2063/4647 [16:00<09:01,  4.77it/s]"
     ]
    },
    {
     "name": "stdout",
     "output_type": "stream",
     "text": [
      "File aaaaapjz_s001_t000.edf was passed, passed files: 229, read files: 361\n"
     ]
    },
    {
     "name": "stderr",
     "output_type": "stream",
     "text": [
      " 45%|████████████████████████████████████████████████████▉                                                                 | 2084/4647 [16:09<13:14,  3.22it/s]"
     ]
    },
    {
     "name": "stdout",
     "output_type": "stream",
     "text": [
      "File aaaaakxf_s002_t000.edf was passed, passed files: 230, read files: 365\n"
     ]
    },
    {
     "name": "stderr",
     "output_type": "stream",
     "text": [
      " 45%|█████████████████████████████████████████████████████▎                                                                | 2098/4647 [16:12<10:34,  4.02it/s]"
     ]
    },
    {
     "name": "stdout",
     "output_type": "stream",
     "text": [
      "File aaaaaomr_s001_t000.edf was passed, passed files: 231, read files: 366\n"
     ]
    },
    {
     "name": "stderr",
     "output_type": "stream",
     "text": [
      " 45%|█████████████████████████████████████████████████████▌                                                                | 2107/4647 [16:17<15:17,  2.77it/s]"
     ]
    },
    {
     "name": "stdout",
     "output_type": "stream",
     "text": [
      "File aaaaanbi_s001_t000.edf was passed, passed files: 232, read files: 368\n"
     ]
    },
    {
     "name": "stderr",
     "output_type": "stream",
     "text": [
      " 46%|██████████████████████████████████████████████████████▏                                                               | 2135/4647 [16:41<27:35,  1.52it/s]"
     ]
    },
    {
     "name": "stdout",
     "output_type": "stream",
     "text": [
      "File aaaaafyz_s002_t001.edf was passed, passed files: 233, read files: 378\n",
      "File aaaaamxu_s001_t000.edf was passed, passed files: 234, read files: 378\n",
      "File aaaaaoyv_s001_t000.edf was passed, passed files: 235, read files: 378\n"
     ]
    },
    {
     "name": "stderr",
     "output_type": "stream",
     "text": [
      " 46%|██████████████████████████████████████████████████████▋                                                               | 2154/4647 [16:43<12:02,  3.45it/s]"
     ]
    },
    {
     "name": "stdout",
     "output_type": "stream",
     "text": [
      "File aaaaahvi_s003_t000.edf was passed, passed files: 236, read files: 379\n"
     ]
    },
    {
     "name": "stderr",
     "output_type": "stream",
     "text": [
      " 46%|██████████████████████████████████████████████████████▊                                                               | 2160/4647 [16:46<13:21,  3.10it/s]"
     ]
    },
    {
     "name": "stdout",
     "output_type": "stream",
     "text": [
      "File aaaaapgl_s001_t000.edf was passed, passed files: 237, read files: 380\n",
      "File aaaaaflb_s005_t000.edf was passed, passed files: 238, read files: 380\n"
     ]
    },
    {
     "name": "stderr",
     "output_type": "stream",
     "text": [
      " 47%|███████████████████████████████████████████████████████                                                               | 2169/4647 [16:48<12:51,  3.21it/s]"
     ]
    },
    {
     "name": "stdout",
     "output_type": "stream",
     "text": [
      "File aaaaapji_s001_t000.edf was passed, passed files: 239, read files: 381\n"
     ]
    },
    {
     "name": "stderr",
     "output_type": "stream",
     "text": [
      " 47%|███████████████████████████████████████████████████████▋                                                              | 2191/4647 [16:56<15:13,  2.69it/s]"
     ]
    },
    {
     "name": "stdout",
     "output_type": "stream",
     "text": [
      "File aaaaaodm_s002_t000.edf was passed, passed files: 240, read files: 384\n",
      "File aaaaaopp_s001_t000.edf was passed, passed files: 241, read files: 384\n"
     ]
    },
    {
     "name": "stderr",
     "output_type": "stream",
     "text": [
      " 47%|███████████████████████████████████████████████████████▊                                                              | 2200/4647 [16:58<13:51,  2.94it/s]"
     ]
    },
    {
     "name": "stdout",
     "output_type": "stream",
     "text": [
      "File aaaaaone_s001_t001.edf was passed, passed files: 242, read files: 385\n"
     ]
    },
    {
     "name": "stderr",
     "output_type": "stream",
     "text": [
      " 48%|████████████████████████████████████████████████████████▏                                                             | 2211/4647 [17:01<12:07,  3.35it/s]"
     ]
    },
    {
     "name": "stdout",
     "output_type": "stream",
     "text": [
      "File aaaaapdl_s001_t000.edf was passed, passed files: 243, read files: 386\n"
     ]
    },
    {
     "name": "stderr",
     "output_type": "stream",
     "text": [
      " 48%|████████████████████████████████████████████████████████▊                                                             | 2235/4647 [17:10<17:54,  2.25it/s]"
     ]
    },
    {
     "name": "stdout",
     "output_type": "stream",
     "text": [
      "File aaaaadel_s004_t000.edf was passed, passed files: 244, read files: 390\n",
      "File aaaaaqap_s001_t000.edf was passed, passed files: 245, read files: 390\n"
     ]
    },
    {
     "name": "stderr",
     "output_type": "stream",
     "text": [
      " 49%|█████████████████████████████████████████████████████████▎                                                            | 2256/4647 [17:15<12:39,  3.15it/s]"
     ]
    },
    {
     "name": "stdout",
     "output_type": "stream",
     "text": [
      "File aaaaanyc_s002_t000.edf was passed, passed files: 246, read files: 392\n"
     ]
    },
    {
     "name": "stderr",
     "output_type": "stream",
     "text": [
      " 49%|█████████████████████████████████████████████████████████▍                                                            | 2264/4647 [17:20<17:34,  2.26it/s]"
     ]
    },
    {
     "name": "stdout",
     "output_type": "stream",
     "text": [
      "File aaaaaoqv_s002_t000.edf was passed, passed files: 247, read files: 394\n"
     ]
    },
    {
     "name": "stderr",
     "output_type": "stream",
     "text": [
      " 49%|█████████████████████████████████████████████████████████▌                                                            | 2268/4647 [17:22<19:12,  2.06it/s]"
     ]
    },
    {
     "name": "stdout",
     "output_type": "stream",
     "text": [
      "File aaaaapvt_s001_t000.edf was passed, passed files: 248, read files: 395\n",
      "File aaaaaoes_s001_t000.edf was passed, passed files: 249, read files: 395\n"
     ]
    },
    {
     "name": "stderr",
     "output_type": "stream",
     "text": [
      " 49%|██████████████████████████████████████████████████████████                                                            | 2287/4647 [17:41<35:44,  1.10it/s]"
     ]
    },
    {
     "name": "stdout",
     "output_type": "stream",
     "text": [
      "File aaaaapsa_s001_t000.edf was passed, passed files: 250, read files: 401\n"
     ]
    },
    {
     "name": "stderr",
     "output_type": "stream",
     "text": [
      " 50%|██████████████████████████████████████████████████████████▍                                                           | 2301/4647 [17:49<29:56,  1.31it/s]"
     ]
    },
    {
     "name": "stdout",
     "output_type": "stream",
     "text": [
      "File aaaaaodb_s001_t000.edf was passed, passed files: 251, read files: 404\n",
      "File aaaaacbz_s002_t000.edf was passed, passed files: 252, read files: 404\n",
      "File aaaaapmg_s001_t000.edf was passed, passed files: 253, read files: 404\n",
      "File aaaaapmu_s001_t000.edf was passed, passed files: 254, read files: 404\n"
     ]
    },
    {
     "name": "stderr",
     "output_type": "stream",
     "text": [
      " 51%|███████████████████████████████████████████████████████████▋                                                          | 2349/4647 [18:18<30:53,  1.24it/s]"
     ]
    },
    {
     "name": "stdout",
     "output_type": "stream",
     "text": [
      "File aaaaaaff_s002_t000.edf was passed, passed files: 255, read files: 412\n",
      "File aaaaanpe_s001_t001.edf was passed, passed files: 256, read files: 412\n"
     ]
    },
    {
     "name": "stderr",
     "output_type": "stream",
     "text": [
      " 51%|███████████████████████████████████████████████████████████▉                                                          | 2362/4647 [18:20<15:35,  2.44it/s]"
     ]
    },
    {
     "name": "stdout",
     "output_type": "stream",
     "text": [
      "File aaaaanqu_s001_t000.edf was passed, passed files: 257, read files: 413\n"
     ]
    },
    {
     "name": "stderr",
     "output_type": "stream",
     "text": [
      " 51%|████████████████████████████████████████████████████████████                                                          | 2364/4647 [18:22<18:53,  2.01it/s]"
     ]
    },
    {
     "name": "stdout",
     "output_type": "stream",
     "text": [
      "File aaaaanbc_s001_t000.edf was passed, passed files: 258, read files: 414\n"
     ]
    },
    {
     "name": "stderr",
     "output_type": "stream",
     "text": [
      " 51%|████████████████████████████████████████████████████████████▋                                                         | 2390/4647 [18:37<18:15,  2.06it/s]"
     ]
    },
    {
     "name": "stdout",
     "output_type": "stream",
     "text": [
      "File aaaaapye_s001_t000.edf was passed, passed files: 259, read files: 420\n",
      "File aaaaaoci_s001_t000.edf was passed, passed files: 260, read files: 420\n"
     ]
    },
    {
     "name": "stderr",
     "output_type": "stream",
     "text": [
      " 52%|████████████████████████████████████████████████████████████▉                                                         | 2402/4647 [18:40<12:49,  2.92it/s]"
     ]
    },
    {
     "name": "stdout",
     "output_type": "stream",
     "text": [
      "File aaaaangl_s001_t000.edf was passed, passed files: 261, read files: 421\n"
     ]
    },
    {
     "name": "stderr",
     "output_type": "stream",
     "text": [
      " 52%|█████████████████████████████████████████████████████████████▏                                                        | 2412/4647 [18:42<11:21,  3.28it/s]"
     ]
    },
    {
     "name": "stdout",
     "output_type": "stream",
     "text": [
      "File aaaaaocl_s002_t000.edf was passed, passed files: 262, read files: 422\n",
      "File aaaaapna_s001_t000.edf was passed, passed files: 263, read files: 422\n"
     ]
    },
    {
     "name": "stderr",
     "output_type": "stream",
     "text": [
      " 52%|█████████████████████████████████████████████████████████████▍                                                        | 2419/4647 [18:45<11:51,  3.13it/s]"
     ]
    },
    {
     "name": "stdout",
     "output_type": "stream",
     "text": [
      "File aaaaaplw_s001_t000.edf was passed, passed files: 264, read files: 423\n"
     ]
    },
    {
     "name": "stderr",
     "output_type": "stream",
     "text": [
      " 52%|█████████████████████████████████████████████████████████████▋                                                        | 2429/4647 [18:54<26:11,  1.41it/s]"
     ]
    },
    {
     "name": "stdout",
     "output_type": "stream",
     "text": [
      "File aaaaantb_s001_t000.edf was passed, passed files: 265, read files: 427\n"
     ]
    },
    {
     "name": "stderr",
     "output_type": "stream",
     "text": [
      " 52%|█████████████████████████████████████████████████████████████▉                                                        | 2439/4647 [18:59<21:31,  1.71it/s]"
     ]
    },
    {
     "name": "stdout",
     "output_type": "stream",
     "text": [
      "File aaaaandl_s001_t001.edf was passed, passed files: 266, read files: 429\n",
      "File aaaaanwe_s002_t000.edf was passed, passed files: 267, read files: 429\n",
      "File aaaaaogq_s001_t000.edf was passed, passed files: 268, read files: 429\n"
     ]
    },
    {
     "name": "stderr",
     "output_type": "stream",
     "text": [
      " 53%|██████████████████████████████████████████████████████████████▍                                                       | 2458/4647 [19:06<20:24,  1.79it/s]"
     ]
    },
    {
     "name": "stdout",
     "output_type": "stream",
     "text": [
      "File aaaaaoye_s001_t001.edf was passed, passed files: 269, read files: 432\n"
     ]
    },
    {
     "name": "stderr",
     "output_type": "stream",
     "text": [
      " 54%|███████████████████████████████████████████████████████████████▏                                                      | 2487/4647 [19:22<17:16,  2.08it/s]"
     ]
    },
    {
     "name": "stdout",
     "output_type": "stream",
     "text": [
      "File aaaaapju_s001_t000.edf was passed, passed files: 270, read files: 438\n",
      "File aaaaapme_s001_t001.edf was passed, passed files: 271, read files: 438\n",
      "File aaaaaner_s001_t000.edf was passed, passed files: 272, read files: 438\n",
      "File aaaaaoff_s001_t000.edf was passed, passed files: 273, read files: 438\n",
      "File aaaaaoeo_s001_t000.edf was passed, passed files: 274, read files: 438\n"
     ]
    },
    {
     "name": "stderr",
     "output_type": "stream",
     "text": [
      " 54%|████████████████████████████████████████████████████████████████                                                      | 2521/4647 [19:24<06:09,  5.76it/s]"
     ]
    },
    {
     "name": "stdout",
     "output_type": "stream",
     "text": [
      "File aaaaapen_s001_t000.edf was passed, passed files: 275, read files: 439\n",
      "File aaaaaeph_s005_t000.edf was passed, passed files: 276, read files: 439\n",
      "File aaaaapnq_s001_t001.edf was passed, passed files: 277, read files: 439\n"
     ]
    },
    {
     "name": "stderr",
     "output_type": "stream",
     "text": [
      " 55%|████████████████████████████████████████████████████████████████▊                                                     | 2554/4647 [19:31<08:06,  4.31it/s]"
     ]
    },
    {
     "name": "stdout",
     "output_type": "stream",
     "text": [
      "File aaaaaobv_s001_t000.edf was passed, passed files: 278, read files: 442\n"
     ]
    },
    {
     "name": "stderr",
     "output_type": "stream",
     "text": [
      " 55%|█████████████████████████████████████████████████████████████████▏                                                    | 2565/4647 [19:39<15:12,  2.28it/s]"
     ]
    },
    {
     "name": "stdout",
     "output_type": "stream",
     "text": [
      "File aaaaagzp_s002_t000.edf was passed, passed files: 279, read files: 445\n"
     ]
    },
    {
     "name": "stderr",
     "output_type": "stream",
     "text": [
      " 56%|█████████████████████████████████████████████████████████████████▋                                                    | 2587/4647 [20:00<38:38,  1.13s/it]"
     ]
    },
    {
     "name": "stdout",
     "output_type": "stream",
     "text": [
      "File aaaaapkr_s001_t000.edf was passed, passed files: 280, read files: 454\n"
     ]
    },
    {
     "name": "stderr",
     "output_type": "stream",
     "text": [
      " 56%|█████████████████████████████████████████████████████████████████▊                                                    | 2594/4647 [20:02<21:59,  1.56it/s]"
     ]
    },
    {
     "name": "stdout",
     "output_type": "stream",
     "text": [
      "File aaaaanfh_s001_t000.edf was passed, passed files: 281, read files: 455\n",
      "File aaaaaohv_s001_t000.edf was passed, passed files: 282, read files: 455\n"
     ]
    },
    {
     "name": "stderr",
     "output_type": "stream",
     "text": [
      " 56%|█████████████████████████████████████████████████████████████████▉                                                    | 2599/4647 [20:05<20:39,  1.65it/s]"
     ]
    },
    {
     "name": "stdout",
     "output_type": "stream",
     "text": [
      "File aaaaanev_s001_t000.edf was passed, passed files: 283, read files: 456\n"
     ]
    },
    {
     "name": "stderr",
     "output_type": "stream",
     "text": [
      " 56%|██████████████████████████████████████████████████████████████████▏                                                   | 2608/4647 [20:07<14:47,  2.30it/s]"
     ]
    },
    {
     "name": "stdout",
     "output_type": "stream",
     "text": [
      "File aaaaapva_s001_t000.edf was passed, passed files: 284, read files: 457\n"
     ]
    },
    {
     "name": "stderr",
     "output_type": "stream",
     "text": [
      " 57%|██████████████████████████████████████████████████████████████████▊                                                   | 2632/4647 [20:12<10:09,  3.31it/s]"
     ]
    },
    {
     "name": "stdout",
     "output_type": "stream",
     "text": [
      "File aaaaapoi_s001_t000.edf was passed, passed files: 285, read files: 459\n"
     ]
    },
    {
     "name": "stderr",
     "output_type": "stream",
     "text": [
      " 57%|███████████████████████████████████████████████████████████████████▍                                                  | 2654/4647 [20:25<21:33,  1.54it/s]"
     ]
    },
    {
     "name": "stdout",
     "output_type": "stream",
     "text": [
      "File aaaaapql_s001_t000.edf was passed, passed files: 286, read files: 464\n"
     ]
    },
    {
     "name": "stderr",
     "output_type": "stream",
     "text": [
      " 57%|███████████████████████████████████████████████████████████████████▍                                                  | 2657/4647 [20:28<23:09,  1.43it/s]"
     ]
    },
    {
     "name": "stdout",
     "output_type": "stream",
     "text": [
      "File aaaaakyn_s002_t000.edf was passed, passed files: 287, read files: 465\n",
      "File aaaaafwl_s003_t000.edf was passed, passed files: 288, read files: 465\n"
     ]
    },
    {
     "name": "stderr",
     "output_type": "stream",
     "text": [
      " 57%|███████████████████████████████████████████████████████████████████▋                                                  | 2667/4647 [20:30<14:56,  2.21it/s]"
     ]
    },
    {
     "name": "stdout",
     "output_type": "stream",
     "text": [
      "File aaaaanmi_s001_t000.edf was passed, passed files: 289, read files: 466\n",
      "File aaaaamth_s002_t000.edf was passed, passed files: 290, read files: 466\n",
      "File aaaaaonc_s001_t002.edf was passed, passed files: 291, read files: 466\n"
     ]
    },
    {
     "name": "stderr",
     "output_type": "stream",
     "text": [
      " 58%|████████████████████████████████████████████████████████████████████▍                                                 | 2695/4647 [20:33<06:51,  4.75it/s]"
     ]
    },
    {
     "name": "stdout",
     "output_type": "stream",
     "text": [
      "File aaaaapnu_s001_t000.edf was passed, passed files: 292, read files: 467\n",
      "File aaaaapkc_s001_t000.edf was passed, passed files: 293, read files: 467\n"
     ]
    },
    {
     "name": "stderr",
     "output_type": "stream",
     "text": [
      " 58%|████████████████████████████████████████████████████████████████████▊                                                 | 2709/4647 [20:36<06:34,  4.91it/s]"
     ]
    },
    {
     "name": "stdout",
     "output_type": "stream",
     "text": [
      "File aaaaannz_s001_t000.edf was passed, passed files: 294, read files: 468\n"
     ]
    },
    {
     "name": "stderr",
     "output_type": "stream",
     "text": [
      " 59%|█████████████████████████████████████████████████████████████████████▉                                                | 2752/4647 [20:43<07:03,  4.47it/s]"
     ]
    },
    {
     "name": "stdout",
     "output_type": "stream",
     "text": [
      "File aaaaanaw_s001_t000.edf was passed, passed files: 295, read files: 471\n"
     ]
    },
    {
     "name": "stderr",
     "output_type": "stream",
     "text": [
      " 59%|██████████████████████████████████████████████████████████████████████▏                                               | 2763/4647 [20:46<07:14,  4.34it/s]"
     ]
    },
    {
     "name": "stdout",
     "output_type": "stream",
     "text": [
      "File aaaaaohg_s001_t001.edf was passed, passed files: 296, read files: 472\n"
     ]
    },
    {
     "name": "stderr",
     "output_type": "stream",
     "text": [
      " 60%|██████████████████████████████████████████████████████████████████████▌                                               | 2780/4647 [20:54<10:52,  2.86it/s]"
     ]
    },
    {
     "name": "stdout",
     "output_type": "stream",
     "text": [
      "File aaaaangi_s001_t000.edf was passed, passed files: 297, read files: 475\n"
     ]
    },
    {
     "name": "stderr",
     "output_type": "stream",
     "text": [
      " 60%|██████████████████████████████████████████████████████████████████████▋                                               | 2784/4647 [20:57<12:37,  2.46it/s]"
     ]
    },
    {
     "name": "stdout",
     "output_type": "stream",
     "text": [
      "File aaaaaeqq_s004_t000.edf was passed, passed files: 298, read files: 476\n",
      "File aaaaapws_s001_t000.edf was passed, passed files: 299, read files: 476\n"
     ]
    },
    {
     "name": "stderr",
     "output_type": "stream",
     "text": [
      " 60%|██████████████████████████████████████████████████████████████████████▉                                               | 2795/4647 [20:59<10:19,  2.99it/s]"
     ]
    },
    {
     "name": "stdout",
     "output_type": "stream",
     "text": [
      "File aaaaapif_s001_t000.edf was passed, passed files: 300, read files: 477\n",
      "File aaaaaplu_s001_t001.edf was passed, passed files: 301, read files: 477\n"
     ]
    },
    {
     "name": "stderr",
     "output_type": "stream",
     "text": [
      " 61%|████████████████████████████████████████████████████████████████████████▏                                             | 2841/4647 [21:18<21:56,  1.37it/s]"
     ]
    },
    {
     "name": "stdout",
     "output_type": "stream",
     "text": [
      "File aaaaamys_s001_t000.edf was passed, passed files: 302, read files: 484\n",
      "File aaaaanlu_s002_t000.edf was passed, passed files: 303, read files: 484\n"
     ]
    },
    {
     "name": "stderr",
     "output_type": "stream",
     "text": [
      " 61%|████████████████████████████████████████████████████████████████████████▎                                             | 2850/4647 [21:21<14:56,  2.00it/s]"
     ]
    },
    {
     "name": "stdout",
     "output_type": "stream",
     "text": [
      "File aaaaamvc_s002_t000.edf was passed, passed files: 304, read files: 485\n"
     ]
    },
    {
     "name": "stderr",
     "output_type": "stream",
     "text": [
      " 61%|████████████████████████████████████████████████████████████████████████▍                                             | 2853/4647 [21:23<17:08,  1.75it/s]"
     ]
    },
    {
     "name": "stdout",
     "output_type": "stream",
     "text": [
      "File aaaaalwb_s003_t000.edf was passed, passed files: 305, read files: 486\n"
     ]
    },
    {
     "name": "stderr",
     "output_type": "stream",
     "text": [
      " 62%|████████████████████████████████████████████████████████████████████████▋                                             | 2863/4647 [21:34<23:46,  1.25it/s]"
     ]
    },
    {
     "name": "stdout",
     "output_type": "stream",
     "text": [
      "File aaaaamrf_s001_t000.edf was passed, passed files: 306, read files: 490\n"
     ]
    },
    {
     "name": "stderr",
     "output_type": "stream",
     "text": [
      " 62%|█████████████████████████████████████████████████████████████████████████                                             | 2877/4647 [21:44<24:59,  1.18it/s]"
     ]
    },
    {
     "name": "stdout",
     "output_type": "stream",
     "text": [
      "File aaaaamxc_s001_t000.edf was passed, passed files: 307, read files: 494\n",
      "File aaaaaptk_s001_t000.edf was passed, passed files: 308, read files: 494\n"
     ]
    },
    {
     "name": "stderr",
     "output_type": "stream",
     "text": [
      " 62%|█████████████████████████████████████████████████████████████████████████▋                                            | 2902/4647 [22:00<20:01,  1.45it/s]"
     ]
    },
    {
     "name": "stdout",
     "output_type": "stream",
     "text": [
      "File aaaaanix_s001_t000.edf was passed, passed files: 309, read files: 500\n"
     ]
    },
    {
     "name": "stderr",
     "output_type": "stream",
     "text": [
      " 63%|█████████████████████████████████████████████████████████████████████████▊                                            | 2906/4647 [22:03<19:48,  1.47it/s]"
     ]
    },
    {
     "name": "stdout",
     "output_type": "stream",
     "text": [
      "File aaaaapyi_s001_t000.edf was passed, passed files: 310, read files: 501\n"
     ]
    },
    {
     "name": "stderr",
     "output_type": "stream",
     "text": [
      " 63%|█████████████████████████████████████████████████████████████████████████▊                                            | 2909/4647 [22:06<22:08,  1.31it/s]"
     ]
    },
    {
     "name": "stdout",
     "output_type": "stream",
     "text": [
      "File aaaaambs_s003_t000.edf was passed, passed files: 311, read files: 502\n",
      "File aaaaaomm_s001_t000.edf was passed, passed files: 312, read files: 502\n"
     ]
    },
    {
     "name": "stderr",
     "output_type": "stream",
     "text": [
      " 63%|██████████████████████████████████████████████████████████████████████████▏                                           | 2923/4647 [22:09<11:36,  2.47it/s]"
     ]
    },
    {
     "name": "stdout",
     "output_type": "stream",
     "text": [
      "File aaaaapnb_s001_t001.edf was passed, passed files: 313, read files: 503\n"
     ]
    },
    {
     "name": "stderr",
     "output_type": "stream",
     "text": [
      " 63%|██████████████████████████████████████████████████████████████████████████▋                                           | 2939/4647 [22:11<08:00,  3.56it/s]"
     ]
    },
    {
     "name": "stdout",
     "output_type": "stream",
     "text": [
      "File aaaaampm_s001_t000.edf was passed, passed files: 314, read files: 504\n"
     ]
    },
    {
     "name": "stderr",
     "output_type": "stream",
     "text": [
      " 64%|███████████████████████████████████████████████████████████████████████████                                           | 2955/4647 [22:14<06:32,  4.31it/s]"
     ]
    },
    {
     "name": "stdout",
     "output_type": "stream",
     "text": [
      "File aaaaaorv_s001_t000.edf was passed, passed files: 315, read files: 505\n"
     ]
    },
    {
     "name": "stderr",
     "output_type": "stream",
     "text": [
      " 64%|███████████████████████████████████████████████████████████████████████████▎                                          | 2964/4647 [22:22<13:35,  2.06it/s]"
     ]
    },
    {
     "name": "stdout",
     "output_type": "stream",
     "text": [
      "File aaaaakce_s002_t002.edf was passed, passed files: 316, read files: 508\n",
      "File aaaaakzx_s003_t001.edf was passed, passed files: 317, read files: 508\n"
     ]
    },
    {
     "name": "stderr",
     "output_type": "stream",
     "text": [
      " 64%|███████████████████████████████████████████████████████████████████████████▋                                          | 2979/4647 [22:24<08:42,  3.19it/s]"
     ]
    },
    {
     "name": "stdout",
     "output_type": "stream",
     "text": [
      "File aaaaapnf_s001_t001.edf was passed, passed files: 318, read files: 509\n",
      "File aaaaamsw_s002_t000.edf was passed, passed files: 319, read files: 509\n"
     ]
    },
    {
     "name": "stderr",
     "output_type": "stream",
     "text": [
      " 64%|███████████████████████████████████████████████████████████████████████████▉                                          | 2992/4647 [22:38<22:09,  1.24it/s]"
     ]
    },
    {
     "name": "stdout",
     "output_type": "stream",
     "text": [
      "File aaaaanvi_s001_t000.edf was passed, passed files: 320, read files: 514\n"
     ]
    },
    {
     "name": "stderr",
     "output_type": "stream",
     "text": [
      " 65%|████████████████████████████████████████████████████████████████████████████▏                                         | 2998/4647 [22:43<23:08,  1.19it/s]"
     ]
    },
    {
     "name": "stdout",
     "output_type": "stream",
     "text": [
      "File aaaaaokd_s002_t000.edf was passed, passed files: 321, read files: 516\n"
     ]
    },
    {
     "name": "stderr",
     "output_type": "stream",
     "text": [
      " 65%|████████████████████████████████████████████████████████████████████████████▎                                         | 3006/4647 [22:45<15:28,  1.77it/s]"
     ]
    },
    {
     "name": "stdout",
     "output_type": "stream",
     "text": [
      "File aaaaadvk_s003_t000.edf was passed, passed files: 322, read files: 517\n"
     ]
    },
    {
     "name": "stderr",
     "output_type": "stream",
     "text": [
      " 65%|████████████████████████████████████████████████████████████████████████████▌                                         | 3014/4647 [22:56<29:04,  1.07s/it]"
     ]
    },
    {
     "name": "stdout",
     "output_type": "stream",
     "text": [
      "File aaaaalvg_s002_t000.edf was passed, passed files: 323, read files: 521\n"
     ]
    },
    {
     "name": "stderr",
     "output_type": "stream",
     "text": [
      " 65%|█████████████████████████████████████████████████████████████████████████████                                         | 3033/4647 [22:58<08:58,  2.99it/s]"
     ]
    },
    {
     "name": "stdout",
     "output_type": "stream",
     "text": [
      "File aaaaancs_s001_t000.edf was passed, passed files: 324, read files: 522\n"
     ]
    },
    {
     "name": "stderr",
     "output_type": "stream",
     "text": [
      " 66%|█████████████████████████████████████████████████████████████████████████████▎                                        | 3047/4647 [23:11<20:24,  1.31it/s]"
     ]
    },
    {
     "name": "stdout",
     "output_type": "stream",
     "text": [
      "File aaaaapsv_s001_t000.edf was passed, passed files: 325, read files: 527\n"
     ]
    },
    {
     "name": "stderr",
     "output_type": "stream",
     "text": [
      " 66%|█████████████████████████████████████████████████████████████████████████████▌                                        | 3053/4647 [23:16<21:36,  1.23it/s]"
     ]
    },
    {
     "name": "stdout",
     "output_type": "stream",
     "text": [
      "File aaaaaosa_s001_t000.edf was passed, passed files: 326, read files: 529\n",
      "File aaaaaofi_s001_t000.edf was passed, passed files: 327, read files: 529\n",
      "File aaaaamtx_s001_t000.edf was passed, passed files: 328, read files: 529\n",
      "File aaaaaomk_s001_t000.edf was passed, passed files: 329, read files: 529\n"
     ]
    },
    {
     "name": "stderr",
     "output_type": "stream",
     "text": [
      " 66%|█████████████████████████████████████████████████████████████████████████████▋                                        | 3059/4647 [23:19<17:07,  1.54it/s]"
     ]
    },
    {
     "name": "stdout",
     "output_type": "stream",
     "text": [
      "File aaaaapfp_s001_t000.edf was passed, passed files: 330, read files: 530\n"
     ]
    },
    {
     "name": "stderr",
     "output_type": "stream",
     "text": [
      " 66%|█████████████████████████████████████████████████████████████████████████████▊                                        | 3063/4647 [23:22<17:27,  1.51it/s]"
     ]
    },
    {
     "name": "stdout",
     "output_type": "stream",
     "text": [
      "File aaaaapqn_s001_t000.edf was passed, passed files: 331, read files: 531\n",
      "File aaaaaphz_s001_t000.edf was passed, passed files: 332, read files: 531\n",
      "File aaaaanom_s001_t000.edf was passed, passed files: 333, read files: 531\n",
      "File aaaaanfk_s001_t000.edf was passed, passed files: 334, read files: 531\n",
      "File aaaaappw_s001_t001.edf was passed, passed files: 335, read files: 531\n",
      "File aaaaapzu_s001_t000.edf was passed, passed files: 336, read files: 531\n"
     ]
    },
    {
     "name": "stderr",
     "output_type": "stream",
     "text": [
      " 66%|██████████████████████████████████████████████████████████████████████████████▎                                       | 3086/4647 [23:33<17:08,  1.52it/s]"
     ]
    },
    {
     "name": "stdout",
     "output_type": "stream",
     "text": [
      "File aaaaanqf_s001_t000.edf was passed, passed files: 337, read files: 535\n",
      "File aaaaandc_s001_t000.edf was passed, passed files: 338, read files: 535\n"
     ]
    },
    {
     "name": "stderr",
     "output_type": "stream",
     "text": [
      " 67%|██████████████████████████████████████████████████████████████████████████████▌                                       | 3095/4647 [23:36<12:26,  2.08it/s]"
     ]
    },
    {
     "name": "stdout",
     "output_type": "stream",
     "text": [
      "File aaaaacpm_s002_t002.edf was passed, passed files: 339, read files: 536\n"
     ]
    },
    {
     "name": "stderr",
     "output_type": "stream",
     "text": [
      " 67%|██████████████████████████████████████████████████████████████████████████████▉                                       | 3110/4647 [23:50<22:10,  1.16it/s]"
     ]
    },
    {
     "name": "stdout",
     "output_type": "stream",
     "text": [
      "File aaaaapto_s001_t000.edf was passed, passed files: 340, read files: 540\n"
     ]
    },
    {
     "name": "stderr",
     "output_type": "stream",
     "text": [
      " 67%|███████████████████████████████████████████████████████████████████████████████▍                                      | 3129/4647 [23:55<11:37,  2.18it/s]"
     ]
    },
    {
     "name": "stdout",
     "output_type": "stream",
     "text": [
      "File aaaaaomo_s001_t000.edf was passed, passed files: 341, read files: 542\n",
      "File aaaaaaav_s004_t000.edf was passed, passed files: 342, read files: 542\n"
     ]
    },
    {
     "name": "stderr",
     "output_type": "stream",
     "text": [
      " 68%|███████████████████████████████████████████████████████████████████████████████▋                                      | 3140/4647 [23:57<09:03,  2.77it/s]"
     ]
    },
    {
     "name": "stdout",
     "output_type": "stream",
     "text": [
      "File aaaaaqaq_s001_t000.edf was passed, passed files: 343, read files: 543\n"
     ]
    },
    {
     "name": "stderr",
     "output_type": "stream",
     "text": [
      " 68%|███████████████████████████████████████████████████████████████████████████████▊                                      | 3144/4647 [24:00<10:14,  2.45it/s]"
     ]
    },
    {
     "name": "stdout",
     "output_type": "stream",
     "text": [
      "File aaaaaohh_s002_t000.edf was passed, passed files: 344, read files: 544\n"
     ]
    },
    {
     "name": "stderr",
     "output_type": "stream",
     "text": [
      " 68%|███████████████████████████████████████████████████████████████████████████████▉                                      | 3149/4647 [24:03<11:10,  2.23it/s]"
     ]
    },
    {
     "name": "stdout",
     "output_type": "stream",
     "text": [
      "File aaaaapqz_s001_t000.edf was passed, passed files: 345, read files: 545\n",
      "File aaaaansu_s002_t000.edf was passed, passed files: 346, read files: 545\n"
     ]
    },
    {
     "name": "stderr",
     "output_type": "stream",
     "text": [
      " 68%|████████████████████████████████████████████████████████████████████████████████▎                                     | 3162/4647 [24:09<11:14,  2.20it/s]"
     ]
    },
    {
     "name": "stdout",
     "output_type": "stream",
     "text": [
      "File aaaaacag_s002_t000.edf was passed, passed files: 347, read files: 546\n"
     ]
    },
    {
     "name": "stderr",
     "output_type": "stream",
     "text": [
      " 68%|████████████████████████████████████████████████████████████████████████████████▍                                     | 3166/4647 [24:11<11:32,  2.14it/s]"
     ]
    },
    {
     "name": "stdout",
     "output_type": "stream",
     "text": [
      "File aaaaanuu_s001_t000.edf was passed, passed files: 348, read files: 547\n",
      "File aaaaaicc_s003_t000.edf was passed, passed files: 349, read files: 547\n"
     ]
    },
    {
     "name": "stderr",
     "output_type": "stream",
     "text": [
      " 69%|████████████████████████████████████████████████████████████████████████████████▉                                     | 3186/4647 [24:18<09:03,  2.69it/s]"
     ]
    },
    {
     "name": "stdout",
     "output_type": "stream",
     "text": [
      "File aaaaapus_s001_t000.edf was passed, passed files: 350, read files: 550\n",
      "File aaaaabhm_s010_t001.edf was passed, passed files: 351, read files: 550\n"
     ]
    },
    {
     "name": "stderr",
     "output_type": "stream",
     "text": [
      " 69%|█████████████████████████████████████████████████████████████████████████████████▏                                    | 3197/4647 [24:21<07:41,  3.14it/s]"
     ]
    },
    {
     "name": "stdout",
     "output_type": "stream",
     "text": [
      "File aaaaansb_s001_t000.edf was passed, passed files: 352, read files: 551\n"
     ]
    },
    {
     "name": "stderr",
     "output_type": "stream",
     "text": [
      " 69%|█████████████████████████████████████████████████████████████████████████████████▉                                    | 3229/4647 [24:33<10:10,  2.32it/s]"
     ]
    },
    {
     "name": "stdout",
     "output_type": "stream",
     "text": [
      "File aaaaafyi_s005_t000.edf was passed, passed files: 353, read files: 556\n"
     ]
    },
    {
     "name": "stderr",
     "output_type": "stream",
     "text": [
      " 70%|██████████████████████████████████████████████████████████████████████████████████▌                                   | 3252/4647 [24:53<17:41,  1.31it/s]"
     ]
    },
    {
     "name": "stdout",
     "output_type": "stream",
     "text": [
      "File aaaaanzv_s001_t000.edf was passed, passed files: 354, read files: 564\n"
     ]
    },
    {
     "name": "stderr",
     "output_type": "stream",
     "text": [
      " 70%|██████████████████████████████████████████████████████████████████████████████████▊                                   | 3259/4647 [24:56<13:28,  1.72it/s]"
     ]
    },
    {
     "name": "stdout",
     "output_type": "stream",
     "text": [
      "File aaaaakne_s003_t001.edf was passed, passed files: 355, read files: 565\n"
     ]
    },
    {
     "name": "stderr",
     "output_type": "stream",
     "text": [
      " 71%|███████████████████████████████████████████████████████████████████████████████████▍                                  | 3285/4647 [25:07<10:02,  2.26it/s]"
     ]
    },
    {
     "name": "stdout",
     "output_type": "stream",
     "text": [
      "File aaaaakyz_s003_t000.edf was passed, passed files: 356, read files: 570\n",
      "File aaaaaoil_s001_t000.edf was passed, passed files: 357, read files: 570\n",
      "File aaaaapum_s001_t000.edf was passed, passed files: 358, read files: 570\n",
      "File aaaaapoe_s001_t000.edf was passed, passed files: 359, read files: 570\n",
      "File aaaaamth_s001_t000.edf was passed, passed files: 360, read files: 570\n"
     ]
    },
    {
     "name": "stderr",
     "output_type": "stream",
     "text": [
      " 71%|███████████████████████████████████████████████████████████████████████████████████▉                                  | 3306/4647 [25:12<07:46,  2.88it/s]"
     ]
    },
    {
     "name": "stdout",
     "output_type": "stream",
     "text": [
      "File aaaaapqx_s001_t000.edf was passed, passed files: 361, read files: 572\n",
      "File aaaaanfb_s001_t000.edf was passed, passed files: 362, read files: 572\n",
      "File aaaaapel_s001_t000.edf was passed, passed files: 363, read files: 572\n",
      "File aaaaansv_s001_t001.edf was passed, passed files: 364, read files: 572\n"
     ]
    },
    {
     "name": "stderr",
     "output_type": "stream",
     "text": [
      " 72%|████████████████████████████████████████████████████████████████████████████████████▋                                 | 3334/4647 [25:20<07:26,  2.94it/s]"
     ]
    },
    {
     "name": "stdout",
     "output_type": "stream",
     "text": [
      "File aaaaango_s001_t000.edf was passed, passed files: 365, read files: 575\n",
      "File aaaaaoni_s001_t001.edf was passed, passed files: 366, read files: 575\n"
     ]
    },
    {
     "name": "stderr",
     "output_type": "stream",
     "text": [
      " 72%|█████████████████████████████████████████████████████████████████████████████████████                                 | 3351/4647 [25:28<09:20,  2.31it/s]"
     ]
    },
    {
     "name": "stdout",
     "output_type": "stream",
     "text": [
      "File aaaaamrx_s002_t000.edf was passed, passed files: 367, read files: 578\n"
     ]
    },
    {
     "name": "stderr",
     "output_type": "stream",
     "text": [
      " 72%|█████████████████████████████████████████████████████████████████████████████████████▏                                | 3356/4647 [25:30<09:48,  2.19it/s]"
     ]
    },
    {
     "name": "stdout",
     "output_type": "stream",
     "text": [
      "File aaaaamwx_s001_t000.edf was passed, passed files: 368, read files: 579\n"
     ]
    },
    {
     "name": "stderr",
     "output_type": "stream",
     "text": [
      " 72%|█████████████████████████████████████████████████████████████████████████████████████▌                                | 3368/4647 [25:38<13:40,  1.56it/s]"
     ]
    },
    {
     "name": "stdout",
     "output_type": "stream",
     "text": [
      "File aaaaapcg_s001_t000.edf was passed, passed files: 369, read files: 582\n"
     ]
    },
    {
     "name": "stderr",
     "output_type": "stream",
     "text": [
      " 73%|█████████████████████████████████████████████████████████████████████████████████████▌                                | 3372/4647 [25:41<13:50,  1.54it/s]"
     ]
    },
    {
     "name": "stdout",
     "output_type": "stream",
     "text": [
      "File aaaaapvq_s001_t000.edf was passed, passed files: 370, read files: 583\n",
      "File aaaaamxf_s001_t000.edf was passed, passed files: 371, read files: 583\n"
     ]
    },
    {
     "name": "stderr",
     "output_type": "stream",
     "text": [
      " 73%|█████████████████████████████████████████████████████████████████████████████████████▉                                | 3383/4647 [25:46<11:37,  1.81it/s]"
     ]
    },
    {
     "name": "stdout",
     "output_type": "stream",
     "text": [
      "File aaaaapfq_s001_t000.edf was passed, passed files: 372, read files: 585\n",
      "File aaaaajyg_s002_t000.edf was passed, passed files: 373, read files: 585\n"
     ]
    },
    {
     "name": "stderr",
     "output_type": "stream",
     "text": [
      " 73%|██████████████████████████████████████████████████████████████████████████████████████                                | 3389/4647 [25:49<10:41,  1.96it/s]"
     ]
    },
    {
     "name": "stdout",
     "output_type": "stream",
     "text": [
      "File aaaaaknp_s002_t000.edf was passed, passed files: 374, read files: 586\n"
     ]
    },
    {
     "name": "stderr",
     "output_type": "stream",
     "text": [
      " 73%|██████████████████████████████████████████████████████████████████████████████████████▏                               | 3392/4647 [25:51<12:02,  1.74it/s]"
     ]
    },
    {
     "name": "stdout",
     "output_type": "stream",
     "text": [
      "File aaaaaowf_s001_t000.edf was passed, passed files: 375, read files: 587\n",
      "File aaaaapgc_s001_t000.edf was passed, passed files: 376, read files: 587\n"
     ]
    },
    {
     "name": "stderr",
     "output_type": "stream",
     "text": [
      " 73%|██████████████████████████████████████████████████████████████████████████████████████▍                               | 3402/4647 [25:53<07:48,  2.66it/s]"
     ]
    },
    {
     "name": "stdout",
     "output_type": "stream",
     "text": [
      "File aaaaaprz_s001_t000.edf was passed, passed files: 377, read files: 588\n"
     ]
    },
    {
     "name": "stderr",
     "output_type": "stream",
     "text": [
      " 74%|██████████████████████████████████████████████████████████████████████████████████████▉                               | 3426/4647 [26:08<12:54,  1.58it/s]"
     ]
    },
    {
     "name": "stdout",
     "output_type": "stream",
     "text": [
      "File aaaaalqm_s002_t000.edf was passed, passed files: 378, read files: 594\n",
      "File aaaaaohs_s001_t001.edf was passed, passed files: 379, read files: 594\n"
     ]
    },
    {
     "name": "stderr",
     "output_type": "stream",
     "text": [
      " 74%|███████████████████████████████████████████████████████████████████████████████████████▎                              | 3440/4647 [26:10<06:58,  2.89it/s]"
     ]
    },
    {
     "name": "stdout",
     "output_type": "stream",
     "text": [
      "File aaaaalzg_s009_t000.edf was passed, passed files: 380, read files: 595\n",
      "File aaaaaoyi_s001_t000.edf was passed, passed files: 381, read files: 595\n"
     ]
    },
    {
     "name": "stderr",
     "output_type": "stream",
     "text": [
      " 74%|███████████████████████████████████████████████████████████████████████████████████████▋                              | 3452/4647 [26:22<15:03,  1.32it/s]"
     ]
    },
    {
     "name": "stdout",
     "output_type": "stream",
     "text": [
      "File aaaaaoxx_s001_t001.edf was passed, passed files: 382, read files: 600\n",
      "File aaaaamwp_s002_t000.edf was passed, passed files: 383, read files: 600\n"
     ]
    },
    {
     "name": "stderr",
     "output_type": "stream",
     "text": [
      " 74%|███████████████████████████████████████████████████████████████████████████████████████▉                              | 3461/4647 [26:24<09:38,  2.05it/s]"
     ]
    },
    {
     "name": "stdout",
     "output_type": "stream",
     "text": [
      "File aaaaapuk_s001_t000.edf was passed, passed files: 384, read files: 601\n",
      "File aaaaapgm_s001_t000.edf was passed, passed files: 385, read files: 601\n"
     ]
    },
    {
     "name": "stderr",
     "output_type": "stream",
     "text": [
      " 75%|████████████████████████████████████████████████████████████████████████████████████████                              | 3470/4647 [26:27<07:44,  2.53it/s]"
     ]
    },
    {
     "name": "stdout",
     "output_type": "stream",
     "text": [
      "File aaaaamyg_s001_t000.edf was passed, passed files: 386, read files: 602\n"
     ]
    },
    {
     "name": "stderr",
     "output_type": "stream",
     "text": [
      " 75%|████████████████████████████████████████████████████████████████████████████████████████▎                             | 3478/4647 [26:34<12:13,  1.59it/s]"
     ]
    },
    {
     "name": "stdout",
     "output_type": "stream",
     "text": [
      "File aaaaamvg_s004_t000.edf was passed, passed files: 387, read files: 605\n"
     ]
    },
    {
     "name": "stderr",
     "output_type": "stream",
     "text": [
      " 75%|████████████████████████████████████████████████████████████████████████████████████████▌                             | 3488/4647 [26:39<11:29,  1.68it/s]"
     ]
    },
    {
     "name": "stdout",
     "output_type": "stream",
     "text": [
      "File aaaaamzf_s001_t001.edf was passed, passed files: 388, read files: 607\n"
     ]
    },
    {
     "name": "stderr",
     "output_type": "stream",
     "text": [
      " 75%|████████████████████████████████████████████████████████████████████████████████████████▌                             | 3490/4647 [26:42<13:36,  1.42it/s]"
     ]
    },
    {
     "name": "stdout",
     "output_type": "stream",
     "text": [
      "File aaaaandn_s001_t000.edf was passed, passed files: 389, read files: 608\n",
      "File aaaaaoql_s001_t001.edf was passed, passed files: 390, read files: 608\n",
      "File aaaaaedn_s005_t000.edf was passed, passed files: 391, read files: 608\n"
     ]
    },
    {
     "name": "stderr",
     "output_type": "stream",
     "text": [
      " 75%|█████████████████████████████████████████████████████████████████████████████████████████                             | 3508/4647 [26:44<06:05,  3.12it/s]"
     ]
    },
    {
     "name": "stdout",
     "output_type": "stream",
     "text": [
      "File aaaaaomi_s001_t000.edf was passed, passed files: 392, read files: 609\n"
     ]
    },
    {
     "name": "stderr",
     "output_type": "stream",
     "text": [
      " 76%|█████████████████████████████████████████████████████████████████████████████████████████▍                            | 3520/4647 [26:52<09:36,  1.96it/s]"
     ]
    },
    {
     "name": "stdout",
     "output_type": "stream",
     "text": [
      "File aaaaamux_s001_t000.edf was passed, passed files: 393, read files: 612\n"
     ]
    },
    {
     "name": "stderr",
     "output_type": "stream",
     "text": [
      " 76%|█████████████████████████████████████████████████████████████████████████████████████████▌                            | 3527/4647 [27:00<14:33,  1.28it/s]"
     ]
    },
    {
     "name": "stdout",
     "output_type": "stream",
     "text": [
      "File aaaaaler_s003_t000.edf was passed, passed files: 394, read files: 615\n",
      "File aaaaapcd_s001_t000.edf was passed, passed files: 395, read files: 615\n",
      "File aaaaanah_s001_t000.edf was passed, passed files: 396, read files: 615\n",
      "File aaaaanzw_s001_t000.edf was passed, passed files: 397, read files: 615\n"
     ]
    },
    {
     "name": "stderr",
     "output_type": "stream",
     "text": [
      " 76%|██████████████████████████████████████████████████████████████████████████████████████████▏                           | 3552/4647 [27:17<14:51,  1.23it/s]"
     ]
    },
    {
     "name": "stdout",
     "output_type": "stream",
     "text": [
      "File aaaaapat_s001_t000.edf was passed, passed files: 398, read files: 622\n",
      "File aaaaamzs_s001_t000.edf was passed, passed files: 399, read files: 622\n",
      "File aaaaamsh_s001_t000.edf was passed, passed files: 400, read files: 622\n",
      "File aaaaamyj_s001_t000.edf was passed, passed files: 401, read files: 622\n",
      "File aaaaaorb_s001_t000.edf was passed, passed files: 402, read files: 622\n"
     ]
    },
    {
     "name": "stderr",
     "output_type": "stream",
     "text": [
      " 77%|██████████████████████████████████████████████████████████████████████████████████████████▊                           | 3577/4647 [27:28<11:26,  1.56it/s]"
     ]
    },
    {
     "name": "stdout",
     "output_type": "stream",
     "text": [
      "File aaaaaplv_s001_t000.edf was passed, passed files: 403, read files: 626\n"
     ]
    },
    {
     "name": "stderr",
     "output_type": "stream",
     "text": [
      " 77%|███████████████████████████████████████████████████████████████████████████████████████████▎                          | 3596/4647 [27:38<12:21,  1.42it/s]"
     ]
    },
    {
     "name": "stdout",
     "output_type": "stream",
     "text": [
      "File aaaaansg_s001_t000.edf was passed, passed files: 404, read files: 630\n",
      "File aaaaaibr_s005_t000.edf was passed, passed files: 405, read files: 630\n",
      "File aaaaafyj_s002_t000.edf was passed, passed files: 406, read files: 630\n"
     ]
    },
    {
     "name": "stderr",
     "output_type": "stream",
     "text": [
      " 78%|███████████████████████████████████████████████████████████████████████████████████████████▋                          | 3612/4647 [27:43<07:54,  2.18it/s]"
     ]
    },
    {
     "name": "stdout",
     "output_type": "stream",
     "text": [
      "File aaaaapob_s001_t002.edf was passed, passed files: 407, read files: 632\n"
     ]
    },
    {
     "name": "stderr",
     "output_type": "stream",
     "text": [
      " 78%|████████████████████████████████████████████████████████████████████████████████████████████▏                         | 3631/4647 [27:55<10:30,  1.61it/s]"
     ]
    },
    {
     "name": "stdout",
     "output_type": "stream",
     "text": [
      "File aaaaanyj_s001_t000.edf was passed, passed files: 408, read files: 637\n"
     ]
    },
    {
     "name": "stderr",
     "output_type": "stream",
     "text": [
      " 78%|████████████████████████████████████████████████████████████████████████████████████████████▎                         | 3637/4647 [27:57<08:05,  2.08it/s]"
     ]
    },
    {
     "name": "stdout",
     "output_type": "stream",
     "text": [
      "File aaaaamzq_s001_t000.edf was passed, passed files: 409, read files: 638\n"
     ]
    },
    {
     "name": "stderr",
     "output_type": "stream",
     "text": [
      " 79%|████████████████████████████████████████████████████████████████████████████████████████████▋                         | 3649/4647 [28:09<15:21,  1.08it/s]"
     ]
    },
    {
     "name": "stdout",
     "output_type": "stream",
     "text": [
      "File aaaaaawu_s005_t000.edf was passed, passed files: 410, read files: 643\n"
     ]
    },
    {
     "name": "stderr",
     "output_type": "stream",
     "text": [
      " 79%|████████████████████████████████████████████████████████████████████████████████████████████▉                         | 3659/4647 [28:14<11:05,  1.49it/s]"
     ]
    },
    {
     "name": "stdout",
     "output_type": "stream",
     "text": [
      "File aaaaamze_s001_t001.edf was passed, passed files: 411, read files: 645\n"
     ]
    },
    {
     "name": "stderr",
     "output_type": "stream",
     "text": [
      " 79%|█████████████████████████████████████████████████████████████████████████████████████████████▏                        | 3669/4647 [28:17<07:09,  2.28it/s]"
     ]
    },
    {
     "name": "stdout",
     "output_type": "stream",
     "text": [
      "File aaaaapej_s001_t001.edf was passed, passed files: 412, read files: 646\n"
     ]
    },
    {
     "name": "stderr",
     "output_type": "stream",
     "text": [
      " 79%|█████████████████████████████████████████████████████████████████████████████████████████████▏                        | 3672/4647 [28:19<08:11,  1.98it/s]"
     ]
    },
    {
     "name": "stdout",
     "output_type": "stream",
     "text": [
      "File aaaaapde_s001_t000.edf was passed, passed files: 413, read files: 647\n",
      "File aaaaankw_s001_t001.edf was passed, passed files: 414, read files: 647\n"
     ]
    },
    {
     "name": "stderr",
     "output_type": "stream",
     "text": [
      " 79%|█████████████████████████████████████████████████████████████████████████████████████████████▎                        | 3675/4647 [28:22<09:26,  1.72it/s]"
     ]
    },
    {
     "name": "stdout",
     "output_type": "stream",
     "text": [
      "File aaaaanlk_s001_t000.edf was passed, passed files: 415, read files: 648\n"
     ]
    },
    {
     "name": "stderr",
     "output_type": "stream",
     "text": [
      " 79%|█████████████████████████████████████████████████████████████████████████████████████████████▌                        | 3687/4647 [28:27<08:12,  1.95it/s]"
     ]
    },
    {
     "name": "stdout",
     "output_type": "stream",
     "text": [
      "File aaaaaplt_s001_t000.edf was passed, passed files: 416, read files: 650\n"
     ]
    },
    {
     "name": "stderr",
     "output_type": "stream",
     "text": [
      " 80%|█████████████████████████████████████████████████████████████████████████████████████████████▉                        | 3698/4647 [28:32<08:14,  1.92it/s]"
     ]
    },
    {
     "name": "stdout",
     "output_type": "stream",
     "text": [
      "File aaaaantg_s003_t000.edf was passed, passed files: 417, read files: 652\n"
     ]
    },
    {
     "name": "stderr",
     "output_type": "stream",
     "text": [
      " 80%|██████████████████████████████████████████████████████████████████████████████████████████████▏                       | 3708/4647 [28:39<10:11,  1.54it/s]"
     ]
    },
    {
     "name": "stdout",
     "output_type": "stream",
     "text": [
      "File aaaaapvr_s001_t000.edf was passed, passed files: 418, read files: 655\n"
     ]
    },
    {
     "name": "stderr",
     "output_type": "stream",
     "text": [
      " 80%|██████████████████████████████████████████████████████████████████████████████████████████████▌                       | 3725/4647 [28:58<14:46,  1.04it/s]"
     ]
    },
    {
     "name": "stdout",
     "output_type": "stream",
     "text": [
      "File aaaaanbg_s001_t000.edf was passed, passed files: 419, read files: 661\n"
     ]
    },
    {
     "name": "stderr",
     "output_type": "stream",
     "text": [
      " 80%|██████████████████████████████████████████████████████████████████████████████████████████████▊                       | 3732/4647 [29:01<10:02,  1.52it/s]"
     ]
    },
    {
     "name": "stdout",
     "output_type": "stream",
     "text": [
      "File aaaaalvg_s003_t000.edf was passed, passed files: 420, read files: 662\n"
     ]
    },
    {
     "name": "stderr",
     "output_type": "stream",
     "text": [
      " 81%|██████████████████████████████████████████████████████████████████████████████████████████████▉                       | 3741/4647 [29:08<11:35,  1.30it/s]"
     ]
    },
    {
     "name": "stdout",
     "output_type": "stream",
     "text": [
      "File aaaaabhm_s009_t000.edf was passed, passed files: 421, read files: 665\n"
     ]
    },
    {
     "name": "stderr",
     "output_type": "stream",
     "text": [
      " 81%|███████████████████████████████████████████████████████████████████████████████████████████████▏                      | 3750/4647 [29:16<14:23,  1.04it/s]"
     ]
    },
    {
     "name": "stdout",
     "output_type": "stream",
     "text": [
      "File aaaaamni_s001_t000.edf was passed, passed files: 422, read files: 668\n",
      "File aaaaaohh_s001_t000.edf was passed, passed files: 423, read files: 668\n"
     ]
    },
    {
     "name": "stderr",
     "output_type": "stream",
     "text": [
      " 81%|███████████████████████████████████████████████████████████████████████████████████████████████▊                      | 3772/4647 [29:27<09:44,  1.50it/s]"
     ]
    },
    {
     "name": "stdout",
     "output_type": "stream",
     "text": [
      "File aaaaante_s001_t000.edf was passed, passed files: 424, read files: 671\n"
     ]
    },
    {
     "name": "stderr",
     "output_type": "stream",
     "text": [
      " 81%|████████████████████████████████████████████████████████████████████████████████████████████████                      | 3785/4647 [29:30<05:52,  2.45it/s]"
     ]
    },
    {
     "name": "stdout",
     "output_type": "stream",
     "text": [
      "File aaaaapom_s001_t000.edf was passed, passed files: 425, read files: 672\n",
      "File aaaaaoyo_s001_t000.edf was passed, passed files: 426, read files: 672\n",
      "File aaaaamti_s001_t000.edf was passed, passed files: 427, read files: 672\n",
      "File aaaaajdk_s002_t000.edf was passed, passed files: 428, read files: 672\n",
      "File aaaaagwa_s003_t000.edf was passed, passed files: 429, read files: 672\n",
      "File aaaaanmm_s001_t001.edf was passed, passed files: 430, read files: 672\n"
     ]
    },
    {
     "name": "stderr",
     "output_type": "stream",
     "text": [
      " 82%|████████████████████████████████████████████████████████████████████████████████████████████████▊                     | 3813/4647 [29:32<03:01,  4.60it/s]"
     ]
    },
    {
     "name": "stdout",
     "output_type": "stream",
     "text": [
      "File aaaaantx_s001_t000.edf was passed, passed files: 431, read files: 673\n"
     ]
    },
    {
     "name": "stderr",
     "output_type": "stream",
     "text": [
      " 83%|█████████████████████████████████████████████████████████████████████████████████████████████████▍                    | 3839/4647 [29:42<04:36,  2.92it/s]"
     ]
    },
    {
     "name": "stdout",
     "output_type": "stream",
     "text": [
      "File aaaaapdd_s001_t001.edf was passed, passed files: 432, read files: 677\n"
     ]
    },
    {
     "name": "stderr",
     "output_type": "stream",
     "text": [
      " 83%|█████████████████████████████████████████████████████████████████████████████████████████████████▌                    | 3842/4647 [29:48<07:35,  1.77it/s]"
     ]
    },
    {
     "name": "stdout",
     "output_type": "stream",
     "text": [
      "File aaaaaobw_s001_t000.edf was passed, passed files: 433, read files: 678\n",
      "File aaaaamnn_s001_t000.edf was passed, passed files: 434, read files: 678\n",
      "File aaaaanfk_s002_t000.edf was passed, passed files: 435, read files: 678\n"
     ]
    },
    {
     "name": "stderr",
     "output_type": "stream",
     "text": [
      " 83%|█████████████████████████████████████████████████████████████████████████████████████████████████▉                    | 3855/4647 [29:53<06:38,  1.99it/s]"
     ]
    },
    {
     "name": "stdout",
     "output_type": "stream",
     "text": [
      "File aaaaappt_s002_t000.edf was passed, passed files: 436, read files: 680\n"
     ]
    },
    {
     "name": "stderr",
     "output_type": "stream",
     "text": [
      " 83%|██████████████████████████████████████████████████████████████████████████████████████████████████                    | 3863/4647 [30:01<10:24,  1.25it/s]"
     ]
    },
    {
     "name": "stdout",
     "output_type": "stream",
     "text": [
      "File aaaaaoev_s001_t000.edf was passed, passed files: 437, read files: 683\n"
     ]
    },
    {
     "name": "stderr",
     "output_type": "stream",
     "text": [
      " 83%|██████████████████████████████████████████████████████████████████████████████████████████████████▎                   | 3872/4647 [30:05<09:04,  1.42it/s]"
     ]
    },
    {
     "name": "stdout",
     "output_type": "stream",
     "text": [
      "File aaaaaoen_s002_t000.edf was passed, passed files: 438, read files: 685\n",
      "File aaaaaoqu_s001_t000.edf was passed, passed files: 439, read files: 685\n",
      "File aaaaaozk_s001_t000.edf was passed, passed files: 440, read files: 685\n"
     ]
    },
    {
     "name": "stderr",
     "output_type": "stream",
     "text": [
      " 84%|██████████████████████████████████████████████████████████████████████████████████████████████████▋                   | 3886/4647 [30:10<06:38,  1.91it/s]"
     ]
    },
    {
     "name": "stdout",
     "output_type": "stream",
     "text": [
      "File aaaaamyw_s001_t000.edf was passed, passed files: 441, read files: 687\n",
      "File aaaaaddw_s002_t000.edf was passed, passed files: 442, read files: 687\n",
      "File aaaaanvd_s002_t000.edf was passed, passed files: 443, read files: 687\n",
      "File aaaaadmp_s002_t001.edf was passed, passed files: 444, read files: 687\n"
     ]
    },
    {
     "name": "stderr",
     "output_type": "stream",
     "text": [
      " 84%|███████████████████████████████████████████████████████████████████████████████████████████████████▎                  | 3909/4647 [30:15<04:01,  3.05it/s]"
     ]
    },
    {
     "name": "stdout",
     "output_type": "stream",
     "text": [
      "File aaaaaoig_s001_t000.edf was passed, passed files: 445, read files: 689\n"
     ]
    },
    {
     "name": "stderr",
     "output_type": "stream",
     "text": [
      " 84%|███████████████████████████████████████████████████████████████████████████████████████████████████▌                  | 3920/4647 [30:20<04:47,  2.53it/s]"
     ]
    },
    {
     "name": "stdout",
     "output_type": "stream",
     "text": [
      "File aaaaanat_s001_t000.edf was passed, passed files: 446, read files: 691\n"
     ]
    },
    {
     "name": "stderr",
     "output_type": "stream",
     "text": [
      " 85%|███████████████████████████████████████████████████████████████████████████████████████████████████▋                  | 3927/4647 [30:23<04:37,  2.59it/s]"
     ]
    },
    {
     "name": "stdout",
     "output_type": "stream",
     "text": [
      "File aaaaaopl_s001_t000.edf was passed, passed files: 447, read files: 692\n"
     ]
    },
    {
     "name": "stderr",
     "output_type": "stream",
     "text": [
      " 85%|███████████████████████████████████████████████████████████████████████████████████████████████████▊                  | 3931/4647 [30:25<05:09,  2.31it/s]"
     ]
    },
    {
     "name": "stdout",
     "output_type": "stream",
     "text": [
      "File aaaaamcf_s002_t000.edf was passed, passed files: 448, read files: 693\n",
      "File aaaaaoqe_s001_t000.edf was passed, passed files: 449, read files: 693\n",
      "File aaaaantj_s001_t001.edf was passed, passed files: 450, read files: 693\n",
      "File aaaaapiq_s001_t000.edf was passed, passed files: 451, read files: 693\n"
     ]
    },
    {
     "name": "stderr",
     "output_type": "stream",
     "text": [
      " 85%|████████████████████████████████████████████████████████████████████████████████████████████████████▏                 | 3945/4647 [30:33<06:32,  1.79it/s]"
     ]
    },
    {
     "name": "stdout",
     "output_type": "stream",
     "text": [
      "File aaaaahsy_s002_t000.edf was passed, passed files: 452, read files: 696\n",
      "File aaaaapaz_s001_t000.edf was passed, passed files: 453, read files: 696\n",
      "File aaaaapsx_s001_t000.edf was passed, passed files: 454, read files: 696\n"
     ]
    },
    {
     "name": "stderr",
     "output_type": "stream",
     "text": [
      " 85%|████████████████████████████████████████████████████████████████████████████████████████████████████▍                 | 3957/4647 [30:36<04:14,  2.71it/s]"
     ]
    },
    {
     "name": "stdout",
     "output_type": "stream",
     "text": [
      "File aaaaapqu_s001_t000.edf was passed, passed files: 455, read files: 697\n",
      "File aaaaapwt_s001_t000.edf was passed, passed files: 456, read files: 697\n"
     ]
    },
    {
     "name": "stderr",
     "output_type": "stream",
     "text": [
      " 85%|████████████████████████████████████████████████████████████████████████████████████████████████████▌                 | 3962/4647 [30:37<04:05,  2.79it/s]"
     ]
    },
    {
     "name": "stdout",
     "output_type": "stream",
     "text": [
      "File aaaaapce_s001_t001.edf was passed, passed files: 457, read files: 698\n"
     ]
    },
    {
     "name": "stderr",
     "output_type": "stream",
     "text": [
      " 85%|████████████████████████████████████████████████████████████████████████████████████████████████████▊                 | 3972/4647 [30:42<05:10,  2.18it/s]"
     ]
    },
    {
     "name": "stdout",
     "output_type": "stream",
     "text": [
      "File aaaaaoya_s001_t000.edf was passed, passed files: 458, read files: 700\n",
      "File aaaaamog_s001_t000.edf was passed, passed files: 459, read files: 700\n"
     ]
    },
    {
     "name": "stderr",
     "output_type": "stream",
     "text": [
      " 86%|████████████████████████████████████████████████████████████████████████████████████████████████████▉                 | 3976/4647 [30:45<05:35,  2.00it/s]"
     ]
    },
    {
     "name": "stdout",
     "output_type": "stream",
     "text": [
      "File aaaaapcl_s001_t000.edf was passed, passed files: 460, read files: 701\n"
     ]
    },
    {
     "name": "stderr",
     "output_type": "stream",
     "text": [
      " 86%|█████████████████████████████████████████████████████████████████████████████████████████████████████                 | 3981/4647 [30:47<05:38,  1.97it/s]"
     ]
    },
    {
     "name": "stdout",
     "output_type": "stream",
     "text": [
      "File aaaaaozg_s001_t000.edf was passed, passed files: 461, read files: 702\n"
     ]
    },
    {
     "name": "stderr",
     "output_type": "stream",
     "text": [
      " 86%|█████████████████████████████████████████████████████████████████████████████████████████████████████▏                | 3985/4647 [30:50<05:52,  1.88it/s]"
     ]
    },
    {
     "name": "stdout",
     "output_type": "stream",
     "text": [
      "File aaaaaoen_s001_t000.edf was passed, passed files: 462, read files: 703\n",
      "File aaaaancu_s001_t000.edf was passed, passed files: 463, read files: 703\n"
     ]
    },
    {
     "name": "stderr",
     "output_type": "stream",
     "text": [
      " 86%|█████████████████████████████████████████████████████████████████████████████████████████████████████▋                | 4004/4647 [31:09<13:35,  1.27s/it]"
     ]
    },
    {
     "name": "stdout",
     "output_type": "stream",
     "text": [
      "File aaaaaozi_s001_t000.edf was passed, passed files: 464, read files: 709\n"
     ]
    },
    {
     "name": "stderr",
     "output_type": "stream",
     "text": [
      " 86%|█████████████████████████████████████████████████████████████████████████████████████████████████████▊                | 4010/4647 [31:14<11:14,  1.06s/it]"
     ]
    },
    {
     "name": "stdout",
     "output_type": "stream",
     "text": [
      "File aaaaacyc_s003_t000.edf was passed, passed files: 465, read files: 711\n",
      "File aaaaapfj_s001_t000.edf was passed, passed files: 466, read files: 711\n"
     ]
    },
    {
     "name": "stderr",
     "output_type": "stream",
     "text": [
      " 87%|██████████████████████████████████████████████████████████████████████████████████████████████████████▏               | 4022/4647 [31:22<08:47,  1.18it/s]"
     ]
    },
    {
     "name": "stdout",
     "output_type": "stream",
     "text": [
      "File aaaaamnj_s001_t000.edf was passed, passed files: 467, read files: 713\n"
     ]
    },
    {
     "name": "stderr",
     "output_type": "stream",
     "text": [
      " 87%|██████████████████████████████████████████████████████████████████████████████████████████████████████▍               | 4032/4647 [31:27<07:00,  1.46it/s]"
     ]
    },
    {
     "name": "stdout",
     "output_type": "stream",
     "text": [
      "File aaaaapqc_s001_t000.edf was passed, passed files: 468, read files: 715\n",
      "File aaaaapkb_s001_t000.edf was passed, passed files: 469, read files: 715\n"
     ]
    },
    {
     "name": "stderr",
     "output_type": "stream",
     "text": [
      " 87%|██████████████████████████████████████████████████████████████████████████████████████████████████████▌               | 4040/4647 [31:30<05:22,  1.88it/s]"
     ]
    },
    {
     "name": "stdout",
     "output_type": "stream",
     "text": [
      "File aaaaanfo_s001_t000.edf was passed, passed files: 470, read files: 716\n"
     ]
    },
    {
     "name": "stderr",
     "output_type": "stream",
     "text": [
      " 87%|██████████████████████████████████████████████████████████████████████████████████████████████████████▉               | 4056/4647 [31:42<08:01,  1.23it/s]"
     ]
    },
    {
     "name": "stdout",
     "output_type": "stream",
     "text": [
      "File aaaaanmr_s002_t000.edf was passed, passed files: 471, read files: 721\n"
     ]
    },
    {
     "name": "stderr",
     "output_type": "stream",
     "text": [
      " 87%|███████████████████████████████████████████████████████████████████████████████████████████████████████▏              | 4065/4647 [31:44<05:00,  1.94it/s]"
     ]
    },
    {
     "name": "stdout",
     "output_type": "stream",
     "text": [
      "File aaaaanfq_s001_t000.edf was passed, passed files: 472, read files: 722\n",
      "File aaaaamcu_s003_t001.edf was passed, passed files: 473, read files: 722\n"
     ]
    },
    {
     "name": "stderr",
     "output_type": "stream",
     "text": [
      " 88%|███████████████████████████████████████████████████████████████████████████████████████████████████████▍              | 4073/4647 [31:49<05:58,  1.60it/s]"
     ]
    },
    {
     "name": "stdout",
     "output_type": "stream",
     "text": [
      "File aaaaapok_s001_t001.edf was passed, passed files: 474, read files: 724\n",
      "File aaaaagza_s003_t001.edf was passed, passed files: 475, read files: 724\n",
      "File aaaaamnz_s001_t000.edf was passed, passed files: 476, read files: 724\n"
     ]
    },
    {
     "name": "stderr",
     "output_type": "stream",
     "text": [
      " 88%|███████████████████████████████████████████████████████████████████████████████████████████████████████▊              | 4088/4647 [31:54<04:04,  2.29it/s]"
     ]
    },
    {
     "name": "stdout",
     "output_type": "stream",
     "text": [
      "File aaaaamoc_s003_t000.edf was passed, passed files: 477, read files: 726\n"
     ]
    },
    {
     "name": "stderr",
     "output_type": "stream",
     "text": [
      " 88%|████████████████████████████████████████████████████████████████████████████████████████████████████████              | 4099/4647 [32:00<04:19,  2.11it/s]"
     ]
    },
    {
     "name": "stdout",
     "output_type": "stream",
     "text": [
      "File aaaaanoi_s001_t000.edf was passed, passed files: 478, read files: 728\n",
      "File aaaaafee_s002_t000.edf was passed, passed files: 479, read files: 728\n"
     ]
    },
    {
     "name": "stderr",
     "output_type": "stream",
     "text": [
      " 88%|████████████████████████████████████████████████████████████████████████████████████████████████████████▍             | 4112/4647 [32:02<02:55,  3.04it/s]"
     ]
    },
    {
     "name": "stdout",
     "output_type": "stream",
     "text": [
      "File aaaaapfd_s001_t001.edf was passed, passed files: 480, read files: 729\n"
     ]
    },
    {
     "name": "stderr",
     "output_type": "stream",
     "text": [
      " 89%|████████████████████████████████████████████████████████████████████████████████████████████████████████▌             | 4120/4647 [32:04<02:48,  3.13it/s]"
     ]
    },
    {
     "name": "stdout",
     "output_type": "stream",
     "text": [
      "File aaaaabjt_s005_t000.edf was passed, passed files: 481, read files: 730\n"
     ]
    },
    {
     "name": "stderr",
     "output_type": "stream",
     "text": [
      " 89%|████████████████████████████████████████████████████████████████████████████████████████████████████████▋             | 4123/4647 [32:07<03:35,  2.44it/s]"
     ]
    },
    {
     "name": "stdout",
     "output_type": "stream",
     "text": [
      "File aaaaalsz_s003_t000.edf was passed, passed files: 482, read files: 731\n",
      "File aaaaanby_s001_t001.edf was passed, passed files: 483, read files: 731\n",
      "File aaaaapku_s001_t000.edf was passed, passed files: 484, read files: 731\n"
     ]
    },
    {
     "name": "stderr",
     "output_type": "stream",
     "text": [
      " 89%|█████████████████████████████████████████████████████████████████████████████████████████████████████████▍            | 4152/4647 [32:19<05:27,  1.51it/s]"
     ]
    },
    {
     "name": "stdout",
     "output_type": "stream",
     "text": [
      "File aaaaapri_s001_t000.edf was passed, passed files: 485, read files: 736\n"
     ]
    },
    {
     "name": "stderr",
     "output_type": "stream",
     "text": [
      " 89%|█████████████████████████████████████████████████████████████████████████████████████████████████████████▌            | 4156/4647 [32:22<05:12,  1.57it/s]"
     ]
    },
    {
     "name": "stdout",
     "output_type": "stream",
     "text": [
      "File aaaaapxk_s001_t000.edf was passed, passed files: 486, read files: 737\n",
      "File aaaaapay_s002_t000.edf was passed, passed files: 487, read files: 737\n",
      "File aaaaapvj_s001_t001.edf was passed, passed files: 488, read files: 737\n",
      "File aaaaandt_s001_t000.edf was passed, passed files: 489, read files: 737\n"
     ]
    },
    {
     "name": "stderr",
     "output_type": "stream",
     "text": [
      " 90%|██████████████████████████████████████████████████████████████████████████████████████████████████████████            | 4177/4647 [32:24<02:07,  3.69it/s]"
     ]
    },
    {
     "name": "stdout",
     "output_type": "stream",
     "text": [
      "File aaaaalzz_s002_t000.edf was passed, passed files: 490, read files: 738\n"
     ]
    },
    {
     "name": "stderr",
     "output_type": "stream",
     "text": [
      " 90%|██████████████████████████████████████████████████████████████████████████████████████████████████████████▎           | 4189/4647 [32:27<01:52,  4.06it/s]"
     ]
    },
    {
     "name": "stdout",
     "output_type": "stream",
     "text": [
      "File aaaaapiy_s001_t001.edf was passed, passed files: 491, read files: 739\n",
      "File aaaaakth_s002_t002.edf was passed, passed files: 492, read files: 739\n"
     ]
    },
    {
     "name": "stderr",
     "output_type": "stream",
     "text": [
      " 90%|██████████████████████████████████████████████████████████████████████████████████████████████████████████▍           | 4194/4647 [32:29<02:10,  3.47it/s]"
     ]
    },
    {
     "name": "stdout",
     "output_type": "stream",
     "text": [
      "File aaaaanvy_s001_t001.edf was passed, passed files: 493, read files: 740\n"
     ]
    },
    {
     "name": "stderr",
     "output_type": "stream",
     "text": [
      " 91%|██████████████████████████████████████████████████████████████████████████████████████████████████████████▉           | 4210/4647 [32:39<03:51,  1.89it/s]"
     ]
    },
    {
     "name": "stdout",
     "output_type": "stream",
     "text": [
      "File aaaaamzv_s001_t000.edf was passed, passed files: 494, read files: 744\n",
      "File aaaaankq_s001_t000.edf was passed, passed files: 495, read files: 744\n"
     ]
    },
    {
     "name": "stderr",
     "output_type": "stream",
     "text": [
      " 92%|████████████████████████████████████████████████████████████████████████████████████████████████████████████          | 4255/4647 [33:11<06:30,  1.00it/s]"
     ]
    },
    {
     "name": "stdout",
     "output_type": "stream",
     "text": [
      "File aaaaaoqp_s001_t000.edf was passed, passed files: 496, read files: 756\n",
      "File aaaaapbg_s001_t000.edf was passed, passed files: 497, read files: 756\n",
      "File aaaaaoyb_s001_t001.edf was passed, passed files: 498, read files: 756\n",
      "File aaaaapcn_s001_t000.edf was passed, passed files: 499, read files: 756\n",
      "File aaaaaoxi_s001_t000.edf was passed, passed files: 500, read files: 756\n"
     ]
    },
    {
     "name": "stderr",
     "output_type": "stream",
     "text": [
      " 92%|████████████████████████████████████████████████████████████████████████████████████████████████████████████▍         | 4272/4647 [33:16<03:05,  2.02it/s]"
     ]
    },
    {
     "name": "stdout",
     "output_type": "stream",
     "text": [
      "File aaaaaors_s001_t001.edf was passed, passed files: 501, read files: 758\n"
     ]
    },
    {
     "name": "stderr",
     "output_type": "stream",
     "text": [
      " 92%|████████████████████████████████████████████████████████████████████████████████████████████████████████████▌         | 4277/4647 [33:24<05:52,  1.05it/s]"
     ]
    },
    {
     "name": "stdout",
     "output_type": "stream",
     "text": [
      "File aaaaapim_s001_t000.edf was passed, passed files: 502, read files: 761\n",
      "File aaaaaenj_s002_t002.edf was passed, passed files: 503, read files: 761\n",
      "File aaaaanbw_s002_t000.edf was passed, passed files: 504, read files: 761\n"
     ]
    },
    {
     "name": "stderr",
     "output_type": "stream",
     "text": [
      " 92%|████████████████████████████████████████████████████████████████████████████████████████████████████████████▊         | 4285/4647 [33:27<03:36,  1.67it/s]"
     ]
    },
    {
     "name": "stdout",
     "output_type": "stream",
     "text": [
      "File aaaaaocs_s001_t000.edf was passed, passed files: 505, read files: 762\n",
      "File aaaaajqr_s002_t000.edf was passed, passed files: 506, read files: 762\n",
      "File aaaaapig_s001_t000.edf was passed, passed files: 507, read files: 762\n"
     ]
    },
    {
     "name": "stderr",
     "output_type": "stream",
     "text": [
      " 93%|█████████████████████████████████████████████████████████████████████████████████████████████████████████████▏        | 4302/4647 [33:45<08:09,  1.42s/it]"
     ]
    },
    {
     "name": "stdout",
     "output_type": "stream",
     "text": [
      "File aaaaamzc_s001_t000.edf was passed, passed files: 508, read files: 770\n",
      "File aaaaappf_s001_t000.edf was passed, passed files: 509, read files: 770\n"
     ]
    },
    {
     "name": "stderr",
     "output_type": "stream",
     "text": [
      " 93%|█████████████████████████████████████████████████████████████████████████████████████████████████████████████▊        | 4327/4647 [33:55<02:52,  1.85it/s]"
     ]
    },
    {
     "name": "stdout",
     "output_type": "stream",
     "text": [
      "File aaaaahjk_s002_t001.edf was passed, passed files: 510, read files: 774\n"
     ]
    },
    {
     "name": "stderr",
     "output_type": "stream",
     "text": [
      " 93%|██████████████████████████████████████████████████████████████████████████████████████████████████████████████▏       | 4337/4647 [33:58<02:02,  2.52it/s]"
     ]
    },
    {
     "name": "stdout",
     "output_type": "stream",
     "text": [
      "File aaaaapvh_s001_t001.edf was passed, passed files: 511, read files: 775\n",
      "File aaaaapul_s001_t000.edf was passed, passed files: 512, read files: 775\n"
     ]
    },
    {
     "name": "stderr",
     "output_type": "stream",
     "text": [
      " 93%|██████████████████████████████████████████████████████████████████████████████████████████████████████████████▎       | 4343/4647 [34:00<02:02,  2.48it/s]"
     ]
    },
    {
     "name": "stdout",
     "output_type": "stream",
     "text": [
      "File aaaaakiq_s003_t000.edf was passed, passed files: 513, read files: 776\n"
     ]
    },
    {
     "name": "stderr",
     "output_type": "stream",
     "text": [
      " 94%|██████████████████████████████████████████████████████████████████████████████████████████████████████████████▌       | 4355/4647 [34:21<07:23,  1.52s/it]"
     ]
    },
    {
     "name": "stdout",
     "output_type": "stream",
     "text": [
      "File aaaaagwc_s002_t001.edf was passed, passed files: 514, read files: 781\n"
     ]
    },
    {
     "name": "stderr",
     "output_type": "stream",
     "text": [
      " 94%|██████████████████████████████████████████████████████████████████████████████████████████████████████████████▊       | 4366/4647 [34:29<04:37,  1.01it/s]"
     ]
    },
    {
     "name": "stdout",
     "output_type": "stream",
     "text": [
      "File aaaaaosq_s001_t000.edf was passed, passed files: 515, read files: 784\n"
     ]
    },
    {
     "name": "stderr",
     "output_type": "stream",
     "text": [
      " 94%|███████████████████████████████████████████████████████████████████████████████████████████████████████████████       | 4372/4647 [34:32<03:28,  1.32it/s]"
     ]
    },
    {
     "name": "stdout",
     "output_type": "stream",
     "text": [
      "File aaaaancd_s001_t001.edf was passed, passed files: 516, read files: 785\n"
     ]
    },
    {
     "name": "stderr",
     "output_type": "stream",
     "text": [
      " 94%|███████████████████████████████████████████████████████████████████████████████████████████████████████████████▏      | 4377/4647 [34:35<03:00,  1.50it/s]"
     ]
    },
    {
     "name": "stdout",
     "output_type": "stream",
     "text": [
      "File aaaaanzs_s002_t000.edf was passed, passed files: 517, read files: 786\n"
     ]
    },
    {
     "name": "stderr",
     "output_type": "stream",
     "text": [
      " 94%|███████████████████████████████████████████████████████████████████████████████████████████████████████████████▏      | 4380/4647 [34:38<03:22,  1.32it/s]"
     ]
    },
    {
     "name": "stdout",
     "output_type": "stream",
     "text": [
      "File aaaaahxr_s002_t000.edf was passed, passed files: 518, read files: 787\n"
     ]
    },
    {
     "name": "stderr",
     "output_type": "stream",
     "text": [
      " 94%|███████████████████████████████████████████████████████████████████████████████████████████████████████████████▎      | 4385/4647 [34:42<03:19,  1.31it/s]"
     ]
    },
    {
     "name": "stdout",
     "output_type": "stream",
     "text": [
      "File aaaaansq_s001_t000.edf was passed, passed files: 519, read files: 788\n",
      "File aaaaamtn_s001_t000.edf was passed, passed files: 520, read files: 788\n"
     ]
    },
    {
     "name": "stderr",
     "output_type": "stream",
     "text": [
      " 95%|████████████████████████████████████████████████████████████████████████████████████████████████████████████████▌     | 4431/4647 [35:04<02:06,  1.71it/s]"
     ]
    },
    {
     "name": "stdout",
     "output_type": "stream",
     "text": [
      "File aaaaaeki_s002_t000.edf was passed, passed files: 521, read files: 795\n"
     ]
    },
    {
     "name": "stderr",
     "output_type": "stream",
     "text": [
      " 96%|████████████████████████████████████████████████████████████████████████████████████████████████████████████████▊     | 4445/4647 [35:10<01:38,  2.05it/s]"
     ]
    },
    {
     "name": "stdout",
     "output_type": "stream",
     "text": [
      "File aaaaappl_s001_t002.edf was passed, passed files: 522, read files: 797\n",
      "File aaaaamsf_s001_t000.edf was passed, passed files: 523, read files: 797\n",
      "File aaaaalxx_s002_t000.edf was passed, passed files: 524, read files: 797\n"
     ]
    },
    {
     "name": "stderr",
     "output_type": "stream",
     "text": [
      " 96%|█████████████████████████████████████████████████████████████████████████████████████████████████████████████████▌    | 4470/4647 [35:12<00:40,  4.35it/s]"
     ]
    },
    {
     "name": "stdout",
     "output_type": "stream",
     "text": [
      "File aaaaamsw_s003_t000.edf was passed, passed files: 525, read files: 798\n"
     ]
    },
    {
     "name": "stderr",
     "output_type": "stream",
     "text": [
      " 96%|█████████████████████████████████████████████████████████████████████████████████████████████████████████████████▌    | 4472/4647 [35:15<00:53,  3.27it/s]"
     ]
    },
    {
     "name": "stdout",
     "output_type": "stream",
     "text": [
      "File aaaaamwi_s001_t000.edf was passed, passed files: 526, read files: 799\n",
      "File aaaaaoyu_s001_t000.edf was passed, passed files: 527, read files: 799\n"
     ]
    },
    {
     "name": "stderr",
     "output_type": "stream",
     "text": [
      " 97%|█████████████████████████████████████████████████████████████████████████████████████████████████████████████████▉    | 4489/4647 [35:17<00:37,  4.16it/s]"
     ]
    },
    {
     "name": "stdout",
     "output_type": "stream",
     "text": [
      "File aaaaanln_s001_t000.edf was passed, passed files: 528, read files: 800\n"
     ]
    },
    {
     "name": "stderr",
     "output_type": "stream",
     "text": [
      " 97%|██████████████████████████████████████████████████████████████████████████████████████████████████████████████████    | 4491/4647 [35:20<00:48,  3.24it/s]"
     ]
    },
    {
     "name": "stdout",
     "output_type": "stream",
     "text": [
      "File aaaaaozm_s001_t000.edf was passed, passed files: 529, read files: 801\n",
      "File aaaaaedn_s006_t000.edf was passed, passed files: 530, read files: 801\n",
      "File aaaaanez_s001_t000.edf was passed, passed files: 531, read files: 801\n"
     ]
    },
    {
     "name": "stderr",
     "output_type": "stream",
     "text": [
      " 97%|██████████████████████████████████████████████████████████████████████████████████████████████████████████████████▍   | 4509/4647 [35:27<00:58,  2.37it/s]"
     ]
    },
    {
     "name": "stdout",
     "output_type": "stream",
     "text": [
      "File aaaaamsx_s001_t000.edf was passed, passed files: 532, read files: 804\n"
     ]
    },
    {
     "name": "stderr",
     "output_type": "stream",
     "text": [
      " 97%|██████████████████████████████████████████████████████████████████████████████████████████████████████████████████▌   | 4512/4647 [35:30<01:07,  2.01it/s]"
     ]
    },
    {
     "name": "stdout",
     "output_type": "stream",
     "text": [
      "File aaaaangg_s001_t001.edf was passed, passed files: 533, read files: 805\n"
     ]
    },
    {
     "name": "stderr",
     "output_type": "stream",
     "text": [
      " 97%|██████████████████████████████████████████████████████████████████████████████████████████████████████████████████▋   | 4515/4647 [35:33<01:15,  1.75it/s]"
     ]
    },
    {
     "name": "stdout",
     "output_type": "stream",
     "text": [
      "File aaaaapbi_s001_t000.edf was passed, passed files: 534, read files: 806\n",
      "File aaaaands_s002_t000.edf was passed, passed files: 535, read files: 806\n"
     ]
    },
    {
     "name": "stderr",
     "output_type": "stream",
     "text": [
      " 97%|██████████████████████████████████████████████████████████████████████████████████████████████████████████████████▊   | 4523/4647 [35:35<00:58,  2.13it/s]"
     ]
    },
    {
     "name": "stdout",
     "output_type": "stream",
     "text": [
      "File aaaaaopm_s001_t000.edf was passed, passed files: 536, read files: 807\n",
      "File aaaaaoah_s001_t000.edf was passed, passed files: 537, read files: 807\n"
     ]
    },
    {
     "name": "stderr",
     "output_type": "stream",
     "text": [
      " 98%|███████████████████████████████████████████████████████████████████████████████████████████████████████████████████▏  | 4534/4647 [35:38<00:40,  2.82it/s]"
     ]
    },
    {
     "name": "stdout",
     "output_type": "stream",
     "text": [
      "File aaaaamti_s002_t000.edf was passed, passed files: 538, read files: 808\n"
     ]
    },
    {
     "name": "stderr",
     "output_type": "stream",
     "text": [
      " 98%|███████████████████████████████████████████████████████████████████████████████████████████████████████████████████▌  | 4549/4647 [35:40<00:26,  3.70it/s]"
     ]
    },
    {
     "name": "stdout",
     "output_type": "stream",
     "text": [
      "File aaaaakhy_s002_t000.edf was passed, passed files: 539, read files: 809\n",
      "File aaaaanyy_s001_t000.edf was passed, passed files: 540, read files: 809\n",
      "File aaaaaodb_s002_t000.edf was passed, passed files: 541, read files: 809\n"
     ]
    },
    {
     "name": "stderr",
     "output_type": "stream",
     "text": [
      " 98%|███████████████████████████████████████████████████████████████████████████████████████████████████████████████████▊  | 4559/4647 [35:43<00:23,  3.80it/s]"
     ]
    },
    {
     "name": "stdout",
     "output_type": "stream",
     "text": [
      "File aaaaakbi_s002_t000.edf was passed, passed files: 542, read files: 810\n"
     ]
    },
    {
     "name": "stderr",
     "output_type": "stream",
     "text": [
      " 98%|███████████████████████████████████████████████████████████████████████████████████████████████████████████████████▉  | 4567/4647 [35:45<00:21,  3.67it/s]"
     ]
    },
    {
     "name": "stdout",
     "output_type": "stream",
     "text": [
      "File aaaaanci_s001_t000.edf was passed, passed files: 543, read files: 811\n",
      "File aaaaapdk_s001_t000.edf was passed, passed files: 544, read files: 811\n",
      "File aaaaaomj_s001_t000.edf was passed, passed files: 545, read files: 811\n"
     ]
    },
    {
     "name": "stderr",
     "output_type": "stream",
     "text": [
      " 99%|████████████████████████████████████████████████████████████████████████████████████████████████████████████████████▍ | 4586/4647 [35:50<00:17,  3.58it/s]"
     ]
    },
    {
     "name": "stdout",
     "output_type": "stream",
     "text": [
      "File aaaaankg_s001_t002.edf was passed, passed files: 546, read files: 813\n",
      "File aaaaaoyh_s001_t000.edf was passed, passed files: 547, read files: 813\n"
     ]
    },
    {
     "name": "stderr",
     "output_type": "stream",
     "text": [
      " 99%|█████████████████████████████████████████████████████████████████████████████████████████████████████████████████████ | 4610/4647 [35:56<00:10,  3.40it/s]"
     ]
    },
    {
     "name": "stdout",
     "output_type": "stream",
     "text": [
      "File aaaaapoj_s001_t000.edf was passed, passed files: 548, read files: 816\n"
     ]
    },
    {
     "name": "stderr",
     "output_type": "stream",
     "text": [
      "100%|██████████████████████████████████████████████████████████████████████████████████████████████████████████████████████| 4647/4647 [36:01<00:00,  2.15it/s]\n"
     ]
    },
    {
     "name": "stdout",
     "output_type": "stream",
     "text": [
      "File aaaaapww_s001_t000.edf was passed, passed files: 549, read files: 818\n",
      "File aaaaanvo_s001_t000.edf was passed, passed files: 550, read files: 818\n",
      "File aaaaaojl_s001_t001.edf was passed, passed files: 551, read files: 818\n",
      "File aaaaaolx_s001_t000.edf was passed, passed files: 552, read files: 818\n",
      "File aaaaamwt_s001_t000.edf was passed, passed files: 553, read files: 818\n",
      "Read files: 818, passed files: 553\n"
     ]
    },
    {
     "name": "stderr",
     "output_type": "stream",
     "text": [
      "  6%|███████▍                                                                                                                 | 39/634 [00:17<04:34,  2.17it/s]"
     ]
    },
    {
     "name": "stdout",
     "output_type": "stream",
     "text": [
      "File aaaaamuc_s001_t000.edf was passed, passed files: 1, read files: 7\n"
     ]
    },
    {
     "name": "stderr",
     "output_type": "stream",
     "text": [
      "  7%|████████▏                                                                                                                | 43/634 [00:19<04:51,  2.03it/s]"
     ]
    },
    {
     "name": "stdout",
     "output_type": "stream",
     "text": [
      "File aaaaaphw_s001_t000.edf was passed, passed files: 2, read files: 8\n"
     ]
    },
    {
     "name": "stderr",
     "output_type": "stream",
     "text": [
      " 14%|████████████████▌                                                                                                        | 87/634 [00:48<06:03,  1.50it/s]"
     ]
    },
    {
     "name": "stdout",
     "output_type": "stream",
     "text": [
      "File aaaaapoo_s001_t000.edf was passed, passed files: 3, read files: 20\n",
      "File aaaaapoq_s001_t000.edf was passed, passed files: 4, read files: 20\n"
     ]
    },
    {
     "name": "stderr",
     "output_type": "stream",
     "text": [
      " 19%|██████████████████████▎                                                                                                 | 118/634 [00:55<03:05,  2.79it/s]"
     ]
    },
    {
     "name": "stdout",
     "output_type": "stream",
     "text": [
      "File aaaaaozf_s001_t001.edf was passed, passed files: 5, read files: 23\n"
     ]
    },
    {
     "name": "stderr",
     "output_type": "stream",
     "text": [
      " 21%|█████████████████████████▋                                                                                              | 136/634 [01:07<05:02,  1.65it/s]"
     ]
    },
    {
     "name": "stdout",
     "output_type": "stream",
     "text": [
      "File aaaaangp_s001_t000.edf was passed, passed files: 6, read files: 28\n",
      "File aaaaanvw_s001_t000.edf was passed, passed files: 7, read files: 28\n"
     ]
    },
    {
     "name": "stderr",
     "output_type": "stream",
     "text": [
      " 25%|█████████████████████████████▋                                                                                          | 157/634 [01:14<03:46,  2.11it/s]"
     ]
    },
    {
     "name": "stdout",
     "output_type": "stream",
     "text": [
      "File aaaaapdg_s001_t000.edf was passed, passed files: 8, read files: 31\n"
     ]
    },
    {
     "name": "stderr",
     "output_type": "stream",
     "text": [
      " 29%|██████████████████████████████████▊                                                                                     | 184/634 [01:21<02:33,  2.93it/s]"
     ]
    },
    {
     "name": "stdout",
     "output_type": "stream",
     "text": [
      "File aaaaaobl_s001_t000.edf was passed, passed files: 9, read files: 34\n"
     ]
    },
    {
     "name": "stderr",
     "output_type": "stream",
     "text": [
      " 40%|███████████████████████████████████████████████▌                                                                        | 251/634 [01:51<04:41,  1.36it/s]"
     ]
    },
    {
     "name": "stdout",
     "output_type": "stream",
     "text": [
      "File aaaaapxm_s001_t001.edf was passed, passed files: 10, read files: 45\n"
     ]
    },
    {
     "name": "stderr",
     "output_type": "stream",
     "text": [
      " 42%|██████████████████████████████████████████████████▉                                                                     | 269/634 [02:06<05:22,  1.13it/s]"
     ]
    },
    {
     "name": "stdout",
     "output_type": "stream",
     "text": [
      "File aaaaapcb_s001_t000.edf was passed, passed files: 11, read files: 51\n"
     ]
    },
    {
     "name": "stderr",
     "output_type": "stream",
     "text": [
      " 48%|█████████████████████████████████████████████████████████▎                                                              | 303/634 [02:28<03:51,  1.43it/s]"
     ]
    },
    {
     "name": "stdout",
     "output_type": "stream",
     "text": [
      "File aaaaaosw_s001_t000.edf was passed, passed files: 12, read files: 59\n"
     ]
    },
    {
     "name": "stderr",
     "output_type": "stream",
     "text": [
      " 54%|████████████████████████████████████████████████████████████████▌                                                       | 341/634 [02:51<03:29,  1.40it/s]"
     ]
    },
    {
     "name": "stdout",
     "output_type": "stream",
     "text": [
      "File aaaaanbq_s001_t000.edf was passed, passed files: 13, read files: 67\n",
      "File aaaaappb_s001_t000.edf was passed, passed files: 14, read files: 67\n",
      "File aaaaapqv_s001_t000.edf was passed, passed files: 15, read files: 67\n"
     ]
    },
    {
     "name": "stderr",
     "output_type": "stream",
     "text": [
      " 59%|██████████████████████████████████████████████████████████████████████▉                                                 | 375/634 [03:03<02:10,  1.99it/s]"
     ]
    },
    {
     "name": "stdout",
     "output_type": "stream",
     "text": [
      "File aaaaapof_s001_t000.edf was passed, passed files: 16, read files: 72\n"
     ]
    }
   ],
   "source": [
    "#preprocess\n",
    "for n_secs in [1, 2, 4, 5, 10, 15, 30, 60]:\n",
    "    picked_channels = ['EEG FZ-REF', 'EEG CZ-REF', 'EEG PZ-REF']\n",
    "    target_freq = 128\n",
    "    n_samples_per_chunk=target_freq*n_secs\n",
    "    \n",
    "    chunks_file_name = f\"chunks_fz_cz_pz_{len(picked_channels)}x{n_samples_per_chunk}\"\n",
    "    targets_file_name = f\"targets_fz_cz_pz_{len(picked_channels)}x{n_samples_per_chunk}\"\n",
    "\n",
    "    remove_files(TUAB_TRAIN, [chunks_file_name, targets_file_name])\n",
    "    remove_files(TUAB_EVAL, [chunks_file_name, targets_file_name]) \n",
    "    \n",
    "    preprocessTUABdata(\n",
    "        picked_channels, \n",
    "        chunks_file_name, \n",
    "        targets_file_name, \n",
    "        TUAB_TRAIN, \n",
    "        TUAB_EVAL, \n",
    "    \n",
    "        target_freq=target_freq,\n",
    "        n_samples_per_chunk=n_samples_per_chunk,\n",
    "        \n",
    "        force_recompute=True,\n",
    "        is_save=True,\n",
    "        n_files=None,\n",
    "        n_chunks_max=None,\n",
    "    )\n",
    "    \n",
    "    dataset = getTUABdataset(\n",
    "        TUAB_TRAIN, \n",
    "        TUAB_EVAL, \n",
    "        chunks_file_name, \n",
    "        targets_file_name,\n",
    "        \n",
    "        n_channels=len(picked_channels),\n",
    "        n_samples_per_chunk=n_samples_per_chunk,\n",
    "        test_size=0.5,\n",
    "        SEED=SEED,\n",
    "    )\n",
    "    \n",
    "    save_preprocessed_data(\n",
    "        dataset, \n",
    "        os.path.join(TUAB_DIRECTORY, f\"dataset_{target_freq}_{n_samples_per_chunk/target_freq:.1f}.pkl\")\n",
    "    )"
   ]
  },
  {
   "cell_type": "markdown",
   "id": "1c3e98ca-cb58-4789-93b2-2ede73c27016",
   "metadata": {
    "papermill": {
     "duration": 0.233809,
     "end_time": "2023-12-09T21:36:48.658001",
     "exception": false,
     "start_time": "2023-12-09T21:36:48.424192",
     "status": "completed"
    },
    "tags": []
   },
   "source": [
    "### Depression anonymized"
   ]
  },
  {
   "cell_type": "code",
   "execution_count": null,
   "id": "3a636e8c",
   "metadata": {
    "papermill": {
     "duration": 0.243968,
     "end_time": "2023-12-09T21:36:49.644411",
     "exception": false,
     "start_time": "2023-12-09T21:36:49.400443",
     "status": "completed"
    },
    "tags": []
   },
   "outputs": [],
   "source": [
    "# epoch_folders = [\"epoch_1/\", \"epoch_3/\"]\n",
    "# picked_channels = [\"fz\", \"cz\", \"pz\"]\n",
    "# source_freq = 125\n",
    "# target_freq = 128\n",
    "# n_samples_per_chunk = target_freq*5\n",
    "\n",
    "# chunks_list = preprocessDepressionAnonymizedData(\n",
    "#     DEPR_ANON_DIRECTORY, \n",
    "#     epoch_folders, \n",
    "#     picked_channels,\n",
    "#     target_freq = target_freq,\n",
    "#     n_samples_per_chunk = n_samples_per_chunk\n",
    "# )\n",
    "# save_preprocessed_data(chunks_list, DEPR_ANON_DIRECTORY + f\"dataset_{target_freq}_{n_samples_per_chunk/target_freq:.1f}.pkl\")"
   ]
  },
  {
   "cell_type": "markdown",
   "id": "4cd5c6b4-79b1-4a73-a0a4-9dca6e3c82d1",
   "metadata": {
    "papermill": {
     "duration": 0.234752,
     "end_time": "2023-12-09T21:36:50.595065",
     "exception": false,
     "start_time": "2023-12-09T21:36:50.360313",
     "status": "completed"
    },
    "tags": []
   },
   "source": [
    "### Inhouse dataset"
   ]
  },
  {
   "cell_type": "code",
   "execution_count": null,
   "id": "9d275623-a0c5-4ed2-9444-dae0883581f5",
   "metadata": {
    "papermill": {
     "duration": 0.249019,
     "end_time": "2023-12-09T21:36:51.564406",
     "exception": false,
     "start_time": "2023-12-09T21:36:51.315387",
     "status": "completed"
    },
    "tags": []
   },
   "outputs": [],
   "source": [
    "# for n_secs in [1, 2, 4, 5, 10, 15, 30, 60]:\n",
    "#     data_folders = [\"MDD\", \"Health\"]\n",
    "#     picked_channels = [\"Fz\", \"Cz\", \"Pz\"]\n",
    "#     source_freq = 500\n",
    "#     target_freq = 128\n",
    "#     n_samples_per_chunk = target_freq*n_secs\n",
    "    \n",
    "#     chunks_list = preprocessInhouseDatasetData(\n",
    "#         INHOUSE_DIRECTORY, \n",
    "#         data_folders, \n",
    "#         picked_channels,\n",
    "#         source_freq = source_freq,\n",
    "#         target_freq = target_freq,\n",
    "#         n_samples_per_chunk = n_samples_per_chunk\n",
    "#     )\n",
    "#     save_preprocessed_data(chunks_list, INHOUSE_DIRECTORY + f\"dataset_{target_freq}_{n_samples_per_chunk/target_freq:.1f}.pkl\")"
   ]
  },
  {
   "cell_type": "markdown",
   "id": "f0ef479c-7e50-494b-ad92-f272991392f3",
   "metadata": {
    "id": "UPjIv86UpFLV",
    "papermill": {
     "duration": 0.235318,
     "end_time": "2023-12-09T21:36:52.519049",
     "exception": false,
     "start_time": "2023-12-09T21:36:52.283731",
     "status": "completed"
    },
    "tags": []
   },
   "source": [
    "# Data load\n"
   ]
  },
  {
   "cell_type": "code",
   "execution_count": null,
   "id": "dbcda87c-cda1-4843-8101-e85076536429",
   "metadata": {
    "papermill": {
     "duration": 0.247149,
     "end_time": "2023-12-09T21:36:56.413948",
     "exception": false,
     "start_time": "2023-12-09T21:36:56.166799",
     "status": "completed"
    },
    "tags": []
   },
   "outputs": [],
   "source": [
    "# file = DEPR_ANON_DIRECTORY + \"dataset_128_10.0.pkl\"\n",
    "# train_set, val_set, test_set = DataReader(file, dataset_type=\"depression_anonymized\").split()\n",
    "\n",
    "file = TUAB_DIRECTORY + \"dataset_128_1.0.pkl\"\n",
    "train_set, val_set, test_set = DataReader(file, dataset_type=\"TUAB\").split()\n",
    "\n",
    "# file = INHOUSE_DIRECTORY + \"dataset_128_60.0.pkl\"\n",
    "# train_set, val_set, test_set = DataReader(file, dataset_type=\"inhouse_dataset\").split()\n",
    "\n",
    "chunks_train, chunks_val, chunks_test = train_set[\"chunk\"], val_set[\"chunk\"], test_set[\"chunk\"]\n",
    "targets_train, targets_val, targets_test = train_set[\"target\"], val_set[\"target\"], test_set[\"target\"]"
   ]
  },
  {
   "cell_type": "markdown",
   "id": "6db55b8d-1122-4b47-a9da-157d263f5545",
   "metadata": {
    "id": "mCKrrBsmpFLV",
    "papermill": {
     "duration": 0.233023,
     "end_time": "2023-12-09T21:36:59.917570",
     "exception": false,
     "start_time": "2023-12-09T21:36:59.684547",
     "status": "completed"
    },
    "tags": []
   },
   "source": [
    "# Data exploration"
   ]
  },
  {
   "cell_type": "code",
   "execution_count": null,
   "id": "03450a09-b214-499b-a054-01609b1fa921",
   "metadata": {
    "papermill": {
     "duration": 2.108034,
     "end_time": "2023-12-09T21:37:05.677069",
     "exception": false,
     "start_time": "2023-12-09T21:37:03.569035",
     "status": "completed"
    },
    "tags": []
   },
   "outputs": [],
   "source": [
    "# dataset_hists(train_set, val_set, test_set, chunk_bins=50, chunk_range=(-5, 5))\n",
    "dataset_hists(train_set, val_set, test_set, chunk_bins=50, chunk_range=(-5, 5), target_bins=10, target_range=(0, 100))"
   ]
  },
  {
   "cell_type": "code",
   "execution_count": null,
   "id": "332f8c34-ac6d-44ab-8b0d-0c34b291fc21",
   "metadata": {},
   "outputs": [],
   "source": []
  }
 ],
 "metadata": {
  "kernelspec": {
   "display_name": "Python 3 (ipykernel)",
   "language": "python",
   "name": "python3"
  },
  "language_info": {
   "codemirror_mode": {
    "name": "ipython",
    "version": 3
   },
   "file_extension": ".py",
   "mimetype": "text/x-python",
   "name": "python",
   "nbconvert_exporter": "python",
   "pygments_lexer": "ipython3",
   "version": "3.8.10"
  }
 },
 "nbformat": 4,
 "nbformat_minor": 5
}
