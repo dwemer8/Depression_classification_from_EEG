{
 "cells": [
  {
   "cell_type": "markdown",
   "id": "e82d30fe-e02f-48c0-97dd-df6da4b7ec12",
   "metadata": {
    "editable": true,
    "id": "u9hcW97IpFLP",
    "papermill": {
     "duration": 0.23434,
     "end_time": "2023-12-09T21:36:17.845916",
     "exception": false,
     "start_time": "2023-12-09T21:36:17.611576",
     "status": "completed"
    },
    "slideshow": {
     "slide_type": ""
    },
    "tags": []
   },
   "source": [
    "# Constants and libraries"
   ]
  },
  {
   "cell_type": "code",
   "execution_count": 1,
   "id": "63150de1-60dd-46fd-b6fa-a56c5d3078b7",
   "metadata": {},
   "outputs": [
    {
     "name": "stdout",
     "output_type": "stream",
     "text": [
      "Linux\n",
      "\n",
      "PROJECT_FOLDER = ''\n",
      "SRC_FOLDER = ''\n",
      "OUTPUT_FOLDER = ''\n",
      "\n",
      "TUAB_DIRECTORY = 'Data/TUAB/'\n",
      "TUAB_TRAIN = 'Data/TUAB/train/normal/01_tcp_ar/'\n",
      "TUAB_EVAL = 'Data/TUAB/eval/normal/01_tcp_ar/'\n",
      "\n",
      "DEPR_ANON_DIRECTORY = 'Data/depression_anonymized/'\n",
      "\n",
      "INHOUSE_DIRECTORY = 'Data/inhouse_dataset/EEG_baseline_with_markers_cleaned/preprocessed_data/EEG_baseline/'\n",
      "\n"
     ]
    }
   ],
   "source": [
    "'''\n",
    "In this section one defines environment variables. \n",
    "Because I used this notebook on number of machines, I implemented class especially for this. \n",
    "You may not needed in one and use just simple definitions.\n",
    "'''\n",
    "\n",
    "from src.utils.system_variables import SystemVariables\n",
    "\n",
    "# choose system according your current machine\n",
    "# SYSTEM_NAME = \"Windows\"\n",
    "# SYSTEM_NAME = \"Colab\"\n",
    "# SYSTEM_NAME = \"Kaggle\"\n",
    "SYSTEM_NAME = \"Linux\"\n",
    "\n",
    "sv = SystemVariables(SYSTEM_NAME)\n",
    "PROJECT_FOLDER = sv.get_project_folder()\n",
    "SRC_FOLDER = sv.get_src_folder()\n",
    "OUTPUT_FOLDER = sv.get_output_folder()\n",
    "TUAB_DIRECTORY, TUAB_TRAIN, TUAB_EVAL = sv.get_TUAB_folders()\n",
    "DEPR_ANON_DIRECTORY = sv.get_depr_anon_folder()\n",
    "INHOUSE_DIRECTORY = sv.get_inhouse_folder()\n",
    "\n",
    "print(SYSTEM_NAME)\n",
    "print()\n",
    "\n",
    "print(f\"{PROJECT_FOLDER = }\")\n",
    "print(f\"{SRC_FOLDER = }\")\n",
    "print(f\"{OUTPUT_FOLDER = }\")\n",
    "print()\n",
    "\n",
    "print(f\"{TUAB_DIRECTORY = }\")\n",
    "print(f\"{TUAB_TRAIN = }\")\n",
    "print(f\"{TUAB_EVAL = }\")\n",
    "print()\n",
    "\n",
    "print(f\"{DEPR_ANON_DIRECTORY = }\")\n",
    "print()\n",
    "\n",
    "print(f\"{INHOUSE_DIRECTORY = }\")\n",
    "print()"
   ]
  },
  {
   "cell_type": "code",
   "execution_count": 2,
   "id": "cd98e527-c441-420e-8865-eabab1d7df0e",
   "metadata": {},
   "outputs": [],
   "source": [
    "import warnings\n",
    "warnings.simplefilter(\"ignore\")\n",
    "\n",
    "import os\n",
    "import sys\n",
    "import pickle\n",
    "import json\n",
    "import random\n",
    "from IPython.display import display, clear_output\n",
    "from tqdm.auto import tqdm as tqdm_auto\n",
    "import mne\n",
    "import pandas as pd\n",
    "from tqdm.auto import tqdm"
   ]
  },
  {
   "cell_type": "code",
   "execution_count": 3,
   "id": "f988a65b-4db3-4b7e-b92f-88c81125af62",
   "metadata": {},
   "outputs": [],
   "source": [
    "sys.path.append(SRC_FOLDER)\n",
    "\n",
    "%load_ext autoreload\n",
    "%autoreload 1\n",
    "%aimport utils\n",
    "\n",
    "from src.utils import DEFAULT_SEED\n",
    "from src.utils.common import check_tags, remove_files\n",
    "from src.data.data_reading import DataReader\n",
    "from src.utils.plotting import dataset_hists\n",
    "from src.data.data_preprocessing import preprocessDepressionAnonymizedData, preprocessInhouseDatasetData, preprocessTUABdata, getTUABdataset, save_preprocessed_data"
   ]
  },
  {
   "cell_type": "markdown",
   "id": "9ec9b57e-452e-4278-b09c-87e4ac3c6598",
   "metadata": {
    "id": "1s3ANvBMpFLR",
    "papermill": {
     "duration": 0.236639,
     "end_time": "2023-12-09T21:36:41.387444",
     "exception": false,
     "start_time": "2023-12-09T21:36:41.150805",
     "status": "completed"
    },
    "tags": []
   },
   "source": [
    "# Data preview"
   ]
  },
  {
   "cell_type": "code",
   "execution_count": 4,
   "id": "ced1faa6",
   "metadata": {
    "papermill": {
     "duration": 0.291434,
     "end_time": "2023-12-09T21:36:44.349003",
     "exception": false,
     "start_time": "2023-12-09T21:36:44.057569",
     "status": "completed"
    },
    "tags": []
   },
   "outputs": [],
   "source": [
    "def tree(data_dir, n_files=2):\n",
    "    for dir, _, filenames in os.walk(data_dir):\n",
    "        print(dir)\n",
    "        for filename in filenames[:n_files]:\n",
    "            print(os.path.join(dir, filename))\n",
    "\n",
    "# tree(DEPR_ANON_DIRECTORY)\n",
    "\n",
    "# tree(INHOUSE_DIRECTORY)\n",
    "\n",
    "# tree(TUAB_DIRECTORY)\n",
    "# raw = mne.io.read_raw_edf(TUAB_TRAIN + \"/aaaaaaff_s002_t000.edf\", preload=False)\n",
    "# print(raw.ch_names, \"\\nDuration:\", raw.times[-1]/60, \"m\")\n",
    "# display(raw.info)\n",
    "# raw.plot(n_channels=21, duration=100, scalings=100e-6, start=20);#.set_size_inches(5, 5, forward=True)"
   ]
  },
  {
   "cell_type": "markdown",
   "id": "3c3605a6-1e75-4401-bf28-8ca828604371",
   "metadata": {
    "jp-MarkdownHeadingCollapsed": true
   },
   "source": [
    "## Inhouse dataset"
   ]
  },
  {
   "cell_type": "code",
   "execution_count": 5,
   "id": "f16c6f1d-8b92-4a21-9a8e-5da2e63fc3b7",
   "metadata": {},
   "outputs": [
    {
     "name": "stdout",
     "output_type": "stream",
     "text": [
      "75\n"
     ]
    },
    {
     "name": "stderr",
     "output_type": "stream",
     "text": [
      "100%|███████████████████████████████████████████████████████████████████████████████████████████████████████████████████████████████████| 75/75 [00:14<00:00,  5.09it/s]\n"
     ]
    },
    {
     "name": "stdout",
     "output_type": "stream",
     "text": [
      "96.56 7242.0\n",
      "74\n"
     ]
    },
    {
     "name": "stderr",
     "output_type": "stream",
     "text": [
      "100%|███████████████████████████████████████████████████████████████████████████████████████████████████████████████████████████████████| 74/74 [00:13<00:00,  5.36it/s]"
     ]
    },
    {
     "name": "stdout",
     "output_type": "stream",
     "text": [
      "95.1891891891892 7044.0\n"
     ]
    },
    {
     "name": "stderr",
     "output_type": "stream",
     "text": [
      "\n"
     ]
    }
   ],
   "source": [
    "# import pandas as pd\n",
    "# from tqdm import tqdm \n",
    "\n",
    "# for dir in [\"Health/\", \"MDD/\"]:\n",
    "#     print(len(os.listdir(INHOUSE_DIRECTORY + dir)))\n",
    "#     n_secs = 0\n",
    "#     for file in tqdm(os.listdir(INHOUSE_DIRECTORY + dir)):\n",
    "#         n_secs += len(pd.read_csv(INHOUSE_DIRECTORY + dir + file)) / 500\n",
    "#     print(n_secs/len(os.listdir(INHOUSE_DIRECTORY + dir)), n_secs)"
   ]
  },
  {
   "cell_type": "markdown",
   "id": "a5db7ac2-8110-4b1e-91c6-044fd7f8dc2d",
   "metadata": {
    "jp-MarkdownHeadingCollapsed": true
   },
   "source": [
    "## Depression anonymized dataset"
   ]
  },
  {
   "cell_type": "code",
   "execution_count": 14,
   "id": "df6db9c5-2e88-4e49-a800-6a1e42ed633c",
   "metadata": {},
   "outputs": [
    {
     "name": "stdout",
     "output_type": "stream",
     "text": [
      "89\n"
     ]
    },
    {
     "name": "stderr",
     "output_type": "stream",
     "text": [
      "100%|█████████████████████████████████████████████████████████████████████████████████████████████████████████████████████████████████████████████████████████████████| 89/89 [00:03<00:00, 27.70it/s]\n"
     ]
    },
    {
     "name": "stdout",
     "output_type": "stream",
     "text": [
      "60.0 5340.0\n",
      "89\n"
     ]
    },
    {
     "name": "stderr",
     "output_type": "stream",
     "text": [
      "100%|█████████████████████████████████████████████████████████████████████████████████████████████████████████████████████████████████████████████████████████████████| 89/89 [00:03<00:00, 28.90it/s]"
     ]
    },
    {
     "name": "stdout",
     "output_type": "stream",
     "text": [
      "60.0 5340.0\n"
     ]
    },
    {
     "name": "stderr",
     "output_type": "stream",
     "text": [
      "\n"
     ]
    }
   ],
   "source": [
    "for dir in [\"epoch_1/\", \"epoch_3/\"]:\n",
    "    print(len(os.listdir(DEPR_ANON_DIRECTORY + dir)))\n",
    "    \n",
    "    # path_file = pd.read_csv(DEPR_ANON_DIRECTORY + dir + 'path_file.csv')\n",
    "    # print(path_file['target'].value_counts())\n",
    "\n",
    "    n_secs = 0\n",
    "    for file in tqdm(os.listdir(DEPR_ANON_DIRECTORY + dir)):\n",
    "        if \"path_file\" in file or 'ipynb_checkpoints' in file:\n",
    "            continue\n",
    "        recording = pd.read_csv(DEPR_ANON_DIRECTORY + dir + file)\n",
    "        n_secs += len(recording)/125\n",
    "    print(n_secs/len(os.listdir(DEPR_ANON_DIRECTORY + dir)), n_secs)"
   ]
  },
  {
   "cell_type": "markdown",
   "id": "f5b8a79b-6c6a-4367-aa44-4b44534c635a",
   "metadata": {
    "id": "sIavQ0ClpFLS",
    "papermill": {
     "duration": 0.23423,
     "end_time": "2023-12-09T21:36:45.770298",
     "exception": false,
     "start_time": "2023-12-09T21:36:45.536068",
     "status": "completed"
    },
    "tags": []
   },
   "source": [
    "# Data preprocessing and saving"
   ]
  },
  {
   "cell_type": "markdown",
   "id": "31a4d845-627d-4bc3-b194-08ee5c775833",
   "metadata": {
    "jp-MarkdownHeadingCollapsed": true,
    "papermill": {
     "duration": 0.237226,
     "end_time": "2023-12-09T21:36:46.242824",
     "exception": false,
     "start_time": "2023-12-09T21:36:46.005598",
     "status": "completed"
    },
    "tags": []
   },
   "source": [
    "### TUAB"
   ]
  },
  {
   "cell_type": "code",
   "execution_count": null,
   "id": "4e8e4cd7",
   "metadata": {
    "id": "NVIjlVM_pFLU",
    "outputId": "fc968780-dbc0-4182-cf59-0a320d8868ff",
    "papermill": {
     "duration": 0.246098,
     "end_time": "2023-12-09T21:36:47.702682",
     "exception": false,
     "start_time": "2023-12-09T21:36:47.456584",
     "status": "completed"
    },
    "tags": []
   },
   "outputs": [
    {
     "name": "stdout",
     "output_type": "stream",
     "text": [
      "Processing files for n_secs=1\n",
      "0 files was removed from Data/TUAB/train/normal/01_tcp_ar/\n",
      "0 files was removed from Data/TUAB/eval/normal/01_tcp_ar/\n"
     ]
    },
    {
     "name": "stderr",
     "output_type": "stream",
     "text": [
      "  0%|▎                                                                                                                               | 3/1371 [00:14<1:48:32,  4.76s/it]"
     ]
    },
    {
     "name": "stdout",
     "output_type": "stream",
     "text": [
      "File aaaaanfk_s002_t000.edf was passed, passed files: 1, read files: 3\n",
      "File aaaaapfd_s001_t001.edf was passed, passed files: 2, read files: 3\n",
      "File aaaaaoql_s001_t001.edf was passed, passed files: 3, read files: 3\n"
     ]
    },
    {
     "name": "stderr",
     "output_type": "stream",
     "text": [
      "  1%|▉                                                                                                                              | 10/1371 [00:34<1:24:43,  3.73s/it]"
     ]
    },
    {
     "name": "stdout",
     "output_type": "stream",
     "text": [
      "File aaaaapos_s001_t000.edf was passed, passed files: 4, read files: 7\n"
     ]
    },
    {
     "name": "stderr",
     "output_type": "stream",
     "text": [
      "  1%|█                                                                                                                              | 12/1371 [00:39<1:10:03,  3.09s/it]"
     ]
    },
    {
     "name": "stdout",
     "output_type": "stream",
     "text": [
      "File aaaaapiy_s001_t001.edf was passed, passed files: 5, read files: 8\n"
     ]
    },
    {
     "name": "stderr",
     "output_type": "stream",
     "text": [
      "  1%|█▌                                                                                                                             | 17/1371 [00:56<1:19:49,  3.54s/it]"
     ]
    },
    {
     "name": "stdout",
     "output_type": "stream",
     "text": [
      "File aaaaaqap_s001_t000.edf was passed, passed files: 6, read files: 12\n"
     ]
    },
    {
     "name": "stderr",
     "output_type": "stream",
     "text": [
      "  1%|█▊                                                                                                                             | 19/1371 [01:01<1:08:10,  3.03s/it]"
     ]
    },
    {
     "name": "stdout",
     "output_type": "stream",
     "text": [
      "File aaaaanev_s001_t000.edf was passed, passed files: 7, read files: 13\n",
      "File aaaaanfk_s001_t000.edf was passed, passed files: 8, read files: 13\n"
     ]
    },
    {
     "name": "stderr",
     "output_type": "stream",
     "text": [
      "  2%|██                                                                                                                               | 22/1371 [01:05<52:20,  2.33s/it]"
     ]
    },
    {
     "name": "stdout",
     "output_type": "stream",
     "text": [
      "File aaaaaohs_s001_t001.edf was passed, passed files: 9, read files: 14\n"
     ]
    },
    {
     "name": "stderr",
     "output_type": "stream",
     "text": [
      "  2%|██▎                                                                                                                              | 24/1371 [01:09<50:07,  2.23s/it]"
     ]
    },
    {
     "name": "stdout",
     "output_type": "stream",
     "text": [
      "File aaaaanfo_s001_t000.edf was passed, passed files: 10, read files: 15\n",
      "File aaaaapww_s001_t000.edf was passed, passed files: 11, read files: 15\n"
     ]
    },
    {
     "name": "stderr",
     "output_type": "stream",
     "text": [
      "  2%|██▋                                                                                                                              | 28/1371 [01:17<49:38,  2.22s/it]"
     ]
    },
    {
     "name": "stdout",
     "output_type": "stream",
     "text": [
      "File aaaaanln_s001_t000.edf was passed, passed files: 12, read files: 17\n"
     ]
    },
    {
     "name": "stderr",
     "output_type": "stream",
     "text": [
      "  2%|██▉                                                                                                                            | 32/1371 [01:31<1:07:06,  3.01s/it]"
     ]
    },
    {
     "name": "stdout",
     "output_type": "stream",
     "text": [
      "File aaaaanax_s001_t000.edf was passed, passed files: 13, read files: 20\n",
      "File aaaaamzw_s001_t000.edf was passed, passed files: 14, read files: 20\n",
      "File aaaaaojz_s001_t000.edf was passed, passed files: 15, read files: 20\n"
     ]
    },
    {
     "name": "stderr",
     "output_type": "stream",
     "text": [
      "  3%|███▍                                                                                                                             | 36/1371 [01:35<42:35,  1.91s/it]"
     ]
    },
    {
     "name": "stdout",
     "output_type": "stream",
     "text": [
      "File aaaaangl_s001_t000.edf was passed, passed files: 16, read files: 21\n",
      "File aaaaamcf_s002_t000.edf was passed, passed files: 17, read files: 21\n"
     ]
    },
    {
     "name": "stderr",
     "output_type": "stream",
     "text": [
      "  3%|███▊                                                                                                                             | 40/1371 [01:43<45:51,  2.07s/it]"
     ]
    },
    {
     "name": "stdout",
     "output_type": "stream",
     "text": [
      "File aaaaaogf_s001_t000.edf was passed, passed files: 18, read files: 23\n"
     ]
    },
    {
     "name": "stderr",
     "output_type": "stream",
     "text": [
      "  3%|███▉                                                                                                                             | 42/1371 [01:47<46:02,  2.08s/it]"
     ]
    },
    {
     "name": "stdout",
     "output_type": "stream",
     "text": [
      "File aaaaabcl_s002_t000.edf was passed, passed files: 19, read files: 24\n",
      "File aaaaamys_s001_t000.edf was passed, passed files: 20, read files: 24\n",
      "File aaaaaptk_s001_t000.edf was passed, passed files: 21, read files: 24\n"
     ]
    },
    {
     "name": "stderr",
     "output_type": "stream",
     "text": [
      "  4%|████▌                                                                                                                            | 48/1371 [02:00<51:44,  2.35s/it]"
     ]
    },
    {
     "name": "stdout",
     "output_type": "stream",
     "text": [
      "File aaaaaodb_s001_t000.edf was passed, passed files: 22, read files: 27\n",
      "File aaaaapif_s001_t000.edf was passed, passed files: 23, read files: 27\n"
     ]
    },
    {
     "name": "stderr",
     "output_type": "stream",
     "text": [
      "  4%|████▉                                                                                                                            | 52/1371 [02:07<45:47,  2.08s/it]"
     ]
    },
    {
     "name": "stdout",
     "output_type": "stream",
     "text": [
      "File aaaaanmi_s001_t000.edf was passed, passed files: 24, read files: 29\n"
     ]
    },
    {
     "name": "stderr",
     "output_type": "stream",
     "text": [
      "  4%|█████                                                                                                                            | 54/1371 [02:11<45:12,  2.06s/it]"
     ]
    },
    {
     "name": "stdout",
     "output_type": "stream",
     "text": [
      "File aaaaapog_s001_t000.edf was passed, passed files: 25, read files: 30\n"
     ]
    },
    {
     "name": "stderr",
     "output_type": "stream",
     "text": [
      "  4%|█████▎                                                                                                                         | 58/1371 [02:23<1:00:43,  2.78s/it]"
     ]
    },
    {
     "name": "stdout",
     "output_type": "stream",
     "text": [
      "File aaaaamob_s001_t000.edf was passed, passed files: 26, read files: 33\n"
     ]
    },
    {
     "name": "stderr",
     "output_type": "stream",
     "text": [
      "  5%|█████▉                                                                                                                         | 64/1371 [02:46<1:23:37,  3.84s/it]"
     ]
    },
    {
     "name": "stdout",
     "output_type": "stream",
     "text": [
      "File aaaaamhh_s002_t000.edf was passed, passed files: 27, read files: 38\n"
     ]
    },
    {
     "name": "stderr",
     "output_type": "stream",
     "text": [
      "  5%|██████▏                                                                                                                        | 67/1371 [02:54<1:14:06,  3.41s/it]"
     ]
    },
    {
     "name": "stdout",
     "output_type": "stream",
     "text": [
      "File aaaaanbc_s001_t000.edf was passed, passed files: 28, read files: 40\n"
     ]
    },
    {
     "name": "stderr",
     "output_type": "stream",
     "text": [
      "  5%|██████▌                                                                                                                        | 71/1371 [03:07<1:13:43,  3.40s/it]"
     ]
    },
    {
     "name": "stdout",
     "output_type": "stream",
     "text": [
      "File aaaaapbe_s001_t000.edf was passed, passed files: 29, read files: 43\n",
      "File aaaaangg_s001_t001.edf was passed, passed files: 30, read files: 43\n",
      "File aaaaapeo_s001_t000.edf was passed, passed files: 31, read files: 43\n",
      "File aaaaanvi_s001_t000.edf was passed, passed files: 32, read files: 43\n"
     ]
    },
    {
     "name": "stderr",
     "output_type": "stream",
     "text": [
      "  6%|███████▏                                                                                                                         | 77/1371 [03:15<45:53,  2.13s/it]"
     ]
    },
    {
     "name": "stdout",
     "output_type": "stream",
     "text": [
      "File aaaaaoqq_s001_t000.edf was passed, passed files: 33, read files: 45\n",
      "File aaaaapob_s001_t002.edf was passed, passed files: 34, read files: 45\n",
      "File aaaaamqr_s001_t000.edf was passed, passed files: 35, read files: 45\n"
     ]
    },
    {
     "name": "stderr",
     "output_type": "stream",
     "text": [
      "  6%|███████▋                                                                                                                         | 82/1371 [03:26<49:37,  2.31s/it]"
     ]
    },
    {
     "name": "stdout",
     "output_type": "stream",
     "text": [
      "File aaaaapip_s001_t000.edf was passed, passed files: 36, read files: 47\n"
     ]
    },
    {
     "name": "stderr",
     "output_type": "stream",
     "text": [
      "  6%|████████                                                                                                                       | 87/1371 [03:42<1:08:46,  3.21s/it]"
     ]
    },
    {
     "name": "stdout",
     "output_type": "stream",
     "text": [
      "File aaaaaowm_s001_t000.edf was passed, passed files: 37, read files: 51\n",
      "File aaaaanfd_s001_t000.edf was passed, passed files: 38, read files: 51\n",
      "File aaaaappl_s001_t002.edf was passed, passed files: 39, read files: 51\n"
     ]
    },
    {
     "name": "stderr",
     "output_type": "stream",
     "text": [
      "  7%|████████▌                                                                                                                        | 91/1371 [03:45<39:00,  1.83s/it]"
     ]
    },
    {
     "name": "stdout",
     "output_type": "stream",
     "text": [
      "File aaaaamsf_s001_t000.edf was passed, passed files: 40, read files: 52\n",
      "File aaaaapme_s001_t001.edf was passed, passed files: 41, read files: 52\n"
     ]
    },
    {
     "name": "stderr",
     "output_type": "stream",
     "text": [
      "  7%|████████▉                                                                                                                        | 95/1371 [03:53<42:29,  2.00s/it]"
     ]
    },
    {
     "name": "stdout",
     "output_type": "stream",
     "text": [
      "File aaaaappc_s001_t001.edf was passed, passed files: 42, read files: 54\n",
      "File aaaaagwc_s002_t001.edf was passed, passed files: 43, read files: 54\n"
     ]
    },
    {
     "name": "stderr",
     "output_type": "stream",
     "text": [
      "  7%|█████████▎                                                                                                                    | 102/1371 [04:14<1:06:49,  3.16s/it]"
     ]
    },
    {
     "name": "stdout",
     "output_type": "stream",
     "text": [
      "File aaaaaovj_s001_t000.edf was passed, passed files: 44, read files: 59\n"
     ]
    },
    {
     "name": "stderr",
     "output_type": "stream",
     "text": [
      "  8%|█████████▋                                                                                                                      | 104/1371 [04:18<56:55,  2.70s/it]"
     ]
    },
    {
     "name": "stdout",
     "output_type": "stream",
     "text": [
      "File aaaaalsz_s003_t000.edf was passed, passed files: 45, read files: 60\n"
     ]
    },
    {
     "name": "stderr",
     "output_type": "stream",
     "text": [
      "  8%|█████████▉                                                                                                                      | 107/1371 [04:26<59:33,  2.83s/it]"
     ]
    },
    {
     "name": "stdout",
     "output_type": "stream",
     "text": [
      "File aaaaakhy_s002_t000.edf was passed, passed files: 46, read files: 62\n"
     ]
    },
    {
     "name": "stderr",
     "output_type": "stream",
     "text": [
      "  8%|██████████                                                                                                                    | 110/1371 [04:35<1:00:07,  2.86s/it]"
     ]
    },
    {
     "name": "stdout",
     "output_type": "stream",
     "text": [
      "File aaaaapvr_s001_t000.edf was passed, passed files: 47, read files: 64\n"
     ]
    },
    {
     "name": "stderr",
     "output_type": "stream",
     "text": [
      "  8%|██████████▍                                                                                                                     | 112/1371 [04:39<53:47,  2.56s/it]"
     ]
    },
    {
     "name": "stdout",
     "output_type": "stream",
     "text": [
      "File aaaaagzp_s002_t000.edf was passed, passed files: 48, read files: 65\n",
      "File aaaaaenj_s002_t002.edf was passed, passed files: 49, read files: 65\n",
      "File aaaaaoep_s001_t000.edf was passed, passed files: 50, read files: 65\n"
     ]
    },
    {
     "name": "stderr",
     "output_type": "stream",
     "text": [
      "  8%|██████████▊                                                                                                                     | 116/1371 [04:44<38:48,  1.86s/it]"
     ]
    },
    {
     "name": "stdout",
     "output_type": "stream",
     "text": [
      "File aaaaamti_s002_t000.edf was passed, passed files: 51, read files: 66\n",
      "File aaaaapkb_s001_t000.edf was passed, passed files: 52, read files: 66\n"
     ]
    },
    {
     "name": "stderr",
     "output_type": "stream",
     "text": [
      "  9%|███████████                                                                                                                     | 119/1371 [04:48<35:33,  1.70s/it]"
     ]
    },
    {
     "name": "stdout",
     "output_type": "stream",
     "text": [
      "File aaaaapwx_s001_t000.edf was passed, passed files: 53, read files: 67\n"
     ]
    },
    {
     "name": "stderr",
     "output_type": "stream",
     "text": [
      "  9%|███████████▍                                                                                                                    | 122/1371 [04:57<45:42,  2.20s/it]"
     ]
    },
    {
     "name": "stdout",
     "output_type": "stream",
     "text": [
      "File aaaaammq_s002_t000.edf was passed, passed files: 54, read files: 69\n",
      "File aaaaamzv_s001_t000.edf was passed, passed files: 55, read files: 69\n",
      "File aaaaapbf_s001_t000.edf was passed, passed files: 56, read files: 69\n"
     ]
    },
    {
     "name": "stderr",
     "output_type": "stream",
     "text": [
      "  9%|███████████▊                                                                                                                    | 126/1371 [05:01<35:59,  1.73s/it]"
     ]
    },
    {
     "name": "stdout",
     "output_type": "stream",
     "text": [
      "File aaaaaplm_s001_t000.edf was passed, passed files: 57, read files: 70\n"
     ]
    },
    {
     "name": "stderr",
     "output_type": "stream",
     "text": [
      " 10%|████████████▏                                                                                                                 | 132/1371 [05:24<1:08:50,  3.33s/it]"
     ]
    },
    {
     "name": "stdout",
     "output_type": "stream",
     "text": [
      "File aaaaapvh_s001_t001.edf was passed, passed files: 58, read files: 75\n",
      "File aaaaanzv_s001_t000.edf was passed, passed files: 59, read files: 75\n"
     ]
    },
    {
     "name": "stderr",
     "output_type": "stream",
     "text": [
      " 10%|████████████▋                                                                                                                   | 136/1371 [05:32<57:02,  2.77s/it]"
     ]
    },
    {
     "name": "stdout",
     "output_type": "stream",
     "text": [
      "File aaaaaohg_s001_t001.edf was passed, passed files: 60, read files: 77\n"
     ]
    },
    {
     "name": "stderr",
     "output_type": "stream",
     "text": [
      " 10%|████████████▉                                                                                                                   | 139/1371 [05:40<56:58,  2.77s/it]"
     ]
    },
    {
     "name": "stdout",
     "output_type": "stream",
     "text": [
      "File aaaaapgd_s001_t000.edf was passed, passed files: 61, read files: 79\n",
      "File aaaaakyn_s002_t000.edf was passed, passed files: 62, read files: 79\n"
     ]
    },
    {
     "name": "stderr",
     "output_type": "stream",
     "text": [
      " 10%|█████████████▎                                                                                                                  | 142/1371 [05:44<43:06,  2.10s/it]"
     ]
    },
    {
     "name": "stdout",
     "output_type": "stream",
     "text": [
      "File aaaaaimz_s003_t000.edf was passed, passed files: 63, read files: 80\n"
     ]
    },
    {
     "name": "stderr",
     "output_type": "stream",
     "text": [
      " 11%|█████████████▌                                                                                                                  | 145/1371 [05:53<53:05,  2.60s/it]"
     ]
    },
    {
     "name": "stdout",
     "output_type": "stream",
     "text": [
      "File aaaaanrx_s001_t000.edf was passed, passed files: 64, read files: 82\n",
      "File aaaaapok_s001_t001.edf was passed, passed files: 65, read files: 82\n",
      "File aaaaapgm_s001_t000.edf was passed, passed files: 66, read files: 82\n"
     ]
    },
    {
     "name": "stderr",
     "output_type": "stream",
     "text": [
      " 11%|██████████████                                                                                                                  | 150/1371 [06:02<45:31,  2.24s/it]"
     ]
    },
    {
     "name": "stdout",
     "output_type": "stream",
     "text": [
      "File aaaaankh_s002_t000.edf was passed, passed files: 67, read files: 84\n"
     ]
    },
    {
     "name": "stderr",
     "output_type": "stream",
     "text": [
      " 11%|██████████████▏                                                                                                                 | 152/1371 [06:06<44:24,  2.19s/it]"
     ]
    },
    {
     "name": "stdout",
     "output_type": "stream",
     "text": [
      "File aaaaapch_s001_t001.edf was passed, passed files: 68, read files: 85\n",
      "File aaaaaibr_s005_t000.edf was passed, passed files: 69, read files: 85\n",
      "File aaaaapwv_s001_t000.edf was passed, passed files: 70, read files: 85\n",
      "File aaaaalzz_s002_t000.edf was passed, passed files: 71, read files: 85\n",
      "File aaaaapyi_s001_t000.edf was passed, passed files: 72, read files: 85\n",
      "File aaaaapva_s001_t000.edf was passed, passed files: 73, read files: 85\n"
     ]
    },
    {
     "name": "stderr",
     "output_type": "stream",
     "text": [
      " 12%|██████████████▉                                                                                                                 | 160/1371 [06:15<32:03,  1.59s/it]"
     ]
    },
    {
     "name": "stdout",
     "output_type": "stream",
     "text": [
      "File aaaaampm_s002_t000.edf was passed, passed files: 74, read files: 87\n"
     ]
    },
    {
     "name": "stderr",
     "output_type": "stream",
     "text": [
      " 12%|███████████████▏                                                                                                                | 163/1371 [06:24<41:29,  2.06s/it]"
     ]
    },
    {
     "name": "stdout",
     "output_type": "stream",
     "text": [
      "File aaaaaoqp_s001_t000.edf was passed, passed files: 75, read files: 89\n"
     ]
    },
    {
     "name": "stderr",
     "output_type": "stream",
     "text": [
      " 12%|███████████████▍                                                                                                                | 166/1371 [06:33<52:35,  2.62s/it]"
     ]
    },
    {
     "name": "stdout",
     "output_type": "stream",
     "text": [
      "File aaaaapjz_s001_t000.edf was passed, passed files: 76, read files: 91\n"
     ]
    },
    {
     "name": "stderr",
     "output_type": "stream",
     "text": [
      " 12%|███████████████▋                                                                                                                | 168/1371 [06:37<48:56,  2.44s/it]"
     ]
    },
    {
     "name": "stdout",
     "output_type": "stream",
     "text": [
      "File aaaaapuv_s001_t000.edf was passed, passed files: 77, read files: 92\n",
      "File aaaaaosa_s001_t000.edf was passed, passed files: 78, read files: 92\n"
     ]
    },
    {
     "name": "stderr",
     "output_type": "stream",
     "text": [
      " 12%|███████████████▉                                                                                                                | 171/1371 [06:42<40:01,  2.00s/it]"
     ]
    },
    {
     "name": "stdout",
     "output_type": "stream",
     "text": [
      "File aaaaapie_s001_t000.edf was passed, passed files: 79, read files: 93\n"
     ]
    },
    {
     "name": "stderr",
     "output_type": "stream",
     "text": [
      " 13%|████████████████▎                                                                                                             | 177/1371 [07:03<1:08:35,  3.45s/it]"
     ]
    },
    {
     "name": "stdout",
     "output_type": "stream",
     "text": [
      "File aaaaamyl_s001_t000.edf was passed, passed files: 80, read files: 98\n"
     ]
    },
    {
     "name": "stderr",
     "output_type": "stream",
     "text": [
      " 13%|████████████████▋                                                                                                             | 181/1371 [07:22<1:29:34,  4.52s/it]"
     ]
    },
    {
     "name": "stdout",
     "output_type": "stream",
     "text": [
      "File aaaaansu_s002_t000.edf was passed, passed files: 81, read files: 101\n",
      "File aaaaaddw_s002_t000.edf was passed, passed files: 82, read files: 101\n"
     ]
    },
    {
     "name": "stderr",
     "output_type": "stream",
     "text": [
      " 14%|█████████████████▏                                                                                                            | 187/1371 [07:39<1:09:22,  3.52s/it]"
     ]
    },
    {
     "name": "stdout",
     "output_type": "stream",
     "text": [
      "File aaaaalwb_s003_t000.edf was passed, passed files: 83, read files: 105\n",
      "File aaaaaohh_s001_t000.edf was passed, passed files: 84, read files: 105\n",
      "File aaaaapqu_s001_t000.edf was passed, passed files: 85, read files: 105\n",
      "File aaaaaixl_s005_t000.edf was passed, passed files: 86, read files: 105\n"
     ]
    },
    {
     "name": "stderr",
     "output_type": "stream",
     "text": [
      " 14%|██████████████████                                                                                                              | 194/1371 [07:51<50:42,  2.59s/it]"
     ]
    },
    {
     "name": "stdout",
     "output_type": "stream",
     "text": [
      "File aaaaakbi_s002_t000.edf was passed, passed files: 87, read files: 108\n",
      "File aaaaapto_s001_t000.edf was passed, passed files: 88, read files: 108\n"
     ]
    },
    {
     "name": "stderr",
     "output_type": "stream",
     "text": [
      " 14%|██████████████████▍                                                                                                             | 198/1371 [08:00<47:51,  2.45s/it]"
     ]
    },
    {
     "name": "stdout",
     "output_type": "stream",
     "text": [
      "File aaaaapvq_s001_t000.edf was passed, passed files: 89, read files: 110\n",
      "File aaaaambs_s003_t000.edf was passed, passed files: 90, read files: 110\n",
      "File aaaaajvi_s004_t000.edf was passed, passed files: 91, read files: 110\n",
      "File aaaaapce_s001_t001.edf was passed, passed files: 92, read files: 110\n",
      "File aaaaaoqm_s001_t000.edf was passed, passed files: 93, read files: 110\n",
      "File aaaaaler_s003_t000.edf was passed, passed files: 94, read files: 110\n"
     ]
    },
    {
     "name": "stderr",
     "output_type": "stream",
     "text": [
      " 15%|███████████████████▎                                                                                                            | 207/1371 [08:13<38:23,  1.98s/it]"
     ]
    },
    {
     "name": "stdout",
     "output_type": "stream",
     "text": [
      "File aaaaalvl_s002_t000.edf was passed, passed files: 95, read files: 113\n"
     ]
    },
    {
     "name": "stderr",
     "output_type": "stream",
     "text": [
      " 15%|███████████████████▍                                                                                                          | 212/1371 [08:30<1:01:55,  3.21s/it]"
     ]
    },
    {
     "name": "stdout",
     "output_type": "stream",
     "text": [
      "File aaaaamux_s001_t000.edf was passed, passed files: 96, read files: 117\n",
      "File aaaaappt_s002_t000.edf was passed, passed files: 97, read files: 117\n"
     ]
    },
    {
     "name": "stderr",
     "output_type": "stream",
     "text": [
      " 16%|████████████████████                                                                                                            | 215/1371 [08:34<44:29,  2.31s/it]"
     ]
    },
    {
     "name": "stdout",
     "output_type": "stream",
     "text": [
      "File aaaaaoah_s001_t000.edf was passed, passed files: 98, read files: 118\n"
     ]
    },
    {
     "name": "stderr",
     "output_type": "stream",
     "text": [
      " 16%|████████████████████▎                                                                                                         | 221/1371 [08:56<1:07:10,  3.50s/it]"
     ]
    },
    {
     "name": "stdout",
     "output_type": "stream",
     "text": [
      "File aaaaamth_s002_t000.edf was passed, passed files: 99, read files: 123\n"
     ]
    },
    {
     "name": "stderr",
     "output_type": "stream",
     "text": [
      " 16%|████████████████████▊                                                                                                           | 223/1371 [09:00<55:39,  2.91s/it]"
     ]
    },
    {
     "name": "stdout",
     "output_type": "stream",
     "text": [
      "File aaaaamog_s001_t000.edf was passed, passed files: 100, read files: 124\n"
     ]
    },
    {
     "name": "stderr",
     "output_type": "stream",
     "text": [
      " 16%|█████████████████████                                                                                                           | 226/1371 [09:09<56:55,  2.98s/it]"
     ]
    },
    {
     "name": "stdout",
     "output_type": "stream",
     "text": [
      "File aaaaamyh_s001_t002.edf was passed, passed files: 101, read files: 126\n"
     ]
    },
    {
     "name": "stderr",
     "output_type": "stream",
     "text": [
      " 17%|█████████████████████▎                                                                                                          | 228/1371 [09:13<51:54,  2.73s/it]"
     ]
    },
    {
     "name": "stdout",
     "output_type": "stream",
     "text": [
      "File aaaaansm_s001_t000.edf was passed, passed files: 102, read files: 127\n"
     ]
    },
    {
     "name": "stderr",
     "output_type": "stream",
     "text": [
      " 17%|█████████████████████▍                                                                                                        | 233/1371 [09:30<1:06:34,  3.51s/it]"
     ]
    },
    {
     "name": "stdout",
     "output_type": "stream",
     "text": [
      "File aaaaaniv_s001_t000.edf was passed, passed files: 103, read files: 131\n",
      "File aaaaafyj_s002_t000.edf was passed, passed files: 104, read files: 131\n"
     ]
    },
    {
     "name": "stderr",
     "output_type": "stream",
     "text": [
      " 17%|█████████████████████▊                                                                                                        | 237/1371 [09:44<1:08:00,  3.60s/it]"
     ]
    },
    {
     "name": "stdout",
     "output_type": "stream",
     "text": [
      "File aaaaaeph_s005_t000.edf was passed, passed files: 105, read files: 133\n",
      "File aaaaapji_s001_t000.edf was passed, passed files: 106, read files: 133\n",
      "File aaaaanon_s001_t000.edf was passed, passed files: 107, read files: 133\n"
     ]
    },
    {
     "name": "stderr",
     "output_type": "stream",
     "text": [
      " 18%|██████████████████████▋                                                                                                         | 243/1371 [09:57<52:32,  2.79s/it]"
     ]
    },
    {
     "name": "stdout",
     "output_type": "stream",
     "text": [
      "File aaaaapus_s001_t000.edf was passed, passed files: 108, read files: 136\n",
      "File aaaaanah_s001_t000.edf was passed, passed files: 109, read files: 136\n"
     ]
    },
    {
     "name": "stderr",
     "output_type": "stream",
     "text": [
      " 18%|██████████████████████▉                                                                                                         | 246/1371 [10:01<40:45,  2.17s/it]"
     ]
    },
    {
     "name": "stdout",
     "output_type": "stream",
     "text": [
      "File aaaaapxk_s001_t000.edf was passed, passed files: 110, read files: 137\n"
     ]
    },
    {
     "name": "stderr",
     "output_type": "stream",
     "text": [
      " 18%|███████████████████████▎                                                                                                        | 250/1371 [10:13<52:38,  2.82s/it]"
     ]
    },
    {
     "name": "stdout",
     "output_type": "stream",
     "text": [
      "File aaaaamvq_s001_t000.edf was passed, passed files: 111, read files: 140\n",
      "File aaaaakzu_s003_t000.edf was passed, passed files: 112, read files: 140\n"
     ]
    },
    {
     "name": "stderr",
     "output_type": "stream",
     "text": [
      " 19%|███████████████████████▊                                                                                                        | 255/1371 [10:25<51:37,  2.78s/it]"
     ]
    },
    {
     "name": "stdout",
     "output_type": "stream",
     "text": [
      "File aaaaapws_s001_t000.edf was passed, passed files: 113, read files: 143\n"
     ]
    },
    {
     "name": "stderr",
     "output_type": "stream",
     "text": [
      " 19%|████████████████████████                                                                                                        | 258/1371 [10:34<54:08,  2.92s/it]"
     ]
    },
    {
     "name": "stdout",
     "output_type": "stream",
     "text": [
      "File aaaaamrf_s001_t000.edf was passed, passed files: 114, read files: 145\n",
      "File aaaaapgl_s001_t000.edf was passed, passed files: 115, read files: 145\n"
     ]
    },
    {
     "name": "stderr",
     "output_type": "stream",
     "text": [
      " 19%|████████████████████████▎                                                                                                       | 261/1371 [10:38<40:11,  2.17s/it]"
     ]
    },
    {
     "name": "stdout",
     "output_type": "stream",
     "text": [
      "File aaaaanat_s001_t000.edf was passed, passed files: 116, read files: 146\n",
      "File aaaaaltg_s002_t000.edf was passed, passed files: 117, read files: 146\n",
      "File aaaaaoff_s001_t000.edf was passed, passed files: 118, read files: 146\n"
     ]
    },
    {
     "name": "stderr",
     "output_type": "stream",
     "text": [
      " 20%|█████████████████████████                                                                                                       | 268/1371 [10:54<49:13,  2.68s/it]"
     ]
    },
    {
     "name": "stdout",
     "output_type": "stream",
     "text": [
      "File aaaaamnh_s001_t000.edf was passed, passed files: 119, read files: 150\n"
     ]
    },
    {
     "name": "stderr",
     "output_type": "stream",
     "text": [
      " 20%|█████████████████████████▏                                                                                                      | 270/1371 [10:58<44:38,  2.43s/it]"
     ]
    },
    {
     "name": "stdout",
     "output_type": "stream",
     "text": [
      "File aaaaaoes_s001_t000.edf was passed, passed files: 120, read files: 151\n"
     ]
    },
    {
     "name": "stderr",
     "output_type": "stream",
     "text": [
      " 20%|█████████████████████████▍                                                                                                      | 273/1371 [11:07<50:45,  2.77s/it]"
     ]
    },
    {
     "name": "stdout",
     "output_type": "stream",
     "text": [
      "File aaaaaoid_s002_t000.edf was passed, passed files: 121, read files: 153\n",
      "File aaaaapia_s001_t000.edf was passed, passed files: 122, read files: 153\n",
      "File aaaaapfu_s001_t000.edf was passed, passed files: 123, read files: 153\n"
     ]
    },
    {
     "name": "stderr",
     "output_type": "stream",
     "text": [
      " 20%|██████████████████████████                                                                                                      | 279/1371 [11:20<48:15,  2.65s/it]"
     ]
    },
    {
     "name": "stdout",
     "output_type": "stream",
     "text": [
      "File aaaaamzs_s001_t000.edf was passed, passed files: 124, read files: 156\n"
     ]
    },
    {
     "name": "stderr",
     "output_type": "stream",
     "text": [
      " 20%|██████████████████████████▏                                                                                                     | 281/1371 [11:24<43:34,  2.40s/it]"
     ]
    },
    {
     "name": "stdout",
     "output_type": "stream",
     "text": [
      "File aaaaamvl_s001_t000.edf was passed, passed files: 125, read files: 157\n"
     ]
    },
    {
     "name": "stderr",
     "output_type": "stream",
     "text": [
      " 21%|██████████████████████████▍                                                                                                   | 288/1371 [11:48<1:04:20,  3.56s/it]"
     ]
    },
    {
     "name": "stdout",
     "output_type": "stream",
     "text": [
      "File aaaaanif_s001_t000.edf was passed, passed files: 126, read files: 163\n",
      "File aaaaanrw_s001_t000.edf was passed, passed files: 127, read files: 163\n",
      "File aaaaanix_s001_t000.edf was passed, passed files: 128, read files: 163\n"
     ]
    },
    {
     "name": "stderr",
     "output_type": "stream",
     "text": [
      " 21%|███████████████████████████▎                                                                                                    | 292/1371 [11:53<38:52,  2.16s/it]"
     ]
    },
    {
     "name": "stdout",
     "output_type": "stream",
     "text": [
      "File aaaaamxu_s001_t000.edf was passed, passed files: 129, read files: 164\n"
     ]
    },
    {
     "name": "stderr",
     "output_type": "stream",
     "text": [
      " 22%|███████████████████████████▊                                                                                                    | 298/1371 [12:13<58:57,  3.30s/it]"
     ]
    },
    {
     "name": "stdout",
     "output_type": "stream",
     "text": [
      "File aaaaanaj_s001_t000.edf was passed, passed files: 130, read files: 169\n"
     ]
    },
    {
     "name": "stderr",
     "output_type": "stream",
     "text": [
      " 22%|████████████████████████████                                                                                                    | 300/1371 [12:18<52:44,  2.96s/it]"
     ]
    },
    {
     "name": "stdout",
     "output_type": "stream",
     "text": [
      "File aaaaanuq_s001_t000.edf was passed, passed files: 131, read files: 170\n",
      "File aaaaalrt_s002_t000.edf was passed, passed files: 132, read files: 170\n",
      "File aaaaanez_s001_t000.edf was passed, passed files: 133, read files: 170\n",
      "File aaaaapqs_s001_t000.edf was passed, passed files: 134, read files: 170\n"
     ]
    },
    {
     "name": "stderr",
     "output_type": "stream",
     "text": [
      " 22%|████████████████████████████▍                                                                                                   | 305/1371 [12:22<29:47,  1.68s/it]"
     ]
    },
    {
     "name": "stdout",
     "output_type": "stream",
     "text": [
      "File aaaaalad_s002_t000.edf was passed, passed files: 135, read files: 171\n"
     ]
    },
    {
     "name": "stderr",
     "output_type": "stream",
     "text": [
      " 22%|████████████████████████████▋                                                                                                   | 307/1371 [12:25<30:57,  1.75s/it]"
     ]
    },
    {
     "name": "stdout",
     "output_type": "stream",
     "text": [
      "File aaaaanwe_s002_t000.edf was passed, passed files: 136, read files: 172\n"
     ]
    },
    {
     "name": "stderr",
     "output_type": "stream",
     "text": [
      " 23%|█████████████████████████████                                                                                                   | 311/1371 [12:38<43:25,  2.46s/it]"
     ]
    },
    {
     "name": "stdout",
     "output_type": "stream",
     "text": [
      "File aaaaaosj_s001_t000.edf was passed, passed files: 137, read files: 175\n"
     ]
    },
    {
     "name": "stderr",
     "output_type": "stream",
     "text": [
      " 23%|█████████████████████████████▏                                                                                                | 318/1371 [13:03<1:05:37,  3.74s/it]"
     ]
    },
    {
     "name": "stdout",
     "output_type": "stream",
     "text": [
      "File aaaaapqz_s001_t000.edf was passed, passed files: 138, read files: 181\n",
      "File aaaaamtl_s002_t000.edf was passed, passed files: 139, read files: 181\n"
     ]
    },
    {
     "name": "stderr",
     "output_type": "stream",
     "text": [
      " 23%|█████████████████████████████▉                                                                                                  | 321/1371 [13:07<42:58,  2.46s/it]"
     ]
    },
    {
     "name": "stdout",
     "output_type": "stream",
     "text": [
      "File aaaaapum_s001_t000.edf was passed, passed files: 140, read files: 182\n"
     ]
    },
    {
     "name": "stderr",
     "output_type": "stream",
     "text": [
      " 24%|██████████████████████████████▏                                                                                                 | 324/1371 [13:15<47:32,  2.72s/it]"
     ]
    },
    {
     "name": "stdout",
     "output_type": "stream",
     "text": [
      "File aaaaapri_s001_t000.edf was passed, passed files: 141, read files: 184\n"
     ]
    },
    {
     "name": "stderr",
     "output_type": "stream",
     "text": [
      " 24%|██████████████████████████████▍                                                                                               | 331/1371 [13:40<1:02:34,  3.61s/it]"
     ]
    },
    {
     "name": "stdout",
     "output_type": "stream",
     "text": [
      "File aaaaapom_s001_t000.edf was passed, passed files: 142, read files: 190\n",
      "File aaaaamti_s001_t000.edf was passed, passed files: 143, read files: 190\n"
     ]
    },
    {
     "name": "stderr",
     "output_type": "stream",
     "text": [
      " 24%|███████████████████████████████▏                                                                                                | 334/1371 [13:44<41:58,  2.43s/it]"
     ]
    },
    {
     "name": "stdout",
     "output_type": "stream",
     "text": [
      "File aaaaaoxj_s001_t000.edf was passed, passed files: 144, read files: 191\n",
      "File aaaaapmg_s001_t000.edf was passed, passed files: 145, read files: 191\n",
      "File aaaaapsx_s001_t000.edf was passed, passed files: 146, read files: 191\n"
     ]
    },
    {
     "name": "stderr",
     "output_type": "stream",
     "text": [
      " 25%|████████████████████████████████                                                                                                | 343/1371 [14:08<54:44,  3.19s/it]"
     ]
    },
    {
     "name": "stdout",
     "output_type": "stream",
     "text": [
      "File aaaaaplt_s001_t000.edf was passed, passed files: 147, read files: 197\n"
     ]
    },
    {
     "name": "stderr",
     "output_type": "stream",
     "text": [
      " 25%|████████████████████████████████▏                                                                                               | 345/1371 [14:12<47:07,  2.76s/it]"
     ]
    },
    {
     "name": "stdout",
     "output_type": "stream",
     "text": [
      "File aaaaapgc_s001_t000.edf was passed, passed files: 148, read files: 198\n",
      "File aaaaakzx_s003_t001.edf was passed, passed files: 149, read files: 198\n"
     ]
    },
    {
     "name": "stderr",
     "output_type": "stream",
     "text": [
      " 25%|████████████████████████████████▌                                                                                               | 349/1371 [14:20<42:14,  2.48s/it]"
     ]
    },
    {
     "name": "stdout",
     "output_type": "stream",
     "text": [
      "File aaaaappw_s001_t001.edf was passed, passed files: 150, read files: 200\n",
      "File aaaaamzc_s001_t000.edf was passed, passed files: 151, read files: 200\n"
     ]
    },
    {
     "name": "stderr",
     "output_type": "stream",
     "text": [
      " 26%|████████████████████████████████▊                                                                                               | 352/1371 [14:25<34:59,  2.06s/it]"
     ]
    },
    {
     "name": "stdout",
     "output_type": "stream",
     "text": [
      "File aaaaaobw_s001_t000.edf was passed, passed files: 152, read files: 201\n"
     ]
    },
    {
     "name": "stderr",
     "output_type": "stream",
     "text": [
      " 26%|█████████████████████████████████▏                                                                                              | 355/1371 [14:33<41:51,  2.47s/it]"
     ]
    },
    {
     "name": "stdout",
     "output_type": "stream",
     "text": [
      "File aaaaajyg_s002_t000.edf was passed, passed files: 153, read files: 203\n",
      "File aaaaaowr_s001_t001.edf was passed, passed files: 154, read files: 203\n",
      "File aaaaamwr_s001_t000.edf was passed, passed files: 155, read files: 203\n"
     ]
    },
    {
     "name": "stderr",
     "output_type": "stream",
     "text": [
      " 26%|█████████████████████████████████▋                                                                                              | 361/1371 [14:46<42:09,  2.50s/it]"
     ]
    },
    {
     "name": "stdout",
     "output_type": "stream",
     "text": [
      "File aaaaapig_s001_t000.edf was passed, passed files: 156, read files: 206\n"
     ]
    },
    {
     "name": "stderr",
     "output_type": "stream",
     "text": [
      " 27%|██████████████████████████████████                                                                                            | 370/1371 [15:17<1:03:37,  3.81s/it]"
     ]
    },
    {
     "name": "stdout",
     "output_type": "stream",
     "text": [
      "File aaaaaouv_s001_t000.edf was passed, passed files: 157, read files: 214\n"
     ]
    },
    {
     "name": "stderr",
     "output_type": "stream",
     "text": [
      " 27%|███████████████████████████████████                                                                                             | 375/1371 [15:33<58:13,  3.51s/it]"
     ]
    },
    {
     "name": "stdout",
     "output_type": "stream",
     "text": [
      "File aaaaakxf_s002_t000.edf was passed, passed files: 158, read files: 218\n"
     ]
    },
    {
     "name": "stderr",
     "output_type": "stream",
     "text": [
      " 27%|███████████████████████████████████▏                                                                                            | 377/1371 [15:37<47:15,  2.85s/it]"
     ]
    },
    {
     "name": "stdout",
     "output_type": "stream",
     "text": [
      "File aaaaapcg_s001_t000.edf was passed, passed files: 159, read files: 219\n"
     ]
    },
    {
     "name": "stderr",
     "output_type": "stream",
     "text": [
      " 28%|███████████████████████████████████▋                                                                                            | 382/1371 [15:54<55:55,  3.39s/it]"
     ]
    },
    {
     "name": "stdout",
     "output_type": "stream",
     "text": [
      "File aaaaapiq_s001_t000.edf was passed, passed files: 160, read files: 223\n"
     ]
    },
    {
     "name": "stderr",
     "output_type": "stream",
     "text": [
      " 28%|████████████████████████████████████                                                                                            | 386/1371 [16:07<57:11,  3.48s/it]"
     ]
    },
    {
     "name": "stdout",
     "output_type": "stream",
     "text": [
      "File aaaaaosb_s002_t001.edf was passed, passed files: 161, read files: 226\n",
      "File aaaaaocs_s001_t000.edf was passed, passed files: 162, read files: 226\n"
     ]
    },
    {
     "name": "stderr",
     "output_type": "stream",
     "text": [
      " 28%|████████████████████████████████████▍                                                                                           | 390/1371 [16:15<45:08,  2.76s/it]"
     ]
    },
    {
     "name": "stdout",
     "output_type": "stream",
     "text": [
      "File aaaaaflb_s005_t000.edf was passed, passed files: 163, read files: 228\n"
     ]
    },
    {
     "name": "stderr",
     "output_type": "stream",
     "text": [
      " 29%|████████████████████████████████████▌                                                                                           | 392/1371 [16:21<44:56,  2.75s/it]"
     ]
    },
    {
     "name": "stdout",
     "output_type": "stream",
     "text": [
      "File aaaaamsw_s002_t000.edf was passed, passed files: 164, read files: 229\n",
      "File aaaaaosn_s001_t000.edf was passed, passed files: 165, read files: 229\n",
      "File aaaaankk_s001_t000.edf was passed, passed files: 166, read files: 229\n",
      "File aaaaapdl_s001_t000.edf was passed, passed files: 167, read files: 229\n"
     ]
    },
    {
     "name": "stderr",
     "output_type": "stream",
     "text": [
      " 29%|█████████████████████████████████████                                                                                           | 397/1371 [16:25<27:04,  1.67s/it]"
     ]
    },
    {
     "name": "stdout",
     "output_type": "stream",
     "text": [
      "File aaaaanil_s001_t000.edf was passed, passed files: 168, read files: 230\n"
     ]
    },
    {
     "name": "stderr",
     "output_type": "stream",
     "text": [
      " 29%|█████████████████████████████████████▋                                                                                          | 403/1371 [16:46<50:19,  3.12s/it]"
     ]
    },
    {
     "name": "stdout",
     "output_type": "stream",
     "text": [
      "File aaaaantg_s001_t000.edf was passed, passed files: 169, read files: 235\n",
      "File aaaaansy_s001_t000.edf was passed, passed files: 170, read files: 235\n"
     ]
    },
    {
     "name": "stderr",
     "output_type": "stream",
     "text": [
      " 30%|█████████████████████████████████████▉                                                                                          | 406/1371 [16:50<36:48,  2.29s/it]"
     ]
    },
    {
     "name": "stdout",
     "output_type": "stream",
     "text": [
      "File aaaaandn_s001_t000.edf was passed, passed files: 171, read files: 236\n",
      "File aaaaaozm_s001_t000.edf was passed, passed files: 172, read files: 236\n"
     ]
    },
    {
     "name": "stderr",
     "output_type": "stream",
     "text": [
      " 30%|██████████████████████████████████████▏                                                                                         | 409/1371 [16:55<30:57,  1.93s/it]"
     ]
    },
    {
     "name": "stdout",
     "output_type": "stream",
     "text": [
      "File aaaaaoxi_s001_t000.edf was passed, passed files: 173, read files: 237\n"
     ]
    },
    {
     "name": "stderr",
     "output_type": "stream",
     "text": [
      " 30%|██████████████████████████████████████▌                                                                                         | 413/1371 [17:08<45:59,  2.88s/it]"
     ]
    },
    {
     "name": "stdout",
     "output_type": "stream",
     "text": [
      "File aaaaapvg_s001_t001.edf was passed, passed files: 174, read files: 240\n"
     ]
    },
    {
     "name": "stderr",
     "output_type": "stream",
     "text": [
      " 30%|██████████████████████████████████████▉                                                                                         | 417/1371 [17:21<50:49,  3.20s/it]"
     ]
    },
    {
     "name": "stdout",
     "output_type": "stream",
     "text": [
      "File aaaaanvy_s001_t001.edf was passed, passed files: 175, read files: 243\n"
     ]
    },
    {
     "name": "stderr",
     "output_type": "stream",
     "text": [
      " 31%|███████████████████████████████████████                                                                                         | 419/1371 [17:25<44:26,  2.80s/it]"
     ]
    },
    {
     "name": "stdout",
     "output_type": "stream",
     "text": [
      "File aaaaansh_s001_t000.edf was passed, passed files: 176, read files: 244\n",
      "File aaaaaopm_s001_t000.edf was passed, passed files: 177, read files: 244\n"
     ]
    },
    {
     "name": "stderr",
     "output_type": "stream",
     "text": [
      " 31%|███████████████████████████████████████▋                                                                                        | 425/1371 [17:42<49:57,  3.17s/it]"
     ]
    },
    {
     "name": "stdout",
     "output_type": "stream",
     "text": [
      "File aaaaaozi_s001_t000.edf was passed, passed files: 178, read files: 248\n"
     ]
    },
    {
     "name": "stderr",
     "output_type": "stream",
     "text": [
      " 31%|███████████████████████████████████████▉                                                                                        | 428/1371 [17:50<45:20,  2.88s/it]"
     ]
    },
    {
     "name": "stdout",
     "output_type": "stream",
     "text": [
      "File aaaaanmv_s001_t000.edf was passed, passed files: 179, read files: 250\n"
     ]
    },
    {
     "name": "stderr",
     "output_type": "stream",
     "text": [
      " 32%|████████████████████████████████████████▍                                                                                       | 433/1371 [18:07<55:37,  3.56s/it]"
     ]
    },
    {
     "name": "stdout",
     "output_type": "stream",
     "text": [
      "File aaaaalby_s003_t000.edf was passed, passed files: 180, read files: 254\n",
      "File aaaaamqb_s001_t000.edf was passed, passed files: 181, read files: 254\n",
      "File aaaaapnf_s001_t001.edf was passed, passed files: 182, read files: 254\n"
     ]
    },
    {
     "name": "stderr",
     "output_type": "stream",
     "text": [
      " 32%|████████████████████████████████████████▊                                                                                       | 437/1371 [18:11<32:58,  2.12s/it]"
     ]
    },
    {
     "name": "stdout",
     "output_type": "stream",
     "text": [
      "File aaaaaogq_s001_t000.edf was passed, passed files: 183, read files: 255\n"
     ]
    },
    {
     "name": "stderr",
     "output_type": "stream",
     "text": [
      " 32%|█████████████████████████████████████████                                                                                       | 440/1371 [18:19<37:39,  2.43s/it]"
     ]
    },
    {
     "name": "stdout",
     "output_type": "stream",
     "text": [
      "File aaaaamww_s001_t000.edf was passed, passed files: 184, read files: 257\n"
     ]
    },
    {
     "name": "stderr",
     "output_type": "stream",
     "text": [
      " 33%|█████████████████████████████████████████                                                                                     | 447/1371 [18:47<1:06:55,  4.35s/it]"
     ]
    },
    {
     "name": "stdout",
     "output_type": "stream",
     "text": [
      "File aaaaamwx_s001_t000.edf was passed, passed files: 185, read files: 263\n",
      "File aaaaapfm_s001_t000.edf was passed, passed files: 186, read files: 263\n"
     ]
    },
    {
     "name": "stderr",
     "output_type": "stream",
     "text": [
      " 33%|██████████████████████████████████████████▍                                                                                     | 454/1371 [19:08<58:38,  3.84s/it]"
     ]
    },
    {
     "name": "stdout",
     "output_type": "stream",
     "text": [
      "File aaaaaner_s001_t000.edf was passed, passed files: 187, read files: 268\n",
      "File aaaaacsu_s004_t000.edf was passed, passed files: 188, read files: 268\n",
      "File aaaaapel_s001_t000.edf was passed, passed files: 189, read files: 268\n",
      "File aaaaaoeo_s001_t000.edf was passed, passed files: 190, read files: 268\n",
      "File aaaaanza_s001_t000.edf was passed, passed files: 191, read files: 268\n"
     ]
    },
    {
     "name": "stderr",
     "output_type": "stream",
     "text": [
      " 34%|██████████████████████████████████████████▉                                                                                     | 460/1371 [19:12<25:03,  1.65s/it]"
     ]
    },
    {
     "name": "stdout",
     "output_type": "stream",
     "text": [
      "File aaaaaprt_s001_t000.edf was passed, passed files: 192, read files: 269\n"
     ]
    },
    {
     "name": "stderr",
     "output_type": "stream",
     "text": [
      " 34%|███████████████████████████████████████████▏                                                                                    | 462/1371 [19:16<26:17,  1.73s/it]"
     ]
    },
    {
     "name": "stdout",
     "output_type": "stream",
     "text": [
      "File aaaaamyj_s001_t000.edf was passed, passed files: 193, read files: 270\n"
     ]
    },
    {
     "name": "stderr",
     "output_type": "stream",
     "text": [
      " 34%|███████████████████████████████████████████▊                                                                                    | 469/1371 [19:41<50:50,  3.38s/it]"
     ]
    },
    {
     "name": "stdout",
     "output_type": "stream",
     "text": [
      "File aaaaaohh_s002_t000.edf was passed, passed files: 194, read files: 276\n"
     ]
    },
    {
     "name": "stderr",
     "output_type": "stream",
     "text": [
      " 34%|███████████████████████████████████████████▉                                                                                    | 471/1371 [19:45<42:41,  2.85s/it]"
     ]
    },
    {
     "name": "stdout",
     "output_type": "stream",
     "text": [
      "File aaaaantg_s003_t000.edf was passed, passed files: 195, read files: 277\n",
      "File aaaaapsr_s001_t000.edf was passed, passed files: 196, read files: 277\n",
      "File aaaaapvt_s001_t000.edf was passed, passed files: 197, read files: 277\n"
     ]
    },
    {
     "name": "stderr",
     "output_type": "stream",
     "text": [
      " 35%|████████████████████████████████████████████▎                                                                                   | 475/1371 [19:49<27:27,  1.84s/it]"
     ]
    },
    {
     "name": "stdout",
     "output_type": "stream",
     "text": [
      "File aaaaaoil_s001_t000.edf was passed, passed files: 198, read files: 278\n"
     ]
    },
    {
     "name": "stderr",
     "output_type": "stream",
     "text": [
      " 35%|████████████████████████████████████████████▋                                                                                   | 478/1371 [19:57<33:35,  2.26s/it]"
     ]
    },
    {
     "name": "stdout",
     "output_type": "stream",
     "text": [
      "File aaaaandc_s001_t000.edf was passed, passed files: 199, read files: 280\n"
     ]
    },
    {
     "name": "stderr",
     "output_type": "stream",
     "text": [
      " 35%|█████████████████████████████████████████████▎                                                                                  | 486/1371 [20:26<55:31,  3.76s/it]"
     ]
    },
    {
     "name": "stdout",
     "output_type": "stream",
     "text": [
      "File aaaaapoi_s001_t000.edf was passed, passed files: 200, read files: 287\n"
     ]
    },
    {
     "name": "stderr",
     "output_type": "stream",
     "text": [
      " 36%|█████████████████████████████████████████████▌                                                                                  | 488/1371 [20:30<42:25,  2.88s/it]"
     ]
    },
    {
     "name": "stdout",
     "output_type": "stream",
     "text": [
      "File aaaaangn_s001_t000.edf was passed, passed files: 201, read files: 288\n",
      "File aaaaakne_s003_t001.edf was passed, passed files: 202, read files: 288\n",
      "File aaaaancj_s001_t000.edf was passed, passed files: 203, read files: 288\n",
      "File aaaaanhv_s001_t001.edf was passed, passed files: 204, read files: 288\n"
     ]
    },
    {
     "name": "stderr",
     "output_type": "stream",
     "text": [
      " 36%|██████████████████████████████████████████████                                                                                  | 493/1371 [20:34<24:25,  1.67s/it]"
     ]
    },
    {
     "name": "stdout",
     "output_type": "stream",
     "text": [
      "File aaaaanet_s001_t000.edf was passed, passed files: 205, read files: 289\n"
     ]
    },
    {
     "name": "stderr",
     "output_type": "stream",
     "text": [
      " 36%|██████████████████████████████████████████████▎                                                                                 | 496/1371 [20:43<32:33,  2.23s/it]"
     ]
    },
    {
     "name": "stdout",
     "output_type": "stream",
     "text": [
      "File aaaaapky_s001_t000.edf was passed, passed files: 206, read files: 291\n",
      "File aaaaapfz_s001_t000.edf was passed, passed files: 207, read files: 291\n",
      "File aaaaaeki_s002_t000.edf was passed, passed files: 208, read files: 291\n"
     ]
    },
    {
     "name": "stderr",
     "output_type": "stream",
     "text": [
      " 37%|██████████████████████████████████████████████▊                                                                                 | 501/1371 [20:51<29:42,  2.05s/it]"
     ]
    },
    {
     "name": "stdout",
     "output_type": "stream",
     "text": [
      "File aaaaapaz_s001_t000.edf was passed, passed files: 209, read files: 293\n"
     ]
    },
    {
     "name": "stderr",
     "output_type": "stream",
     "text": [
      " 37%|███████████████████████████████████████████████▏                                                                                | 506/1371 [21:08<46:22,  3.22s/it]"
     ]
    },
    {
     "name": "stdout",
     "output_type": "stream",
     "text": [
      "File aaaaapem_s001_t000.edf was passed, passed files: 210, read files: 297\n"
     ]
    },
    {
     "name": "stderr",
     "output_type": "stream",
     "text": [
      " 37%|███████████████████████████████████████████████▊                                                                                | 512/1371 [21:30<53:52,  3.76s/it]"
     ]
    },
    {
     "name": "stdout",
     "output_type": "stream",
     "text": [
      "File aaaaamoq_s002_t000.edf was passed, passed files: 211, read files: 302\n"
     ]
    },
    {
     "name": "stderr",
     "output_type": "stream",
     "text": [
      " 37%|███████████████████████████████████████████████▉                                                                                | 514/1371 [21:34<44:03,  3.08s/it]"
     ]
    },
    {
     "name": "stdout",
     "output_type": "stream",
     "text": [
      "File aaaaacbz_s002_t000.edf was passed, passed files: 212, read files: 303\n",
      "File aaaaancs_s001_t000.edf was passed, passed files: 213, read files: 303\n",
      "File aaaaanrv_s001_t000.edf was passed, passed files: 214, read files: 303\n"
     ]
    },
    {
     "name": "stderr",
     "output_type": "stream",
     "text": [
      " 38%|████████████████████████████████████████████████▏                                                                             | 525/1371 [22:15<1:17:16,  5.48s/it]"
     ]
    },
    {
     "name": "stdout",
     "output_type": "stream",
     "text": [
      "File aaaaapsa_s001_t000.edf was passed, passed files: 215, read files: 311\n"
     ]
    },
    {
     "name": "stderr",
     "output_type": "stream",
     "text": [
      " 39%|█████████████████████████████████████████████████▍                                                                              | 529/1371 [22:28<57:35,  4.10s/it]"
     ]
    },
    {
     "name": "stdout",
     "output_type": "stream",
     "text": [
      "File aaaaaowk_s001_t000.edf was passed, passed files: 216, read files: 314\n",
      "File aaaaamsu_s001_t000.edf was passed, passed files: 217, read files: 314\n",
      "File aaaaaood_s001_t002.edf was passed, passed files: 218, read files: 314\n"
     ]
    },
    {
     "name": "stderr",
     "output_type": "stream",
     "text": [
      " 39%|█████████████████████████████████████████████████▊                                                                              | 533/1371 [22:32<31:57,  2.29s/it]"
     ]
    },
    {
     "name": "stdout",
     "output_type": "stream",
     "text": [
      "File aaaaanbg_s001_t000.edf was passed, passed files: 219, read files: 315\n",
      "File aaaaaoyd_s001_t000.edf was passed, passed files: 220, read files: 315\n"
     ]
    },
    {
     "name": "stderr",
     "output_type": "stream",
     "text": [
      " 39%|██████████████████████████████████████████████████                                                                              | 536/1371 [22:36<26:39,  1.92s/it]"
     ]
    },
    {
     "name": "stdout",
     "output_type": "stream",
     "text": [
      "File aaaaamni_s001_t000.edf was passed, passed files: 221, read files: 316\n"
     ]
    },
    {
     "name": "stderr",
     "output_type": "stream",
     "text": [
      " 39%|██████████████████████████████████████████████████▏                                                                             | 538/1371 [22:40<26:44,  1.93s/it]"
     ]
    },
    {
     "name": "stdout",
     "output_type": "stream",
     "text": [
      "File aaaaaodm_s002_t000.edf was passed, passed files: 222, read files: 317\n"
     ]
    },
    {
     "name": "stderr",
     "output_type": "stream",
     "text": [
      " 39%|██████████████████████████████████████████████████▌                                                                             | 541/1371 [22:48<31:51,  2.30s/it]"
     ]
    },
    {
     "name": "stdout",
     "output_type": "stream",
     "text": [
      "File aaaaanbs_s001_t000.edf was passed, passed files: 223, read files: 319\n"
     ]
    },
    {
     "name": "stderr",
     "output_type": "stream",
     "text": [
      " 40%|██████████████████████████████████████████████████▋                                                                             | 543/1371 [22:52<31:29,  2.28s/it]"
     ]
    },
    {
     "name": "stdout",
     "output_type": "stream",
     "text": [
      "File aaaaalqm_s002_t000.edf was passed, passed files: 224, read files: 320\n",
      "File aaaaapde_s001_t000.edf was passed, passed files: 225, read files: 320\n",
      "File aaaaadfx_s004_t000.edf was passed, passed files: 226, read files: 320\n",
      "File aaaaamvc_s003_t001.edf was passed, passed files: 227, read files: 320\n",
      "File aaaaapvj_s001_t001.edf was passed, passed files: 228, read files: 320\n"
     ]
    },
    {
     "name": "stderr",
     "output_type": "stream",
     "text": [
      " 40%|███████████████████████████████████████████████████▊                                                                            | 555/1371 [23:22<46:57,  3.45s/it]"
     ]
    },
    {
     "name": "stdout",
     "output_type": "stream",
     "text": [
      "File aaaaanlu_s002_t000.edf was passed, passed files: 229, read files: 327\n",
      "File aaaaampm_s001_t000.edf was passed, passed files: 230, read files: 327\n"
     ]
    },
    {
     "name": "stderr",
     "output_type": "stream",
     "text": [
      " 41%|████████████████████████████████████████████████████▏                                                                           | 559/1371 [23:31<38:28,  2.84s/it]"
     ]
    },
    {
     "name": "stdout",
     "output_type": "stream",
     "text": [
      "File aaaaanvo_s001_t000.edf was passed, passed files: 231, read files: 329\n"
     ]
    },
    {
     "name": "stderr",
     "output_type": "stream",
     "text": [
      " 42%|█████████████████████████████████████████████████████▎                                                                          | 571/1371 [24:18<56:15,  4.22s/it]"
     ]
    },
    {
     "name": "stdout",
     "output_type": "stream",
     "text": [
      "File aaaaansv_s001_t001.edf was passed, passed files: 232, read files: 340\n"
     ]
    },
    {
     "name": "stderr",
     "output_type": "stream",
     "text": [
      " 42%|█████████████████████████████████████████████████████▍                                                                          | 573/1371 [24:22<44:12,  3.32s/it]"
     ]
    },
    {
     "name": "stdout",
     "output_type": "stream",
     "text": [
      "File aaaaapvi_s001_t001.edf was passed, passed files: 233, read files: 341\n"
     ]
    },
    {
     "name": "stderr",
     "output_type": "stream",
     "text": [
      " 42%|█████████████████████████████████████████████████████▋                                                                          | 575/1371 [24:26<37:20,  2.81s/it]"
     ]
    },
    {
     "name": "stdout",
     "output_type": "stream",
     "text": [
      "File aaaaaned_s001_t001.edf was passed, passed files: 234, read files: 342\n"
     ]
    },
    {
     "name": "stderr",
     "output_type": "stream",
     "text": [
      " 42%|█████████████████████████████████████████████████████▉                                                                          | 578/1371 [24:35<38:31,  2.91s/it]"
     ]
    },
    {
     "name": "stdout",
     "output_type": "stream",
     "text": [
      "File aaaaapcv_s001_t001.edf was passed, passed files: 235, read files: 344\n"
     ]
    },
    {
     "name": "stderr",
     "output_type": "stream",
     "text": [
      " 42%|██████████████████████████████████████████████████████▏                                                                         | 580/1371 [24:39<33:57,  2.58s/it]"
     ]
    },
    {
     "name": "stdout",
     "output_type": "stream",
     "text": [
      "File aaaaaaav_s004_t000.edf was passed, passed files: 236, read files: 345\n"
     ]
    },
    {
     "name": "stderr",
     "output_type": "stream",
     "text": [
      " 43%|██████████████████████████████████████████████████████▍                                                                         | 583/1371 [24:47<36:26,  2.77s/it]"
     ]
    },
    {
     "name": "stdout",
     "output_type": "stream",
     "text": [
      "File aaaaamzq_s001_t000.edf was passed, passed files: 237, read files: 347\n"
     ]
    },
    {
     "name": "stderr",
     "output_type": "stream",
     "text": [
      " 43%|█████████████████████████████████████████████████████▉                                                                        | 587/1371 [25:06<1:01:48,  4.73s/it]"
     ]
    },
    {
     "name": "stdout",
     "output_type": "stream",
     "text": [
      "File aaaaapdk_s001_t000.edf was passed, passed files: 238, read files: 350\n"
     ]
    },
    {
     "name": "stderr",
     "output_type": "stream",
     "text": [
      " 43%|███████████████████████████████████████████████████████                                                                         | 590/1371 [25:16<51:22,  3.95s/it]"
     ]
    },
    {
     "name": "stdout",
     "output_type": "stream",
     "text": [
      "File aaaaanyc_s003_t000.edf was passed, passed files: 239, read files: 352\n"
     ]
    },
    {
     "name": "stderr",
     "output_type": "stream",
     "text": [
      " 43%|███████████████████████████████████████████████████████▍                                                                        | 594/1371 [25:29<48:10,  3.72s/it]"
     ]
    },
    {
     "name": "stdout",
     "output_type": "stream",
     "text": [
      "File aaaaaomg_s001_t000.edf was passed, passed files: 240, read files: 355\n"
     ]
    },
    {
     "name": "stderr",
     "output_type": "stream",
     "text": [
      " 44%|███████████████████████████████████████████████████████▋                                                                        | 597/1371 [25:38<45:07,  3.50s/it]"
     ]
    },
    {
     "name": "stdout",
     "output_type": "stream",
     "text": [
      "File aaaaapik_s001_t001.edf was passed, passed files: 241, read files: 357\n",
      "File aaaaapkr_s001_t000.edf was passed, passed files: 242, read files: 357\n"
     ]
    },
    {
     "name": "stderr",
     "output_type": "stream",
     "text": [
      " 44%|████████████████████████████████████████████████████████▏                                                                       | 602/1371 [25:53<44:14,  3.45s/it]"
     ]
    },
    {
     "name": "stdout",
     "output_type": "stream",
     "text": [
      "File aaaaamyw_s001_t000.edf was passed, passed files: 243, read files: 360\n",
      "File aaaaapye_s001_t000.edf was passed, passed files: 244, read files: 360\n"
     ]
    },
    {
     "name": "stderr",
     "output_type": "stream",
     "text": [
      " 44%|████████████████████████████████████████████████████████▍                                                                       | 605/1371 [25:57<31:43,  2.48s/it]"
     ]
    },
    {
     "name": "stdout",
     "output_type": "stream",
     "text": [
      "File aaaaamvg_s004_t000.edf was passed, passed files: 245, read files: 361\n"
     ]
    },
    {
     "name": "stderr",
     "output_type": "stream",
     "text": [
      " 44%|████████████████████████████████████████████████████████▋                                                                       | 607/1371 [26:02<30:44,  2.41s/it]"
     ]
    },
    {
     "name": "stdout",
     "output_type": "stream",
     "text": [
      "File aaaaaoev_s001_t000.edf was passed, passed files: 246, read files: 362\n",
      "File aaaaapcc_s001_t001.edf was passed, passed files: 247, read files: 362\n"
     ]
    },
    {
     "name": "stderr",
     "output_type": "stream",
     "text": [
      " 44%|████████████████████████████████████████████████████████▉                                                                       | 610/1371 [26:06<25:23,  2.00s/it]"
     ]
    },
    {
     "name": "stdout",
     "output_type": "stream",
     "text": [
      "File aaaaapja_s001_t000.edf was passed, passed files: 248, read files: 363\n",
      "File aaaaaowf_s001_t000.edf was passed, passed files: 249, read files: 363\n",
      "File aaaaapfq_s002_t000.edf was passed, passed files: 250, read files: 363\n",
      "File aaaaaomk_s001_t000.edf was passed, passed files: 251, read files: 363\n",
      "File aaaaaoni_s001_t001.edf was passed, passed files: 252, read files: 363\n"
     ]
    },
    {
     "name": "stderr",
     "output_type": "stream",
     "text": [
      " 45%|█████████████████████████████████████████████████████████▌                                                                      | 617/1371 [26:15<20:59,  1.67s/it]"
     ]
    },
    {
     "name": "stdout",
     "output_type": "stream",
     "text": [
      "File aaaaapnu_s001_t000.edf was passed, passed files: 253, read files: 365\n",
      "File aaaaaola_s001_t000.edf was passed, passed files: 254, read files: 365\n",
      "File aaaaanaf_s001_t000.edf was passed, passed files: 255, read files: 365\n",
      "File aaaaaoru_s001_t001.edf was passed, passed files: 256, read files: 365\n"
     ]
    },
    {
     "name": "stderr",
     "output_type": "stream",
     "text": [
      " 45%|██████████████████████████████████████████████████████████▏                                                                     | 623/1371 [26:24<20:42,  1.66s/it]"
     ]
    },
    {
     "name": "stdout",
     "output_type": "stream",
     "text": [
      "File aaaaanse_s001_t000.edf was passed, passed files: 257, read files: 367\n",
      "File aaaaaedn_s004_t000.edf was passed, passed files: 258, read files: 367\n"
     ]
    },
    {
     "name": "stderr",
     "output_type": "stream",
     "text": [
      " 46%|██████████████████████████████████████████████████████████▍                                                                     | 626/1371 [26:28<20:05,  1.62s/it]"
     ]
    },
    {
     "name": "stdout",
     "output_type": "stream",
     "text": [
      "File aaaaamnx_s001_t000.edf was passed, passed files: 259, read files: 368\n",
      "File aaaaaodb_s002_t000.edf was passed, passed files: 260, read files: 368\n",
      "File aaaaamzo_s001_t001.edf was passed, passed files: 261, read files: 368\n"
     ]
    },
    {
     "name": "stderr",
     "output_type": "stream",
     "text": [
      " 46%|██████████████████████████████████████████████████████████▉                                                                     | 631/1371 [26:37<21:24,  1.74s/it]"
     ]
    },
    {
     "name": "stdout",
     "output_type": "stream",
     "text": [
      "File aaaaanfq_s001_t000.edf was passed, passed files: 262, read files: 370\n"
     ]
    },
    {
     "name": "stderr",
     "output_type": "stream",
     "text": [
      " 46%|███████████████████████████████████████████████████████████▏                                                                    | 634/1371 [26:46<28:28,  2.32s/it]"
     ]
    },
    {
     "name": "stdout",
     "output_type": "stream",
     "text": [
      "File aaaaaojl_s001_t001.edf was passed, passed files: 263, read files: 372\n",
      "File aaaaanzs_s002_t000.edf was passed, passed files: 264, read files: 372\n"
     ]
    },
    {
     "name": "stderr",
     "output_type": "stream",
     "text": [
      " 47%|███████████████████████████████████████████████████████████▌                                                                    | 638/1371 [26:55<28:35,  2.34s/it]"
     ]
    },
    {
     "name": "stdout",
     "output_type": "stream",
     "text": [
      "File aaaaapim_s001_t000.edf was passed, passed files: 265, read files: 374\n"
     ]
    },
    {
     "name": "stderr",
     "output_type": "stream",
     "text": [
      " 47%|███████████████████████████████████████████████████████████▊                                                                    | 640/1371 [26:59<28:06,  2.31s/it]"
     ]
    },
    {
     "name": "stdout",
     "output_type": "stream",
     "text": [
      "File aaaaamwi_s001_t000.edf was passed, passed files: 266, read files: 375\n"
     ]
    },
    {
     "name": "stderr",
     "output_type": "stream",
     "text": [
      " 47%|████████████████████████████████████████████████████████████▏                                                                   | 644/1371 [27:13<37:20,  3.08s/it]"
     ]
    },
    {
     "name": "stdout",
     "output_type": "stream",
     "text": [
      "File aaaaaenq_s004_t005.edf was passed, passed files: 267, read files: 378\n"
     ]
    },
    {
     "name": "stderr",
     "output_type": "stream",
     "text": [
      " 47%|████████████████████████████████████████████████████████████▍                                                                   | 647/1371 [27:21<36:32,  3.03s/it]"
     ]
    },
    {
     "name": "stdout",
     "output_type": "stream",
     "text": [
      "File aaaaaoig_s001_t000.edf was passed, passed files: 268, read files: 380\n",
      "File aaaaaors_s001_t001.edf was passed, passed files: 269, read files: 380\n",
      "File aaaaaoqu_s001_t000.edf was passed, passed files: 270, read files: 380\n",
      "File aaaaanom_s001_t000.edf was passed, passed files: 271, read files: 380\n",
      "File aaaaapoe_s001_t000.edf was passed, passed files: 272, read files: 380\n",
      "File aaaaamwt_s001_t000.edf was passed, passed files: 273, read files: 380\n"
     ]
    },
    {
     "name": "stderr",
     "output_type": "stream",
     "text": [
      " 48%|█████████████████████████████████████████████████████████████▏                                                                  | 655/1371 [27:30<20:26,  1.71s/it]"
     ]
    },
    {
     "name": "stdout",
     "output_type": "stream",
     "text": [
      "File aaaaapkc_s001_t000.edf was passed, passed files: 274, read files: 382\n",
      "File aaaaamws_s001_t000.edf was passed, passed files: 275, read files: 382\n"
     ]
    },
    {
     "name": "stderr",
     "output_type": "stream",
     "text": [
      " 48%|█████████████████████████████████████████████████████████████▊                                                                  | 662/1371 [27:52<36:56,  3.13s/it]"
     ]
    },
    {
     "name": "stdout",
     "output_type": "stream",
     "text": [
      "File aaaaadmp_s002_t001.edf was passed, passed files: 276, read files: 387\n",
      "File aaaaanqf_s001_t000.edf was passed, passed files: 277, read files: 387\n"
     ]
    },
    {
     "name": "stderr",
     "output_type": "stream",
     "text": [
      " 49%|██████████████████████████████████████████████████████████████                                                                  | 665/1371 [27:56<28:04,  2.39s/it]"
     ]
    },
    {
     "name": "stdout",
     "output_type": "stream",
     "text": [
      "File aaaaaorb_s001_t000.edf was passed, passed files: 278, read files: 388\n",
      "File aaaaanvd_s001_t000.edf was passed, passed files: 279, read files: 388\n"
     ]
    },
    {
     "name": "stderr",
     "output_type": "stream",
     "text": [
      " 49%|██████████████████████████████████████████████████████████████▋                                                                 | 671/1371 [28:12<32:20,  2.77s/it]"
     ]
    },
    {
     "name": "stdout",
     "output_type": "stream",
     "text": [
      "File aaaaanle_s001_t000.edf was passed, passed files: 280, read files: 392\n",
      "File aaaaapcn_s001_t000.edf was passed, passed files: 281, read files: 392\n",
      "File aaaaaprw_s001_t000.edf was passed, passed files: 282, read files: 392\n"
     ]
    },
    {
     "name": "stderr",
     "output_type": "stream",
     "text": [
      " 49%|███████████████████████████████████████████████████████████████                                                                 | 676/1371 [28:21<27:18,  2.36s/it]"
     ]
    },
    {
     "name": "stdout",
     "output_type": "stream",
     "text": [
      "File aaaaamxa_s001_t000.edf was passed, passed files: 283, read files: 394\n"
     ]
    },
    {
     "name": "stderr",
     "output_type": "stream",
     "text": [
      " 49%|███████████████████████████████████████████████████████████████▎                                                                | 678/1371 [28:25<26:15,  2.27s/it]"
     ]
    },
    {
     "name": "stdout",
     "output_type": "stream",
     "text": [
      "File aaaaanho_s001_t000.edf was passed, passed files: 284, read files: 395\n"
     ]
    },
    {
     "name": "stderr",
     "output_type": "stream",
     "text": [
      " 50%|███████████████████████████████████████████████████████████████▌                                                                | 681/1371 [28:34<29:44,  2.59s/it]"
     ]
    },
    {
     "name": "stdout",
     "output_type": "stream",
     "text": [
      "File aaaaamvf_s001_t000.edf was passed, passed files: 285, read files: 397\n"
     ]
    },
    {
     "name": "stderr",
     "output_type": "stream",
     "text": [
      " 50%|███████████████████████████████████████████████████████████████▊                                                                | 683/1371 [28:38<28:16,  2.47s/it]"
     ]
    },
    {
     "name": "stdout",
     "output_type": "stream",
     "text": [
      "File aaaaaoen_s003_t000.edf was passed, passed files: 286, read files: 398\n"
     ]
    },
    {
     "name": "stderr",
     "output_type": "stream",
     "text": [
      " 50%|███████████████████████████████████████████████████████████████▉                                                                | 685/1371 [28:42<25:56,  2.27s/it]"
     ]
    },
    {
     "name": "stdout",
     "output_type": "stream",
     "text": [
      "File aaaaaorr_s001_t001.edf was passed, passed files: 287, read files: 399\n"
     ]
    },
    {
     "name": "stderr",
     "output_type": "stream",
     "text": [
      " 50%|████████████████████████████████████████████████████████████████▎                                                               | 689/1371 [28:55<34:20,  3.02s/it]"
     ]
    },
    {
     "name": "stdout",
     "output_type": "stream",
     "text": [
      "File aaaaanqu_s001_t000.edf was passed, passed files: 288, read files: 402\n"
     ]
    },
    {
     "name": "stderr",
     "output_type": "stream",
     "text": [
      " 51%|████████████████████████████████████████████████████████████████▋                                                               | 693/1371 [29:08<35:34,  3.15s/it]"
     ]
    },
    {
     "name": "stdout",
     "output_type": "stream",
     "text": [
      "File aaaaanci_s001_t000.edf was passed, passed files: 289, read files: 405\n",
      "File aaaaanbw_s002_t000.edf was passed, passed files: 290, read files: 405\n",
      "File aaaaaoxx_s001_t001.edf was passed, passed files: 291, read files: 405\n"
     ]
    },
    {
     "name": "stderr",
     "output_type": "stream",
     "text": [
      " 51%|█████████████████████████████████████████████████████████████████                                                               | 697/1371 [29:12<21:44,  1.94s/it]"
     ]
    },
    {
     "name": "stdout",
     "output_type": "stream",
     "text": [
      "File aaaaanmw_s007_t000.edf was passed, passed files: 292, read files: 406\n",
      "File aaaaaone_s001_t001.edf was passed, passed files: 293, read files: 406\n",
      "File aaaaalvg_s002_t000.edf was passed, passed files: 294, read files: 406\n",
      "File aaaaanch_s001_t000.edf was passed, passed files: 295, read files: 406\n",
      "File aaaaangi_s001_t000.edf was passed, passed files: 296, read files: 406\n",
      "File aaaaapke_s001_t000.edf was passed, passed files: 297, read files: 406\n",
      "File aaaaaofi_s001_t000.edf was passed, passed files: 298, read files: 406\n"
     ]
    },
    {
     "name": "stderr",
     "output_type": "stream",
     "text": [
      " 51%|█████████████████████████████████████████████████████████████████▊                                                              | 705/1371 [29:16<11:34,  1.04s/it]"
     ]
    },
    {
     "name": "stdout",
     "output_type": "stream",
     "text": [
      "File aaaaaozk_s001_t000.edf was passed, passed files: 299, read files: 407\n",
      "File aaaaancu_s001_t000.edf was passed, passed files: 300, read files: 407\n"
     ]
    },
    {
     "name": "stderr",
     "output_type": "stream",
     "text": [
      " 52%|██████████████████████████████████████████████████████████████████                                                              | 708/1371 [29:19<11:50,  1.07s/it]"
     ]
    },
    {
     "name": "stdout",
     "output_type": "stream",
     "text": [
      "File aaaaapqm_s001_t000.edf was passed, passed files: 301, read files: 408\n",
      "File aaaaaoyv_s001_t000.edf was passed, passed files: 302, read files: 408\n",
      "File aaaaapnk_s001_t000.edf was passed, passed files: 303, read files: 408\n"
     ]
    },
    {
     "name": "stderr",
     "output_type": "stream",
     "text": [
      " 52%|██████████████████████████████████████████████████████████████████▍                                                             | 712/1371 [29:23<11:47,  1.07s/it]"
     ]
    },
    {
     "name": "stdout",
     "output_type": "stream",
     "text": [
      "File aaaaaplv_s001_t000.edf was passed, passed files: 304, read files: 409\n",
      "File aaaaapms_s001_t001.edf was passed, passed files: 305, read files: 409\n"
     ]
    },
    {
     "name": "stderr",
     "output_type": "stream",
     "text": [
      " 52%|██████████████████████████████████████████████████████████████████▊                                                             | 715/1371 [29:28<12:48,  1.17s/it]"
     ]
    },
    {
     "name": "stdout",
     "output_type": "stream",
     "text": [
      "File aaaaanvn_s001_t001.edf was passed, passed files: 306, read files: 410\n",
      "File aaaaaoqv_s002_t000.edf was passed, passed files: 307, read files: 410\n"
     ]
    },
    {
     "name": "stderr",
     "output_type": "stream",
     "text": [
      " 52%|███████████████████████████████████████████████████████████████████                                                             | 718/1371 [29:32<13:19,  1.22s/it]"
     ]
    },
    {
     "name": "stdout",
     "output_type": "stream",
     "text": [
      "File aaaaaawu_s005_t000.edf was passed, passed files: 308, read files: 411\n"
     ]
    },
    {
     "name": "stderr",
     "output_type": "stream",
     "text": [
      " 53%|███████████████████████████████████████████████████████████████████▏                                                            | 720/1371 [29:37<15:42,  1.45s/it]"
     ]
    },
    {
     "name": "stdout",
     "output_type": "stream",
     "text": [
      "File aaaaapmh_s001_t001.edf was passed, passed files: 309, read files: 412\n"
     ]
    },
    {
     "name": "stderr",
     "output_type": "stream",
     "text": [
      " 53%|███████████████████████████████████████████████████████████████████▍                                                            | 722/1371 [29:41<17:26,  1.61s/it]"
     ]
    },
    {
     "name": "stdout",
     "output_type": "stream",
     "text": [
      "File aaaaapej_s001_t001.edf was passed, passed files: 310, read files: 413\n",
      "File aaaaapzu_s001_t000.edf was passed, passed files: 311, read files: 413\n",
      "File aaaaantj_s001_t001.edf was passed, passed files: 312, read files: 413\n",
      "File aaaaacag_s002_t000.edf was passed, passed files: 313, read files: 413\n"
     ]
    },
    {
     "name": "stderr",
     "output_type": "stream",
     "text": [
      " 53%|████████████████████████████████████████████████████████████████████▎                                                           | 732/1371 [30:06<31:22,  2.95s/it]"
     ]
    },
    {
     "name": "stdout",
     "output_type": "stream",
     "text": [
      "File aaaaalzg_s009_t000.edf was passed, passed files: 314, read files: 419\n"
     ]
    },
    {
     "name": "stderr",
     "output_type": "stream",
     "text": [
      " 54%|████████████████████████████████████████████████████████████████████▌                                                           | 734/1371 [30:10<28:17,  2.67s/it]"
     ]
    },
    {
     "name": "stdout",
     "output_type": "stream",
     "text": [
      "File aaaaaphz_s001_t000.edf was passed, passed files: 315, read files: 420\n",
      "File aaaaanvl_s001_t000.edf was passed, passed files: 316, read files: 420\n"
     ]
    },
    {
     "name": "stderr",
     "output_type": "stream",
     "text": [
      " 54%|████████████████████████████████████████████████████████████████████▊                                                           | 737/1371 [30:14<21:04,  1.99s/it]"
     ]
    },
    {
     "name": "stdout",
     "output_type": "stream",
     "text": [
      "File aaaaapix_s001_t000.edf was passed, passed files: 317, read files: 421\n",
      "File aaaaansb_s001_t000.edf was passed, passed files: 318, read files: 421\n",
      "File aaaaaolv_s002_t000.edf was passed, passed files: 319, read files: 421\n"
     ]
    },
    {
     "name": "stderr",
     "output_type": "stream",
     "text": [
      " 54%|█████████████████████████████████████████████████████████████████████▏                                                          | 741/1371 [30:18<16:58,  1.62s/it]"
     ]
    },
    {
     "name": "stdout",
     "output_type": "stream",
     "text": [
      "File aaaaaocl_s002_t000.edf was passed, passed files: 320, read files: 422\n"
     ]
    },
    {
     "name": "stderr",
     "output_type": "stream",
     "text": [
      " 54%|█████████████████████████████████████████████████████████████████████▌                                                          | 745/1371 [30:31<26:01,  2.50s/it]"
     ]
    },
    {
     "name": "stdout",
     "output_type": "stream",
     "text": [
      "File aaaaamsw_s003_t000.edf was passed, passed files: 321, read files: 425\n"
     ]
    },
    {
     "name": "stderr",
     "output_type": "stream",
     "text": [
      " 55%|█████████████████████████████████████████████████████████████████████▊                                                          | 748/1371 [30:45<35:55,  3.46s/it]"
     ]
    },
    {
     "name": "stdout",
     "output_type": "stream",
     "text": [
      "File aaaaamzf_s001_t001.edf was passed, passed files: 322, read files: 427\n"
     ]
    },
    {
     "name": "stderr",
     "output_type": "stream",
     "text": [
      " 55%|██████████████████████████████████████████████████████████████████████                                                          | 750/1371 [30:49<30:40,  2.96s/it]"
     ]
    },
    {
     "name": "stdout",
     "output_type": "stream",
     "text": [
      "File aaaaaowg_s001_t000.edf was passed, passed files: 323, read files: 428\n",
      "File aaaaapkq_s001_t000.edf was passed, passed files: 324, read files: 428\n",
      "File aaaaankx_s001_t000.edf was passed, passed files: 325, read files: 428\n",
      "File aaaaapoj_s001_t000.edf was passed, passed files: 326, read files: 428\n"
     ]
    },
    {
     "name": "stderr",
     "output_type": "stream",
     "text": [
      " 55%|██████████████████████████████████████████████████████████████████████▍                                                         | 755/1371 [30:54<18:29,  1.80s/it]"
     ]
    },
    {
     "name": "stdout",
     "output_type": "stream",
     "text": [
      "File aaaaaonc_s001_t002.edf was passed, passed files: 327, read files: 429\n",
      "File aaaaapwt_s001_t000.edf was passed, passed files: 328, read files: 429\n"
     ]
    },
    {
     "name": "stderr",
     "output_type": "stream",
     "text": [
      " 55%|██████████████████████████████████████████████████████████████████████▊                                                         | 759/1371 [31:03<21:08,  2.07s/it]"
     ]
    },
    {
     "name": "stdout",
     "output_type": "stream",
     "text": [
      "File aaaaakth_s003_t000.edf was passed, passed files: 329, read files: 431\n"
     ]
    },
    {
     "name": "stderr",
     "output_type": "stream",
     "text": [
      " 56%|███████████████████████████████████████████████████████████████████████                                                         | 761/1371 [31:07<21:27,  2.11s/it]"
     ]
    },
    {
     "name": "stdout",
     "output_type": "stream",
     "text": [
      "File aaaaanmm_s001_t001.edf was passed, passed files: 330, read files: 432\n",
      "File aaaaapql_s001_t000.edf was passed, passed files: 331, read files: 432\n"
     ]
    },
    {
     "name": "stderr",
     "output_type": "stream",
     "text": [
      " 56%|███████████████████████████████████████████████████████████████████████▌                                                        | 766/1371 [31:20<25:50,  2.56s/it]"
     ]
    },
    {
     "name": "stdout",
     "output_type": "stream",
     "text": [
      "File aaaaaojy_s001_t000.edf was passed, passed files: 332, read files: 435\n"
     ]
    },
    {
     "name": "stderr",
     "output_type": "stream",
     "text": [
      " 56%|███████████████████████████████████████████████████████████████████████▊                                                        | 769/1371 [31:29<28:54,  2.88s/it]"
     ]
    },
    {
     "name": "stdout",
     "output_type": "stream",
     "text": [
      "File aaaaantb_s001_t000.edf was passed, passed files: 333, read files: 437\n"
     ]
    },
    {
     "name": "stderr",
     "output_type": "stream",
     "text": [
      " 56%|████████████████████████████████████████████████████████████████████████▏                                                       | 773/1371 [31:42<32:46,  3.29s/it]"
     ]
    },
    {
     "name": "stdout",
     "output_type": "stream",
     "text": [
      "File aaaaaoiz_s001_t000.edf was passed, passed files: 334, read files: 440\n"
     ]
    },
    {
     "name": "stderr",
     "output_type": "stream",
     "text": [
      " 57%|████████████████████████████████████████████████████████████████████████▎                                                       | 775/1371 [31:46<27:47,  2.80s/it]"
     ]
    },
    {
     "name": "stdout",
     "output_type": "stream",
     "text": [
      "File aaaaannf_s001_t001.edf was passed, passed files: 335, read files: 441\n"
     ]
    },
    {
     "name": "stderr",
     "output_type": "stream",
     "text": [
      " 57%|████████████████████████████████████████████████████████████████████████▊                                                       | 780/1371 [32:04<34:13,  3.47s/it]"
     ]
    },
    {
     "name": "stdout",
     "output_type": "stream",
     "text": [
      "File aaaaahsy_s002_t000.edf was passed, passed files: 336, read files: 445\n"
     ]
    },
    {
     "name": "stderr",
     "output_type": "stream",
     "text": [
      " 57%|█████████████████████████████████████████████████████████████████████████▍                                                      | 787/1371 [32:34<52:15,  5.37s/it]"
     ]
    },
    {
     "name": "stdout",
     "output_type": "stream",
     "text": [
      "File aaaaaetn_s002_t000.edf was passed, passed files: 337, read files: 451\n",
      "File aaaaapju_s001_t000.edf was passed, passed files: 338, read files: 451\n"
     ]
    },
    {
     "name": "stderr",
     "output_type": "stream",
     "text": [
      " 58%|█████████████████████████████████████████████████████████████████████████▊                                                      | 790/1371 [32:39<31:40,  3.27s/it]"
     ]
    },
    {
     "name": "stdout",
     "output_type": "stream",
     "text": [
      "File aaaaaiuk_s002_t000.edf was passed, passed files: 339, read files: 452\n"
     ]
    },
    {
     "name": "stderr",
     "output_type": "stream",
     "text": [
      " 58%|██████████████████████████████████████████████████████████████████████████                                                      | 793/1371 [32:46<29:04,  3.02s/it]"
     ]
    },
    {
     "name": "stdout",
     "output_type": "stream",
     "text": [
      "File aaaaaoyo_s001_t000.edf was passed, passed files: 340, read files: 454\n",
      "File aaaaaorv_s001_t000.edf was passed, passed files: 341, read files: 454\n"
     ]
    },
    {
     "name": "stderr",
     "output_type": "stream",
     "text": [
      " 58%|██████████████████████████████████████████████████████████████████████████▎                                                     | 796/1371 [32:51<22:44,  2.37s/it]"
     ]
    },
    {
     "name": "stdout",
     "output_type": "stream",
     "text": [
      "File aaaaannz_s001_t000.edf was passed, passed files: 342, read files: 455\n"
     ]
    },
    {
     "name": "stderr",
     "output_type": "stream",
     "text": [
      " 58%|██████████████████████████████████████████████████████████████████████████▊                                                     | 801/1371 [33:08<30:52,  3.25s/it]"
     ]
    },
    {
     "name": "stdout",
     "output_type": "stream",
     "text": [
      "File aaaaaoyi_s001_t000.edf was passed, passed files: 343, read files: 459\n"
     ]
    },
    {
     "name": "stderr",
     "output_type": "stream",
     "text": [
      " 59%|███████████████████████████████████████████████████████████████████████████                                                     | 804/1371 [33:16<27:47,  2.94s/it]"
     ]
    },
    {
     "name": "stdout",
     "output_type": "stream",
     "text": [
      "File aaaaaolx_s001_t000.edf was passed, passed files: 344, read files: 461\n"
     ]
    },
    {
     "name": "stderr",
     "output_type": "stream",
     "text": [
      " 59%|███████████████████████████████████████████████████████████████████████████▍                                                    | 808/1371 [33:28<29:22,  3.13s/it]"
     ]
    },
    {
     "name": "stdout",
     "output_type": "stream",
     "text": [
      "File aaaaapcd_s001_t000.edf was passed, passed files: 345, read files: 464\n"
     ]
    },
    {
     "name": "stderr",
     "output_type": "stream",
     "text": [
      " 59%|███████████████████████████████████████████████████████████████████████████▌                                                    | 810/1371 [33:32<25:45,  2.76s/it]"
     ]
    },
    {
     "name": "stdout",
     "output_type": "stream",
     "text": [
      "File aaaaanov_s001_t000.edf was passed, passed files: 346, read files: 465\n"
     ]
    },
    {
     "name": "stderr",
     "output_type": "stream",
     "text": [
      " 59%|████████████████████████████████████████████████████████████████████████████                                                    | 815/1371 [33:49<31:29,  3.40s/it]"
     ]
    },
    {
     "name": "stdout",
     "output_type": "stream",
     "text": [
      "File aaaaamsx_s001_t000.edf was passed, passed files: 347, read files: 469\n"
     ]
    },
    {
     "name": "stderr",
     "output_type": "stream",
     "text": [
      " 60%|█████████████████████████████████████████████████████████████████████████████                                                   | 825/1371 [34:33<41:01,  4.51s/it]"
     ]
    },
    {
     "name": "stdout",
     "output_type": "stream",
     "text": [
      "File aaaaapdd_s001_t001.edf was passed, passed files: 348, read files: 478\n"
     ]
    },
    {
     "name": "stderr",
     "output_type": "stream",
     "text": [
      " 61%|█████████████████████████████████████████████████████████████████████████████▊                                                  | 833/1371 [35:02<36:50,  4.11s/it]"
     ]
    },
    {
     "name": "stdout",
     "output_type": "stream",
     "text": [
      "File aaaaaomi_s001_t000.edf was passed, passed files: 349, read files: 485\n"
     ]
    },
    {
     "name": "stderr",
     "output_type": "stream",
     "text": [
      " 61%|██████████████████████████████████████████████████████████████████████████████▍                                                 | 840/1371 [35:28<34:36,  3.91s/it]"
     ]
    },
    {
     "name": "stdout",
     "output_type": "stream",
     "text": [
      "File aaaaanaw_s001_t000.edf was passed, passed files: 350, read files: 491\n"
     ]
    },
    {
     "name": "stderr",
     "output_type": "stream",
     "text": [
      " 62%|██████████████████████████████████████████████████████████████████████████████▉                                                 | 845/1371 [35:46<35:09,  4.01s/it]"
     ]
    },
    {
     "name": "stdout",
     "output_type": "stream",
     "text": [
      "File aaaaanyj_s001_t000.edf was passed, passed files: 351, read files: 495\n",
      "File aaaaantl_s001_t001.edf was passed, passed files: 352, read files: 495\n",
      "File aaaaamxf_s001_t000.edf was passed, passed files: 353, read files: 495\n"
     ]
    },
    {
     "name": "stderr",
     "output_type": "stream",
     "text": [
      " 62%|███████████████████████████████████████████████████████████████████████████████▉                                                | 856/1371 [36:19<34:25,  4.01s/it]"
     ]
    },
    {
     "name": "stdout",
     "output_type": "stream",
     "text": [
      "File aaaaamoc_s002_t000.edf was passed, passed files: 354, read files: 503\n"
     ]
    },
    {
     "name": "stderr",
     "output_type": "stream",
     "text": [
      " 63%|████████████████████████████████████████████████████████████████████████████████▏                                               | 859/1371 [36:27<28:44,  3.37s/it]"
     ]
    },
    {
     "name": "stdout",
     "output_type": "stream",
     "text": [
      "File aaaaaoyy_s001_t000.edf was passed, passed files: 355, read files: 505\n"
     ]
    },
    {
     "name": "stderr",
     "output_type": "stream",
     "text": [
      " 63%|████████████████████████████████████████████████████████████████████████████████▍                                               | 861/1371 [36:31<23:55,  2.81s/it]"
     ]
    },
    {
     "name": "stdout",
     "output_type": "stream",
     "text": [
      "File aaaaanto_s001_t000.edf was passed, passed files: 356, read files: 506\n",
      "File aaaaaicc_s003_t000.edf was passed, passed files: 357, read files: 506\n",
      "File aaaaaocu_s001_t000.edf was passed, passed files: 358, read files: 506\n"
     ]
    },
    {
     "name": "stderr",
     "output_type": "stream",
     "text": [
      " 63%|████████████████████████████████████████████████████████████████████████████████▊                                               | 865/1371 [36:35<15:32,  1.84s/it]"
     ]
    },
    {
     "name": "stdout",
     "output_type": "stream",
     "text": [
      "File aaaaaojl_s002_t000.edf was passed, passed files: 359, read files: 507\n"
     ]
    },
    {
     "name": "stderr",
     "output_type": "stream",
     "text": [
      " 64%|█████████████████████████████████████████████████████████████████████████████████▊                                              | 876/1371 [37:17<33:36,  4.07s/it]"
     ]
    },
    {
     "name": "stdout",
     "output_type": "stream",
     "text": [
      "File aaaaaofq_s002_t000.edf was passed, passed files: 360, read files: 517\n",
      "File aaaaapen_s001_t000.edf was passed, passed files: 361, read files: 517\n"
     ]
    },
    {
     "name": "stderr",
     "output_type": "stream",
     "text": [
      " 64%|██████████████████████████████████████████████████████████████████████████████████                                              | 879/1371 [37:21<20:19,  2.48s/it]"
     ]
    },
    {
     "name": "stdout",
     "output_type": "stream",
     "text": [
      "File aaaaapoz_s001_t002.edf was passed, passed files: 362, read files: 518\n",
      "File aaaaanmr_s002_t000.edf was passed, passed files: 363, read files: 518\n",
      "File aaaaaqax_s001_t000.edf was passed, passed files: 364, read files: 518\n"
     ]
    },
    {
     "name": "stderr",
     "output_type": "stream",
     "text": [
      " 64%|██████████████████████████████████████████████████████████████████████████████████▍                                             | 883/1371 [37:25<14:11,  1.74s/it]"
     ]
    },
    {
     "name": "stdout",
     "output_type": "stream",
     "text": [
      "File aaaaapuk_s001_t000.edf was passed, passed files: 365, read files: 519\n"
     ]
    },
    {
     "name": "stderr",
     "output_type": "stream",
     "text": [
      " 65%|██████████████████████████████████████████████████████████████████████████████████▋                                             | 886/1371 [37:33<17:25,  2.16s/it]"
     ]
    },
    {
     "name": "stdout",
     "output_type": "stream",
     "text": [
      "File aaaaapmu_s001_t000.edf was passed, passed files: 366, read files: 521\n"
     ]
    },
    {
     "name": "stderr",
     "output_type": "stream",
     "text": [
      " 65%|███████████████████████████████████████████████████████████████████████████████████▏                                            | 891/1371 [37:50<26:13,  3.28s/it]"
     ]
    },
    {
     "name": "stdout",
     "output_type": "stream",
     "text": [
      "File aaaaaphv_s001_t000.edf was passed, passed files: 367, read files: 525\n",
      "File aaaaapnd_s001_t001.edf was passed, passed files: 368, read files: 525\n",
      "File aaaaands_s002_t000.edf was passed, passed files: 369, read files: 525\n"
     ]
    },
    {
     "name": "stderr",
     "output_type": "stream",
     "text": [
      " 65%|███████████████████████████████████████████████████████████████████████████████████▌                                            | 895/1371 [37:54<15:10,  1.91s/it]"
     ]
    },
    {
     "name": "stdout",
     "output_type": "stream",
     "text": [
      "File aaaaapkw_s001_t002.edf was passed, passed files: 370, read files: 526\n",
      "File aaaaafyz_s002_t001.edf was passed, passed files: 371, read files: 526\n",
      "File aaaaanpg_s001_t000.edf was passed, passed files: 372, read files: 526\n"
     ]
    },
    {
     "name": "stderr",
     "output_type": "stream",
     "text": [
      " 66%|████████████████████████████████████████████████████████████████████████████████████                                            | 900/1371 [38:03<15:33,  1.98s/it]"
     ]
    },
    {
     "name": "stdout",
     "output_type": "stream",
     "text": [
      "File aaaaappg_s001_t002.edf was passed, passed files: 373, read files: 528\n"
     ]
    },
    {
     "name": "stderr",
     "output_type": "stream",
     "text": [
      " 66%|████████████████████████████████████████████████████████████████████████████████████▍                                           | 904/1371 [38:15<20:17,  2.61s/it]"
     ]
    },
    {
     "name": "stdout",
     "output_type": "stream",
     "text": [
      "File aaaaanzp_s001_t000.edf was passed, passed files: 374, read files: 531\n"
     ]
    },
    {
     "name": "stderr",
     "output_type": "stream",
     "text": [
      " 66%|████████████████████████████████████████████████████████████████████████████████████▌                                           | 906/1371 [38:17<16:49,  2.17s/it]"
     ]
    },
    {
     "name": "stdout",
     "output_type": "stream",
     "text": [
      "File aaaaaoaz_s001_t000.edf was passed, passed files: 375, read files: 532\n"
     ]
    },
    {
     "name": "stderr",
     "output_type": "stream",
     "text": [
      " 67%|█████████████████████████████████████████████████████████████████████████████████████▏                                          | 912/1371 [38:38<26:29,  3.46s/it]"
     ]
    },
    {
     "name": "stdout",
     "output_type": "stream",
     "text": [
      "File aaaaaoci_s001_t000.edf was passed, passed files: 376, read files: 537\n",
      "File aaaaanbi_s001_t000.edf was passed, passed files: 377, read files: 537\n"
     ]
    },
    {
     "name": "stderr",
     "output_type": "stream",
     "text": [
      " 67%|█████████████████████████████████████████████████████████████████████████████████████▉                                          | 921/1371 [39:12<30:48,  4.11s/it]"
     ]
    },
    {
     "name": "stdout",
     "output_type": "stream",
     "text": [
      "File aaaaanvx_s001_t000.edf was passed, passed files: 378, read files: 544\n",
      "File aaaaangk_s001_t000.edf was passed, passed files: 379, read files: 544\n"
     ]
    },
    {
     "name": "stderr",
     "output_type": "stream",
     "text": [
      " 67%|██████████████████████████████████████████████████████████████████████████████████████▎                                         | 925/1371 [39:20<21:46,  2.93s/it]"
     ]
    },
    {
     "name": "stdout",
     "output_type": "stream",
     "text": [
      "File aaaaaokd_s002_t000.edf was passed, passed files: 380, read files: 546\n",
      "File aaaaapaj_s001_t000.edf was passed, passed files: 381, read files: 546\n"
     ]
    },
    {
     "name": "stderr",
     "output_type": "stream",
     "text": [
      " 68%|██████████████████████████████████████████████████████████████████████████████████████▋                                         | 928/1371 [39:25<16:14,  2.20s/it]"
     ]
    },
    {
     "name": "stdout",
     "output_type": "stream",
     "text": [
      "File aaaaanep_s004_t000.edf was passed, passed files: 382, read files: 547\n",
      "File aaaaanzw_s001_t000.edf was passed, passed files: 383, read files: 547\n"
     ]
    },
    {
     "name": "stderr",
     "output_type": "stream",
     "text": [
      " 68%|███████████████████████████████████████████████████████████████████████████████████████▍                                        | 936/1371 [39:51<27:09,  3.75s/it]"
     ]
    },
    {
     "name": "stdout",
     "output_type": "stream",
     "text": [
      "File aaaaapnc_s001_t000.edf was passed, passed files: 384, read files: 553\n",
      "File aaaaaplu_s001_t001.edf was passed, passed files: 385, read files: 553\n",
      "File aaaaaopp_s001_t000.edf was passed, passed files: 386, read files: 553\n"
     ]
    },
    {
     "name": "stderr",
     "output_type": "stream",
     "text": [
      " 69%|███████████████████████████████████████████████████████████████████████████████████████▊                                        | 941/1371 [39:59<18:01,  2.51s/it]"
     ]
    },
    {
     "name": "stdout",
     "output_type": "stream",
     "text": [
      "File aaaaaknp_s002_t000.edf was passed, passed files: 387, read files: 555\n",
      "File aaaaacyc_s003_t000.edf was passed, passed files: 388, read files: 555\n"
     ]
    },
    {
     "name": "stderr",
     "output_type": "stream",
     "text": [
      " 69%|████████████████████████████████████████████████████████████████████████████████████████▏                                       | 944/1371 [40:03<14:41,  2.06s/it]"
     ]
    },
    {
     "name": "stdout",
     "output_type": "stream",
     "text": [
      "File aaaaapqn_s001_t000.edf was passed, passed files: 389, read files: 556\n"
     ]
    },
    {
     "name": "stderr",
     "output_type": "stream",
     "text": [
      " 69%|████████████████████████████████████████████████████████████████████████████████████████▎                                       | 946/1371 [40:09<16:33,  2.34s/it]"
     ]
    },
    {
     "name": "stdout",
     "output_type": "stream",
     "text": [
      "File aaaaanew_s001_t000.edf was passed, passed files: 390, read files: 557\n"
     ]
    },
    {
     "name": "stderr",
     "output_type": "stream",
     "text": [
      " 69%|████████████████████████████████████████████████████████████████████████████████████████▌                                       | 948/1371 [40:14<16:09,  2.29s/it]"
     ]
    },
    {
     "name": "stdout",
     "output_type": "stream",
     "text": [
      "File aaaaaosq_s001_t000.edf was passed, passed files: 391, read files: 558\n",
      "File aaaaaksc_s004_t000.edf was passed, passed files: 392, read files: 558\n"
     ]
    },
    {
     "name": "stderr",
     "output_type": "stream",
     "text": [
      " 69%|████████████████████████████████████████████████████████████████████████████████████████▉                                       | 952/1371 [40:22<15:51,  2.27s/it]"
     ]
    },
    {
     "name": "stdout",
     "output_type": "stream",
     "text": [
      "File aaaaagwa_s003_t000.edf was passed, passed files: 393, read files: 560\n",
      "File aaaaanvd_s002_t000.edf was passed, passed files: 394, read files: 560\n",
      "File aaaaankg_s001_t002.edf was passed, passed files: 395, read files: 560\n"
     ]
    },
    {
     "name": "stderr",
     "output_type": "stream",
     "text": [
      " 70%|█████████████████████████████████████████████████████████████████████████████████████████▌                                      | 959/1371 [40:38<18:35,  2.71s/it]"
     ]
    },
    {
     "name": "stdout",
     "output_type": "stream",
     "text": [
      "File aaaaaeoe_s002_t000.edf was passed, passed files: 396, read files: 564\n"
     ]
    },
    {
     "name": "stderr",
     "output_type": "stream",
     "text": [
      " 70%|██████████████████████████████████████████████████████████████████████████████████████████                                      | 964/1371 [40:55<23:06,  3.41s/it]"
     ]
    },
    {
     "name": "stdout",
     "output_type": "stream",
     "text": [
      "File aaaaaodh_s001_t000.edf was passed, passed files: 397, read files: 568\n"
     ]
    },
    {
     "name": "stderr",
     "output_type": "stream",
     "text": [
      " 70%|██████████████████████████████████████████████████████████████████████████████████████████▏                                     | 966/1371 [40:59<19:23,  2.87s/it]"
     ]
    },
    {
     "name": "stdout",
     "output_type": "stream",
     "text": [
      "File aaaaabzx_s004_t000.edf was passed, passed files: 398, read files: 569\n",
      "File aaaaanmr_s001_t002.edf was passed, passed files: 399, read files: 569\n"
     ]
    },
    {
     "name": "stderr",
     "output_type": "stream",
     "text": [
      " 71%|██████████████████████████████████████████████████████████████████████████████████████████▌                                     | 970/1371 [41:08<17:50,  2.67s/it]"
     ]
    },
    {
     "name": "stdout",
     "output_type": "stream",
     "text": [
      "File aaaaapqc_s001_t000.edf was passed, passed files: 400, read files: 571\n"
     ]
    },
    {
     "name": "stderr",
     "output_type": "stream",
     "text": [
      " 71%|███████████████████████████████████████████████████████████████████████████████████████████                                     | 976/1371 [41:29<23:33,  3.58s/it]"
     ]
    },
    {
     "name": "stdout",
     "output_type": "stream",
     "text": [
      "File aaaaamnz_s001_t000.edf was passed, passed files: 401, read files: 576\n"
     ]
    },
    {
     "name": "stderr",
     "output_type": "stream",
     "text": [
      " 72%|███████████████████████████████████████████████████████████████████████████████████████████▊                                    | 983/1371 [41:54<25:12,  3.90s/it]"
     ]
    },
    {
     "name": "stdout",
     "output_type": "stream",
     "text": [
      "File aaaaankq_s001_t000.edf was passed, passed files: 402, read files: 582\n",
      "File aaaaapku_s001_t000.edf was passed, passed files: 403, read files: 582\n"
     ]
    },
    {
     "name": "stderr",
     "output_type": "stream",
     "text": [
      " 72%|████████████████████████████████████████████████████████████████████████████████████████████                                    | 986/1371 [41:59<16:22,  2.55s/it]"
     ]
    },
    {
     "name": "stdout",
     "output_type": "stream",
     "text": [
      "File aaaaaniz_s001_t000.edf was passed, passed files: 404, read files: 583\n"
     ]
    },
    {
     "name": "stderr",
     "output_type": "stream",
     "text": [
      " 72%|████████████████████████████████████████████████████████████████████████████████████████████▌                                   | 992/1371 [42:19<21:54,  3.47s/it]"
     ]
    },
    {
     "name": "stdout",
     "output_type": "stream",
     "text": [
      "File aaaaaonk_s001_t000.edf was passed, passed files: 405, read files: 588\n",
      "File aaaaahxr_s002_t000.edf was passed, passed files: 406, read files: 588\n"
     ]
    },
    {
     "name": "stderr",
     "output_type": "stream",
     "text": [
      " 73%|████████████████████████████████████████████████████████████████████████████████████████████▉                                   | 996/1371 [42:28<18:00,  2.88s/it]"
     ]
    },
    {
     "name": "stdout",
     "output_type": "stream",
     "text": [
      "File aaaaaoym_s001_t000.edf was passed, passed files: 407, read files: 590\n"
     ]
    },
    {
     "name": "stderr",
     "output_type": "stream",
     "text": [
      " 73%|█████████████████████████████████████████████████████████████████████████████████████████████▏                                  | 998/1371 [42:33<16:24,  2.64s/it]"
     ]
    },
    {
     "name": "stdout",
     "output_type": "stream",
     "text": [
      "File aaaaappf_s001_t000.edf was passed, passed files: 408, read files: 591\n"
     ]
    },
    {
     "name": "stderr",
     "output_type": "stream",
     "text": [
      " 73%|████████████████████████████████████████████████████████████████████████████████████████████▋                                  | 1000/1371 [42:37<15:13,  2.46s/it]"
     ]
    },
    {
     "name": "stdout",
     "output_type": "stream",
     "text": [
      "File aaaaansq_s001_t000.edf was passed, passed files: 409, read files: 592\n"
     ]
    },
    {
     "name": "stderr",
     "output_type": "stream",
     "text": [
      " 73%|████████████████████████████████████████████████████████████████████████████████████████████▊                                  | 1002/1371 [42:41<14:42,  2.39s/it]"
     ]
    },
    {
     "name": "stdout",
     "output_type": "stream",
     "text": [
      "File aaaaanha_s001_t000.edf was passed, passed files: 410, read files: 593\n",
      "File aaaaaozg_s001_t000.edf was passed, passed files: 411, read files: 593\n"
     ]
    },
    {
     "name": "stderr",
     "output_type": "stream",
     "text": [
      " 74%|█████████████████████████████████████████████████████████████████████████████████████████████▎                                 | 1008/1371 [42:58<18:15,  3.02s/it]"
     ]
    },
    {
     "name": "stdout",
     "output_type": "stream",
     "text": [
      "File aaaaanyq_s001_t000.edf was passed, passed files: 412, read files: 597\n",
      "File aaaaango_s001_t000.edf was passed, passed files: 413, read files: 597\n"
     ]
    },
    {
     "name": "stderr",
     "output_type": "stream",
     "text": [
      " 74%|█████████████████████████████████████████████████████████████████████████████████████████████▋                                 | 1012/1371 [43:06<15:13,  2.54s/it]"
     ]
    },
    {
     "name": "stdout",
     "output_type": "stream",
     "text": [
      "File aaaaandl_s001_t001.edf was passed, passed files: 414, read files: 599\n"
     ]
    },
    {
     "name": "stderr",
     "output_type": "stream",
     "text": [
      " 74%|██████████████████████████████████████████████████████████████████████████████████████████████▎                                | 1018/1371 [43:27<20:47,  3.53s/it]"
     ]
    },
    {
     "name": "stdout",
     "output_type": "stream",
     "text": [
      "File aaaaamwp_s002_t000.edf was passed, passed files: 415, read files: 604\n"
     ]
    },
    {
     "name": "stderr",
     "output_type": "stream",
     "text": [
      " 74%|██████████████████████████████████████████████████████████████████████████████████████████████▌                                | 1021/1371 [43:35<18:49,  3.23s/it]"
     ]
    },
    {
     "name": "stdout",
     "output_type": "stream",
     "text": [
      "File aaaaafwl_s003_t000.edf was passed, passed files: 416, read files: 606\n"
     ]
    },
    {
     "name": "stderr",
     "output_type": "stream",
     "text": [
      " 75%|██████████████████████████████████████████████████████████████████████████████████████████████▉                                | 1025/1371 [43:49<20:36,  3.57s/it]"
     ]
    },
    {
     "name": "stdout",
     "output_type": "stream",
     "text": [
      "File aaaaakce_s002_t002.edf was passed, passed files: 417, read files: 609\n"
     ]
    },
    {
     "name": "stderr",
     "output_type": "stream",
     "text": [
      " 75%|███████████████████████████████████████████████████████████████████████████████████████████████▏                               | 1027/1371 [43:53<16:56,  2.95s/it]"
     ]
    },
    {
     "name": "stdout",
     "output_type": "stream",
     "text": [
      "File aaaaamrx_s002_t000.edf was passed, passed files: 418, read files: 610\n"
     ]
    },
    {
     "name": "stderr",
     "output_type": "stream",
     "text": [
      " 75%|███████████████████████████████████████████████████████████████████████████████████████████████▎                               | 1029/1371 [43:58<15:29,  2.72s/it]"
     ]
    },
    {
     "name": "stdout",
     "output_type": "stream",
     "text": [
      "File aaaaajqr_s002_t000.edf was passed, passed files: 419, read files: 611\n",
      "File aaaaaoph_s001_t000.edf was passed, passed files: 420, read files: 611\n"
     ]
    },
    {
     "name": "stderr",
     "output_type": "stream",
     "text": [
      " 75%|███████████████████████████████████████████████████████████████████████████████████████████████▌                               | 1032/1371 [44:02<12:10,  2.15s/it]"
     ]
    },
    {
     "name": "stdout",
     "output_type": "stream",
     "text": [
      "File aaaaamwf_s002_t000.edf was passed, passed files: 421, read files: 612\n"
     ]
    },
    {
     "name": "stderr",
     "output_type": "stream",
     "text": [
      " 75%|███████████████████████████████████████████████████████████████████████████████████████████████▉                               | 1035/1371 [44:10<13:54,  2.48s/it]"
     ]
    },
    {
     "name": "stdout",
     "output_type": "stream",
     "text": [
      "File aaaaanvq_s001_t000.edf was passed, passed files: 422, read files: 614\n"
     ]
    }
   ],
   "source": [
    "# #preprocess\n",
    "# for n_secs in [1, 2, 4, 5, 10, 15, 30, 60]:\n",
    "#     print(f\"Processing files for {n_secs=}\")\n",
    "#     # picked_channels = ['EEG FZ-REF', 'EEG CZ-REF', 'EEG PZ-REF']\n",
    "#     picked_channels = ['EEG O1-REF', 'EEG O2-REF', 'EEG T3-REF', 'EEG T4-REF']\n",
    "#     picked_channels_tag = \"o1_o2_t3_t4\"\n",
    "#     target_freq = 128\n",
    "#     n_samples_per_chunk=target_freq*n_secs\n",
    "    \n",
    "#     chunks_file_name = f\"chunks{picked_channels_tag}_{len(picked_channels)}x{n_samples_per_chunk}\"\n",
    "#     targets_file_name = f\"targets_{picked_channels_tag}_{len(picked_channels)}x{n_samples_per_chunk}\"\n",
    "\n",
    "#     remove_files(TUAB_TRAIN, [chunks_file_name, targets_file_name])\n",
    "#     remove_files(TUAB_EVAL, [chunks_file_name, targets_file_name]) \n",
    "    \n",
    "#     preprocessTUABdata(\n",
    "#         picked_channels, \n",
    "#         chunks_file_name, \n",
    "#         targets_file_name, \n",
    "#         TUAB_TRAIN, \n",
    "#         TUAB_EVAL, \n",
    "    \n",
    "#         target_freq=target_freq,\n",
    "#         n_samples_per_chunk=n_samples_per_chunk,\n",
    "        \n",
    "#         force_recompute=True,\n",
    "#         is_save=True,\n",
    "#         n_files=None,\n",
    "#         n_chunks_max=None,\n",
    "#     )\n",
    "    \n",
    "#     dataset = getTUABdataset(\n",
    "#         TUAB_TRAIN, \n",
    "#         TUAB_EVAL, \n",
    "#         chunks_file_name, \n",
    "#         targets_file_name,\n",
    "        \n",
    "#         n_channels=len(picked_channels),\n",
    "#         n_samples_per_chunk=n_samples_per_chunk,\n",
    "#         val_size=0.1,\n",
    "#         SEED=SEED,\n",
    "#     )\n",
    "    \n",
    "#     save_preprocessed_data(\n",
    "#         dataset, \n",
    "#         os.path.join(TUAB_DIRECTORY, picked_channels_tag, f\"dataset_{target_freq}_{n_samples_per_chunk/target_freq:.1f}.pkl\")\n",
    "#     )"
   ]
  },
  {
   "cell_type": "markdown",
   "id": "1c3e98ca-cb58-4789-93b2-2ede73c27016",
   "metadata": {
    "papermill": {
     "duration": 0.233809,
     "end_time": "2023-12-09T21:36:48.658001",
     "exception": false,
     "start_time": "2023-12-09T21:36:48.424192",
     "status": "completed"
    },
    "tags": []
   },
   "source": [
    "### Depression anonymized"
   ]
  },
  {
   "cell_type": "code",
   "execution_count": null,
   "id": "3a636e8c",
   "metadata": {
    "papermill": {
     "duration": 0.243968,
     "end_time": "2023-12-09T21:36:49.644411",
     "exception": false,
     "start_time": "2023-12-09T21:36:49.400443",
     "status": "completed"
    },
    "tags": []
   },
   "outputs": [
    {
     "name": "stdout",
     "output_type": "stream",
     "text": [
      "epoch_1/\n"
     ]
    },
    {
     "name": "stderr",
     "output_type": "stream",
     "text": [
      "100%|█████████████████████████████████████████████████████████████████████████████████████████████████████████████████████████████████████████████████████████████████| 89/89 [00:03<00:00, 26.42it/s]\n",
      " 15%|███████████████████████▌                                                                                                                                         | 13/89 [00:13<01:13,  1.03it/s]"
     ]
    }
   ],
   "source": [
    "for n_secs in [1, 5, 10, 15, 30, 60]:\n",
    "    epoch_folders = [\"epoch_1/\", \"epoch_3/\"]\n",
    "    picked_channels = [\"fz\", \"cz\", \"pz\"]\n",
    "    picked_channels_tag = \"fz_cz_pz\"\n",
    "    source_freq = 125\n",
    "    target_freq = 128\n",
    "    n_samples_per_chunk = target_freq*n_secs\n",
    "    step = n_samples_per_chunk//10\n",
    "    metadata = DEPR_ANON_DIRECTORY + \"metadata_anonymized.csv\"\n",
    "    \n",
    "    chunks_list = preprocessDepressionAnonymizedData(\n",
    "        DEPR_ANON_DIRECTORY, \n",
    "        epoch_folders, \n",
    "        picked_channels,\n",
    "        target_freq=target_freq,\n",
    "        n_samples_per_chunk=n_samples_per_chunk,\n",
    "        metadata=metadata,\n",
    "        step=step\n",
    "    )\n",
    "    save_preprocessed_data(chunks_list, DEPR_ANON_DIRECTORY + f\"{picked_channels_tag}/dataset_{target_freq}_{n_samples_per_chunk/target_freq:.1f}_{step/target_freq:.1f}.pkl\")"
   ]
  },
  {
   "cell_type": "markdown",
   "id": "4cd5c6b4-79b1-4a73-a0a4-9dca6e3c82d1",
   "metadata": {
    "papermill": {
     "duration": 0.234752,
     "end_time": "2023-12-09T21:36:50.595065",
     "exception": false,
     "start_time": "2023-12-09T21:36:50.360313",
     "status": "completed"
    },
    "tags": []
   },
   "source": [
    "### Inhouse dataset"
   ]
  },
  {
   "cell_type": "code",
   "execution_count": 13,
   "id": "9d275623-a0c5-4ed2-9444-dae0883581f5",
   "metadata": {
    "papermill": {
     "duration": 0.249019,
     "end_time": "2023-12-09T21:36:51.564406",
     "exception": false,
     "start_time": "2023-12-09T21:36:51.315387",
     "status": "completed"
    },
    "tags": []
   },
   "outputs": [
    {
     "name": "stderr",
     "output_type": "stream",
     "text": [
      "100%|███████████████████████████████████████████████████████████████████████████████████████████████████████████████████████████████████| 74/74 [00:10<00:00,  6.75it/s]\n",
      "100%|███████████████████████████████████████████████████████████████████████████████████████████████████████████████████████████████████| 75/75 [00:11<00:00,  6.71it/s]\n",
      "  0%|                                                                                                                                           | 0/149 [00:00<?, ?it/s]\n"
     ]
    },
    {
     "ename": "KeyError",
     "evalue": "\"['T3', 'T4'] not in index\"",
     "output_type": "error",
     "traceback": [
      "\u001b[0;31m---------------------------------------------------------------------------\u001b[0m",
      "\u001b[0;31mKeyError\u001b[0m                                  Traceback (most recent call last)",
      "Cell \u001b[0;32mIn[13], line 10\u001b[0m\n\u001b[1;32m      7\u001b[0m target_freq \u001b[38;5;241m=\u001b[39m \u001b[38;5;241m128\u001b[39m\n\u001b[1;32m      8\u001b[0m n_samples_per_chunk \u001b[38;5;241m=\u001b[39m target_freq\u001b[38;5;241m*\u001b[39mn_secs\n\u001b[0;32m---> 10\u001b[0m chunks_list \u001b[38;5;241m=\u001b[39m \u001b[43mpreprocessInhouseDatasetData\u001b[49m\u001b[43m(\u001b[49m\n\u001b[1;32m     11\u001b[0m \u001b[43m    \u001b[49m\u001b[43mINHOUSE_DIRECTORY\u001b[49m\u001b[43m,\u001b[49m\u001b[43m \u001b[49m\n\u001b[1;32m     12\u001b[0m \u001b[43m    \u001b[49m\u001b[43mdata_folders\u001b[49m\u001b[43m,\u001b[49m\u001b[43m \u001b[49m\n\u001b[1;32m     13\u001b[0m \u001b[43m    \u001b[49m\u001b[43mpicked_channels\u001b[49m\u001b[43m,\u001b[49m\n\u001b[1;32m     14\u001b[0m \u001b[43m    \u001b[49m\u001b[43msource_freq\u001b[49m\u001b[43m \u001b[49m\u001b[38;5;241;43m=\u001b[39;49m\u001b[43m \u001b[49m\u001b[43msource_freq\u001b[49m\u001b[43m,\u001b[49m\n\u001b[1;32m     15\u001b[0m \u001b[43m    \u001b[49m\u001b[43mtarget_freq\u001b[49m\u001b[43m \u001b[49m\u001b[38;5;241;43m=\u001b[39;49m\u001b[43m \u001b[49m\u001b[43mtarget_freq\u001b[49m\u001b[43m,\u001b[49m\n\u001b[1;32m     16\u001b[0m \u001b[43m    \u001b[49m\u001b[43mn_samples_per_chunk\u001b[49m\u001b[43m \u001b[49m\u001b[38;5;241;43m=\u001b[39;49m\u001b[43m \u001b[49m\u001b[43mn_samples_per_chunk\u001b[49m\n\u001b[1;32m     17\u001b[0m \u001b[43m\u001b[49m\u001b[43m)\u001b[49m\n\u001b[1;32m     18\u001b[0m save_preprocessed_data(chunks_list, INHOUSE_DIRECTORY \u001b[38;5;241m+\u001b[39m \u001b[38;5;124mf\u001b[39m\u001b[38;5;124m\"\u001b[39m\u001b[38;5;132;01m{\u001b[39;00mpicked_channels_tag\u001b[38;5;132;01m}\u001b[39;00m\u001b[38;5;124m/dataset_\u001b[39m\u001b[38;5;132;01m{\u001b[39;00mtarget_freq\u001b[38;5;132;01m}\u001b[39;00m\u001b[38;5;124m_\u001b[39m\u001b[38;5;132;01m{\u001b[39;00mn_samples_per_chunk\u001b[38;5;241m/\u001b[39mtarget_freq\u001b[38;5;132;01m:\u001b[39;00m\u001b[38;5;124m.1f\u001b[39m\u001b[38;5;132;01m}\u001b[39;00m\u001b[38;5;124m.pkl\u001b[39m\u001b[38;5;124m\"\u001b[39m)\n",
      "File \u001b[0;32m/work/Autoencoders/utils/data_preprocessing.py:169\u001b[0m, in \u001b[0;36mpreprocessInhouseDatasetData\u001b[0;34m(directory, data_folders, picked_channels, **kwargs)\u001b[0m\n\u001b[1;32m    166\u001b[0m     target \u001b[38;5;241m=\u001b[39m data_epoch_descr[file_mask]\u001b[38;5;241m.\u001b[39miloc[\u001b[38;5;241m0\u001b[39m][\u001b[38;5;124m'\u001b[39m\u001b[38;5;124mtarget\u001b[39m\u001b[38;5;124m'\u001b[39m]\n\u001b[1;32m    168\u001b[0m     \u001b[38;5;28;01mfor\u001b[39;00m chunk \u001b[38;5;129;01min\u001b[39;00m chunks_from_patient:\n\u001b[0;32m--> 169\u001b[0m         image \u001b[38;5;241m=\u001b[39m \u001b[43mchunk\u001b[49m\u001b[43m[\u001b[49m\u001b[43mpicked_channels\u001b[49m\u001b[43m]\u001b[49m\u001b[38;5;241m.\u001b[39mto_numpy()\u001b[38;5;241m.\u001b[39mT\n\u001b[1;32m    170\u001b[0m         chunks_list\u001b[38;5;241m.\u001b[39mappend({\n\u001b[1;32m    171\u001b[0m             \u001b[38;5;124m\"\u001b[39m\u001b[38;5;124mchunk\u001b[39m\u001b[38;5;124m\"\u001b[39m: image,\n\u001b[1;32m    172\u001b[0m             \u001b[38;5;124m\"\u001b[39m\u001b[38;5;124mtarget\u001b[39m\u001b[38;5;124m\"\u001b[39m: target,\n\u001b[1;32m    173\u001b[0m             \u001b[38;5;124m\"\u001b[39m\u001b[38;5;124mpatient\u001b[39m\u001b[38;5;124m\"\u001b[39m: df[\u001b[38;5;124m'\u001b[39m\u001b[38;5;124mfile_name\u001b[39m\u001b[38;5;124m'\u001b[39m]\u001b[38;5;241m.\u001b[39miloc[\u001b[38;5;241m0\u001b[39m]\n\u001b[1;32m    174\u001b[0m         })\n\u001b[1;32m    176\u001b[0m \u001b[38;5;28mprint\u001b[39m(\u001b[38;5;124m\"\u001b[39m\u001b[38;5;130;01m\\n\u001b[39;00m\u001b[38;5;124mChunks shape:\u001b[39m\u001b[38;5;124m\"\u001b[39m, chunks_list[\u001b[38;5;241m0\u001b[39m][\u001b[38;5;124m\"\u001b[39m\u001b[38;5;124mchunk\u001b[39m\u001b[38;5;124m\"\u001b[39m]\u001b[38;5;241m.\u001b[39mshape, \u001b[38;5;124m\"\u001b[39m\u001b[38;5;124mlength:\u001b[39m\u001b[38;5;124m\"\u001b[39m, \u001b[38;5;28mlen\u001b[39m(chunks_list))\n",
      "File \u001b[0;32m/usr/local/lib/python3.8/dist-packages/pandas/core/frame.py:3767\u001b[0m, in \u001b[0;36mDataFrame.__getitem__\u001b[0;34m(self, key)\u001b[0m\n\u001b[1;32m   3765\u001b[0m     \u001b[38;5;28;01mif\u001b[39;00m is_iterator(key):\n\u001b[1;32m   3766\u001b[0m         key \u001b[38;5;241m=\u001b[39m \u001b[38;5;28mlist\u001b[39m(key)\n\u001b[0;32m-> 3767\u001b[0m     indexer \u001b[38;5;241m=\u001b[39m \u001b[38;5;28;43mself\u001b[39;49m\u001b[38;5;241;43m.\u001b[39;49m\u001b[43mcolumns\u001b[49m\u001b[38;5;241;43m.\u001b[39;49m\u001b[43m_get_indexer_strict\u001b[49m\u001b[43m(\u001b[49m\u001b[43mkey\u001b[49m\u001b[43m,\u001b[49m\u001b[43m \u001b[49m\u001b[38;5;124;43m\"\u001b[39;49m\u001b[38;5;124;43mcolumns\u001b[39;49m\u001b[38;5;124;43m\"\u001b[39;49m\u001b[43m)\u001b[49m[\u001b[38;5;241m1\u001b[39m]\n\u001b[1;32m   3769\u001b[0m \u001b[38;5;66;03m# take() does not accept boolean indexers\u001b[39;00m\n\u001b[1;32m   3770\u001b[0m \u001b[38;5;28;01mif\u001b[39;00m \u001b[38;5;28mgetattr\u001b[39m(indexer, \u001b[38;5;124m\"\u001b[39m\u001b[38;5;124mdtype\u001b[39m\u001b[38;5;124m\"\u001b[39m, \u001b[38;5;28;01mNone\u001b[39;00m) \u001b[38;5;241m==\u001b[39m \u001b[38;5;28mbool\u001b[39m:\n",
      "File \u001b[0;32m/usr/local/lib/python3.8/dist-packages/pandas/core/indexes/base.py:5877\u001b[0m, in \u001b[0;36mIndex._get_indexer_strict\u001b[0;34m(self, key, axis_name)\u001b[0m\n\u001b[1;32m   5874\u001b[0m \u001b[38;5;28;01melse\u001b[39;00m:\n\u001b[1;32m   5875\u001b[0m     keyarr, indexer, new_indexer \u001b[38;5;241m=\u001b[39m \u001b[38;5;28mself\u001b[39m\u001b[38;5;241m.\u001b[39m_reindex_non_unique(keyarr)\n\u001b[0;32m-> 5877\u001b[0m \u001b[38;5;28;43mself\u001b[39;49m\u001b[38;5;241;43m.\u001b[39;49m\u001b[43m_raise_if_missing\u001b[49m\u001b[43m(\u001b[49m\u001b[43mkeyarr\u001b[49m\u001b[43m,\u001b[49m\u001b[43m \u001b[49m\u001b[43mindexer\u001b[49m\u001b[43m,\u001b[49m\u001b[43m \u001b[49m\u001b[43maxis_name\u001b[49m\u001b[43m)\u001b[49m\n\u001b[1;32m   5879\u001b[0m keyarr \u001b[38;5;241m=\u001b[39m \u001b[38;5;28mself\u001b[39m\u001b[38;5;241m.\u001b[39mtake(indexer)\n\u001b[1;32m   5880\u001b[0m \u001b[38;5;28;01mif\u001b[39;00m \u001b[38;5;28misinstance\u001b[39m(key, Index):\n\u001b[1;32m   5881\u001b[0m     \u001b[38;5;66;03m# GH 42790 - Preserve name from an Index\u001b[39;00m\n",
      "File \u001b[0;32m/usr/local/lib/python3.8/dist-packages/pandas/core/indexes/base.py:5941\u001b[0m, in \u001b[0;36mIndex._raise_if_missing\u001b[0;34m(self, key, indexer, axis_name)\u001b[0m\n\u001b[1;32m   5938\u001b[0m     \u001b[38;5;28;01mraise\u001b[39;00m \u001b[38;5;167;01mKeyError\u001b[39;00m(\u001b[38;5;124mf\u001b[39m\u001b[38;5;124m\"\u001b[39m\u001b[38;5;124mNone of [\u001b[39m\u001b[38;5;132;01m{\u001b[39;00mkey\u001b[38;5;132;01m}\u001b[39;00m\u001b[38;5;124m] are in the [\u001b[39m\u001b[38;5;132;01m{\u001b[39;00maxis_name\u001b[38;5;132;01m}\u001b[39;00m\u001b[38;5;124m]\u001b[39m\u001b[38;5;124m\"\u001b[39m)\n\u001b[1;32m   5940\u001b[0m not_found \u001b[38;5;241m=\u001b[39m \u001b[38;5;28mlist\u001b[39m(ensure_index(key)[missing_mask\u001b[38;5;241m.\u001b[39mnonzero()[\u001b[38;5;241m0\u001b[39m]]\u001b[38;5;241m.\u001b[39munique())\n\u001b[0;32m-> 5941\u001b[0m \u001b[38;5;28;01mraise\u001b[39;00m \u001b[38;5;167;01mKeyError\u001b[39;00m(\u001b[38;5;124mf\u001b[39m\u001b[38;5;124m\"\u001b[39m\u001b[38;5;132;01m{\u001b[39;00mnot_found\u001b[38;5;132;01m}\u001b[39;00m\u001b[38;5;124m not in index\u001b[39m\u001b[38;5;124m\"\u001b[39m)\n",
      "\u001b[0;31mKeyError\u001b[0m: \"['T3', 'T4'] not in index\""
     ]
    }
   ],
   "source": [
    "for n_secs in [1, 5, 10, 15, 30, 60]:\n",
    "    data_folders = [\"MDD\", \"Health\"]\n",
    "    # picked_channels = [\"Fz\", \"Cz\", \"Pz\"]\n",
    "    picked_channels = [\"O1\", \"O2\", \"T3\", \"T4\"]\n",
    "    picked_channels_tag = \"o1_o2_t3_t4\"\n",
    "    source_freq = 500\n",
    "    target_freq = 128\n",
    "    n_samples_per_chunk = target_freq*n_secs\n",
    "    \n",
    "    chunks_list = preprocessInhouseDatasetData(\n",
    "        INHOUSE_DIRECTORY, \n",
    "        data_folders, \n",
    "        picked_channels,\n",
    "        source_freq = source_freq,\n",
    "        target_freq = target_freq,\n",
    "        n_samples_per_chunk = n_samples_per_chunk\n",
    "    )\n",
    "    save_preprocessed_data(chunks_list, INHOUSE_DIRECTORY + f\"{picked_channels_tag}/dataset_{target_freq}_{n_samples_per_chunk/target_freq:.1f}.pkl\")"
   ]
  },
  {
   "cell_type": "markdown",
   "id": "f0ef479c-7e50-494b-ad92-f272991392f3",
   "metadata": {
    "id": "UPjIv86UpFLV",
    "papermill": {
     "duration": 0.235318,
     "end_time": "2023-12-09T21:36:52.519049",
     "exception": false,
     "start_time": "2023-12-09T21:36:52.283731",
     "status": "completed"
    },
    "tags": []
   },
   "source": [
    "# Data load\n"
   ]
  },
  {
   "cell_type": "code",
   "execution_count": 9,
   "id": "dbcda87c-cda1-4843-8101-e85076536429",
   "metadata": {
    "papermill": {
     "duration": 0.247149,
     "end_time": "2023-12-09T21:36:56.413948",
     "exception": false,
     "start_time": "2023-12-09T21:36:56.166799",
     "status": "completed"
    },
    "tags": []
   },
   "outputs": [],
   "source": [
    "file = DEPR_ANON_DIRECTORY + \"fz_cz_pz/\" + \"dataset_128_15.0_1.5.pkl\"\n",
    "train_set, val_set, test_set = DataReader(file, dataset_type=\"depression_anonymized\").split()\n",
    "\n",
    "# file = TUAB_DIRECTORY + \"dataset_128_1.0.pkl\"\n",
    "# train_set, val_set, test_set = DataReader(file, dataset_type=\"TUAB\").split()\n",
    "\n",
    "# file = INHOUSE_DIRECTORY + \"dataset_128_60.0.pkl\"\n",
    "# train_set, val_set, test_set = DataReader(file, dataset_type=\"inhouse_dataset\").split()\n",
    "\n",
    "chunks_train, chunks_val, chunks_test = train_set[\"chunk\"], val_set[\"chunk\"], test_set[\"chunk\"]\n",
    "targets_train, targets_val, targets_test = train_set[\"target\"], val_set[\"target\"], test_set[\"target\"]"
   ]
  },
  {
   "cell_type": "markdown",
   "id": "6db55b8d-1122-4b47-a9da-157d263f5545",
   "metadata": {
    "id": "mCKrrBsmpFLV",
    "papermill": {
     "duration": 0.233023,
     "end_time": "2023-12-09T21:36:59.917570",
     "exception": false,
     "start_time": "2023-12-09T21:36:59.684547",
     "status": "completed"
    },
    "tags": []
   },
   "source": [
    "# Data exploration"
   ]
  },
  {
   "cell_type": "code",
   "execution_count": 11,
   "id": "03450a09-b214-499b-a054-01609b1fa921",
   "metadata": {
    "papermill": {
     "duration": 2.108034,
     "end_time": "2023-12-09T21:37:05.677069",
     "exception": false,
     "start_time": "2023-12-09T21:37:03.569035",
     "status": "completed"
    },
    "tags": []
   },
   "outputs": [
    {
     "data": {
      "image/png": "[encoded data removed]",
      "text/plain": [
       "<Figure size 1600x200 with 4 Axes>"
      ]
     },
     "metadata": {},
     "output_type": "display_data"
    },
    {
     "data": {
      "image/png": "[encoded data removed]",
      "text/plain": [
       "<Figure size 1600x200 with 4 Axes>"
      ]
     },
     "metadata": {},
     "output_type": "display_data"
    },
    {
     "data": {
      "image/png": "[encoded data removed]",
      "text/plain": [
       "<Figure size 1600x200 with 4 Axes>"
      ]
     },
     "metadata": {},
     "output_type": "display_data"
    }
   ],
   "source": [
    "dataset_hists(train_set, val_set, test_set, chunk_bins=50, chunk_range=(-5, 5))\n",
    "# dataset_hists(train_set, val_set, test_set, chunk_bins=50, chunk_range=(-5, 5), target_bins=10, target_range=(0, 100))"
   ]
  },
  {
   "cell_type": "code",
   "execution_count": 8,
   "id": "332f8c34-ac6d-44ab-8b0d-0c34b291fc21",
   "metadata": {},
   "outputs": [
    {
     "name": "stdout",
     "output_type": "stream",
     "text": [
      "dataset_128_15.0.pkl 712\n",
      "dataset_128_10.0.pkl 1068\n",
      "dataset_128_30.0_3.0.pkl 1958\n",
      "dataset_128_60.0_6.0.pkl 178\n",
      "dataset_128_60.0.pkl 178\n",
      "dataset_128_15.0_1.5.pkl 5518\n",
      "dataset_128_1.0_0.1.pkl 112137\n",
      "dataset_128_5.0.pkl 2136\n",
      "dataset_128_30.0.pkl 356\n",
      "dataset_128_5.0_0.5.pkl 19758\n",
      "dataset_128_10.0_1.0.pkl 9078\n",
      "dataset_128_1.0.pkl 10679\n"
     ]
    }
   ],
   "source": [
    "for file in os.listdir(DEPR_ANON_DIRECTORY + \"fz_cz_pz/\"):\n",
    "    with open(DEPR_ANON_DIRECTORY + \"fz_cz_pz/\" + file, \"rb\") as f: dataset = pickle.load(f)\n",
    "    print(file, len(dataset))"
   ]
  },
  {
   "cell_type": "code",
   "execution_count": null,
   "id": "4badd582-d5f3-460d-aeac-c8d94ec7e2b4",
   "metadata": {},
   "outputs": [],
   "source": []
  }
 ],
 "metadata": {
  "kernelspec": {
   "display_name": "Python 3 (ipykernel)",
   "language": "python",
   "name": "python3"
  },
  "language_info": {
   "codemirror_mode": {
    "name": "ipython",
    "version": 3
   },
   "file_extension": ".py",
   "mimetype": "text/x-python",
   "name": "python",
   "nbconvert_exporter": "python",
   "pygments_lexer": "ipython3",
   "version": "3.10.12"
  }
 },
 "nbformat": 4,
 "nbformat_minor": 5
}
